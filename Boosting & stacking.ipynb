{
 "cells": [
  {
   "cell_type": "markdown",
   "id": "c95ed7fa",
   "metadata": {},
   "source": [
    "3 types of ensemble learning:\n",
    "Bagging,Boosting,Stacking\n",
    "\n",
    "Boosting 3types:Ada boost,gradient boosting,xg boost\n",
    "here we will focus only on adaboost\n",
    "\n",
    "---------------\n",
    "#boosting works sequentially while bagging works paralelly\n",
    "adaboost:\n",
    "#different weithtage to base models .more weithage for mis classified ones.\n",
    "#it works based on decision stump-max depth=1\n",
    "decision stump is done fro each features and then gini index i.e. impurity is calcualted\n",
    "#iitially all gets rows equal weithage then it changes\n",
    "#model1 if classifies some rows as wrong then it is given higher weithage so it will be picked and passed on to next and goes on sequentially.\n",
    "\n",
    "#It is forest of stumps but not trees\n",
    "#based on each model weithage and its prediction,final result is calculated(if out of total 5base models,if 3 says 1, its weithage are calculated and comapared with 0 predicted models and then result is calculated )\n",
    "\n",
    " work with XGboosting later,support vector machine(R or C)\n",
    " \n",
    " --------------------------\n",
    "\n",
    "Stacking:heterogeneous base models(bagging and boosting are homogeneous).it has base models in level 0 and meta model in level1\n",
    "meta models takes output(even u can pass features) of base models and gives final result in stacking\n",
    "base models learns paralelly"
   ]
  },
  {
   "cell_type": "code",
   "execution_count": 1,
   "id": "24a966af",
   "metadata": {},
   "outputs": [],
   "source": [
    "import pandas as pd\n",
    "import numpy as np\n",
    "from matplotlib import pyplot as plt\n",
    "import seaborn as sns\n",
    "import warnings\n",
    "warnings.filterwarnings(\"ignore\")\n",
    "from sklearn.model_selection import cross_val_score\n",
    "from sklearn.model_selection import RepeatedStratifiedKFold"
   ]
  },
  {
   "cell_type": "code",
   "execution_count": 72,
   "id": "f19666f4",
   "metadata": {},
   "outputs": [],
   "source": [
    "# data imports\n",
    "from sklearn.datasets import load_breast_cancer\n",
    "from sklearn.preprocessing import LabelEncoder\n"
   ]
  },
  {
   "cell_type": "code",
   "execution_count": 73,
   "id": "53b71e9b",
   "metadata": {},
   "outputs": [],
   "source": [
    "# load data\n",
    "breast_cancer = load_breast_cancer()\n",
    "X = pd.DataFrame(breast_cancer.data, columns=breast_cancer.feature_names)\n",
    "y = pd.Categorical.from_codes(breast_cancer.target, breast_cancer.target_names)\n",
    "#x[\"target\"]=breast_cancer.target"
   ]
  },
  {
   "cell_type": "code",
   "execution_count": 74,
   "id": "9d4f86c7",
   "metadata": {},
   "outputs": [
    {
     "name": "stdout",
     "output_type": "stream",
     "text": [
      "<class 'pandas.core.frame.DataFrame'>\n",
      "RangeIndex: 569 entries, 0 to 568\n",
      "Data columns (total 30 columns):\n",
      " #   Column                   Non-Null Count  Dtype  \n",
      "---  ------                   --------------  -----  \n",
      " 0   mean radius              569 non-null    float64\n",
      " 1   mean texture             569 non-null    float64\n",
      " 2   mean perimeter           569 non-null    float64\n",
      " 3   mean area                569 non-null    float64\n",
      " 4   mean smoothness          569 non-null    float64\n",
      " 5   mean compactness         569 non-null    float64\n",
      " 6   mean concavity           569 non-null    float64\n",
      " 7   mean concave points      569 non-null    float64\n",
      " 8   mean symmetry            569 non-null    float64\n",
      " 9   mean fractal dimension   569 non-null    float64\n",
      " 10  radius error             569 non-null    float64\n",
      " 11  texture error            569 non-null    float64\n",
      " 12  perimeter error          569 non-null    float64\n",
      " 13  area error               569 non-null    float64\n",
      " 14  smoothness error         569 non-null    float64\n",
      " 15  compactness error        569 non-null    float64\n",
      " 16  concavity error          569 non-null    float64\n",
      " 17  concave points error     569 non-null    float64\n",
      " 18  symmetry error           569 non-null    float64\n",
      " 19  fractal dimension error  569 non-null    float64\n",
      " 20  worst radius             569 non-null    float64\n",
      " 21  worst texture            569 non-null    float64\n",
      " 22  worst perimeter          569 non-null    float64\n",
      " 23  worst area               569 non-null    float64\n",
      " 24  worst smoothness         569 non-null    float64\n",
      " 25  worst compactness        569 non-null    float64\n",
      " 26  worst concavity          569 non-null    float64\n",
      " 27  worst concave points     569 non-null    float64\n",
      " 28  worst symmetry           569 non-null    float64\n",
      " 29  worst fractal dimension  569 non-null    float64\n",
      "dtypes: float64(30)\n",
      "memory usage: 133.5 KB\n"
     ]
    }
   ],
   "source": [
    "X.info()"
   ]
  },
  {
   "cell_type": "code",
   "execution_count": 75,
   "id": "22b19407",
   "metadata": {},
   "outputs": [],
   "source": [
    "# encode data\n",
    "encoder = LabelEncoder()\n",
    "y = pd.Series(encoder.fit_transform(y))"
   ]
  },
  {
   "cell_type": "code",
   "execution_count": 76,
   "id": "1e22b7a1",
   "metadata": {},
   "outputs": [],
   "source": [
    "# We will evaluate all models using repeated stratified k-fold cross-validation, with three repeats and 10 folds.\n",
    "# We will report the mean and standard deviation of the F1-Score of the model across all repeats and folds.?"
   ]
  },
  {
   "cell_type": "code",
   "execution_count": 77,
   "id": "2413fb98",
   "metadata": {},
   "outputs": [],
   "source": [
    "# define lists to gather results for plotting later\n",
    "results, names = list(), list()\n"
   ]
  },
  {
   "cell_type": "markdown",
   "id": "09f13238",
   "metadata": {},
   "source": [
    "### Baseline: Decision Tree Classifier (For comparison)\n"
   ]
  },
  {
   "cell_type": "code",
   "execution_count": 78,
   "id": "eb854f80",
   "metadata": {},
   "outputs": [],
   "source": [
    "from sklearn.tree import DecisionTreeClassifier"
   ]
  },
  {
   "cell_type": "code",
   "execution_count": 79,
   "id": "5266504f",
   "metadata": {},
   "outputs": [
    {
     "name": "stdout",
     "output_type": "stream",
     "text": [
      "F1-Score: 0.909 (0.043)\n"
     ]
    }
   ],
   "source": [
    "# define the model\n",
    "model = DecisionTreeClassifier()\n",
    "# evaluate the model\n",
    "cv = RepeatedStratifiedKFold(n_splits=10, n_repeats=3, random_state=1)\n",
    "n_scores = cross_val_score(model, X,y, scoring='f1', cv=cv, n_jobs=-1, error_score='raise')\n",
    "results.append(n_scores)\n",
    "names.append('cart')\n",
    "# report performance\n",
    "print('F1-Score: %.3f (%.3f)' % (np.mean(n_scores), np.std(n_scores)))\n"
   ]
  },
  {
   "cell_type": "markdown",
   "id": "344e7da1",
   "metadata": {},
   "source": [
    "### Bagging with Random Forest (For comparison)\n"
   ]
  },
  {
   "cell_type": "code",
   "execution_count": 80,
   "id": "6147d313",
   "metadata": {},
   "outputs": [],
   "source": [
    "from sklearn.ensemble import RandomForestClassifier"
   ]
  },
  {
   "cell_type": "code",
   "execution_count": 81,
   "id": "18cdda4b",
   "metadata": {},
   "outputs": [
    {
     "name": "stdout",
     "output_type": "stream",
     "text": [
      "F1-Score: 0.942 (0.039)\n"
     ]
    }
   ],
   "source": [
    "# define the model\n",
    "model = RandomForestClassifier()\n",
    "# evaluate the model\n",
    "cv = RepeatedStratifiedKFold(n_splits=10, n_repeats=3, random_state=1)\n",
    "n_scores = cross_val_score(model, X, y, scoring='f1', cv=cv, n_jobs=-1, error_score='raise')\n",
    "results.append(n_scores)\n",
    "names.append('rf')\n",
    "# report performance\n",
    "print('F1-Score: %.3f (%.3f)' % (np.mean(n_scores), np.std(n_scores)))\n"
   ]
  },
  {
   "cell_type": "markdown",
   "id": "f6ff1aef",
   "metadata": {},
   "source": [
    "### Boosting with Adaboost\n"
   ]
  },
  {
   "cell_type": "code",
   "execution_count": 2,
   "id": "c449bd1a",
   "metadata": {},
   "outputs": [],
   "source": [
    "from sklearn.ensemble import AdaBoostClassifier"
   ]
  },
  {
   "cell_type": "code",
   "execution_count": 83,
   "id": "5d52aa82",
   "metadata": {},
   "outputs": [
    {
     "name": "stdout",
     "output_type": "stream",
     "text": [
      "F1-Score: 0.952 (0.029)\n"
     ]
    }
   ],
   "source": [
    "# define the model\n",
    "model = AdaBoostClassifier()\n",
    "# evaluate the model\n",
    "cv = RepeatedStratifiedKFold(n_splits=10, n_repeats=3, random_state=1)\n",
    "n_scores = cross_val_score(model, X,y, scoring='f1', cv=cv, n_jobs=-1, error_score='raise')\n",
    "results.append(n_scores)\n",
    "names.append('ada')\n",
    "# report performance\n",
    "print('F1-Score: %.3f (%.3f)' % (np.mean(n_scores), np.std(n_scores)))\n"
   ]
  },
  {
   "cell_type": "markdown",
   "id": "c001cb9a",
   "metadata": {},
   "source": [
    "### Stacking\n"
   ]
  },
  {
   "cell_type": "markdown",
   "id": "0082d498",
   "metadata": {},
   "source": [
    "1. For Stacking, first, we choose the base model algorithms. Each algorithm will be evaluated using default model hyperparameters.\n",
    "Logistic Regression. k-Nearest Neighbors. Decision Tree. Support Vector Machine. Naive Bayes.\n",
    "1. Next, we combine these five models into a single ensemble model using stacking.\n",
    "We can use a logistic regression model to learn how to best combine the predictions from each of the separate five models.\n",
    "The get_stacking() function below defines the StackingClassifier model by first defining the five base models, then defining the logistic\n",
    "regression meta-model to combine the predictions from the base models using 5-fold cross-validation."
   ]
  },
  {
   "cell_type": "code",
   "execution_count": 3,
   "id": "b6fb63d7",
   "metadata": {},
   "outputs": [],
   "source": [
    "# required Python libraries\n",
    "from sklearn.linear_model import LogisticRegression\n",
    "from sklearn.neighbors import KNeighborsClassifier\n",
    "from sklearn.tree import DecisionTreeClassifier\n",
    "from sklearn.svm import SVC\n",
    "from sklearn.naive_bayes import GaussianNB\n",
    "from sklearn.ensemble import StackingClassifier\n"
   ]
  },
  {
   "cell_type": "code",
   "execution_count": 85,
   "id": "76fab5b6",
   "metadata": {},
   "outputs": [],
   "source": [
    "# get a stacking ensemble of models\n",
    "def get_stacking():\n",
    "    # define the base models\n",
    "    level0 = list()\n",
    "    level0.append(('lr', LogisticRegression()))\n",
    "    level0.append(('knn', KNeighborsClassifier()))\n",
    "    level0.append(('cart', DecisionTreeClassifier()))\n",
    "    level0.append(('svm', SVC()))\n",
    "    level0.append(('bayes', GaussianNB()))\n",
    "    # define meta learner model\n",
    "    level1 = LogisticRegression()\n",
    "    # define the stacking ensemble\n",
    "    model = StackingClassifier(estimators=level0, final_estimator=level1, cv=5)\n",
    "    return model\n",
    "    "
   ]
  },
  {
   "cell_type": "code",
   "execution_count": 86,
   "id": "9df42516",
   "metadata": {},
   "outputs": [
    {
     "name": "stdout",
     "output_type": "stream",
     "text": [
      "F1-Score: 0.932 (0.042)\n"
     ]
    }
   ],
   "source": [
    "# define the model\n",
    "model = get_stacking()\n",
    "# evaluate the model\n",
    "cv = RepeatedStratifiedKFold(n_splits=10, n_repeats=3, random_state=1)\n",
    "n_scores = cross_val_score(model, X, y, scoring='f1', cv=cv, n_jobs=-1, error_score='raise')\n",
    "results.append(n_scores)\n",
    "names.append('stacking')\n",
    "# report performance\n",
    "print('F1-Score: %.3f (%.3f)' % (np.mean(n_scores), np.std(n_scores)))"
   ]
  },
  {
   "cell_type": "markdown",
   "id": "bb981c05",
   "metadata": {},
   "source": [
    "### Plot for Final Comparison\n"
   ]
  },
  {
   "cell_type": "code",
   "execution_count": 87,
   "id": "2c128598",
   "metadata": {},
   "outputs": [
    {
     "data": {
      "image/png": "[encoded data removed]",
      "text/plain": [
       "<Figure size 432x288 with 1 Axes>"
      ]
     },
     "metadata": {
      "needs_background": "light"
     },
     "output_type": "display_data"
    }
   ],
   "source": [
    " # plot model performance for comparison\n",
    "plt.boxplot(results, labels=names, showmeans=True)\n",
    "plt.show()\n"
   ]
  },
  {
   "cell_type": "code",
   "execution_count": 88,
   "id": "e0055b47",
   "metadata": {},
   "outputs": [],
   "source": [
    "# here rf and ada is giving better performance across different folds\n",
    "#so for this data set we can go with modelling of rf or ada"
   ]
  }
 ],
 "metadata": {
  "kernelspec": {
   "display_name": "Python 3 (ipykernel)",
   "language": "python",
   "name": "python3"
  },
  "language_info": {
   "codemirror_mode": {
    "name": "ipython",
    "version": 3
   },
   "file_extension": ".py",
   "mimetype": "text/x-python",
   "name": "python",
   "nbconvert_exporter": "python",
   "pygments_lexer": "ipython3",
   "version": "3.9.12"
  }
 },
 "nbformat": 4,
 "nbformat_minor": 5
}
