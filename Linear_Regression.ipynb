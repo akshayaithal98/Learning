{
 "cells": [
  {
   "cell_type": "code",
   "execution_count": 1,
   "id": "af3b1063",
   "metadata": {},
   "outputs": [],
   "source": [
    "import pandas as pd\n",
    "import numpy as np\n",
    "import matplotlib.pyplot as plt\n",
    "import seaborn as sb\n",
    "\n",
    "from sklearn import preprocessing\n",
    "from sklearn.preprocessing import MinMaxScaler,StandardScaler,PolynomialFeatures\n",
    "from sklearn.model_selection import train_test_split\n",
    "\n",
    "from sklearn.linear_model import LinearRegression\n",
    "from sklearn.metrics import mean_absolute_error\n",
    "from sklearn.metrics import mean_squared_error"
   ]
  },
  {
   "cell_type": "code",
   "execution_count": 3,
   "id": "cd20a347",
   "metadata": {},
   "outputs": [],
   "source": [
    "df=pd.read_csv(\"DS2_C5_S2_WeatherHistory_Data_Concept.csv\")\n",
    "df1=df.copy()"
   ]
  },
  {
   "cell_type": "code",
   "execution_count": 4,
   "id": "b0b9a372",
   "metadata": {},
   "outputs": [
    {
     "data": {
      "text/html": [
       "<div>\n",
       "<style scoped>\n",
       "    .dataframe tbody tr th:only-of-type {\n",
       "        vertical-align: middle;\n",
       "    }\n",
       "\n",
       "    .dataframe tbody tr th {\n",
       "        vertical-align: top;\n",
       "    }\n",
       "\n",
       "    .dataframe thead th {\n",
       "        text-align: right;\n",
       "    }\n",
       "</style>\n",
       "<table border=\"1\" class=\"dataframe\">\n",
       "  <thead>\n",
       "    <tr style=\"text-align: right;\">\n",
       "      <th></th>\n",
       "      <th>Formatted Date</th>\n",
       "      <th>Summary</th>\n",
       "      <th>Precip Type</th>\n",
       "      <th>Temperature (C)</th>\n",
       "      <th>Apparent Temperature (C)</th>\n",
       "      <th>Humidity</th>\n",
       "      <th>Wind Speed (km/h)</th>\n",
       "      <th>Wind Bearing (degrees)</th>\n",
       "      <th>Visibility (km)</th>\n",
       "      <th>Loud Cover</th>\n",
       "      <th>Pressure (millibars)</th>\n",
       "      <th>Daily Summary</th>\n",
       "    </tr>\n",
       "  </thead>\n",
       "  <tbody>\n",
       "    <tr>\n",
       "      <th>0</th>\n",
       "      <td>2006-04-01 00:00:00.000 +0200</td>\n",
       "      <td>Partly Cloudy</td>\n",
       "      <td>rain</td>\n",
       "      <td>9.47</td>\n",
       "      <td>7.39</td>\n",
       "      <td>0.89</td>\n",
       "      <td>14.12</td>\n",
       "      <td>251.0</td>\n",
       "      <td>15.83</td>\n",
       "      <td>0.0</td>\n",
       "      <td>1015.13</td>\n",
       "      <td>Partly cloudy throughout the day.</td>\n",
       "    </tr>\n",
       "    <tr>\n",
       "      <th>1</th>\n",
       "      <td>2006-04-01 01:00:00.000 +0200</td>\n",
       "      <td>Partly Cloudy</td>\n",
       "      <td>rain</td>\n",
       "      <td>9.36</td>\n",
       "      <td>7.23</td>\n",
       "      <td>0.86</td>\n",
       "      <td>14.26</td>\n",
       "      <td>259.0</td>\n",
       "      <td>15.83</td>\n",
       "      <td>0.0</td>\n",
       "      <td>1015.63</td>\n",
       "      <td>Partly cloudy throughout the day.</td>\n",
       "    </tr>\n",
       "    <tr>\n",
       "      <th>2</th>\n",
       "      <td>2006-04-01 02:00:00.000 +0200</td>\n",
       "      <td>Mostly Cloudy</td>\n",
       "      <td>rain</td>\n",
       "      <td>9.38</td>\n",
       "      <td>9.38</td>\n",
       "      <td>0.89</td>\n",
       "      <td>3.93</td>\n",
       "      <td>204.0</td>\n",
       "      <td>14.96</td>\n",
       "      <td>0.0</td>\n",
       "      <td>1015.94</td>\n",
       "      <td>Partly cloudy throughout the day.</td>\n",
       "    </tr>\n",
       "    <tr>\n",
       "      <th>3</th>\n",
       "      <td>2006-04-01 03:00:00.000 +0200</td>\n",
       "      <td>Partly Cloudy</td>\n",
       "      <td>rain</td>\n",
       "      <td>8.29</td>\n",
       "      <td>5.94</td>\n",
       "      <td>0.83</td>\n",
       "      <td>14.10</td>\n",
       "      <td>269.0</td>\n",
       "      <td>15.83</td>\n",
       "      <td>0.0</td>\n",
       "      <td>1016.41</td>\n",
       "      <td>Partly cloudy throughout the day.</td>\n",
       "    </tr>\n",
       "    <tr>\n",
       "      <th>4</th>\n",
       "      <td>2006-04-01 04:00:00.000 +0200</td>\n",
       "      <td>Mostly Cloudy</td>\n",
       "      <td>rain</td>\n",
       "      <td>8.76</td>\n",
       "      <td>6.98</td>\n",
       "      <td>0.83</td>\n",
       "      <td>11.04</td>\n",
       "      <td>259.0</td>\n",
       "      <td>15.83</td>\n",
       "      <td>0.0</td>\n",
       "      <td>1016.51</td>\n",
       "      <td>Partly cloudy throughout the day.</td>\n",
       "    </tr>\n",
       "  </tbody>\n",
       "</table>\n",
       "</div>"
      ],
      "text/plain": [
       "                  Formatted Date        Summary Precip Type  Temperature (C)  \\\n",
       "0  2006-04-01 00:00:00.000 +0200  Partly Cloudy        rain             9.47   \n",
       "1  2006-04-01 01:00:00.000 +0200  Partly Cloudy        rain             9.36   \n",
       "2  2006-04-01 02:00:00.000 +0200  Mostly Cloudy        rain             9.38   \n",
       "3  2006-04-01 03:00:00.000 +0200  Partly Cloudy        rain             8.29   \n",
       "4  2006-04-01 04:00:00.000 +0200  Mostly Cloudy        rain             8.76   \n",
       "\n",
       "   Apparent Temperature (C)  Humidity  Wind Speed (km/h)  \\\n",
       "0                      7.39      0.89              14.12   \n",
       "1                      7.23      0.86              14.26   \n",
       "2                      9.38      0.89               3.93   \n",
       "3                      5.94      0.83              14.10   \n",
       "4                      6.98      0.83              11.04   \n",
       "\n",
       "   Wind Bearing (degrees)  Visibility (km)  Loud Cover  Pressure (millibars)  \\\n",
       "0                   251.0            15.83         0.0               1015.13   \n",
       "1                   259.0            15.83         0.0               1015.63   \n",
       "2                   204.0            14.96         0.0               1015.94   \n",
       "3                   269.0            15.83         0.0               1016.41   \n",
       "4                   259.0            15.83         0.0               1016.51   \n",
       "\n",
       "                       Daily Summary  \n",
       "0  Partly cloudy throughout the day.  \n",
       "1  Partly cloudy throughout the day.  \n",
       "2  Partly cloudy throughout the day.  \n",
       "3  Partly cloudy throughout the day.  \n",
       "4  Partly cloudy throughout the day.  "
      ]
     },
     "execution_count": 4,
     "metadata": {},
     "output_type": "execute_result"
    }
   ],
   "source": [
    "df.head()"
   ]
  },
  {
   "cell_type": "code",
   "execution_count": 5,
   "id": "c33f63fd",
   "metadata": {},
   "outputs": [],
   "source": [
    "#can we predict temperature given humidity"
   ]
  },
  {
   "cell_type": "code",
   "execution_count": 6,
   "id": "d8e915e5",
   "metadata": {},
   "outputs": [],
   "source": [
    "x=df[\"Humidity\"]\n",
    "y=df['Temperature (C)']"
   ]
  },
  {
   "cell_type": "code",
   "execution_count": 7,
   "id": "4a963ca8",
   "metadata": {},
   "outputs": [
    {
     "data": {
      "text/plain": [
       "Text(0, 0.5, 'Temp')"
      ]
     },
     "execution_count": 7,
     "metadata": {},
     "output_type": "execute_result"
    },
    {
     "data": {
      "image/png": "[encoded data removed]",
      "text/plain": [
       "<Figure size 432x288 with 1 Axes>"
      ]
     },
     "metadata": {
      "needs_background": "light"
     },
     "output_type": "display_data"
    }
   ],
   "source": [
    "plt.scatter(x,y)\n",
    "plt.xlabel(\"humidity\")\n",
    "plt.ylabel(\"Temp\")"
   ]
  },
  {
   "cell_type": "code",
   "execution_count": 8,
   "id": "285d401a",
   "metadata": {},
   "outputs": [
    {
     "data": {
      "text/plain": [
       "-0.6322527136083689"
      ]
     },
     "execution_count": 8,
     "metadata": {},
     "output_type": "execute_result"
    }
   ],
   "source": [
    "x.corr(y)"
   ]
  },
  {
   "cell_type": "code",
   "execution_count": 9,
   "id": "43707596",
   "metadata": {},
   "outputs": [],
   "source": [
    "#since we are dealing with only 2 numerical no use of encoding"
   ]
  },
  {
   "cell_type": "code",
   "execution_count": 10,
   "id": "0bf3cfba",
   "metadata": {},
   "outputs": [],
   "source": [
    "scale=\"minmax\""
   ]
  },
  {
   "cell_type": "code",
   "execution_count": 11,
   "id": "d3469604",
   "metadata": {},
   "outputs": [],
   "source": [
    "def feature_scale(scale):\n",
    "    numerics=[\"int16\",\"int32\",\"int64\",\"float16\",\"float32\",\"float64\"]\n",
    "    new_df=df.select_dtypes(include=numerics)\n",
    "    if scale==\"minmax\":\n",
    "        scaler=MinMaxScaler()\n",
    "    else:\n",
    "        scaler=StandardScaler()\n",
    "    df_scaled=pd.DataFrame(scaler.fit_transform(new_df),columns=new_df.columns)\n",
    "    return df_scaled"
   ]
  },
  {
   "cell_type": "code",
   "execution_count": 13,
   "id": "be4c706b",
   "metadata": {},
   "outputs": [],
   "source": [
    "df_s=feature_scale(scale)"
   ]
  },
  {
   "cell_type": "code",
   "execution_count": 15,
   "id": "bbf8127d",
   "metadata": {},
   "outputs": [
    {
     "data": {
      "text/plain": [
       "0    0.983230\n",
       "1    0.983230\n",
       "2    0.929193\n",
       "3    0.983230\n",
       "4    0.983230\n",
       "Name: Visibility (km), dtype: float64"
      ]
     },
     "execution_count": 15,
     "metadata": {},
     "output_type": "execute_result"
    }
   ],
   "source": [
    "df_s[\"Visibility (km)\"].head()"
   ]
  },
  {
   "cell_type": "code",
   "execution_count": 16,
   "id": "6332ce88",
   "metadata": {},
   "outputs": [
    {
     "data": {
      "text/plain": [
       "0    15.83\n",
       "1    15.83\n",
       "2    14.96\n",
       "3    15.83\n",
       "4    15.83\n",
       "Name: Visibility (km), dtype: float64"
      ]
     },
     "execution_count": 16,
     "metadata": {},
     "output_type": "execute_result"
    }
   ],
   "source": [
    "df[\"Visibility (km)\"].head()"
   ]
  },
  {
   "cell_type": "code",
   "execution_count": 18,
   "id": "6ea0d636",
   "metadata": {},
   "outputs": [
    {
     "data": {
      "text/plain": [
       "(0.0, 16.1)"
      ]
     },
     "execution_count": 18,
     "metadata": {},
     "output_type": "execute_result"
    }
   ],
   "source": [
    "df[\"Visibility (km)\"].min(),df[\"Visibility (km)\"].max()"
   ]
  },
  {
   "cell_type": "code",
   "execution_count": 19,
   "id": "2bedaa55",
   "metadata": {},
   "outputs": [
    {
     "data": {
      "text/plain": [
       "0.9832298136645962"
      ]
     },
     "execution_count": 19,
     "metadata": {},
     "output_type": "execute_result"
    }
   ],
   "source": [
    "15.83/16.1"
   ]
  },
  {
   "cell_type": "code",
   "execution_count": 26,
   "id": "bab60275",
   "metadata": {},
   "outputs": [],
   "source": [
    "x=df[\"Humidity\"]\n",
    "y=df[\"Temperature (C)\"]"
   ]
  },
  {
   "cell_type": "code",
   "execution_count": 27,
   "id": "1918c46c",
   "metadata": {},
   "outputs": [
    {
     "data": {
      "text/plain": [
       "0        0.89\n",
       "1        0.86\n",
       "2        0.89\n",
       "3        0.83\n",
       "4        0.83\n",
       "         ... \n",
       "96448    0.43\n",
       "96449    0.48\n",
       "96450    0.56\n",
       "96451    0.60\n",
       "96452    0.61\n",
       "Name: Humidity, Length: 96453, dtype: float64"
      ]
     },
     "execution_count": 27,
     "metadata": {},
     "output_type": "execute_result"
    }
   ],
   "source": [
    "x"
   ]
  },
  {
   "cell_type": "code",
   "execution_count": 28,
   "id": "43c5c060",
   "metadata": {},
   "outputs": [],
   "source": [
    "x_train,x_test,y_train,y_test=train_test_split(x,y,test_size=0.3, random_state=30)"
   ]
  },
  {
   "cell_type": "code",
   "execution_count": 29,
   "id": "7db6f979",
   "metadata": {},
   "outputs": [
    {
     "data": {
      "text/plain": [
       "pandas.core.series.Series"
      ]
     },
     "execution_count": 29,
     "metadata": {},
     "output_type": "execute_result"
    }
   ],
   "source": [
    "type(x_train)"
   ]
  },
  {
   "cell_type": "code",
   "execution_count": 30,
   "id": "463cd321",
   "metadata": {},
   "outputs": [],
   "source": [
    "#training"
   ]
  },
  {
   "cell_type": "code",
   "execution_count": 31,
   "id": "865c6eb9",
   "metadata": {},
   "outputs": [],
   "source": [
    "#reshape if you have one feature using reshape\n",
    "#-1 in row means unknown no of rows"
   ]
  },
  {
   "cell_type": "code",
   "execution_count": 32,
   "id": "04f80de2",
   "metadata": {},
   "outputs": [],
   "source": [
    "x_train=x_train.values.reshape(-1,1)\n",
    "y_train=y_train.values.reshape(-1,1)\n",
    "x_test=x_test.values.reshape(-1,1)"
   ]
  },
  {
   "cell_type": "code",
   "execution_count": 33,
   "id": "34d780ad",
   "metadata": {},
   "outputs": [],
   "source": [
    "model=LinearRegression().fit(x_train,y_train)"
   ]
  },
  {
   "cell_type": "code",
   "execution_count": 34,
   "id": "85ecf122",
   "metadata": {},
   "outputs": [
    {
     "data": {
      "text/plain": [
       "LinearRegression()"
      ]
     },
     "execution_count": 34,
     "metadata": {},
     "output_type": "execute_result"
    }
   ],
   "source": [
    "model"
   ]
  },
  {
   "cell_type": "code",
   "execution_count": 35,
   "id": "9d0c05aa",
   "metadata": {},
   "outputs": [],
   "source": [
    "#coefficient_of_determination"
   ]
  },
  {
   "cell_type": "code",
   "execution_count": 36,
   "id": "61f3a443",
   "metadata": {},
   "outputs": [],
   "source": [
    "coefficient_of_determination=model.score(x_train,y_train)"
   ]
  },
  {
   "cell_type": "code",
   "execution_count": 37,
   "id": "bc03b7df",
   "metadata": {},
   "outputs": [
    {
     "data": {
      "text/plain": [
       "0.3977352606320298"
      ]
     },
     "execution_count": 37,
     "metadata": {},
     "output_type": "execute_result"
    }
   ],
   "source": [
    "coefficient_of_determination"
   ]
  },
  {
   "cell_type": "code",
   "execution_count": 38,
   "id": "01293a05",
   "metadata": {},
   "outputs": [],
   "source": [
    "#model parameters\n",
    "#y intercept,slope"
   ]
  },
  {
   "cell_type": "code",
   "execution_count": 39,
   "id": "ac07fcff",
   "metadata": {},
   "outputs": [
    {
     "data": {
      "text/plain": [
       "array([34.61492371])"
      ]
     },
     "execution_count": 39,
     "metadata": {},
     "output_type": "execute_result"
    }
   ],
   "source": [
    "model.intercept_"
   ]
  },
  {
   "cell_type": "code",
   "execution_count": 40,
   "id": "7f635108",
   "metadata": {},
   "outputs": [
    {
     "data": {
      "text/plain": [
       "array([[-30.85172605]])"
      ]
     },
     "execution_count": 40,
     "metadata": {},
     "output_type": "execute_result"
    }
   ],
   "source": [
    "model.coef_"
   ]
  },
  {
   "cell_type": "code",
   "execution_count": 41,
   "id": "3f2852c6",
   "metadata": {},
   "outputs": [],
   "source": [
    "#evaluation\n",
    "#here we are getting predicted value of model"
   ]
  },
  {
   "cell_type": "code",
   "execution_count": 42,
   "id": "12c32538",
   "metadata": {},
   "outputs": [],
   "source": [
    "y_predict=model.predict(x_test)"
   ]
  },
  {
   "cell_type": "code",
   "execution_count": 43,
   "id": "0c88c247",
   "metadata": {},
   "outputs": [
    {
     "data": {
      "text/plain": [
       "array([[ 7.77392205],\n",
       "       [15.48685356],\n",
       "       [16.41240534],\n",
       "       ...,\n",
       "       [14.56130178],\n",
       "       [ 9.93354287],\n",
       "       [ 5.92281849]])"
      ]
     },
     "execution_count": 43,
     "metadata": {},
     "output_type": "execute_result"
    }
   ],
   "source": [
    "y_predict"
   ]
  },
  {
   "cell_type": "code",
   "execution_count": 44,
   "id": "8ed4d9ce",
   "metadata": {},
   "outputs": [],
   "source": [
    "a=y_predict.flatten()"
   ]
  },
  {
   "cell_type": "code",
   "execution_count": 45,
   "id": "62ea04a9",
   "metadata": {},
   "outputs": [],
   "source": [
    "b=y_test.to_numpy()"
   ]
  },
  {
   "cell_type": "code",
   "execution_count": 46,
   "id": "c500349b",
   "metadata": {},
   "outputs": [
    {
     "data": {
      "text/plain": [
       "(28936,)"
      ]
     },
     "execution_count": 46,
     "metadata": {},
     "output_type": "execute_result"
    }
   ],
   "source": [
    "a.shape"
   ]
  },
  {
   "cell_type": "code",
   "execution_count": 47,
   "id": "b890eafd",
   "metadata": {},
   "outputs": [],
   "source": [
    "dataset = pd.DataFrame({'predict': a, 'actual': b}, columns=['predict', 'actual'])"
   ]
  },
  {
   "cell_type": "code",
   "execution_count": 48,
   "id": "e0218824",
   "metadata": {},
   "outputs": [
    {
     "data": {
      "text/html": [
       "<div>\n",
       "<style scoped>\n",
       "    .dataframe tbody tr th:only-of-type {\n",
       "        vertical-align: middle;\n",
       "    }\n",
       "\n",
       "    .dataframe tbody tr th {\n",
       "        vertical-align: top;\n",
       "    }\n",
       "\n",
       "    .dataframe thead th {\n",
       "        text-align: right;\n",
       "    }\n",
       "</style>\n",
       "<table border=\"1\" class=\"dataframe\">\n",
       "  <thead>\n",
       "    <tr style=\"text-align: right;\">\n",
       "      <th></th>\n",
       "      <th>predict</th>\n",
       "      <th>actual</th>\n",
       "    </tr>\n",
       "  </thead>\n",
       "  <tbody>\n",
       "    <tr>\n",
       "      <th>0</th>\n",
       "      <td>7.773922</td>\n",
       "      <td>1.05</td>\n",
       "    </tr>\n",
       "    <tr>\n",
       "      <th>1</th>\n",
       "      <td>15.486854</td>\n",
       "      <td>12.57</td>\n",
       "    </tr>\n",
       "    <tr>\n",
       "      <th>2</th>\n",
       "      <td>16.412405</td>\n",
       "      <td>9.31</td>\n",
       "    </tr>\n",
       "    <tr>\n",
       "      <th>3</th>\n",
       "      <td>15.178336</td>\n",
       "      <td>22.34</td>\n",
       "    </tr>\n",
       "    <tr>\n",
       "      <th>4</th>\n",
       "      <td>10.550577</td>\n",
       "      <td>-2.89</td>\n",
       "    </tr>\n",
       "    <tr>\n",
       "      <th>...</th>\n",
       "      <td>...</td>\n",
       "      <td>...</td>\n",
       "    </tr>\n",
       "    <tr>\n",
       "      <th>28931</th>\n",
       "      <td>9.007991</td>\n",
       "      <td>12.82</td>\n",
       "    </tr>\n",
       "    <tr>\n",
       "      <th>28932</th>\n",
       "      <td>15.178336</td>\n",
       "      <td>20.53</td>\n",
       "    </tr>\n",
       "    <tr>\n",
       "      <th>28933</th>\n",
       "      <td>14.561302</td>\n",
       "      <td>17.09</td>\n",
       "    </tr>\n",
       "    <tr>\n",
       "      <th>28934</th>\n",
       "      <td>9.933543</td>\n",
       "      <td>16.09</td>\n",
       "    </tr>\n",
       "    <tr>\n",
       "      <th>28935</th>\n",
       "      <td>5.922818</td>\n",
       "      <td>2.08</td>\n",
       "    </tr>\n",
       "  </tbody>\n",
       "</table>\n",
       "<p>28936 rows × 2 columns</p>\n",
       "</div>"
      ],
      "text/plain": [
       "         predict  actual\n",
       "0       7.773922    1.05\n",
       "1      15.486854   12.57\n",
       "2      16.412405    9.31\n",
       "3      15.178336   22.34\n",
       "4      10.550577   -2.89\n",
       "...          ...     ...\n",
       "28931   9.007991   12.82\n",
       "28932  15.178336   20.53\n",
       "28933  14.561302   17.09\n",
       "28934   9.933543   16.09\n",
       "28935   5.922818    2.08\n",
       "\n",
       "[28936 rows x 2 columns]"
      ]
     },
     "execution_count": 48,
     "metadata": {},
     "output_type": "execute_result"
    }
   ],
   "source": [
    "dataset"
   ]
  },
  {
   "cell_type": "code",
   "execution_count": 49,
   "id": "438c8619",
   "metadata": {},
   "outputs": [],
   "source": [
    "MSE=mean_squared_error(y_test,y_predict)\n",
    "MAE=mean_absolute_error(y_test,y_predict)\n",
    "RMSE=mean_squared_error(y_test,y_predict,squared=False)"
   ]
  },
  {
   "cell_type": "code",
   "execution_count": 50,
   "id": "f20f920a",
   "metadata": {},
   "outputs": [
    {
     "data": {
      "text/plain": [
       "(54.195413910383856, 6.007856176665762, 7.361753453517976)"
      ]
     },
     "execution_count": 50,
     "metadata": {},
     "output_type": "execute_result"
    }
   ],
   "source": [
    "MSE,MAE,RMSE"
   ]
  },
  {
   "cell_type": "code",
   "execution_count": 51,
   "id": "1574c049",
   "metadata": {},
   "outputs": [
    {
     "data": {
      "text/plain": [
       "[<matplotlib.lines.Line2D at 0x2bec48aec10>]"
      ]
     },
     "execution_count": 51,
     "metadata": {},
     "output_type": "execute_result"
    },
    {
     "data": {
      "image/png": "[encoded data removed]",
      "text/plain": [
       "<Figure size 432x288 with 1 Axes>"
      ]
     },
     "metadata": {
      "needs_background": "light"
     },
     "output_type": "display_data"
    }
   ],
   "source": [
    "plt.scatter(x_test,y_test)\n",
    "plt.plot(x_test,y_predict,color=\"red\")"
   ]
  },
  {
   "cell_type": "code",
   "execution_count": 52,
   "id": "7f03e27f",
   "metadata": {},
   "outputs": [],
   "source": [
    "#y=mx+c\n",
    "#temparature=humidity*(model.coef)_ + model.intercept_"
   ]
  },
  {
   "cell_type": "markdown",
   "id": "ab3c223d",
   "metadata": {},
   "source": [
    "# Multiple linear regression analysis"
   ]
  },
  {
   "cell_type": "code",
   "execution_count": 53,
   "id": "2e0722ca",
   "metadata": {},
   "outputs": [
    {
     "data": {
      "text/html": [
       "<div>\n",
       "<style scoped>\n",
       "    .dataframe tbody tr th:only-of-type {\n",
       "        vertical-align: middle;\n",
       "    }\n",
       "\n",
       "    .dataframe tbody tr th {\n",
       "        vertical-align: top;\n",
       "    }\n",
       "\n",
       "    .dataframe thead th {\n",
       "        text-align: right;\n",
       "    }\n",
       "</style>\n",
       "<table border=\"1\" class=\"dataframe\">\n",
       "  <thead>\n",
       "    <tr style=\"text-align: right;\">\n",
       "      <th></th>\n",
       "      <th>Temperature (C)</th>\n",
       "      <th>Apparent Temperature (C)</th>\n",
       "      <th>Humidity</th>\n",
       "      <th>Wind Speed (km/h)</th>\n",
       "      <th>Wind Bearing (degrees)</th>\n",
       "      <th>Visibility (km)</th>\n",
       "      <th>Loud Cover</th>\n",
       "      <th>Pressure (millibars)</th>\n",
       "    </tr>\n",
       "  </thead>\n",
       "  <tbody>\n",
       "    <tr>\n",
       "      <th>Temperature (C)</th>\n",
       "      <td>1.000000</td>\n",
       "      <td>0.992628</td>\n",
       "      <td>-0.632253</td>\n",
       "      <td>0.008957</td>\n",
       "      <td>0.029988</td>\n",
       "      <td>0.392781</td>\n",
       "      <td>NaN</td>\n",
       "      <td>-0.005447</td>\n",
       "    </tr>\n",
       "    <tr>\n",
       "      <th>Apparent Temperature (C)</th>\n",
       "      <td>0.992628</td>\n",
       "      <td>1.000000</td>\n",
       "      <td>-0.602570</td>\n",
       "      <td>-0.056649</td>\n",
       "      <td>0.029030</td>\n",
       "      <td>0.381658</td>\n",
       "      <td>NaN</td>\n",
       "      <td>-0.000218</td>\n",
       "    </tr>\n",
       "    <tr>\n",
       "      <th>Humidity</th>\n",
       "      <td>-0.632253</td>\n",
       "      <td>-0.602570</td>\n",
       "      <td>1.000000</td>\n",
       "      <td>-0.224951</td>\n",
       "      <td>0.000735</td>\n",
       "      <td>-0.369077</td>\n",
       "      <td>NaN</td>\n",
       "      <td>0.005454</td>\n",
       "    </tr>\n",
       "    <tr>\n",
       "      <th>Wind Speed (km/h)</th>\n",
       "      <td>0.008957</td>\n",
       "      <td>-0.056649</td>\n",
       "      <td>-0.224951</td>\n",
       "      <td>1.000000</td>\n",
       "      <td>0.103823</td>\n",
       "      <td>0.100745</td>\n",
       "      <td>NaN</td>\n",
       "      <td>-0.049260</td>\n",
       "    </tr>\n",
       "    <tr>\n",
       "      <th>Wind Bearing (degrees)</th>\n",
       "      <td>0.029988</td>\n",
       "      <td>0.029030</td>\n",
       "      <td>0.000735</td>\n",
       "      <td>0.103823</td>\n",
       "      <td>1.000000</td>\n",
       "      <td>0.047614</td>\n",
       "      <td>NaN</td>\n",
       "      <td>-0.011651</td>\n",
       "    </tr>\n",
       "    <tr>\n",
       "      <th>Visibility (km)</th>\n",
       "      <td>0.392781</td>\n",
       "      <td>0.381658</td>\n",
       "      <td>-0.369077</td>\n",
       "      <td>0.100745</td>\n",
       "      <td>0.047614</td>\n",
       "      <td>1.000000</td>\n",
       "      <td>NaN</td>\n",
       "      <td>0.059826</td>\n",
       "    </tr>\n",
       "    <tr>\n",
       "      <th>Loud Cover</th>\n",
       "      <td>NaN</td>\n",
       "      <td>NaN</td>\n",
       "      <td>NaN</td>\n",
       "      <td>NaN</td>\n",
       "      <td>NaN</td>\n",
       "      <td>NaN</td>\n",
       "      <td>NaN</td>\n",
       "      <td>NaN</td>\n",
       "    </tr>\n",
       "    <tr>\n",
       "      <th>Pressure (millibars)</th>\n",
       "      <td>-0.005447</td>\n",
       "      <td>-0.000218</td>\n",
       "      <td>0.005454</td>\n",
       "      <td>-0.049260</td>\n",
       "      <td>-0.011651</td>\n",
       "      <td>0.059826</td>\n",
       "      <td>NaN</td>\n",
       "      <td>1.000000</td>\n",
       "    </tr>\n",
       "  </tbody>\n",
       "</table>\n",
       "</div>"
      ],
      "text/plain": [
       "                          Temperature (C)  Apparent Temperature (C)  Humidity  \\\n",
       "Temperature (C)                  1.000000                  0.992628 -0.632253   \n",
       "Apparent Temperature (C)         0.992628                  1.000000 -0.602570   \n",
       "Humidity                        -0.632253                 -0.602570  1.000000   \n",
       "Wind Speed (km/h)                0.008957                 -0.056649 -0.224951   \n",
       "Wind Bearing (degrees)           0.029988                  0.029030  0.000735   \n",
       "Visibility (km)                  0.392781                  0.381658 -0.369077   \n",
       "Loud Cover                            NaN                       NaN       NaN   \n",
       "Pressure (millibars)            -0.005447                 -0.000218  0.005454   \n",
       "\n",
       "                          Wind Speed (km/h)  Wind Bearing (degrees)  \\\n",
       "Temperature (C)                    0.008957                0.029988   \n",
       "Apparent Temperature (C)          -0.056649                0.029030   \n",
       "Humidity                          -0.224951                0.000735   \n",
       "Wind Speed (km/h)                  1.000000                0.103823   \n",
       "Wind Bearing (degrees)             0.103823                1.000000   \n",
       "Visibility (km)                    0.100745                0.047614   \n",
       "Loud Cover                              NaN                     NaN   \n",
       "Pressure (millibars)              -0.049260               -0.011651   \n",
       "\n",
       "                          Visibility (km)  Loud Cover  Pressure (millibars)  \n",
       "Temperature (C)                  0.392781         NaN             -0.005447  \n",
       "Apparent Temperature (C)         0.381658         NaN             -0.000218  \n",
       "Humidity                        -0.369077         NaN              0.005454  \n",
       "Wind Speed (km/h)                0.100745         NaN             -0.049260  \n",
       "Wind Bearing (degrees)           0.047614         NaN             -0.011651  \n",
       "Visibility (km)                  1.000000         NaN              0.059826  \n",
       "Loud Cover                            NaN         NaN                   NaN  \n",
       "Pressure (millibars)             0.059826         NaN              1.000000  "
      ]
     },
     "execution_count": 53,
     "metadata": {},
     "output_type": "execute_result"
    }
   ],
   "source": [
    "c=df1.corr()\n",
    "c"
   ]
  },
  {
   "cell_type": "code",
   "execution_count": 54,
   "id": "82cdcc41",
   "metadata": {},
   "outputs": [
    {
     "data": {
      "text/plain": [
       "<AxesSubplot:>"
      ]
     },
     "execution_count": 54,
     "metadata": {},
     "output_type": "execute_result"
    },
    {
     "data": {
      "image/png": "[encoded data removed]",
      "text/plain": [
       "<Figure size 432x288 with 2 Axes>"
      ]
     },
     "metadata": {
      "needs_background": "light"
     },
     "output_type": "display_data"
    }
   ],
   "source": [
    "sb.heatmap(c,annot=True)"
   ]
  },
  {
   "cell_type": "code",
   "execution_count": 55,
   "id": "76de92d6",
   "metadata": {},
   "outputs": [],
   "source": [
    "#target variable is temp\n",
    "#with this humidity has high corr\n",
    "#followed by visibility\n",
    "#but visibility is also correlated with humidity\n",
    "#so lets consider wind speed"
   ]
  },
  {
   "cell_type": "code",
   "execution_count": 56,
   "id": "61c814ef",
   "metadata": {},
   "outputs": [
    {
     "name": "stdout",
     "output_type": "stream",
     "text": [
      "Humidity                   -0.632253\n",
      "Pressure (millibars)       -0.005447\n",
      "Wind Speed (km/h)           0.008957\n",
      "Wind Bearing (degrees)      0.029988\n",
      "Visibility (km)             0.392781\n",
      "Apparent Temperature (C)    0.992628\n",
      "Temperature (C)             1.000000\n",
      "Loud Cover                       NaN\n",
      "Name: Temperature (C), dtype: float64\n"
     ]
    }
   ],
   "source": [
    "for i in c:\n",
    "    if i==\"Temperature (C)\":\n",
    "        print(c[i].sort_values())"
   ]
  },
  {
   "cell_type": "code",
   "execution_count": 57,
   "id": "a89634de",
   "metadata": {},
   "outputs": [
    {
     "data": {
      "text/html": [
       "<div>\n",
       "<style scoped>\n",
       "    .dataframe tbody tr th:only-of-type {\n",
       "        vertical-align: middle;\n",
       "    }\n",
       "\n",
       "    .dataframe tbody tr th {\n",
       "        vertical-align: top;\n",
       "    }\n",
       "\n",
       "    .dataframe thead th {\n",
       "        text-align: right;\n",
       "    }\n",
       "</style>\n",
       "<table border=\"1\" class=\"dataframe\">\n",
       "  <thead>\n",
       "    <tr style=\"text-align: right;\">\n",
       "      <th></th>\n",
       "      <th>Temperature (C)</th>\n",
       "      <th>Apparent Temperature (C)</th>\n",
       "      <th>Humidity</th>\n",
       "      <th>Wind Speed (km/h)</th>\n",
       "      <th>Wind Bearing (degrees)</th>\n",
       "      <th>Visibility (km)</th>\n",
       "      <th>Loud Cover</th>\n",
       "      <th>Pressure (millibars)</th>\n",
       "    </tr>\n",
       "  </thead>\n",
       "  <tbody>\n",
       "    <tr>\n",
       "      <th>0</th>\n",
       "      <td>0.506885</td>\n",
       "      <td>0.523561</td>\n",
       "      <td>0.89</td>\n",
       "      <td>0.221143</td>\n",
       "      <td>0.699164</td>\n",
       "      <td>0.983230</td>\n",
       "      <td>0.0</td>\n",
       "      <td>0.970135</td>\n",
       "    </tr>\n",
       "    <tr>\n",
       "      <th>1</th>\n",
       "      <td>0.505103</td>\n",
       "      <td>0.521175</td>\n",
       "      <td>0.86</td>\n",
       "      <td>0.223336</td>\n",
       "      <td>0.721448</td>\n",
       "      <td>0.983230</td>\n",
       "      <td>0.0</td>\n",
       "      <td>0.970613</td>\n",
       "    </tr>\n",
       "    <tr>\n",
       "      <th>2</th>\n",
       "      <td>0.505427</td>\n",
       "      <td>0.553236</td>\n",
       "      <td>0.89</td>\n",
       "      <td>0.061551</td>\n",
       "      <td>0.568245</td>\n",
       "      <td>0.929193</td>\n",
       "      <td>0.0</td>\n",
       "      <td>0.970909</td>\n",
       "    </tr>\n",
       "    <tr>\n",
       "      <th>3</th>\n",
       "      <td>0.487769</td>\n",
       "      <td>0.501939</td>\n",
       "      <td>0.83</td>\n",
       "      <td>0.220830</td>\n",
       "      <td>0.749304</td>\n",
       "      <td>0.983230</td>\n",
       "      <td>0.0</td>\n",
       "      <td>0.971358</td>\n",
       "    </tr>\n",
       "    <tr>\n",
       "      <th>4</th>\n",
       "      <td>0.495383</td>\n",
       "      <td>0.517447</td>\n",
       "      <td>0.83</td>\n",
       "      <td>0.172905</td>\n",
       "      <td>0.721448</td>\n",
       "      <td>0.983230</td>\n",
       "      <td>0.0</td>\n",
       "      <td>0.971454</td>\n",
       "    </tr>\n",
       "    <tr>\n",
       "      <th>...</th>\n",
       "      <td>...</td>\n",
       "      <td>...</td>\n",
       "      <td>...</td>\n",
       "      <td>...</td>\n",
       "      <td>...</td>\n",
       "      <td>...</td>\n",
       "      <td>...</td>\n",
       "      <td>...</td>\n",
       "    </tr>\n",
       "    <tr>\n",
       "      <th>96448</th>\n",
       "      <td>0.774988</td>\n",
       "      <td>0.801372</td>\n",
       "      <td>0.43</td>\n",
       "      <td>0.172279</td>\n",
       "      <td>0.086351</td>\n",
       "      <td>1.000000</td>\n",
       "      <td>0.0</td>\n",
       "      <td>0.969399</td>\n",
       "    </tr>\n",
       "    <tr>\n",
       "      <th>96449</th>\n",
       "      <td>0.751660</td>\n",
       "      <td>0.779899</td>\n",
       "      <td>0.48</td>\n",
       "      <td>0.158027</td>\n",
       "      <td>0.055710</td>\n",
       "      <td>0.965839</td>\n",
       "      <td>0.0</td>\n",
       "      <td>0.970164</td>\n",
       "    </tr>\n",
       "    <tr>\n",
       "      <th>96450</th>\n",
       "      <td>0.710514</td>\n",
       "      <td>0.742022</td>\n",
       "      <td>0.56</td>\n",
       "      <td>0.140642</td>\n",
       "      <td>0.083565</td>\n",
       "      <td>1.000000</td>\n",
       "      <td>0.0</td>\n",
       "      <td>0.970642</td>\n",
       "    </tr>\n",
       "    <tr>\n",
       "      <th>96451</th>\n",
       "      <td>0.702090</td>\n",
       "      <td>0.734268</td>\n",
       "      <td>0.60</td>\n",
       "      <td>0.164918</td>\n",
       "      <td>0.055710</td>\n",
       "      <td>1.000000</td>\n",
       "      <td>0.0</td>\n",
       "      <td>0.970919</td>\n",
       "    </tr>\n",
       "    <tr>\n",
       "      <th>96452</th>\n",
       "      <td>0.684594</td>\n",
       "      <td>0.718163</td>\n",
       "      <td>0.61</td>\n",
       "      <td>0.092091</td>\n",
       "      <td>0.108635</td>\n",
       "      <td>0.963975</td>\n",
       "      <td>0.0</td>\n",
       "      <td>0.971119</td>\n",
       "    </tr>\n",
       "  </tbody>\n",
       "</table>\n",
       "<p>96453 rows × 8 columns</p>\n",
       "</div>"
      ],
      "text/plain": [
       "       Temperature (C)  Apparent Temperature (C)  Humidity  Wind Speed (km/h)  \\\n",
       "0             0.506885                  0.523561      0.89           0.221143   \n",
       "1             0.505103                  0.521175      0.86           0.223336   \n",
       "2             0.505427                  0.553236      0.89           0.061551   \n",
       "3             0.487769                  0.501939      0.83           0.220830   \n",
       "4             0.495383                  0.517447      0.83           0.172905   \n",
       "...                ...                       ...       ...                ...   \n",
       "96448         0.774988                  0.801372      0.43           0.172279   \n",
       "96449         0.751660                  0.779899      0.48           0.158027   \n",
       "96450         0.710514                  0.742022      0.56           0.140642   \n",
       "96451         0.702090                  0.734268      0.60           0.164918   \n",
       "96452         0.684594                  0.718163      0.61           0.092091   \n",
       "\n",
       "       Wind Bearing (degrees)  Visibility (km)  Loud Cover  \\\n",
       "0                    0.699164         0.983230         0.0   \n",
       "1                    0.721448         0.983230         0.0   \n",
       "2                    0.568245         0.929193         0.0   \n",
       "3                    0.749304         0.983230         0.0   \n",
       "4                    0.721448         0.983230         0.0   \n",
       "...                       ...              ...         ...   \n",
       "96448                0.086351         1.000000         0.0   \n",
       "96449                0.055710         0.965839         0.0   \n",
       "96450                0.083565         1.000000         0.0   \n",
       "96451                0.055710         1.000000         0.0   \n",
       "96452                0.108635         0.963975         0.0   \n",
       "\n",
       "       Pressure (millibars)  \n",
       "0                  0.970135  \n",
       "1                  0.970613  \n",
       "2                  0.970909  \n",
       "3                  0.971358  \n",
       "4                  0.971454  \n",
       "...                     ...  \n",
       "96448              0.969399  \n",
       "96449              0.970164  \n",
       "96450              0.970642  \n",
       "96451              0.970919  \n",
       "96452              0.971119  \n",
       "\n",
       "[96453 rows x 8 columns]"
      ]
     },
     "execution_count": 57,
     "metadata": {},
     "output_type": "execute_result"
    }
   ],
   "source": [
    "df_s"
   ]
  },
  {
   "cell_type": "code",
   "execution_count": 58,
   "id": "bcf43b8f",
   "metadata": {},
   "outputs": [],
   "source": [
    "x = df_s[['Humidity', 'Wind Speed (km/h)']].values.reshape(-1,2)\n",
    "y =df_s['Temperature (C)']\n",
    "x_train,x_test,y_train,y_test=train_test_split(x,y,test_size=0.3,random_state=200)"
   ]
  },
  {
   "cell_type": "code",
   "execution_count": 59,
   "id": "b34ce951",
   "metadata": {},
   "outputs": [],
   "source": [
    "model=LinearRegression().fit(x_train,y_train)"
   ]
  },
  {
   "cell_type": "code",
   "execution_count": 60,
   "id": "fb3b373b",
   "metadata": {},
   "outputs": [],
   "source": [
    "coefficient_of_determination=model.score(x_train,y_train)"
   ]
  },
  {
   "cell_type": "code",
   "execution_count": 61,
   "id": "f71c075d",
   "metadata": {},
   "outputs": [
    {
     "data": {
      "text/plain": [
       "0.4165873962394633"
      ]
     },
     "execution_count": 61,
     "metadata": {},
     "output_type": "execute_result"
    }
   ],
   "source": [
    "coefficient_of_determination"
   ]
  },
  {
   "cell_type": "code",
   "execution_count": 62,
   "id": "e551294c",
   "metadata": {},
   "outputs": [
    {
     "data": {
      "text/plain": [
       "(0.9655724083920663, array([-0.52427616, -0.19917343]))"
      ]
     },
     "execution_count": 62,
     "metadata": {},
     "output_type": "execute_result"
    }
   ],
   "source": [
    "model.intercept_,model.coef_"
   ]
  },
  {
   "cell_type": "code",
   "execution_count": 63,
   "id": "082bd328",
   "metadata": {},
   "outputs": [
    {
     "data": {
      "text/plain": [
       "array([0.51637431, 0.50160651, 0.61234651, ..., 0.57336785, 0.50897046,\n",
       "       0.50125684])"
      ]
     },
     "execution_count": 63,
     "metadata": {},
     "output_type": "execute_result"
    }
   ],
   "source": [
    "y_predict=model.predict(x_test)\n",
    "y_predict"
   ]
  },
  {
   "cell_type": "code",
   "execution_count": 64,
   "id": "5db6bf22",
   "metadata": {},
   "outputs": [],
   "source": [
    "MSE=mean_squared_error(y_test,y_predict)\n",
    "MAE=mean_absolute_error(y_test,y_predict)\n",
    "RMSE=mean_squared_error(y_test,y_predict,squared=False)"
   ]
  },
  {
   "cell_type": "code",
   "execution_count": 65,
   "id": "b63193e1",
   "metadata": {},
   "outputs": [
    {
     "data": {
      "text/plain": [
       "(0.013796462504235572, 0.09524522326016902, 0.11745834369782154)"
      ]
     },
     "execution_count": 65,
     "metadata": {},
     "output_type": "execute_result"
    }
   ],
   "source": [
    "MSE,MAE,RMSE"
   ]
  },
  {
   "cell_type": "code",
   "execution_count": 66,
   "id": "3a70cced",
   "metadata": {},
   "outputs": [],
   "source": [
    "from sklearn.metrics import r2_score"
   ]
  },
  {
   "cell_type": "code",
   "execution_count": 67,
   "id": "98528753",
   "metadata": {},
   "outputs": [
    {
     "data": {
      "text/plain": [
       "0.4227903668330312"
      ]
     },
     "execution_count": 67,
     "metadata": {},
     "output_type": "execute_result"
    }
   ],
   "source": [
    "r2_score(y_test,y_predict)"
   ]
  },
  {
   "cell_type": "code",
   "execution_count": 2,
   "id": "0d94243c",
   "metadata": {},
   "outputs": [],
   "source": [
    "from sklearn.experimental import enable_iterative_imputer\n",
    "from sklearn.impute import IterativeImputer"
   ]
  },
  {
   "cell_type": "code",
   "execution_count": 3,
   "id": "d3469069",
   "metadata": {},
   "outputs": [],
   "source": [
    "from sklearn.linear_model import Ridge"
   ]
  },
  {
   "cell_type": "markdown",
   "id": "aa267f05",
   "metadata": {},
   "source": [
    "## Polynomial Regression:"
   ]
  },
  {
   "cell_type": "code",
   "execution_count": 6,
   "id": "7ef35203",
   "metadata": {},
   "outputs": [],
   "source": [
    "from sklearn.metrics import r2_score\n",
    "\n",
    "from sklearn.pipeline import Pipeline"
   ]
  },
  {
   "cell_type": "code",
   "execution_count": 2,
   "id": "db0e2fc8",
   "metadata": {},
   "outputs": [],
   "source": [
    "X = 6 * np.random.rand(200, 1) - 3\n",
    "y = 0.8 * X**2 + 0.9 * X + 2 + np.random.randn(200, 1)"
   ]
  },
  {
   "cell_type": "code",
   "execution_count": 3,
   "id": "e3deb716",
   "metadata": {},
   "outputs": [
    {
     "data": {
      "image/png": "[encoded data removed]",
      "text/plain": [
       "<Figure size 432x288 with 1 Axes>"
      ]
     },
     "metadata": {
      "needs_background": "light"
     },
     "output_type": "display_data"
    }
   ],
   "source": [
    "plt.plot(X, y,'b.')\n",
    "plt.xlabel(\"X\")\n",
    "plt.ylabel(\"y\")\n",
    "plt.show()"
   ]
  },
  {
   "cell_type": "code",
   "execution_count": 4,
   "id": "ece27668",
   "metadata": {},
   "outputs": [],
   "source": [
    "X_train,X_test,y_train,y_test = train_test_split(X,y,test_size=0.2,random_state=2)\n"
   ]
  },
  {
   "cell_type": "code",
   "execution_count": 7,
   "id": "9a5c5631",
   "metadata": {},
   "outputs": [
    {
     "data": {
      "text/plain": [
       "0.20640953452487742"
      ]
     },
     "execution_count": 7,
     "metadata": {},
     "output_type": "execute_result"
    }
   ],
   "source": [
    "# Applying linear regression\n",
    "lr = LinearRegression()\n",
    "lr.fit(X_train,y_train)\n",
    "\n",
    "y_pred = lr.predict(X_test)\n",
    "r2_score(y_test,y_pred)\n",
    "\n"
   ]
  },
  {
   "cell_type": "code",
   "execution_count": 8,
   "id": "aec013cf",
   "metadata": {},
   "outputs": [
    {
     "data": {
      "image/png": "[encoded data removed]",
      "text/plain": [
       "<Figure size 432x288 with 1 Axes>"
      ]
     },
     "metadata": {
      "needs_background": "light"
     },
     "output_type": "display_data"
    }
   ],
   "source": [
    "plt.plot(X_train,lr.predict(X_train),color='r')\n",
    "plt.plot(X, y, \"b.\")\n",
    "plt.xlabel(\"X\")\n",
    "plt.ylabel(\"y\")\n",
    "plt.show()"
   ]
  },
  {
   "cell_type": "code",
   "execution_count": 9,
   "id": "781b566a",
   "metadata": {},
   "outputs": [],
   "source": [
    "# Applying Polynomial Linear Regression\n",
    "# degree 2\n",
    "poly = PolynomialFeatures(degree=2,include_bias=True)\n",
    "\n",
    "X_train_trans = poly.fit_transform(X_train)\n",
    "X_test_trans = poly.transform(X_test)"
   ]
  },
  {
   "cell_type": "code",
   "execution_count": 10,
   "id": "d38b995d",
   "metadata": {},
   "outputs": [
    {
     "data": {
      "text/html": [
       "<style>#sk-container-id-1 {color: black;background-color: white;}#sk-container-id-1 pre{padding: 0;}#sk-container-id-1 div.sk-toggleable {background-color: white;}#sk-container-id-1 label.sk-toggleable__label {cursor: pointer;display: block;width: 100%;margin-bottom: 0;padding: 0.3em;box-sizing: border-box;text-align: center;}#sk-container-id-1 label.sk-toggleable__label-arrow:before {content: \"▸\";float: left;margin-right: 0.25em;color: #696969;}#sk-container-id-1 label.sk-toggleable__label-arrow:hover:before {color: black;}#sk-container-id-1 div.sk-estimator:hover label.sk-toggleable__label-arrow:before {color: black;}#sk-container-id-1 div.sk-toggleable__content {max-height: 0;max-width: 0;overflow: hidden;text-align: left;background-color: #f0f8ff;}#sk-container-id-1 div.sk-toggleable__content pre {margin: 0.2em;color: black;border-radius: 0.25em;background-color: #f0f8ff;}#sk-container-id-1 input.sk-toggleable__control:checked~div.sk-toggleable__content {max-height: 200px;max-width: 100%;overflow: auto;}#sk-container-id-1 input.sk-toggleable__control:checked~label.sk-toggleable__label-arrow:before {content: \"▾\";}#sk-container-id-1 div.sk-estimator input.sk-toggleable__control:checked~label.sk-toggleable__label {background-color: #d4ebff;}#sk-container-id-1 div.sk-label input.sk-toggleable__control:checked~label.sk-toggleable__label {background-color: #d4ebff;}#sk-container-id-1 input.sk-hidden--visually {border: 0;clip: rect(1px 1px 1px 1px);clip: rect(1px, 1px, 1px, 1px);height: 1px;margin: -1px;overflow: hidden;padding: 0;position: absolute;width: 1px;}#sk-container-id-1 div.sk-estimator {font-family: monospace;background-color: #f0f8ff;border: 1px dotted black;border-radius: 0.25em;box-sizing: border-box;margin-bottom: 0.5em;}#sk-container-id-1 div.sk-estimator:hover {background-color: #d4ebff;}#sk-container-id-1 div.sk-parallel-item::after {content: \"\";width: 100%;border-bottom: 1px solid gray;flex-grow: 1;}#sk-container-id-1 div.sk-label:hover label.sk-toggleable__label {background-color: #d4ebff;}#sk-container-id-1 div.sk-serial::before {content: \"\";position: absolute;border-left: 1px solid gray;box-sizing: border-box;top: 0;bottom: 0;left: 50%;z-index: 0;}#sk-container-id-1 div.sk-serial {display: flex;flex-direction: column;align-items: center;background-color: white;padding-right: 0.2em;padding-left: 0.2em;position: relative;}#sk-container-id-1 div.sk-item {position: relative;z-index: 1;}#sk-container-id-1 div.sk-parallel {display: flex;align-items: stretch;justify-content: center;background-color: white;position: relative;}#sk-container-id-1 div.sk-item::before, #sk-container-id-1 div.sk-parallel-item::before {content: \"\";position: absolute;border-left: 1px solid gray;box-sizing: border-box;top: 0;bottom: 0;left: 50%;z-index: -1;}#sk-container-id-1 div.sk-parallel-item {display: flex;flex-direction: column;z-index: 1;position: relative;background-color: white;}#sk-container-id-1 div.sk-parallel-item:first-child::after {align-self: flex-end;width: 50%;}#sk-container-id-1 div.sk-parallel-item:last-child::after {align-self: flex-start;width: 50%;}#sk-container-id-1 div.sk-parallel-item:only-child::after {width: 0;}#sk-container-id-1 div.sk-dashed-wrapped {border: 1px dashed gray;margin: 0 0.4em 0.5em 0.4em;box-sizing: border-box;padding-bottom: 0.4em;background-color: white;}#sk-container-id-1 div.sk-label label {font-family: monospace;font-weight: bold;display: inline-block;line-height: 1.2em;}#sk-container-id-1 div.sk-label-container {text-align: center;}#sk-container-id-1 div.sk-container {/* jupyter's `normalize.less` sets `[hidden] { display: none; }` but bootstrap.min.css set `[hidden] { display: none !important; }` so we also need the `!important` here to be able to override the default hidden behavior on the sphinx rendered scikit-learn.org. See: https://github.com/scikit-learn/scikit-learn/issues/21755 */display: inline-block !important;position: relative;}#sk-container-id-1 div.sk-text-repr-fallback {display: none;}</style><div id=\"sk-container-id-1\" class=\"sk-top-container\"><div class=\"sk-text-repr-fallback\"><pre>LinearRegression()</pre><b>In a Jupyter environment, please rerun this cell to show the HTML representation or trust the notebook. <br />On GitHub, the HTML representation is unable to render, please try loading this page with nbviewer.org.</b></div><div class=\"sk-container\" hidden><div class=\"sk-item\"><div class=\"sk-estimator sk-toggleable\"><input class=\"sk-toggleable__control sk-hidden--visually\" id=\"sk-estimator-id-1\" type=\"checkbox\" checked><label for=\"sk-estimator-id-1\" class=\"sk-toggleable__label sk-toggleable__label-arrow\">LinearRegression</label><div class=\"sk-toggleable__content\"><pre>LinearRegression()</pre></div></div></div></div></div>"
      ],
      "text/plain": [
       "LinearRegression()"
      ]
     },
     "execution_count": 10,
     "metadata": {},
     "output_type": "execute_result"
    }
   ],
   "source": [
    "lr = LinearRegression()\n",
    "lr.fit(X_train_trans,y_train)"
   ]
  },
  {
   "cell_type": "code",
   "execution_count": 11,
   "id": "8d4e8560",
   "metadata": {},
   "outputs": [
    {
     "data": {
      "text/plain": [
       "0.8484517930747234"
      ]
     },
     "execution_count": 11,
     "metadata": {},
     "output_type": "execute_result"
    }
   ],
   "source": [
    "y_pred = lr.predict(X_test_trans)\n",
    "r2_score(y_test,y_pred)"
   ]
  },
  {
   "cell_type": "code",
   "execution_count": 12,
   "id": "d79cc791",
   "metadata": {},
   "outputs": [
    {
     "data": {
      "image/png": "[encoded data removed]",
      "text/plain": [
       "<Figure size 432x288 with 1 Axes>"
      ]
     },
     "metadata": {
      "needs_background": "light"
     },
     "output_type": "display_data"
    }
   ],
   "source": [
    "X_new=np.linspace(-3, 3, 200).reshape(200, 1)\n",
    "X_new_poly = poly.transform(X_new)\n",
    "y_new = lr.predict(X_new_poly)\n",
    "plt.plot(X_new, y_new, \"r-\", linewidth=2, label=\"Predictions\")\n",
    "plt.plot(X_train, y_train, \"b.\",label='Training points')\n",
    "plt.plot(X_test, y_test, \"g.\",label='Testing points')\n",
    "plt.xlabel(\"X\")\n",
    "plt.ylabel(\"y\")\n",
    "plt.legend()\n",
    "plt.show()"
   ]
  },
  {
   "cell_type": "code",
   "execution_count": null,
   "id": "4c0df39b",
   "metadata": {},
   "outputs": [],
   "source": []
  }
 ],
 "metadata": {
  "kernelspec": {
   "display_name": "Python 3 (ipykernel)",
   "language": "python",
   "name": "python3"
  },
  "language_info": {
   "codemirror_mode": {
    "name": "ipython",
    "version": 3
   },
   "file_extension": ".py",
   "mimetype": "text/x-python",
   "name": "python",
   "nbconvert_exporter": "python",
   "pygments_lexer": "ipython3",
   "version": "3.9.12"
  }
 },
 "nbformat": 4,
 "nbformat_minor": 5
}
