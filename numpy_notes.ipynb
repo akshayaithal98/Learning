{
 "cells": [
  {
   "cell_type": "code",
   "execution_count": 1,
   "id": "21c4ac38",
   "metadata": {},
   "outputs": [],
   "source": [
    "import numpy as np"
   ]
  },
  {
   "cell_type": "code",
   "execution_count": 2,
   "id": "489f4393",
   "metadata": {},
   "outputs": [
    {
     "data": {
      "text/plain": [
       "array([1, 2, 3])"
      ]
     },
     "execution_count": 2,
     "metadata": {},
     "output_type": "execute_result"
    }
   ],
   "source": [
    "#creation of 1D numpy array:\n",
    "a=np.array([1,2,3])\n",
    "a"
   ]
  },
  {
   "cell_type": "code",
   "execution_count": 3,
   "id": "25ed195f",
   "metadata": {},
   "outputs": [
    {
     "data": {
      "text/plain": [
       "array([[1, 2],\n",
       "       [3, 4]])"
      ]
     },
     "execution_count": 3,
     "metadata": {},
     "output_type": "execute_result"
    }
   ],
   "source": [
    "#creation of 2D numpy array\n",
    "a=np.array([[1,2],[3,4]])\n",
    "a"
   ]
  },
  {
   "cell_type": "code",
   "execution_count": 7,
   "id": "6b55e958",
   "metadata": {},
   "outputs": [
    {
     "data": {
      "text/plain": [
       "array([99, 22, 26, 71, 71])"
      ]
     },
     "execution_count": 7,
     "metadata": {},
     "output_type": "execute_result"
    }
   ],
   "source": [
    "#creating array from random integers\n",
    "np.random.randint(20,100,5)"
   ]
  },
  {
   "cell_type": "code",
   "execution_count": 43,
   "id": "e82b4b97",
   "metadata": {},
   "outputs": [
    {
     "data": {
      "text/plain": [
       "array([1.        , 1.44444444, 1.88888889, 2.33333333, 2.77777778,\n",
       "       3.22222222, 3.66666667, 4.11111111, 4.55555556, 5.        ])"
      ]
     },
     "execution_count": 43,
     "metadata": {},
     "output_type": "execute_result"
    }
   ],
   "source": [
    "#get evenly spaced 'num' numbers within range\n",
    "a=np.array([1,2,3,4,5,6,7,8])\n",
    "np.linspace(1,5,num=10)"
   ]
  },
  {
   "cell_type": "code",
   "execution_count": 34,
   "id": "aba08f72",
   "metadata": {},
   "outputs": [
    {
     "data": {
      "text/plain": [
       "(array([0. , 2.5, 5. , 7.5]), [1, 3, 5, 7, 9])"
      ]
     },
     "execution_count": 34,
     "metadata": {},
     "output_type": "execute_result"
    }
   ],
   "source": [
    "#arange function :similar like range function but can also take float in steps\n",
    "np.arange(0,10,2.5),list(range(1,10,2))"
   ]
  },
  {
   "cell_type": "code",
   "execution_count": 37,
   "id": "96e87a0d",
   "metadata": {},
   "outputs": [
    {
     "data": {
      "text/plain": [
       "(2, 4, (2, 2))"
      ]
     },
     "execution_count": 37,
     "metadata": {},
     "output_type": "execute_result"
    }
   ],
   "source": [
    "#length of numpy array\n",
    "a=np.array([[1,2],[3,4]])\n",
    "len(a),a.size,a.shape"
   ]
  },
  {
   "cell_type": "code",
   "execution_count": 38,
   "id": "b120bcea",
   "metadata": {},
   "outputs": [
    {
     "data": {
      "text/plain": [
       "1"
      ]
     },
     "execution_count": 38,
     "metadata": {},
     "output_type": "execute_result"
    }
   ],
   "source": [
    "#checking dimensions of array\n",
    "a=np.array([1,2])\n",
    "a.ndim"
   ]
  },
  {
   "cell_type": "code",
   "execution_count": 45,
   "id": "f40f037d",
   "metadata": {},
   "outputs": [
    {
     "data": {
      "text/plain": [
       "array([8, 7, 6, 5, 4, 3, 2, 1])"
      ]
     },
     "execution_count": 45,
     "metadata": {},
     "output_type": "execute_result"
    }
   ],
   "source": [
    "#slicing\n",
    "a=np.array([1,2,3,4,5,6,7,8])"
   ]
  },
  {
   "cell_type": "code",
   "execution_count": 48,
   "id": "4b0f7061",
   "metadata": {},
   "outputs": [
    {
     "data": {
      "text/plain": [
       "(array([8, 7, 6, 5, 4, 3, 2, 1]), array([6, 7, 8]))"
      ]
     },
     "execution_count": 48,
     "metadata": {},
     "output_type": "execute_result"
    }
   ],
   "source": [
    "a[::-1],a[5:]"
   ]
  },
  {
   "cell_type": "code",
   "execution_count": 62,
   "id": "56edccfb",
   "metadata": {},
   "outputs": [
    {
     "data": {
      "text/plain": [
       "array([[1, 2, 3, 4],\n",
       "       [5, 6, 7, 8]])"
      ]
     },
     "execution_count": 62,
     "metadata": {},
     "output_type": "execute_result"
    }
   ],
   "source": [
    "a=np.array([[1,2,3,4],[5,6,7,8]])\n",
    "a"
   ]
  },
  {
   "cell_type": "code",
   "execution_count": 64,
   "id": "b4db5aec",
   "metadata": {},
   "outputs": [
    {
     "data": {
      "text/plain": [
       "array([1, 2, 3, 4])"
      ]
     },
     "execution_count": 64,
     "metadata": {},
     "output_type": "execute_result"
    }
   ],
   "source": [
    "a[0]"
   ]
  },
  {
   "cell_type": "code",
   "execution_count": 63,
   "id": "80c25bca",
   "metadata": {},
   "outputs": [
    {
     "data": {
      "text/plain": [
       "array([[1, 2],\n",
       "       [5, 6]])"
      ]
     },
     "execution_count": 63,
     "metadata": {},
     "output_type": "execute_result"
    }
   ],
   "source": [
    "a[:,0:2]"
   ]
  },
  {
   "cell_type": "code",
   "execution_count": 65,
   "id": "2b8db323",
   "metadata": {},
   "outputs": [
    {
     "data": {
      "text/plain": [
       "array([[1, 2, 3, 4],\n",
       "       [5, 6, 7, 8]])"
      ]
     },
     "execution_count": 65,
     "metadata": {},
     "output_type": "execute_result"
    }
   ],
   "source": [
    "#copying numpy array since it is mutable\n",
    "b=a.copy()\n",
    "b"
   ]
  },
  {
   "cell_type": "code",
   "execution_count": 241,
   "id": "8c888ac1",
   "metadata": {},
   "outputs": [
    {
     "data": {
      "text/plain": [
       "(array([8, 7, 6, 5, 4, 3, 2, 1]), array([8, 7, 6, 5, 4, 3, 2, 1]))"
      ]
     },
     "execution_count": 241,
     "metadata": {},
     "output_type": "execute_result"
    }
   ],
   "source": [
    "#reversing the array:\n",
    "a=np.array([1,2,3,4,5,6,7,8])\n",
    "a[::-1],np.flip(a)"
   ]
  },
  {
   "cell_type": "code",
   "execution_count": 78,
   "id": "56cc5876",
   "metadata": {},
   "outputs": [
    {
     "data": {
      "text/plain": [
       "array([ 1,  2,  3,  4,  4,  5,  6,  7,  8, 10])"
      ]
     },
     "execution_count": 78,
     "metadata": {},
     "output_type": "execute_result"
    }
   ],
   "source": [
    "#sorting the numpy array\n",
    "a=np.array([10,4,1,2,3,4,5,6,7,8])\n",
    "a.sort()\n",
    "a"
   ]
  },
  {
   "cell_type": "code",
   "execution_count": 79,
   "id": "717f70d3",
   "metadata": {},
   "outputs": [
    {
     "data": {
      "text/plain": [
       "array([10,  8,  7,  6,  5,  4,  4,  3,  2,  1])"
      ]
     },
     "execution_count": 79,
     "metadata": {},
     "output_type": "execute_result"
    }
   ],
   "source": [
    "#sorting in descending order use negative indexing\n",
    "a=np.array([10,4,1,2,3,4,5,6,7,8])\n",
    "a.sort()\n",
    "a[::-1]"
   ]
  },
  {
   "cell_type": "code",
   "execution_count": 198,
   "id": "83bb209c",
   "metadata": {},
   "outputs": [
    {
     "data": {
      "text/plain": [
       "(4.5, 8, 1, 2.29128784747792, 5.25, 36, 4.5)"
      ]
     },
     "execution_count": 198,
     "metadata": {},
     "output_type": "execute_result"
    }
   ],
   "source": [
    "#statistical values\n",
    "a=np.array([1,2,3,4,5,6,7,8])\n",
    "a.mean(),a.max(),a.min(),a.std(),a.var(),a.sum(),np.median(a)"
   ]
  },
  {
   "cell_type": "code",
   "execution_count": 91,
   "id": "f1e94d27",
   "metadata": {},
   "outputs": [
    {
     "data": {
      "text/plain": [
       "(8, 4.5)"
      ]
     },
     "execution_count": 91,
     "metadata": {},
     "output_type": "execute_result"
    }
   ],
   "source": [
    "b=np.array([[1,2,3,4],[5,6,7,8]])\n",
    "b.max(),b.mean()"
   ]
  },
  {
   "cell_type": "code",
   "execution_count": 97,
   "id": "9359b30b",
   "metadata": {},
   "outputs": [
    {
     "data": {
      "text/plain": [
       "array([1, 2, 3, 4, 5, 6, 7, 8])"
      ]
     },
     "execution_count": 97,
     "metadata": {},
     "output_type": "execute_result"
    }
   ],
   "source": [
    "#unique elements in numpy array\n",
    "a=np.array([1,2,3,4,1,2,3,4,5,6,7,8])\n",
    "np.unique(a)"
   ]
  },
  {
   "cell_type": "code",
   "execution_count": 100,
   "id": "9dc50e0d",
   "metadata": {},
   "outputs": [
    {
     "data": {
      "text/plain": [
       "8"
      ]
     },
     "execution_count": 100,
     "metadata": {},
     "output_type": "execute_result"
    }
   ],
   "source": [
    "#total number of unique values\n",
    "len(np.unique(a))"
   ]
  },
  {
   "cell_type": "code",
   "execution_count": 99,
   "id": "83877f07",
   "metadata": {},
   "outputs": [
    {
     "data": {
      "text/plain": [
       "(array([1, 2, 3, 4, 5, 6, 7, 8]), array([2, 2, 2, 2, 1, 1, 1, 1], dtype=int64))"
      ]
     },
     "execution_count": 99,
     "metadata": {},
     "output_type": "execute_result"
    }
   ],
   "source": [
    "#value counts of values\n",
    "np.unique(a,return_counts=True)"
   ]
  },
  {
   "cell_type": "code",
   "execution_count": 106,
   "id": "5085a487",
   "metadata": {},
   "outputs": [
    {
     "data": {
      "text/plain": [
       "array([[1, 2, 3, 4],\n",
       "       [1, 2, 3, 4],\n",
       "       [5, 6, 7, 8]])"
      ]
     },
     "execution_count": 106,
     "metadata": {},
     "output_type": "execute_result"
    }
   ],
   "source": [
    "#reshape an array\n",
    "a=np.array([1,2,3,4,1,2,3,4,5,6,7,8])\n",
    "a.reshape(3,-1)"
   ]
  },
  {
   "cell_type": "code",
   "execution_count": 107,
   "id": "4a1fd754",
   "metadata": {},
   "outputs": [
    {
     "data": {
      "text/plain": [
       "array([1, 2, 3, 4, 5, 6, 7, 8])"
      ]
     },
     "execution_count": 107,
     "metadata": {},
     "output_type": "execute_result"
    }
   ],
   "source": [
    "#flatten the 2d array\n",
    "b=np.array([[1,2,3,4],[5,6,7,8]])\n",
    "b.flatten()"
   ]
  },
  {
   "cell_type": "code",
   "execution_count": 172,
   "id": "7dcb7738",
   "metadata": {},
   "outputs": [
    {
     "data": {
      "text/plain": [
       "array([[1],\n",
       "       [2],\n",
       "       [3]])"
      ]
     },
     "execution_count": 172,
     "metadata": {},
     "output_type": "execute_result"
    }
   ],
   "source": [
    "a=np.array([1,2,3])\n",
    "a.reshape(-1,1)"
   ]
  },
  {
   "cell_type": "code",
   "execution_count": 163,
   "id": "aa76c2f8",
   "metadata": {},
   "outputs": [
    {
     "data": {
      "text/plain": [
       "(array([11, 12, 13]), array([2, 4, 6]))"
      ]
     },
     "execution_count": 163,
     "metadata": {},
     "output_type": "execute_result"
    }
   ],
   "source": [
    "a=np.array([1,2,3])\n",
    "a+10,a*2"
   ]
  },
  {
   "cell_type": "code",
   "execution_count": 166,
   "id": "fb1b8918",
   "metadata": {},
   "outputs": [
    {
     "data": {
      "text/plain": [
       "array([[1, 2, 3, 4],\n",
       "       [5, 6, 7, 8]])"
      ]
     },
     "execution_count": 166,
     "metadata": {},
     "output_type": "execute_result"
    }
   ],
   "source": [
    "b=np.array([[1,2,3,4],[5,6,7,8]])\n",
    "b"
   ]
  },
  {
   "cell_type": "code",
   "execution_count": 167,
   "id": "f7e97777",
   "metadata": {},
   "outputs": [
    {
     "data": {
      "text/plain": [
       "array([[1, 5],\n",
       "       [2, 6],\n",
       "       [3, 7],\n",
       "       [4, 8]])"
      ]
     },
     "execution_count": 167,
     "metadata": {},
     "output_type": "execute_result"
    }
   ],
   "source": [
    "b.T"
   ]
  },
  {
   "cell_type": "code",
   "execution_count": 186,
   "id": "a1303672",
   "metadata": {},
   "outputs": [
    {
     "data": {
      "text/plain": [
       "array([[1, 2, 3, 4],\n",
       "       [5, 6, 7, 8]])"
      ]
     },
     "execution_count": 186,
     "metadata": {},
     "output_type": "execute_result"
    }
   ],
   "source": [
    "b=np.array([[1,2,3,4],[5,6,7,8]])\n",
    "b"
   ]
  },
  {
   "cell_type": "code",
   "execution_count": 189,
   "id": "8fb0fffe",
   "metadata": {},
   "outputs": [
    {
     "data": {
      "text/plain": [
       "array([10, 26])"
      ]
     },
     "execution_count": 189,
     "metadata": {},
     "output_type": "execute_result"
    }
   ],
   "source": [
    "#row wise addition\n",
    "b.sum(axis=1)"
   ]
  },
  {
   "cell_type": "code",
   "execution_count": 190,
   "id": "05300a35",
   "metadata": {},
   "outputs": [
    {
     "data": {
      "text/plain": [
       "array([ 6,  8, 10, 12])"
      ]
     },
     "execution_count": 190,
     "metadata": {},
     "output_type": "execute_result"
    }
   ],
   "source": [
    "#column wise sum\n",
    "b.sum(axis=0)"
   ]
  },
  {
   "cell_type": "code",
   "execution_count": 2,
   "id": "d0546390",
   "metadata": {},
   "outputs": [
    {
     "data": {
      "text/plain": [
       "array([[45, 19, 29, 21, 34],\n",
       "       [26, 35, 21, 18, 29],\n",
       "       [15, 31, 29, 26, 20],\n",
       "       [44, 33, 26, 25, 23],\n",
       "       [15, 30, 41, 44, 41]])"
      ]
     },
     "execution_count": 2,
     "metadata": {},
     "output_type": "execute_result"
    }
   ],
   "source": [
    "#diagonal of a mamtrix\n",
    "matrix=np.reshape(np.random.randint(10,50,25),newshape=(5,5))\n",
    "matrix"
   ]
  },
  {
   "cell_type": "code",
   "execution_count": 5,
   "id": "32f87ac6",
   "metadata": {},
   "outputs": [
    {
     "data": {
      "text/plain": [
       "array([45, 35, 29, 25, 41])"
      ]
     },
     "execution_count": 5,
     "metadata": {},
     "output_type": "execute_result"
    }
   ],
   "source": [
    "matrix.diagonal()"
   ]
  },
  {
   "cell_type": "code",
   "execution_count": 4,
   "id": "1b24757b",
   "metadata": {},
   "outputs": [
    {
     "data": {
      "text/plain": [
       "array([[15, 30, 41, 44, 41],\n",
       "       [44, 33, 26, 25, 23],\n",
       "       [15, 31, 29, 26, 20],\n",
       "       [26, 35, 21, 18, 29],\n",
       "       [45, 19, 29, 21, 34]])"
      ]
     },
     "execution_count": 4,
     "metadata": {},
     "output_type": "execute_result"
    }
   ],
   "source": [
    "np.flipud(matrix)"
   ]
  },
  {
   "cell_type": "code",
   "execution_count": 3,
   "id": "f70ce26f",
   "metadata": {},
   "outputs": [
    {
     "data": {
      "text/plain": [
       "array([[15, 30, 41, 44, 41],\n",
       "       [44, 33, 26, 25, 23],\n",
       "       [15, 31, 29, 26, 20],\n",
       "       [26, 35, 21, 18, 29],\n",
       "       [45, 19, 29, 21, 34]])"
      ]
     },
     "execution_count": 3,
     "metadata": {},
     "output_type": "execute_result"
    }
   ],
   "source": [
    "matrix[::-1]"
   ]
  },
  {
   "cell_type": "markdown",
   "id": "fd94e6d6",
   "metadata": {},
   "source": [
    "### manipulating numpy array"
   ]
  },
  {
   "cell_type": "code",
   "execution_count": 108,
   "id": "c70f58b2",
   "metadata": {},
   "outputs": [],
   "source": [
    "#adding elements"
   ]
  },
  {
   "cell_type": "code",
   "execution_count": 110,
   "id": "72149cb3",
   "metadata": {},
   "outputs": [
    {
     "data": {
      "text/plain": [
       "array([1, 2, 3, 4, 5])"
      ]
     },
     "execution_count": 110,
     "metadata": {},
     "output_type": "execute_result"
    }
   ],
   "source": [
    "a=np.array([1,2,3,4])\n",
    "np.append(a,5)"
   ]
  },
  {
   "cell_type": "code",
   "execution_count": 114,
   "id": "5a246244",
   "metadata": {},
   "outputs": [
    {
     "data": {
      "text/plain": [
       "array([ 1,  2,  3,  4, 99])"
      ]
     },
     "execution_count": 114,
     "metadata": {},
     "output_type": "execute_result"
    }
   ],
   "source": [
    "np.insert(a,4,99)"
   ]
  },
  {
   "cell_type": "code",
   "execution_count": null,
   "id": "9ea0390b",
   "metadata": {},
   "outputs": [],
   "source": [
    "#for 2d:"
   ]
  },
  {
   "cell_type": "code",
   "execution_count": 142,
   "id": "db29477e",
   "metadata": {},
   "outputs": [
    {
     "data": {
      "text/plain": [
       "array([[1, 2, 3, 4],\n",
       "       [5, 6, 7, 8]])"
      ]
     },
     "execution_count": 142,
     "metadata": {},
     "output_type": "execute_result"
    }
   ],
   "source": [
    "b=np.array([[1,2,3,4],[5,6,7,8]])\n",
    "b"
   ]
  },
  {
   "cell_type": "code",
   "execution_count": 145,
   "id": "136411c3",
   "metadata": {},
   "outputs": [
    {
     "data": {
      "text/plain": [
       "array([[ 1,  2,  3,  4, 99],\n",
       "       [ 5,  6,  7,  8, 98]])"
      ]
     },
     "execution_count": 145,
     "metadata": {},
     "output_type": "execute_result"
    }
   ],
   "source": [
    "np.append(b,np.array([[99],[98]]),axis=1)   "
   ]
  },
  {
   "cell_type": "code",
   "execution_count": 147,
   "id": "dbc3ffa1",
   "metadata": {},
   "outputs": [
    {
     "data": {
      "text/plain": [
       "array([[ 1,  2,  3,  4],\n",
       "       [ 5,  6,  7,  8],\n",
       "       [99, 98, 97, 97]])"
      ]
     },
     "execution_count": 147,
     "metadata": {},
     "output_type": "execute_result"
    }
   ],
   "source": [
    "np.append(b,np.array([[99,98,97,97]]),axis=0)"
   ]
  },
  {
   "cell_type": "code",
   "execution_count": 194,
   "id": "a77fd9d3",
   "metadata": {},
   "outputs": [
    {
     "data": {
      "text/plain": [
       "array([[1, 2, 3, 4],\n",
       "       [5, 6, 7, 8]])"
      ]
     },
     "execution_count": 194,
     "metadata": {},
     "output_type": "execute_result"
    }
   ],
   "source": [
    "#using hstack and vstack for adding elements \n",
    "b=np.array([[1,2,3,4],[5,6,7,8]])\n",
    "b"
   ]
  },
  {
   "cell_type": "code",
   "execution_count": 199,
   "id": "9cb6c2b8",
   "metadata": {},
   "outputs": [
    {
     "data": {
      "text/plain": [
       "array([[1, 2, 3, 4],\n",
       "       [5, 6, 7, 8],\n",
       "       [0, 0, 0, 0]])"
      ]
     },
     "execution_count": 199,
     "metadata": {},
     "output_type": "execute_result"
    }
   ],
   "source": [
    "c=np.array([0,0,0,0])\n",
    "np.vstack([b,c])"
   ]
  },
  {
   "cell_type": "code",
   "execution_count": 203,
   "id": "e6bab2b1",
   "metadata": {},
   "outputs": [
    {
     "data": {
      "text/plain": [
       "array([[1, 2, 3, 4, 0],\n",
       "       [5, 6, 7, 8, 0]])"
      ]
     },
     "execution_count": 203,
     "metadata": {},
     "output_type": "execute_result"
    }
   ],
   "source": [
    "c=np.array([0,0]).reshape(-1,1)\n",
    "np.hstack([b,c])"
   ]
  },
  {
   "cell_type": "code",
   "execution_count": 115,
   "id": "a8b048fa",
   "metadata": {},
   "outputs": [
    {
     "data": {
      "text/plain": [
       "array([20, 30, 40])"
      ]
     },
     "execution_count": 115,
     "metadata": {},
     "output_type": "execute_result"
    }
   ],
   "source": [
    "#removing elements from numpy array:\n",
    "a=np.array([10,20,30,40])\n",
    "np.delete(a,0)"
   ]
  },
  {
   "cell_type": "code",
   "execution_count": 120,
   "id": "6a60a06e",
   "metadata": {},
   "outputs": [
    {
     "data": {
      "text/plain": [
       "array([10, 40])"
      ]
     },
     "execution_count": 120,
     "metadata": {},
     "output_type": "execute_result"
    }
   ],
   "source": [
    "#remove multiple elements\n",
    "a=np.array([10,20,30,40])\n",
    "np.delete(a,[1,2])"
   ]
  },
  {
   "cell_type": "code",
   "execution_count": 121,
   "id": "2c5e7aac",
   "metadata": {},
   "outputs": [
    {
     "data": {
      "text/plain": [
       "array([10, 40])"
      ]
     },
     "execution_count": 121,
     "metadata": {},
     "output_type": "execute_result"
    }
   ],
   "source": [
    "a=np.array([10,20,30,40])\n",
    "np.delete(a,np.arange(1,3))"
   ]
  },
  {
   "cell_type": "code",
   "execution_count": 149,
   "id": "5f8ca3a2",
   "metadata": {},
   "outputs": [
    {
     "data": {
      "text/plain": [
       "array([[1, 2, 3, 4],\n",
       "       [5, 6, 7, 8]])"
      ]
     },
     "execution_count": 149,
     "metadata": {},
     "output_type": "execute_result"
    }
   ],
   "source": [
    "b=np.array([[1,2,3,4],[5,6,7,8]])\n",
    "b"
   ]
  },
  {
   "cell_type": "code",
   "execution_count": 151,
   "id": "8966d300",
   "metadata": {},
   "outputs": [
    {
     "data": {
      "text/plain": [
       "array([[1, 2, 3],\n",
       "       [5, 6, 7]])"
      ]
     },
     "execution_count": 151,
     "metadata": {},
     "output_type": "execute_result"
    }
   ],
   "source": [
    "np.delete(b,np.array([[3],[3]]),axis=1)"
   ]
  },
  {
   "cell_type": "code",
   "execution_count": 155,
   "id": "b4f07a11",
   "metadata": {},
   "outputs": [
    {
     "data": {
      "text/plain": [
       "array([[1, 2],\n",
       "       [5, 6],\n",
       "       [3, 4]])"
      ]
     },
     "execution_count": 155,
     "metadata": {},
     "output_type": "execute_result"
    }
   ],
   "source": [
    "b=np.array([[1,2],[5,6],[3,4]])\n",
    "b"
   ]
  },
  {
   "cell_type": "code",
   "execution_count": 157,
   "id": "598a8cf9",
   "metadata": {},
   "outputs": [
    {
     "data": {
      "text/plain": [
       "array([[1, 2],\n",
       "       [5, 6]])"
      ]
     },
     "execution_count": 157,
     "metadata": {},
     "output_type": "execute_result"
    }
   ],
   "source": [
    "np.delete(b,np.array([[2]]),axis=0)"
   ]
  },
  {
   "cell_type": "code",
   "execution_count": 342,
   "id": "da05c85b",
   "metadata": {},
   "outputs": [
    {
     "data": {
      "text/plain": [
       "array([10, 99, 30, 40])"
      ]
     },
     "execution_count": 342,
     "metadata": {},
     "output_type": "execute_result"
    }
   ],
   "source": [
    "#update elements:\n",
    "a=np.array([10,20,30,40])\n",
    "a[a==20]=99\n",
    "a"
   ]
  },
  {
   "cell_type": "code",
   "execution_count": 347,
   "id": "de89afa3",
   "metadata": {},
   "outputs": [
    {
     "data": {
      "text/plain": [
       "3"
      ]
     },
     "execution_count": 347,
     "metadata": {},
     "output_type": "execute_result"
    }
   ],
   "source": [
    "#index of an element\n",
    "np.where(a==40)[0][0]"
   ]
  },
  {
   "cell_type": "code",
   "execution_count": 206,
   "id": "d21d0f17",
   "metadata": {},
   "outputs": [
    {
     "data": {
      "text/plain": [
       "array([30, 40])"
      ]
     },
     "execution_count": 206,
     "metadata": {},
     "output_type": "execute_result"
    }
   ],
   "source": [
    "#filter elements\n",
    "a=np.array([10,20,30,40])\n",
    "a[a>25]"
   ]
  },
  {
   "cell_type": "code",
   "execution_count": 210,
   "id": "9a5e14a3",
   "metadata": {},
   "outputs": [
    {
     "data": {
      "text/plain": [
       "array([41])"
      ]
     },
     "execution_count": 210,
     "metadata": {},
     "output_type": "execute_result"
    }
   ],
   "source": [
    "a=np.array([10,20,30,40,41])\n",
    "a[(a>25) & (a%2!=0)]"
   ]
  },
  {
   "cell_type": "code",
   "execution_count": 214,
   "id": "54b8762e",
   "metadata": {},
   "outputs": [
    {
     "data": {
      "text/plain": [
       "array([11, 13, 40, 41])"
      ]
     },
     "execution_count": 214,
     "metadata": {},
     "output_type": "execute_result"
    }
   ],
   "source": [
    "a=np.array([11,13,10,20,30,40,41])\n",
    "a[(a>30) | (a%2==1)]"
   ]
  },
  {
   "cell_type": "code",
   "execution_count": 230,
   "id": "4a857c96",
   "metadata": {},
   "outputs": [
    {
     "data": {
      "text/plain": [
       "(array([2, 3], dtype=int64),)"
      ]
     },
     "execution_count": 230,
     "metadata": {},
     "output_type": "execute_result"
    }
   ],
   "source": [
    "a=np.array([10,20,30,40])\n",
    "index=np.where(a>25)\n",
    "index"
   ]
  },
  {
   "cell_type": "code",
   "execution_count": 231,
   "id": "6fe57941",
   "metadata": {},
   "outputs": [
    {
     "data": {
      "text/plain": [
       "array([30, 40])"
      ]
     },
     "execution_count": 231,
     "metadata": {},
     "output_type": "execute_result"
    }
   ],
   "source": [
    "a[index]"
   ]
  },
  {
   "cell_type": "code",
   "execution_count": 238,
   "id": "d8243afd",
   "metadata": {},
   "outputs": [
    {
     "data": {
      "text/plain": [
       "array([7, 8, 5, 6, 2], dtype=int64)"
      ]
     },
     "execution_count": 238,
     "metadata": {},
     "output_type": "execute_result"
    }
   ],
   "source": [
    "#index of top 5 largest elements in numpy array\n",
    "a=np.array([6,3,9,1,3,21,9,67,34])\n",
    "a.argsort()[::-1][:5]"
   ]
  },
  {
   "cell_type": "code",
   "execution_count": 249,
   "id": "34ae6f24",
   "metadata": {},
   "outputs": [
    {
     "data": {
      "text/plain": [
       "array(['no', 'no', 'no', 'no', 'no', '21', 'no', '67', '34'], dtype='<U11')"
      ]
     },
     "execution_count": 249,
     "metadata": {},
     "output_type": "execute_result"
    }
   ],
   "source": [
    "a=np.array([6,3,9,1,3,21,9,67,34])\n",
    "np.where(a>20,a,'no')"
   ]
  },
  {
   "cell_type": "code",
   "execution_count": 250,
   "id": "15ce798f",
   "metadata": {},
   "outputs": [
    {
     "data": {
      "text/plain": [
       "array([15, 20, 36, 40])"
      ]
     },
     "execution_count": 250,
     "metadata": {},
     "output_type": "execute_result"
    }
   ],
   "source": [
    "arr1=np.array([15,20,31,40])\n",
    "arr2=np.array([1,1,36,2])\n",
    "np.where(arr1>arr2,arr1,arr2)"
   ]
  },
  {
   "cell_type": "code",
   "execution_count": 251,
   "id": "42a248d0",
   "metadata": {},
   "outputs": [
    {
     "data": {
      "text/plain": [
       "(array([0, 1, 3], dtype=int64),)"
      ]
     },
     "execution_count": 251,
     "metadata": {},
     "output_type": "execute_result"
    }
   ],
   "source": [
    "arr1=np.array([15,20,31,40])\n",
    "arr2=np.array([1,1,36,2])\n",
    "np.where(arr1>arr2)"
   ]
  },
  {
   "cell_type": "code",
   "execution_count": 255,
   "id": "69efa63e",
   "metadata": {},
   "outputs": [
    {
     "name": "stdout",
     "output_type": "stream",
     "text": [
      "[0 1 0 0 0 0 3 3 1 1 0 0 0 0 0 1]\n"
     ]
    }
   ],
   "source": [
    "b=np.array([1,6,7,8,6,7,6,9,7,15])\n",
    "c=np.bincount(b)\n",
    "print(c)"
   ]
  },
  {
   "cell_type": "code",
   "execution_count": 258,
   "id": "60d2098c",
   "metadata": {},
   "outputs": [
    {
     "data": {
      "text/plain": [
       "(array([[1],\n",
       "        [2],\n",
       "        [3]]),\n",
       " array([[4],\n",
       "        [5],\n",
       "        [6]]))"
      ]
     },
     "execution_count": 258,
     "metadata": {},
     "output_type": "execute_result"
    }
   ],
   "source": [
    "a=np.array([1,2,3]).reshape(-1,1)\n",
    "b=np.array([4,5,6]).reshape(-1,1)\n",
    "a,b"
   ]
  },
  {
   "cell_type": "code",
   "execution_count": 265,
   "id": "0fcdda61",
   "metadata": {},
   "outputs": [
    {
     "data": {
      "text/plain": [
       "array([[1, 4],\n",
       "       [2, 5],\n",
       "       [3, 6]])"
      ]
     },
     "execution_count": 265,
     "metadata": {},
     "output_type": "execute_result"
    }
   ],
   "source": [
    "np.c_[a,b]"
   ]
  },
  {
   "cell_type": "code",
   "execution_count": 267,
   "id": "e4744fb2",
   "metadata": {},
   "outputs": [
    {
     "data": {
      "text/plain": [
       "array([[1, 4],\n",
       "       [2, 5],\n",
       "       [3, 6]])"
      ]
     },
     "execution_count": 267,
     "metadata": {},
     "output_type": "execute_result"
    }
   ],
   "source": [
    "np.hstack([a,b])"
   ]
  },
  {
   "cell_type": "code",
   "execution_count": 359,
   "id": "6ac3005b",
   "metadata": {},
   "outputs": [
    {
     "data": {
      "text/plain": [
       "array([[ nan,  nan],\n",
       "       [ nan, 185.],\n",
       "       [ nan, 134.],\n",
       "       [ nan, 126.]])"
      ]
     },
     "execution_count": 359,
     "metadata": {},
     "output_type": "execute_result"
    }
   ],
   "source": [
    "#loading a csv file from numpy\n",
    "np.genfromtxt(\"DS1_C4_S5_Sales_Data_Concept.csv\",delimiter=\",\")[:4]"
   ]
  },
  {
   "cell_type": "markdown",
   "id": "e4d4fc0b",
   "metadata": {},
   "source": [
    "### Two lists"
   ]
  },
  {
   "cell_type": "code",
   "execution_count": 178,
   "id": "421caf6d",
   "metadata": {},
   "outputs": [
    {
     "data": {
      "text/plain": [
       "(array([11, 22, 33, 44]),\n",
       " array([ 9, 18, 27, 36]),\n",
       " array([10., 10., 10., 10.]),\n",
       " array([ 10,  40,  90, 160]))"
      ]
     },
     "execution_count": 178,
     "metadata": {},
     "output_type": "execute_result"
    }
   ],
   "source": [
    "a=np.array([10,20,30,40])\n",
    "b=np.array([1,2,3,4])\n",
    "a+b,a-b,a/b,a*b"
   ]
  },
  {
   "cell_type": "code",
   "execution_count": 204,
   "id": "0e1959a3",
   "metadata": {},
   "outputs": [
    {
     "data": {
      "text/plain": [
       "(array([[1, 2],\n",
       "        [3, 4]]),\n",
       " array([[5, 6],\n",
       "        [7, 8]]))"
      ]
     },
     "execution_count": 204,
     "metadata": {},
     "output_type": "execute_result"
    }
   ],
   "source": [
    "a=np.array([[1,2],[3,4]])\n",
    "b=np.array([[5,6],[7,8]])\n",
    "a,b"
   ]
  },
  {
   "cell_type": "code",
   "execution_count": 205,
   "id": "af576970",
   "metadata": {},
   "outputs": [
    {
     "data": {
      "text/plain": [
       "(array([[ 6,  8],\n",
       "        [10, 12]]),\n",
       " array([[0, 0],\n",
       "        [0, 0]]))"
      ]
     },
     "execution_count": 205,
     "metadata": {},
     "output_type": "execute_result"
    }
   ],
   "source": [
    "a+b,a//b"
   ]
  },
  {
   "cell_type": "code",
   "execution_count": 181,
   "id": "a538debc",
   "metadata": {},
   "outputs": [
    {
     "data": {
      "text/plain": [
       "(array([[10, 20],\n",
       "        [30, 40]]),\n",
       " array([[1, 2],\n",
       "        [3, 4]]))"
      ]
     },
     "execution_count": 181,
     "metadata": {},
     "output_type": "execute_result"
    }
   ],
   "source": [
    "a=np.array([10,20,30,40]).reshape(2,2)\n",
    "b=np.array([1,2,3,4]).reshape(2,2)\n",
    "a,b"
   ]
  },
  {
   "cell_type": "code",
   "execution_count": 182,
   "id": "f93fdcd7",
   "metadata": {},
   "outputs": [
    {
     "data": {
      "text/plain": [
       "array([[ 70, 100],\n",
       "       [150, 220]])"
      ]
     },
     "execution_count": 182,
     "metadata": {},
     "output_type": "execute_result"
    }
   ],
   "source": [
    "#matrix multiplication\n",
    "a@b"
   ]
  },
  {
   "cell_type": "code",
   "execution_count": 192,
   "id": "c6fe4994",
   "metadata": {},
   "outputs": [
    {
     "data": {
      "text/plain": [
       "array([10, 20, 30, 40,  1,  2,  3,  4])"
      ]
     },
     "execution_count": 192,
     "metadata": {},
     "output_type": "execute_result"
    }
   ],
   "source": [
    "#concating two array\n",
    "a=np.array([10,20,30,40])\n",
    "b=np.array([1,2,3,4])\n",
    "np.concatenate([a,b])"
   ]
  },
  {
   "cell_type": "code",
   "execution_count": 193,
   "id": "279f31d0",
   "metadata": {},
   "outputs": [
    {
     "data": {
      "text/plain": [
       "array([10, 20, 30, 40,  1,  2,  3,  4])"
      ]
     },
     "execution_count": 193,
     "metadata": {},
     "output_type": "execute_result"
    }
   ],
   "source": [
    "np.append(a,b)"
   ]
  },
  {
   "cell_type": "code",
   "execution_count": 278,
   "id": "5c870028",
   "metadata": {},
   "outputs": [
    {
     "data": {
      "text/plain": [
       "21.25"
      ]
     },
     "execution_count": 278,
     "metadata": {},
     "output_type": "execute_result"
    }
   ],
   "source": [
    "#percentiles\n",
    "a=np.array([10,20,30,40,50,60,70,15,25,35])\n",
    "np.percentile(a,25)"
   ]
  },
  {
   "cell_type": "code",
   "execution_count": 280,
   "id": "b4df3a6e",
   "metadata": {},
   "outputs": [
    {
     "data": {
      "text/plain": [
       "(32.5, 32.5)"
      ]
     },
     "execution_count": 280,
     "metadata": {},
     "output_type": "execute_result"
    }
   ],
   "source": [
    "np.median(a),np.percentile(a,50)"
   ]
  },
  {
   "cell_type": "code",
   "execution_count": 282,
   "id": "6f8371d3",
   "metadata": {},
   "outputs": [
    {
     "data": {
      "text/plain": [
       "nan"
      ]
     },
     "execution_count": 282,
     "metadata": {},
     "output_type": "execute_result"
    }
   ],
   "source": [
    "np.nan"
   ]
  },
  {
   "cell_type": "code",
   "execution_count": 285,
   "id": "efaaca7a",
   "metadata": {},
   "outputs": [
    {
     "name": "stdout",
     "output_type": "stream",
     "text": [
      "10 20 30 40 50 60 70 15 25 35 "
     ]
    }
   ],
   "source": [
    "#looping over numpy array\n",
    "for i in a:\n",
    "    print(i,end=\" \")"
   ]
  },
  {
   "cell_type": "code",
   "execution_count": 292,
   "id": "b7401c77",
   "metadata": {},
   "outputs": [
    {
     "data": {
      "text/plain": [
       "array([[ 0,  1,  2,  3],\n",
       "       [ 4,  5,  6,  7],\n",
       "       [ 8,  9, 10, 11],\n",
       "       [12, 13, 14, 15]])"
      ]
     },
     "execution_count": 292,
     "metadata": {},
     "output_type": "execute_result"
    }
   ],
   "source": [
    "a=np.arange(16).reshape(4,4)\n",
    "a"
   ]
  },
  {
   "cell_type": "code",
   "execution_count": 293,
   "id": "23827495",
   "metadata": {},
   "outputs": [],
   "source": [
    "#save as csv\n",
    "a.tofile(\"sumne.csv\",sep=\" \")"
   ]
  },
  {
   "cell_type": "code",
   "execution_count": 297,
   "id": "2a8d06a6",
   "metadata": {},
   "outputs": [
    {
     "data": {
      "text/plain": [
       "(6, 0)"
      ]
     },
     "execution_count": 297,
     "metadata": {},
     "output_type": "execute_result"
    }
   ],
   "source": [
    "#index of the max and min values\n",
    "a=np.array([10,20,30,40,50,60,70,15,25,35])\n",
    "a.argmax(),a.argmin()"
   ]
  },
  {
   "cell_type": "code",
   "execution_count": 7,
   "id": "38c99496",
   "metadata": {},
   "outputs": [
    {
     "data": {
      "text/plain": [
       "(array([6, 7], dtype=int64),)"
      ]
     },
     "execution_count": 7,
     "metadata": {},
     "output_type": "execute_result"
    }
   ],
   "source": [
    "a=np.array([10,20,30,40,50,60,70,70,15,25,35])\n",
    "np.where(a==max(a))"
   ]
  },
  {
   "cell_type": "code",
   "execution_count": 294,
   "id": "b7d8b948",
   "metadata": {},
   "outputs": [
    {
     "data": {
      "text/plain": [
       "[[0, 1, 2, 3], [4, 5, 6, 7], [8, 9, 10, 11], [12, 13, 14, 15]]"
      ]
     },
     "execution_count": 294,
     "metadata": {},
     "output_type": "execute_result"
    }
   ],
   "source": [
    "#array to list\n",
    "a.tolist()"
   ]
  },
  {
   "cell_type": "code",
   "execution_count": 332,
   "id": "f8467e85",
   "metadata": {},
   "outputs": [],
   "source": [
    "#ravle vs flatten"
   ]
  },
  {
   "cell_type": "code",
   "execution_count": 333,
   "id": "b093ee42",
   "metadata": {},
   "outputs": [
    {
     "data": {
      "text/plain": [
       "array([[ 0,  1,  2,  3],\n",
       "       [ 4,  5,  6,  7],\n",
       "       [ 8,  9, 10, 11],\n",
       "       [12, 13, 14, 15]])"
      ]
     },
     "execution_count": 333,
     "metadata": {},
     "output_type": "execute_result"
    }
   ],
   "source": [
    "a=np.arange(16).reshape(4,4)\n",
    "a"
   ]
  },
  {
   "cell_type": "code",
   "execution_count": 334,
   "id": "91c09f1e",
   "metadata": {},
   "outputs": [
    {
     "data": {
      "text/plain": [
       "array([ 0,  1,  2,  3,  4,  5,  6,  7,  8,  9, 10, 11, 12, 13, 14, 15])"
      ]
     },
     "execution_count": 334,
     "metadata": {},
     "output_type": "execute_result"
    }
   ],
   "source": [
    "ra=np.ravel(a)\n",
    "ra"
   ]
  },
  {
   "cell_type": "code",
   "execution_count": 335,
   "id": "702f2c78",
   "metadata": {},
   "outputs": [
    {
     "data": {
      "text/plain": [
       "array([ 0,  1,  2,  3,  4,  5,  6,  7,  8,  9, 10, 11, 12, 13, 14, 15])"
      ]
     },
     "execution_count": 335,
     "metadata": {},
     "output_type": "execute_result"
    }
   ],
   "source": [
    "fl=a.flatten()\n",
    "fl"
   ]
  },
  {
   "cell_type": "code",
   "execution_count": 336,
   "id": "a11196b8",
   "metadata": {},
   "outputs": [
    {
     "data": {
      "text/plain": [
       "array([99,  1,  2,  3,  4,  5,  6,  7,  8,  9, 10, 11, 12, 13, 14, 15])"
      ]
     },
     "execution_count": 336,
     "metadata": {},
     "output_type": "execute_result"
    }
   ],
   "source": [
    "fl[0]=99\n",
    "fl"
   ]
  },
  {
   "cell_type": "code",
   "execution_count": 337,
   "id": "eb2f533c",
   "metadata": {},
   "outputs": [
    {
     "data": {
      "text/plain": [
       "array([[ 0,  1,  2,  3],\n",
       "       [ 4,  5,  6,  7],\n",
       "       [ 8,  9, 10, 11],\n",
       "       [12, 13, 14, 15]])"
      ]
     },
     "execution_count": 337,
     "metadata": {},
     "output_type": "execute_result"
    }
   ],
   "source": [
    "a"
   ]
  },
  {
   "cell_type": "code",
   "execution_count": 338,
   "id": "d4216f34",
   "metadata": {},
   "outputs": [
    {
     "data": {
      "text/plain": [
       "array([99,  1,  2,  3,  4,  5,  6,  7,  8,  9, 10, 11, 12, 13, 14, 15])"
      ]
     },
     "execution_count": 338,
     "metadata": {},
     "output_type": "execute_result"
    }
   ],
   "source": [
    "ra[0]=99\n",
    "ra"
   ]
  },
  {
   "cell_type": "code",
   "execution_count": 339,
   "id": "ce0c601c",
   "metadata": {},
   "outputs": [
    {
     "data": {
      "text/plain": [
       "array([[99,  1,  2,  3],\n",
       "       [ 4,  5,  6,  7],\n",
       "       [ 8,  9, 10, 11],\n",
       "       [12, 13, 14, 15]])"
      ]
     },
     "execution_count": 339,
     "metadata": {},
     "output_type": "execute_result"
    }
   ],
   "source": [
    "a"
   ]
  },
  {
   "cell_type": "code",
   "execution_count": null,
   "id": "3022527e",
   "metadata": {},
   "outputs": [],
   "source": [
    "#we can see that both flatten and ravel gives the 1D array \n",
    "#but the difference is if we change the value in ravel array, then original 2d array will also be changed\n",
    "#ravel is faster than flatten\n",
    "#flatten creates the copy of the array but ravel gives the view of original array"
   ]
  },
  {
   "cell_type": "markdown",
   "id": "a841ca6b",
   "metadata": {},
   "source": [
    "1. Reverse a 4x4 matrix"
   ]
  },
  {
   "cell_type": "code",
   "execution_count": 11,
   "id": "5e647be0",
   "metadata": {},
   "outputs": [
    {
     "data": {
      "text/plain": [
       "array([[ 0,  1,  2,  3],\n",
       "       [ 4,  5,  6,  7],\n",
       "       [ 8,  9, 10, 11],\n",
       "       [12, 13, 14, 15]])"
      ]
     },
     "execution_count": 11,
     "metadata": {},
     "output_type": "execute_result"
    }
   ],
   "source": [
    "a=np.arange(16).reshape(4,4)\n",
    "a"
   ]
  },
  {
   "cell_type": "code",
   "execution_count": 12,
   "id": "bf04233d",
   "metadata": {},
   "outputs": [
    {
     "data": {
      "text/plain": [
       "array([[15, 14, 13, 12],\n",
       "       [11, 10,  9,  8],\n",
       "       [ 7,  6,  5,  4],\n",
       "       [ 3,  2,  1,  0]])"
      ]
     },
     "execution_count": 12,
     "metadata": {},
     "output_type": "execute_result"
    }
   ],
   "source": [
    "a.flatten()[::-1].reshape(4,4)"
   ]
  },
  {
   "cell_type": "code",
   "execution_count": null,
   "id": "5c6fc5d7",
   "metadata": {},
   "outputs": [],
   "source": []
  }
 ],
 "metadata": {
  "kernelspec": {
   "display_name": "Python 3 (ipykernel)",
   "language": "python",
   "name": "python3"
  },
  "language_info": {
   "codemirror_mode": {
    "name": "ipython",
    "version": 3
   },
   "file_extension": ".py",
   "mimetype": "text/x-python",
   "name": "python",
   "nbconvert_exporter": "python",
   "pygments_lexer": "ipython3",
   "version": "3.9.12"
  }
 },
 "nbformat": 4,
 "nbformat_minor": 5
}
