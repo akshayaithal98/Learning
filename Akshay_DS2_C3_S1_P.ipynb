{
 "cells": [
  {
   "cell_type": "markdown",
   "id": "31f0901c",
   "metadata": {},
   "source": [
    "# Task1"
   ]
  },
  {
   "cell_type": "code",
   "execution_count": 199,
   "id": "bcccae04",
   "metadata": {},
   "outputs": [],
   "source": [
    "\n",
    "#importing required libraries\n",
    "import pandas as pd\n",
    "import numpy as np\n",
    "import matplotlib.pyplot as plt\n",
    "import seaborn as sb\n",
    "import sklearn.preprocessing as pp\n",
    "from sklearn.model_selection import train_test_split"
   ]
  },
  {
   "cell_type": "code",
   "execution_count": 200,
   "id": "ee5aa498",
   "metadata": {},
   "outputs": [],
   "source": [
    "#importing data \n",
    "df=pd.read_csv(\"DS2_C5_S1_Income_Data_Practice.csv\")"
   ]
  },
  {
   "cell_type": "markdown",
   "id": "1722b062",
   "metadata": {},
   "source": [
    "# Task2"
   ]
  },
  {
   "cell_type": "code",
   "execution_count": 201,
   "id": "50474ff7",
   "metadata": {},
   "outputs": [
    {
     "data": {
      "text/html": [
       "<div>\n",
       "<style scoped>\n",
       "    .dataframe tbody tr th:only-of-type {\n",
       "        vertical-align: middle;\n",
       "    }\n",
       "\n",
       "    .dataframe tbody tr th {\n",
       "        vertical-align: top;\n",
       "    }\n",
       "\n",
       "    .dataframe thead th {\n",
       "        text-align: right;\n",
       "    }\n",
       "</style>\n",
       "<table border=\"1\" class=\"dataframe\">\n",
       "  <thead>\n",
       "    <tr style=\"text-align: right;\">\n",
       "      <th></th>\n",
       "      <th>Age</th>\n",
       "      <th>WorkClass</th>\n",
       "      <th>Fnlwgt</th>\n",
       "      <th>Education</th>\n",
       "      <th>Education_Num</th>\n",
       "      <th>Marital_Status</th>\n",
       "      <th>Occupation</th>\n",
       "      <th>Relationship</th>\n",
       "      <th>Gender</th>\n",
       "      <th>Capital_Gain</th>\n",
       "      <th>Capital_Loss</th>\n",
       "      <th>Hours_Per_Week</th>\n",
       "      <th>Native_Country</th>\n",
       "      <th>Income_Bracket</th>\n",
       "    </tr>\n",
       "  </thead>\n",
       "  <tbody>\n",
       "    <tr>\n",
       "      <th>0</th>\n",
       "      <td>39</td>\n",
       "      <td>State-gov</td>\n",
       "      <td>77516</td>\n",
       "      <td>Bachelors</td>\n",
       "      <td>13</td>\n",
       "      <td>Never-married</td>\n",
       "      <td>Adm-clerical</td>\n",
       "      <td>Not-in-family</td>\n",
       "      <td>Male</td>\n",
       "      <td>2174</td>\n",
       "      <td>0</td>\n",
       "      <td>40</td>\n",
       "      <td>United-States</td>\n",
       "      <td>&lt;=50K</td>\n",
       "    </tr>\n",
       "    <tr>\n",
       "      <th>1</th>\n",
       "      <td>50</td>\n",
       "      <td>Self-emp-not-inc</td>\n",
       "      <td>83311</td>\n",
       "      <td>Bachelors</td>\n",
       "      <td>13</td>\n",
       "      <td>Married-civ-spouse</td>\n",
       "      <td>Exec-managerial</td>\n",
       "      <td>Husband</td>\n",
       "      <td>Male</td>\n",
       "      <td>0</td>\n",
       "      <td>0</td>\n",
       "      <td>13</td>\n",
       "      <td>United-States</td>\n",
       "      <td>&lt;=50K</td>\n",
       "    </tr>\n",
       "    <tr>\n",
       "      <th>2</th>\n",
       "      <td>38</td>\n",
       "      <td>Private</td>\n",
       "      <td>215646</td>\n",
       "      <td>HS-grad</td>\n",
       "      <td>9</td>\n",
       "      <td>Divorced</td>\n",
       "      <td>Handlers-cleaners</td>\n",
       "      <td>Not-in-family</td>\n",
       "      <td>Male</td>\n",
       "      <td>0</td>\n",
       "      <td>0</td>\n",
       "      <td>40</td>\n",
       "      <td>United-States</td>\n",
       "      <td>&lt;=50K</td>\n",
       "    </tr>\n",
       "    <tr>\n",
       "      <th>3</th>\n",
       "      <td>53</td>\n",
       "      <td>Private</td>\n",
       "      <td>234721</td>\n",
       "      <td>11th</td>\n",
       "      <td>7</td>\n",
       "      <td>Married-civ-spouse</td>\n",
       "      <td>Handlers-cleaners</td>\n",
       "      <td>Husband</td>\n",
       "      <td>Male</td>\n",
       "      <td>0</td>\n",
       "      <td>0</td>\n",
       "      <td>40</td>\n",
       "      <td>United-States</td>\n",
       "      <td>&lt;=50K</td>\n",
       "    </tr>\n",
       "    <tr>\n",
       "      <th>4</th>\n",
       "      <td>28</td>\n",
       "      <td>Private</td>\n",
       "      <td>338409</td>\n",
       "      <td>Bachelors</td>\n",
       "      <td>13</td>\n",
       "      <td>Married-civ-spouse</td>\n",
       "      <td>Prof-specialty</td>\n",
       "      <td>Wife</td>\n",
       "      <td>Female</td>\n",
       "      <td>0</td>\n",
       "      <td>0</td>\n",
       "      <td>40</td>\n",
       "      <td>Cuba</td>\n",
       "      <td>&lt;=50K</td>\n",
       "    </tr>\n",
       "  </tbody>\n",
       "</table>\n",
       "</div>"
      ],
      "text/plain": [
       "   Age          WorkClass  Fnlwgt   Education  Education_Num  \\\n",
       "0   39          State-gov   77516   Bachelors             13   \n",
       "1   50   Self-emp-not-inc   83311   Bachelors             13   \n",
       "2   38            Private  215646     HS-grad              9   \n",
       "3   53            Private  234721        11th              7   \n",
       "4   28            Private  338409   Bachelors             13   \n",
       "\n",
       "        Marital_Status          Occupation    Relationship   Gender  \\\n",
       "0        Never-married        Adm-clerical   Not-in-family     Male   \n",
       "1   Married-civ-spouse     Exec-managerial         Husband     Male   \n",
       "2             Divorced   Handlers-cleaners   Not-in-family     Male   \n",
       "3   Married-civ-spouse   Handlers-cleaners         Husband     Male   \n",
       "4   Married-civ-spouse      Prof-specialty            Wife   Female   \n",
       "\n",
       "   Capital_Gain  Capital_Loss  Hours_Per_Week  Native_Country Income_Bracket  \n",
       "0          2174             0              40   United-States          <=50K  \n",
       "1             0             0              13   United-States          <=50K  \n",
       "2             0             0              40   United-States          <=50K  \n",
       "3             0             0              40   United-States          <=50K  \n",
       "4             0             0              40            Cuba          <=50K  "
      ]
     },
     "execution_count": 201,
     "metadata": {},
     "output_type": "execute_result"
    }
   ],
   "source": [
    "df.head()"
   ]
  },
  {
   "cell_type": "code",
   "execution_count": 202,
   "id": "738cced6",
   "metadata": {},
   "outputs": [
    {
     "data": {
      "text/plain": [
       "(32561, 14)"
      ]
     },
     "execution_count": 202,
     "metadata": {},
     "output_type": "execute_result"
    }
   ],
   "source": [
    "#number of rows and columns\n",
    "df.shape"
   ]
  },
  {
   "cell_type": "code",
   "execution_count": 203,
   "id": "fb1c9265",
   "metadata": {},
   "outputs": [
    {
     "data": {
      "text/plain": [
       "Index(['Age', 'WorkClass', 'Fnlwgt', 'Education', 'Education_Num',\n",
       "       'Marital_Status', 'Occupation', 'Relationship', 'Gender',\n",
       "       'Capital_Gain', 'Capital_Loss', 'Hours_Per_Week', 'Native_Country',\n",
       "       'Income_Bracket'],\n",
       "      dtype='object')"
      ]
     },
     "execution_count": 203,
     "metadata": {},
     "output_type": "execute_result"
    }
   ],
   "source": [
    "#name of columns\n",
    "df.columns"
   ]
  },
  {
   "cell_type": "code",
   "execution_count": 204,
   "id": "1dd3ad76",
   "metadata": {},
   "outputs": [
    {
     "data": {
      "text/html": [
       "<div>\n",
       "<style scoped>\n",
       "    .dataframe tbody tr th:only-of-type {\n",
       "        vertical-align: middle;\n",
       "    }\n",
       "\n",
       "    .dataframe tbody tr th {\n",
       "        vertical-align: top;\n",
       "    }\n",
       "\n",
       "    .dataframe thead th {\n",
       "        text-align: right;\n",
       "    }\n",
       "</style>\n",
       "<table border=\"1\" class=\"dataframe\">\n",
       "  <thead>\n",
       "    <tr style=\"text-align: right;\">\n",
       "      <th></th>\n",
       "      <th>Age</th>\n",
       "      <th>Fnlwgt</th>\n",
       "      <th>Education_Num</th>\n",
       "      <th>Capital_Gain</th>\n",
       "      <th>Capital_Loss</th>\n",
       "      <th>Hours_Per_Week</th>\n",
       "    </tr>\n",
       "  </thead>\n",
       "  <tbody>\n",
       "    <tr>\n",
       "      <th>count</th>\n",
       "      <td>32561.000000</td>\n",
       "      <td>3.256100e+04</td>\n",
       "      <td>32561.000000</td>\n",
       "      <td>32561.000000</td>\n",
       "      <td>32561.000000</td>\n",
       "      <td>32561.000000</td>\n",
       "    </tr>\n",
       "    <tr>\n",
       "      <th>mean</th>\n",
       "      <td>38.581647</td>\n",
       "      <td>1.897784e+05</td>\n",
       "      <td>10.080679</td>\n",
       "      <td>1077.648844</td>\n",
       "      <td>87.303830</td>\n",
       "      <td>40.437456</td>\n",
       "    </tr>\n",
       "    <tr>\n",
       "      <th>std</th>\n",
       "      <td>13.640433</td>\n",
       "      <td>1.055500e+05</td>\n",
       "      <td>2.572720</td>\n",
       "      <td>7385.292085</td>\n",
       "      <td>402.960219</td>\n",
       "      <td>12.347429</td>\n",
       "    </tr>\n",
       "    <tr>\n",
       "      <th>min</th>\n",
       "      <td>17.000000</td>\n",
       "      <td>1.228500e+04</td>\n",
       "      <td>1.000000</td>\n",
       "      <td>0.000000</td>\n",
       "      <td>0.000000</td>\n",
       "      <td>1.000000</td>\n",
       "    </tr>\n",
       "    <tr>\n",
       "      <th>25%</th>\n",
       "      <td>28.000000</td>\n",
       "      <td>1.178270e+05</td>\n",
       "      <td>9.000000</td>\n",
       "      <td>0.000000</td>\n",
       "      <td>0.000000</td>\n",
       "      <td>40.000000</td>\n",
       "    </tr>\n",
       "    <tr>\n",
       "      <th>50%</th>\n",
       "      <td>37.000000</td>\n",
       "      <td>1.783560e+05</td>\n",
       "      <td>10.000000</td>\n",
       "      <td>0.000000</td>\n",
       "      <td>0.000000</td>\n",
       "      <td>40.000000</td>\n",
       "    </tr>\n",
       "    <tr>\n",
       "      <th>75%</th>\n",
       "      <td>48.000000</td>\n",
       "      <td>2.370510e+05</td>\n",
       "      <td>12.000000</td>\n",
       "      <td>0.000000</td>\n",
       "      <td>0.000000</td>\n",
       "      <td>45.000000</td>\n",
       "    </tr>\n",
       "    <tr>\n",
       "      <th>max</th>\n",
       "      <td>90.000000</td>\n",
       "      <td>1.484705e+06</td>\n",
       "      <td>16.000000</td>\n",
       "      <td>99999.000000</td>\n",
       "      <td>4356.000000</td>\n",
       "      <td>99.000000</td>\n",
       "    </tr>\n",
       "  </tbody>\n",
       "</table>\n",
       "</div>"
      ],
      "text/plain": [
       "                Age        Fnlwgt  Education_Num  Capital_Gain  Capital_Loss  \\\n",
       "count  32561.000000  3.256100e+04   32561.000000  32561.000000  32561.000000   \n",
       "mean      38.581647  1.897784e+05      10.080679   1077.648844     87.303830   \n",
       "std       13.640433  1.055500e+05       2.572720   7385.292085    402.960219   \n",
       "min       17.000000  1.228500e+04       1.000000      0.000000      0.000000   \n",
       "25%       28.000000  1.178270e+05       9.000000      0.000000      0.000000   \n",
       "50%       37.000000  1.783560e+05      10.000000      0.000000      0.000000   \n",
       "75%       48.000000  2.370510e+05      12.000000      0.000000      0.000000   \n",
       "max       90.000000  1.484705e+06      16.000000  99999.000000   4356.000000   \n",
       "\n",
       "       Hours_Per_Week  \n",
       "count    32561.000000  \n",
       "mean        40.437456  \n",
       "std         12.347429  \n",
       "min          1.000000  \n",
       "25%         40.000000  \n",
       "50%         40.000000  \n",
       "75%         45.000000  \n",
       "max         99.000000  "
      ]
     },
     "execution_count": 204,
     "metadata": {},
     "output_type": "execute_result"
    }
   ],
   "source": [
    "#summarizing numerical data\n",
    "df.describe()"
   ]
  },
  {
   "cell_type": "code",
   "execution_count": 205,
   "id": "26931940",
   "metadata": {
    "scrolled": true
   },
   "outputs": [
    {
     "name": "stdout",
     "output_type": "stream",
     "text": [
      "<class 'pandas.core.frame.DataFrame'>\n",
      "RangeIndex: 32561 entries, 0 to 32560\n",
      "Data columns (total 14 columns):\n",
      " #   Column          Non-Null Count  Dtype \n",
      "---  ------          --------------  ----- \n",
      " 0   Age             32561 non-null  int64 \n",
      " 1   WorkClass       32561 non-null  object\n",
      " 2   Fnlwgt          32561 non-null  int64 \n",
      " 3   Education       32561 non-null  object\n",
      " 4   Education_Num   32561 non-null  int64 \n",
      " 5   Marital_Status  32561 non-null  object\n",
      " 6   Occupation      32561 non-null  object\n",
      " 7   Relationship    32561 non-null  object\n",
      " 8   Gender          32561 non-null  object\n",
      " 9   Capital_Gain    32561 non-null  int64 \n",
      " 10  Capital_Loss    32561 non-null  int64 \n",
      " 11  Hours_Per_Week  32561 non-null  int64 \n",
      " 12  Native_Country  32561 non-null  object\n",
      " 13  Income_Bracket  32561 non-null  object\n",
      "dtypes: int64(6), object(8)\n",
      "memory usage: 3.5+ MB\n"
     ]
    }
   ],
   "source": [
    "df.info()"
   ]
  },
  {
   "cell_type": "markdown",
   "id": "ebc6985b",
   "metadata": {},
   "source": [
    "# Task3"
   ]
  },
  {
   "cell_type": "code",
   "execution_count": 206,
   "id": "bb3a4189",
   "metadata": {},
   "outputs": [
    {
     "data": {
      "text/plain": [
       "Age               0\n",
       "WorkClass         0\n",
       "Fnlwgt            0\n",
       "Education         0\n",
       "Education_Num     0\n",
       "Marital_Status    0\n",
       "Occupation        0\n",
       "Relationship      0\n",
       "Gender            0\n",
       "Capital_Gain      0\n",
       "Capital_Loss      0\n",
       "Hours_Per_Week    0\n",
       "Native_Country    0\n",
       "Income_Bracket    0\n",
       "dtype: int64"
      ]
     },
     "execution_count": 206,
     "metadata": {},
     "output_type": "execute_result"
    }
   ],
   "source": [
    "#checking for null values\n",
    "df.isnull().sum()"
   ]
  },
  {
   "cell_type": "code",
   "execution_count": 207,
   "id": "47e48fc7",
   "metadata": {},
   "outputs": [
    {
     "name": "stdout",
     "output_type": "stream",
     "text": [
      "--- WorkClass ---\n",
      " Private             22696\n",
      " Self-emp-not-inc     2541\n",
      " Local-gov            2093\n",
      " ?                    1836\n",
      " State-gov            1298\n",
      " Self-emp-inc         1116\n",
      " Federal-gov           960\n",
      " Without-pay            14\n",
      " Never-worked            7\n",
      "Name: WorkClass, dtype: int64 \n",
      "\n",
      "--- Education ---\n",
      " HS-grad         10501\n",
      " Some-college     7291\n",
      " Bachelors        5355\n",
      " Masters          1723\n",
      " Assoc-voc        1382\n",
      " 11th             1175\n",
      " Assoc-acdm       1067\n",
      " 10th              933\n",
      " 7th-8th           646\n",
      " Prof-school       576\n",
      " 9th               514\n",
      " 12th              433\n",
      " Doctorate         413\n",
      " 5th-6th           333\n",
      " 1st-4th           168\n",
      " Preschool          51\n",
      "Name: Education, dtype: int64 \n",
      "\n",
      "--- Marital_Status ---\n",
      " Married-civ-spouse       14976\n",
      " Never-married            10683\n",
      " Divorced                  4443\n",
      " Separated                 1025\n",
      " Widowed                    993\n",
      " Married-spouse-absent      418\n",
      " Married-AF-spouse           23\n",
      "Name: Marital_Status, dtype: int64 \n",
      "\n",
      "--- Occupation ---\n",
      " Prof-specialty       4140\n",
      " Craft-repair         4099\n",
      " Exec-managerial      4066\n",
      " Adm-clerical         3770\n",
      " Sales                3650\n",
      " Other-service        3295\n",
      " Machine-op-inspct    2002\n",
      " ?                    1843\n",
      " Transport-moving     1597\n",
      " Handlers-cleaners    1370\n",
      " Farming-fishing       994\n",
      " Tech-support          928\n",
      " Protective-serv       649\n",
      " Priv-house-serv       149\n",
      " Armed-Forces            9\n",
      "Name: Occupation, dtype: int64 \n",
      "\n",
      "--- Relationship ---\n",
      " Husband           13193\n",
      " Not-in-family      8305\n",
      " Own-child          5068\n",
      " Unmarried          3446\n",
      " Wife               1568\n",
      " Other-relative      981\n",
      "Name: Relationship, dtype: int64 \n",
      "\n",
      "--- Gender ---\n",
      " Male      21790\n",
      " Female    10771\n",
      "Name: Gender, dtype: int64 \n",
      "\n",
      "--- Native_Country ---\n",
      " United-States                 29170\n",
      " Mexico                          643\n",
      " ?                               583\n",
      " Philippines                     198\n",
      " Germany                         137\n",
      " Canada                          121\n",
      " Puerto-Rico                     114\n",
      " El-Salvador                     106\n",
      " India                           100\n",
      " Cuba                             95\n",
      " England                          90\n",
      " Jamaica                          81\n",
      " South                            80\n",
      " China                            75\n",
      " Italy                            73\n",
      " Dominican-Republic               70\n",
      " Vietnam                          67\n",
      " Guatemala                        64\n",
      " Japan                            62\n",
      " Poland                           60\n",
      " Columbia                         59\n",
      " Taiwan                           51\n",
      " Haiti                            44\n",
      " Iran                             43\n",
      " Portugal                         37\n",
      " Nicaragua                        34\n",
      " Peru                             31\n",
      " France                           29\n",
      " Greece                           29\n",
      " Ecuador                          28\n",
      " Ireland                          24\n",
      " Hong                             20\n",
      " Cambodia                         19\n",
      " Trinadad&Tobago                  19\n",
      " Laos                             18\n",
      " Thailand                         18\n",
      " Yugoslavia                       16\n",
      " Outlying-US(Guam-USVI-etc)       14\n",
      " Honduras                         13\n",
      " Hungary                          13\n",
      " Scotland                         12\n",
      " Holand-Netherlands                1\n",
      "Name: Native_Country, dtype: int64 \n",
      "\n",
      "--- Income_Bracket ---\n",
      " <=50K    24720\n",
      " >50K      7841\n",
      "Name: Income_Bracket, dtype: int64 \n",
      "\n"
     ]
    }
   ],
   "source": [
    "cat=df.select_dtypes(include=object)\n",
    "l=cat.columns.to_list()\n",
    "for i in l:\n",
    "    print(\"---\",i,\"---\")\n",
    "    print(cat[i].value_counts(),\"\\n\")"
   ]
  },
  {
   "cell_type": "code",
   "execution_count": 208,
   "id": "9cc856b1",
   "metadata": {},
   "outputs": [
    {
     "data": {
      "text/plain": [
       "['Age',\n",
       " 'WorkClass',\n",
       " 'Fnlwgt',\n",
       " 'Education',\n",
       " 'Education_Num',\n",
       " 'Marital_Status',\n",
       " 'Occupation',\n",
       " 'Relationship',\n",
       " 'Gender',\n",
       " 'Capital_Gain',\n",
       " 'Capital_Loss',\n",
       " 'Hours_Per_Week',\n",
       " 'Native_Country',\n",
       " 'Income_Bracket']"
      ]
     },
     "execution_count": 208,
     "metadata": {},
     "output_type": "execute_result"
    }
   ],
   "source": [
    "l=df.columns.to_list()\n",
    "l"
   ]
  },
  {
   "cell_type": "code",
   "execution_count": 209,
   "id": "9be3cf30",
   "metadata": {},
   "outputs": [
    {
     "data": {
      "text/plain": [
       "0        29849\n",
       "15024      347\n",
       "7688       284\n",
       "7298       246\n",
       "99999      159\n",
       "         ...  \n",
       "1111         1\n",
       "2538         1\n",
       "22040        1\n",
       "4931         1\n",
       "5060         1\n",
       "Name: Capital_Gain, Length: 119, dtype: int64"
      ]
     },
     "execution_count": 209,
     "metadata": {},
     "output_type": "execute_result"
    }
   ],
   "source": [
    "df[\"Capital_Gain\"].value_counts()"
   ]
  },
  {
   "cell_type": "code",
   "execution_count": 210,
   "id": "19db4596",
   "metadata": {},
   "outputs": [],
   "source": [
    "#since all most all values are 0 and median is also zero this doesnt add value to us"
   ]
  },
  {
   "cell_type": "code",
   "execution_count": 211,
   "id": "5ab1eb09",
   "metadata": {},
   "outputs": [
    {
     "data": {
      "text/plain": [
       "0       31042\n",
       "1902      202\n",
       "1977      168\n",
       "1887      159\n",
       "1848       51\n",
       "        ...  \n",
       "2080        1\n",
       "1539        1\n",
       "1844        1\n",
       "2489        1\n",
       "1411        1\n",
       "Name: Capital_Loss, Length: 92, dtype: int64"
      ]
     },
     "execution_count": 211,
     "metadata": {},
     "output_type": "execute_result"
    }
   ],
   "source": [
    "df[\"Capital_Loss\"].value_counts()"
   ]
  },
  {
   "cell_type": "code",
   "execution_count": 212,
   "id": "b9e3dfde",
   "metadata": {},
   "outputs": [],
   "source": [
    "df.drop([\"Capital_Loss\",\"Capital_Gain\"],inplace=True,axis=1)"
   ]
  },
  {
   "cell_type": "code",
   "execution_count": 213,
   "id": "eedd7c6b",
   "metadata": {},
   "outputs": [],
   "source": [
    "#there are \" ?\" values in the data set.let me impute that with mode of each column"
   ]
  },
  {
   "cell_type": "code",
   "execution_count": 214,
   "id": "8556e672",
   "metadata": {},
   "outputs": [],
   "source": [
    "m=df[\"WorkClass\"].mode()[0]\n",
    "df[\"WorkClass\"].replace(\" ?\",m,inplace=True)"
   ]
  },
  {
   "cell_type": "code",
   "execution_count": 215,
   "id": "0c3e0de9",
   "metadata": {},
   "outputs": [],
   "source": [
    "m=df[\"Occupation\"].mode()[0]\n",
    "df[\"Occupation\"].replace(\" ?\",m,inplace=True)"
   ]
  },
  {
   "cell_type": "code",
   "execution_count": 216,
   "id": "66db5ada",
   "metadata": {},
   "outputs": [],
   "source": [
    "m=df[\"Native_Country\"].mode()[0]\n",
    "df[\"Native_Country\"].replace(\" ?\",m,inplace=True)"
   ]
  },
  {
   "cell_type": "markdown",
   "id": "425bd4c0",
   "metadata": {},
   "source": [
    "# Task4"
   ]
  },
  {
   "cell_type": "code",
   "execution_count": 217,
   "id": "82d7adaf",
   "metadata": {},
   "outputs": [],
   "source": [
    "df1=df.copy()"
   ]
  },
  {
   "cell_type": "code",
   "execution_count": 218,
   "id": "59fd8157",
   "metadata": {},
   "outputs": [
    {
     "data": {
      "text/plain": [
       "Age                int64\n",
       "WorkClass         object\n",
       "Fnlwgt             int64\n",
       "Education         object\n",
       "Education_Num      int64\n",
       "Marital_Status    object\n",
       "Occupation        object\n",
       "Relationship      object\n",
       "Gender            object\n",
       "Hours_Per_Week     int64\n",
       "Native_Country    object\n",
       "Income_Bracket    object\n",
       "dtype: object"
      ]
     },
     "execution_count": 218,
     "metadata": {},
     "output_type": "execute_result"
    }
   ],
   "source": [
    "df1.dtypes"
   ]
  },
  {
   "cell_type": "code",
   "execution_count": 219,
   "id": "97f01b35",
   "metadata": {},
   "outputs": [],
   "source": [
    "#converting non numeric to categorical field"
   ]
  },
  {
   "cell_type": "code",
   "execution_count": 220,
   "id": "30264fc0",
   "metadata": {
    "scrolled": true
   },
   "outputs": [],
   "source": [
    "l=df1.select_dtypes(include=\"object\").columns.to_list()"
   ]
  },
  {
   "cell_type": "code",
   "execution_count": 221,
   "id": "a6693e27",
   "metadata": {},
   "outputs": [],
   "source": [
    "df1[l]=df1[l].astype(\"category\")"
   ]
  },
  {
   "cell_type": "code",
   "execution_count": 222,
   "id": "deaa1d0d",
   "metadata": {},
   "outputs": [
    {
     "data": {
      "text/plain": [
       "Age                  int64\n",
       "WorkClass         category\n",
       "Fnlwgt               int64\n",
       "Education         category\n",
       "Education_Num        int64\n",
       "Marital_Status    category\n",
       "Occupation        category\n",
       "Relationship      category\n",
       "Gender            category\n",
       "Hours_Per_Week       int64\n",
       "Native_Country    category\n",
       "Income_Bracket    category\n",
       "dtype: object"
      ]
     },
     "execution_count": 222,
     "metadata": {},
     "output_type": "execute_result"
    }
   ],
   "source": [
    "df1.dtypes"
   ]
  },
  {
   "cell_type": "code",
   "execution_count": 223,
   "id": "ada27e0a",
   "metadata": {},
   "outputs": [],
   "source": [
    "#label encoding to convert catagorical columns into numerical type"
   ]
  },
  {
   "cell_type": "code",
   "execution_count": 224,
   "id": "d3c9ff89",
   "metadata": {},
   "outputs": [],
   "source": [
    "for i in l:\n",
    "    df1[i]=pp.LabelEncoder().fit_transform(df1[i])"
   ]
  },
  {
   "cell_type": "code",
   "execution_count": 225,
   "id": "adbc8928",
   "metadata": {},
   "outputs": [
    {
     "data": {
      "text/html": [
       "<div>\n",
       "<style scoped>\n",
       "    .dataframe tbody tr th:only-of-type {\n",
       "        vertical-align: middle;\n",
       "    }\n",
       "\n",
       "    .dataframe tbody tr th {\n",
       "        vertical-align: top;\n",
       "    }\n",
       "\n",
       "    .dataframe thead th {\n",
       "        text-align: right;\n",
       "    }\n",
       "</style>\n",
       "<table border=\"1\" class=\"dataframe\">\n",
       "  <thead>\n",
       "    <tr style=\"text-align: right;\">\n",
       "      <th></th>\n",
       "      <th>Age</th>\n",
       "      <th>WorkClass</th>\n",
       "      <th>Fnlwgt</th>\n",
       "      <th>Education</th>\n",
       "      <th>Education_Num</th>\n",
       "      <th>Marital_Status</th>\n",
       "      <th>Occupation</th>\n",
       "      <th>Relationship</th>\n",
       "      <th>Gender</th>\n",
       "      <th>Hours_Per_Week</th>\n",
       "      <th>Native_Country</th>\n",
       "      <th>Income_Bracket</th>\n",
       "    </tr>\n",
       "  </thead>\n",
       "  <tbody>\n",
       "    <tr>\n",
       "      <th>0</th>\n",
       "      <td>39</td>\n",
       "      <td>6</td>\n",
       "      <td>77516</td>\n",
       "      <td>9</td>\n",
       "      <td>13</td>\n",
       "      <td>4</td>\n",
       "      <td>0</td>\n",
       "      <td>1</td>\n",
       "      <td>1</td>\n",
       "      <td>40</td>\n",
       "      <td>38</td>\n",
       "      <td>0</td>\n",
       "    </tr>\n",
       "    <tr>\n",
       "      <th>1</th>\n",
       "      <td>50</td>\n",
       "      <td>5</td>\n",
       "      <td>83311</td>\n",
       "      <td>9</td>\n",
       "      <td>13</td>\n",
       "      <td>2</td>\n",
       "      <td>3</td>\n",
       "      <td>0</td>\n",
       "      <td>1</td>\n",
       "      <td>13</td>\n",
       "      <td>38</td>\n",
       "      <td>0</td>\n",
       "    </tr>\n",
       "    <tr>\n",
       "      <th>2</th>\n",
       "      <td>38</td>\n",
       "      <td>3</td>\n",
       "      <td>215646</td>\n",
       "      <td>11</td>\n",
       "      <td>9</td>\n",
       "      <td>0</td>\n",
       "      <td>5</td>\n",
       "      <td>1</td>\n",
       "      <td>1</td>\n",
       "      <td>40</td>\n",
       "      <td>38</td>\n",
       "      <td>0</td>\n",
       "    </tr>\n",
       "    <tr>\n",
       "      <th>3</th>\n",
       "      <td>53</td>\n",
       "      <td>3</td>\n",
       "      <td>234721</td>\n",
       "      <td>1</td>\n",
       "      <td>7</td>\n",
       "      <td>2</td>\n",
       "      <td>5</td>\n",
       "      <td>0</td>\n",
       "      <td>1</td>\n",
       "      <td>40</td>\n",
       "      <td>38</td>\n",
       "      <td>0</td>\n",
       "    </tr>\n",
       "    <tr>\n",
       "      <th>4</th>\n",
       "      <td>28</td>\n",
       "      <td>3</td>\n",
       "      <td>338409</td>\n",
       "      <td>9</td>\n",
       "      <td>13</td>\n",
       "      <td>2</td>\n",
       "      <td>9</td>\n",
       "      <td>5</td>\n",
       "      <td>0</td>\n",
       "      <td>40</td>\n",
       "      <td>4</td>\n",
       "      <td>0</td>\n",
       "    </tr>\n",
       "  </tbody>\n",
       "</table>\n",
       "</div>"
      ],
      "text/plain": [
       "   Age  WorkClass  Fnlwgt  Education  Education_Num  Marital_Status  \\\n",
       "0   39          6   77516          9             13               4   \n",
       "1   50          5   83311          9             13               2   \n",
       "2   38          3  215646         11              9               0   \n",
       "3   53          3  234721          1              7               2   \n",
       "4   28          3  338409          9             13               2   \n",
       "\n",
       "   Occupation  Relationship  Gender  Hours_Per_Week  Native_Country  \\\n",
       "0           0             1       1              40              38   \n",
       "1           3             0       1              13              38   \n",
       "2           5             1       1              40              38   \n",
       "3           5             0       1              40              38   \n",
       "4           9             5       0              40               4   \n",
       "\n",
       "   Income_Bracket  \n",
       "0               0  \n",
       "1               0  \n",
       "2               0  \n",
       "3               0  \n",
       "4               0  "
      ]
     },
     "execution_count": 225,
     "metadata": {},
     "output_type": "execute_result"
    }
   ],
   "source": [
    "df1.head()"
   ]
  },
  {
   "cell_type": "code",
   "execution_count": 226,
   "id": "7dd56579",
   "metadata": {},
   "outputs": [],
   "source": [
    "#Feature Scaling for uniformity"
   ]
  },
  {
   "cell_type": "code",
   "execution_count": 227,
   "id": "c240a34e",
   "metadata": {},
   "outputs": [
    {
     "data": {
      "text/plain": [
       "Age               int64\n",
       "WorkClass         int32\n",
       "Fnlwgt            int64\n",
       "Education         int32\n",
       "Education_Num     int64\n",
       "Marital_Status    int32\n",
       "Occupation        int32\n",
       "Relationship      int32\n",
       "Gender            int32\n",
       "Hours_Per_Week    int64\n",
       "Native_Country    int32\n",
       "Income_Bracket    int32\n",
       "dtype: object"
      ]
     },
     "execution_count": 227,
     "metadata": {},
     "output_type": "execute_result"
    }
   ],
   "source": [
    "df1.dtypes"
   ]
  },
  {
   "cell_type": "code",
   "execution_count": 228,
   "id": "6377a136",
   "metadata": {},
   "outputs": [],
   "source": [
    "#since all belongs to int64/32 we can directly scale without worrying about categorical data"
   ]
  },
  {
   "cell_type": "code",
   "execution_count": 229,
   "id": "57fee7cc",
   "metadata": {},
   "outputs": [],
   "source": [
    "df_scaled=pd.DataFrame(pp.MinMaxScaler().fit_transform(df1),columns=df1.columns)"
   ]
  },
  {
   "cell_type": "code",
   "execution_count": 230,
   "id": "ce11cf83",
   "metadata": {},
   "outputs": [
    {
     "data": {
      "text/html": [
       "<div>\n",
       "<style scoped>\n",
       "    .dataframe tbody tr th:only-of-type {\n",
       "        vertical-align: middle;\n",
       "    }\n",
       "\n",
       "    .dataframe tbody tr th {\n",
       "        vertical-align: top;\n",
       "    }\n",
       "\n",
       "    .dataframe thead th {\n",
       "        text-align: right;\n",
       "    }\n",
       "</style>\n",
       "<table border=\"1\" class=\"dataframe\">\n",
       "  <thead>\n",
       "    <tr style=\"text-align: right;\">\n",
       "      <th></th>\n",
       "      <th>Age</th>\n",
       "      <th>WorkClass</th>\n",
       "      <th>Fnlwgt</th>\n",
       "      <th>Education</th>\n",
       "      <th>Education_Num</th>\n",
       "      <th>Marital_Status</th>\n",
       "      <th>Occupation</th>\n",
       "      <th>Relationship</th>\n",
       "      <th>Gender</th>\n",
       "      <th>Hours_Per_Week</th>\n",
       "      <th>Native_Country</th>\n",
       "      <th>Income_Bracket</th>\n",
       "    </tr>\n",
       "  </thead>\n",
       "  <tbody>\n",
       "    <tr>\n",
       "      <th>0</th>\n",
       "      <td>0.301370</td>\n",
       "      <td>0.857143</td>\n",
       "      <td>0.044302</td>\n",
       "      <td>0.600000</td>\n",
       "      <td>0.800000</td>\n",
       "      <td>0.666667</td>\n",
       "      <td>0.000000</td>\n",
       "      <td>0.2</td>\n",
       "      <td>1.0</td>\n",
       "      <td>0.397959</td>\n",
       "      <td>0.95</td>\n",
       "      <td>0.0</td>\n",
       "    </tr>\n",
       "    <tr>\n",
       "      <th>1</th>\n",
       "      <td>0.452055</td>\n",
       "      <td>0.714286</td>\n",
       "      <td>0.048238</td>\n",
       "      <td>0.600000</td>\n",
       "      <td>0.800000</td>\n",
       "      <td>0.333333</td>\n",
       "      <td>0.230769</td>\n",
       "      <td>0.0</td>\n",
       "      <td>1.0</td>\n",
       "      <td>0.122449</td>\n",
       "      <td>0.95</td>\n",
       "      <td>0.0</td>\n",
       "    </tr>\n",
       "    <tr>\n",
       "      <th>2</th>\n",
       "      <td>0.287671</td>\n",
       "      <td>0.428571</td>\n",
       "      <td>0.138113</td>\n",
       "      <td>0.733333</td>\n",
       "      <td>0.533333</td>\n",
       "      <td>0.000000</td>\n",
       "      <td>0.384615</td>\n",
       "      <td>0.2</td>\n",
       "      <td>1.0</td>\n",
       "      <td>0.397959</td>\n",
       "      <td>0.95</td>\n",
       "      <td>0.0</td>\n",
       "    </tr>\n",
       "    <tr>\n",
       "      <th>3</th>\n",
       "      <td>0.493151</td>\n",
       "      <td>0.428571</td>\n",
       "      <td>0.151068</td>\n",
       "      <td>0.066667</td>\n",
       "      <td>0.400000</td>\n",
       "      <td>0.333333</td>\n",
       "      <td>0.384615</td>\n",
       "      <td>0.0</td>\n",
       "      <td>1.0</td>\n",
       "      <td>0.397959</td>\n",
       "      <td>0.95</td>\n",
       "      <td>0.0</td>\n",
       "    </tr>\n",
       "    <tr>\n",
       "      <th>4</th>\n",
       "      <td>0.150685</td>\n",
       "      <td>0.428571</td>\n",
       "      <td>0.221488</td>\n",
       "      <td>0.600000</td>\n",
       "      <td>0.800000</td>\n",
       "      <td>0.333333</td>\n",
       "      <td>0.692308</td>\n",
       "      <td>1.0</td>\n",
       "      <td>0.0</td>\n",
       "      <td>0.397959</td>\n",
       "      <td>0.10</td>\n",
       "      <td>0.0</td>\n",
       "    </tr>\n",
       "    <tr>\n",
       "      <th>...</th>\n",
       "      <td>...</td>\n",
       "      <td>...</td>\n",
       "      <td>...</td>\n",
       "      <td>...</td>\n",
       "      <td>...</td>\n",
       "      <td>...</td>\n",
       "      <td>...</td>\n",
       "      <td>...</td>\n",
       "      <td>...</td>\n",
       "      <td>...</td>\n",
       "      <td>...</td>\n",
       "      <td>...</td>\n",
       "    </tr>\n",
       "    <tr>\n",
       "      <th>32556</th>\n",
       "      <td>0.136986</td>\n",
       "      <td>0.428571</td>\n",
       "      <td>0.166404</td>\n",
       "      <td>0.466667</td>\n",
       "      <td>0.733333</td>\n",
       "      <td>0.333333</td>\n",
       "      <td>0.923077</td>\n",
       "      <td>1.0</td>\n",
       "      <td>0.0</td>\n",
       "      <td>0.377551</td>\n",
       "      <td>0.95</td>\n",
       "      <td>0.0</td>\n",
       "    </tr>\n",
       "    <tr>\n",
       "      <th>32557</th>\n",
       "      <td>0.315068</td>\n",
       "      <td>0.428571</td>\n",
       "      <td>0.096500</td>\n",
       "      <td>0.733333</td>\n",
       "      <td>0.533333</td>\n",
       "      <td>0.333333</td>\n",
       "      <td>0.461538</td>\n",
       "      <td>0.0</td>\n",
       "      <td>1.0</td>\n",
       "      <td>0.397959</td>\n",
       "      <td>0.95</td>\n",
       "      <td>1.0</td>\n",
       "    </tr>\n",
       "    <tr>\n",
       "      <th>32558</th>\n",
       "      <td>0.561644</td>\n",
       "      <td>0.428571</td>\n",
       "      <td>0.094827</td>\n",
       "      <td>0.733333</td>\n",
       "      <td>0.533333</td>\n",
       "      <td>1.000000</td>\n",
       "      <td>0.000000</td>\n",
       "      <td>0.8</td>\n",
       "      <td>0.0</td>\n",
       "      <td>0.397959</td>\n",
       "      <td>0.95</td>\n",
       "      <td>0.0</td>\n",
       "    </tr>\n",
       "    <tr>\n",
       "      <th>32559</th>\n",
       "      <td>0.068493</td>\n",
       "      <td>0.428571</td>\n",
       "      <td>0.128499</td>\n",
       "      <td>0.733333</td>\n",
       "      <td>0.533333</td>\n",
       "      <td>0.666667</td>\n",
       "      <td>0.000000</td>\n",
       "      <td>0.6</td>\n",
       "      <td>1.0</td>\n",
       "      <td>0.193878</td>\n",
       "      <td>0.95</td>\n",
       "      <td>0.0</td>\n",
       "    </tr>\n",
       "    <tr>\n",
       "      <th>32560</th>\n",
       "      <td>0.479452</td>\n",
       "      <td>0.571429</td>\n",
       "      <td>0.187203</td>\n",
       "      <td>0.733333</td>\n",
       "      <td>0.533333</td>\n",
       "      <td>0.333333</td>\n",
       "      <td>0.230769</td>\n",
       "      <td>1.0</td>\n",
       "      <td>0.0</td>\n",
       "      <td>0.397959</td>\n",
       "      <td>0.95</td>\n",
       "      <td>1.0</td>\n",
       "    </tr>\n",
       "  </tbody>\n",
       "</table>\n",
       "<p>32561 rows × 12 columns</p>\n",
       "</div>"
      ],
      "text/plain": [
       "            Age  WorkClass    Fnlwgt  Education  Education_Num  \\\n",
       "0      0.301370   0.857143  0.044302   0.600000       0.800000   \n",
       "1      0.452055   0.714286  0.048238   0.600000       0.800000   \n",
       "2      0.287671   0.428571  0.138113   0.733333       0.533333   \n",
       "3      0.493151   0.428571  0.151068   0.066667       0.400000   \n",
       "4      0.150685   0.428571  0.221488   0.600000       0.800000   \n",
       "...         ...        ...       ...        ...            ...   \n",
       "32556  0.136986   0.428571  0.166404   0.466667       0.733333   \n",
       "32557  0.315068   0.428571  0.096500   0.733333       0.533333   \n",
       "32558  0.561644   0.428571  0.094827   0.733333       0.533333   \n",
       "32559  0.068493   0.428571  0.128499   0.733333       0.533333   \n",
       "32560  0.479452   0.571429  0.187203   0.733333       0.533333   \n",
       "\n",
       "       Marital_Status  Occupation  Relationship  Gender  Hours_Per_Week  \\\n",
       "0            0.666667    0.000000           0.2     1.0        0.397959   \n",
       "1            0.333333    0.230769           0.0     1.0        0.122449   \n",
       "2            0.000000    0.384615           0.2     1.0        0.397959   \n",
       "3            0.333333    0.384615           0.0     1.0        0.397959   \n",
       "4            0.333333    0.692308           1.0     0.0        0.397959   \n",
       "...               ...         ...           ...     ...             ...   \n",
       "32556        0.333333    0.923077           1.0     0.0        0.377551   \n",
       "32557        0.333333    0.461538           0.0     1.0        0.397959   \n",
       "32558        1.000000    0.000000           0.8     0.0        0.397959   \n",
       "32559        0.666667    0.000000           0.6     1.0        0.193878   \n",
       "32560        0.333333    0.230769           1.0     0.0        0.397959   \n",
       "\n",
       "       Native_Country  Income_Bracket  \n",
       "0                0.95             0.0  \n",
       "1                0.95             0.0  \n",
       "2                0.95             0.0  \n",
       "3                0.95             0.0  \n",
       "4                0.10             0.0  \n",
       "...               ...             ...  \n",
       "32556            0.95             0.0  \n",
       "32557            0.95             1.0  \n",
       "32558            0.95             0.0  \n",
       "32559            0.95             0.0  \n",
       "32560            0.95             1.0  \n",
       "\n",
       "[32561 rows x 12 columns]"
      ]
     },
     "execution_count": 230,
     "metadata": {},
     "output_type": "execute_result"
    }
   ],
   "source": [
    "df_scaled"
   ]
  },
  {
   "cell_type": "code",
   "execution_count": 231,
   "id": "28cbf998",
   "metadata": {},
   "outputs": [],
   "source": [
    "#Correlation matrix for feature selection"
   ]
  },
  {
   "cell_type": "code",
   "execution_count": 232,
   "id": "9e304ffa",
   "metadata": {},
   "outputs": [],
   "source": [
    "h=df_scaled.corr()"
   ]
  },
  {
   "cell_type": "code",
   "execution_count": 233,
   "id": "d5479ea0",
   "metadata": {},
   "outputs": [
    {
     "data": {
      "image/png": "[encoded data removed]",
      "text/plain": [
       "<Figure size 1800x720 with 2 Axes>"
      ]
     },
     "metadata": {
      "needs_background": "light"
     },
     "output_type": "display_data"
    }
   ],
   "source": [
    "\n",
    "plt.figure(figsize=(25,10))\n",
    "sb.heatmap(h,annot=True)\n",
    "plt.show()"
   ]
  },
  {
   "cell_type": "code",
   "execution_count": 234,
   "id": "d47c9af3",
   "metadata": {},
   "outputs": [],
   "source": [
    "#here  considering income bracket as target variable,we can say education num is highly correlated to it compared to other features followed by age and hours/week"
   ]
  },
  {
   "cell_type": "markdown",
   "id": "c7a14e4b",
   "metadata": {},
   "source": [
    "# Task5"
   ]
  },
  {
   "cell_type": "code",
   "execution_count": 235,
   "id": "c6879b37",
   "metadata": {},
   "outputs": [],
   "source": [
    "#splitting data using by row index method with ratio 70:30"
   ]
  },
  {
   "cell_type": "code",
   "execution_count": 236,
   "id": "74ca03f7",
   "metadata": {},
   "outputs": [],
   "source": [
    "df_train=df_scaled.iloc[:int(len(df_scaled)*0.7),:]\n",
    "df_test=df_scaled.iloc[int(len(df_scaled)*0.7):,:]"
   ]
  },
  {
   "cell_type": "code",
   "execution_count": 237,
   "id": "f29f938c",
   "metadata": {},
   "outputs": [
    {
     "data": {
      "text/plain": [
       "((22792, 12), (9769, 12))"
      ]
     },
     "execution_count": 237,
     "metadata": {},
     "output_type": "execute_result"
    }
   ],
   "source": [
    "df_train.shape,df_test.shape"
   ]
  },
  {
   "cell_type": "code",
   "execution_count": 238,
   "id": "10119344",
   "metadata": {},
   "outputs": [
    {
     "data": {
      "text/html": [
       "<div>\n",
       "<style scoped>\n",
       "    .dataframe tbody tr th:only-of-type {\n",
       "        vertical-align: middle;\n",
       "    }\n",
       "\n",
       "    .dataframe tbody tr th {\n",
       "        vertical-align: top;\n",
       "    }\n",
       "\n",
       "    .dataframe thead th {\n",
       "        text-align: right;\n",
       "    }\n",
       "</style>\n",
       "<table border=\"1\" class=\"dataframe\">\n",
       "  <thead>\n",
       "    <tr style=\"text-align: right;\">\n",
       "      <th></th>\n",
       "      <th>Age</th>\n",
       "      <th>WorkClass</th>\n",
       "      <th>Fnlwgt</th>\n",
       "      <th>Education</th>\n",
       "      <th>Education_Num</th>\n",
       "      <th>Marital_Status</th>\n",
       "      <th>Occupation</th>\n",
       "      <th>Relationship</th>\n",
       "      <th>Gender</th>\n",
       "      <th>Hours_Per_Week</th>\n",
       "      <th>Native_Country</th>\n",
       "      <th>Income_Bracket</th>\n",
       "    </tr>\n",
       "  </thead>\n",
       "  <tbody>\n",
       "    <tr>\n",
       "      <th>0</th>\n",
       "      <td>0.301370</td>\n",
       "      <td>0.857143</td>\n",
       "      <td>0.044302</td>\n",
       "      <td>0.600000</td>\n",
       "      <td>0.800000</td>\n",
       "      <td>0.666667</td>\n",
       "      <td>0.000000</td>\n",
       "      <td>0.2</td>\n",
       "      <td>1.0</td>\n",
       "      <td>0.397959</td>\n",
       "      <td>0.95</td>\n",
       "      <td>0.0</td>\n",
       "    </tr>\n",
       "    <tr>\n",
       "      <th>1</th>\n",
       "      <td>0.452055</td>\n",
       "      <td>0.714286</td>\n",
       "      <td>0.048238</td>\n",
       "      <td>0.600000</td>\n",
       "      <td>0.800000</td>\n",
       "      <td>0.333333</td>\n",
       "      <td>0.230769</td>\n",
       "      <td>0.0</td>\n",
       "      <td>1.0</td>\n",
       "      <td>0.122449</td>\n",
       "      <td>0.95</td>\n",
       "      <td>0.0</td>\n",
       "    </tr>\n",
       "    <tr>\n",
       "      <th>2</th>\n",
       "      <td>0.287671</td>\n",
       "      <td>0.428571</td>\n",
       "      <td>0.138113</td>\n",
       "      <td>0.733333</td>\n",
       "      <td>0.533333</td>\n",
       "      <td>0.000000</td>\n",
       "      <td>0.384615</td>\n",
       "      <td>0.2</td>\n",
       "      <td>1.0</td>\n",
       "      <td>0.397959</td>\n",
       "      <td>0.95</td>\n",
       "      <td>0.0</td>\n",
       "    </tr>\n",
       "    <tr>\n",
       "      <th>3</th>\n",
       "      <td>0.493151</td>\n",
       "      <td>0.428571</td>\n",
       "      <td>0.151068</td>\n",
       "      <td>0.066667</td>\n",
       "      <td>0.400000</td>\n",
       "      <td>0.333333</td>\n",
       "      <td>0.384615</td>\n",
       "      <td>0.0</td>\n",
       "      <td>1.0</td>\n",
       "      <td>0.397959</td>\n",
       "      <td>0.95</td>\n",
       "      <td>0.0</td>\n",
       "    </tr>\n",
       "    <tr>\n",
       "      <th>4</th>\n",
       "      <td>0.150685</td>\n",
       "      <td>0.428571</td>\n",
       "      <td>0.221488</td>\n",
       "      <td>0.600000</td>\n",
       "      <td>0.800000</td>\n",
       "      <td>0.333333</td>\n",
       "      <td>0.692308</td>\n",
       "      <td>1.0</td>\n",
       "      <td>0.0</td>\n",
       "      <td>0.397959</td>\n",
       "      <td>0.10</td>\n",
       "      <td>0.0</td>\n",
       "    </tr>\n",
       "  </tbody>\n",
       "</table>\n",
       "</div>"
      ],
      "text/plain": [
       "        Age  WorkClass    Fnlwgt  Education  Education_Num  Marital_Status  \\\n",
       "0  0.301370   0.857143  0.044302   0.600000       0.800000        0.666667   \n",
       "1  0.452055   0.714286  0.048238   0.600000       0.800000        0.333333   \n",
       "2  0.287671   0.428571  0.138113   0.733333       0.533333        0.000000   \n",
       "3  0.493151   0.428571  0.151068   0.066667       0.400000        0.333333   \n",
       "4  0.150685   0.428571  0.221488   0.600000       0.800000        0.333333   \n",
       "\n",
       "   Occupation  Relationship  Gender  Hours_Per_Week  Native_Country  \\\n",
       "0    0.000000           0.2     1.0        0.397959            0.95   \n",
       "1    0.230769           0.0     1.0        0.122449            0.95   \n",
       "2    0.384615           0.2     1.0        0.397959            0.95   \n",
       "3    0.384615           0.0     1.0        0.397959            0.95   \n",
       "4    0.692308           1.0     0.0        0.397959            0.10   \n",
       "\n",
       "   Income_Bracket  \n",
       "0             0.0  \n",
       "1             0.0  \n",
       "2             0.0  \n",
       "3             0.0  \n",
       "4             0.0  "
      ]
     },
     "execution_count": 238,
     "metadata": {},
     "output_type": "execute_result"
    }
   ],
   "source": [
    "df_train.head()"
   ]
  },
  {
   "cell_type": "code",
   "execution_count": 239,
   "id": "bf322a40",
   "metadata": {},
   "outputs": [
    {
     "data": {
      "text/html": [
       "<div>\n",
       "<style scoped>\n",
       "    .dataframe tbody tr th:only-of-type {\n",
       "        vertical-align: middle;\n",
       "    }\n",
       "\n",
       "    .dataframe tbody tr th {\n",
       "        vertical-align: top;\n",
       "    }\n",
       "\n",
       "    .dataframe thead th {\n",
       "        text-align: right;\n",
       "    }\n",
       "</style>\n",
       "<table border=\"1\" class=\"dataframe\">\n",
       "  <thead>\n",
       "    <tr style=\"text-align: right;\">\n",
       "      <th></th>\n",
       "      <th>Age</th>\n",
       "      <th>WorkClass</th>\n",
       "      <th>Fnlwgt</th>\n",
       "      <th>Education</th>\n",
       "      <th>Education_Num</th>\n",
       "      <th>Marital_Status</th>\n",
       "      <th>Occupation</th>\n",
       "      <th>Relationship</th>\n",
       "      <th>Gender</th>\n",
       "      <th>Hours_Per_Week</th>\n",
       "      <th>Native_Country</th>\n",
       "      <th>Income_Bracket</th>\n",
       "    </tr>\n",
       "  </thead>\n",
       "  <tbody>\n",
       "    <tr>\n",
       "      <th>22792</th>\n",
       "      <td>0.178082</td>\n",
       "      <td>0.428571</td>\n",
       "      <td>0.042707</td>\n",
       "      <td>0.600000</td>\n",
       "      <td>0.800000</td>\n",
       "      <td>0.333333</td>\n",
       "      <td>0.230769</td>\n",
       "      <td>0.0</td>\n",
       "      <td>1.0</td>\n",
       "      <td>0.551020</td>\n",
       "      <td>0.95</td>\n",
       "      <td>0.0</td>\n",
       "    </tr>\n",
       "    <tr>\n",
       "      <th>22793</th>\n",
       "      <td>0.301370</td>\n",
       "      <td>0.428571</td>\n",
       "      <td>0.111389</td>\n",
       "      <td>0.733333</td>\n",
       "      <td>0.533333</td>\n",
       "      <td>0.333333</td>\n",
       "      <td>1.000000</td>\n",
       "      <td>0.0</td>\n",
       "      <td>1.0</td>\n",
       "      <td>0.397959</td>\n",
       "      <td>0.95</td>\n",
       "      <td>1.0</td>\n",
       "    </tr>\n",
       "    <tr>\n",
       "      <th>22794</th>\n",
       "      <td>0.027397</td>\n",
       "      <td>0.428571</td>\n",
       "      <td>0.055170</td>\n",
       "      <td>1.000000</td>\n",
       "      <td>0.600000</td>\n",
       "      <td>0.666667</td>\n",
       "      <td>0.846154</td>\n",
       "      <td>0.6</td>\n",
       "      <td>0.0</td>\n",
       "      <td>0.193878</td>\n",
       "      <td>0.95</td>\n",
       "      <td>0.0</td>\n",
       "    </tr>\n",
       "    <tr>\n",
       "      <th>22795</th>\n",
       "      <td>0.109589</td>\n",
       "      <td>0.428571</td>\n",
       "      <td>0.077771</td>\n",
       "      <td>0.733333</td>\n",
       "      <td>0.533333</td>\n",
       "      <td>0.500000</td>\n",
       "      <td>0.692308</td>\n",
       "      <td>0.2</td>\n",
       "      <td>1.0</td>\n",
       "      <td>0.397959</td>\n",
       "      <td>0.95</td>\n",
       "      <td>0.0</td>\n",
       "    </tr>\n",
       "    <tr>\n",
       "      <th>22796</th>\n",
       "      <td>0.547945</td>\n",
       "      <td>0.714286</td>\n",
       "      <td>0.008720</td>\n",
       "      <td>0.733333</td>\n",
       "      <td>0.533333</td>\n",
       "      <td>0.333333</td>\n",
       "      <td>0.538462</td>\n",
       "      <td>0.0</td>\n",
       "      <td>1.0</td>\n",
       "      <td>0.602041</td>\n",
       "      <td>0.95</td>\n",
       "      <td>0.0</td>\n",
       "    </tr>\n",
       "  </tbody>\n",
       "</table>\n",
       "</div>"
      ],
      "text/plain": [
       "            Age  WorkClass    Fnlwgt  Education  Education_Num  \\\n",
       "22792  0.178082   0.428571  0.042707   0.600000       0.800000   \n",
       "22793  0.301370   0.428571  0.111389   0.733333       0.533333   \n",
       "22794  0.027397   0.428571  0.055170   1.000000       0.600000   \n",
       "22795  0.109589   0.428571  0.077771   0.733333       0.533333   \n",
       "22796  0.547945   0.714286  0.008720   0.733333       0.533333   \n",
       "\n",
       "       Marital_Status  Occupation  Relationship  Gender  Hours_Per_Week  \\\n",
       "22792        0.333333    0.230769           0.0     1.0        0.551020   \n",
       "22793        0.333333    1.000000           0.0     1.0        0.397959   \n",
       "22794        0.666667    0.846154           0.6     0.0        0.193878   \n",
       "22795        0.500000    0.692308           0.2     1.0        0.397959   \n",
       "22796        0.333333    0.538462           0.0     1.0        0.602041   \n",
       "\n",
       "       Native_Country  Income_Bracket  \n",
       "22792            0.95             0.0  \n",
       "22793            0.95             1.0  \n",
       "22794            0.95             0.0  \n",
       "22795            0.95             0.0  \n",
       "22796            0.95             0.0  "
      ]
     },
     "execution_count": 239,
     "metadata": {},
     "output_type": "execute_result"
    }
   ],
   "source": [
    "df_test.head()"
   ]
  },
  {
   "cell_type": "code",
   "execution_count": 240,
   "id": "4a53cbc9",
   "metadata": {},
   "outputs": [],
   "source": [
    "#Splitting into train and test data with inbuilt function of sklearn"
   ]
  },
  {
   "cell_type": "code",
   "execution_count": 241,
   "id": "43f89696",
   "metadata": {},
   "outputs": [],
   "source": [
    "#i am considering income bracket as target column"
   ]
  },
  {
   "cell_type": "code",
   "execution_count": 242,
   "id": "7e2e0bc5",
   "metadata": {},
   "outputs": [],
   "source": [
    "#so i am separating dependent variable income with rest\n",
    "#y is dependent variable i.e. income bracket"
   ]
  },
  {
   "cell_type": "code",
   "execution_count": 243,
   "id": "6f9d7443",
   "metadata": {},
   "outputs": [],
   "source": [
    "x,y=df_scaled.iloc[:,:-1],df_scaled.iloc[:,-1]"
   ]
  },
  {
   "cell_type": "code",
   "execution_count": 244,
   "id": "976d91c5",
   "metadata": {},
   "outputs": [],
   "source": [
    "x_train,x_test,y_train,y_test=train_test_split(x,y,test_size=0.3, random_state=30)"
   ]
  },
  {
   "cell_type": "code",
   "execution_count": 245,
   "id": "0bc3f262",
   "metadata": {},
   "outputs": [
    {
     "data": {
      "text/html": [
       "<div>\n",
       "<style scoped>\n",
       "    .dataframe tbody tr th:only-of-type {\n",
       "        vertical-align: middle;\n",
       "    }\n",
       "\n",
       "    .dataframe tbody tr th {\n",
       "        vertical-align: top;\n",
       "    }\n",
       "\n",
       "    .dataframe thead th {\n",
       "        text-align: right;\n",
       "    }\n",
       "</style>\n",
       "<table border=\"1\" class=\"dataframe\">\n",
       "  <thead>\n",
       "    <tr style=\"text-align: right;\">\n",
       "      <th></th>\n",
       "      <th>Age</th>\n",
       "      <th>WorkClass</th>\n",
       "      <th>Fnlwgt</th>\n",
       "      <th>Education</th>\n",
       "      <th>Education_Num</th>\n",
       "      <th>Marital_Status</th>\n",
       "      <th>Occupation</th>\n",
       "      <th>Relationship</th>\n",
       "      <th>Gender</th>\n",
       "      <th>Hours_Per_Week</th>\n",
       "      <th>Native_Country</th>\n",
       "    </tr>\n",
       "  </thead>\n",
       "  <tbody>\n",
       "    <tr>\n",
       "      <th>16917</th>\n",
       "      <td>0.260274</td>\n",
       "      <td>0.428571</td>\n",
       "      <td>0.115313</td>\n",
       "      <td>0.733333</td>\n",
       "      <td>0.533333</td>\n",
       "      <td>0.666667</td>\n",
       "      <td>0.384615</td>\n",
       "      <td>0.6</td>\n",
       "      <td>1.0</td>\n",
       "      <td>0.397959</td>\n",
       "      <td>0.95</td>\n",
       "    </tr>\n",
       "    <tr>\n",
       "      <th>31078</th>\n",
       "      <td>0.013699</td>\n",
       "      <td>0.428571</td>\n",
       "      <td>0.087842</td>\n",
       "      <td>1.000000</td>\n",
       "      <td>0.600000</td>\n",
       "      <td>0.666667</td>\n",
       "      <td>0.923077</td>\n",
       "      <td>0.6</td>\n",
       "      <td>1.0</td>\n",
       "      <td>0.193878</td>\n",
       "      <td>0.95</td>\n",
       "    </tr>\n",
       "    <tr>\n",
       "      <th>14943</th>\n",
       "      <td>0.191781</td>\n",
       "      <td>0.428571</td>\n",
       "      <td>0.137155</td>\n",
       "      <td>0.733333</td>\n",
       "      <td>0.533333</td>\n",
       "      <td>0.333333</td>\n",
       "      <td>0.538462</td>\n",
       "      <td>0.0</td>\n",
       "      <td>1.0</td>\n",
       "      <td>0.653061</td>\n",
       "      <td>0.95</td>\n",
       "    </tr>\n",
       "    <tr>\n",
       "      <th>2658</th>\n",
       "      <td>0.438356</td>\n",
       "      <td>0.428571</td>\n",
       "      <td>0.180077</td>\n",
       "      <td>0.733333</td>\n",
       "      <td>0.533333</td>\n",
       "      <td>0.333333</td>\n",
       "      <td>1.000000</td>\n",
       "      <td>0.0</td>\n",
       "      <td>1.0</td>\n",
       "      <td>0.500000</td>\n",
       "      <td>0.95</td>\n",
       "    </tr>\n",
       "    <tr>\n",
       "      <th>31540</th>\n",
       "      <td>0.602740</td>\n",
       "      <td>0.428571</td>\n",
       "      <td>0.038712</td>\n",
       "      <td>0.733333</td>\n",
       "      <td>0.533333</td>\n",
       "      <td>0.333333</td>\n",
       "      <td>0.692308</td>\n",
       "      <td>0.0</td>\n",
       "      <td>1.0</td>\n",
       "      <td>0.367347</td>\n",
       "      <td>0.95</td>\n",
       "    </tr>\n",
       "    <tr>\n",
       "      <th>...</th>\n",
       "      <td>...</td>\n",
       "      <td>...</td>\n",
       "      <td>...</td>\n",
       "      <td>...</td>\n",
       "      <td>...</td>\n",
       "      <td>...</td>\n",
       "      <td>...</td>\n",
       "      <td>...</td>\n",
       "      <td>...</td>\n",
       "      <td>...</td>\n",
       "      <td>...</td>\n",
       "    </tr>\n",
       "    <tr>\n",
       "      <th>500</th>\n",
       "      <td>0.082192</td>\n",
       "      <td>0.142857</td>\n",
       "      <td>0.212354</td>\n",
       "      <td>0.733333</td>\n",
       "      <td>0.533333</td>\n",
       "      <td>0.666667</td>\n",
       "      <td>0.307692</td>\n",
       "      <td>0.2</td>\n",
       "      <td>1.0</td>\n",
       "      <td>0.397959</td>\n",
       "      <td>0.75</td>\n",
       "    </tr>\n",
       "    <tr>\n",
       "      <th>12077</th>\n",
       "      <td>0.602740</td>\n",
       "      <td>0.428571</td>\n",
       "      <td>0.134594</td>\n",
       "      <td>0.733333</td>\n",
       "      <td>0.533333</td>\n",
       "      <td>0.000000</td>\n",
       "      <td>0.000000</td>\n",
       "      <td>0.4</td>\n",
       "      <td>0.0</td>\n",
       "      <td>0.346939</td>\n",
       "      <td>0.95</td>\n",
       "    </tr>\n",
       "    <tr>\n",
       "      <th>15277</th>\n",
       "      <td>0.191781</td>\n",
       "      <td>0.428571</td>\n",
       "      <td>0.132707</td>\n",
       "      <td>0.733333</td>\n",
       "      <td>0.533333</td>\n",
       "      <td>0.666667</td>\n",
       "      <td>0.538462</td>\n",
       "      <td>0.8</td>\n",
       "      <td>0.0</td>\n",
       "      <td>0.336735</td>\n",
       "      <td>0.95</td>\n",
       "    </tr>\n",
       "    <tr>\n",
       "      <th>4517</th>\n",
       "      <td>0.410959</td>\n",
       "      <td>0.428571</td>\n",
       "      <td>0.126018</td>\n",
       "      <td>0.733333</td>\n",
       "      <td>0.533333</td>\n",
       "      <td>0.333333</td>\n",
       "      <td>0.846154</td>\n",
       "      <td>0.0</td>\n",
       "      <td>1.0</td>\n",
       "      <td>0.448980</td>\n",
       "      <td>0.95</td>\n",
       "    </tr>\n",
       "    <tr>\n",
       "      <th>5925</th>\n",
       "      <td>0.547945</td>\n",
       "      <td>0.714286</td>\n",
       "      <td>0.288638</td>\n",
       "      <td>1.000000</td>\n",
       "      <td>0.600000</td>\n",
       "      <td>0.333333</td>\n",
       "      <td>0.923077</td>\n",
       "      <td>0.0</td>\n",
       "      <td>1.0</td>\n",
       "      <td>0.377551</td>\n",
       "      <td>0.95</td>\n",
       "    </tr>\n",
       "  </tbody>\n",
       "</table>\n",
       "<p>22792 rows × 11 columns</p>\n",
       "</div>"
      ],
      "text/plain": [
       "            Age  WorkClass    Fnlwgt  Education  Education_Num  \\\n",
       "16917  0.260274   0.428571  0.115313   0.733333       0.533333   \n",
       "31078  0.013699   0.428571  0.087842   1.000000       0.600000   \n",
       "14943  0.191781   0.428571  0.137155   0.733333       0.533333   \n",
       "2658   0.438356   0.428571  0.180077   0.733333       0.533333   \n",
       "31540  0.602740   0.428571  0.038712   0.733333       0.533333   \n",
       "...         ...        ...       ...        ...            ...   \n",
       "500    0.082192   0.142857  0.212354   0.733333       0.533333   \n",
       "12077  0.602740   0.428571  0.134594   0.733333       0.533333   \n",
       "15277  0.191781   0.428571  0.132707   0.733333       0.533333   \n",
       "4517   0.410959   0.428571  0.126018   0.733333       0.533333   \n",
       "5925   0.547945   0.714286  0.288638   1.000000       0.600000   \n",
       "\n",
       "       Marital_Status  Occupation  Relationship  Gender  Hours_Per_Week  \\\n",
       "16917        0.666667    0.384615           0.6     1.0        0.397959   \n",
       "31078        0.666667    0.923077           0.6     1.0        0.193878   \n",
       "14943        0.333333    0.538462           0.0     1.0        0.653061   \n",
       "2658         0.333333    1.000000           0.0     1.0        0.500000   \n",
       "31540        0.333333    0.692308           0.0     1.0        0.367347   \n",
       "...               ...         ...           ...     ...             ...   \n",
       "500          0.666667    0.307692           0.2     1.0        0.397959   \n",
       "12077        0.000000    0.000000           0.4     0.0        0.346939   \n",
       "15277        0.666667    0.538462           0.8     0.0        0.336735   \n",
       "4517         0.333333    0.846154           0.0     1.0        0.448980   \n",
       "5925         0.333333    0.923077           0.0     1.0        0.377551   \n",
       "\n",
       "       Native_Country  \n",
       "16917            0.95  \n",
       "31078            0.95  \n",
       "14943            0.95  \n",
       "2658             0.95  \n",
       "31540            0.95  \n",
       "...               ...  \n",
       "500              0.75  \n",
       "12077            0.95  \n",
       "15277            0.95  \n",
       "4517             0.95  \n",
       "5925             0.95  \n",
       "\n",
       "[22792 rows x 11 columns]"
      ]
     },
     "execution_count": 245,
     "metadata": {},
     "output_type": "execute_result"
    }
   ],
   "source": [
    "x_train"
   ]
  },
  {
   "cell_type": "markdown",
   "id": "26fd2d19",
   "metadata": {},
   "source": [
    "# Task6: Visualizations"
   ]
  },
  {
   "cell_type": "code",
   "execution_count": 246,
   "id": "befb90d6",
   "metadata": {},
   "outputs": [],
   "source": [
    "#pie chart for workclass division"
   ]
  },
  {
   "cell_type": "code",
   "execution_count": 247,
   "id": "9a73202b",
   "metadata": {},
   "outputs": [],
   "source": [
    "vc=df[\"WorkClass\"].value_counts()"
   ]
  },
  {
   "cell_type": "code",
   "execution_count": 248,
   "id": "0eb8e0ce",
   "metadata": {},
   "outputs": [
    {
     "data": {
      "image/png": "[encoded data removed]",
      "text/plain": [
       "<Figure size 432x288 with 1 Axes>"
      ]
     },
     "metadata": {},
     "output_type": "display_data"
    }
   ],
   "source": [
    "plt.pie(vc.values,labels=vc.index,autopct=\"%.2f%%\",radius=2)\n",
    "plt.show()\n",
    "#we can see majority belongs to private workclass"
   ]
  },
  {
   "cell_type": "code",
   "execution_count": 249,
   "id": "43414f55",
   "metadata": {},
   "outputs": [
    {
     "data": {
      "image/png": "[encoded data removed]",
      "text/plain": [
       "<Figure size 432x288 with 1 Axes>"
      ]
     },
     "metadata": {
      "needs_background": "light"
     },
     "output_type": "display_data"
    }
   ],
   "source": [
    "#countplot for education\n",
    "sb.countplot(data=df,x=\"Education\")\n",
    "plt.xticks(rotation=90)\n",
    "plt.show()"
   ]
  },
  {
   "cell_type": "code",
   "execution_count": 250,
   "id": "0bfd65cc",
   "metadata": {},
   "outputs": [],
   "source": [
    "#majoriy wrt education are from HS-Grad"
   ]
  },
  {
   "cell_type": "code",
   "execution_count": 251,
   "id": "eb2df5cf",
   "metadata": {},
   "outputs": [
    {
     "data": {
      "image/png": "[encoded data removed]",
      "text/plain": [
       "<Figure size 1080x720 with 4 Axes>"
      ]
     },
     "metadata": {
      "needs_background": "light"
     },
     "output_type": "display_data"
    }
   ],
   "source": [
    "# histograms for all continous columns\n",
    "df.hist(bins=30, figsize=(15, 10))\n",
    "plt.show()"
   ]
  },
  {
   "cell_type": "code",
   "execution_count": null,
   "id": "18cb0fe9",
   "metadata": {},
   "outputs": [],
   "source": [
    "#Age group of 30-40 has maximum count\n",
    "#fnlwgt column has maximum values between 0-0.2\n",
    "#education_num is distributed maximum within 8-10\n",
    "#hours/week is distributed maximum in bin of 20-40"
   ]
  },
  {
   "cell_type": "code",
   "execution_count": 252,
   "id": "ae5f75b8",
   "metadata": {},
   "outputs": [
    {
     "data": {
      "text/plain": [
       "<AxesSubplot:xlabel='Income_Bracket', ylabel='count'>"
      ]
     },
     "execution_count": 252,
     "metadata": {},
     "output_type": "execute_result"
    },
    {
     "data": {
      "image/png": "[encoded data removed]",
      "text/plain": [
       "<Figure size 432x288 with 1 Axes>"
      ]
     },
     "metadata": {
      "needs_background": "light"
     },
     "output_type": "display_data"
    }
   ],
   "source": [
    "#countplot for income bracket wrt gender\n",
    "sb.countplot(data=df,x=\"Income_Bracket\",hue=\"Gender\")"
   ]
  },
  {
   "cell_type": "code",
   "execution_count": null,
   "id": "b16416ae",
   "metadata": {},
   "outputs": [],
   "source": [
    "#both the income bracket has maximum males count"
   ]
  },
  {
   "cell_type": "code",
   "execution_count": 253,
   "id": "962f1929",
   "metadata": {},
   "outputs": [
    {
     "data": {
      "image/png": "[encoded data removed]",
      "text/plain": [
       "<Figure size 432x288 with 1 Axes>"
      ]
     },
     "metadata": {
      "needs_background": "light"
     },
     "output_type": "display_data"
    }
   ],
   "source": [
    "#hours per week for income bracket by gender\n",
    "sb.barplot(data=df,x=\"Income_Bracket\",y=\"Hours_Per_Week\",hue=\"Gender\",palette=\"bone\")\n",
    "plt.xticks(rotation=90)\n",
    "plt.show()"
   ]
  },
  {
   "cell_type": "code",
   "execution_count": null,
   "id": "ef985321",
   "metadata": {},
   "outputs": [],
   "source": [
    "#both the income bracket has maximum hours per week for male gender"
   ]
  },
  {
   "cell_type": "code",
   "execution_count": 254,
   "id": "4b7bc70d",
   "metadata": {},
   "outputs": [
    {
     "data": {
      "image/png": "[encoded data removed]",
      "text/plain": [
       "<Figure size 432x288 with 1 Axes>"
      ]
     },
     "metadata": {
      "needs_background": "light"
     },
     "output_type": "display_data"
    }
   ],
   "source": [
    "sb.barplot(data=df,x=\"Income_Bracket\",y=\"Education_Num\",palette=\"winter\")\n",
    "plt.xticks(rotation=90)\n",
    "plt.show()"
   ]
  },
  {
   "cell_type": "code",
   "execution_count": null,
   "id": "772600ff",
   "metadata": {},
   "outputs": [],
   "source": [
    "#>50k income bracket has high mean education num"
   ]
  },
  {
   "cell_type": "code",
   "execution_count": 255,
   "id": "194ecd25",
   "metadata": {},
   "outputs": [
    {
     "data": {
      "image/png": "[encoded data removed]",
      "text/plain": [
       "<Figure size 432x288 with 1 Axes>"
      ]
     },
     "metadata": {
      "needs_background": "light"
     },
     "output_type": "display_data"
    }
   ],
   "source": [
    "sb.barplot(data=df,x=\"Income_Bracket\",y=\"Age\")\n",
    "plt.show()"
   ]
  },
  {
   "cell_type": "code",
   "execution_count": null,
   "id": "1d1b976c",
   "metadata": {},
   "outputs": [],
   "source": [
    "#mean age for income bracket>50k is higher than for <=50k"
   ]
  }
 ],
 "metadata": {
  "kernelspec": {
   "display_name": "Python 3 (ipykernel)",
   "language": "python",
   "name": "python3"
  },
  "language_info": {
   "codemirror_mode": {
    "name": "ipython",
    "version": 3
   },
   "file_extension": ".py",
   "mimetype": "text/x-python",
   "name": "python",
   "nbconvert_exporter": "python",
   "pygments_lexer": "ipython3",
   "version": "3.9.12"
  }
 },
 "nbformat": 4,
 "nbformat_minor": 5
}
