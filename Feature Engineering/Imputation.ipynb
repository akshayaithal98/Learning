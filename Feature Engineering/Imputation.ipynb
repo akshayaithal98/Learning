{
 "cells": [
  {
   "cell_type": "code",
   "execution_count": 3,
   "id": "f1c0b86c",
   "metadata": {},
   "outputs": [],
   "source": [
    "import pandas as pd\n",
    "import numpy as np\n",
    "import seaborn as sns\n",
    "import matplotlib.pyplot as plt\n",
    "from sklearn.model_selection import train_test_split"
   ]
  },
  {
   "cell_type": "markdown",
   "id": "64fedc4b",
   "metadata": {},
   "source": [
    "## 1. Central Tendency: mean ,median,mode"
   ]
  },
  {
   "cell_type": "code",
   "execution_count": null,
   "id": "bc096226",
   "metadata": {},
   "outputs": [],
   "source": [
    "# Use this when data is missing at random"
   ]
  },
  {
   "cell_type": "code",
   "execution_count": 4,
   "id": "4ee514ed",
   "metadata": {},
   "outputs": [],
   "source": [
    "cols_to_use = [\n",
    "    \"OverallQual\",\n",
    "    \"TotalBsmtSF\",\n",
    "    \"1stFlrSF\",\n",
    "    \"GrLivArea\",\n",
    "    \"WoodDeckSF\",\n",
    "    \"BsmtUnfSF\",\n",
    "    \"LotFrontage\",\n",
    "    \"MasVnrArea\",\n",
    "    \"GarageYrBlt\",\n",
    "    \"SalePrice\",\n",
    "    \"BsmtQual\", \n",
    "    \"FireplaceQu\"\n",
    "]"
   ]
  },
  {
   "cell_type": "code",
   "execution_count": 5,
   "id": "a365be0e",
   "metadata": {},
   "outputs": [
    {
     "data": {
      "text/html": [
       "<div>\n",
       "<style scoped>\n",
       "    .dataframe tbody tr th:only-of-type {\n",
       "        vertical-align: middle;\n",
       "    }\n",
       "\n",
       "    .dataframe tbody tr th {\n",
       "        vertical-align: top;\n",
       "    }\n",
       "\n",
       "    .dataframe thead th {\n",
       "        text-align: right;\n",
       "    }\n",
       "</style>\n",
       "<table border=\"1\" class=\"dataframe\">\n",
       "  <thead>\n",
       "    <tr style=\"text-align: right;\">\n",
       "      <th></th>\n",
       "      <th>LotFrontage</th>\n",
       "      <th>OverallQual</th>\n",
       "      <th>MasVnrArea</th>\n",
       "      <th>BsmtQual</th>\n",
       "      <th>BsmtUnfSF</th>\n",
       "      <th>TotalBsmtSF</th>\n",
       "      <th>1stFlrSF</th>\n",
       "      <th>GrLivArea</th>\n",
       "      <th>FireplaceQu</th>\n",
       "      <th>GarageYrBlt</th>\n",
       "      <th>WoodDeckSF</th>\n",
       "      <th>SalePrice</th>\n",
       "    </tr>\n",
       "  </thead>\n",
       "  <tbody>\n",
       "    <tr>\n",
       "      <th>0</th>\n",
       "      <td>65.0</td>\n",
       "      <td>7</td>\n",
       "      <td>196.0</td>\n",
       "      <td>Gd</td>\n",
       "      <td>150</td>\n",
       "      <td>856</td>\n",
       "      <td>856</td>\n",
       "      <td>1710</td>\n",
       "      <td>NaN</td>\n",
       "      <td>2003.0</td>\n",
       "      <td>0</td>\n",
       "      <td>208500</td>\n",
       "    </tr>\n",
       "    <tr>\n",
       "      <th>1</th>\n",
       "      <td>80.0</td>\n",
       "      <td>6</td>\n",
       "      <td>0.0</td>\n",
       "      <td>Gd</td>\n",
       "      <td>284</td>\n",
       "      <td>1262</td>\n",
       "      <td>1262</td>\n",
       "      <td>1262</td>\n",
       "      <td>TA</td>\n",
       "      <td>1976.0</td>\n",
       "      <td>298</td>\n",
       "      <td>181500</td>\n",
       "    </tr>\n",
       "    <tr>\n",
       "      <th>2</th>\n",
       "      <td>68.0</td>\n",
       "      <td>7</td>\n",
       "      <td>162.0</td>\n",
       "      <td>Gd</td>\n",
       "      <td>434</td>\n",
       "      <td>920</td>\n",
       "      <td>920</td>\n",
       "      <td>1786</td>\n",
       "      <td>TA</td>\n",
       "      <td>2001.0</td>\n",
       "      <td>0</td>\n",
       "      <td>223500</td>\n",
       "    </tr>\n",
       "    <tr>\n",
       "      <th>3</th>\n",
       "      <td>60.0</td>\n",
       "      <td>7</td>\n",
       "      <td>0.0</td>\n",
       "      <td>TA</td>\n",
       "      <td>540</td>\n",
       "      <td>756</td>\n",
       "      <td>961</td>\n",
       "      <td>1717</td>\n",
       "      <td>Gd</td>\n",
       "      <td>1998.0</td>\n",
       "      <td>0</td>\n",
       "      <td>140000</td>\n",
       "    </tr>\n",
       "    <tr>\n",
       "      <th>4</th>\n",
       "      <td>84.0</td>\n",
       "      <td>8</td>\n",
       "      <td>350.0</td>\n",
       "      <td>Gd</td>\n",
       "      <td>490</td>\n",
       "      <td>1145</td>\n",
       "      <td>1145</td>\n",
       "      <td>2198</td>\n",
       "      <td>TA</td>\n",
       "      <td>2000.0</td>\n",
       "      <td>192</td>\n",
       "      <td>250000</td>\n",
       "    </tr>\n",
       "  </tbody>\n",
       "</table>\n",
       "</div>"
      ],
      "text/plain": [
       "   LotFrontage  OverallQual  MasVnrArea BsmtQual  BsmtUnfSF  TotalBsmtSF  \\\n",
       "0         65.0            7       196.0       Gd        150          856   \n",
       "1         80.0            6         0.0       Gd        284         1262   \n",
       "2         68.0            7       162.0       Gd        434          920   \n",
       "3         60.0            7         0.0       TA        540          756   \n",
       "4         84.0            8       350.0       Gd        490         1145   \n",
       "\n",
       "   1stFlrSF  GrLivArea FireplaceQu  GarageYrBlt  WoodDeckSF  SalePrice  \n",
       "0       856       1710         NaN       2003.0           0     208500  \n",
       "1      1262       1262          TA       1976.0         298     181500  \n",
       "2       920       1786          TA       2001.0           0     223500  \n",
       "3       961       1717          Gd       1998.0           0     140000  \n",
       "4      1145       2198          TA       2000.0         192     250000  "
      ]
     },
     "execution_count": 5,
     "metadata": {},
     "output_type": "execute_result"
    }
   ],
   "source": [
    "df=pd.read_csv(\"train (1).csv\",usecols=cols_to_use)\n",
    "df.head()"
   ]
  },
  {
   "cell_type": "code",
   "execution_count": null,
   "id": "3fdc6dd5",
   "metadata": {},
   "outputs": [],
   "source": [
    "#skew method in pandas can be used to check for skewness or to check is it normal. when normal value is 0"
   ]
  },
  {
   "cell_type": "code",
   "execution_count": 6,
   "id": "1c662fc3",
   "metadata": {},
   "outputs": [
    {
     "data": {
      "text/plain": [
       "2.163569142324884"
      ]
     },
     "execution_count": 6,
     "metadata": {},
     "output_type": "execute_result"
    }
   ],
   "source": [
    "df[\"LotFrontage\"].skew()"
   ]
  },
  {
   "cell_type": "code",
   "execution_count": 8,
   "id": "f3b5e82f",
   "metadata": {},
   "outputs": [
    {
     "data": {
      "text/plain": [
       "0.9202684528039037"
      ]
     },
     "execution_count": 8,
     "metadata": {},
     "output_type": "execute_result"
    }
   ],
   "source": [
    "df[\"BsmtUnfSF\"].skew()"
   ]
  },
  {
   "cell_type": "code",
   "execution_count": 110,
   "id": "5d50d670",
   "metadata": {},
   "outputs": [],
   "source": [
    "df1=df.copy()"
   ]
  },
  {
   "cell_type": "code",
   "execution_count": 12,
   "id": "70525635",
   "metadata": {},
   "outputs": [
    {
     "data": {
      "text/plain": [
       "(1460, 12)"
      ]
     },
     "execution_count": 12,
     "metadata": {},
     "output_type": "execute_result"
    }
   ],
   "source": [
    "df.shape"
   ]
  },
  {
   "cell_type": "code",
   "execution_count": 20,
   "id": "1a1e63fc",
   "metadata": {},
   "outputs": [
    {
     "name": "stdout",
     "output_type": "stream",
     "text": [
      "<class 'pandas.core.frame.DataFrame'>\n",
      "RangeIndex: 1460 entries, 0 to 1459\n",
      "Data columns (total 12 columns):\n",
      " #   Column       Non-Null Count  Dtype  \n",
      "---  ------       --------------  -----  \n",
      " 0   LotFrontage  1201 non-null   float64\n",
      " 1   OverallQual  1460 non-null   int64  \n",
      " 2   MasVnrArea   1452 non-null   float64\n",
      " 3   BsmtQual     1423 non-null   object \n",
      " 4   BsmtUnfSF    1460 non-null   int64  \n",
      " 5   TotalBsmtSF  1460 non-null   int64  \n",
      " 6   1stFlrSF     1460 non-null   int64  \n",
      " 7   GrLivArea    1460 non-null   int64  \n",
      " 8   FireplaceQu  770 non-null    object \n",
      " 9   GarageYrBlt  1379 non-null   float64\n",
      " 10  WoodDeckSF   1460 non-null   int64  \n",
      " 11  SalePrice    1460 non-null   int64  \n",
      "dtypes: float64(3), int64(7), object(2)\n",
      "memory usage: 137.0+ KB\n"
     ]
    }
   ],
   "source": [
    "df.info()"
   ]
  },
  {
   "cell_type": "code",
   "execution_count": 14,
   "id": "351642fe",
   "metadata": {},
   "outputs": [
    {
     "data": {
      "text/plain": [
       "LotFrontage    0.177397\n",
       "OverallQual    0.000000\n",
       "MasVnrArea     0.005479\n",
       "BsmtQual       0.025342\n",
       "BsmtUnfSF      0.000000\n",
       "TotalBsmtSF    0.000000\n",
       "1stFlrSF       0.000000\n",
       "GrLivArea      0.000000\n",
       "FireplaceQu    0.472603\n",
       "GarageYrBlt    0.055479\n",
       "WoodDeckSF     0.000000\n",
       "SalePrice      0.000000\n",
       "dtype: float64"
      ]
     },
     "execution_count": 14,
     "metadata": {},
     "output_type": "execute_result"
    }
   ],
   "source": [
    "df.isnull().mean()"
   ]
  },
  {
   "cell_type": "code",
   "execution_count": 16,
   "id": "9599279b",
   "metadata": {},
   "outputs": [],
   "source": [
    "x_train,x_test,y_train,y_test=train_test_split(df.drop(\"SalePrice\",axis=1),df[\"SalePrice\"],test_size=0.2)"
   ]
  },
  {
   "cell_type": "code",
   "execution_count": 24,
   "id": "53fd920e",
   "metadata": {},
   "outputs": [
    {
     "data": {
      "image/png": "[encoded data removed]",
      "text/plain": [
       "<Figure size 720x720 with 9 Axes>"
      ]
     },
     "metadata": {
      "needs_background": "light"
     },
     "output_type": "display_data"
    }
   ],
   "source": [
    "x_train.hist(bins=10,figsize=(10,10))\n",
    "plt.show()"
   ]
  },
  {
   "cell_type": "code",
   "execution_count": 81,
   "id": "52918e10",
   "metadata": {},
   "outputs": [],
   "source": [
    "c=[i for i in df.columns if df[i].isnull().sum()>0 and df[i].dtypes==object]\n",
    "n=[i for i in df.columns if df[i].isnull().sum()>0 and df[i].dtypes!=object]"
   ]
  },
  {
   "cell_type": "code",
   "execution_count": 82,
   "id": "bee36e5b",
   "metadata": {},
   "outputs": [
    {
     "data": {
      "text/plain": [
       "(['BsmtQual', 'FireplaceQu'], ['LotFrontage', 'MasVnrArea', 'GarageYrBlt'])"
      ]
     },
     "execution_count": 82,
     "metadata": {},
     "output_type": "execute_result"
    }
   ],
   "source": [
    "c,n"
   ]
  },
  {
   "cell_type": "code",
   "execution_count": 97,
   "id": "d7cda93b",
   "metadata": {},
   "outputs": [],
   "source": [
    "d_n={i:x_train[i].median() for i in n}\n",
    "d_c={i:x_train[i].mode()[0] for i in c}"
   ]
  },
  {
   "cell_type": "code",
   "execution_count": 101,
   "id": "ddab8924",
   "metadata": {},
   "outputs": [
    {
     "data": {
      "text/plain": [
       "{'LotFrontage': 68.0,\n",
       " 'MasVnrArea': 0.0,\n",
       " 'GarageYrBlt': 1980.0,\n",
       " 'BsmtQual': 'TA',\n",
       " 'FireplaceQu': 'Gd'}"
      ]
     },
     "execution_count": 101,
     "metadata": {},
     "output_type": "execute_result"
    }
   ],
   "source": [
    "d=d_n|d_c\n",
    "d"
   ]
  },
  {
   "cell_type": "code",
   "execution_count": 103,
   "id": "7224758d",
   "metadata": {},
   "outputs": [],
   "source": [
    "x_train.fillna(d,inplace=True)\n",
    "x_test.fillna(d,inplace=True)"
   ]
  },
  {
   "cell_type": "code",
   "execution_count": 105,
   "id": "e3072838",
   "metadata": {},
   "outputs": [
    {
     "data": {
      "text/plain": [
       "(LotFrontage    0\n",
       " OverallQual    0\n",
       " MasVnrArea     0\n",
       " BsmtQual       0\n",
       " BsmtUnfSF      0\n",
       " TotalBsmtSF    0\n",
       " 1stFlrSF       0\n",
       " GrLivArea      0\n",
       " FireplaceQu    0\n",
       " GarageYrBlt    0\n",
       " WoodDeckSF     0\n",
       " dtype: int64,\n",
       " LotFrontage    0\n",
       " OverallQual    0\n",
       " MasVnrArea     0\n",
       " BsmtQual       0\n",
       " BsmtUnfSF      0\n",
       " TotalBsmtSF    0\n",
       " 1stFlrSF       0\n",
       " GrLivArea      0\n",
       " FireplaceQu    0\n",
       " GarageYrBlt    0\n",
       " WoodDeckSF     0\n",
       " dtype: int64)"
      ]
     },
     "execution_count": 105,
     "metadata": {},
     "output_type": "execute_result"
    }
   ],
   "source": [
    "x_train.isnull().sum(),x_test.isnull().sum()"
   ]
  },
  {
   "cell_type": "code",
   "execution_count": 107,
   "id": "a27b6e45",
   "metadata": {},
   "outputs": [
    {
     "data": {
      "image/png": "[encoded data removed]",
      "text/plain": [
       "<Figure size 720x720 with 9 Axes>"
      ]
     },
     "metadata": {
      "needs_background": "light"
     },
     "output_type": "display_data"
    }
   ],
   "source": [
    "x_train.hist(bins=10,figsize=(10,10))\n",
    "plt.show()"
   ]
  },
  {
   "cell_type": "markdown",
   "id": "735f0496",
   "metadata": {},
   "source": [
    "## 2. Arbitary values"
   ]
  },
  {
   "cell_type": "code",
   "execution_count": null,
   "id": "fffff285",
   "metadata": {},
   "outputs": [],
   "source": [
    "#replacing with values that are different from the data, so that it acts as a flag for missing value also.\n",
    "#used when data is missing not at random\n",
    "#changes the distribution"
   ]
  },
  {
   "cell_type": "code",
   "execution_count": 111,
   "id": "6e5f4854",
   "metadata": {},
   "outputs": [
    {
     "data": {
      "text/html": [
       "<div>\n",
       "<style scoped>\n",
       "    .dataframe tbody tr th:only-of-type {\n",
       "        vertical-align: middle;\n",
       "    }\n",
       "\n",
       "    .dataframe tbody tr th {\n",
       "        vertical-align: top;\n",
       "    }\n",
       "\n",
       "    .dataframe thead th {\n",
       "        text-align: right;\n",
       "    }\n",
       "</style>\n",
       "<table border=\"1\" class=\"dataframe\">\n",
       "  <thead>\n",
       "    <tr style=\"text-align: right;\">\n",
       "      <th></th>\n",
       "      <th>LotFrontage</th>\n",
       "      <th>OverallQual</th>\n",
       "      <th>MasVnrArea</th>\n",
       "      <th>BsmtQual</th>\n",
       "      <th>BsmtUnfSF</th>\n",
       "      <th>TotalBsmtSF</th>\n",
       "      <th>1stFlrSF</th>\n",
       "      <th>GrLivArea</th>\n",
       "      <th>FireplaceQu</th>\n",
       "      <th>GarageYrBlt</th>\n",
       "      <th>WoodDeckSF</th>\n",
       "      <th>SalePrice</th>\n",
       "    </tr>\n",
       "  </thead>\n",
       "  <tbody>\n",
       "    <tr>\n",
       "      <th>0</th>\n",
       "      <td>65.0</td>\n",
       "      <td>7</td>\n",
       "      <td>196.0</td>\n",
       "      <td>Gd</td>\n",
       "      <td>150</td>\n",
       "      <td>856</td>\n",
       "      <td>856</td>\n",
       "      <td>1710</td>\n",
       "      <td>NaN</td>\n",
       "      <td>2003.0</td>\n",
       "      <td>0</td>\n",
       "      <td>208500</td>\n",
       "    </tr>\n",
       "    <tr>\n",
       "      <th>1</th>\n",
       "      <td>80.0</td>\n",
       "      <td>6</td>\n",
       "      <td>0.0</td>\n",
       "      <td>Gd</td>\n",
       "      <td>284</td>\n",
       "      <td>1262</td>\n",
       "      <td>1262</td>\n",
       "      <td>1262</td>\n",
       "      <td>TA</td>\n",
       "      <td>1976.0</td>\n",
       "      <td>298</td>\n",
       "      <td>181500</td>\n",
       "    </tr>\n",
       "    <tr>\n",
       "      <th>2</th>\n",
       "      <td>68.0</td>\n",
       "      <td>7</td>\n",
       "      <td>162.0</td>\n",
       "      <td>Gd</td>\n",
       "      <td>434</td>\n",
       "      <td>920</td>\n",
       "      <td>920</td>\n",
       "      <td>1786</td>\n",
       "      <td>TA</td>\n",
       "      <td>2001.0</td>\n",
       "      <td>0</td>\n",
       "      <td>223500</td>\n",
       "    </tr>\n",
       "    <tr>\n",
       "      <th>3</th>\n",
       "      <td>60.0</td>\n",
       "      <td>7</td>\n",
       "      <td>0.0</td>\n",
       "      <td>TA</td>\n",
       "      <td>540</td>\n",
       "      <td>756</td>\n",
       "      <td>961</td>\n",
       "      <td>1717</td>\n",
       "      <td>Gd</td>\n",
       "      <td>1998.0</td>\n",
       "      <td>0</td>\n",
       "      <td>140000</td>\n",
       "    </tr>\n",
       "    <tr>\n",
       "      <th>4</th>\n",
       "      <td>84.0</td>\n",
       "      <td>8</td>\n",
       "      <td>350.0</td>\n",
       "      <td>Gd</td>\n",
       "      <td>490</td>\n",
       "      <td>1145</td>\n",
       "      <td>1145</td>\n",
       "      <td>2198</td>\n",
       "      <td>TA</td>\n",
       "      <td>2000.0</td>\n",
       "      <td>192</td>\n",
       "      <td>250000</td>\n",
       "    </tr>\n",
       "  </tbody>\n",
       "</table>\n",
       "</div>"
      ],
      "text/plain": [
       "   LotFrontage  OverallQual  MasVnrArea BsmtQual  BsmtUnfSF  TotalBsmtSF  \\\n",
       "0         65.0            7       196.0       Gd        150          856   \n",
       "1         80.0            6         0.0       Gd        284         1262   \n",
       "2         68.0            7       162.0       Gd        434          920   \n",
       "3         60.0            7         0.0       TA        540          756   \n",
       "4         84.0            8       350.0       Gd        490         1145   \n",
       "\n",
       "   1stFlrSF  GrLivArea FireplaceQu  GarageYrBlt  WoodDeckSF  SalePrice  \n",
       "0       856       1710         NaN       2003.0           0     208500  \n",
       "1      1262       1262          TA       1976.0         298     181500  \n",
       "2       920       1786          TA       2001.0           0     223500  \n",
       "3       961       1717          Gd       1998.0           0     140000  \n",
       "4      1145       2198          TA       2000.0         192     250000  "
      ]
     },
     "execution_count": 111,
     "metadata": {},
     "output_type": "execute_result"
    }
   ],
   "source": [
    "df1.head()"
   ]
  },
  {
   "cell_type": "code",
   "execution_count": 130,
   "id": "51083d06",
   "metadata": {},
   "outputs": [
    {
     "data": {
      "text/plain": [
       "LotFrontage    259\n",
       "OverallQual      0\n",
       "MasVnrArea       8\n",
       "BsmtQual        37\n",
       "BsmtUnfSF        0\n",
       "TotalBsmtSF      0\n",
       "1stFlrSF         0\n",
       "GrLivArea        0\n",
       "FireplaceQu    690\n",
       "GarageYrBlt     81\n",
       "WoodDeckSF       0\n",
       "SalePrice        0\n",
       "dtype: int64"
      ]
     },
     "execution_count": 130,
     "metadata": {},
     "output_type": "execute_result"
    }
   ],
   "source": [
    "df1.isnull().sum()"
   ]
  },
  {
   "cell_type": "code",
   "execution_count": 119,
   "id": "31224929",
   "metadata": {},
   "outputs": [],
   "source": [
    "x_train,x_test,y_train,y_test=train_test_split(df.drop(\"SalePrice\",axis=1),df[\"SalePrice\"],test_size=0.2)"
   ]
  },
  {
   "cell_type": "code",
   "execution_count": 128,
   "id": "a0c6d2ae",
   "metadata": {},
   "outputs": [],
   "source": [
    "n=['LotFrontage', 'MasVnrArea', 'GarageYrBlt']"
   ]
  },
  {
   "cell_type": "code",
   "execution_count": 129,
   "id": "247d4624",
   "metadata": {},
   "outputs": [
    {
     "data": {
      "text/html": [
       "<div>\n",
       "<style scoped>\n",
       "    .dataframe tbody tr th:only-of-type {\n",
       "        vertical-align: middle;\n",
       "    }\n",
       "\n",
       "    .dataframe tbody tr th {\n",
       "        vertical-align: top;\n",
       "    }\n",
       "\n",
       "    .dataframe thead th {\n",
       "        text-align: right;\n",
       "    }\n",
       "</style>\n",
       "<table border=\"1\" class=\"dataframe\">\n",
       "  <thead>\n",
       "    <tr style=\"text-align: right;\">\n",
       "      <th></th>\n",
       "      <th>LotFrontage</th>\n",
       "      <th>MasVnrArea</th>\n",
       "      <th>GarageYrBlt</th>\n",
       "    </tr>\n",
       "  </thead>\n",
       "  <tbody>\n",
       "    <tr>\n",
       "      <th>min</th>\n",
       "      <td>21.0</td>\n",
       "      <td>0.0</td>\n",
       "      <td>1906.0</td>\n",
       "    </tr>\n",
       "    <tr>\n",
       "      <th>max</th>\n",
       "      <td>313.0</td>\n",
       "      <td>1600.0</td>\n",
       "      <td>2010.0</td>\n",
       "    </tr>\n",
       "  </tbody>\n",
       "</table>\n",
       "</div>"
      ],
      "text/plain": [
       "     LotFrontage  MasVnrArea  GarageYrBlt\n",
       "min         21.0         0.0       1906.0\n",
       "max        313.0      1600.0       2010.0"
      ]
     },
     "execution_count": 129,
     "metadata": {},
     "output_type": "execute_result"
    }
   ],
   "source": [
    "x_train[n].agg([\"min\",\"max\"])"
   ]
  },
  {
   "cell_type": "code",
   "execution_count": 131,
   "id": "ebb890f9",
   "metadata": {},
   "outputs": [],
   "source": [
    "d={\"LotFrontage\":999,\"MasVnrArea\":1999,\"GarageYrBlt\":2999,\"BsmtQual\":\"missing\",\"FireplaceQu\":\"missing\"}"
   ]
  },
  {
   "cell_type": "code",
   "execution_count": 132,
   "id": "b3f78776",
   "metadata": {},
   "outputs": [],
   "source": [
    "x_train.fillna(d,inplace=True)\n",
    "x_test.fillna(d,inplace=True)"
   ]
  },
  {
   "cell_type": "code",
   "execution_count": 134,
   "id": "7827f946",
   "metadata": {
    "scrolled": true
   },
   "outputs": [
    {
     "data": {
      "text/plain": [
       "(LotFrontage    0\n",
       " OverallQual    0\n",
       " MasVnrArea     0\n",
       " BsmtQual       0\n",
       " BsmtUnfSF      0\n",
       " TotalBsmtSF    0\n",
       " 1stFlrSF       0\n",
       " GrLivArea      0\n",
       " FireplaceQu    0\n",
       " GarageYrBlt    0\n",
       " WoodDeckSF     0\n",
       " dtype: int64,\n",
       " LotFrontage    0\n",
       " OverallQual    0\n",
       " MasVnrArea     0\n",
       " BsmtQual       0\n",
       " BsmtUnfSF      0\n",
       " TotalBsmtSF    0\n",
       " 1stFlrSF       0\n",
       " GrLivArea      0\n",
       " FireplaceQu    0\n",
       " GarageYrBlt    0\n",
       " WoodDeckSF     0\n",
       " dtype: int64)"
      ]
     },
     "execution_count": 134,
     "metadata": {},
     "output_type": "execute_result"
    }
   ],
   "source": [
    "x_train.isnull().sum(),x_test.isnull().sum()"
   ]
  },
  {
   "cell_type": "markdown",
   "id": "e55fd893",
   "metadata": {},
   "source": [
    "### 3. Comeplete case analysis"
   ]
  },
  {
   "cell_type": "code",
   "execution_count": 145,
   "id": "964312ba",
   "metadata": {},
   "outputs": [
    {
     "data": {
      "text/html": [
       "<div>\n",
       "<style scoped>\n",
       "    .dataframe tbody tr th:only-of-type {\n",
       "        vertical-align: middle;\n",
       "    }\n",
       "\n",
       "    .dataframe tbody tr th {\n",
       "        vertical-align: top;\n",
       "    }\n",
       "\n",
       "    .dataframe thead th {\n",
       "        text-align: right;\n",
       "    }\n",
       "</style>\n",
       "<table border=\"1\" class=\"dataframe\">\n",
       "  <thead>\n",
       "    <tr style=\"text-align: right;\">\n",
       "      <th></th>\n",
       "      <th>LotFrontage</th>\n",
       "      <th>OverallQual</th>\n",
       "      <th>MasVnrArea</th>\n",
       "      <th>BsmtQual</th>\n",
       "      <th>BsmtUnfSF</th>\n",
       "      <th>TotalBsmtSF</th>\n",
       "      <th>1stFlrSF</th>\n",
       "      <th>GrLivArea</th>\n",
       "      <th>FireplaceQu</th>\n",
       "      <th>GarageYrBlt</th>\n",
       "      <th>WoodDeckSF</th>\n",
       "      <th>SalePrice</th>\n",
       "    </tr>\n",
       "  </thead>\n",
       "  <tbody>\n",
       "    <tr>\n",
       "      <th>0</th>\n",
       "      <td>65.0</td>\n",
       "      <td>7</td>\n",
       "      <td>196.0</td>\n",
       "      <td>Gd</td>\n",
       "      <td>150</td>\n",
       "      <td>856</td>\n",
       "      <td>856</td>\n",
       "      <td>1710</td>\n",
       "      <td>NaN</td>\n",
       "      <td>2003.0</td>\n",
       "      <td>0</td>\n",
       "      <td>208500</td>\n",
       "    </tr>\n",
       "    <tr>\n",
       "      <th>1</th>\n",
       "      <td>80.0</td>\n",
       "      <td>6</td>\n",
       "      <td>0.0</td>\n",
       "      <td>Gd</td>\n",
       "      <td>284</td>\n",
       "      <td>1262</td>\n",
       "      <td>1262</td>\n",
       "      <td>1262</td>\n",
       "      <td>TA</td>\n",
       "      <td>1976.0</td>\n",
       "      <td>298</td>\n",
       "      <td>181500</td>\n",
       "    </tr>\n",
       "    <tr>\n",
       "      <th>2</th>\n",
       "      <td>68.0</td>\n",
       "      <td>7</td>\n",
       "      <td>162.0</td>\n",
       "      <td>Gd</td>\n",
       "      <td>434</td>\n",
       "      <td>920</td>\n",
       "      <td>920</td>\n",
       "      <td>1786</td>\n",
       "      <td>TA</td>\n",
       "      <td>2001.0</td>\n",
       "      <td>0</td>\n",
       "      <td>223500</td>\n",
       "    </tr>\n",
       "    <tr>\n",
       "      <th>3</th>\n",
       "      <td>60.0</td>\n",
       "      <td>7</td>\n",
       "      <td>0.0</td>\n",
       "      <td>TA</td>\n",
       "      <td>540</td>\n",
       "      <td>756</td>\n",
       "      <td>961</td>\n",
       "      <td>1717</td>\n",
       "      <td>Gd</td>\n",
       "      <td>1998.0</td>\n",
       "      <td>0</td>\n",
       "      <td>140000</td>\n",
       "    </tr>\n",
       "    <tr>\n",
       "      <th>4</th>\n",
       "      <td>84.0</td>\n",
       "      <td>8</td>\n",
       "      <td>350.0</td>\n",
       "      <td>Gd</td>\n",
       "      <td>490</td>\n",
       "      <td>1145</td>\n",
       "      <td>1145</td>\n",
       "      <td>2198</td>\n",
       "      <td>TA</td>\n",
       "      <td>2000.0</td>\n",
       "      <td>192</td>\n",
       "      <td>250000</td>\n",
       "    </tr>\n",
       "  </tbody>\n",
       "</table>\n",
       "</div>"
      ],
      "text/plain": [
       "   LotFrontage  OverallQual  MasVnrArea BsmtQual  BsmtUnfSF  TotalBsmtSF  \\\n",
       "0         65.0            7       196.0       Gd        150          856   \n",
       "1         80.0            6         0.0       Gd        284         1262   \n",
       "2         68.0            7       162.0       Gd        434          920   \n",
       "3         60.0            7         0.0       TA        540          756   \n",
       "4         84.0            8       350.0       Gd        490         1145   \n",
       "\n",
       "   1stFlrSF  GrLivArea FireplaceQu  GarageYrBlt  WoodDeckSF  SalePrice  \n",
       "0       856       1710         NaN       2003.0           0     208500  \n",
       "1      1262       1262          TA       1976.0         298     181500  \n",
       "2       920       1786          TA       2001.0           0     223500  \n",
       "3       961       1717          Gd       1998.0           0     140000  \n",
       "4      1145       2198          TA       2000.0         192     250000  "
      ]
     },
     "execution_count": 145,
     "metadata": {},
     "output_type": "execute_result"
    }
   ],
   "source": [
    "#dropping rows with null values\n",
    "#used when data is completely missing at random\n",
    "#model in production will not how to handle if missing data comes, so that is disadvantage.for that u need to impute only.dropping will only work in traning\n",
    "df1.head()"
   ]
  },
  {
   "cell_type": "code",
   "execution_count": 146,
   "id": "57ab4272",
   "metadata": {},
   "outputs": [
    {
     "data": {
      "text/plain": [
       "LotFrontage    259\n",
       "OverallQual      0\n",
       "MasVnrArea       8\n",
       "BsmtQual        37\n",
       "BsmtUnfSF        0\n",
       "TotalBsmtSF      0\n",
       "1stFlrSF         0\n",
       "GrLivArea        0\n",
       "FireplaceQu    690\n",
       "GarageYrBlt     81\n",
       "WoodDeckSF       0\n",
       "SalePrice        0\n",
       "dtype: int64"
      ]
     },
     "execution_count": 146,
     "metadata": {},
     "output_type": "execute_result"
    }
   ],
   "source": [
    "df1.isnull().sum()"
   ]
  },
  {
   "cell_type": "code",
   "execution_count": 147,
   "id": "0f8ce9f3",
   "metadata": {},
   "outputs": [
    {
     "data": {
      "text/html": [
       "<div>\n",
       "<style scoped>\n",
       "    .dataframe tbody tr th:only-of-type {\n",
       "        vertical-align: middle;\n",
       "    }\n",
       "\n",
       "    .dataframe tbody tr th {\n",
       "        vertical-align: top;\n",
       "    }\n",
       "\n",
       "    .dataframe thead th {\n",
       "        text-align: right;\n",
       "    }\n",
       "</style>\n",
       "<table border=\"1\" class=\"dataframe\">\n",
       "  <thead>\n",
       "    <tr style=\"text-align: right;\">\n",
       "      <th></th>\n",
       "      <th>LotFrontage</th>\n",
       "      <th>OverallQual</th>\n",
       "      <th>MasVnrArea</th>\n",
       "      <th>BsmtQual</th>\n",
       "      <th>BsmtUnfSF</th>\n",
       "      <th>TotalBsmtSF</th>\n",
       "      <th>1stFlrSF</th>\n",
       "      <th>GrLivArea</th>\n",
       "      <th>FireplaceQu</th>\n",
       "      <th>GarageYrBlt</th>\n",
       "      <th>WoodDeckSF</th>\n",
       "      <th>SalePrice</th>\n",
       "    </tr>\n",
       "  </thead>\n",
       "  <tbody>\n",
       "    <tr>\n",
       "      <th>1</th>\n",
       "      <td>80.0</td>\n",
       "      <td>6</td>\n",
       "      <td>0.0</td>\n",
       "      <td>Gd</td>\n",
       "      <td>284</td>\n",
       "      <td>1262</td>\n",
       "      <td>1262</td>\n",
       "      <td>1262</td>\n",
       "      <td>TA</td>\n",
       "      <td>1976.0</td>\n",
       "      <td>298</td>\n",
       "      <td>181500</td>\n",
       "    </tr>\n",
       "    <tr>\n",
       "      <th>2</th>\n",
       "      <td>68.0</td>\n",
       "      <td>7</td>\n",
       "      <td>162.0</td>\n",
       "      <td>Gd</td>\n",
       "      <td>434</td>\n",
       "      <td>920</td>\n",
       "      <td>920</td>\n",
       "      <td>1786</td>\n",
       "      <td>TA</td>\n",
       "      <td>2001.0</td>\n",
       "      <td>0</td>\n",
       "      <td>223500</td>\n",
       "    </tr>\n",
       "    <tr>\n",
       "      <th>3</th>\n",
       "      <td>60.0</td>\n",
       "      <td>7</td>\n",
       "      <td>0.0</td>\n",
       "      <td>TA</td>\n",
       "      <td>540</td>\n",
       "      <td>756</td>\n",
       "      <td>961</td>\n",
       "      <td>1717</td>\n",
       "      <td>Gd</td>\n",
       "      <td>1998.0</td>\n",
       "      <td>0</td>\n",
       "      <td>140000</td>\n",
       "    </tr>\n",
       "    <tr>\n",
       "      <th>4</th>\n",
       "      <td>84.0</td>\n",
       "      <td>8</td>\n",
       "      <td>350.0</td>\n",
       "      <td>Gd</td>\n",
       "      <td>490</td>\n",
       "      <td>1145</td>\n",
       "      <td>1145</td>\n",
       "      <td>2198</td>\n",
       "      <td>TA</td>\n",
       "      <td>2000.0</td>\n",
       "      <td>192</td>\n",
       "      <td>250000</td>\n",
       "    </tr>\n",
       "    <tr>\n",
       "      <th>6</th>\n",
       "      <td>75.0</td>\n",
       "      <td>8</td>\n",
       "      <td>186.0</td>\n",
       "      <td>Ex</td>\n",
       "      <td>317</td>\n",
       "      <td>1686</td>\n",
       "      <td>1694</td>\n",
       "      <td>1694</td>\n",
       "      <td>Gd</td>\n",
       "      <td>2004.0</td>\n",
       "      <td>255</td>\n",
       "      <td>307000</td>\n",
       "    </tr>\n",
       "    <tr>\n",
       "      <th>...</th>\n",
       "      <td>...</td>\n",
       "      <td>...</td>\n",
       "      <td>...</td>\n",
       "      <td>...</td>\n",
       "      <td>...</td>\n",
       "      <td>...</td>\n",
       "      <td>...</td>\n",
       "      <td>...</td>\n",
       "      <td>...</td>\n",
       "      <td>...</td>\n",
       "      <td>...</td>\n",
       "      <td>...</td>\n",
       "    </tr>\n",
       "    <tr>\n",
       "      <th>1447</th>\n",
       "      <td>80.0</td>\n",
       "      <td>8</td>\n",
       "      <td>438.0</td>\n",
       "      <td>Gd</td>\n",
       "      <td>141</td>\n",
       "      <td>1220</td>\n",
       "      <td>1220</td>\n",
       "      <td>2090</td>\n",
       "      <td>TA</td>\n",
       "      <td>1995.0</td>\n",
       "      <td>0</td>\n",
       "      <td>240000</td>\n",
       "    </tr>\n",
       "    <tr>\n",
       "      <th>1451</th>\n",
       "      <td>78.0</td>\n",
       "      <td>8</td>\n",
       "      <td>194.0</td>\n",
       "      <td>Gd</td>\n",
       "      <td>1573</td>\n",
       "      <td>1573</td>\n",
       "      <td>1578</td>\n",
       "      <td>1578</td>\n",
       "      <td>Gd</td>\n",
       "      <td>2008.0</td>\n",
       "      <td>0</td>\n",
       "      <td>287090</td>\n",
       "    </tr>\n",
       "    <tr>\n",
       "      <th>1455</th>\n",
       "      <td>62.0</td>\n",
       "      <td>6</td>\n",
       "      <td>0.0</td>\n",
       "      <td>Gd</td>\n",
       "      <td>953</td>\n",
       "      <td>953</td>\n",
       "      <td>953</td>\n",
       "      <td>1647</td>\n",
       "      <td>TA</td>\n",
       "      <td>1999.0</td>\n",
       "      <td>0</td>\n",
       "      <td>175000</td>\n",
       "    </tr>\n",
       "    <tr>\n",
       "      <th>1456</th>\n",
       "      <td>85.0</td>\n",
       "      <td>6</td>\n",
       "      <td>119.0</td>\n",
       "      <td>Gd</td>\n",
       "      <td>589</td>\n",
       "      <td>1542</td>\n",
       "      <td>2073</td>\n",
       "      <td>2073</td>\n",
       "      <td>TA</td>\n",
       "      <td>1978.0</td>\n",
       "      <td>349</td>\n",
       "      <td>210000</td>\n",
       "    </tr>\n",
       "    <tr>\n",
       "      <th>1457</th>\n",
       "      <td>66.0</td>\n",
       "      <td>7</td>\n",
       "      <td>0.0</td>\n",
       "      <td>TA</td>\n",
       "      <td>877</td>\n",
       "      <td>1152</td>\n",
       "      <td>1188</td>\n",
       "      <td>2340</td>\n",
       "      <td>Gd</td>\n",
       "      <td>1941.0</td>\n",
       "      <td>0</td>\n",
       "      <td>266500</td>\n",
       "    </tr>\n",
       "  </tbody>\n",
       "</table>\n",
       "<p>585 rows × 12 columns</p>\n",
       "</div>"
      ],
      "text/plain": [
       "      LotFrontage  OverallQual  MasVnrArea BsmtQual  BsmtUnfSF  TotalBsmtSF  \\\n",
       "1            80.0            6         0.0       Gd        284         1262   \n",
       "2            68.0            7       162.0       Gd        434          920   \n",
       "3            60.0            7         0.0       TA        540          756   \n",
       "4            84.0            8       350.0       Gd        490         1145   \n",
       "6            75.0            8       186.0       Ex        317         1686   \n",
       "...           ...          ...         ...      ...        ...          ...   \n",
       "1447         80.0            8       438.0       Gd        141         1220   \n",
       "1451         78.0            8       194.0       Gd       1573         1573   \n",
       "1455         62.0            6         0.0       Gd        953          953   \n",
       "1456         85.0            6       119.0       Gd        589         1542   \n",
       "1457         66.0            7         0.0       TA        877         1152   \n",
       "\n",
       "      1stFlrSF  GrLivArea FireplaceQu  GarageYrBlt  WoodDeckSF  SalePrice  \n",
       "1         1262       1262          TA       1976.0         298     181500  \n",
       "2          920       1786          TA       2001.0           0     223500  \n",
       "3          961       1717          Gd       1998.0           0     140000  \n",
       "4         1145       2198          TA       2000.0         192     250000  \n",
       "6         1694       1694          Gd       2004.0         255     307000  \n",
       "...        ...        ...         ...          ...         ...        ...  \n",
       "1447      1220       2090          TA       1995.0           0     240000  \n",
       "1451      1578       1578          Gd       2008.0           0     287090  \n",
       "1455       953       1647          TA       1999.0           0     175000  \n",
       "1456      2073       2073          TA       1978.0         349     210000  \n",
       "1457      1188       2340          Gd       1941.0           0     266500  \n",
       "\n",
       "[585 rows x 12 columns]"
      ]
     },
     "execution_count": 147,
     "metadata": {},
     "output_type": "execute_result"
    }
   ],
   "source": [
    "df1.dropna()"
   ]
  },
  {
   "cell_type": "markdown",
   "id": "5f48a527",
   "metadata": {},
   "source": [
    "## 4. End of tail imputation"
   ]
  },
  {
   "cell_type": "code",
   "execution_count": null,
   "id": "141ea772",
   "metadata": {},
   "outputs": [],
   "source": [
    "#only suitable for numerical variables\n",
    "#if normally distributed,impute with mean+3*sd  (+ or - also)\n",
    "#else impute with lower/upper fence\n",
    "#assumption is data is not missing at random\n",
    "#not used widely but used in financial data to highlight the missing data \n",
    "#it changes the distribution of data\n",
    "#not suitable for linear based methods , for tree based suits well."
   ]
  },
  {
   "cell_type": "code",
   "execution_count": 149,
   "id": "d5ded356",
   "metadata": {},
   "outputs": [
    {
     "data": {
      "text/html": [
       "<div>\n",
       "<style scoped>\n",
       "    .dataframe tbody tr th:only-of-type {\n",
       "        vertical-align: middle;\n",
       "    }\n",
       "\n",
       "    .dataframe tbody tr th {\n",
       "        vertical-align: top;\n",
       "    }\n",
       "\n",
       "    .dataframe thead th {\n",
       "        text-align: right;\n",
       "    }\n",
       "</style>\n",
       "<table border=\"1\" class=\"dataframe\">\n",
       "  <thead>\n",
       "    <tr style=\"text-align: right;\">\n",
       "      <th></th>\n",
       "      <th>LotFrontage</th>\n",
       "      <th>OverallQual</th>\n",
       "      <th>MasVnrArea</th>\n",
       "      <th>BsmtQual</th>\n",
       "      <th>BsmtUnfSF</th>\n",
       "      <th>TotalBsmtSF</th>\n",
       "      <th>1stFlrSF</th>\n",
       "      <th>GrLivArea</th>\n",
       "      <th>FireplaceQu</th>\n",
       "      <th>GarageYrBlt</th>\n",
       "      <th>WoodDeckSF</th>\n",
       "      <th>SalePrice</th>\n",
       "    </tr>\n",
       "  </thead>\n",
       "  <tbody>\n",
       "    <tr>\n",
       "      <th>0</th>\n",
       "      <td>65.0</td>\n",
       "      <td>7</td>\n",
       "      <td>196.0</td>\n",
       "      <td>Gd</td>\n",
       "      <td>150</td>\n",
       "      <td>856</td>\n",
       "      <td>856</td>\n",
       "      <td>1710</td>\n",
       "      <td>NaN</td>\n",
       "      <td>2003.0</td>\n",
       "      <td>0</td>\n",
       "      <td>208500</td>\n",
       "    </tr>\n",
       "    <tr>\n",
       "      <th>1</th>\n",
       "      <td>80.0</td>\n",
       "      <td>6</td>\n",
       "      <td>0.0</td>\n",
       "      <td>Gd</td>\n",
       "      <td>284</td>\n",
       "      <td>1262</td>\n",
       "      <td>1262</td>\n",
       "      <td>1262</td>\n",
       "      <td>TA</td>\n",
       "      <td>1976.0</td>\n",
       "      <td>298</td>\n",
       "      <td>181500</td>\n",
       "    </tr>\n",
       "    <tr>\n",
       "      <th>2</th>\n",
       "      <td>68.0</td>\n",
       "      <td>7</td>\n",
       "      <td>162.0</td>\n",
       "      <td>Gd</td>\n",
       "      <td>434</td>\n",
       "      <td>920</td>\n",
       "      <td>920</td>\n",
       "      <td>1786</td>\n",
       "      <td>TA</td>\n",
       "      <td>2001.0</td>\n",
       "      <td>0</td>\n",
       "      <td>223500</td>\n",
       "    </tr>\n",
       "    <tr>\n",
       "      <th>3</th>\n",
       "      <td>60.0</td>\n",
       "      <td>7</td>\n",
       "      <td>0.0</td>\n",
       "      <td>TA</td>\n",
       "      <td>540</td>\n",
       "      <td>756</td>\n",
       "      <td>961</td>\n",
       "      <td>1717</td>\n",
       "      <td>Gd</td>\n",
       "      <td>1998.0</td>\n",
       "      <td>0</td>\n",
       "      <td>140000</td>\n",
       "    </tr>\n",
       "    <tr>\n",
       "      <th>4</th>\n",
       "      <td>84.0</td>\n",
       "      <td>8</td>\n",
       "      <td>350.0</td>\n",
       "      <td>Gd</td>\n",
       "      <td>490</td>\n",
       "      <td>1145</td>\n",
       "      <td>1145</td>\n",
       "      <td>2198</td>\n",
       "      <td>TA</td>\n",
       "      <td>2000.0</td>\n",
       "      <td>192</td>\n",
       "      <td>250000</td>\n",
       "    </tr>\n",
       "  </tbody>\n",
       "</table>\n",
       "</div>"
      ],
      "text/plain": [
       "   LotFrontage  OverallQual  MasVnrArea BsmtQual  BsmtUnfSF  TotalBsmtSF  \\\n",
       "0         65.0            7       196.0       Gd        150          856   \n",
       "1         80.0            6         0.0       Gd        284         1262   \n",
       "2         68.0            7       162.0       Gd        434          920   \n",
       "3         60.0            7         0.0       TA        540          756   \n",
       "4         84.0            8       350.0       Gd        490         1145   \n",
       "\n",
       "   1stFlrSF  GrLivArea FireplaceQu  GarageYrBlt  WoodDeckSF  SalePrice  \n",
       "0       856       1710         NaN       2003.0           0     208500  \n",
       "1      1262       1262          TA       1976.0         298     181500  \n",
       "2       920       1786          TA       2001.0           0     223500  \n",
       "3       961       1717          Gd       1998.0           0     140000  \n",
       "4      1145       2198          TA       2000.0         192     250000  "
      ]
     },
     "execution_count": 149,
     "metadata": {},
     "output_type": "execute_result"
    }
   ],
   "source": [
    "df1.head()"
   ]
  },
  {
   "cell_type": "code",
   "execution_count": 150,
   "id": "22c910f7",
   "metadata": {},
   "outputs": [
    {
     "name": "stdout",
     "output_type": "stream",
     "text": [
      "<class 'pandas.core.frame.DataFrame'>\n",
      "RangeIndex: 1460 entries, 0 to 1459\n",
      "Data columns (total 12 columns):\n",
      " #   Column       Non-Null Count  Dtype  \n",
      "---  ------       --------------  -----  \n",
      " 0   LotFrontage  1201 non-null   float64\n",
      " 1   OverallQual  1460 non-null   int64  \n",
      " 2   MasVnrArea   1452 non-null   float64\n",
      " 3   BsmtQual     1423 non-null   object \n",
      " 4   BsmtUnfSF    1460 non-null   int64  \n",
      " 5   TotalBsmtSF  1460 non-null   int64  \n",
      " 6   1stFlrSF     1460 non-null   int64  \n",
      " 7   GrLivArea    1460 non-null   int64  \n",
      " 8   FireplaceQu  770 non-null    object \n",
      " 9   GarageYrBlt  1379 non-null   float64\n",
      " 10  WoodDeckSF   1460 non-null   int64  \n",
      " 11  SalePrice    1460 non-null   int64  \n",
      "dtypes: float64(3), int64(7), object(2)\n",
      "memory usage: 137.0+ KB\n"
     ]
    }
   ],
   "source": [
    "df1.info()"
   ]
  },
  {
   "cell_type": "code",
   "execution_count": 180,
   "id": "3eebc6fb",
   "metadata": {},
   "outputs": [],
   "source": [
    "x_train,x_test,y_train,y_test=train_test_split(df1.drop(\"SalePrice\",axis=1),df1[\"SalePrice\"],test_size=0.2)"
   ]
  },
  {
   "cell_type": "code",
   "execution_count": 156,
   "id": "9f43145a",
   "metadata": {},
   "outputs": [
    {
     "data": {
      "image/png": "[encoded data removed]",
      "text/plain": [
       "<Figure size 720x720 with 9 Axes>"
      ]
     },
     "metadata": {
      "needs_background": "light"
     },
     "output_type": "display_data"
    }
   ],
   "source": [
    "x_train.hist(figsize=(10,10))\n",
    "plt.show()"
   ]
  },
  {
   "cell_type": "code",
   "execution_count": 153,
   "id": "d12026b5",
   "metadata": {},
   "outputs": [
    {
     "data": {
      "text/plain": [
       "139.66471687319444"
      ]
     },
     "execution_count": 153,
     "metadata": {},
     "output_type": "execute_result"
    }
   ],
   "source": [
    "#if LotFrontage was normally distributed , then do this . here it is not so lets do replace with fence as seen in next cell\n",
    "x_train[\"LotFrontage\"].mean()+(3*x_train[\"LotFrontage\"].std())"
   ]
  },
  {
   "cell_type": "code",
   "execution_count": 159,
   "id": "ff28e142",
   "metadata": {},
   "outputs": [
    {
     "data": {
      "text/plain": [
       "21.0"
      ]
     },
     "execution_count": 159,
     "metadata": {},
     "output_type": "execute_result"
    }
   ],
   "source": [
    "iqr=x_train[\"LotFrontage\"].quantile(0.75)-x_train[\"LotFrontage\"].quantile(0.25)\n",
    "iqr"
   ]
  },
  {
   "cell_type": "code",
   "execution_count": 160,
   "id": "598d2a46",
   "metadata": {},
   "outputs": [
    {
     "data": {
      "text/plain": [
       "111.5"
      ]
     },
     "execution_count": 160,
     "metadata": {},
     "output_type": "execute_result"
    }
   ],
   "source": [
    "uf=x_train[\"LotFrontage\"].quantile(0.75)+1.5*iqr\n",
    "uf"
   ]
  },
  {
   "cell_type": "code",
   "execution_count": 181,
   "id": "14d702f1",
   "metadata": {},
   "outputs": [],
   "source": [
    "#just for visualization\n",
    "x_train[\"LotFrontage_before\"]=x_train[\"LotFrontage\"].copy()"
   ]
  },
  {
   "cell_type": "code",
   "execution_count": 186,
   "id": "6f35ba71",
   "metadata": {},
   "outputs": [],
   "source": [
    "x_train[\"LotFrontage\"].fillna(uf,inplace=True)"
   ]
  },
  {
   "cell_type": "code",
   "execution_count": 183,
   "id": "2b1e5d8c",
   "metadata": {},
   "outputs": [],
   "source": [
    "x_test[\"LotFrontage\"].fillna(uf,inplace=True)"
   ]
  },
  {
   "cell_type": "code",
   "execution_count": 184,
   "id": "5b4a7679",
   "metadata": {},
   "outputs": [],
   "source": [
    "#do same for remaining numerical variables"
   ]
  },
  {
   "cell_type": "code",
   "execution_count": 187,
   "id": "41e2519e",
   "metadata": {},
   "outputs": [
    {
     "data": {
      "text/plain": [
       "<matplotlib.legend.Legend at 0x2348f528df0>"
      ]
     },
     "execution_count": 187,
     "metadata": {},
     "output_type": "execute_result"
    },
    {
     "data": {
      "image/png": "[encoded data removed]",
      "text/plain": [
       "<Figure size 720x288 with 1 Axes>"
      ]
     },
     "metadata": {
      "needs_background": "light"
     },
     "output_type": "display_data"
    }
   ],
   "source": [
    "#training data before and after imputation for LotFrontage variable\n",
    "plt.figure(figsize=(10,4))\n",
    "x_train[\"LotFrontage_before\"].plot(kind='kde')\n",
    "x_train[\"LotFrontage\"].plot(kind='kde')\n",
    "plt.legend()"
   ]
  },
  {
   "cell_type": "markdown",
   "id": "a3fe8bab",
   "metadata": {},
   "source": [
    "## 5. Random Sample Imputation"
   ]
  },
  {
   "cell_type": "code",
   "execution_count": 188,
   "id": "dbc27b57",
   "metadata": {},
   "outputs": [],
   "source": [
    "#assumption is data is missing at random\n",
    "#it preserves the variance\n",
    "#memory heavy for deployment since training data needs to be stored"
   ]
  },
  {
   "cell_type": "code",
   "execution_count": 257,
   "id": "bfbdffd5",
   "metadata": {},
   "outputs": [
    {
     "data": {
      "text/html": [
       "<div>\n",
       "<style scoped>\n",
       "    .dataframe tbody tr th:only-of-type {\n",
       "        vertical-align: middle;\n",
       "    }\n",
       "\n",
       "    .dataframe tbody tr th {\n",
       "        vertical-align: top;\n",
       "    }\n",
       "\n",
       "    .dataframe thead th {\n",
       "        text-align: right;\n",
       "    }\n",
       "</style>\n",
       "<table border=\"1\" class=\"dataframe\">\n",
       "  <thead>\n",
       "    <tr style=\"text-align: right;\">\n",
       "      <th></th>\n",
       "      <th>LotFrontage</th>\n",
       "      <th>OverallQual</th>\n",
       "      <th>MasVnrArea</th>\n",
       "      <th>BsmtQual</th>\n",
       "      <th>BsmtUnfSF</th>\n",
       "      <th>TotalBsmtSF</th>\n",
       "      <th>1stFlrSF</th>\n",
       "      <th>GrLivArea</th>\n",
       "      <th>FireplaceQu</th>\n",
       "      <th>GarageYrBlt</th>\n",
       "      <th>WoodDeckSF</th>\n",
       "      <th>SalePrice</th>\n",
       "    </tr>\n",
       "  </thead>\n",
       "  <tbody>\n",
       "    <tr>\n",
       "      <th>0</th>\n",
       "      <td>65.0</td>\n",
       "      <td>7</td>\n",
       "      <td>196.0</td>\n",
       "      <td>Gd</td>\n",
       "      <td>150</td>\n",
       "      <td>856</td>\n",
       "      <td>856</td>\n",
       "      <td>1710</td>\n",
       "      <td>NaN</td>\n",
       "      <td>2003.0</td>\n",
       "      <td>0</td>\n",
       "      <td>208500</td>\n",
       "    </tr>\n",
       "    <tr>\n",
       "      <th>1</th>\n",
       "      <td>80.0</td>\n",
       "      <td>6</td>\n",
       "      <td>0.0</td>\n",
       "      <td>Gd</td>\n",
       "      <td>284</td>\n",
       "      <td>1262</td>\n",
       "      <td>1262</td>\n",
       "      <td>1262</td>\n",
       "      <td>TA</td>\n",
       "      <td>1976.0</td>\n",
       "      <td>298</td>\n",
       "      <td>181500</td>\n",
       "    </tr>\n",
       "    <tr>\n",
       "      <th>2</th>\n",
       "      <td>68.0</td>\n",
       "      <td>7</td>\n",
       "      <td>162.0</td>\n",
       "      <td>Gd</td>\n",
       "      <td>434</td>\n",
       "      <td>920</td>\n",
       "      <td>920</td>\n",
       "      <td>1786</td>\n",
       "      <td>TA</td>\n",
       "      <td>2001.0</td>\n",
       "      <td>0</td>\n",
       "      <td>223500</td>\n",
       "    </tr>\n",
       "    <tr>\n",
       "      <th>3</th>\n",
       "      <td>60.0</td>\n",
       "      <td>7</td>\n",
       "      <td>0.0</td>\n",
       "      <td>TA</td>\n",
       "      <td>540</td>\n",
       "      <td>756</td>\n",
       "      <td>961</td>\n",
       "      <td>1717</td>\n",
       "      <td>Gd</td>\n",
       "      <td>1998.0</td>\n",
       "      <td>0</td>\n",
       "      <td>140000</td>\n",
       "    </tr>\n",
       "    <tr>\n",
       "      <th>4</th>\n",
       "      <td>84.0</td>\n",
       "      <td>8</td>\n",
       "      <td>350.0</td>\n",
       "      <td>Gd</td>\n",
       "      <td>490</td>\n",
       "      <td>1145</td>\n",
       "      <td>1145</td>\n",
       "      <td>2198</td>\n",
       "      <td>TA</td>\n",
       "      <td>2000.0</td>\n",
       "      <td>192</td>\n",
       "      <td>250000</td>\n",
       "    </tr>\n",
       "  </tbody>\n",
       "</table>\n",
       "</div>"
      ],
      "text/plain": [
       "   LotFrontage  OverallQual  MasVnrArea BsmtQual  BsmtUnfSF  TotalBsmtSF  \\\n",
       "0         65.0            7       196.0       Gd        150          856   \n",
       "1         80.0            6         0.0       Gd        284         1262   \n",
       "2         68.0            7       162.0       Gd        434          920   \n",
       "3         60.0            7         0.0       TA        540          756   \n",
       "4         84.0            8       350.0       Gd        490         1145   \n",
       "\n",
       "   1stFlrSF  GrLivArea FireplaceQu  GarageYrBlt  WoodDeckSF  SalePrice  \n",
       "0       856       1710         NaN       2003.0           0     208500  \n",
       "1      1262       1262          TA       1976.0         298     181500  \n",
       "2       920       1786          TA       2001.0           0     223500  \n",
       "3       961       1717          Gd       1998.0           0     140000  \n",
       "4      1145       2198          TA       2000.0         192     250000  "
      ]
     },
     "execution_count": 257,
     "metadata": {},
     "output_type": "execute_result"
    }
   ],
   "source": [
    "df1.head()"
   ]
  },
  {
   "cell_type": "code",
   "execution_count": 271,
   "id": "6b7c5556",
   "metadata": {},
   "outputs": [],
   "source": [
    "x_train,x_test,y_train,y_test=train_test_split(df1.drop(\"SalePrice\",axis=1),df1[\"SalePrice\"],test_size=0.2)"
   ]
  },
  {
   "cell_type": "code",
   "execution_count": 272,
   "id": "d7f4b870",
   "metadata": {},
   "outputs": [],
   "source": [
    "x_train_before=x_train.copy()"
   ]
  },
  {
   "cell_type": "code",
   "execution_count": 259,
   "id": "59bc47e6",
   "metadata": {},
   "outputs": [
    {
     "data": {
      "text/plain": [
       "LotFrontage    207\n",
       "OverallQual      0\n",
       "MasVnrArea       6\n",
       "BsmtQual        33\n",
       "BsmtUnfSF        0\n",
       "TotalBsmtSF      0\n",
       "1stFlrSF         0\n",
       "GrLivArea        0\n",
       "FireplaceQu    541\n",
       "GarageYrBlt     67\n",
       "WoodDeckSF       0\n",
       "dtype: int64"
      ]
     },
     "execution_count": 259,
     "metadata": {},
     "output_type": "execute_result"
    }
   ],
   "source": [
    "x_train.isnull().sum()"
   ]
  },
  {
   "cell_type": "code",
   "execution_count": 273,
   "id": "54592a86",
   "metadata": {},
   "outputs": [
    {
     "data": {
      "text/plain": [
       "['LotFrontage', 'MasVnrArea', 'BsmtQual', 'FireplaceQu', 'GarageYrBlt']"
      ]
     },
     "execution_count": 273,
     "metadata": {},
     "output_type": "execute_result"
    }
   ],
   "source": [
    "#select columns which has null values\n",
    "c=[i for i in df.columns if df[i].isnull().sum()>0]\n",
    "c"
   ]
  },
  {
   "cell_type": "code",
   "execution_count": 274,
   "id": "e584a12b",
   "metadata": {},
   "outputs": [],
   "source": [
    "for i in c:\n",
    "    n=x_train[i].isnull().sum()  #number of null in that column n\n",
    "    n2=x_test[i].isnull().sum()  #for test data\n",
    "    \n",
    "    s1=x_train[i].dropna().sample(n,random_state=1)   #take  n samples from train data for train data\n",
    "    s2=x_train[i].dropna().sample(n2,random_state=1)   #take n2 samples from train data for imputing test data\n",
    "    \n",
    "    s1.index=x_train[x_train[i].isnull()].index    #change the index of the samples to index of the missing data\n",
    "    s2.index=x_test[x_test[i].isnull()].index\n",
    "    \n",
    "    x_train.loc[x_train[i].isnull(),i]=s1     #replace\n",
    "    x_test.loc[x_test[i].isnull(),i]=s2"
   ]
  },
  {
   "cell_type": "code",
   "execution_count": 275,
   "id": "4a1da8ee",
   "metadata": {
    "scrolled": true
   },
   "outputs": [
    {
     "data": {
      "text/plain": [
       "(LotFrontage    0\n",
       " OverallQual    0\n",
       " MasVnrArea     0\n",
       " BsmtQual       0\n",
       " BsmtUnfSF      0\n",
       " TotalBsmtSF    0\n",
       " 1stFlrSF       0\n",
       " GrLivArea      0\n",
       " FireplaceQu    0\n",
       " GarageYrBlt    0\n",
       " WoodDeckSF     0\n",
       " dtype: int64,\n",
       " LotFrontage    0\n",
       " OverallQual    0\n",
       " MasVnrArea     0\n",
       " BsmtQual       0\n",
       " BsmtUnfSF      0\n",
       " TotalBsmtSF    0\n",
       " 1stFlrSF       0\n",
       " GrLivArea      0\n",
       " FireplaceQu    0\n",
       " GarageYrBlt    0\n",
       " WoodDeckSF     0\n",
       " dtype: int64)"
      ]
     },
     "execution_count": 275,
     "metadata": {},
     "output_type": "execute_result"
    }
   ],
   "source": [
    "x_train.isnull().sum(),x_test.isnull().sum()"
   ]
  },
  {
   "cell_type": "code",
   "execution_count": 283,
   "id": "77312509",
   "metadata": {},
   "outputs": [
    {
     "data": {
      "text/plain": [
       "<matplotlib.legend.Legend at 0x234960c7250>"
      ]
     },
     "execution_count": 283,
     "metadata": {},
     "output_type": "execute_result"
    },
    {
     "data": {
      "image/png": "[encoded data removed]",
      "text/plain": [
       "<Figure size 720x288 with 1 Axes>"
      ]
     },
     "metadata": {
      "needs_background": "light"
     },
     "output_type": "display_data"
    }
   ],
   "source": [
    "#here both have same distribution\n",
    "plt.figure(figsize=(10,4))\n",
    "x_train[\"LotFrontage\"].plot(kind=\"kde\")\n",
    "x_train_before[\"LotFrontage\"].plot(kind=\"kde\")\n",
    "plt.legend()"
   ]
  },
  {
   "cell_type": "markdown",
   "id": "998bbd0b",
   "metadata": {},
   "source": [
    "## 6. Mean/Median by group"
   ]
  },
  {
   "cell_type": "code",
   "execution_count": 345,
   "id": "88d3793f",
   "metadata": {},
   "outputs": [],
   "source": [
    "#only for numericals"
   ]
  },
  {
   "cell_type": "code",
   "execution_count": 346,
   "id": "9a33c114",
   "metadata": {},
   "outputs": [],
   "source": [
    "cols_to_use = [\n",
    "    \"LotShape\",\n",
    "    \"OverallQual\",\n",
    "    \"TotalBsmtSF\",\n",
    "    \"LotFrontage\",\n",
    "    \"MasVnrArea\",\n",
    "    \"GarageYrBlt\",\n",
    "    \"SalePrice\",\n",
    "]"
   ]
  },
  {
   "cell_type": "code",
   "execution_count": 347,
   "id": "f8f0178e",
   "metadata": {},
   "outputs": [
    {
     "data": {
      "text/html": [
       "<div>\n",
       "<style scoped>\n",
       "    .dataframe tbody tr th:only-of-type {\n",
       "        vertical-align: middle;\n",
       "    }\n",
       "\n",
       "    .dataframe tbody tr th {\n",
       "        vertical-align: top;\n",
       "    }\n",
       "\n",
       "    .dataframe thead th {\n",
       "        text-align: right;\n",
       "    }\n",
       "</style>\n",
       "<table border=\"1\" class=\"dataframe\">\n",
       "  <thead>\n",
       "    <tr style=\"text-align: right;\">\n",
       "      <th></th>\n",
       "      <th>LotFrontage</th>\n",
       "      <th>LotShape</th>\n",
       "      <th>OverallQual</th>\n",
       "      <th>MasVnrArea</th>\n",
       "      <th>TotalBsmtSF</th>\n",
       "      <th>GarageYrBlt</th>\n",
       "      <th>SalePrice</th>\n",
       "    </tr>\n",
       "  </thead>\n",
       "  <tbody>\n",
       "    <tr>\n",
       "      <th>0</th>\n",
       "      <td>65.0</td>\n",
       "      <td>Reg</td>\n",
       "      <td>7</td>\n",
       "      <td>196.0</td>\n",
       "      <td>856</td>\n",
       "      <td>2003.0</td>\n",
       "      <td>208500</td>\n",
       "    </tr>\n",
       "    <tr>\n",
       "      <th>1</th>\n",
       "      <td>80.0</td>\n",
       "      <td>Reg</td>\n",
       "      <td>6</td>\n",
       "      <td>0.0</td>\n",
       "      <td>1262</td>\n",
       "      <td>1976.0</td>\n",
       "      <td>181500</td>\n",
       "    </tr>\n",
       "    <tr>\n",
       "      <th>2</th>\n",
       "      <td>68.0</td>\n",
       "      <td>IR1</td>\n",
       "      <td>7</td>\n",
       "      <td>162.0</td>\n",
       "      <td>920</td>\n",
       "      <td>2001.0</td>\n",
       "      <td>223500</td>\n",
       "    </tr>\n",
       "    <tr>\n",
       "      <th>3</th>\n",
       "      <td>60.0</td>\n",
       "      <td>IR1</td>\n",
       "      <td>7</td>\n",
       "      <td>0.0</td>\n",
       "      <td>756</td>\n",
       "      <td>1998.0</td>\n",
       "      <td>140000</td>\n",
       "    </tr>\n",
       "    <tr>\n",
       "      <th>4</th>\n",
       "      <td>84.0</td>\n",
       "      <td>IR1</td>\n",
       "      <td>8</td>\n",
       "      <td>350.0</td>\n",
       "      <td>1145</td>\n",
       "      <td>2000.0</td>\n",
       "      <td>250000</td>\n",
       "    </tr>\n",
       "  </tbody>\n",
       "</table>\n",
       "</div>"
      ],
      "text/plain": [
       "   LotFrontage LotShape  OverallQual  MasVnrArea  TotalBsmtSF  GarageYrBlt  \\\n",
       "0         65.0      Reg            7       196.0          856       2003.0   \n",
       "1         80.0      Reg            6         0.0         1262       1976.0   \n",
       "2         68.0      IR1            7       162.0          920       2001.0   \n",
       "3         60.0      IR1            7         0.0          756       1998.0   \n",
       "4         84.0      IR1            8       350.0         1145       2000.0   \n",
       "\n",
       "   SalePrice  \n",
       "0     208500  \n",
       "1     181500  \n",
       "2     223500  \n",
       "3     140000  \n",
       "4     250000  "
      ]
     },
     "execution_count": 347,
     "metadata": {},
     "output_type": "execute_result"
    }
   ],
   "source": [
    "df=pd.read_csv(\"train (1).csv\",usecols=cols_to_use)\n",
    "df.head()"
   ]
  },
  {
   "cell_type": "code",
   "execution_count": 348,
   "id": "c1391998",
   "metadata": {},
   "outputs": [],
   "source": [
    "x_train,x_test,y_train,y_test=train_test_split(df.drop(\"SalePrice\",axis=1),df[\"SalePrice\"],test_size=0.2,random_state=1)"
   ]
  },
  {
   "cell_type": "code",
   "execution_count": 349,
   "id": "fff91fa7",
   "metadata": {},
   "outputs": [
    {
     "data": {
      "text/plain": [
       "LotFrontage    259\n",
       "LotShape         0\n",
       "OverallQual      0\n",
       "MasVnrArea       8\n",
       "TotalBsmtSF      0\n",
       "GarageYrBlt     81\n",
       "SalePrice        0\n",
       "dtype: int64"
      ]
     },
     "execution_count": 349,
     "metadata": {},
     "output_type": "execute_result"
    }
   ],
   "source": [
    "df.isnull().sum()"
   ]
  },
  {
   "cell_type": "code",
   "execution_count": 350,
   "id": "0b3522ec",
   "metadata": {},
   "outputs": [],
   "source": [
    "l=[\"LotFrontage\",\"MasVnrArea\",\"GarageYrBlt\"]"
   ]
  },
  {
   "cell_type": "code",
   "execution_count": 351,
   "id": "cd643d5e",
   "metadata": {},
   "outputs": [
    {
     "data": {
      "text/plain": [
       "array(['Reg', 'IR1', 'IR2', 'IR3'], dtype=object)"
      ]
     },
     "execution_count": 351,
     "metadata": {},
     "output_type": "execute_result"
    }
   ],
   "source": [
    "g=df[\"LotShape\"].unique()\n",
    "g"
   ]
  },
  {
   "cell_type": "code",
   "execution_count": 352,
   "id": "ede81b83",
   "metadata": {},
   "outputs": [],
   "source": [
    "d={}\n",
    "for i in g:\n",
    "    d[i]=x_train[x_train[\"LotShape\"]==i][l].mean().to_dict()"
   ]
  },
  {
   "cell_type": "code",
   "execution_count": 353,
   "id": "e5dc81e7",
   "metadata": {},
   "outputs": [
    {
     "data": {
      "text/plain": [
       "{'Reg': {'LotFrontage': 67.32934131736526,\n",
       "  'MasVnrArea': 87.86407766990291,\n",
       "  'GarageYrBlt': 1974.8067846607669},\n",
       " 'IR1': {'LotFrontage': 74.69581749049429,\n",
       "  'MasVnrArea': 132.2110552763819,\n",
       "  'GarageYrBlt': 1984.3118556701031},\n",
       " 'IR2': {'LotFrontage': 79.91304347826087,\n",
       "  'MasVnrArea': 147.88571428571427,\n",
       "  'GarageYrBlt': 1989.142857142857},\n",
       " 'IR3': {'LotFrontage': 174.6,\n",
       "  'MasVnrArea': 132.66666666666666,\n",
       "  'GarageYrBlt': 1997.6666666666667}}"
      ]
     },
     "execution_count": 353,
     "metadata": {},
     "output_type": "execute_result"
    }
   ],
   "source": [
    "d"
   ]
  },
  {
   "cell_type": "code",
   "execution_count": 358,
   "id": "a2513372",
   "metadata": {},
   "outputs": [],
   "source": [
    "for i in d.keys():\n",
    "    x_train[x_train[\"LotShape\"]==i] = x_train[x_train[\"LotShape\"]==i].fillna(d[i])\n",
    "    x_test[x_test[\"LotShape\"]==i] = x_test[x_test[\"LotShape\"]==i].fillna(d[i])"
   ]
  },
  {
   "cell_type": "code",
   "execution_count": 359,
   "id": "e1dec4e7",
   "metadata": {},
   "outputs": [
    {
     "data": {
      "text/plain": [
       "LotFrontage    0\n",
       "LotShape       0\n",
       "OverallQual    0\n",
       "MasVnrArea     0\n",
       "TotalBsmtSF    0\n",
       "GarageYrBlt    0\n",
       "dtype: int64"
      ]
     },
     "execution_count": 359,
     "metadata": {},
     "output_type": "execute_result"
    }
   ],
   "source": [
    "x_train.isnull().sum()"
   ]
  },
  {
   "cell_type": "markdown",
   "id": "ad00613e",
   "metadata": {},
   "source": [
    "## 7. KNN Imputation"
   ]
  },
  {
   "cell_type": "code",
   "execution_count": 453,
   "id": "4e24736e",
   "metadata": {},
   "outputs": [],
   "source": [
    "#this is a multivariate method\n",
    "#this works only for numerical variable since it takes average. if we label encode categorical and then pass if it takes average of n neighbours that doesnt make any sense"
   ]
  },
  {
   "cell_type": "code",
   "execution_count": 454,
   "id": "64f77b02",
   "metadata": {},
   "outputs": [
    {
     "data": {
      "text/html": [
       "<div>\n",
       "<style scoped>\n",
       "    .dataframe tbody tr th:only-of-type {\n",
       "        vertical-align: middle;\n",
       "    }\n",
       "\n",
       "    .dataframe tbody tr th {\n",
       "        vertical-align: top;\n",
       "    }\n",
       "\n",
       "    .dataframe thead th {\n",
       "        text-align: right;\n",
       "    }\n",
       "</style>\n",
       "<table border=\"1\" class=\"dataframe\">\n",
       "  <thead>\n",
       "    <tr style=\"text-align: right;\">\n",
       "      <th></th>\n",
       "      <th>LotFrontage</th>\n",
       "      <th>LotShape</th>\n",
       "      <th>OverallQual</th>\n",
       "      <th>MasVnrArea</th>\n",
       "      <th>TotalBsmtSF</th>\n",
       "      <th>GarageYrBlt</th>\n",
       "      <th>SalePrice</th>\n",
       "    </tr>\n",
       "  </thead>\n",
       "  <tbody>\n",
       "    <tr>\n",
       "      <th>0</th>\n",
       "      <td>65.0</td>\n",
       "      <td>Reg</td>\n",
       "      <td>7</td>\n",
       "      <td>196.0</td>\n",
       "      <td>856</td>\n",
       "      <td>2003.0</td>\n",
       "      <td>208500</td>\n",
       "    </tr>\n",
       "    <tr>\n",
       "      <th>1</th>\n",
       "      <td>80.0</td>\n",
       "      <td>Reg</td>\n",
       "      <td>6</td>\n",
       "      <td>0.0</td>\n",
       "      <td>1262</td>\n",
       "      <td>1976.0</td>\n",
       "      <td>181500</td>\n",
       "    </tr>\n",
       "    <tr>\n",
       "      <th>2</th>\n",
       "      <td>68.0</td>\n",
       "      <td>IR1</td>\n",
       "      <td>7</td>\n",
       "      <td>162.0</td>\n",
       "      <td>920</td>\n",
       "      <td>2001.0</td>\n",
       "      <td>223500</td>\n",
       "    </tr>\n",
       "    <tr>\n",
       "      <th>3</th>\n",
       "      <td>60.0</td>\n",
       "      <td>IR1</td>\n",
       "      <td>7</td>\n",
       "      <td>0.0</td>\n",
       "      <td>756</td>\n",
       "      <td>1998.0</td>\n",
       "      <td>140000</td>\n",
       "    </tr>\n",
       "    <tr>\n",
       "      <th>4</th>\n",
       "      <td>84.0</td>\n",
       "      <td>IR1</td>\n",
       "      <td>8</td>\n",
       "      <td>350.0</td>\n",
       "      <td>1145</td>\n",
       "      <td>2000.0</td>\n",
       "      <td>250000</td>\n",
       "    </tr>\n",
       "  </tbody>\n",
       "</table>\n",
       "</div>"
      ],
      "text/plain": [
       "   LotFrontage LotShape  OverallQual  MasVnrArea  TotalBsmtSF  GarageYrBlt  \\\n",
       "0         65.0      Reg            7       196.0          856       2003.0   \n",
       "1         80.0      Reg            6         0.0         1262       1976.0   \n",
       "2         68.0      IR1            7       162.0          920       2001.0   \n",
       "3         60.0      IR1            7         0.0          756       1998.0   \n",
       "4         84.0      IR1            8       350.0         1145       2000.0   \n",
       "\n",
       "   SalePrice  \n",
       "0     208500  \n",
       "1     181500  \n",
       "2     223500  \n",
       "3     140000  \n",
       "4     250000  "
      ]
     },
     "execution_count": 454,
     "metadata": {},
     "output_type": "execute_result"
    }
   ],
   "source": [
    "df=pd.read_csv(\"train (1).csv\",usecols=cols_to_use)\n",
    "df.head()"
   ]
  },
  {
   "cell_type": "code",
   "execution_count": 455,
   "id": "3cc3cb87",
   "metadata": {},
   "outputs": [],
   "source": [
    "from sklearn.impute import KNNImputer"
   ]
  },
  {
   "cell_type": "code",
   "execution_count": 456,
   "id": "45720afb",
   "metadata": {},
   "outputs": [],
   "source": [
    "x_train,x_test,y_train,y_test=train_test_split(df.drop(\"SalePrice\",axis=1),df[\"SalePrice\"],test_size=0.2)"
   ]
  },
  {
   "cell_type": "code",
   "execution_count": 457,
   "id": "95bf605f",
   "metadata": {},
   "outputs": [
    {
     "data": {
      "text/plain": [
       "LotFrontage    199\n",
       "LotShape         0\n",
       "OverallQual      0\n",
       "MasVnrArea       8\n",
       "TotalBsmtSF      0\n",
       "GarageYrBlt     63\n",
       "dtype: int64"
      ]
     },
     "execution_count": 457,
     "metadata": {},
     "output_type": "execute_result"
    }
   ],
   "source": [
    "x_train.isnull().sum()"
   ]
  },
  {
   "cell_type": "code",
   "execution_count": 458,
   "id": "ba9ce95f",
   "metadata": {},
   "outputs": [],
   "source": [
    "imputer=KNNImputer()"
   ]
  },
  {
   "cell_type": "code",
   "execution_count": 459,
   "id": "55d1f109",
   "metadata": {},
   "outputs": [],
   "source": [
    "x1=x_train.select_dtypes(exclude=\"object\")\n",
    "x2=x_test.select_dtypes(exclude=\"object\")"
   ]
  },
  {
   "cell_type": "code",
   "execution_count": 460,
   "id": "f1ca9b07",
   "metadata": {},
   "outputs": [],
   "source": [
    "x1=pd.DataFrame(imputer.fit_transform(x1),columns=x1.columns)\n",
    "x2=pd.DataFrame(imputer.transform(x2),columns=x2.columns)"
   ]
  },
  {
   "cell_type": "code",
   "execution_count": 461,
   "id": "a78cf35c",
   "metadata": {},
   "outputs": [],
   "source": [
    "x_train=x_train.reset_index()\n",
    "x_test=x_test.reset_index()"
   ]
  },
  {
   "cell_type": "code",
   "execution_count": 462,
   "id": "2607ac8c",
   "metadata": {},
   "outputs": [],
   "source": [
    "x_train=pd.concat([x1,x_train[\"LotShape\"]],axis=1)\n",
    "x_test=pd.concat([x2,x_test[\"LotShape\"]],axis=1)"
   ]
  },
  {
   "cell_type": "code",
   "execution_count": 463,
   "id": "15d39e9d",
   "metadata": {},
   "outputs": [
    {
     "data": {
      "text/plain": [
       "LotFrontage    0\n",
       "OverallQual    0\n",
       "MasVnrArea     0\n",
       "TotalBsmtSF    0\n",
       "GarageYrBlt    0\n",
       "LotShape       0\n",
       "dtype: int64"
      ]
     },
     "execution_count": 463,
     "metadata": {},
     "output_type": "execute_result"
    }
   ],
   "source": [
    "x_train.isnull().sum()"
   ]
  },
  {
   "cell_type": "markdown",
   "id": "7fb95fc5",
   "metadata": {},
   "source": [
    "## 8. MICE"
   ]
  },
  {
   "cell_type": "code",
   "execution_count": 464,
   "id": "809d750d",
   "metadata": {},
   "outputs": [],
   "source": [
    "#assumption is data is missing at random"
   ]
  },
  {
   "cell_type": "code",
   "execution_count": 468,
   "id": "a29fca90",
   "metadata": {},
   "outputs": [],
   "source": [
    "from sklearn.experimental import enable_iterative_imputer"
   ]
  },
  {
   "cell_type": "code",
   "execution_count": 469,
   "id": "d12686cf",
   "metadata": {},
   "outputs": [],
   "source": [
    "from sklearn.impute import IterativeImputer"
   ]
  },
  {
   "cell_type": "code",
   "execution_count": 500,
   "id": "2365d29a",
   "metadata": {},
   "outputs": [],
   "source": [
    "from sklearn.linear_model import LinearRegression,LogisticRegression"
   ]
  },
  {
   "cell_type": "code",
   "execution_count": 519,
   "id": "a0f10747",
   "metadata": {},
   "outputs": [],
   "source": [
    "from sklearn.preprocessing import OrdinalEncoder"
   ]
  },
  {
   "cell_type": "code",
   "execution_count": 475,
   "id": "c43227b4",
   "metadata": {},
   "outputs": [],
   "source": [
    "cols_to_use = [\n",
    "    \"GrLivArea\",\n",
    "    \"BsmtUnfSF\",\n",
    "    \"LotFrontage\",\n",
    "    \"GarageYrBlt\",\n",
    "    \"SalePrice\",\n",
    "    \"BsmtQual\", \n",
    "    \"FireplaceQu\"\n",
    "]"
   ]
  },
  {
   "cell_type": "code",
   "execution_count": 476,
   "id": "94d194a8",
   "metadata": {},
   "outputs": [
    {
     "data": {
      "text/html": [
       "<div>\n",
       "<style scoped>\n",
       "    .dataframe tbody tr th:only-of-type {\n",
       "        vertical-align: middle;\n",
       "    }\n",
       "\n",
       "    .dataframe tbody tr th {\n",
       "        vertical-align: top;\n",
       "    }\n",
       "\n",
       "    .dataframe thead th {\n",
       "        text-align: right;\n",
       "    }\n",
       "</style>\n",
       "<table border=\"1\" class=\"dataframe\">\n",
       "  <thead>\n",
       "    <tr style=\"text-align: right;\">\n",
       "      <th></th>\n",
       "      <th>LotFrontage</th>\n",
       "      <th>BsmtQual</th>\n",
       "      <th>BsmtUnfSF</th>\n",
       "      <th>GrLivArea</th>\n",
       "      <th>FireplaceQu</th>\n",
       "      <th>GarageYrBlt</th>\n",
       "      <th>SalePrice</th>\n",
       "    </tr>\n",
       "  </thead>\n",
       "  <tbody>\n",
       "    <tr>\n",
       "      <th>0</th>\n",
       "      <td>65.0</td>\n",
       "      <td>Gd</td>\n",
       "      <td>150</td>\n",
       "      <td>1710</td>\n",
       "      <td>NaN</td>\n",
       "      <td>2003.0</td>\n",
       "      <td>208500</td>\n",
       "    </tr>\n",
       "    <tr>\n",
       "      <th>1</th>\n",
       "      <td>80.0</td>\n",
       "      <td>Gd</td>\n",
       "      <td>284</td>\n",
       "      <td>1262</td>\n",
       "      <td>TA</td>\n",
       "      <td>1976.0</td>\n",
       "      <td>181500</td>\n",
       "    </tr>\n",
       "    <tr>\n",
       "      <th>2</th>\n",
       "      <td>68.0</td>\n",
       "      <td>Gd</td>\n",
       "      <td>434</td>\n",
       "      <td>1786</td>\n",
       "      <td>TA</td>\n",
       "      <td>2001.0</td>\n",
       "      <td>223500</td>\n",
       "    </tr>\n",
       "    <tr>\n",
       "      <th>3</th>\n",
       "      <td>60.0</td>\n",
       "      <td>TA</td>\n",
       "      <td>540</td>\n",
       "      <td>1717</td>\n",
       "      <td>Gd</td>\n",
       "      <td>1998.0</td>\n",
       "      <td>140000</td>\n",
       "    </tr>\n",
       "    <tr>\n",
       "      <th>4</th>\n",
       "      <td>84.0</td>\n",
       "      <td>Gd</td>\n",
       "      <td>490</td>\n",
       "      <td>2198</td>\n",
       "      <td>TA</td>\n",
       "      <td>2000.0</td>\n",
       "      <td>250000</td>\n",
       "    </tr>\n",
       "  </tbody>\n",
       "</table>\n",
       "</div>"
      ],
      "text/plain": [
       "   LotFrontage BsmtQual  BsmtUnfSF  GrLivArea FireplaceQu  GarageYrBlt  \\\n",
       "0         65.0       Gd        150       1710         NaN       2003.0   \n",
       "1         80.0       Gd        284       1262          TA       1976.0   \n",
       "2         68.0       Gd        434       1786          TA       2001.0   \n",
       "3         60.0       TA        540       1717          Gd       1998.0   \n",
       "4         84.0       Gd        490       2198          TA       2000.0   \n",
       "\n",
       "   SalePrice  \n",
       "0     208500  \n",
       "1     181500  \n",
       "2     223500  \n",
       "3     140000  \n",
       "4     250000  "
      ]
     },
     "execution_count": 476,
     "metadata": {},
     "output_type": "execute_result"
    }
   ],
   "source": [
    "df=pd.read_csv(\"train (1).csv\",usecols=cols_to_use)\n",
    "df.head()"
   ]
  },
  {
   "cell_type": "code",
   "execution_count": 480,
   "id": "76c13e32",
   "metadata": {},
   "outputs": [],
   "source": [
    "x_train,x_test,y_train,y_test=train_test_split(df.drop(\"SalePrice\",axis=1),df[\"SalePrice\"],test_size=0.2,random_state=1)"
   ]
  },
  {
   "cell_type": "code",
   "execution_count": 482,
   "id": "d2eca0c7",
   "metadata": {},
   "outputs": [
    {
     "data": {
      "text/plain": [
       "LotFrontage    209\n",
       "BsmtQual        30\n",
       "BsmtUnfSF        0\n",
       "GrLivArea        0\n",
       "FireplaceQu    548\n",
       "GarageYrBlt     61\n",
       "dtype: int64"
      ]
     },
     "execution_count": 482,
     "metadata": {},
     "output_type": "execute_result"
    }
   ],
   "source": [
    "x_train.isnull().sum()"
   ]
  },
  {
   "cell_type": "code",
   "execution_count": null,
   "id": "543ebd33",
   "metadata": {},
   "outputs": [],
   "source": [
    "#for numerical data:"
   ]
  },
  {
   "cell_type": "code",
   "execution_count": 485,
   "id": "fbeb856c",
   "metadata": {},
   "outputs": [],
   "source": [
    "imputer=IterativeImputer(estimator=LinearRegression(),initial_strategy=\"mean\",max_iter=10,random_state=10)"
   ]
  },
  {
   "cell_type": "code",
   "execution_count": 492,
   "id": "c1d42637",
   "metadata": {},
   "outputs": [],
   "source": [
    "n=x_train.select_dtypes(exclude=\"object\")"
   ]
  },
  {
   "cell_type": "code",
   "execution_count": 493,
   "id": "1a4ab0cf",
   "metadata": {},
   "outputs": [],
   "source": [
    "x_train1=pd.DataFrame(imputer.fit_transform(n),columns=n.columns)"
   ]
  },
  {
   "cell_type": "code",
   "execution_count": 498,
   "id": "105638c4",
   "metadata": {},
   "outputs": [
    {
     "data": {
      "text/plain": [
       "LotFrontage      60.0\n",
       "BsmtUnfSF       697.0\n",
       "GrLivArea       864.0\n",
       "GarageYrBlt    1957.0\n",
       "Name: 131, dtype: float64"
      ]
     },
     "execution_count": 498,
     "metadata": {},
     "output_type": "execute_result"
    }
   ],
   "source": [
    "x_train1.iloc[131]"
   ]
  },
  {
   "cell_type": "code",
   "execution_count": null,
   "id": "0f97f3ac",
   "metadata": {},
   "outputs": [],
   "source": [
    "#do same for test data but just transform"
   ]
  },
  {
   "cell_type": "code",
   "execution_count": null,
   "id": "8c1e1380",
   "metadata": {},
   "outputs": [],
   "source": [
    "#for categorical data:"
   ]
  },
  {
   "cell_type": "code",
   "execution_count": 520,
   "id": "9fa1df91",
   "metadata": {},
   "outputs": [],
   "source": [
    "m=x_train.select_dtypes(include=\"object\")"
   ]
  },
  {
   "cell_type": "code",
   "execution_count": 515,
   "id": "27d5a978",
   "metadata": {},
   "outputs": [],
   "source": [
    "imputer2=IterativeImputer(estimator=LogisticRegression(),initial_strategy=\"most_frequent\",max_iter=10,random_state=10)"
   ]
  },
  {
   "cell_type": "code",
   "execution_count": 524,
   "id": "c91ce25b",
   "metadata": {},
   "outputs": [],
   "source": [
    "m=pd.DataFrame(OrdinalEncoder().fit_transform(m),columns=m.columns)"
   ]
  },
  {
   "cell_type": "code",
   "execution_count": 527,
   "id": "a4a0971b",
   "metadata": {},
   "outputs": [
    {
     "data": {
      "text/plain": [
       "BsmtQual        30\n",
       "FireplaceQu    548\n",
       "dtype: int64"
      ]
     },
     "execution_count": 527,
     "metadata": {},
     "output_type": "execute_result"
    }
   ],
   "source": [
    "m.isnull().sum()"
   ]
  },
  {
   "cell_type": "code",
   "execution_count": 528,
   "id": "632bac0f",
   "metadata": {},
   "outputs": [],
   "source": [
    "x_train2=pd.DataFrame(imputer2.fit_transform(m),columns=m.columns)"
   ]
  },
  {
   "cell_type": "code",
   "execution_count": 529,
   "id": "314e08fc",
   "metadata": {},
   "outputs": [
    {
     "data": {
      "text/plain": [
       "BsmtQual       0\n",
       "FireplaceQu    0\n",
       "dtype: int64"
      ]
     },
     "execution_count": 529,
     "metadata": {},
     "output_type": "execute_result"
    }
   ],
   "source": [
    "x_train2.isnull().sum()"
   ]
  },
  {
   "cell_type": "markdown",
   "id": "b5607892",
   "metadata": {},
   "source": [
    "## Imputation methods using central tendency and arbitary values discussed in 1 and 2 using Sklearn simple imputer "
   ]
  },
  {
   "cell_type": "code",
   "execution_count": 531,
   "id": "68b271c8",
   "metadata": {},
   "outputs": [],
   "source": [
    "#using sklearn for this nstead of pandas fillna is better approach because it better suits in ml pipeline"
   ]
  },
  {
   "cell_type": "code",
   "execution_count": 534,
   "id": "26369722",
   "metadata": {},
   "outputs": [
    {
     "data": {
      "text/html": [
       "<div>\n",
       "<style scoped>\n",
       "    .dataframe tbody tr th:only-of-type {\n",
       "        vertical-align: middle;\n",
       "    }\n",
       "\n",
       "    .dataframe tbody tr th {\n",
       "        vertical-align: top;\n",
       "    }\n",
       "\n",
       "    .dataframe thead th {\n",
       "        text-align: right;\n",
       "    }\n",
       "</style>\n",
       "<table border=\"1\" class=\"dataframe\">\n",
       "  <thead>\n",
       "    <tr style=\"text-align: right;\">\n",
       "      <th></th>\n",
       "      <th>LotFrontage</th>\n",
       "      <th>BsmtQual</th>\n",
       "      <th>BsmtUnfSF</th>\n",
       "      <th>GrLivArea</th>\n",
       "      <th>FireplaceQu</th>\n",
       "      <th>GarageYrBlt</th>\n",
       "      <th>SalePrice</th>\n",
       "    </tr>\n",
       "  </thead>\n",
       "  <tbody>\n",
       "    <tr>\n",
       "      <th>0</th>\n",
       "      <td>65.0</td>\n",
       "      <td>Gd</td>\n",
       "      <td>150</td>\n",
       "      <td>1710</td>\n",
       "      <td>NaN</td>\n",
       "      <td>2003.0</td>\n",
       "      <td>208500</td>\n",
       "    </tr>\n",
       "    <tr>\n",
       "      <th>1</th>\n",
       "      <td>80.0</td>\n",
       "      <td>Gd</td>\n",
       "      <td>284</td>\n",
       "      <td>1262</td>\n",
       "      <td>TA</td>\n",
       "      <td>1976.0</td>\n",
       "      <td>181500</td>\n",
       "    </tr>\n",
       "    <tr>\n",
       "      <th>2</th>\n",
       "      <td>68.0</td>\n",
       "      <td>Gd</td>\n",
       "      <td>434</td>\n",
       "      <td>1786</td>\n",
       "      <td>TA</td>\n",
       "      <td>2001.0</td>\n",
       "      <td>223500</td>\n",
       "    </tr>\n",
       "    <tr>\n",
       "      <th>3</th>\n",
       "      <td>60.0</td>\n",
       "      <td>TA</td>\n",
       "      <td>540</td>\n",
       "      <td>1717</td>\n",
       "      <td>Gd</td>\n",
       "      <td>1998.0</td>\n",
       "      <td>140000</td>\n",
       "    </tr>\n",
       "    <tr>\n",
       "      <th>4</th>\n",
       "      <td>84.0</td>\n",
       "      <td>Gd</td>\n",
       "      <td>490</td>\n",
       "      <td>2198</td>\n",
       "      <td>TA</td>\n",
       "      <td>2000.0</td>\n",
       "      <td>250000</td>\n",
       "    </tr>\n",
       "  </tbody>\n",
       "</table>\n",
       "</div>"
      ],
      "text/plain": [
       "   LotFrontage BsmtQual  BsmtUnfSF  GrLivArea FireplaceQu  GarageYrBlt  \\\n",
       "0         65.0       Gd        150       1710         NaN       2003.0   \n",
       "1         80.0       Gd        284       1262          TA       1976.0   \n",
       "2         68.0       Gd        434       1786          TA       2001.0   \n",
       "3         60.0       TA        540       1717          Gd       1998.0   \n",
       "4         84.0       Gd        490       2198          TA       2000.0   \n",
       "\n",
       "   SalePrice  \n",
       "0     208500  \n",
       "1     181500  \n",
       "2     223500  \n",
       "3     140000  \n",
       "4     250000  "
      ]
     },
     "execution_count": 534,
     "metadata": {},
     "output_type": "execute_result"
    }
   ],
   "source": [
    "df=pd.read_csv(\"train (1).csv\",usecols=cols_to_use)\n",
    "df.head()"
   ]
  },
  {
   "cell_type": "code",
   "execution_count": 535,
   "id": "ce1e31ef",
   "metadata": {},
   "outputs": [
    {
     "data": {
      "text/plain": [
       "LotFrontage    259\n",
       "BsmtQual        37\n",
       "BsmtUnfSF        0\n",
       "GrLivArea        0\n",
       "FireplaceQu    690\n",
       "GarageYrBlt     81\n",
       "SalePrice        0\n",
       "dtype: int64"
      ]
     },
     "execution_count": 535,
     "metadata": {},
     "output_type": "execute_result"
    }
   ],
   "source": [
    "df.isnull().sum()"
   ]
  },
  {
   "cell_type": "code",
   "execution_count": 532,
   "id": "dfe07eb9",
   "metadata": {},
   "outputs": [],
   "source": [
    "from sklearn.impute import SimpleImputer"
   ]
  },
  {
   "cell_type": "code",
   "execution_count": 533,
   "id": "ea7ba4a2",
   "metadata": {},
   "outputs": [],
   "source": [
    "imputer=SimpleImputer(strategy=\"mean\")"
   ]
  },
  {
   "cell_type": "code",
   "execution_count": 539,
   "id": "2040a46f",
   "metadata": {},
   "outputs": [],
   "source": [
    "n=df.select_dtypes(exclude=\"object\")"
   ]
  },
  {
   "cell_type": "code",
   "execution_count": 542,
   "id": "deb48754",
   "metadata": {},
   "outputs": [],
   "source": [
    "x_train,x_test,y_train,y_test=train_test_split(n,df[\"SalePrice\"],test_size=0.2)"
   ]
  },
  {
   "cell_type": "code",
   "execution_count": 544,
   "id": "1b7dc3a0",
   "metadata": {},
   "outputs": [],
   "source": [
    "n=pd.DataFrame(imputer.fit_transform(x_train),columns=n.columns)"
   ]
  },
  {
   "cell_type": "code",
   "execution_count": 545,
   "id": "4a526b8e",
   "metadata": {},
   "outputs": [
    {
     "data": {
      "text/plain": [
       "LotFrontage    0\n",
       "BsmtUnfSF      0\n",
       "GrLivArea      0\n",
       "GarageYrBlt    0\n",
       "SalePrice      0\n",
       "dtype: int64"
      ]
     },
     "execution_count": 545,
     "metadata": {},
     "output_type": "execute_result"
    }
   ],
   "source": [
    "n.isnull().sum()"
   ]
  },
  {
   "cell_type": "code",
   "execution_count": null,
   "id": "91677c62",
   "metadata": {},
   "outputs": [],
   "source": [
    "#for test data just use transform"
   ]
  },
  {
   "cell_type": "code",
   "execution_count": 546,
   "id": "ffe8d4b0",
   "metadata": {},
   "outputs": [],
   "source": [
    "# for mode:apply strategy as most_frequent"
   ]
  },
  {
   "cell_type": "code",
   "execution_count": null,
   "id": "0491d8d7",
   "metadata": {},
   "outputs": [],
   "source": [
    "#for arbitary value:strategy=constant,fill_value=value . may be like 99,-1 etc and for categorical:\"missing\""
   ]
  },
  {
   "cell_type": "code",
   "execution_count": 547,
   "id": "869299f5",
   "metadata": {},
   "outputs": [],
   "source": [
    "#if i  need to separately do different  strategy for different columns, its lengthy, so use column transformer"
   ]
  },
  {
   "cell_type": "markdown",
   "id": "92db9b5f",
   "metadata": {},
   "source": [
    "## Adding Missing indicator to sklearn imputers"
   ]
  },
  {
   "cell_type": "code",
   "execution_count": 549,
   "id": "19cef3a9",
   "metadata": {},
   "outputs": [],
   "source": [
    "cols_to_use = [\n",
    "    \"GrLivArea\",\n",
    "    \"BsmtUnfSF\",\n",
    "    \"LotFrontage\",\n",
    "    \"GarageYrBlt\",\n",
    "    \"SalePrice\",\n",
    "]"
   ]
  },
  {
   "cell_type": "code",
   "execution_count": 550,
   "id": "8bc391b5",
   "metadata": {},
   "outputs": [
    {
     "data": {
      "text/html": [
       "<div>\n",
       "<style scoped>\n",
       "    .dataframe tbody tr th:only-of-type {\n",
       "        vertical-align: middle;\n",
       "    }\n",
       "\n",
       "    .dataframe tbody tr th {\n",
       "        vertical-align: top;\n",
       "    }\n",
       "\n",
       "    .dataframe thead th {\n",
       "        text-align: right;\n",
       "    }\n",
       "</style>\n",
       "<table border=\"1\" class=\"dataframe\">\n",
       "  <thead>\n",
       "    <tr style=\"text-align: right;\">\n",
       "      <th></th>\n",
       "      <th>LotFrontage</th>\n",
       "      <th>BsmtUnfSF</th>\n",
       "      <th>GrLivArea</th>\n",
       "      <th>GarageYrBlt</th>\n",
       "      <th>SalePrice</th>\n",
       "    </tr>\n",
       "  </thead>\n",
       "  <tbody>\n",
       "    <tr>\n",
       "      <th>0</th>\n",
       "      <td>65.0</td>\n",
       "      <td>150</td>\n",
       "      <td>1710</td>\n",
       "      <td>2003.0</td>\n",
       "      <td>208500</td>\n",
       "    </tr>\n",
       "    <tr>\n",
       "      <th>1</th>\n",
       "      <td>80.0</td>\n",
       "      <td>284</td>\n",
       "      <td>1262</td>\n",
       "      <td>1976.0</td>\n",
       "      <td>181500</td>\n",
       "    </tr>\n",
       "    <tr>\n",
       "      <th>2</th>\n",
       "      <td>68.0</td>\n",
       "      <td>434</td>\n",
       "      <td>1786</td>\n",
       "      <td>2001.0</td>\n",
       "      <td>223500</td>\n",
       "    </tr>\n",
       "    <tr>\n",
       "      <th>3</th>\n",
       "      <td>60.0</td>\n",
       "      <td>540</td>\n",
       "      <td>1717</td>\n",
       "      <td>1998.0</td>\n",
       "      <td>140000</td>\n",
       "    </tr>\n",
       "    <tr>\n",
       "      <th>4</th>\n",
       "      <td>84.0</td>\n",
       "      <td>490</td>\n",
       "      <td>2198</td>\n",
       "      <td>2000.0</td>\n",
       "      <td>250000</td>\n",
       "    </tr>\n",
       "  </tbody>\n",
       "</table>\n",
       "</div>"
      ],
      "text/plain": [
       "   LotFrontage  BsmtUnfSF  GrLivArea  GarageYrBlt  SalePrice\n",
       "0         65.0        150       1710       2003.0     208500\n",
       "1         80.0        284       1262       1976.0     181500\n",
       "2         68.0        434       1786       2001.0     223500\n",
       "3         60.0        540       1717       1998.0     140000\n",
       "4         84.0        490       2198       2000.0     250000"
      ]
     },
     "execution_count": 550,
     "metadata": {},
     "output_type": "execute_result"
    }
   ],
   "source": [
    "df=pd.read_csv(\"train (1).csv\",usecols=cols_to_use)\n",
    "df.head()"
   ]
  },
  {
   "cell_type": "code",
   "execution_count": 551,
   "id": "2a29280f",
   "metadata": {},
   "outputs": [
    {
     "data": {
      "text/plain": [
       "LotFrontage    259\n",
       "BsmtUnfSF        0\n",
       "GrLivArea        0\n",
       "GarageYrBlt     81\n",
       "SalePrice        0\n",
       "dtype: int64"
      ]
     },
     "execution_count": 551,
     "metadata": {},
     "output_type": "execute_result"
    }
   ],
   "source": [
    "df.isnull().sum()"
   ]
  },
  {
   "cell_type": "code",
   "execution_count": 565,
   "id": "7a4cd7e5",
   "metadata": {},
   "outputs": [],
   "source": [
    "x_train,x_test,y_train,y_test=train_test_split(df,df[\"SalePrice\"],test_size=0.2)"
   ]
  },
  {
   "cell_type": "code",
   "execution_count": 583,
   "id": "15cf8e30",
   "metadata": {},
   "outputs": [],
   "source": [
    "imputer=SimpleImputer(strategy=\"median\",add_indicator=True)"
   ]
  },
  {
   "cell_type": "code",
   "execution_count": 584,
   "id": "a9d2a460",
   "metadata": {},
   "outputs": [],
   "source": [
    "c=list(x_train.columns)+[\"LotFrontage_indicator\",\"GarageYrBlt_indicator\"]"
   ]
  },
  {
   "cell_type": "code",
   "execution_count": 585,
   "id": "0806830c",
   "metadata": {},
   "outputs": [],
   "source": [
    "x_train=pd.DataFrame(imputer.fit_transform(x_train),columns=c)"
   ]
  },
  {
   "cell_type": "code",
   "execution_count": 586,
   "id": "5574db39",
   "metadata": {},
   "outputs": [
    {
     "data": {
      "text/html": [
       "<div>\n",
       "<style scoped>\n",
       "    .dataframe tbody tr th:only-of-type {\n",
       "        vertical-align: middle;\n",
       "    }\n",
       "\n",
       "    .dataframe tbody tr th {\n",
       "        vertical-align: top;\n",
       "    }\n",
       "\n",
       "    .dataframe thead th {\n",
       "        text-align: right;\n",
       "    }\n",
       "</style>\n",
       "<table border=\"1\" class=\"dataframe\">\n",
       "  <thead>\n",
       "    <tr style=\"text-align: right;\">\n",
       "      <th></th>\n",
       "      <th>LotFrontage</th>\n",
       "      <th>BsmtUnfSF</th>\n",
       "      <th>GrLivArea</th>\n",
       "      <th>GarageYrBlt</th>\n",
       "      <th>SalePrice</th>\n",
       "      <th>LotFrontage_indicator</th>\n",
       "      <th>GarageYrBlt_indicator</th>\n",
       "    </tr>\n",
       "  </thead>\n",
       "  <tbody>\n",
       "    <tr>\n",
       "      <th>0</th>\n",
       "      <td>69.0</td>\n",
       "      <td>204.0</td>\n",
       "      <td>1060.0</td>\n",
       "      <td>1968.0</td>\n",
       "      <td>154000.0</td>\n",
       "      <td>1.0</td>\n",
       "      <td>0.0</td>\n",
       "    </tr>\n",
       "    <tr>\n",
       "      <th>1</th>\n",
       "      <td>71.0</td>\n",
       "      <td>864.0</td>\n",
       "      <td>864.0</td>\n",
       "      <td>1972.0</td>\n",
       "      <td>116050.0</td>\n",
       "      <td>0.0</td>\n",
       "      <td>0.0</td>\n",
       "    </tr>\n",
       "    <tr>\n",
       "      <th>2</th>\n",
       "      <td>75.0</td>\n",
       "      <td>1088.0</td>\n",
       "      <td>1959.0</td>\n",
       "      <td>2006.0</td>\n",
       "      <td>270000.0</td>\n",
       "      <td>0.0</td>\n",
       "      <td>0.0</td>\n",
       "    </tr>\n",
       "    <tr>\n",
       "      <th>3</th>\n",
       "      <td>70.0</td>\n",
       "      <td>380.0</td>\n",
       "      <td>1700.0</td>\n",
       "      <td>1959.0</td>\n",
       "      <td>165500.0</td>\n",
       "      <td>0.0</td>\n",
       "      <td>0.0</td>\n",
       "    </tr>\n",
       "    <tr>\n",
       "      <th>4</th>\n",
       "      <td>36.0</td>\n",
       "      <td>175.0</td>\n",
       "      <td>1112.0</td>\n",
       "      <td>1976.0</td>\n",
       "      <td>85000.0</td>\n",
       "      <td>0.0</td>\n",
       "      <td>0.0</td>\n",
       "    </tr>\n",
       "    <tr>\n",
       "      <th>...</th>\n",
       "      <td>...</td>\n",
       "      <td>...</td>\n",
       "      <td>...</td>\n",
       "      <td>...</td>\n",
       "      <td>...</td>\n",
       "      <td>...</td>\n",
       "      <td>...</td>\n",
       "    </tr>\n",
       "    <tr>\n",
       "      <th>1163</th>\n",
       "      <td>105.0</td>\n",
       "      <td>728.0</td>\n",
       "      <td>1456.0</td>\n",
       "      <td>2006.0</td>\n",
       "      <td>172785.0</td>\n",
       "      <td>0.0</td>\n",
       "      <td>0.0</td>\n",
       "    </tr>\n",
       "    <tr>\n",
       "      <th>1164</th>\n",
       "      <td>93.0</td>\n",
       "      <td>1141.0</td>\n",
       "      <td>2263.0</td>\n",
       "      <td>1998.0</td>\n",
       "      <td>258000.0</td>\n",
       "      <td>0.0</td>\n",
       "      <td>0.0</td>\n",
       "    </tr>\n",
       "    <tr>\n",
       "      <th>1165</th>\n",
       "      <td>110.0</td>\n",
       "      <td>626.0</td>\n",
       "      <td>1976.0</td>\n",
       "      <td>2006.0</td>\n",
       "      <td>440000.0</td>\n",
       "      <td>0.0</td>\n",
       "      <td>0.0</td>\n",
       "    </tr>\n",
       "    <tr>\n",
       "      <th>1166</th>\n",
       "      <td>50.0</td>\n",
       "      <td>901.0</td>\n",
       "      <td>901.0</td>\n",
       "      <td>1954.0</td>\n",
       "      <td>107900.0</td>\n",
       "      <td>0.0</td>\n",
       "      <td>0.0</td>\n",
       "    </tr>\n",
       "    <tr>\n",
       "      <th>1167</th>\n",
       "      <td>60.0</td>\n",
       "      <td>641.0</td>\n",
       "      <td>1047.0</td>\n",
       "      <td>1954.0</td>\n",
       "      <td>100000.0</td>\n",
       "      <td>0.0</td>\n",
       "      <td>0.0</td>\n",
       "    </tr>\n",
       "  </tbody>\n",
       "</table>\n",
       "<p>1168 rows × 7 columns</p>\n",
       "</div>"
      ],
      "text/plain": [
       "      LotFrontage  BsmtUnfSF  GrLivArea  GarageYrBlt  SalePrice  \\\n",
       "0            69.0      204.0     1060.0       1968.0   154000.0   \n",
       "1            71.0      864.0      864.0       1972.0   116050.0   \n",
       "2            75.0     1088.0     1959.0       2006.0   270000.0   \n",
       "3            70.0      380.0     1700.0       1959.0   165500.0   \n",
       "4            36.0      175.0     1112.0       1976.0    85000.0   \n",
       "...           ...        ...        ...          ...        ...   \n",
       "1163        105.0      728.0     1456.0       2006.0   172785.0   \n",
       "1164         93.0     1141.0     2263.0       1998.0   258000.0   \n",
       "1165        110.0      626.0     1976.0       2006.0   440000.0   \n",
       "1166         50.0      901.0      901.0       1954.0   107900.0   \n",
       "1167         60.0      641.0     1047.0       1954.0   100000.0   \n",
       "\n",
       "      LotFrontage_indicator  GarageYrBlt_indicator  \n",
       "0                       1.0                    0.0  \n",
       "1                       0.0                    0.0  \n",
       "2                       0.0                    0.0  \n",
       "3                       0.0                    0.0  \n",
       "4                       0.0                    0.0  \n",
       "...                     ...                    ...  \n",
       "1163                    0.0                    0.0  \n",
       "1164                    0.0                    0.0  \n",
       "1165                    0.0                    0.0  \n",
       "1166                    0.0                    0.0  \n",
       "1167                    0.0                    0.0  \n",
       "\n",
       "[1168 rows x 7 columns]"
      ]
     },
     "execution_count": 586,
     "metadata": {},
     "output_type": "execute_result"
    }
   ],
   "source": [
    "x_train"
   ]
  },
  {
   "cell_type": "code",
   "execution_count": 587,
   "id": "31d203e5",
   "metadata": {},
   "outputs": [],
   "source": [
    "x_test=pd.DataFrame(imputer.transform(x_test),columns=c)"
   ]
  },
  {
   "cell_type": "code",
   "execution_count": 588,
   "id": "6f870f77",
   "metadata": {},
   "outputs": [
    {
     "data": {
      "text/html": [
       "<div>\n",
       "<style scoped>\n",
       "    .dataframe tbody tr th:only-of-type {\n",
       "        vertical-align: middle;\n",
       "    }\n",
       "\n",
       "    .dataframe tbody tr th {\n",
       "        vertical-align: top;\n",
       "    }\n",
       "\n",
       "    .dataframe thead th {\n",
       "        text-align: right;\n",
       "    }\n",
       "</style>\n",
       "<table border=\"1\" class=\"dataframe\">\n",
       "  <thead>\n",
       "    <tr style=\"text-align: right;\">\n",
       "      <th></th>\n",
       "      <th>LotFrontage</th>\n",
       "      <th>BsmtUnfSF</th>\n",
       "      <th>GrLivArea</th>\n",
       "      <th>GarageYrBlt</th>\n",
       "      <th>SalePrice</th>\n",
       "      <th>LotFrontage_indicator</th>\n",
       "      <th>GarageYrBlt_indicator</th>\n",
       "    </tr>\n",
       "  </thead>\n",
       "  <tbody>\n",
       "    <tr>\n",
       "      <th>0</th>\n",
       "      <td>75.0</td>\n",
       "      <td>1237.0</td>\n",
       "      <td>2775.0</td>\n",
       "      <td>1988.0</td>\n",
       "      <td>325000.0</td>\n",
       "      <td>0.0</td>\n",
       "      <td>0.0</td>\n",
       "    </tr>\n",
       "    <tr>\n",
       "      <th>1</th>\n",
       "      <td>70.0</td>\n",
       "      <td>121.0</td>\n",
       "      <td>925.0</td>\n",
       "      <td>1965.0</td>\n",
       "      <td>117500.0</td>\n",
       "      <td>0.0</td>\n",
       "      <td>0.0</td>\n",
       "    </tr>\n",
       "    <tr>\n",
       "      <th>2</th>\n",
       "      <td>112.0</td>\n",
       "      <td>1097.0</td>\n",
       "      <td>1097.0</td>\n",
       "      <td>1995.0</td>\n",
       "      <td>145000.0</td>\n",
       "      <td>0.0</td>\n",
       "      <td>0.0</td>\n",
       "    </tr>\n",
       "    <tr>\n",
       "      <th>3</th>\n",
       "      <td>80.0</td>\n",
       "      <td>485.0</td>\n",
       "      <td>1790.0</td>\n",
       "      <td>1972.0</td>\n",
       "      <td>165150.0</td>\n",
       "      <td>0.0</td>\n",
       "      <td>0.0</td>\n",
       "    </tr>\n",
       "    <tr>\n",
       "      <th>4</th>\n",
       "      <td>64.0</td>\n",
       "      <td>545.0</td>\n",
       "      <td>1476.0</td>\n",
       "      <td>2005.0</td>\n",
       "      <td>173500.0</td>\n",
       "      <td>0.0</td>\n",
       "      <td>0.0</td>\n",
       "    </tr>\n",
       "    <tr>\n",
       "      <th>...</th>\n",
       "      <td>...</td>\n",
       "      <td>...</td>\n",
       "      <td>...</td>\n",
       "      <td>...</td>\n",
       "      <td>...</td>\n",
       "      <td>...</td>\n",
       "      <td>...</td>\n",
       "    </tr>\n",
       "    <tr>\n",
       "      <th>287</th>\n",
       "      <td>69.0</td>\n",
       "      <td>718.0</td>\n",
       "      <td>1006.0</td>\n",
       "      <td>1980.0</td>\n",
       "      <td>80000.0</td>\n",
       "      <td>1.0</td>\n",
       "      <td>1.0</td>\n",
       "    </tr>\n",
       "    <tr>\n",
       "      <th>288</th>\n",
       "      <td>81.0</td>\n",
       "      <td>223.0</td>\n",
       "      <td>2127.0</td>\n",
       "      <td>1994.0</td>\n",
       "      <td>271000.0</td>\n",
       "      <td>0.0</td>\n",
       "      <td>0.0</td>\n",
       "    </tr>\n",
       "    <tr>\n",
       "      <th>289</th>\n",
       "      <td>70.0</td>\n",
       "      <td>1212.0</td>\n",
       "      <td>1212.0</td>\n",
       "      <td>2001.0</td>\n",
       "      <td>178000.0</td>\n",
       "      <td>0.0</td>\n",
       "      <td>0.0</td>\n",
       "    </tr>\n",
       "    <tr>\n",
       "      <th>290</th>\n",
       "      <td>57.0</td>\n",
       "      <td>203.0</td>\n",
       "      <td>773.0</td>\n",
       "      <td>1953.0</td>\n",
       "      <td>110000.0</td>\n",
       "      <td>0.0</td>\n",
       "      <td>0.0</td>\n",
       "    </tr>\n",
       "    <tr>\n",
       "      <th>291</th>\n",
       "      <td>75.0</td>\n",
       "      <td>0.0</td>\n",
       "      <td>1246.0</td>\n",
       "      <td>1959.0</td>\n",
       "      <td>154000.0</td>\n",
       "      <td>0.0</td>\n",
       "      <td>0.0</td>\n",
       "    </tr>\n",
       "  </tbody>\n",
       "</table>\n",
       "<p>292 rows × 7 columns</p>\n",
       "</div>"
      ],
      "text/plain": [
       "     LotFrontage  BsmtUnfSF  GrLivArea  GarageYrBlt  SalePrice  \\\n",
       "0           75.0     1237.0     2775.0       1988.0   325000.0   \n",
       "1           70.0      121.0      925.0       1965.0   117500.0   \n",
       "2          112.0     1097.0     1097.0       1995.0   145000.0   \n",
       "3           80.0      485.0     1790.0       1972.0   165150.0   \n",
       "4           64.0      545.0     1476.0       2005.0   173500.0   \n",
       "..           ...        ...        ...          ...        ...   \n",
       "287         69.0      718.0     1006.0       1980.0    80000.0   \n",
       "288         81.0      223.0     2127.0       1994.0   271000.0   \n",
       "289         70.0     1212.0     1212.0       2001.0   178000.0   \n",
       "290         57.0      203.0      773.0       1953.0   110000.0   \n",
       "291         75.0        0.0     1246.0       1959.0   154000.0   \n",
       "\n",
       "     LotFrontage_indicator  GarageYrBlt_indicator  \n",
       "0                      0.0                    0.0  \n",
       "1                      0.0                    0.0  \n",
       "2                      0.0                    0.0  \n",
       "3                      0.0                    0.0  \n",
       "4                      0.0                    0.0  \n",
       "..                     ...                    ...  \n",
       "287                    1.0                    1.0  \n",
       "288                    0.0                    0.0  \n",
       "289                    0.0                    0.0  \n",
       "290                    0.0                    0.0  \n",
       "291                    0.0                    0.0  \n",
       "\n",
       "[292 rows x 7 columns]"
      ]
     },
     "execution_count": 588,
     "metadata": {},
     "output_type": "execute_result"
    }
   ],
   "source": [
    "x_test"
   ]
  },
  {
   "cell_type": "code",
   "execution_count": null,
   "id": "20f45d02",
   "metadata": {},
   "outputs": [],
   "source": []
  }
 ],
 "metadata": {
  "kernelspec": {
   "display_name": "Python 3 (ipykernel)",
   "language": "python",
   "name": "python3"
  },
  "language_info": {
   "codemirror_mode": {
    "name": "ipython",
    "version": 3
   },
   "file_extension": ".py",
   "mimetype": "text/x-python",
   "name": "python",
   "nbconvert_exporter": "python",
   "pygments_lexer": "ipython3",
   "version": "3.9.12"
  }
 },
 "nbformat": 4,
 "nbformat_minor": 5
}
