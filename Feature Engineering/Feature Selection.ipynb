{
 "cells": [
  {
   "cell_type": "code",
   "execution_count": null,
   "id": "7e5a80ef",
   "metadata": {},
   "outputs": [],
   "source": [
    "#use the basic filtering methods first to remove quickly some unnnecessary features. then you can movie into other techniques to remove further features\n",
    "#filter/remove columns based on your domain knowledge\n",
    "#filter duplicate features\n",
    "#filter one among correlated features \n",
    "#filter constant columns\n",
    "#these are some basic methods u can use initiallu before going into ml based\n",
    "#since all these are basic , discusses only variance threhold here in this notebook"
   ]
  },
  {
   "cell_type": "code",
   "execution_count": 3,
   "id": "1c4a4ad5",
   "metadata": {},
   "outputs": [],
   "source": [
    "import pandas as pd\n",
    "import numpy as np\n",
    "import matplotlib.pyplot as plt\n",
    "import seaborn as sns\n",
    "from sklearn.model_selection import train_test_split\n",
    "from sklearn.ensemble import RandomForestRegressor\n",
    "from sklearn.preprocessing import OrdinalEncoder\n",
    "from sklearn.compose import ColumnTransformer"
   ]
  },
  {
   "cell_type": "code",
   "execution_count": 4,
   "id": "9586991e",
   "metadata": {},
   "outputs": [
    {
     "data": {
      "text/html": [
       "<div>\n",
       "<style scoped>\n",
       "    .dataframe tbody tr th:only-of-type {\n",
       "        vertical-align: middle;\n",
       "    }\n",
       "\n",
       "    .dataframe tbody tr th {\n",
       "        vertical-align: top;\n",
       "    }\n",
       "\n",
       "    .dataframe thead th {\n",
       "        text-align: right;\n",
       "    }\n",
       "</style>\n",
       "<table border=\"1\" class=\"dataframe\">\n",
       "  <thead>\n",
       "    <tr style=\"text-align: right;\">\n",
       "      <th></th>\n",
       "      <th>Id</th>\n",
       "      <th>MSSubClass</th>\n",
       "      <th>MSZoning</th>\n",
       "      <th>LotFrontage</th>\n",
       "      <th>LotArea</th>\n",
       "      <th>Street</th>\n",
       "      <th>Alley</th>\n",
       "      <th>LotShape</th>\n",
       "      <th>LandContour</th>\n",
       "      <th>Utilities</th>\n",
       "      <th>...</th>\n",
       "      <th>PoolArea</th>\n",
       "      <th>PoolQC</th>\n",
       "      <th>Fence</th>\n",
       "      <th>MiscFeature</th>\n",
       "      <th>MiscVal</th>\n",
       "      <th>MoSold</th>\n",
       "      <th>YrSold</th>\n",
       "      <th>SaleType</th>\n",
       "      <th>SaleCondition</th>\n",
       "      <th>SalePrice</th>\n",
       "    </tr>\n",
       "  </thead>\n",
       "  <tbody>\n",
       "    <tr>\n",
       "      <th>0</th>\n",
       "      <td>1</td>\n",
       "      <td>60</td>\n",
       "      <td>RL</td>\n",
       "      <td>65.0</td>\n",
       "      <td>8450</td>\n",
       "      <td>Pave</td>\n",
       "      <td>NaN</td>\n",
       "      <td>Reg</td>\n",
       "      <td>Lvl</td>\n",
       "      <td>AllPub</td>\n",
       "      <td>...</td>\n",
       "      <td>0</td>\n",
       "      <td>NaN</td>\n",
       "      <td>NaN</td>\n",
       "      <td>NaN</td>\n",
       "      <td>0</td>\n",
       "      <td>2</td>\n",
       "      <td>2008</td>\n",
       "      <td>WD</td>\n",
       "      <td>Normal</td>\n",
       "      <td>208500</td>\n",
       "    </tr>\n",
       "    <tr>\n",
       "      <th>1</th>\n",
       "      <td>2</td>\n",
       "      <td>20</td>\n",
       "      <td>RL</td>\n",
       "      <td>80.0</td>\n",
       "      <td>9600</td>\n",
       "      <td>Pave</td>\n",
       "      <td>NaN</td>\n",
       "      <td>Reg</td>\n",
       "      <td>Lvl</td>\n",
       "      <td>AllPub</td>\n",
       "      <td>...</td>\n",
       "      <td>0</td>\n",
       "      <td>NaN</td>\n",
       "      <td>NaN</td>\n",
       "      <td>NaN</td>\n",
       "      <td>0</td>\n",
       "      <td>5</td>\n",
       "      <td>2007</td>\n",
       "      <td>WD</td>\n",
       "      <td>Normal</td>\n",
       "      <td>181500</td>\n",
       "    </tr>\n",
       "    <tr>\n",
       "      <th>2</th>\n",
       "      <td>3</td>\n",
       "      <td>60</td>\n",
       "      <td>RL</td>\n",
       "      <td>68.0</td>\n",
       "      <td>11250</td>\n",
       "      <td>Pave</td>\n",
       "      <td>NaN</td>\n",
       "      <td>IR1</td>\n",
       "      <td>Lvl</td>\n",
       "      <td>AllPub</td>\n",
       "      <td>...</td>\n",
       "      <td>0</td>\n",
       "      <td>NaN</td>\n",
       "      <td>NaN</td>\n",
       "      <td>NaN</td>\n",
       "      <td>0</td>\n",
       "      <td>9</td>\n",
       "      <td>2008</td>\n",
       "      <td>WD</td>\n",
       "      <td>Normal</td>\n",
       "      <td>223500</td>\n",
       "    </tr>\n",
       "    <tr>\n",
       "      <th>3</th>\n",
       "      <td>4</td>\n",
       "      <td>70</td>\n",
       "      <td>RL</td>\n",
       "      <td>60.0</td>\n",
       "      <td>9550</td>\n",
       "      <td>Pave</td>\n",
       "      <td>NaN</td>\n",
       "      <td>IR1</td>\n",
       "      <td>Lvl</td>\n",
       "      <td>AllPub</td>\n",
       "      <td>...</td>\n",
       "      <td>0</td>\n",
       "      <td>NaN</td>\n",
       "      <td>NaN</td>\n",
       "      <td>NaN</td>\n",
       "      <td>0</td>\n",
       "      <td>2</td>\n",
       "      <td>2006</td>\n",
       "      <td>WD</td>\n",
       "      <td>Abnorml</td>\n",
       "      <td>140000</td>\n",
       "    </tr>\n",
       "    <tr>\n",
       "      <th>4</th>\n",
       "      <td>5</td>\n",
       "      <td>60</td>\n",
       "      <td>RL</td>\n",
       "      <td>84.0</td>\n",
       "      <td>14260</td>\n",
       "      <td>Pave</td>\n",
       "      <td>NaN</td>\n",
       "      <td>IR1</td>\n",
       "      <td>Lvl</td>\n",
       "      <td>AllPub</td>\n",
       "      <td>...</td>\n",
       "      <td>0</td>\n",
       "      <td>NaN</td>\n",
       "      <td>NaN</td>\n",
       "      <td>NaN</td>\n",
       "      <td>0</td>\n",
       "      <td>12</td>\n",
       "      <td>2008</td>\n",
       "      <td>WD</td>\n",
       "      <td>Normal</td>\n",
       "      <td>250000</td>\n",
       "    </tr>\n",
       "  </tbody>\n",
       "</table>\n",
       "<p>5 rows × 81 columns</p>\n",
       "</div>"
      ],
      "text/plain": [
       "   Id  MSSubClass MSZoning  LotFrontage  LotArea Street Alley LotShape  \\\n",
       "0   1          60       RL         65.0     8450   Pave   NaN      Reg   \n",
       "1   2          20       RL         80.0     9600   Pave   NaN      Reg   \n",
       "2   3          60       RL         68.0    11250   Pave   NaN      IR1   \n",
       "3   4          70       RL         60.0     9550   Pave   NaN      IR1   \n",
       "4   5          60       RL         84.0    14260   Pave   NaN      IR1   \n",
       "\n",
       "  LandContour Utilities  ... PoolArea PoolQC Fence MiscFeature MiscVal MoSold  \\\n",
       "0         Lvl    AllPub  ...        0    NaN   NaN         NaN       0      2   \n",
       "1         Lvl    AllPub  ...        0    NaN   NaN         NaN       0      5   \n",
       "2         Lvl    AllPub  ...        0    NaN   NaN         NaN       0      9   \n",
       "3         Lvl    AllPub  ...        0    NaN   NaN         NaN       0      2   \n",
       "4         Lvl    AllPub  ...        0    NaN   NaN         NaN       0     12   \n",
       "\n",
       "  YrSold  SaleType  SaleCondition  SalePrice  \n",
       "0   2008        WD         Normal     208500  \n",
       "1   2007        WD         Normal     181500  \n",
       "2   2008        WD         Normal     223500  \n",
       "3   2006        WD        Abnorml     140000  \n",
       "4   2008        WD         Normal     250000  \n",
       "\n",
       "[5 rows x 81 columns]"
      ]
     },
     "execution_count": 4,
     "metadata": {},
     "output_type": "execute_result"
    }
   ],
   "source": [
    "df=pd.read_csv(\"train (1).csv\")\n",
    "df.head()"
   ]
  },
  {
   "cell_type": "code",
   "execution_count": 5,
   "id": "c0b8d962",
   "metadata": {},
   "outputs": [],
   "source": [
    "#deleteing columns with null values just for easier demo of feature selection\n",
    "s=df.isnull().sum()>0\n",
    "c=s[s].index\n",
    "df.drop(c,axis=1,inplace=True)"
   ]
  },
  {
   "cell_type": "code",
   "execution_count": 6,
   "id": "14feed6c",
   "metadata": {},
   "outputs": [],
   "source": [
    "#lets select only these columns for faster computation\n",
    "c=['OverallQual', 'YearBuilt', 'BsmtUnfSF', '1stFlrSF', '2ndFlrSF',\n",
    "       'BsmtFullBath', 'FullBath', 'Fireplaces', 'GarageCars',\n",
    "       'WoodDeckSF','MSZoning','Street','LotShape','OpenPorchSF']"
   ]
  },
  {
   "cell_type": "code",
   "execution_count": 7,
   "id": "95743df7",
   "metadata": {},
   "outputs": [],
   "source": [
    "x_train,x_test,y_train,y_test=train_test_split(df[c],df[\"SalePrice\"],test_size=0.2,random_state=1)"
   ]
  },
  {
   "cell_type": "code",
   "execution_count": 8,
   "id": "bb575a00",
   "metadata": {},
   "outputs": [],
   "source": [
    "trans=ColumnTransformer([(\"encoder\",OrdinalEncoder(handle_unknown=\"use_encoded_value\",unknown_value=-1),x_train.select_dtypes(include=\"object\").columns)],remainder=\"passthrough\").set_output(transform=\"pandas\")"
   ]
  },
  {
   "cell_type": "code",
   "execution_count": 9,
   "id": "b3c68b11",
   "metadata": {},
   "outputs": [],
   "source": [
    "x_train=trans.fit_transform(x_train)"
   ]
  },
  {
   "cell_type": "code",
   "execution_count": 10,
   "id": "58fea0f5",
   "metadata": {},
   "outputs": [],
   "source": [
    "x_test=trans.transform(x_test)"
   ]
  },
  {
   "cell_type": "code",
   "execution_count": 11,
   "id": "6eb51abc",
   "metadata": {},
   "outputs": [
    {
     "data": {
      "text/html": [
       "<div>\n",
       "<style scoped>\n",
       "    .dataframe tbody tr th:only-of-type {\n",
       "        vertical-align: middle;\n",
       "    }\n",
       "\n",
       "    .dataframe tbody tr th {\n",
       "        vertical-align: top;\n",
       "    }\n",
       "\n",
       "    .dataframe thead th {\n",
       "        text-align: right;\n",
       "    }\n",
       "</style>\n",
       "<table border=\"1\" class=\"dataframe\">\n",
       "  <thead>\n",
       "    <tr style=\"text-align: right;\">\n",
       "      <th></th>\n",
       "      <th>encoder__MSZoning</th>\n",
       "      <th>encoder__Street</th>\n",
       "      <th>encoder__LotShape</th>\n",
       "      <th>remainder__OverallQual</th>\n",
       "      <th>remainder__YearBuilt</th>\n",
       "      <th>remainder__BsmtUnfSF</th>\n",
       "      <th>remainder__1stFlrSF</th>\n",
       "      <th>remainder__2ndFlrSF</th>\n",
       "      <th>remainder__BsmtFullBath</th>\n",
       "      <th>remainder__FullBath</th>\n",
       "      <th>remainder__Fireplaces</th>\n",
       "      <th>remainder__GarageCars</th>\n",
       "      <th>remainder__WoodDeckSF</th>\n",
       "      <th>remainder__OpenPorchSF</th>\n",
       "    </tr>\n",
       "  </thead>\n",
       "  <tbody>\n",
       "    <tr>\n",
       "      <th>921</th>\n",
       "      <td>3.0</td>\n",
       "      <td>1.0</td>\n",
       "      <td>3.0</td>\n",
       "      <td>5</td>\n",
       "      <td>1900</td>\n",
       "      <td>188</td>\n",
       "      <td>1272</td>\n",
       "      <td>928</td>\n",
       "      <td>2</td>\n",
       "      <td>2</td>\n",
       "      <td>0</td>\n",
       "      <td>0</td>\n",
       "      <td>0</td>\n",
       "      <td>70</td>\n",
       "    </tr>\n",
       "    <tr>\n",
       "      <th>520</th>\n",
       "      <td>3.0</td>\n",
       "      <td>1.0</td>\n",
       "      <td>3.0</td>\n",
       "      <td>4</td>\n",
       "      <td>1900</td>\n",
       "      <td>0</td>\n",
       "      <td>694</td>\n",
       "      <td>600</td>\n",
       "      <td>0</td>\n",
       "      <td>2</td>\n",
       "      <td>0</td>\n",
       "      <td>0</td>\n",
       "      <td>220</td>\n",
       "      <td>114</td>\n",
       "    </tr>\n",
       "    <tr>\n",
       "      <th>401</th>\n",
       "      <td>3.0</td>\n",
       "      <td>1.0</td>\n",
       "      <td>0.0</td>\n",
       "      <td>7</td>\n",
       "      <td>2005</td>\n",
       "      <td>1286</td>\n",
       "      <td>1310</td>\n",
       "      <td>0</td>\n",
       "      <td>0</td>\n",
       "      <td>2</td>\n",
       "      <td>1</td>\n",
       "      <td>2</td>\n",
       "      <td>0</td>\n",
       "      <td>0</td>\n",
       "    </tr>\n",
       "    <tr>\n",
       "      <th>280</th>\n",
       "      <td>3.0</td>\n",
       "      <td>1.0</td>\n",
       "      <td>3.0</td>\n",
       "      <td>7</td>\n",
       "      <td>1989</td>\n",
       "      <td>386</td>\n",
       "      <td>1175</td>\n",
       "      <td>807</td>\n",
       "      <td>0</td>\n",
       "      <td>2</td>\n",
       "      <td>1</td>\n",
       "      <td>2</td>\n",
       "      <td>0</td>\n",
       "      <td>84</td>\n",
       "    </tr>\n",
       "    <tr>\n",
       "      <th>1401</th>\n",
       "      <td>3.0</td>\n",
       "      <td>1.0</td>\n",
       "      <td>0.0</td>\n",
       "      <td>6</td>\n",
       "      <td>2004</td>\n",
       "      <td>80</td>\n",
       "      <td>864</td>\n",
       "      <td>729</td>\n",
       "      <td>1</td>\n",
       "      <td>2</td>\n",
       "      <td>1</td>\n",
       "      <td>2</td>\n",
       "      <td>100</td>\n",
       "      <td>75</td>\n",
       "    </tr>\n",
       "  </tbody>\n",
       "</table>\n",
       "</div>"
      ],
      "text/plain": [
       "      encoder__MSZoning  encoder__Street  encoder__LotShape  \\\n",
       "921                 3.0              1.0                3.0   \n",
       "520                 3.0              1.0                3.0   \n",
       "401                 3.0              1.0                0.0   \n",
       "280                 3.0              1.0                3.0   \n",
       "1401                3.0              1.0                0.0   \n",
       "\n",
       "      remainder__OverallQual  remainder__YearBuilt  remainder__BsmtUnfSF  \\\n",
       "921                        5                  1900                   188   \n",
       "520                        4                  1900                     0   \n",
       "401                        7                  2005                  1286   \n",
       "280                        7                  1989                   386   \n",
       "1401                       6                  2004                    80   \n",
       "\n",
       "      remainder__1stFlrSF  remainder__2ndFlrSF  remainder__BsmtFullBath  \\\n",
       "921                  1272                  928                        2   \n",
       "520                   694                  600                        0   \n",
       "401                  1310                    0                        0   \n",
       "280                  1175                  807                        0   \n",
       "1401                  864                  729                        1   \n",
       "\n",
       "      remainder__FullBath  remainder__Fireplaces  remainder__GarageCars  \\\n",
       "921                     2                      0                      0   \n",
       "520                     2                      0                      0   \n",
       "401                     2                      1                      2   \n",
       "280                     2                      1                      2   \n",
       "1401                    2                      1                      2   \n",
       "\n",
       "      remainder__WoodDeckSF  remainder__OpenPorchSF  \n",
       "921                       0                      70  \n",
       "520                     220                     114  \n",
       "401                       0                       0  \n",
       "280                       0                      84  \n",
       "1401                    100                      75  "
      ]
     },
     "execution_count": 11,
     "metadata": {},
     "output_type": "execute_result"
    }
   ],
   "source": [
    "x_train.head()"
   ]
  },
  {
   "cell_type": "markdown",
   "id": "7179ed41",
   "metadata": {},
   "source": [
    "# Wrapper methods"
   ]
  },
  {
   "cell_type": "markdown",
   "id": "315221a6",
   "metadata": {},
   "source": [
    "## 1. Forward Selection "
   ]
  },
  {
   "cell_type": "code",
   "execution_count": 12,
   "id": "7dccbf85",
   "metadata": {},
   "outputs": [],
   "source": [
    "from sklearn.feature_selection import SequentialFeatureSelector"
   ]
  },
  {
   "cell_type": "code",
   "execution_count": 135,
   "id": "8e7d769e",
   "metadata": {},
   "outputs": [],
   "source": [
    "x_train1=x_train.copy()\n",
    "x_test1=x_test.copy()"
   ]
  },
  {
   "cell_type": "code",
   "execution_count": 136,
   "id": "cb8e5b2a",
   "metadata": {},
   "outputs": [],
   "source": [
    "sfs=SequentialFeatureSelector(estimator=RandomForestRegressor(),direction=\"forward\",scoring=\"r2\",cv=2,n_features_to_select=5)"
   ]
  },
  {
   "cell_type": "code",
   "execution_count": 137,
   "id": "692e364c",
   "metadata": {},
   "outputs": [
    {
     "data": {
      "text/html": [
       "<style>#sk-container-id-10 {color: black;background-color: white;}#sk-container-id-10 pre{padding: 0;}#sk-container-id-10 div.sk-toggleable {background-color: white;}#sk-container-id-10 label.sk-toggleable__label {cursor: pointer;display: block;width: 100%;margin-bottom: 0;padding: 0.3em;box-sizing: border-box;text-align: center;}#sk-container-id-10 label.sk-toggleable__label-arrow:before {content: \"▸\";float: left;margin-right: 0.25em;color: #696969;}#sk-container-id-10 label.sk-toggleable__label-arrow:hover:before {color: black;}#sk-container-id-10 div.sk-estimator:hover label.sk-toggleable__label-arrow:before {color: black;}#sk-container-id-10 div.sk-toggleable__content {max-height: 0;max-width: 0;overflow: hidden;text-align: left;background-color: #f0f8ff;}#sk-container-id-10 div.sk-toggleable__content pre {margin: 0.2em;color: black;border-radius: 0.25em;background-color: #f0f8ff;}#sk-container-id-10 input.sk-toggleable__control:checked~div.sk-toggleable__content {max-height: 200px;max-width: 100%;overflow: auto;}#sk-container-id-10 input.sk-toggleable__control:checked~label.sk-toggleable__label-arrow:before {content: \"▾\";}#sk-container-id-10 div.sk-estimator input.sk-toggleable__control:checked~label.sk-toggleable__label {background-color: #d4ebff;}#sk-container-id-10 div.sk-label input.sk-toggleable__control:checked~label.sk-toggleable__label {background-color: #d4ebff;}#sk-container-id-10 input.sk-hidden--visually {border: 0;clip: rect(1px 1px 1px 1px);clip: rect(1px, 1px, 1px, 1px);height: 1px;margin: -1px;overflow: hidden;padding: 0;position: absolute;width: 1px;}#sk-container-id-10 div.sk-estimator {font-family: monospace;background-color: #f0f8ff;border: 1px dotted black;border-radius: 0.25em;box-sizing: border-box;margin-bottom: 0.5em;}#sk-container-id-10 div.sk-estimator:hover {background-color: #d4ebff;}#sk-container-id-10 div.sk-parallel-item::after {content: \"\";width: 100%;border-bottom: 1px solid gray;flex-grow: 1;}#sk-container-id-10 div.sk-label:hover label.sk-toggleable__label {background-color: #d4ebff;}#sk-container-id-10 div.sk-serial::before {content: \"\";position: absolute;border-left: 1px solid gray;box-sizing: border-box;top: 0;bottom: 0;left: 50%;z-index: 0;}#sk-container-id-10 div.sk-serial {display: flex;flex-direction: column;align-items: center;background-color: white;padding-right: 0.2em;padding-left: 0.2em;position: relative;}#sk-container-id-10 div.sk-item {position: relative;z-index: 1;}#sk-container-id-10 div.sk-parallel {display: flex;align-items: stretch;justify-content: center;background-color: white;position: relative;}#sk-container-id-10 div.sk-item::before, #sk-container-id-10 div.sk-parallel-item::before {content: \"\";position: absolute;border-left: 1px solid gray;box-sizing: border-box;top: 0;bottom: 0;left: 50%;z-index: -1;}#sk-container-id-10 div.sk-parallel-item {display: flex;flex-direction: column;z-index: 1;position: relative;background-color: white;}#sk-container-id-10 div.sk-parallel-item:first-child::after {align-self: flex-end;width: 50%;}#sk-container-id-10 div.sk-parallel-item:last-child::after {align-self: flex-start;width: 50%;}#sk-container-id-10 div.sk-parallel-item:only-child::after {width: 0;}#sk-container-id-10 div.sk-dashed-wrapped {border: 1px dashed gray;margin: 0 0.4em 0.5em 0.4em;box-sizing: border-box;padding-bottom: 0.4em;background-color: white;}#sk-container-id-10 div.sk-label label {font-family: monospace;font-weight: bold;display: inline-block;line-height: 1.2em;}#sk-container-id-10 div.sk-label-container {text-align: center;}#sk-container-id-10 div.sk-container {/* jupyter's `normalize.less` sets `[hidden] { display: none; }` but bootstrap.min.css set `[hidden] { display: none !important; }` so we also need the `!important` here to be able to override the default hidden behavior on the sphinx rendered scikit-learn.org. See: https://github.com/scikit-learn/scikit-learn/issues/21755 */display: inline-block !important;position: relative;}#sk-container-id-10 div.sk-text-repr-fallback {display: none;}</style><div id=\"sk-container-id-10\" class=\"sk-top-container\"><div class=\"sk-text-repr-fallback\"><pre>SequentialFeatureSelector(cv=2, estimator=RandomForestRegressor(),\n",
       "                          n_features_to_select=5, scoring=&#x27;r2&#x27;)</pre><b>In a Jupyter environment, please rerun this cell to show the HTML representation or trust the notebook. <br />On GitHub, the HTML representation is unable to render, please try loading this page with nbviewer.org.</b></div><div class=\"sk-container\" hidden><div class=\"sk-item sk-dashed-wrapped\"><div class=\"sk-label-container\"><div class=\"sk-label sk-toggleable\"><input class=\"sk-toggleable__control sk-hidden--visually\" id=\"sk-estimator-id-30\" type=\"checkbox\" ><label for=\"sk-estimator-id-30\" class=\"sk-toggleable__label sk-toggleable__label-arrow\">SequentialFeatureSelector</label><div class=\"sk-toggleable__content\"><pre>SequentialFeatureSelector(cv=2, estimator=RandomForestRegressor(),\n",
       "                          n_features_to_select=5, scoring=&#x27;r2&#x27;)</pre></div></div></div><div class=\"sk-parallel\"><div class=\"sk-parallel-item\"><div class=\"sk-item\"><div class=\"sk-label-container\"><div class=\"sk-label sk-toggleable\"><input class=\"sk-toggleable__control sk-hidden--visually\" id=\"sk-estimator-id-31\" type=\"checkbox\" ><label for=\"sk-estimator-id-31\" class=\"sk-toggleable__label sk-toggleable__label-arrow\">estimator: RandomForestRegressor</label><div class=\"sk-toggleable__content\"><pre>RandomForestRegressor()</pre></div></div></div><div class=\"sk-serial\"><div class=\"sk-item\"><div class=\"sk-estimator sk-toggleable\"><input class=\"sk-toggleable__control sk-hidden--visually\" id=\"sk-estimator-id-32\" type=\"checkbox\" ><label for=\"sk-estimator-id-32\" class=\"sk-toggleable__label sk-toggleable__label-arrow\">RandomForestRegressor</label><div class=\"sk-toggleable__content\"><pre>RandomForestRegressor()</pre></div></div></div></div></div></div></div></div></div></div>"
      ],
      "text/plain": [
       "SequentialFeatureSelector(cv=2, estimator=RandomForestRegressor(),\n",
       "                          n_features_to_select=5, scoring='r2')"
      ]
     },
     "execution_count": 137,
     "metadata": {},
     "output_type": "execute_result"
    }
   ],
   "source": [
    "sfs.fit(x_train1,y_train)"
   ]
  },
  {
   "cell_type": "code",
   "execution_count": 138,
   "id": "87844265",
   "metadata": {},
   "outputs": [
    {
     "data": {
      "text/plain": [
       "array(['encoder__MSZoning', 'remainder__OverallQual',\n",
       "       'remainder__1stFlrSF', 'remainder__GarageCars',\n",
       "       'remainder__WoodDeckSF'], dtype=object)"
      ]
     },
     "execution_count": 138,
     "metadata": {},
     "output_type": "execute_result"
    }
   ],
   "source": [
    "#these are the features \n",
    "sfs.get_feature_names_out()"
   ]
  },
  {
   "cell_type": "code",
   "execution_count": 139,
   "id": "3ac96367",
   "metadata": {},
   "outputs": [],
   "source": [
    "#now lets try to select features by specifying tol, here we dont speacify how many features to select\n",
    "x_train1=x_train.copy()\n",
    "x_test1=x_test.copy()"
   ]
  },
  {
   "cell_type": "code",
   "execution_count": null,
   "id": "ebd11f75",
   "metadata": {},
   "outputs": [],
   "source": [
    "#tol:If the score is not incremented by at least `tol` between two \n",
    "#consecutive feature additions or removals, stop adding or removing. keep n_features_to_select=\"auto\""
   ]
  },
  {
   "cell_type": "code",
   "execution_count": 146,
   "id": "79076992",
   "metadata": {},
   "outputs": [],
   "source": [
    "sfs=SequentialFeatureSelector(estimator=RandomForestRegressor(),direction=\"forward\",tol=0.01,scoring=\"r2\",cv=2,n_features_to_select=\"auto\")"
   ]
  },
  {
   "cell_type": "code",
   "execution_count": 147,
   "id": "e5eb6fe3",
   "metadata": {},
   "outputs": [
    {
     "data": {
      "text/html": [
       "<style>#sk-container-id-13 {color: black;background-color: white;}#sk-container-id-13 pre{padding: 0;}#sk-container-id-13 div.sk-toggleable {background-color: white;}#sk-container-id-13 label.sk-toggleable__label {cursor: pointer;display: block;width: 100%;margin-bottom: 0;padding: 0.3em;box-sizing: border-box;text-align: center;}#sk-container-id-13 label.sk-toggleable__label-arrow:before {content: \"▸\";float: left;margin-right: 0.25em;color: #696969;}#sk-container-id-13 label.sk-toggleable__label-arrow:hover:before {color: black;}#sk-container-id-13 div.sk-estimator:hover label.sk-toggleable__label-arrow:before {color: black;}#sk-container-id-13 div.sk-toggleable__content {max-height: 0;max-width: 0;overflow: hidden;text-align: left;background-color: #f0f8ff;}#sk-container-id-13 div.sk-toggleable__content pre {margin: 0.2em;color: black;border-radius: 0.25em;background-color: #f0f8ff;}#sk-container-id-13 input.sk-toggleable__control:checked~div.sk-toggleable__content {max-height: 200px;max-width: 100%;overflow: auto;}#sk-container-id-13 input.sk-toggleable__control:checked~label.sk-toggleable__label-arrow:before {content: \"▾\";}#sk-container-id-13 div.sk-estimator input.sk-toggleable__control:checked~label.sk-toggleable__label {background-color: #d4ebff;}#sk-container-id-13 div.sk-label input.sk-toggleable__control:checked~label.sk-toggleable__label {background-color: #d4ebff;}#sk-container-id-13 input.sk-hidden--visually {border: 0;clip: rect(1px 1px 1px 1px);clip: rect(1px, 1px, 1px, 1px);height: 1px;margin: -1px;overflow: hidden;padding: 0;position: absolute;width: 1px;}#sk-container-id-13 div.sk-estimator {font-family: monospace;background-color: #f0f8ff;border: 1px dotted black;border-radius: 0.25em;box-sizing: border-box;margin-bottom: 0.5em;}#sk-container-id-13 div.sk-estimator:hover {background-color: #d4ebff;}#sk-container-id-13 div.sk-parallel-item::after {content: \"\";width: 100%;border-bottom: 1px solid gray;flex-grow: 1;}#sk-container-id-13 div.sk-label:hover label.sk-toggleable__label {background-color: #d4ebff;}#sk-container-id-13 div.sk-serial::before {content: \"\";position: absolute;border-left: 1px solid gray;box-sizing: border-box;top: 0;bottom: 0;left: 50%;z-index: 0;}#sk-container-id-13 div.sk-serial {display: flex;flex-direction: column;align-items: center;background-color: white;padding-right: 0.2em;padding-left: 0.2em;position: relative;}#sk-container-id-13 div.sk-item {position: relative;z-index: 1;}#sk-container-id-13 div.sk-parallel {display: flex;align-items: stretch;justify-content: center;background-color: white;position: relative;}#sk-container-id-13 div.sk-item::before, #sk-container-id-13 div.sk-parallel-item::before {content: \"\";position: absolute;border-left: 1px solid gray;box-sizing: border-box;top: 0;bottom: 0;left: 50%;z-index: -1;}#sk-container-id-13 div.sk-parallel-item {display: flex;flex-direction: column;z-index: 1;position: relative;background-color: white;}#sk-container-id-13 div.sk-parallel-item:first-child::after {align-self: flex-end;width: 50%;}#sk-container-id-13 div.sk-parallel-item:last-child::after {align-self: flex-start;width: 50%;}#sk-container-id-13 div.sk-parallel-item:only-child::after {width: 0;}#sk-container-id-13 div.sk-dashed-wrapped {border: 1px dashed gray;margin: 0 0.4em 0.5em 0.4em;box-sizing: border-box;padding-bottom: 0.4em;background-color: white;}#sk-container-id-13 div.sk-label label {font-family: monospace;font-weight: bold;display: inline-block;line-height: 1.2em;}#sk-container-id-13 div.sk-label-container {text-align: center;}#sk-container-id-13 div.sk-container {/* jupyter's `normalize.less` sets `[hidden] { display: none; }` but bootstrap.min.css set `[hidden] { display: none !important; }` so we also need the `!important` here to be able to override the default hidden behavior on the sphinx rendered scikit-learn.org. See: https://github.com/scikit-learn/scikit-learn/issues/21755 */display: inline-block !important;position: relative;}#sk-container-id-13 div.sk-text-repr-fallback {display: none;}</style><div id=\"sk-container-id-13\" class=\"sk-top-container\"><div class=\"sk-text-repr-fallback\"><pre>SequentialFeatureSelector(cv=2, estimator=RandomForestRegressor(),\n",
       "                          n_features_to_select=&#x27;auto&#x27;, scoring=&#x27;r2&#x27;, tol=0.01)</pre><b>In a Jupyter environment, please rerun this cell to show the HTML representation or trust the notebook. <br />On GitHub, the HTML representation is unable to render, please try loading this page with nbviewer.org.</b></div><div class=\"sk-container\" hidden><div class=\"sk-item sk-dashed-wrapped\"><div class=\"sk-label-container\"><div class=\"sk-label sk-toggleable\"><input class=\"sk-toggleable__control sk-hidden--visually\" id=\"sk-estimator-id-39\" type=\"checkbox\" ><label for=\"sk-estimator-id-39\" class=\"sk-toggleable__label sk-toggleable__label-arrow\">SequentialFeatureSelector</label><div class=\"sk-toggleable__content\"><pre>SequentialFeatureSelector(cv=2, estimator=RandomForestRegressor(),\n",
       "                          n_features_to_select=&#x27;auto&#x27;, scoring=&#x27;r2&#x27;, tol=0.01)</pre></div></div></div><div class=\"sk-parallel\"><div class=\"sk-parallel-item\"><div class=\"sk-item\"><div class=\"sk-label-container\"><div class=\"sk-label sk-toggleable\"><input class=\"sk-toggleable__control sk-hidden--visually\" id=\"sk-estimator-id-40\" type=\"checkbox\" ><label for=\"sk-estimator-id-40\" class=\"sk-toggleable__label sk-toggleable__label-arrow\">estimator: RandomForestRegressor</label><div class=\"sk-toggleable__content\"><pre>RandomForestRegressor()</pre></div></div></div><div class=\"sk-serial\"><div class=\"sk-item\"><div class=\"sk-estimator sk-toggleable\"><input class=\"sk-toggleable__control sk-hidden--visually\" id=\"sk-estimator-id-41\" type=\"checkbox\" ><label for=\"sk-estimator-id-41\" class=\"sk-toggleable__label sk-toggleable__label-arrow\">RandomForestRegressor</label><div class=\"sk-toggleable__content\"><pre>RandomForestRegressor()</pre></div></div></div></div></div></div></div></div></div></div>"
      ],
      "text/plain": [
       "SequentialFeatureSelector(cv=2, estimator=RandomForestRegressor(),\n",
       "                          n_features_to_select='auto', scoring='r2', tol=0.01)"
      ]
     },
     "execution_count": 147,
     "metadata": {},
     "output_type": "execute_result"
    }
   ],
   "source": [
    "sfs.fit(x_train1,y_train)"
   ]
  },
  {
   "cell_type": "code",
   "execution_count": 148,
   "id": "93be00a0",
   "metadata": {},
   "outputs": [
    {
     "data": {
      "text/plain": [
       "array(['encoder__MSZoning', 'remainder__OverallQual',\n",
       "       'remainder__GarageCars'], dtype=object)"
      ]
     },
     "execution_count": 148,
     "metadata": {},
     "output_type": "execute_result"
    }
   ],
   "source": [
    "#these are the features \n",
    "sfs.get_feature_names_out()"
   ]
  },
  {
   "cell_type": "markdown",
   "id": "2eba6882",
   "metadata": {},
   "source": [
    "## 2. Backward Elimination"
   ]
  },
  {
   "cell_type": "code",
   "execution_count": 39,
   "id": "7b22a48f",
   "metadata": {},
   "outputs": [],
   "source": [
    "x_train1=x_train.copy()\n",
    "x_test1=x_test.copy()"
   ]
  },
  {
   "cell_type": "code",
   "execution_count": 44,
   "id": "b264e490",
   "metadata": {},
   "outputs": [],
   "source": [
    "#you can alson use tol \n",
    "sfs=SequentialFeatureSelector(estimator=RandomForestRegressor(),direction=\"backward\",scoring=\"r2\",cv=2,n_features_to_select=5).set_output(transform=\"pandas\")"
   ]
  },
  {
   "cell_type": "code",
   "execution_count": 45,
   "id": "2bcb5df0",
   "metadata": {},
   "outputs": [
    {
     "data": {
      "text/html": [
       "<div>\n",
       "<style scoped>\n",
       "    .dataframe tbody tr th:only-of-type {\n",
       "        vertical-align: middle;\n",
       "    }\n",
       "\n",
       "    .dataframe tbody tr th {\n",
       "        vertical-align: top;\n",
       "    }\n",
       "\n",
       "    .dataframe thead th {\n",
       "        text-align: right;\n",
       "    }\n",
       "</style>\n",
       "<table border=\"1\" class=\"dataframe\">\n",
       "  <thead>\n",
       "    <tr style=\"text-align: right;\">\n",
       "      <th></th>\n",
       "      <th>remainder__OverallQual</th>\n",
       "      <th>remainder__YearBuilt</th>\n",
       "      <th>remainder__1stFlrSF</th>\n",
       "      <th>remainder__2ndFlrSF</th>\n",
       "      <th>remainder__BsmtFullBath</th>\n",
       "    </tr>\n",
       "  </thead>\n",
       "  <tbody>\n",
       "    <tr>\n",
       "      <th>921</th>\n",
       "      <td>5.0</td>\n",
       "      <td>1900.0</td>\n",
       "      <td>1272.0</td>\n",
       "      <td>928.0</td>\n",
       "      <td>2.0</td>\n",
       "    </tr>\n",
       "    <tr>\n",
       "      <th>520</th>\n",
       "      <td>4.0</td>\n",
       "      <td>1900.0</td>\n",
       "      <td>694.0</td>\n",
       "      <td>600.0</td>\n",
       "      <td>0.0</td>\n",
       "    </tr>\n",
       "    <tr>\n",
       "      <th>401</th>\n",
       "      <td>7.0</td>\n",
       "      <td>2005.0</td>\n",
       "      <td>1310.0</td>\n",
       "      <td>0.0</td>\n",
       "      <td>0.0</td>\n",
       "    </tr>\n",
       "    <tr>\n",
       "      <th>280</th>\n",
       "      <td>7.0</td>\n",
       "      <td>1989.0</td>\n",
       "      <td>1175.0</td>\n",
       "      <td>807.0</td>\n",
       "      <td>0.0</td>\n",
       "    </tr>\n",
       "    <tr>\n",
       "      <th>1401</th>\n",
       "      <td>6.0</td>\n",
       "      <td>2004.0</td>\n",
       "      <td>864.0</td>\n",
       "      <td>729.0</td>\n",
       "      <td>1.0</td>\n",
       "    </tr>\n",
       "    <tr>\n",
       "      <th>...</th>\n",
       "      <td>...</td>\n",
       "      <td>...</td>\n",
       "      <td>...</td>\n",
       "      <td>...</td>\n",
       "      <td>...</td>\n",
       "    </tr>\n",
       "    <tr>\n",
       "      <th>715</th>\n",
       "      <td>6.0</td>\n",
       "      <td>1974.0</td>\n",
       "      <td>1350.0</td>\n",
       "      <td>0.0</td>\n",
       "      <td>0.0</td>\n",
       "    </tr>\n",
       "    <tr>\n",
       "      <th>905</th>\n",
       "      <td>5.0</td>\n",
       "      <td>1954.0</td>\n",
       "      <td>1063.0</td>\n",
       "      <td>0.0</td>\n",
       "      <td>1.0</td>\n",
       "    </tr>\n",
       "    <tr>\n",
       "      <th>1096</th>\n",
       "      <td>6.0</td>\n",
       "      <td>1914.0</td>\n",
       "      <td>773.0</td>\n",
       "      <td>582.0</td>\n",
       "      <td>0.0</td>\n",
       "    </tr>\n",
       "    <tr>\n",
       "      <th>235</th>\n",
       "      <td>6.0</td>\n",
       "      <td>1971.0</td>\n",
       "      <td>483.0</td>\n",
       "      <td>504.0</td>\n",
       "      <td>0.0</td>\n",
       "    </tr>\n",
       "    <tr>\n",
       "      <th>1061</th>\n",
       "      <td>3.0</td>\n",
       "      <td>1935.0</td>\n",
       "      <td>894.0</td>\n",
       "      <td>0.0</td>\n",
       "      <td>0.0</td>\n",
       "    </tr>\n",
       "  </tbody>\n",
       "</table>\n",
       "<p>1168 rows × 5 columns</p>\n",
       "</div>"
      ],
      "text/plain": [
       "      remainder__OverallQual  remainder__YearBuilt  remainder__1stFlrSF  \\\n",
       "921                      5.0                1900.0               1272.0   \n",
       "520                      4.0                1900.0                694.0   \n",
       "401                      7.0                2005.0               1310.0   \n",
       "280                      7.0                1989.0               1175.0   \n",
       "1401                     6.0                2004.0                864.0   \n",
       "...                      ...                   ...                  ...   \n",
       "715                      6.0                1974.0               1350.0   \n",
       "905                      5.0                1954.0               1063.0   \n",
       "1096                     6.0                1914.0                773.0   \n",
       "235                      6.0                1971.0                483.0   \n",
       "1061                     3.0                1935.0                894.0   \n",
       "\n",
       "      remainder__2ndFlrSF  remainder__BsmtFullBath  \n",
       "921                 928.0                      2.0  \n",
       "520                 600.0                      0.0  \n",
       "401                   0.0                      0.0  \n",
       "280                 807.0                      0.0  \n",
       "1401                729.0                      1.0  \n",
       "...                   ...                      ...  \n",
       "715                   0.0                      0.0  \n",
       "905                   0.0                      1.0  \n",
       "1096                582.0                      0.0  \n",
       "235                 504.0                      0.0  \n",
       "1061                  0.0                      0.0  \n",
       "\n",
       "[1168 rows x 5 columns]"
      ]
     },
     "execution_count": 45,
     "metadata": {},
     "output_type": "execute_result"
    }
   ],
   "source": [
    "sfs.fit_transform(x_train1,y_train)"
   ]
  },
  {
   "cell_type": "code",
   "execution_count": 46,
   "id": "557fab15",
   "metadata": {},
   "outputs": [
    {
     "data": {
      "text/html": [
       "<div>\n",
       "<style scoped>\n",
       "    .dataframe tbody tr th:only-of-type {\n",
       "        vertical-align: middle;\n",
       "    }\n",
       "\n",
       "    .dataframe tbody tr th {\n",
       "        vertical-align: top;\n",
       "    }\n",
       "\n",
       "    .dataframe thead th {\n",
       "        text-align: right;\n",
       "    }\n",
       "</style>\n",
       "<table border=\"1\" class=\"dataframe\">\n",
       "  <thead>\n",
       "    <tr style=\"text-align: right;\">\n",
       "      <th></th>\n",
       "      <th>remainder__OverallQual</th>\n",
       "      <th>remainder__YearBuilt</th>\n",
       "      <th>remainder__1stFlrSF</th>\n",
       "      <th>remainder__2ndFlrSF</th>\n",
       "      <th>remainder__BsmtFullBath</th>\n",
       "    </tr>\n",
       "  </thead>\n",
       "  <tbody>\n",
       "    <tr>\n",
       "      <th>258</th>\n",
       "      <td>7.0</td>\n",
       "      <td>2001.0</td>\n",
       "      <td>963.0</td>\n",
       "      <td>829.0</td>\n",
       "      <td>0.0</td>\n",
       "    </tr>\n",
       "    <tr>\n",
       "      <th>267</th>\n",
       "      <td>5.0</td>\n",
       "      <td>1939.0</td>\n",
       "      <td>1052.0</td>\n",
       "      <td>720.0</td>\n",
       "      <td>0.0</td>\n",
       "    </tr>\n",
       "    <tr>\n",
       "      <th>288</th>\n",
       "      <td>5.0</td>\n",
       "      <td>1967.0</td>\n",
       "      <td>900.0</td>\n",
       "      <td>0.0</td>\n",
       "      <td>0.0</td>\n",
       "    </tr>\n",
       "    <tr>\n",
       "      <th>649</th>\n",
       "      <td>4.0</td>\n",
       "      <td>1970.0</td>\n",
       "      <td>630.0</td>\n",
       "      <td>0.0</td>\n",
       "      <td>1.0</td>\n",
       "    </tr>\n",
       "    <tr>\n",
       "      <th>1233</th>\n",
       "      <td>5.0</td>\n",
       "      <td>1959.0</td>\n",
       "      <td>1188.0</td>\n",
       "      <td>0.0</td>\n",
       "      <td>1.0</td>\n",
       "    </tr>\n",
       "    <tr>\n",
       "      <th>...</th>\n",
       "      <td>...</td>\n",
       "      <td>...</td>\n",
       "      <td>...</td>\n",
       "      <td>...</td>\n",
       "      <td>...</td>\n",
       "    </tr>\n",
       "    <tr>\n",
       "      <th>163</th>\n",
       "      <td>4.0</td>\n",
       "      <td>1956.0</td>\n",
       "      <td>882.0</td>\n",
       "      <td>0.0</td>\n",
       "      <td>0.0</td>\n",
       "    </tr>\n",
       "    <tr>\n",
       "      <th>47</th>\n",
       "      <td>8.0</td>\n",
       "      <td>2006.0</td>\n",
       "      <td>1656.0</td>\n",
       "      <td>0.0</td>\n",
       "      <td>0.0</td>\n",
       "    </tr>\n",
       "    <tr>\n",
       "      <th>1432</th>\n",
       "      <td>4.0</td>\n",
       "      <td>1927.0</td>\n",
       "      <td>968.0</td>\n",
       "      <td>0.0</td>\n",
       "      <td>0.0</td>\n",
       "    </tr>\n",
       "    <tr>\n",
       "      <th>98</th>\n",
       "      <td>5.0</td>\n",
       "      <td>1920.0</td>\n",
       "      <td>835.0</td>\n",
       "      <td>0.0</td>\n",
       "      <td>0.0</td>\n",
       "    </tr>\n",
       "    <tr>\n",
       "      <th>409</th>\n",
       "      <td>8.0</td>\n",
       "      <td>2007.0</td>\n",
       "      <td>1050.0</td>\n",
       "      <td>1028.0</td>\n",
       "      <td>1.0</td>\n",
       "    </tr>\n",
       "  </tbody>\n",
       "</table>\n",
       "<p>292 rows × 5 columns</p>\n",
       "</div>"
      ],
      "text/plain": [
       "      remainder__OverallQual  remainder__YearBuilt  remainder__1stFlrSF  \\\n",
       "258                      7.0                2001.0                963.0   \n",
       "267                      5.0                1939.0               1052.0   \n",
       "288                      5.0                1967.0                900.0   \n",
       "649                      4.0                1970.0                630.0   \n",
       "1233                     5.0                1959.0               1188.0   \n",
       "...                      ...                   ...                  ...   \n",
       "163                      4.0                1956.0                882.0   \n",
       "47                       8.0                2006.0               1656.0   \n",
       "1432                     4.0                1927.0                968.0   \n",
       "98                       5.0                1920.0                835.0   \n",
       "409                      8.0                2007.0               1050.0   \n",
       "\n",
       "      remainder__2ndFlrSF  remainder__BsmtFullBath  \n",
       "258                 829.0                      0.0  \n",
       "267                 720.0                      0.0  \n",
       "288                   0.0                      0.0  \n",
       "649                   0.0                      1.0  \n",
       "1233                  0.0                      1.0  \n",
       "...                   ...                      ...  \n",
       "163                   0.0                      0.0  \n",
       "47                    0.0                      0.0  \n",
       "1432                  0.0                      0.0  \n",
       "98                    0.0                      0.0  \n",
       "409                1028.0                      1.0  \n",
       "\n",
       "[292 rows x 5 columns]"
      ]
     },
     "execution_count": 46,
     "metadata": {},
     "output_type": "execute_result"
    }
   ],
   "source": [
    "sfs.transform(x_test)"
   ]
  },
  {
   "cell_type": "code",
   "execution_count": 159,
   "id": "11a62b7f",
   "metadata": {},
   "outputs": [
    {
     "data": {
      "text/plain": [
       "array(['remainder__OverallQual', 'remainder__YearBuilt',\n",
       "       'remainder__1stFlrSF', 'remainder__2ndFlrSF',\n",
       "       'remainder__GarageCars'], dtype=object)"
      ]
     },
     "execution_count": 159,
     "metadata": {},
     "output_type": "execute_result"
    }
   ],
   "source": [
    "#these are the features \n",
    "sfs.get_feature_names_out()"
   ]
  },
  {
   "cell_type": "code",
   "execution_count": null,
   "id": "868820ad",
   "metadata": {},
   "outputs": [],
   "source": [
    "#In forward feature selection, tol determines the minimum improvement in score required to continue the selection process.\n",
    "#In backward feature selection, tol determines the maximum drop in score allowed during each iteration before the selection process stops."
   ]
  },
  {
   "cell_type": "markdown",
   "id": "fd96f314",
   "metadata": {},
   "source": [
    "## 3. Recusrsive Feature Elimination"
   ]
  },
  {
   "cell_type": "code",
   "execution_count": 181,
   "id": "4ce32a31",
   "metadata": {},
   "outputs": [],
   "source": [
    "x_train1=x_train.copy()\n",
    "x_test1=x_test.copy()"
   ]
  },
  {
   "cell_type": "code",
   "execution_count": 161,
   "id": "0c9d05c6",
   "metadata": {},
   "outputs": [],
   "source": [
    "from sklearn.feature_selection import RFE"
   ]
  },
  {
   "cell_type": "code",
   "execution_count": 162,
   "id": "03f340be",
   "metadata": {},
   "outputs": [],
   "source": [
    "rfe=RFE(estimator=RandomForestRegressor(),step=1,n_features_to_select=5)"
   ]
  },
  {
   "cell_type": "code",
   "execution_count": 163,
   "id": "4c51e293",
   "metadata": {},
   "outputs": [
    {
     "data": {
      "text/html": [
       "<style>#sk-container-id-17 {color: black;background-color: white;}#sk-container-id-17 pre{padding: 0;}#sk-container-id-17 div.sk-toggleable {background-color: white;}#sk-container-id-17 label.sk-toggleable__label {cursor: pointer;display: block;width: 100%;margin-bottom: 0;padding: 0.3em;box-sizing: border-box;text-align: center;}#sk-container-id-17 label.sk-toggleable__label-arrow:before {content: \"▸\";float: left;margin-right: 0.25em;color: #696969;}#sk-container-id-17 label.sk-toggleable__label-arrow:hover:before {color: black;}#sk-container-id-17 div.sk-estimator:hover label.sk-toggleable__label-arrow:before {color: black;}#sk-container-id-17 div.sk-toggleable__content {max-height: 0;max-width: 0;overflow: hidden;text-align: left;background-color: #f0f8ff;}#sk-container-id-17 div.sk-toggleable__content pre {margin: 0.2em;color: black;border-radius: 0.25em;background-color: #f0f8ff;}#sk-container-id-17 input.sk-toggleable__control:checked~div.sk-toggleable__content {max-height: 200px;max-width: 100%;overflow: auto;}#sk-container-id-17 input.sk-toggleable__control:checked~label.sk-toggleable__label-arrow:before {content: \"▾\";}#sk-container-id-17 div.sk-estimator input.sk-toggleable__control:checked~label.sk-toggleable__label {background-color: #d4ebff;}#sk-container-id-17 div.sk-label input.sk-toggleable__control:checked~label.sk-toggleable__label {background-color: #d4ebff;}#sk-container-id-17 input.sk-hidden--visually {border: 0;clip: rect(1px 1px 1px 1px);clip: rect(1px, 1px, 1px, 1px);height: 1px;margin: -1px;overflow: hidden;padding: 0;position: absolute;width: 1px;}#sk-container-id-17 div.sk-estimator {font-family: monospace;background-color: #f0f8ff;border: 1px dotted black;border-radius: 0.25em;box-sizing: border-box;margin-bottom: 0.5em;}#sk-container-id-17 div.sk-estimator:hover {background-color: #d4ebff;}#sk-container-id-17 div.sk-parallel-item::after {content: \"\";width: 100%;border-bottom: 1px solid gray;flex-grow: 1;}#sk-container-id-17 div.sk-label:hover label.sk-toggleable__label {background-color: #d4ebff;}#sk-container-id-17 div.sk-serial::before {content: \"\";position: absolute;border-left: 1px solid gray;box-sizing: border-box;top: 0;bottom: 0;left: 50%;z-index: 0;}#sk-container-id-17 div.sk-serial {display: flex;flex-direction: column;align-items: center;background-color: white;padding-right: 0.2em;padding-left: 0.2em;position: relative;}#sk-container-id-17 div.sk-item {position: relative;z-index: 1;}#sk-container-id-17 div.sk-parallel {display: flex;align-items: stretch;justify-content: center;background-color: white;position: relative;}#sk-container-id-17 div.sk-item::before, #sk-container-id-17 div.sk-parallel-item::before {content: \"\";position: absolute;border-left: 1px solid gray;box-sizing: border-box;top: 0;bottom: 0;left: 50%;z-index: -1;}#sk-container-id-17 div.sk-parallel-item {display: flex;flex-direction: column;z-index: 1;position: relative;background-color: white;}#sk-container-id-17 div.sk-parallel-item:first-child::after {align-self: flex-end;width: 50%;}#sk-container-id-17 div.sk-parallel-item:last-child::after {align-self: flex-start;width: 50%;}#sk-container-id-17 div.sk-parallel-item:only-child::after {width: 0;}#sk-container-id-17 div.sk-dashed-wrapped {border: 1px dashed gray;margin: 0 0.4em 0.5em 0.4em;box-sizing: border-box;padding-bottom: 0.4em;background-color: white;}#sk-container-id-17 div.sk-label label {font-family: monospace;font-weight: bold;display: inline-block;line-height: 1.2em;}#sk-container-id-17 div.sk-label-container {text-align: center;}#sk-container-id-17 div.sk-container {/* jupyter's `normalize.less` sets `[hidden] { display: none; }` but bootstrap.min.css set `[hidden] { display: none !important; }` so we also need the `!important` here to be able to override the default hidden behavior on the sphinx rendered scikit-learn.org. See: https://github.com/scikit-learn/scikit-learn/issues/21755 */display: inline-block !important;position: relative;}#sk-container-id-17 div.sk-text-repr-fallback {display: none;}</style><div id=\"sk-container-id-17\" class=\"sk-top-container\"><div class=\"sk-text-repr-fallback\"><pre>RFE(estimator=RandomForestRegressor(), n_features_to_select=5)</pre><b>In a Jupyter environment, please rerun this cell to show the HTML representation or trust the notebook. <br />On GitHub, the HTML representation is unable to render, please try loading this page with nbviewer.org.</b></div><div class=\"sk-container\" hidden><div class=\"sk-item sk-dashed-wrapped\"><div class=\"sk-label-container\"><div class=\"sk-label sk-toggleable\"><input class=\"sk-toggleable__control sk-hidden--visually\" id=\"sk-estimator-id-51\" type=\"checkbox\" ><label for=\"sk-estimator-id-51\" class=\"sk-toggleable__label sk-toggleable__label-arrow\">RFE</label><div class=\"sk-toggleable__content\"><pre>RFE(estimator=RandomForestRegressor(), n_features_to_select=5)</pre></div></div></div><div class=\"sk-parallel\"><div class=\"sk-parallel-item\"><div class=\"sk-item\"><div class=\"sk-label-container\"><div class=\"sk-label sk-toggleable\"><input class=\"sk-toggleable__control sk-hidden--visually\" id=\"sk-estimator-id-52\" type=\"checkbox\" ><label for=\"sk-estimator-id-52\" class=\"sk-toggleable__label sk-toggleable__label-arrow\">estimator: RandomForestRegressor</label><div class=\"sk-toggleable__content\"><pre>RandomForestRegressor()</pre></div></div></div><div class=\"sk-serial\"><div class=\"sk-item\"><div class=\"sk-estimator sk-toggleable\"><input class=\"sk-toggleable__control sk-hidden--visually\" id=\"sk-estimator-id-53\" type=\"checkbox\" ><label for=\"sk-estimator-id-53\" class=\"sk-toggleable__label sk-toggleable__label-arrow\">RandomForestRegressor</label><div class=\"sk-toggleable__content\"><pre>RandomForestRegressor()</pre></div></div></div></div></div></div></div></div></div></div>"
      ],
      "text/plain": [
       "RFE(estimator=RandomForestRegressor(), n_features_to_select=5)"
      ]
     },
     "execution_count": 163,
     "metadata": {},
     "output_type": "execute_result"
    }
   ],
   "source": [
    "rfe.fit(x_train1,y_train)"
   ]
  },
  {
   "cell_type": "code",
   "execution_count": 164,
   "id": "c8391073",
   "metadata": {},
   "outputs": [
    {
     "data": {
      "text/plain": [
       "array(['remainder__OverallQual', 'remainder__BsmtUnfSF',\n",
       "       'remainder__1stFlrSF', 'remainder__2ndFlrSF',\n",
       "       'remainder__GarageCars'], dtype=object)"
      ]
     },
     "execution_count": 164,
     "metadata": {},
     "output_type": "execute_result"
    }
   ],
   "source": [
    "rfe.get_feature_names_out()"
   ]
  },
  {
   "cell_type": "code",
   "execution_count": 192,
   "id": "40dd367b",
   "metadata": {},
   "outputs": [],
   "source": [
    "#recursive feature elimination with crossvalidation\n",
    "from sklearn.feature_selection import RFECV"
   ]
  },
  {
   "cell_type": "code",
   "execution_count": 196,
   "id": "ea05f45d",
   "metadata": {},
   "outputs": [],
   "source": [
    "rfecv=RFECV(estimator=RandomForestRegressor(),scoring=\"r2\",step=2,min_features_to_select=4,cv=2)"
   ]
  },
  {
   "cell_type": "code",
   "execution_count": 197,
   "id": "c310afb7",
   "metadata": {},
   "outputs": [
    {
     "data": {
      "text/html": [
       "<style>#sk-container-id-26 {color: black;background-color: white;}#sk-container-id-26 pre{padding: 0;}#sk-container-id-26 div.sk-toggleable {background-color: white;}#sk-container-id-26 label.sk-toggleable__label {cursor: pointer;display: block;width: 100%;margin-bottom: 0;padding: 0.3em;box-sizing: border-box;text-align: center;}#sk-container-id-26 label.sk-toggleable__label-arrow:before {content: \"▸\";float: left;margin-right: 0.25em;color: #696969;}#sk-container-id-26 label.sk-toggleable__label-arrow:hover:before {color: black;}#sk-container-id-26 div.sk-estimator:hover label.sk-toggleable__label-arrow:before {color: black;}#sk-container-id-26 div.sk-toggleable__content {max-height: 0;max-width: 0;overflow: hidden;text-align: left;background-color: #f0f8ff;}#sk-container-id-26 div.sk-toggleable__content pre {margin: 0.2em;color: black;border-radius: 0.25em;background-color: #f0f8ff;}#sk-container-id-26 input.sk-toggleable__control:checked~div.sk-toggleable__content {max-height: 200px;max-width: 100%;overflow: auto;}#sk-container-id-26 input.sk-toggleable__control:checked~label.sk-toggleable__label-arrow:before {content: \"▾\";}#sk-container-id-26 div.sk-estimator input.sk-toggleable__control:checked~label.sk-toggleable__label {background-color: #d4ebff;}#sk-container-id-26 div.sk-label input.sk-toggleable__control:checked~label.sk-toggleable__label {background-color: #d4ebff;}#sk-container-id-26 input.sk-hidden--visually {border: 0;clip: rect(1px 1px 1px 1px);clip: rect(1px, 1px, 1px, 1px);height: 1px;margin: -1px;overflow: hidden;padding: 0;position: absolute;width: 1px;}#sk-container-id-26 div.sk-estimator {font-family: monospace;background-color: #f0f8ff;border: 1px dotted black;border-radius: 0.25em;box-sizing: border-box;margin-bottom: 0.5em;}#sk-container-id-26 div.sk-estimator:hover {background-color: #d4ebff;}#sk-container-id-26 div.sk-parallel-item::after {content: \"\";width: 100%;border-bottom: 1px solid gray;flex-grow: 1;}#sk-container-id-26 div.sk-label:hover label.sk-toggleable__label {background-color: #d4ebff;}#sk-container-id-26 div.sk-serial::before {content: \"\";position: absolute;border-left: 1px solid gray;box-sizing: border-box;top: 0;bottom: 0;left: 50%;z-index: 0;}#sk-container-id-26 div.sk-serial {display: flex;flex-direction: column;align-items: center;background-color: white;padding-right: 0.2em;padding-left: 0.2em;position: relative;}#sk-container-id-26 div.sk-item {position: relative;z-index: 1;}#sk-container-id-26 div.sk-parallel {display: flex;align-items: stretch;justify-content: center;background-color: white;position: relative;}#sk-container-id-26 div.sk-item::before, #sk-container-id-26 div.sk-parallel-item::before {content: \"\";position: absolute;border-left: 1px solid gray;box-sizing: border-box;top: 0;bottom: 0;left: 50%;z-index: -1;}#sk-container-id-26 div.sk-parallel-item {display: flex;flex-direction: column;z-index: 1;position: relative;background-color: white;}#sk-container-id-26 div.sk-parallel-item:first-child::after {align-self: flex-end;width: 50%;}#sk-container-id-26 div.sk-parallel-item:last-child::after {align-self: flex-start;width: 50%;}#sk-container-id-26 div.sk-parallel-item:only-child::after {width: 0;}#sk-container-id-26 div.sk-dashed-wrapped {border: 1px dashed gray;margin: 0 0.4em 0.5em 0.4em;box-sizing: border-box;padding-bottom: 0.4em;background-color: white;}#sk-container-id-26 div.sk-label label {font-family: monospace;font-weight: bold;display: inline-block;line-height: 1.2em;}#sk-container-id-26 div.sk-label-container {text-align: center;}#sk-container-id-26 div.sk-container {/* jupyter's `normalize.less` sets `[hidden] { display: none; }` but bootstrap.min.css set `[hidden] { display: none !important; }` so we also need the `!important` here to be able to override the default hidden behavior on the sphinx rendered scikit-learn.org. See: https://github.com/scikit-learn/scikit-learn/issues/21755 */display: inline-block !important;position: relative;}#sk-container-id-26 div.sk-text-repr-fallback {display: none;}</style><div id=\"sk-container-id-26\" class=\"sk-top-container\"><div class=\"sk-text-repr-fallback\"><pre>RFECV(cv=2, estimator=RandomForestRegressor(), min_features_to_select=4,\n",
       "      scoring=&#x27;r2&#x27;, step=2)</pre><b>In a Jupyter environment, please rerun this cell to show the HTML representation or trust the notebook. <br />On GitHub, the HTML representation is unable to render, please try loading this page with nbviewer.org.</b></div><div class=\"sk-container\" hidden><div class=\"sk-item sk-dashed-wrapped\"><div class=\"sk-label-container\"><div class=\"sk-label sk-toggleable\"><input class=\"sk-toggleable__control sk-hidden--visually\" id=\"sk-estimator-id-78\" type=\"checkbox\" ><label for=\"sk-estimator-id-78\" class=\"sk-toggleable__label sk-toggleable__label-arrow\">RFECV</label><div class=\"sk-toggleable__content\"><pre>RFECV(cv=2, estimator=RandomForestRegressor(), min_features_to_select=4,\n",
       "      scoring=&#x27;r2&#x27;, step=2)</pre></div></div></div><div class=\"sk-parallel\"><div class=\"sk-parallel-item\"><div class=\"sk-item\"><div class=\"sk-label-container\"><div class=\"sk-label sk-toggleable\"><input class=\"sk-toggleable__control sk-hidden--visually\" id=\"sk-estimator-id-79\" type=\"checkbox\" ><label for=\"sk-estimator-id-79\" class=\"sk-toggleable__label sk-toggleable__label-arrow\">estimator: RandomForestRegressor</label><div class=\"sk-toggleable__content\"><pre>RandomForestRegressor()</pre></div></div></div><div class=\"sk-serial\"><div class=\"sk-item\"><div class=\"sk-estimator sk-toggleable\"><input class=\"sk-toggleable__control sk-hidden--visually\" id=\"sk-estimator-id-80\" type=\"checkbox\" ><label for=\"sk-estimator-id-80\" class=\"sk-toggleable__label sk-toggleable__label-arrow\">RandomForestRegressor</label><div class=\"sk-toggleable__content\"><pre>RandomForestRegressor()</pre></div></div></div></div></div></div></div></div></div></div>"
      ],
      "text/plain": [
       "RFECV(cv=2, estimator=RandomForestRegressor(), min_features_to_select=4,\n",
       "      scoring='r2', step=2)"
      ]
     },
     "execution_count": 197,
     "metadata": {},
     "output_type": "execute_result"
    }
   ],
   "source": [
    "rfecv.fit(x_train1,y_train)"
   ]
  },
  {
   "cell_type": "code",
   "execution_count": 198,
   "id": "6f5af7ea",
   "metadata": {},
   "outputs": [
    {
     "data": {
      "text/plain": [
       "array(['encoder__MSZoning', 'remainder__OverallQual',\n",
       "       'remainder__YearBuilt', 'remainder__BsmtUnfSF',\n",
       "       'remainder__1stFlrSF', 'remainder__2ndFlrSF',\n",
       "       'remainder__BsmtFullBath', 'remainder__FullBath',\n",
       "       'remainder__Fireplaces', 'remainder__GarageCars',\n",
       "       'remainder__WoodDeckSF', 'remainder__OpenPorchSF'], dtype=object)"
      ]
     },
     "execution_count": 198,
     "metadata": {},
     "output_type": "execute_result"
    }
   ],
   "source": [
    "rfecv.get_feature_names_out()"
   ]
  },
  {
   "cell_type": "markdown",
   "id": "4647a09f",
   "metadata": {},
   "source": [
    "#  Removing Constant/quasi constant Features using Variance Threshold"
   ]
  },
  {
   "cell_type": "code",
   "execution_count": 23,
   "id": "8fbe4d04",
   "metadata": {},
   "outputs": [],
   "source": [
    "x_train1=x_train.copy()\n",
    "x_test1=x_test.copy()"
   ]
  },
  {
   "cell_type": "code",
   "execution_count": 25,
   "id": "e45af5c3",
   "metadata": {},
   "outputs": [
    {
     "data": {
      "text/plain": [
       "(1168, 14)"
      ]
     },
     "execution_count": 25,
     "metadata": {},
     "output_type": "execute_result"
    }
   ],
   "source": [
    "x_train1.shape"
   ]
  },
  {
   "cell_type": "code",
   "execution_count": 13,
   "id": "3c8814cc",
   "metadata": {},
   "outputs": [],
   "source": [
    "from sklearn.feature_selection import VarianceThreshold"
   ]
  },
  {
   "cell_type": "code",
   "execution_count": 36,
   "id": "1fb72786",
   "metadata": {},
   "outputs": [],
   "source": [
    "#default threshold for variance is 0 means it is constant \n",
    "#but u can set threshold to remove low variance features/quasi constant features\n",
    "#these constant/quasi constant features  doesnt convey any/much information\n",
    "#here i am removing all the features which are having variance <1\n",
    "vt=VarianceThreshold(threshold=1).set_output(transform=\"pandas\")"
   ]
  },
  {
   "cell_type": "code",
   "execution_count": 37,
   "id": "9a2e051c",
   "metadata": {},
   "outputs": [
    {
     "data": {
      "text/html": [
       "<div>\n",
       "<style scoped>\n",
       "    .dataframe tbody tr th:only-of-type {\n",
       "        vertical-align: middle;\n",
       "    }\n",
       "\n",
       "    .dataframe tbody tr th {\n",
       "        vertical-align: top;\n",
       "    }\n",
       "\n",
       "    .dataframe thead th {\n",
       "        text-align: right;\n",
       "    }\n",
       "</style>\n",
       "<table border=\"1\" class=\"dataframe\">\n",
       "  <thead>\n",
       "    <tr style=\"text-align: right;\">\n",
       "      <th></th>\n",
       "      <th>encoder__LotShape</th>\n",
       "      <th>remainder__OverallQual</th>\n",
       "      <th>remainder__YearBuilt</th>\n",
       "      <th>remainder__BsmtUnfSF</th>\n",
       "      <th>remainder__1stFlrSF</th>\n",
       "      <th>remainder__2ndFlrSF</th>\n",
       "      <th>remainder__WoodDeckSF</th>\n",
       "      <th>remainder__OpenPorchSF</th>\n",
       "    </tr>\n",
       "  </thead>\n",
       "  <tbody>\n",
       "    <tr>\n",
       "      <th>921</th>\n",
       "      <td>3.0</td>\n",
       "      <td>5.0</td>\n",
       "      <td>1900.0</td>\n",
       "      <td>188.0</td>\n",
       "      <td>1272.0</td>\n",
       "      <td>928.0</td>\n",
       "      <td>0.0</td>\n",
       "      <td>70.0</td>\n",
       "    </tr>\n",
       "    <tr>\n",
       "      <th>520</th>\n",
       "      <td>3.0</td>\n",
       "      <td>4.0</td>\n",
       "      <td>1900.0</td>\n",
       "      <td>0.0</td>\n",
       "      <td>694.0</td>\n",
       "      <td>600.0</td>\n",
       "      <td>220.0</td>\n",
       "      <td>114.0</td>\n",
       "    </tr>\n",
       "    <tr>\n",
       "      <th>401</th>\n",
       "      <td>0.0</td>\n",
       "      <td>7.0</td>\n",
       "      <td>2005.0</td>\n",
       "      <td>1286.0</td>\n",
       "      <td>1310.0</td>\n",
       "      <td>0.0</td>\n",
       "      <td>0.0</td>\n",
       "      <td>0.0</td>\n",
       "    </tr>\n",
       "    <tr>\n",
       "      <th>280</th>\n",
       "      <td>3.0</td>\n",
       "      <td>7.0</td>\n",
       "      <td>1989.0</td>\n",
       "      <td>386.0</td>\n",
       "      <td>1175.0</td>\n",
       "      <td>807.0</td>\n",
       "      <td>0.0</td>\n",
       "      <td>84.0</td>\n",
       "    </tr>\n",
       "    <tr>\n",
       "      <th>1401</th>\n",
       "      <td>0.0</td>\n",
       "      <td>6.0</td>\n",
       "      <td>2004.0</td>\n",
       "      <td>80.0</td>\n",
       "      <td>864.0</td>\n",
       "      <td>729.0</td>\n",
       "      <td>100.0</td>\n",
       "      <td>75.0</td>\n",
       "    </tr>\n",
       "    <tr>\n",
       "      <th>...</th>\n",
       "      <td>...</td>\n",
       "      <td>...</td>\n",
       "      <td>...</td>\n",
       "      <td>...</td>\n",
       "      <td>...</td>\n",
       "      <td>...</td>\n",
       "      <td>...</td>\n",
       "      <td>...</td>\n",
       "    </tr>\n",
       "    <tr>\n",
       "      <th>715</th>\n",
       "      <td>3.0</td>\n",
       "      <td>6.0</td>\n",
       "      <td>1974.0</td>\n",
       "      <td>1064.0</td>\n",
       "      <td>1350.0</td>\n",
       "      <td>0.0</td>\n",
       "      <td>0.0</td>\n",
       "      <td>0.0</td>\n",
       "    </tr>\n",
       "    <tr>\n",
       "      <th>905</th>\n",
       "      <td>3.0</td>\n",
       "      <td>5.0</td>\n",
       "      <td>1954.0</td>\n",
       "      <td>412.0</td>\n",
       "      <td>1063.0</td>\n",
       "      <td>0.0</td>\n",
       "      <td>0.0</td>\n",
       "      <td>0.0</td>\n",
       "    </tr>\n",
       "    <tr>\n",
       "      <th>1096</th>\n",
       "      <td>3.0</td>\n",
       "      <td>6.0</td>\n",
       "      <td>1914.0</td>\n",
       "      <td>684.0</td>\n",
       "      <td>773.0</td>\n",
       "      <td>582.0</td>\n",
       "      <td>136.0</td>\n",
       "      <td>0.0</td>\n",
       "    </tr>\n",
       "    <tr>\n",
       "      <th>235</th>\n",
       "      <td>3.0</td>\n",
       "      <td>6.0</td>\n",
       "      <td>1971.0</td>\n",
       "      <td>125.0</td>\n",
       "      <td>483.0</td>\n",
       "      <td>504.0</td>\n",
       "      <td>0.0</td>\n",
       "      <td>0.0</td>\n",
       "    </tr>\n",
       "    <tr>\n",
       "      <th>1061</th>\n",
       "      <td>3.0</td>\n",
       "      <td>3.0</td>\n",
       "      <td>1935.0</td>\n",
       "      <td>894.0</td>\n",
       "      <td>894.0</td>\n",
       "      <td>0.0</td>\n",
       "      <td>0.0</td>\n",
       "      <td>20.0</td>\n",
       "    </tr>\n",
       "  </tbody>\n",
       "</table>\n",
       "<p>1168 rows × 8 columns</p>\n",
       "</div>"
      ],
      "text/plain": [
       "      encoder__LotShape  remainder__OverallQual  remainder__YearBuilt  \\\n",
       "921                 3.0                     5.0                1900.0   \n",
       "520                 3.0                     4.0                1900.0   \n",
       "401                 0.0                     7.0                2005.0   \n",
       "280                 3.0                     7.0                1989.0   \n",
       "1401                0.0                     6.0                2004.0   \n",
       "...                 ...                     ...                   ...   \n",
       "715                 3.0                     6.0                1974.0   \n",
       "905                 3.0                     5.0                1954.0   \n",
       "1096                3.0                     6.0                1914.0   \n",
       "235                 3.0                     6.0                1971.0   \n",
       "1061                3.0                     3.0                1935.0   \n",
       "\n",
       "      remainder__BsmtUnfSF  remainder__1stFlrSF  remainder__2ndFlrSF  \\\n",
       "921                  188.0               1272.0                928.0   \n",
       "520                    0.0                694.0                600.0   \n",
       "401                 1286.0               1310.0                  0.0   \n",
       "280                  386.0               1175.0                807.0   \n",
       "1401                  80.0                864.0                729.0   \n",
       "...                    ...                  ...                  ...   \n",
       "715                 1064.0               1350.0                  0.0   \n",
       "905                  412.0               1063.0                  0.0   \n",
       "1096                 684.0                773.0                582.0   \n",
       "235                  125.0                483.0                504.0   \n",
       "1061                 894.0                894.0                  0.0   \n",
       "\n",
       "      remainder__WoodDeckSF  remainder__OpenPorchSF  \n",
       "921                     0.0                    70.0  \n",
       "520                   220.0                   114.0  \n",
       "401                     0.0                     0.0  \n",
       "280                     0.0                    84.0  \n",
       "1401                  100.0                    75.0  \n",
       "...                     ...                     ...  \n",
       "715                     0.0                     0.0  \n",
       "905                     0.0                     0.0  \n",
       "1096                  136.0                     0.0  \n",
       "235                     0.0                     0.0  \n",
       "1061                    0.0                    20.0  \n",
       "\n",
       "[1168 rows x 8 columns]"
      ]
     },
     "execution_count": 37,
     "metadata": {},
     "output_type": "execute_result"
    }
   ],
   "source": [
    "vt.fit_transform(x_train1)"
   ]
  },
  {
   "cell_type": "code",
   "execution_count": null,
   "id": "9e4d0b65",
   "metadata": {},
   "outputs": [],
   "source": [
    "#6 columns are removed which are having variance less than 1"
   ]
  },
  {
   "cell_type": "code",
   "execution_count": 35,
   "id": "9ff46e43",
   "metadata": {},
   "outputs": [
    {
     "name": "stdout",
     "output_type": "stream",
     "text": [
      "encoder__MSZoning : 0.37653552018406444\n",
      "--------------------\n",
      "encoder__Street : 0.002564091277247574\n",
      "--------------------\n",
      "encoder__LotShape : 2.015435902853581\n",
      "--------------------\n",
      "remainder__OverallQual : 1.8765179126903233\n",
      "--------------------\n",
      "remainder__YearBuilt : 917.5980678710235\n",
      "--------------------\n",
      "remainder__BsmtUnfSF : 201280.30671006936\n",
      "--------------------\n",
      "remainder__1stFlrSF : 156390.54111276436\n",
      "--------------------\n",
      "remainder__2ndFlrSF : 188592.2129971181\n",
      "--------------------\n",
      "remainder__BsmtFullBath : 0.27201156812339333\n",
      "--------------------\n",
      "remainder__FullBath : 0.29816529915131595\n",
      "--------------------\n",
      "remainder__Fireplaces : 0.42092474557171516\n",
      "--------------------\n",
      "remainder__GarageCars : 0.5396572114425277\n",
      "--------------------\n",
      "remainder__WoodDeckSF : 14923.550409520842\n",
      "--------------------\n",
      "remainder__OpenPorchSF : 4583.218872151955\n",
      "--------------------\n"
     ]
    }
   ],
   "source": [
    "#lets see the proof for this by checking variance of all columns\n",
    "for i in x_train1.columns:\n",
    "    print(i,\":\",x_train1[i].var())\n",
    "    print(\"-\"*20)"
   ]
  },
  {
   "cell_type": "code",
   "execution_count": 38,
   "id": "b7b2b455",
   "metadata": {},
   "outputs": [
    {
     "data": {
      "text/html": [
       "<div>\n",
       "<style scoped>\n",
       "    .dataframe tbody tr th:only-of-type {\n",
       "        vertical-align: middle;\n",
       "    }\n",
       "\n",
       "    .dataframe tbody tr th {\n",
       "        vertical-align: top;\n",
       "    }\n",
       "\n",
       "    .dataframe thead th {\n",
       "        text-align: right;\n",
       "    }\n",
       "</style>\n",
       "<table border=\"1\" class=\"dataframe\">\n",
       "  <thead>\n",
       "    <tr style=\"text-align: right;\">\n",
       "      <th></th>\n",
       "      <th>encoder__LotShape</th>\n",
       "      <th>remainder__OverallQual</th>\n",
       "      <th>remainder__YearBuilt</th>\n",
       "      <th>remainder__BsmtUnfSF</th>\n",
       "      <th>remainder__1stFlrSF</th>\n",
       "      <th>remainder__2ndFlrSF</th>\n",
       "      <th>remainder__WoodDeckSF</th>\n",
       "      <th>remainder__OpenPorchSF</th>\n",
       "    </tr>\n",
       "  </thead>\n",
       "  <tbody>\n",
       "    <tr>\n",
       "      <th>258</th>\n",
       "      <td>3.0</td>\n",
       "      <td>7.0</td>\n",
       "      <td>2001.0</td>\n",
       "      <td>602.0</td>\n",
       "      <td>963.0</td>\n",
       "      <td>829.0</td>\n",
       "      <td>0.0</td>\n",
       "      <td>96.0</td>\n",
       "    </tr>\n",
       "    <tr>\n",
       "      <th>267</th>\n",
       "      <td>3.0</td>\n",
       "      <td>5.0</td>\n",
       "      <td>1939.0</td>\n",
       "      <td>342.0</td>\n",
       "      <td>1052.0</td>\n",
       "      <td>720.0</td>\n",
       "      <td>262.0</td>\n",
       "      <td>24.0</td>\n",
       "    </tr>\n",
       "    <tr>\n",
       "      <th>288</th>\n",
       "      <td>0.0</td>\n",
       "      <td>5.0</td>\n",
       "      <td>1967.0</td>\n",
       "      <td>432.0</td>\n",
       "      <td>900.0</td>\n",
       "      <td>0.0</td>\n",
       "      <td>0.0</td>\n",
       "      <td>0.0</td>\n",
       "    </tr>\n",
       "    <tr>\n",
       "      <th>649</th>\n",
       "      <td>3.0</td>\n",
       "      <td>4.0</td>\n",
       "      <td>1970.0</td>\n",
       "      <td>0.0</td>\n",
       "      <td>630.0</td>\n",
       "      <td>0.0</td>\n",
       "      <td>0.0</td>\n",
       "      <td>0.0</td>\n",
       "    </tr>\n",
       "    <tr>\n",
       "      <th>1233</th>\n",
       "      <td>0.0</td>\n",
       "      <td>5.0</td>\n",
       "      <td>1959.0</td>\n",
       "      <td>188.0</td>\n",
       "      <td>1188.0</td>\n",
       "      <td>0.0</td>\n",
       "      <td>0.0</td>\n",
       "      <td>0.0</td>\n",
       "    </tr>\n",
       "    <tr>\n",
       "      <th>...</th>\n",
       "      <td>...</td>\n",
       "      <td>...</td>\n",
       "      <td>...</td>\n",
       "      <td>...</td>\n",
       "      <td>...</td>\n",
       "      <td>...</td>\n",
       "      <td>...</td>\n",
       "      <td>...</td>\n",
       "    </tr>\n",
       "    <tr>\n",
       "      <th>163</th>\n",
       "      <td>3.0</td>\n",
       "      <td>4.0</td>\n",
       "      <td>1956.0</td>\n",
       "      <td>882.0</td>\n",
       "      <td>882.0</td>\n",
       "      <td>0.0</td>\n",
       "      <td>0.0</td>\n",
       "      <td>0.0</td>\n",
       "    </tr>\n",
       "    <tr>\n",
       "      <th>47</th>\n",
       "      <td>3.0</td>\n",
       "      <td>8.0</td>\n",
       "      <td>2006.0</td>\n",
       "      <td>1632.0</td>\n",
       "      <td>1656.0</td>\n",
       "      <td>0.0</td>\n",
       "      <td>0.0</td>\n",
       "      <td>146.0</td>\n",
       "    </tr>\n",
       "    <tr>\n",
       "      <th>1432</th>\n",
       "      <td>3.0</td>\n",
       "      <td>4.0</td>\n",
       "      <td>1927.0</td>\n",
       "      <td>656.0</td>\n",
       "      <td>968.0</td>\n",
       "      <td>0.0</td>\n",
       "      <td>0.0</td>\n",
       "      <td>0.0</td>\n",
       "    </tr>\n",
       "    <tr>\n",
       "      <th>98</th>\n",
       "      <td>3.0</td>\n",
       "      <td>5.0</td>\n",
       "      <td>1920.0</td>\n",
       "      <td>350.0</td>\n",
       "      <td>835.0</td>\n",
       "      <td>0.0</td>\n",
       "      <td>0.0</td>\n",
       "      <td>0.0</td>\n",
       "    </tr>\n",
       "    <tr>\n",
       "      <th>409</th>\n",
       "      <td>3.0</td>\n",
       "      <td>8.0</td>\n",
       "      <td>2007.0</td>\n",
       "      <td>245.0</td>\n",
       "      <td>1050.0</td>\n",
       "      <td>1028.0</td>\n",
       "      <td>0.0</td>\n",
       "      <td>102.0</td>\n",
       "    </tr>\n",
       "  </tbody>\n",
       "</table>\n",
       "<p>292 rows × 8 columns</p>\n",
       "</div>"
      ],
      "text/plain": [
       "      encoder__LotShape  remainder__OverallQual  remainder__YearBuilt  \\\n",
       "258                 3.0                     7.0                2001.0   \n",
       "267                 3.0                     5.0                1939.0   \n",
       "288                 0.0                     5.0                1967.0   \n",
       "649                 3.0                     4.0                1970.0   \n",
       "1233                0.0                     5.0                1959.0   \n",
       "...                 ...                     ...                   ...   \n",
       "163                 3.0                     4.0                1956.0   \n",
       "47                  3.0                     8.0                2006.0   \n",
       "1432                3.0                     4.0                1927.0   \n",
       "98                  3.0                     5.0                1920.0   \n",
       "409                 3.0                     8.0                2007.0   \n",
       "\n",
       "      remainder__BsmtUnfSF  remainder__1stFlrSF  remainder__2ndFlrSF  \\\n",
       "258                  602.0                963.0                829.0   \n",
       "267                  342.0               1052.0                720.0   \n",
       "288                  432.0                900.0                  0.0   \n",
       "649                    0.0                630.0                  0.0   \n",
       "1233                 188.0               1188.0                  0.0   \n",
       "...                    ...                  ...                  ...   \n",
       "163                  882.0                882.0                  0.0   \n",
       "47                  1632.0               1656.0                  0.0   \n",
       "1432                 656.0                968.0                  0.0   \n",
       "98                   350.0                835.0                  0.0   \n",
       "409                  245.0               1050.0               1028.0   \n",
       "\n",
       "      remainder__WoodDeckSF  remainder__OpenPorchSF  \n",
       "258                     0.0                    96.0  \n",
       "267                   262.0                    24.0  \n",
       "288                     0.0                     0.0  \n",
       "649                     0.0                     0.0  \n",
       "1233                    0.0                     0.0  \n",
       "...                     ...                     ...  \n",
       "163                     0.0                     0.0  \n",
       "47                      0.0                   146.0  \n",
       "1432                    0.0                     0.0  \n",
       "98                      0.0                     0.0  \n",
       "409                     0.0                   102.0  \n",
       "\n",
       "[292 rows x 8 columns]"
      ]
     },
     "execution_count": 38,
     "metadata": {},
     "output_type": "execute_result"
    }
   ],
   "source": [
    "vt.transform(x_test)"
   ]
  },
  {
   "cell_type": "markdown",
   "id": "44118e21",
   "metadata": {},
   "source": [
    "# Based on Feature Importance"
   ]
  },
  {
   "cell_type": "code",
   "execution_count": 16,
   "id": "4884e674",
   "metadata": {},
   "outputs": [],
   "source": [
    "#before finding feature importance it is important to scale the features in linear models"
   ]
  },
  {
   "cell_type": "code",
   "execution_count": 17,
   "id": "d83ab6f8",
   "metadata": {},
   "outputs": [],
   "source": [
    "from sklearn.preprocessing import StandardScaler"
   ]
  },
  {
   "cell_type": "code",
   "execution_count": 20,
   "id": "f949e6d2",
   "metadata": {},
   "outputs": [],
   "source": [
    "scaler=StandardScaler().set_output(transform=\"pandas\")"
   ]
  },
  {
   "cell_type": "code",
   "execution_count": 51,
   "id": "6b2c8f1d",
   "metadata": {},
   "outputs": [],
   "source": [
    "x_train1=x_train.copy()\n",
    "x_test1=x_test.copy()"
   ]
  },
  {
   "cell_type": "code",
   "execution_count": 52,
   "id": "37cf2756",
   "metadata": {},
   "outputs": [],
   "source": [
    "x_train1=scaler.fit_transform(x_train1)\n",
    "x_test1=scaler.transform(x_test1)"
   ]
  },
  {
   "cell_type": "code",
   "execution_count": 44,
   "id": "6d9e1779",
   "metadata": {},
   "outputs": [],
   "source": [
    "x_train2=x_train1.copy()\n",
    "x_test2=x_test1.copy()"
   ]
  },
  {
   "cell_type": "markdown",
   "id": "d550d371",
   "metadata": {},
   "source": [
    "###  Linear Models"
   ]
  },
  {
   "cell_type": "code",
   "execution_count": 1,
   "id": "89f41255",
   "metadata": {},
   "outputs": [],
   "source": [
    "from sklearn.feature_selection import SelectFromModel"
   ]
  },
  {
   "cell_type": "code",
   "execution_count": 50,
   "id": "8065c3f9",
   "metadata": {},
   "outputs": [],
   "source": [
    "from sklearn.linear_model import LinearRegression"
   ]
  },
  {
   "cell_type": "code",
   "execution_count": 55,
   "id": "e23d3818",
   "metadata": {},
   "outputs": [],
   "source": [
    "sfm=SelectFromModel(LinearRegression()).set_output(transform=\"pandas\")"
   ]
  },
  {
   "cell_type": "code",
   "execution_count": 56,
   "id": "a1c28b3d",
   "metadata": {},
   "outputs": [
    {
     "data": {
      "text/html": [
       "<div>\n",
       "<style scoped>\n",
       "    .dataframe tbody tr th:only-of-type {\n",
       "        vertical-align: middle;\n",
       "    }\n",
       "\n",
       "    .dataframe tbody tr th {\n",
       "        vertical-align: top;\n",
       "    }\n",
       "\n",
       "    .dataframe thead th {\n",
       "        text-align: right;\n",
       "    }\n",
       "</style>\n",
       "<table border=\"1\" class=\"dataframe\">\n",
       "  <thead>\n",
       "    <tr style=\"text-align: right;\">\n",
       "      <th></th>\n",
       "      <th>remainder__OverallQual</th>\n",
       "      <th>remainder__1stFlrSF</th>\n",
       "      <th>remainder__2ndFlrSF</th>\n",
       "      <th>remainder__GarageCars</th>\n",
       "    </tr>\n",
       "  </thead>\n",
       "  <tbody>\n",
       "    <tr>\n",
       "      <th>921</th>\n",
       "      <td>-0.828481</td>\n",
       "      <td>0.242214</td>\n",
       "      <td>1.353929</td>\n",
       "      <td>-2.417038</td>\n",
       "    </tr>\n",
       "    <tr>\n",
       "      <th>520</th>\n",
       "      <td>-1.558795</td>\n",
       "      <td>-1.219992</td>\n",
       "      <td>0.598318</td>\n",
       "      <td>-2.417038</td>\n",
       "    </tr>\n",
       "    <tr>\n",
       "      <th>401</th>\n",
       "      <td>0.632147</td>\n",
       "      <td>0.338346</td>\n",
       "      <td>-0.783896</td>\n",
       "      <td>0.306648</td>\n",
       "    </tr>\n",
       "    <tr>\n",
       "      <th>280</th>\n",
       "      <td>0.632147</td>\n",
       "      <td>-0.003173</td>\n",
       "      <td>1.075182</td>\n",
       "      <td>0.306648</td>\n",
       "    </tr>\n",
       "    <tr>\n",
       "      <th>1401</th>\n",
       "      <td>-0.098167</td>\n",
       "      <td>-0.789931</td>\n",
       "      <td>0.895495</td>\n",
       "      <td>0.306648</td>\n",
       "    </tr>\n",
       "    <tr>\n",
       "      <th>...</th>\n",
       "      <td>...</td>\n",
       "      <td>...</td>\n",
       "      <td>...</td>\n",
       "      <td>...</td>\n",
       "    </tr>\n",
       "    <tr>\n",
       "      <th>715</th>\n",
       "      <td>-0.098167</td>\n",
       "      <td>0.439536</td>\n",
       "      <td>-0.783896</td>\n",
       "      <td>0.306648</td>\n",
       "    </tr>\n",
       "    <tr>\n",
       "      <th>905</th>\n",
       "      <td>-0.828481</td>\n",
       "      <td>-0.286507</td>\n",
       "      <td>-0.783896</td>\n",
       "      <td>-1.055195</td>\n",
       "    </tr>\n",
       "    <tr>\n",
       "      <th>1096</th>\n",
       "      <td>-0.098167</td>\n",
       "      <td>-1.020140</td>\n",
       "      <td>0.556852</td>\n",
       "      <td>-2.417038</td>\n",
       "    </tr>\n",
       "    <tr>\n",
       "      <th>235</th>\n",
       "      <td>-0.098167</td>\n",
       "      <td>-1.753773</td>\n",
       "      <td>0.377164</td>\n",
       "      <td>-1.055195</td>\n",
       "    </tr>\n",
       "    <tr>\n",
       "      <th>1061</th>\n",
       "      <td>-2.289109</td>\n",
       "      <td>-0.714038</td>\n",
       "      <td>-0.783896</td>\n",
       "      <td>1.668491</td>\n",
       "    </tr>\n",
       "  </tbody>\n",
       "</table>\n",
       "<p>1168 rows × 4 columns</p>\n",
       "</div>"
      ],
      "text/plain": [
       "      remainder__OverallQual  remainder__1stFlrSF  remainder__2ndFlrSF  \\\n",
       "921                -0.828481             0.242214             1.353929   \n",
       "520                -1.558795            -1.219992             0.598318   \n",
       "401                 0.632147             0.338346            -0.783896   \n",
       "280                 0.632147            -0.003173             1.075182   \n",
       "1401               -0.098167            -0.789931             0.895495   \n",
       "...                      ...                  ...                  ...   \n",
       "715                -0.098167             0.439536            -0.783896   \n",
       "905                -0.828481            -0.286507            -0.783896   \n",
       "1096               -0.098167            -1.020140             0.556852   \n",
       "235                -0.098167            -1.753773             0.377164   \n",
       "1061               -2.289109            -0.714038            -0.783896   \n",
       "\n",
       "      remainder__GarageCars  \n",
       "921               -2.417038  \n",
       "520               -2.417038  \n",
       "401                0.306648  \n",
       "280                0.306648  \n",
       "1401               0.306648  \n",
       "...                     ...  \n",
       "715                0.306648  \n",
       "905               -1.055195  \n",
       "1096              -2.417038  \n",
       "235               -1.055195  \n",
       "1061               1.668491  \n",
       "\n",
       "[1168 rows x 4 columns]"
      ]
     },
     "execution_count": 56,
     "metadata": {},
     "output_type": "execute_result"
    }
   ],
   "source": [
    "sfm.fit_transform(x_train1,y_train)"
   ]
  },
  {
   "cell_type": "code",
   "execution_count": 37,
   "id": "c313c75b",
   "metadata": {},
   "outputs": [
    {
     "data": {
      "text/plain": [
       "array([-1715.9891723 ,   313.98552725, -3177.01917119, 30568.08763755,\n",
       "        7016.97920151, -1662.03318376, 24810.73484102, 16306.18301917,\n",
       "        5456.87544493,   238.12343523,  3995.2208242 , 10991.13527187,\n",
       "        4739.36108884,  1491.38624437])"
      ]
     },
     "execution_count": 37,
     "metadata": {},
     "output_type": "execute_result"
    }
   ],
   "source": [
    "sfm.estimator_.coef_"
   ]
  },
  {
   "cell_type": "code",
   "execution_count": 38,
   "id": "2354614e",
   "metadata": {},
   "outputs": [
    {
     "data": {
      "text/plain": [
       "array(['encoder__MSZoning', 'encoder__Street', 'encoder__LotShape',\n",
       "       'remainder__OverallQual', 'remainder__YearBuilt',\n",
       "       'remainder__BsmtUnfSF', 'remainder__1stFlrSF',\n",
       "       'remainder__2ndFlrSF', 'remainder__BsmtFullBath',\n",
       "       'remainder__FullBath', 'remainder__Fireplaces',\n",
       "       'remainder__GarageCars', 'remainder__WoodDeckSF',\n",
       "       'remainder__OpenPorchSF'], dtype=object)"
      ]
     },
     "execution_count": 38,
     "metadata": {},
     "output_type": "execute_result"
    }
   ],
   "source": [
    "sfm.estimator_.feature_names_in_"
   ]
  },
  {
   "cell_type": "code",
   "execution_count": 39,
   "id": "bf9ff725",
   "metadata": {},
   "outputs": [
    {
     "data": {
      "text/plain": [
       "182208.341609589"
      ]
     },
     "execution_count": 39,
     "metadata": {},
     "output_type": "execute_result"
    }
   ],
   "source": [
    "sfm.estimator_.intercept_"
   ]
  },
  {
   "cell_type": "code",
   "execution_count": 59,
   "id": "9296736d",
   "metadata": {},
   "outputs": [],
   "source": [
    "#now lets train the model and check its coefficients\n",
    "model=LinearRegression().fit(x_train1,y_train)"
   ]
  },
  {
   "cell_type": "code",
   "execution_count": 60,
   "id": "2f55b5d2",
   "metadata": {},
   "outputs": [
    {
     "data": {
      "text/plain": [
       "array([-1715.9891723 ,   313.98552725, -3177.01917119, 30568.08763755,\n",
       "        7016.97920151, -1662.03318376, 24810.73484102, 16306.18301917,\n",
       "        5456.87544493,   238.12343523,  3995.2208242 , 10991.13527187,\n",
       "        4739.36108884,  1491.38624437])"
      ]
     },
     "execution_count": 60,
     "metadata": {},
     "output_type": "execute_result"
    }
   ],
   "source": [
    "model.coef_"
   ]
  },
  {
   "cell_type": "code",
   "execution_count": 47,
   "id": "d36b09fb",
   "metadata": {},
   "outputs": [
    {
     "data": {
      "text/plain": [
       "182208.341609589"
      ]
     },
     "execution_count": 47,
     "metadata": {},
     "output_type": "execute_result"
    }
   ],
   "source": [
    "model.intercept_"
   ]
  },
  {
   "cell_type": "code",
   "execution_count": null,
   "id": "dab56a95",
   "metadata": {},
   "outputs": [],
   "source": [
    "#so we can see what the above select from model is doing is that it fits the estimator on training data and \n",
    "#it finds the coefficients and by defualt it selects features whose coefficient is greater than average. "
   ]
  },
  {
   "cell_type": "code",
   "execution_count": 57,
   "id": "d4829cd8",
   "metadata": {},
   "outputs": [
    {
     "data": {
      "text/html": [
       "<div>\n",
       "<style scoped>\n",
       "    .dataframe tbody tr th:only-of-type {\n",
       "        vertical-align: middle;\n",
       "    }\n",
       "\n",
       "    .dataframe tbody tr th {\n",
       "        vertical-align: top;\n",
       "    }\n",
       "\n",
       "    .dataframe thead th {\n",
       "        text-align: right;\n",
       "    }\n",
       "</style>\n",
       "<table border=\"1\" class=\"dataframe\">\n",
       "  <thead>\n",
       "    <tr style=\"text-align: right;\">\n",
       "      <th></th>\n",
       "      <th>remainder__OverallQual</th>\n",
       "      <th>remainder__1stFlrSF</th>\n",
       "    </tr>\n",
       "  </thead>\n",
       "  <tbody>\n",
       "    <tr>\n",
       "      <th>921</th>\n",
       "      <td>-0.828481</td>\n",
       "      <td>0.242214</td>\n",
       "    </tr>\n",
       "    <tr>\n",
       "      <th>520</th>\n",
       "      <td>-1.558795</td>\n",
       "      <td>-1.219992</td>\n",
       "    </tr>\n",
       "    <tr>\n",
       "      <th>401</th>\n",
       "      <td>0.632147</td>\n",
       "      <td>0.338346</td>\n",
       "    </tr>\n",
       "    <tr>\n",
       "      <th>280</th>\n",
       "      <td>0.632147</td>\n",
       "      <td>-0.003173</td>\n",
       "    </tr>\n",
       "    <tr>\n",
       "      <th>1401</th>\n",
       "      <td>-0.098167</td>\n",
       "      <td>-0.789931</td>\n",
       "    </tr>\n",
       "    <tr>\n",
       "      <th>...</th>\n",
       "      <td>...</td>\n",
       "      <td>...</td>\n",
       "    </tr>\n",
       "    <tr>\n",
       "      <th>715</th>\n",
       "      <td>-0.098167</td>\n",
       "      <td>0.439536</td>\n",
       "    </tr>\n",
       "    <tr>\n",
       "      <th>905</th>\n",
       "      <td>-0.828481</td>\n",
       "      <td>-0.286507</td>\n",
       "    </tr>\n",
       "    <tr>\n",
       "      <th>1096</th>\n",
       "      <td>-0.098167</td>\n",
       "      <td>-1.020140</td>\n",
       "    </tr>\n",
       "    <tr>\n",
       "      <th>235</th>\n",
       "      <td>-0.098167</td>\n",
       "      <td>-1.753773</td>\n",
       "    </tr>\n",
       "    <tr>\n",
       "      <th>1061</th>\n",
       "      <td>-2.289109</td>\n",
       "      <td>-0.714038</td>\n",
       "    </tr>\n",
       "  </tbody>\n",
       "</table>\n",
       "<p>1168 rows × 2 columns</p>\n",
       "</div>"
      ],
      "text/plain": [
       "      remainder__OverallQual  remainder__1stFlrSF\n",
       "921                -0.828481             0.242214\n",
       "520                -1.558795            -1.219992\n",
       "401                 0.632147             0.338346\n",
       "280                 0.632147            -0.003173\n",
       "1401               -0.098167            -0.789931\n",
       "...                      ...                  ...\n",
       "715                -0.098167             0.439536\n",
       "905                -0.828481            -0.286507\n",
       "1096               -0.098167            -1.020140\n",
       "235                -0.098167            -1.753773\n",
       "1061               -2.289109            -0.714038\n",
       "\n",
       "[1168 rows x 2 columns]"
      ]
     },
     "execution_count": 57,
     "metadata": {},
     "output_type": "execute_result"
    }
   ],
   "source": [
    "#we can also do by using setting a threshold on coefficient\n",
    "sfm=SelectFromModel(LinearRegression(),threshold=20000).set_output(transform=\"pandas\")\n",
    "sfm.fit_transform(x_train1,y_train)"
   ]
  },
  {
   "cell_type": "code",
   "execution_count": 58,
   "id": "9290bf77",
   "metadata": {},
   "outputs": [
    {
     "data": {
      "text/html": [
       "<div>\n",
       "<style scoped>\n",
       "    .dataframe tbody tr th:only-of-type {\n",
       "        vertical-align: middle;\n",
       "    }\n",
       "\n",
       "    .dataframe tbody tr th {\n",
       "        vertical-align: top;\n",
       "    }\n",
       "\n",
       "    .dataframe thead th {\n",
       "        text-align: right;\n",
       "    }\n",
       "</style>\n",
       "<table border=\"1\" class=\"dataframe\">\n",
       "  <thead>\n",
       "    <tr style=\"text-align: right;\">\n",
       "      <th></th>\n",
       "      <th>remainder__OverallQual</th>\n",
       "      <th>remainder__1stFlrSF</th>\n",
       "    </tr>\n",
       "  </thead>\n",
       "  <tbody>\n",
       "    <tr>\n",
       "      <th>258</th>\n",
       "      <td>0.632147</td>\n",
       "      <td>-0.539484</td>\n",
       "    </tr>\n",
       "    <tr>\n",
       "      <th>267</th>\n",
       "      <td>-0.828481</td>\n",
       "      <td>-0.314335</td>\n",
       "    </tr>\n",
       "    <tr>\n",
       "      <th>288</th>\n",
       "      <td>-0.828481</td>\n",
       "      <td>-0.698859</td>\n",
       "    </tr>\n",
       "    <tr>\n",
       "      <th>649</th>\n",
       "      <td>-1.558795</td>\n",
       "      <td>-1.381897</td>\n",
       "    </tr>\n",
       "    <tr>\n",
       "      <th>1233</th>\n",
       "      <td>-0.828481</td>\n",
       "      <td>0.029714</td>\n",
       "    </tr>\n",
       "    <tr>\n",
       "      <th>...</th>\n",
       "      <td>...</td>\n",
       "      <td>...</td>\n",
       "    </tr>\n",
       "    <tr>\n",
       "      <th>163</th>\n",
       "      <td>-1.558795</td>\n",
       "      <td>-0.744395</td>\n",
       "    </tr>\n",
       "    <tr>\n",
       "      <th>47</th>\n",
       "      <td>1.362461</td>\n",
       "      <td>1.213646</td>\n",
       "    </tr>\n",
       "    <tr>\n",
       "      <th>1432</th>\n",
       "      <td>-1.558795</td>\n",
       "      <td>-0.526835</td>\n",
       "    </tr>\n",
       "    <tr>\n",
       "      <th>98</th>\n",
       "      <td>-0.828481</td>\n",
       "      <td>-0.863294</td>\n",
       "    </tr>\n",
       "    <tr>\n",
       "      <th>409</th>\n",
       "      <td>1.362461</td>\n",
       "      <td>-0.319394</td>\n",
       "    </tr>\n",
       "  </tbody>\n",
       "</table>\n",
       "<p>292 rows × 2 columns</p>\n",
       "</div>"
      ],
      "text/plain": [
       "      remainder__OverallQual  remainder__1stFlrSF\n",
       "258                 0.632147            -0.539484\n",
       "267                -0.828481            -0.314335\n",
       "288                -0.828481            -0.698859\n",
       "649                -1.558795            -1.381897\n",
       "1233               -0.828481             0.029714\n",
       "...                      ...                  ...\n",
       "163                -1.558795            -0.744395\n",
       "47                  1.362461             1.213646\n",
       "1432               -1.558795            -0.526835\n",
       "98                 -0.828481            -0.863294\n",
       "409                 1.362461            -0.319394\n",
       "\n",
       "[292 rows x 2 columns]"
      ]
     },
     "execution_count": 58,
     "metadata": {},
     "output_type": "execute_result"
    }
   ],
   "source": [
    "sfm.transform(x_test1)"
   ]
  },
  {
   "cell_type": "code",
   "execution_count": 61,
   "id": "77ecf053",
   "metadata": {},
   "outputs": [],
   "source": [
    "#same goes with the logistic regression during classification"
   ]
  },
  {
   "cell_type": "code",
   "execution_count": 62,
   "id": "bb3b2fbb",
   "metadata": {},
   "outputs": [],
   "source": [
    "#lets check with lasso regression which can make coefficients 0 also"
   ]
  },
  {
   "cell_type": "code",
   "execution_count": 63,
   "id": "bbf6e1bb",
   "metadata": {},
   "outputs": [],
   "source": [
    "from sklearn.linear_model import Lasso"
   ]
  },
  {
   "cell_type": "code",
   "execution_count": 78,
   "id": "ed9611b6",
   "metadata": {},
   "outputs": [
    {
     "data": {
      "text/html": [
       "<div>\n",
       "<style scoped>\n",
       "    .dataframe tbody tr th:only-of-type {\n",
       "        vertical-align: middle;\n",
       "    }\n",
       "\n",
       "    .dataframe tbody tr th {\n",
       "        vertical-align: top;\n",
       "    }\n",
       "\n",
       "    .dataframe thead th {\n",
       "        text-align: right;\n",
       "    }\n",
       "</style>\n",
       "<table border=\"1\" class=\"dataframe\">\n",
       "  <thead>\n",
       "    <tr style=\"text-align: right;\">\n",
       "      <th></th>\n",
       "      <th>remainder__OverallQual</th>\n",
       "      <th>remainder__1stFlrSF</th>\n",
       "      <th>remainder__2ndFlrSF</th>\n",
       "      <th>remainder__FullBath</th>\n",
       "      <th>remainder__Fireplaces</th>\n",
       "      <th>remainder__GarageCars</th>\n",
       "      <th>remainder__WoodDeckSF</th>\n",
       "    </tr>\n",
       "  </thead>\n",
       "  <tbody>\n",
       "    <tr>\n",
       "      <th>921</th>\n",
       "      <td>-0.828481</td>\n",
       "      <td>0.242214</td>\n",
       "      <td>1.353929</td>\n",
       "      <td>0.784304</td>\n",
       "      <td>-0.955827</td>\n",
       "      <td>-2.417038</td>\n",
       "      <td>-0.775178</td>\n",
       "    </tr>\n",
       "    <tr>\n",
       "      <th>520</th>\n",
       "      <td>-1.558795</td>\n",
       "      <td>-1.219992</td>\n",
       "      <td>0.598318</td>\n",
       "      <td>0.784304</td>\n",
       "      <td>-0.955827</td>\n",
       "      <td>-2.417038</td>\n",
       "      <td>1.026481</td>\n",
       "    </tr>\n",
       "    <tr>\n",
       "      <th>401</th>\n",
       "      <td>0.632147</td>\n",
       "      <td>0.338346</td>\n",
       "      <td>-0.783896</td>\n",
       "      <td>0.784304</td>\n",
       "      <td>0.586170</td>\n",
       "      <td>0.306648</td>\n",
       "      <td>-0.775178</td>\n",
       "    </tr>\n",
       "    <tr>\n",
       "      <th>280</th>\n",
       "      <td>0.632147</td>\n",
       "      <td>-0.003173</td>\n",
       "      <td>1.075182</td>\n",
       "      <td>0.784304</td>\n",
       "      <td>0.586170</td>\n",
       "      <td>0.306648</td>\n",
       "      <td>-0.775178</td>\n",
       "    </tr>\n",
       "    <tr>\n",
       "      <th>1401</th>\n",
       "      <td>-0.098167</td>\n",
       "      <td>-0.789931</td>\n",
       "      <td>0.895495</td>\n",
       "      <td>0.784304</td>\n",
       "      <td>0.586170</td>\n",
       "      <td>0.306648</td>\n",
       "      <td>0.043758</td>\n",
       "    </tr>\n",
       "    <tr>\n",
       "      <th>...</th>\n",
       "      <td>...</td>\n",
       "      <td>...</td>\n",
       "      <td>...</td>\n",
       "      <td>...</td>\n",
       "      <td>...</td>\n",
       "      <td>...</td>\n",
       "      <td>...</td>\n",
       "    </tr>\n",
       "    <tr>\n",
       "      <th>715</th>\n",
       "      <td>-0.098167</td>\n",
       "      <td>0.439536</td>\n",
       "      <td>-0.783896</td>\n",
       "      <td>0.784304</td>\n",
       "      <td>0.586170</td>\n",
       "      <td>0.306648</td>\n",
       "      <td>-0.775178</td>\n",
       "    </tr>\n",
       "    <tr>\n",
       "      <th>905</th>\n",
       "      <td>-0.828481</td>\n",
       "      <td>-0.286507</td>\n",
       "      <td>-0.783896</td>\n",
       "      <td>-1.047831</td>\n",
       "      <td>-0.955827</td>\n",
       "      <td>-1.055195</td>\n",
       "      <td>-0.775178</td>\n",
       "    </tr>\n",
       "    <tr>\n",
       "      <th>1096</th>\n",
       "      <td>-0.098167</td>\n",
       "      <td>-1.020140</td>\n",
       "      <td>0.556852</td>\n",
       "      <td>-1.047831</td>\n",
       "      <td>-0.955827</td>\n",
       "      <td>-2.417038</td>\n",
       "      <td>0.338575</td>\n",
       "    </tr>\n",
       "    <tr>\n",
       "      <th>235</th>\n",
       "      <td>-0.098167</td>\n",
       "      <td>-1.753773</td>\n",
       "      <td>0.377164</td>\n",
       "      <td>-1.047831</td>\n",
       "      <td>-0.955827</td>\n",
       "      <td>-1.055195</td>\n",
       "      <td>-0.775178</td>\n",
       "    </tr>\n",
       "    <tr>\n",
       "      <th>1061</th>\n",
       "      <td>-2.289109</td>\n",
       "      <td>-0.714038</td>\n",
       "      <td>-0.783896</td>\n",
       "      <td>-1.047831</td>\n",
       "      <td>-0.955827</td>\n",
       "      <td>1.668491</td>\n",
       "      <td>-0.775178</td>\n",
       "    </tr>\n",
       "  </tbody>\n",
       "</table>\n",
       "<p>1168 rows × 7 columns</p>\n",
       "</div>"
      ],
      "text/plain": [
       "      remainder__OverallQual  remainder__1stFlrSF  remainder__2ndFlrSF  \\\n",
       "921                -0.828481             0.242214             1.353929   \n",
       "520                -1.558795            -1.219992             0.598318   \n",
       "401                 0.632147             0.338346            -0.783896   \n",
       "280                 0.632147            -0.003173             1.075182   \n",
       "1401               -0.098167            -0.789931             0.895495   \n",
       "...                      ...                  ...                  ...   \n",
       "715                -0.098167             0.439536            -0.783896   \n",
       "905                -0.828481            -0.286507            -0.783896   \n",
       "1096               -0.098167            -1.020140             0.556852   \n",
       "235                -0.098167            -1.753773             0.377164   \n",
       "1061               -2.289109            -0.714038            -0.783896   \n",
       "\n",
       "      remainder__FullBath  remainder__Fireplaces  remainder__GarageCars  \\\n",
       "921              0.784304              -0.955827              -2.417038   \n",
       "520              0.784304              -0.955827              -2.417038   \n",
       "401              0.784304               0.586170               0.306648   \n",
       "280              0.784304               0.586170               0.306648   \n",
       "1401             0.784304               0.586170               0.306648   \n",
       "...                   ...                    ...                    ...   \n",
       "715              0.784304               0.586170               0.306648   \n",
       "905             -1.047831              -0.955827              -1.055195   \n",
       "1096            -1.047831              -0.955827              -2.417038   \n",
       "235             -1.047831              -0.955827              -1.055195   \n",
       "1061            -1.047831              -0.955827               1.668491   \n",
       "\n",
       "      remainder__WoodDeckSF  \n",
       "921               -0.775178  \n",
       "520                1.026481  \n",
       "401               -0.775178  \n",
       "280               -0.775178  \n",
       "1401               0.043758  \n",
       "...                     ...  \n",
       "715               -0.775178  \n",
       "905               -0.775178  \n",
       "1096               0.338575  \n",
       "235               -0.775178  \n",
       "1061              -0.775178  \n",
       "\n",
       "[1168 rows x 7 columns]"
      ]
     },
     "execution_count": 78,
     "metadata": {},
     "output_type": "execute_result"
    }
   ],
   "source": [
    "#u can increase alpha further based on how many features required\n",
    "sfm=SelectFromModel(Lasso(alpha=10000)).set_output(transform=\"pandas\")\n",
    "sfm.fit_transform(x_train1,y_train)"
   ]
  },
  {
   "cell_type": "code",
   "execution_count": 79,
   "id": "4fa3c7f2",
   "metadata": {},
   "outputs": [
    {
     "data": {
      "text/plain": [
       "array([-0.00000000e+00,  0.00000000e+00, -0.00000000e+00,  3.53041281e+04,\n",
       "        0.00000000e+00, -0.00000000e+00,  1.38686555e+04,  1.83479923e+03,\n",
       "        0.00000000e+00,  2.78447272e+03,  1.98678973e+03,  1.10930992e+04,\n",
       "        3.01845793e+01,  0.00000000e+00])"
      ]
     },
     "execution_count": 79,
     "metadata": {},
     "output_type": "execute_result"
    }
   ],
   "source": [
    "sfm.estimator_.coef_"
   ]
  },
  {
   "cell_type": "code",
   "execution_count": 80,
   "id": "a5f6703e",
   "metadata": {},
   "outputs": [],
   "source": [
    "#if u want to do with regularization in classification, logistic regression has parameter penalty=\"l1\""
   ]
  },
  {
   "cell_type": "markdown",
   "id": "58a4f85f",
   "metadata": {},
   "source": [
    "### Tree"
   ]
  },
  {
   "cell_type": "code",
   "execution_count": 81,
   "id": "b18ce3fb",
   "metadata": {},
   "outputs": [],
   "source": [
    "#more the feature decreases impurity , the more important it is"
   ]
  },
  {
   "cell_type": "code",
   "execution_count": 82,
   "id": "0bee46e0",
   "metadata": {},
   "outputs": [],
   "source": [
    "#in random forest:high cardinal variable may show high importance since they are biased for this type of variable"
   ]
  },
  {
   "cell_type": "code",
   "execution_count": 83,
   "id": "c6358bda",
   "metadata": {},
   "outputs": [],
   "source": [
    "from sklearn.ensemble import RandomForestRegressor"
   ]
  },
  {
   "cell_type": "code",
   "execution_count": 84,
   "id": "ebf788e2",
   "metadata": {},
   "outputs": [
    {
     "data": {
      "text/html": [
       "<div>\n",
       "<style scoped>\n",
       "    .dataframe tbody tr th:only-of-type {\n",
       "        vertical-align: middle;\n",
       "    }\n",
       "\n",
       "    .dataframe tbody tr th {\n",
       "        vertical-align: top;\n",
       "    }\n",
       "\n",
       "    .dataframe thead th {\n",
       "        text-align: right;\n",
       "    }\n",
       "</style>\n",
       "<table border=\"1\" class=\"dataframe\">\n",
       "  <thead>\n",
       "    <tr style=\"text-align: right;\">\n",
       "      <th></th>\n",
       "      <th>remainder__OverallQual</th>\n",
       "      <th>remainder__1stFlrSF</th>\n",
       "    </tr>\n",
       "  </thead>\n",
       "  <tbody>\n",
       "    <tr>\n",
       "      <th>921</th>\n",
       "      <td>-0.828481</td>\n",
       "      <td>0.242214</td>\n",
       "    </tr>\n",
       "    <tr>\n",
       "      <th>520</th>\n",
       "      <td>-1.558795</td>\n",
       "      <td>-1.219992</td>\n",
       "    </tr>\n",
       "    <tr>\n",
       "      <th>401</th>\n",
       "      <td>0.632147</td>\n",
       "      <td>0.338346</td>\n",
       "    </tr>\n",
       "    <tr>\n",
       "      <th>280</th>\n",
       "      <td>0.632147</td>\n",
       "      <td>-0.003173</td>\n",
       "    </tr>\n",
       "    <tr>\n",
       "      <th>1401</th>\n",
       "      <td>-0.098167</td>\n",
       "      <td>-0.789931</td>\n",
       "    </tr>\n",
       "    <tr>\n",
       "      <th>...</th>\n",
       "      <td>...</td>\n",
       "      <td>...</td>\n",
       "    </tr>\n",
       "    <tr>\n",
       "      <th>715</th>\n",
       "      <td>-0.098167</td>\n",
       "      <td>0.439536</td>\n",
       "    </tr>\n",
       "    <tr>\n",
       "      <th>905</th>\n",
       "      <td>-0.828481</td>\n",
       "      <td>-0.286507</td>\n",
       "    </tr>\n",
       "    <tr>\n",
       "      <th>1096</th>\n",
       "      <td>-0.098167</td>\n",
       "      <td>-1.020140</td>\n",
       "    </tr>\n",
       "    <tr>\n",
       "      <th>235</th>\n",
       "      <td>-0.098167</td>\n",
       "      <td>-1.753773</td>\n",
       "    </tr>\n",
       "    <tr>\n",
       "      <th>1061</th>\n",
       "      <td>-2.289109</td>\n",
       "      <td>-0.714038</td>\n",
       "    </tr>\n",
       "  </tbody>\n",
       "</table>\n",
       "<p>1168 rows × 2 columns</p>\n",
       "</div>"
      ],
      "text/plain": [
       "      remainder__OverallQual  remainder__1stFlrSF\n",
       "921                -0.828481             0.242214\n",
       "520                -1.558795            -1.219992\n",
       "401                 0.632147             0.338346\n",
       "280                 0.632147            -0.003173\n",
       "1401               -0.098167            -0.789931\n",
       "...                      ...                  ...\n",
       "715                -0.098167             0.439536\n",
       "905                -0.828481            -0.286507\n",
       "1096               -0.098167            -1.020140\n",
       "235                -0.098167            -1.753773\n",
       "1061               -2.289109            -0.714038\n",
       "\n",
       "[1168 rows x 2 columns]"
      ]
     },
     "execution_count": 84,
     "metadata": {},
     "output_type": "execute_result"
    }
   ],
   "source": [
    "#by default selects features whose importance is greater than  mean of all feature importance\n",
    "#can have threshold also\n",
    "sfm=SelectFromModel(RandomForestRegressor()).set_output(transform=\"pandas\")\n",
    "sfm.fit_transform(x_train1,y_train)"
   ]
  },
  {
   "cell_type": "code",
   "execution_count": 88,
   "id": "c70d7db8",
   "metadata": {},
   "outputs": [
    {
     "data": {
      "text/plain": [
       "array([7.88924197e-03, 1.14529158e-05, 3.97341541e-03, 5.82501153e-01,\n",
       "       3.06477699e-02, 2.59162789e-02, 1.13742224e-01, 6.53092448e-02,\n",
       "       5.16266739e-03, 3.34563217e-02, 1.58641759e-02, 6.86164404e-02,\n",
       "       2.29525290e-02, 2.39570850e-02])"
      ]
     },
     "execution_count": 88,
     "metadata": {},
     "output_type": "execute_result"
    }
   ],
   "source": [
    "sfm.estimator_.feature_importances_"
   ]
  },
  {
   "cell_type": "code",
   "execution_count": 89,
   "id": "bb8ae949",
   "metadata": {},
   "outputs": [
    {
     "data": {
      "text/plain": [
       "array([False, False, False,  True, False, False,  True, False, False,\n",
       "       False, False, False, False, False])"
      ]
     },
     "execution_count": 89,
     "metadata": {},
     "output_type": "execute_result"
    }
   ],
   "source": [
    "#only two features are True so that are selected\n",
    "sfm.estimator_.feature_importances_>sfm.estimator_.feature_importances_.mean()"
   ]
  },
  {
   "cell_type": "markdown",
   "id": "f9edbe4c",
   "metadata": {},
   "source": [
    "# Statistical Methods"
   ]
  },
  {
   "cell_type": "code",
   "execution_count": 153,
   "id": "769dc8cd",
   "metadata": {},
   "outputs": [],
   "source": [
    "from sklearn.feature_selection import SelectKBest,chi2,f_classif,f_regression,mutual_info_classif,mutual_info_regression"
   ]
  },
  {
   "cell_type": "code",
   "execution_count": 140,
   "id": "171d5302",
   "metadata": {},
   "outputs": [],
   "source": [
    "#here it will be selected based on pvalue after chi2 test\n",
    "c=SelectKBest(chi2,k=2).set_output(transform=\"pandas\")"
   ]
  },
  {
   "cell_type": "code",
   "execution_count": 112,
   "id": "faed24ab",
   "metadata": {},
   "outputs": [],
   "source": [
    "x_train1=x_train[[\"encoder__MSZoning\",\"encoder__Street\",\"encoder__LotShape\",\"remainder__BsmtFullBath\",\"remainder__FullBath\"]]"
   ]
  },
  {
   "cell_type": "code",
   "execution_count": 130,
   "id": "3fa4a956",
   "metadata": {},
   "outputs": [],
   "source": [
    "x_train1=x_train1.astype(\"int\")"
   ]
  },
  {
   "cell_type": "code",
   "execution_count": 128,
   "id": "a8fbeaa3",
   "metadata": {},
   "outputs": [],
   "source": [
    "y_train1=x_train['remainder__Fireplaces']"
   ]
  },
  {
   "cell_type": "code",
   "execution_count": 142,
   "id": "41e25fac",
   "metadata": {},
   "outputs": [
    {
     "data": {
      "text/html": [
       "<div>\n",
       "<style scoped>\n",
       "    .dataframe tbody tr th:only-of-type {\n",
       "        vertical-align: middle;\n",
       "    }\n",
       "\n",
       "    .dataframe tbody tr th {\n",
       "        vertical-align: top;\n",
       "    }\n",
       "\n",
       "    .dataframe thead th {\n",
       "        text-align: right;\n",
       "    }\n",
       "</style>\n",
       "<table border=\"1\" class=\"dataframe\">\n",
       "  <thead>\n",
       "    <tr style=\"text-align: right;\">\n",
       "      <th></th>\n",
       "      <th>encoder__MSZoning</th>\n",
       "      <th>encoder__Street</th>\n",
       "      <th>encoder__LotShape</th>\n",
       "      <th>remainder__BsmtFullBath</th>\n",
       "      <th>remainder__FullBath</th>\n",
       "    </tr>\n",
       "  </thead>\n",
       "  <tbody>\n",
       "    <tr>\n",
       "      <th>921</th>\n",
       "      <td>3</td>\n",
       "      <td>1</td>\n",
       "      <td>3</td>\n",
       "      <td>2</td>\n",
       "      <td>2</td>\n",
       "    </tr>\n",
       "    <tr>\n",
       "      <th>520</th>\n",
       "      <td>3</td>\n",
       "      <td>1</td>\n",
       "      <td>3</td>\n",
       "      <td>0</td>\n",
       "      <td>2</td>\n",
       "    </tr>\n",
       "    <tr>\n",
       "      <th>401</th>\n",
       "      <td>3</td>\n",
       "      <td>1</td>\n",
       "      <td>0</td>\n",
       "      <td>0</td>\n",
       "      <td>2</td>\n",
       "    </tr>\n",
       "    <tr>\n",
       "      <th>280</th>\n",
       "      <td>3</td>\n",
       "      <td>1</td>\n",
       "      <td>3</td>\n",
       "      <td>0</td>\n",
       "      <td>2</td>\n",
       "    </tr>\n",
       "    <tr>\n",
       "      <th>1401</th>\n",
       "      <td>3</td>\n",
       "      <td>1</td>\n",
       "      <td>0</td>\n",
       "      <td>1</td>\n",
       "      <td>2</td>\n",
       "    </tr>\n",
       "  </tbody>\n",
       "</table>\n",
       "</div>"
      ],
      "text/plain": [
       "      encoder__MSZoning  encoder__Street  encoder__LotShape  \\\n",
       "921                   3                1                  3   \n",
       "520                   3                1                  3   \n",
       "401                   3                1                  0   \n",
       "280                   3                1                  3   \n",
       "1401                  3                1                  0   \n",
       "\n",
       "      remainder__BsmtFullBath  remainder__FullBath  \n",
       "921                         2                    2  \n",
       "520                         0                    2  \n",
       "401                         0                    2  \n",
       "280                         0                    2  \n",
       "1401                        1                    2  "
      ]
     },
     "execution_count": 142,
     "metadata": {},
     "output_type": "execute_result"
    }
   ],
   "source": [
    "x_train1.head()"
   ]
  },
  {
   "cell_type": "code",
   "execution_count": 149,
   "id": "55421370",
   "metadata": {},
   "outputs": [
    {
     "data": {
      "text/html": [
       "<div>\n",
       "<style scoped>\n",
       "    .dataframe tbody tr th:only-of-type {\n",
       "        vertical-align: middle;\n",
       "    }\n",
       "\n",
       "    .dataframe tbody tr th {\n",
       "        vertical-align: top;\n",
       "    }\n",
       "\n",
       "    .dataframe thead th {\n",
       "        text-align: right;\n",
       "    }\n",
       "</style>\n",
       "<table border=\"1\" class=\"dataframe\">\n",
       "  <thead>\n",
       "    <tr style=\"text-align: right;\">\n",
       "      <th></th>\n",
       "      <th>encoder__LotShape</th>\n",
       "      <th>remainder__BsmtFullBath</th>\n",
       "    </tr>\n",
       "  </thead>\n",
       "  <tbody>\n",
       "    <tr>\n",
       "      <th>921</th>\n",
       "      <td>3</td>\n",
       "      <td>2</td>\n",
       "    </tr>\n",
       "    <tr>\n",
       "      <th>520</th>\n",
       "      <td>3</td>\n",
       "      <td>0</td>\n",
       "    </tr>\n",
       "    <tr>\n",
       "      <th>401</th>\n",
       "      <td>0</td>\n",
       "      <td>0</td>\n",
       "    </tr>\n",
       "    <tr>\n",
       "      <th>280</th>\n",
       "      <td>3</td>\n",
       "      <td>0</td>\n",
       "    </tr>\n",
       "    <tr>\n",
       "      <th>1401</th>\n",
       "      <td>0</td>\n",
       "      <td>1</td>\n",
       "    </tr>\n",
       "    <tr>\n",
       "      <th>...</th>\n",
       "      <td>...</td>\n",
       "      <td>...</td>\n",
       "    </tr>\n",
       "    <tr>\n",
       "      <th>715</th>\n",
       "      <td>3</td>\n",
       "      <td>0</td>\n",
       "    </tr>\n",
       "    <tr>\n",
       "      <th>905</th>\n",
       "      <td>3</td>\n",
       "      <td>1</td>\n",
       "    </tr>\n",
       "    <tr>\n",
       "      <th>1096</th>\n",
       "      <td>3</td>\n",
       "      <td>0</td>\n",
       "    </tr>\n",
       "    <tr>\n",
       "      <th>235</th>\n",
       "      <td>3</td>\n",
       "      <td>0</td>\n",
       "    </tr>\n",
       "    <tr>\n",
       "      <th>1061</th>\n",
       "      <td>3</td>\n",
       "      <td>0</td>\n",
       "    </tr>\n",
       "  </tbody>\n",
       "</table>\n",
       "<p>1168 rows × 2 columns</p>\n",
       "</div>"
      ],
      "text/plain": [
       "      encoder__LotShape  remainder__BsmtFullBath\n",
       "921                   3                        2\n",
       "520                   3                        0\n",
       "401                   0                        0\n",
       "280                   3                        0\n",
       "1401                  0                        1\n",
       "...                 ...                      ...\n",
       "715                   3                        0\n",
       "905                   3                        1\n",
       "1096                  3                        0\n",
       "235                   3                        0\n",
       "1061                  3                        0\n",
       "\n",
       "[1168 rows x 2 columns]"
      ]
     },
     "execution_count": 149,
     "metadata": {},
     "output_type": "execute_result"
    }
   ],
   "source": [
    "c.fit_transform(x_train1,y_train1)"
   ]
  },
  {
   "cell_type": "code",
   "execution_count": 152,
   "id": "5c5d292a",
   "metadata": {},
   "outputs": [
    {
     "data": {
      "text/plain": [
       "array([9.81831620e-01, 9.99783244e-01, 2.39966814e-12, 1.05940356e-04,\n",
       "       4.49365011e-04])"
      ]
     },
     "execution_count": 152,
     "metadata": {},
     "output_type": "execute_result"
    }
   ],
   "source": [
    "c.pvalues_"
   ]
  },
  {
   "cell_type": "code",
   "execution_count": 145,
   "id": "17fb8723",
   "metadata": {},
   "outputs": [
    {
     "data": {
      "text/plain": [
       "array(['encoder__MSZoning', 'encoder__Street', 'encoder__LotShape',\n",
       "       'remainder__BsmtFullBath', 'remainder__FullBath'], dtype=object)"
      ]
     },
     "execution_count": 145,
     "metadata": {},
     "output_type": "execute_result"
    }
   ],
   "source": [
    "c.feature_names_in_"
   ]
  },
  {
   "cell_type": "code",
   "execution_count": 139,
   "id": "e175aac5",
   "metadata": {},
   "outputs": [
    {
     "data": {
      "text/plain": [
       "array([1.72960524e-01, 8.74032768e-03, 5.71394192e+01, 2.09868479e+01,\n",
       "       1.79549288e+01])"
      ]
     },
     "execution_count": 139,
     "metadata": {},
     "output_type": "execute_result"
    }
   ],
   "source": [
    "c.scores_"
   ]
  },
  {
   "cell_type": "code",
   "execution_count": null,
   "id": "e63f3b23",
   "metadata": {},
   "outputs": [],
   "source": [
    "#here this is the exmple of selection by chi square\n",
    "#here both the target and feature should be categorical"
   ]
  },
  {
   "cell_type": "code",
   "execution_count": null,
   "id": "7b69863f",
   "metadata": {},
   "outputs": [],
   "source": [
    "#use f_classif : anova test when feature is continuous and target is discrete (this is same as what we learnt)"
   ]
  },
  {
   "cell_type": "code",
   "execution_count": null,
   "id": "ae2fc50d",
   "metadata": {},
   "outputs": [],
   "source": [
    "# use f_regression:  this is different method of anova (not what we learnt) , use this when target&feature is continuos  .\n",
    "#this basically calculates correlation betweeen x and y, then converts it into F score and then to p-value"
   ]
  },
  {
   "cell_type": "markdown",
   "id": "16e7f99b",
   "metadata": {},
   "source": [
    "### Mutual Information"
   ]
  },
  {
   "cell_type": "code",
   "execution_count": 154,
   "id": "ac309684",
   "metadata": {},
   "outputs": [],
   "source": [
    "#here we determine mutual information between target and the feature and select the features which has high mutual information with target"
   ]
  },
  {
   "cell_type": "code",
   "execution_count": 155,
   "id": "48fa0e7f",
   "metadata": {},
   "outputs": [],
   "source": [
    "#use mutual_info_classif for classification and mutual_info_regression for regression"
   ]
  },
  {
   "cell_type": "code",
   "execution_count": 157,
   "id": "89ec80e9",
   "metadata": {},
   "outputs": [],
   "source": [
    "s=SelectKBest(mutual_info_regression,k=2).set_output(transform=\"pandas\")"
   ]
  },
  {
   "cell_type": "code",
   "execution_count": 158,
   "id": "85f596a8",
   "metadata": {},
   "outputs": [
    {
     "data": {
      "text/html": [
       "<div>\n",
       "<style scoped>\n",
       "    .dataframe tbody tr th:only-of-type {\n",
       "        vertical-align: middle;\n",
       "    }\n",
       "\n",
       "    .dataframe tbody tr th {\n",
       "        vertical-align: top;\n",
       "    }\n",
       "\n",
       "    .dataframe thead th {\n",
       "        text-align: right;\n",
       "    }\n",
       "</style>\n",
       "<table border=\"1\" class=\"dataframe\">\n",
       "  <thead>\n",
       "    <tr style=\"text-align: right;\">\n",
       "      <th></th>\n",
       "      <th>encoder__MSZoning</th>\n",
       "      <th>remainder__FullBath</th>\n",
       "    </tr>\n",
       "  </thead>\n",
       "  <tbody>\n",
       "    <tr>\n",
       "      <th>921</th>\n",
       "      <td>3</td>\n",
       "      <td>2</td>\n",
       "    </tr>\n",
       "    <tr>\n",
       "      <th>520</th>\n",
       "      <td>3</td>\n",
       "      <td>2</td>\n",
       "    </tr>\n",
       "    <tr>\n",
       "      <th>401</th>\n",
       "      <td>3</td>\n",
       "      <td>2</td>\n",
       "    </tr>\n",
       "    <tr>\n",
       "      <th>280</th>\n",
       "      <td>3</td>\n",
       "      <td>2</td>\n",
       "    </tr>\n",
       "    <tr>\n",
       "      <th>1401</th>\n",
       "      <td>3</td>\n",
       "      <td>2</td>\n",
       "    </tr>\n",
       "    <tr>\n",
       "      <th>...</th>\n",
       "      <td>...</td>\n",
       "      <td>...</td>\n",
       "    </tr>\n",
       "    <tr>\n",
       "      <th>715</th>\n",
       "      <td>3</td>\n",
       "      <td>2</td>\n",
       "    </tr>\n",
       "    <tr>\n",
       "      <th>905</th>\n",
       "      <td>3</td>\n",
       "      <td>1</td>\n",
       "    </tr>\n",
       "    <tr>\n",
       "      <th>1096</th>\n",
       "      <td>4</td>\n",
       "      <td>1</td>\n",
       "    </tr>\n",
       "    <tr>\n",
       "      <th>235</th>\n",
       "      <td>4</td>\n",
       "      <td>1</td>\n",
       "    </tr>\n",
       "    <tr>\n",
       "      <th>1061</th>\n",
       "      <td>0</td>\n",
       "      <td>1</td>\n",
       "    </tr>\n",
       "  </tbody>\n",
       "</table>\n",
       "<p>1168 rows × 2 columns</p>\n",
       "</div>"
      ],
      "text/plain": [
       "      encoder__MSZoning  remainder__FullBath\n",
       "921                   3                    2\n",
       "520                   3                    2\n",
       "401                   3                    2\n",
       "280                   3                    2\n",
       "1401                  3                    2\n",
       "...                 ...                  ...\n",
       "715                   3                    2\n",
       "905                   3                    1\n",
       "1096                  4                    1\n",
       "235                   4                    1\n",
       "1061                  0                    1\n",
       "\n",
       "[1168 rows x 2 columns]"
      ]
     },
     "execution_count": 158,
     "metadata": {},
     "output_type": "execute_result"
    }
   ],
   "source": [
    "s.fit_transform(x_train1,y_train)"
   ]
  },
  {
   "cell_type": "code",
   "execution_count": 159,
   "id": "cef79c12",
   "metadata": {},
   "outputs": [
    {
     "data": {
      "text/plain": [
       "array([1.08022331e-01, 2.05807450e-04, 7.20728324e-02, 0.00000000e+00,\n",
       "       2.69621948e-01])"
      ]
     },
     "execution_count": 159,
     "metadata": {},
     "output_type": "execute_result"
    }
   ],
   "source": [
    "#these are the mutual information values between each feature and target since i gave k=2 it selected only top2 features\n",
    "mutual_info_regression(x_train1,y_train)"
   ]
  },
  {
   "cell_type": "code",
   "execution_count": 162,
   "id": "43bc6ee9",
   "metadata": {},
   "outputs": [
    {
     "data": {
      "text/plain": [
       "array(['encoder__MSZoning', 'encoder__Street', 'encoder__LotShape',\n",
       "       'remainder__BsmtFullBath', 'remainder__FullBath'], dtype=object)"
      ]
     },
     "execution_count": 162,
     "metadata": {},
     "output_type": "execute_result"
    }
   ],
   "source": [
    "s.feature_names_in_"
   ]
  },
  {
   "cell_type": "code",
   "execution_count": null,
   "id": "c9d07b3c",
   "metadata": {},
   "outputs": [],
   "source": []
  }
 ],
 "metadata": {
  "kernelspec": {
   "display_name": "Python 3 (ipykernel)",
   "language": "python",
   "name": "python3"
  },
  "language_info": {
   "codemirror_mode": {
    "name": "ipython",
    "version": 3
   },
   "file_extension": ".py",
   "mimetype": "text/x-python",
   "name": "python",
   "nbconvert_exporter": "python",
   "pygments_lexer": "ipython3",
   "version": "3.9.12"
  }
 },
 "nbformat": 4,
 "nbformat_minor": 5
}
