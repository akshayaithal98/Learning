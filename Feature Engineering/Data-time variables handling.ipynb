{
 "cells": [
  {
   "cell_type": "code",
   "execution_count": 23,
   "id": "5de9550a",
   "metadata": {},
   "outputs": [],
   "source": [
    "import pandas as pd \n",
    "import numpy as np\n",
    "import matplotlib.pyplot as plt\n",
    "import seaborn as sns"
   ]
  },
  {
   "cell_type": "code",
   "execution_count": 2,
   "id": "c5a26a98",
   "metadata": {},
   "outputs": [],
   "source": [
    "l=[\"23-Mar-2023\",\"10-Mar-2023\",\"22-Apr-2023\",\"01-Nov-2023\",\"28-Sept-2023\"]\n",
    "l2=[\"Dec-2015\",\"July-2015\",\"Feb-2014\",\"Apr-2014\",\"May-2015\"]\n",
    "df=pd.DataFrame({\"issue\":l,\"last\":l2})"
   ]
  },
  {
   "cell_type": "code",
   "execution_count": 3,
   "id": "541eb8fc",
   "metadata": {},
   "outputs": [
    {
     "data": {
      "text/html": [
       "<div>\n",
       "<style scoped>\n",
       "    .dataframe tbody tr th:only-of-type {\n",
       "        vertical-align: middle;\n",
       "    }\n",
       "\n",
       "    .dataframe tbody tr th {\n",
       "        vertical-align: top;\n",
       "    }\n",
       "\n",
       "    .dataframe thead th {\n",
       "        text-align: right;\n",
       "    }\n",
       "</style>\n",
       "<table border=\"1\" class=\"dataframe\">\n",
       "  <thead>\n",
       "    <tr style=\"text-align: right;\">\n",
       "      <th></th>\n",
       "      <th>issue</th>\n",
       "      <th>last</th>\n",
       "    </tr>\n",
       "  </thead>\n",
       "  <tbody>\n",
       "    <tr>\n",
       "      <th>0</th>\n",
       "      <td>23-Mar-2023</td>\n",
       "      <td>Dec-2015</td>\n",
       "    </tr>\n",
       "    <tr>\n",
       "      <th>1</th>\n",
       "      <td>10-Mar-2023</td>\n",
       "      <td>July-2015</td>\n",
       "    </tr>\n",
       "    <tr>\n",
       "      <th>2</th>\n",
       "      <td>22-Apr-2023</td>\n",
       "      <td>Feb-2014</td>\n",
       "    </tr>\n",
       "    <tr>\n",
       "      <th>3</th>\n",
       "      <td>01-Nov-2023</td>\n",
       "      <td>Apr-2014</td>\n",
       "    </tr>\n",
       "    <tr>\n",
       "      <th>4</th>\n",
       "      <td>28-Sept-2023</td>\n",
       "      <td>May-2015</td>\n",
       "    </tr>\n",
       "  </tbody>\n",
       "</table>\n",
       "</div>"
      ],
      "text/plain": [
       "          issue       last\n",
       "0   23-Mar-2023   Dec-2015\n",
       "1   10-Mar-2023  July-2015\n",
       "2   22-Apr-2023   Feb-2014\n",
       "3   01-Nov-2023   Apr-2014\n",
       "4  28-Sept-2023   May-2015"
      ]
     },
     "execution_count": 3,
     "metadata": {},
     "output_type": "execute_result"
    }
   ],
   "source": [
    "df.head()"
   ]
  },
  {
   "cell_type": "code",
   "execution_count": 4,
   "id": "417a152a",
   "metadata": {},
   "outputs": [
    {
     "data": {
      "text/plain": [
       "issue    object\n",
       "last     object\n",
       "dtype: object"
      ]
     },
     "execution_count": 4,
     "metadata": {},
     "output_type": "execute_result"
    }
   ],
   "source": [
    "df.dtypes"
   ]
  },
  {
   "cell_type": "code",
   "execution_count": 5,
   "id": "150cd61c",
   "metadata": {},
   "outputs": [],
   "source": [
    "df[\"issue\"]=pd.to_datetime(df[\"issue\"])\n",
    "df[\"last\"]=pd.to_datetime(df[\"last\"])"
   ]
  },
  {
   "cell_type": "code",
   "execution_count": 6,
   "id": "8916352f",
   "metadata": {},
   "outputs": [
    {
     "data": {
      "text/plain": [
       "issue    datetime64[ns]\n",
       "last     datetime64[ns]\n",
       "dtype: object"
      ]
     },
     "execution_count": 6,
     "metadata": {},
     "output_type": "execute_result"
    }
   ],
   "source": [
    "df.dtypes"
   ]
  },
  {
   "cell_type": "code",
   "execution_count": 7,
   "id": "55d96b51",
   "metadata": {},
   "outputs": [
    {
     "data": {
      "text/html": [
       "<div>\n",
       "<style scoped>\n",
       "    .dataframe tbody tr th:only-of-type {\n",
       "        vertical-align: middle;\n",
       "    }\n",
       "\n",
       "    .dataframe tbody tr th {\n",
       "        vertical-align: top;\n",
       "    }\n",
       "\n",
       "    .dataframe thead th {\n",
       "        text-align: right;\n",
       "    }\n",
       "</style>\n",
       "<table border=\"1\" class=\"dataframe\">\n",
       "  <thead>\n",
       "    <tr style=\"text-align: right;\">\n",
       "      <th></th>\n",
       "      <th>issue</th>\n",
       "      <th>last</th>\n",
       "    </tr>\n",
       "  </thead>\n",
       "  <tbody>\n",
       "    <tr>\n",
       "      <th>0</th>\n",
       "      <td>2023-03-23</td>\n",
       "      <td>2015-12-01</td>\n",
       "    </tr>\n",
       "    <tr>\n",
       "      <th>1</th>\n",
       "      <td>2023-03-10</td>\n",
       "      <td>2015-07-01</td>\n",
       "    </tr>\n",
       "    <tr>\n",
       "      <th>2</th>\n",
       "      <td>2023-04-22</td>\n",
       "      <td>2014-02-01</td>\n",
       "    </tr>\n",
       "    <tr>\n",
       "      <th>3</th>\n",
       "      <td>2023-11-01</td>\n",
       "      <td>2014-04-01</td>\n",
       "    </tr>\n",
       "    <tr>\n",
       "      <th>4</th>\n",
       "      <td>2023-09-28</td>\n",
       "      <td>2015-05-01</td>\n",
       "    </tr>\n",
       "  </tbody>\n",
       "</table>\n",
       "</div>"
      ],
      "text/plain": [
       "       issue       last\n",
       "0 2023-03-23 2015-12-01\n",
       "1 2023-03-10 2015-07-01\n",
       "2 2023-04-22 2014-02-01\n",
       "3 2023-11-01 2014-04-01\n",
       "4 2023-09-28 2015-05-01"
      ]
     },
     "execution_count": 7,
     "metadata": {},
     "output_type": "execute_result"
    }
   ],
   "source": [
    "df"
   ]
  },
  {
   "cell_type": "code",
   "execution_count": 8,
   "id": "9d89aff7",
   "metadata": {},
   "outputs": [
    {
     "name": "stderr",
     "output_type": "stream",
     "text": [
      "C:\\Users\\aksha\\AppData\\Local\\Temp\\ipykernel_1476\\749331339.py:1: FutureWarning: Series.dt.weekofyear and Series.dt.week have been deprecated. Please use Series.dt.isocalendar().week instead.\n",
      "  df[\"issue\"].dt.week\n"
     ]
    },
    {
     "data": {
      "text/plain": [
       "0    12\n",
       "1    10\n",
       "2    16\n",
       "3    44\n",
       "4    39\n",
       "Name: issue, dtype: int64"
      ]
     },
     "execution_count": 8,
     "metadata": {},
     "output_type": "execute_result"
    }
   ],
   "source": [
    "df[\"issue\"].dt.week"
   ]
  },
  {
   "cell_type": "code",
   "execution_count": 9,
   "id": "db99250e",
   "metadata": {},
   "outputs": [
    {
     "data": {
      "text/plain": [
       "0     3\n",
       "1     3\n",
       "2     4\n",
       "3    11\n",
       "4     9\n",
       "Name: issue, dtype: int64"
      ]
     },
     "execution_count": 9,
     "metadata": {},
     "output_type": "execute_result"
    }
   ],
   "source": [
    "df[\"issue\"].dt.month"
   ]
  },
  {
   "cell_type": "code",
   "execution_count": 10,
   "id": "94021e9b",
   "metadata": {},
   "outputs": [
    {
     "data": {
      "text/plain": [
       "0    1\n",
       "1    1\n",
       "2    2\n",
       "3    4\n",
       "4    3\n",
       "Name: issue, dtype: int64"
      ]
     },
     "execution_count": 10,
     "metadata": {},
     "output_type": "execute_result"
    }
   ],
   "source": [
    "df[\"issue\"].dt.quarter"
   ]
  },
  {
   "cell_type": "code",
   "execution_count": 11,
   "id": "5aef40b0",
   "metadata": {},
   "outputs": [
    {
     "data": {
      "text/plain": [
       "0    2023\n",
       "1    2023\n",
       "2    2023\n",
       "3    2023\n",
       "4    2023\n",
       "Name: issue, dtype: int64"
      ]
     },
     "execution_count": 11,
     "metadata": {},
     "output_type": "execute_result"
    }
   ],
   "source": [
    "df[\"issue\"].dt.year"
   ]
  },
  {
   "cell_type": "code",
   "execution_count": 12,
   "id": "16fb40a8",
   "metadata": {},
   "outputs": [
    {
     "data": {
      "text/plain": [
       "0    23\n",
       "1    10\n",
       "2    22\n",
       "3     1\n",
       "4    28\n",
       "Name: issue, dtype: int64"
      ]
     },
     "execution_count": 12,
     "metadata": {},
     "output_type": "execute_result"
    }
   ],
   "source": [
    "df[\"issue\"].dt.day"
   ]
  },
  {
   "cell_type": "code",
   "execution_count": 13,
   "id": "bfe663df",
   "metadata": {},
   "outputs": [
    {
     "data": {
      "text/plain": [
       "array([2023], dtype=int64)"
      ]
     },
     "execution_count": 13,
     "metadata": {},
     "output_type": "execute_result"
    }
   ],
   "source": [
    "df[\"issue\"].dt.year.unique()"
   ]
  },
  {
   "cell_type": "code",
   "execution_count": 14,
   "id": "370a434b",
   "metadata": {},
   "outputs": [
    {
     "data": {
      "text/plain": [
       "0    3\n",
       "1    4\n",
       "2    5\n",
       "3    2\n",
       "4    3\n",
       "Name: issue, dtype: int64"
      ]
     },
     "execution_count": 14,
     "metadata": {},
     "output_type": "execute_result"
    }
   ],
   "source": [
    "df[\"issue\"].dt.dayofweek"
   ]
  },
  {
   "cell_type": "code",
   "execution_count": 15,
   "id": "1f2b791c",
   "metadata": {},
   "outputs": [],
   "source": [
    "#for machine learning we dont use these variables directly since they dont say any information directly since it is just a number for them\n",
    "#so we need to extract different variables from this like day passed,day difference,week,day,month,year info,is it a weekened .etc"
   ]
  },
  {
   "cell_type": "code",
   "execution_count": 16,
   "id": "3d441747",
   "metadata": {},
   "outputs": [],
   "source": [
    "#lets create a new variable isweekend from issue column"
   ]
  },
  {
   "cell_type": "code",
   "execution_count": 20,
   "id": "ba686ae9",
   "metadata": {},
   "outputs": [
    {
     "data": {
      "text/plain": [
       "array([0, 0, 1, 0, 0])"
      ]
     },
     "execution_count": 20,
     "metadata": {},
     "output_type": "execute_result"
    }
   ],
   "source": [
    "#if day of week is 5 or 6 then it is a weekend else not\n",
    "np.where(df[\"issue\"].dt.dayofweek.isin([5,6]),1,0)"
   ]
  },
  {
   "cell_type": "code",
   "execution_count": 21,
   "id": "98c15a53",
   "metadata": {},
   "outputs": [
    {
     "data": {
      "text/plain": [
       "0   2669 days\n",
       "1   2809 days\n",
       "2   3367 days\n",
       "3   3501 days\n",
       "4   3072 days\n",
       "dtype: timedelta64[ns]"
      ]
     },
     "execution_count": 21,
     "metadata": {},
     "output_type": "execute_result"
    }
   ],
   "source": [
    "#calculating difference between two dates interms of days\n",
    "df[\"issue\"]-df[\"last\"]"
   ]
  },
  {
   "cell_type": "code",
   "execution_count": 22,
   "id": "353d3186",
   "metadata": {},
   "outputs": [
    {
     "data": {
      "text/plain": [
       "0    2669\n",
       "1    2809\n",
       "2    3367\n",
       "3    3501\n",
       "4    3072\n",
       "dtype: int64"
      ]
     },
     "execution_count": 22,
     "metadata": {},
     "output_type": "execute_result"
    }
   ],
   "source": [
    "#inorder to just extract number \n",
    "(df[\"issue\"]-df[\"last\"]).dt.days"
   ]
  },
  {
   "cell_type": "code",
   "execution_count": 24,
   "id": "5dc21869",
   "metadata": {},
   "outputs": [],
   "source": [
    "#today date\n",
    "#for this u may need external library\n",
    "import datetime"
   ]
  },
  {
   "cell_type": "code",
   "execution_count": 26,
   "id": "f98a1703",
   "metadata": {},
   "outputs": [
    {
     "data": {
      "text/plain": [
       "datetime.datetime(2023, 3, 23, 18, 22, 54, 773414)"
      ]
     },
     "execution_count": 26,
     "metadata": {},
     "output_type": "execute_result"
    }
   ],
   "source": [
    "datetime.datetime.today()"
   ]
  },
  {
   "cell_type": "code",
   "execution_count": 51,
   "id": "11658d50",
   "metadata": {},
   "outputs": [],
   "source": [
    "#now lets work with time"
   ]
  },
  {
   "cell_type": "code",
   "execution_count": 52,
   "id": "5347c9c7",
   "metadata": {},
   "outputs": [],
   "source": [
    "#first lets create a range of values\n",
    "df=pd.DataFrame(pd.date_range('2015-1-5 11:20:00',periods=7,freq=\"H\"),columns=[\"datetime\"])\n",
    "df[\"end\"]=pd.date_range('2016-4-6 11:20:00',periods=7,freq=\"H\")"
   ]
  },
  {
   "cell_type": "code",
   "execution_count": 53,
   "id": "b252a69f",
   "metadata": {},
   "outputs": [
    {
     "data": {
      "text/html": [
       "<div>\n",
       "<style scoped>\n",
       "    .dataframe tbody tr th:only-of-type {\n",
       "        vertical-align: middle;\n",
       "    }\n",
       "\n",
       "    .dataframe tbody tr th {\n",
       "        vertical-align: top;\n",
       "    }\n",
       "\n",
       "    .dataframe thead th {\n",
       "        text-align: right;\n",
       "    }\n",
       "</style>\n",
       "<table border=\"1\" class=\"dataframe\">\n",
       "  <thead>\n",
       "    <tr style=\"text-align: right;\">\n",
       "      <th></th>\n",
       "      <th>datetime</th>\n",
       "      <th>end</th>\n",
       "    </tr>\n",
       "  </thead>\n",
       "  <tbody>\n",
       "    <tr>\n",
       "      <th>0</th>\n",
       "      <td>2015-01-05 11:20:00</td>\n",
       "      <td>2016-04-06 11:20:00</td>\n",
       "    </tr>\n",
       "    <tr>\n",
       "      <th>1</th>\n",
       "      <td>2015-01-05 12:20:00</td>\n",
       "      <td>2016-04-06 12:20:00</td>\n",
       "    </tr>\n",
       "    <tr>\n",
       "      <th>2</th>\n",
       "      <td>2015-01-05 13:20:00</td>\n",
       "      <td>2016-04-06 13:20:00</td>\n",
       "    </tr>\n",
       "    <tr>\n",
       "      <th>3</th>\n",
       "      <td>2015-01-05 14:20:00</td>\n",
       "      <td>2016-04-06 14:20:00</td>\n",
       "    </tr>\n",
       "    <tr>\n",
       "      <th>4</th>\n",
       "      <td>2015-01-05 15:20:00</td>\n",
       "      <td>2016-04-06 15:20:00</td>\n",
       "    </tr>\n",
       "    <tr>\n",
       "      <th>5</th>\n",
       "      <td>2015-01-05 16:20:00</td>\n",
       "      <td>2016-04-06 16:20:00</td>\n",
       "    </tr>\n",
       "    <tr>\n",
       "      <th>6</th>\n",
       "      <td>2015-01-05 17:20:00</td>\n",
       "      <td>2016-04-06 17:20:00</td>\n",
       "    </tr>\n",
       "  </tbody>\n",
       "</table>\n",
       "</div>"
      ],
      "text/plain": [
       "             datetime                 end\n",
       "0 2015-01-05 11:20:00 2016-04-06 11:20:00\n",
       "1 2015-01-05 12:20:00 2016-04-06 12:20:00\n",
       "2 2015-01-05 13:20:00 2016-04-06 13:20:00\n",
       "3 2015-01-05 14:20:00 2016-04-06 14:20:00\n",
       "4 2015-01-05 15:20:00 2016-04-06 15:20:00\n",
       "5 2015-01-05 16:20:00 2016-04-06 16:20:00\n",
       "6 2015-01-05 17:20:00 2016-04-06 17:20:00"
      ]
     },
     "execution_count": 53,
     "metadata": {},
     "output_type": "execute_result"
    }
   ],
   "source": [
    "df"
   ]
  },
  {
   "cell_type": "code",
   "execution_count": 54,
   "id": "2816a845",
   "metadata": {},
   "outputs": [
    {
     "data": {
      "text/plain": [
       "0    11:20:00\n",
       "1    12:20:00\n",
       "2    13:20:00\n",
       "3    14:20:00\n",
       "4    15:20:00\n",
       "5    16:20:00\n",
       "6    17:20:00\n",
       "Name: datetime, dtype: object"
      ]
     },
     "execution_count": 54,
     "metadata": {},
     "output_type": "execute_result"
    }
   ],
   "source": [
    "df[\"datetime\"].dt.time"
   ]
  },
  {
   "cell_type": "code",
   "execution_count": 55,
   "id": "0f965cdd",
   "metadata": {},
   "outputs": [
    {
     "data": {
      "text/html": [
       "<div>\n",
       "<style scoped>\n",
       "    .dataframe tbody tr th:only-of-type {\n",
       "        vertical-align: middle;\n",
       "    }\n",
       "\n",
       "    .dataframe tbody tr th {\n",
       "        vertical-align: top;\n",
       "    }\n",
       "\n",
       "    .dataframe thead th {\n",
       "        text-align: right;\n",
       "    }\n",
       "</style>\n",
       "<table border=\"1\" class=\"dataframe\">\n",
       "  <thead>\n",
       "    <tr style=\"text-align: right;\">\n",
       "      <th></th>\n",
       "      <th>hour</th>\n",
       "      <th>minute</th>\n",
       "      <th>seconds</th>\n",
       "    </tr>\n",
       "  </thead>\n",
       "  <tbody>\n",
       "    <tr>\n",
       "      <th>0</th>\n",
       "      <td>11</td>\n",
       "      <td>20</td>\n",
       "      <td>0</td>\n",
       "    </tr>\n",
       "    <tr>\n",
       "      <th>1</th>\n",
       "      <td>12</td>\n",
       "      <td>20</td>\n",
       "      <td>0</td>\n",
       "    </tr>\n",
       "    <tr>\n",
       "      <th>2</th>\n",
       "      <td>13</td>\n",
       "      <td>20</td>\n",
       "      <td>0</td>\n",
       "    </tr>\n",
       "    <tr>\n",
       "      <th>3</th>\n",
       "      <td>14</td>\n",
       "      <td>20</td>\n",
       "      <td>0</td>\n",
       "    </tr>\n",
       "    <tr>\n",
       "      <th>4</th>\n",
       "      <td>15</td>\n",
       "      <td>20</td>\n",
       "      <td>0</td>\n",
       "    </tr>\n",
       "    <tr>\n",
       "      <th>5</th>\n",
       "      <td>16</td>\n",
       "      <td>20</td>\n",
       "      <td>0</td>\n",
       "    </tr>\n",
       "    <tr>\n",
       "      <th>6</th>\n",
       "      <td>17</td>\n",
       "      <td>20</td>\n",
       "      <td>0</td>\n",
       "    </tr>\n",
       "  </tbody>\n",
       "</table>\n",
       "</div>"
      ],
      "text/plain": [
       "   hour  minute  seconds\n",
       "0    11      20        0\n",
       "1    12      20        0\n",
       "2    13      20        0\n",
       "3    14      20        0\n",
       "4    15      20        0\n",
       "5    16      20        0\n",
       "6    17      20        0"
      ]
     },
     "execution_count": 55,
     "metadata": {},
     "output_type": "execute_result"
    }
   ],
   "source": [
    "#extracting in one go instead of separately\n",
    "pd.DataFrame(([i.hour,i.minute,i.second] for i in df[\"datetime\"]),columns=[\"hour\",\"minute\",\"seconds\"])"
   ]
  },
  {
   "cell_type": "code",
   "execution_count": 58,
   "id": "45ed9ab3",
   "metadata": {},
   "outputs": [
    {
     "data": {
      "text/plain": [
       "0   -457 days\n",
       "1   -457 days\n",
       "2   -457 days\n",
       "3   -457 days\n",
       "4   -457 days\n",
       "5   -457 days\n",
       "6   -457 days\n",
       "dtype: timedelta64[ns]"
      ]
     },
     "execution_count": 58,
     "metadata": {},
     "output_type": "execute_result"
    }
   ],
   "source": [
    "#subtracing\n",
    "df[\"datetime\"]-df[\"end\"]"
   ]
  },
  {
   "cell_type": "code",
   "execution_count": null,
   "id": "871a635f",
   "metadata": {},
   "outputs": [],
   "source": []
  }
 ],
 "metadata": {
  "kernelspec": {
   "display_name": "Python 3 (ipykernel)",
   "language": "python",
   "name": "python3"
  },
  "language_info": {
   "codemirror_mode": {
    "name": "ipython",
    "version": 3
   },
   "file_extension": ".py",
   "mimetype": "text/x-python",
   "name": "python",
   "nbconvert_exporter": "python",
   "pygments_lexer": "ipython3",
   "version": "3.9.12"
  }
 },
 "nbformat": 4,
 "nbformat_minor": 5
}
