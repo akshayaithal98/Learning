{
 "cells": [
  {
   "cell_type": "markdown",
   "id": "3483d596",
   "metadata": {},
   "source": [
    "<div align=\"center\" style=\"color:Blue;font-size:18px\">Predicting Interest Level of Property</div>"
   ]
  },
  {
   "cell_type": "markdown",
   "id": "494cd2d7",
   "metadata": {},
   "source": [
    "### Task1 : Data Loading"
   ]
  },
  {
   "cell_type": "code",
   "execution_count": 84,
   "id": "a9b5c16e",
   "metadata": {},
   "outputs": [],
   "source": [
    "import pandas as pd\n",
    "import numpy as np\n",
    "import seaborn as sns\n",
    "import matplotlib.pyplot as plt\n",
    "from sklearn.preprocessing import LabelEncoder,StandardScaler\n",
    "from sklearn.model_selection import train_test_split,GridSearchCV\n",
    "from sklearn.metrics import accuracy_score,precision_score,f1_score,recall_score,confusion_matrix\n",
    "import warnings\n",
    "warnings.filterwarnings('ignore')\n",
    "import reverse_geocoder as rg\n",
    "from sklearn.model_selection import RepeatedStratifiedKFold,cross_val_score"
   ]
  },
  {
   "cell_type": "code",
   "execution_count": 2,
   "id": "392a565f",
   "metadata": {},
   "outputs": [
    {
     "data": {
      "text/html": [
       "<div>\n",
       "<style scoped>\n",
       "    .dataframe tbody tr th:only-of-type {\n",
       "        vertical-align: middle;\n",
       "    }\n",
       "\n",
       "    .dataframe tbody tr th {\n",
       "        vertical-align: top;\n",
       "    }\n",
       "\n",
       "    .dataframe thead th {\n",
       "        text-align: right;\n",
       "    }\n",
       "</style>\n",
       "<table border=\"1\" class=\"dataframe\">\n",
       "  <thead>\n",
       "    <tr style=\"text-align: right;\">\n",
       "      <th></th>\n",
       "      <th>Unnamed: 0</th>\n",
       "      <th>bathrooms</th>\n",
       "      <th>bedrooms</th>\n",
       "      <th>building_id</th>\n",
       "      <th>created</th>\n",
       "      <th>description</th>\n",
       "      <th>display_address</th>\n",
       "      <th>features</th>\n",
       "      <th>latitude</th>\n",
       "      <th>listing_id</th>\n",
       "      <th>longitude</th>\n",
       "      <th>manager_id</th>\n",
       "      <th>photos</th>\n",
       "      <th>price</th>\n",
       "      <th>street_address</th>\n",
       "      <th>interest_level</th>\n",
       "    </tr>\n",
       "  </thead>\n",
       "  <tbody>\n",
       "    <tr>\n",
       "      <th>0</th>\n",
       "      <td>105408</td>\n",
       "      <td>1.0</td>\n",
       "      <td>0</td>\n",
       "      <td>0f9d07991ba14c82d3d368b72d90270a</td>\n",
       "      <td>04-04-2016 03:34</td>\n",
       "      <td>Gorgeous unit in one of the most genuinely cov...</td>\n",
       "      <td>230 Central Park South</td>\n",
       "      <td>['Cats Allowed', 'Dogs Allowed', 'Doorman', 'E...</td>\n",
       "      <td>40.7672</td>\n",
       "      <td>6827153</td>\n",
       "      <td>-73.9802</td>\n",
       "      <td>932589de9230b697808216774fa26bd4</td>\n",
       "      <td>['https://photos.renthop.com/2/6821519_0a14cc2...</td>\n",
       "      <td>2800</td>\n",
       "      <td>230 Central Park South</td>\n",
       "      <td>high</td>\n",
       "    </tr>\n",
       "    <tr>\n",
       "      <th>1</th>\n",
       "      <td>110219</td>\n",
       "      <td>1.0</td>\n",
       "      <td>1</td>\n",
       "      <td>564d6f608f41e8d4a5e181c4e068e3d9</td>\n",
       "      <td>21-04-2016 20:40</td>\n",
       "      <td>Enormous 1 bedroom apartment in Murray Hill. F...</td>\n",
       "      <td>E 39th St</td>\n",
       "      <td>['Cats Allowed', 'Dogs Allowed', 'Reduced Fee'...</td>\n",
       "      <td>40.7483</td>\n",
       "      <td>6908998</td>\n",
       "      <td>-73.9741</td>\n",
       "      <td>489ad933197469ae66acd1f7ce18f908</td>\n",
       "      <td>['https://photos.renthop.com/2/6908998_6b00895...</td>\n",
       "      <td>2100</td>\n",
       "      <td>243 E 39th St</td>\n",
       "      <td>high</td>\n",
       "    </tr>\n",
       "    <tr>\n",
       "      <th>2</th>\n",
       "      <td>56113</td>\n",
       "      <td>1.0</td>\n",
       "      <td>1</td>\n",
       "      <td>69790fbf0bf7e22b1d0ebc721cf0f633</td>\n",
       "      <td>14-05-2016 05:44</td>\n",
       "      <td>This 1 bedroom, 1 bathroom spacious apartment ...</td>\n",
       "      <td>E 25th St.</td>\n",
       "      <td>['Elevator', 'Furnished', 'Hardwood Floors']</td>\n",
       "      <td>40.7399</td>\n",
       "      <td>7013774</td>\n",
       "      <td>-73.9812</td>\n",
       "      <td>792c0f1ad1431397c65db3e69b770928</td>\n",
       "      <td>['https://photos.renthop.com/2/7013774_e7ead5d...</td>\n",
       "      <td>3000</td>\n",
       "      <td>217 E 25th St.</td>\n",
       "      <td>high</td>\n",
       "    </tr>\n",
       "    <tr>\n",
       "      <th>3</th>\n",
       "      <td>37765</td>\n",
       "      <td>1.0</td>\n",
       "      <td>2</td>\n",
       "      <td>d0234abbc01a982d54e8d446acc03405</td>\n",
       "      <td>05-06-2016 03:37</td>\n",
       "      <td>SPECTACULAR2 BEDROOM APARTMENT IN LUXURY 24HR ...</td>\n",
       "      <td>West 34th Street</td>\n",
       "      <td>['Doorman', 'Elevator', 'Dishwasher', 'Hardwoo...</td>\n",
       "      <td>40.7530</td>\n",
       "      <td>7113518</td>\n",
       "      <td>-73.9958</td>\n",
       "      <td>eb5a6c4c2eb6f3e2a085c477afd5a815</td>\n",
       "      <td>['https://photos.renthop.com/2/7113518_d234153...</td>\n",
       "      <td>3000</td>\n",
       "      <td>360 West 34th Street</td>\n",
       "      <td>high</td>\n",
       "    </tr>\n",
       "    <tr>\n",
       "      <th>4</th>\n",
       "      <td>67397</td>\n",
       "      <td>1.0</td>\n",
       "      <td>2</td>\n",
       "      <td>a36895b9975c6991ca0fa1d9a99023a1</td>\n",
       "      <td>26-05-2016 05:36</td>\n",
       "      <td>NO FEE.. Newly Reno XL Convertible 2 Br .. Pri...</td>\n",
       "      <td>East 72nd Street</td>\n",
       "      <td>['Dining Room', 'Doorman', 'Elevator', 'Fitnes...</td>\n",
       "      <td>40.7695</td>\n",
       "      <td>7071666</td>\n",
       "      <td>-73.9603</td>\n",
       "      <td>0a6ba20b892ed61df751420934d1ab51</td>\n",
       "      <td>['https://photos.renthop.com/2/7071666_4f81618...</td>\n",
       "      <td>3300</td>\n",
       "      <td>200 East 72nd Street</td>\n",
       "      <td>high</td>\n",
       "    </tr>\n",
       "  </tbody>\n",
       "</table>\n",
       "</div>"
      ],
      "text/plain": [
       "   Unnamed: 0  bathrooms  bedrooms                       building_id  \\\n",
       "0      105408        1.0         0  0f9d07991ba14c82d3d368b72d90270a   \n",
       "1      110219        1.0         1  564d6f608f41e8d4a5e181c4e068e3d9   \n",
       "2       56113        1.0         1  69790fbf0bf7e22b1d0ebc721cf0f633   \n",
       "3       37765        1.0         2  d0234abbc01a982d54e8d446acc03405   \n",
       "4       67397        1.0         2  a36895b9975c6991ca0fa1d9a99023a1   \n",
       "\n",
       "            created                                        description  \\\n",
       "0  04-04-2016 03:34  Gorgeous unit in one of the most genuinely cov...   \n",
       "1  21-04-2016 20:40  Enormous 1 bedroom apartment in Murray Hill. F...   \n",
       "2  14-05-2016 05:44  This 1 bedroom, 1 bathroom spacious apartment ...   \n",
       "3  05-06-2016 03:37  SPECTACULAR2 BEDROOM APARTMENT IN LUXURY 24HR ...   \n",
       "4  26-05-2016 05:36  NO FEE.. Newly Reno XL Convertible 2 Br .. Pri...   \n",
       "\n",
       "          display_address                                           features  \\\n",
       "0  230 Central Park South  ['Cats Allowed', 'Dogs Allowed', 'Doorman', 'E...   \n",
       "1               E 39th St  ['Cats Allowed', 'Dogs Allowed', 'Reduced Fee'...   \n",
       "2              E 25th St.       ['Elevator', 'Furnished', 'Hardwood Floors']   \n",
       "3        West 34th Street  ['Doorman', 'Elevator', 'Dishwasher', 'Hardwoo...   \n",
       "4        East 72nd Street  ['Dining Room', 'Doorman', 'Elevator', 'Fitnes...   \n",
       "\n",
       "   latitude  listing_id  longitude                        manager_id  \\\n",
       "0   40.7672     6827153   -73.9802  932589de9230b697808216774fa26bd4   \n",
       "1   40.7483     6908998   -73.9741  489ad933197469ae66acd1f7ce18f908   \n",
       "2   40.7399     7013774   -73.9812  792c0f1ad1431397c65db3e69b770928   \n",
       "3   40.7530     7113518   -73.9958  eb5a6c4c2eb6f3e2a085c477afd5a815   \n",
       "4   40.7695     7071666   -73.9603  0a6ba20b892ed61df751420934d1ab51   \n",
       "\n",
       "                                              photos  price  \\\n",
       "0  ['https://photos.renthop.com/2/6821519_0a14cc2...   2800   \n",
       "1  ['https://photos.renthop.com/2/6908998_6b00895...   2100   \n",
       "2  ['https://photos.renthop.com/2/7013774_e7ead5d...   3000   \n",
       "3  ['https://photos.renthop.com/2/7113518_d234153...   3000   \n",
       "4  ['https://photos.renthop.com/2/7071666_4f81618...   3300   \n",
       "\n",
       "           street_address interest_level  \n",
       "0  230 Central Park South           high  \n",
       "1           243 E 39th St           high  \n",
       "2          217 E 25th St.           high  \n",
       "3    360 West 34th Street           high  \n",
       "4    200 East 72nd Street           high  "
      ]
     },
     "execution_count": 2,
     "metadata": {},
     "output_type": "execute_result"
    }
   ],
   "source": [
    "df=pd.read_csv(\"DS2_C5_S7_AllRent_Data_Challenge.csv\")\n",
    "df.head()"
   ]
  },
  {
   "cell_type": "markdown",
   "id": "6352e1b6",
   "metadata": {},
   "source": [
    "### Task2 : Data Exploration"
   ]
  },
  {
   "cell_type": "code",
   "execution_count": 5,
   "id": "81be5fef",
   "metadata": {},
   "outputs": [
    {
     "data": {
      "text/plain": [
       "(9871, 16)"
      ]
     },
     "execution_count": 5,
     "metadata": {},
     "output_type": "execute_result"
    }
   ],
   "source": [
    "df.shape"
   ]
  },
  {
   "cell_type": "code",
   "execution_count": 4,
   "id": "6abfd047",
   "metadata": {},
   "outputs": [
    {
     "data": {
      "text/plain": [
       "Index(['Unnamed: 0', 'bathrooms', 'bedrooms', 'building_id', 'created',\n",
       "       'description', 'display_address', 'features', 'latitude', 'listing_id',\n",
       "       'longitude', 'manager_id', 'photos', 'price', 'street_address',\n",
       "       'interest_level'],\n",
       "      dtype='object')"
      ]
     },
     "execution_count": 4,
     "metadata": {},
     "output_type": "execute_result"
    }
   ],
   "source": [
    "df.columns"
   ]
  },
  {
   "cell_type": "code",
   "execution_count": 6,
   "id": "592b18aa",
   "metadata": {},
   "outputs": [
    {
     "data": {
      "text/html": [
       "<div>\n",
       "<style scoped>\n",
       "    .dataframe tbody tr th:only-of-type {\n",
       "        vertical-align: middle;\n",
       "    }\n",
       "\n",
       "    .dataframe tbody tr th {\n",
       "        vertical-align: top;\n",
       "    }\n",
       "\n",
       "    .dataframe thead th {\n",
       "        text-align: right;\n",
       "    }\n",
       "</style>\n",
       "<table border=\"1\" class=\"dataframe\">\n",
       "  <thead>\n",
       "    <tr style=\"text-align: right;\">\n",
       "      <th></th>\n",
       "      <th>Unnamed: 0</th>\n",
       "      <th>bathrooms</th>\n",
       "      <th>bedrooms</th>\n",
       "      <th>latitude</th>\n",
       "      <th>listing_id</th>\n",
       "      <th>longitude</th>\n",
       "      <th>price</th>\n",
       "    </tr>\n",
       "  </thead>\n",
       "  <tbody>\n",
       "    <tr>\n",
       "      <th>count</th>\n",
       "      <td>9871.000000</td>\n",
       "      <td>9871.000000</td>\n",
       "      <td>9871.000000</td>\n",
       "      <td>9871.000000</td>\n",
       "      <td>9.871000e+03</td>\n",
       "      <td>9871.000000</td>\n",
       "      <td>9871.000000</td>\n",
       "    </tr>\n",
       "    <tr>\n",
       "      <th>mean</th>\n",
       "      <td>61828.973154</td>\n",
       "      <td>1.210617</td>\n",
       "      <td>1.533685</td>\n",
       "      <td>40.747167</td>\n",
       "      <td>7.024062e+06</td>\n",
       "      <td>-73.965549</td>\n",
       "      <td>3662.860804</td>\n",
       "    </tr>\n",
       "    <tr>\n",
       "      <th>std</th>\n",
       "      <td>35901.607107</td>\n",
       "      <td>0.501985</td>\n",
       "      <td>1.106696</td>\n",
       "      <td>0.414548</td>\n",
       "      <td>1.269108e+05</td>\n",
       "      <td>0.760686</td>\n",
       "      <td>2559.911997</td>\n",
       "    </tr>\n",
       "    <tr>\n",
       "      <th>min</th>\n",
       "      <td>9.000000</td>\n",
       "      <td>0.000000</td>\n",
       "      <td>0.000000</td>\n",
       "      <td>0.000000</td>\n",
       "      <td>6.812005e+06</td>\n",
       "      <td>-87.613400</td>\n",
       "      <td>43.000000</td>\n",
       "    </tr>\n",
       "    <tr>\n",
       "      <th>25%</th>\n",
       "      <td>30968.000000</td>\n",
       "      <td>1.000000</td>\n",
       "      <td>1.000000</td>\n",
       "      <td>40.727500</td>\n",
       "      <td>6.914494e+06</td>\n",
       "      <td>-73.992200</td>\n",
       "      <td>2499.000000</td>\n",
       "    </tr>\n",
       "    <tr>\n",
       "      <th>50%</th>\n",
       "      <td>61354.000000</td>\n",
       "      <td>1.000000</td>\n",
       "      <td>1.000000</td>\n",
       "      <td>40.750600</td>\n",
       "      <td>7.022816e+06</td>\n",
       "      <td>-73.978300</td>\n",
       "      <td>3125.000000</td>\n",
       "    </tr>\n",
       "    <tr>\n",
       "      <th>75%</th>\n",
       "      <td>93229.500000</td>\n",
       "      <td>1.000000</td>\n",
       "      <td>2.000000</td>\n",
       "      <td>40.773900</td>\n",
       "      <td>7.130978e+06</td>\n",
       "      <td>-73.955100</td>\n",
       "      <td>4047.500000</td>\n",
       "    </tr>\n",
       "    <tr>\n",
       "      <th>max</th>\n",
       "      <td>123995.000000</td>\n",
       "      <td>10.000000</td>\n",
       "      <td>8.000000</td>\n",
       "      <td>43.034600</td>\n",
       "      <td>7.742631e+06</td>\n",
       "      <td>0.000000</td>\n",
       "      <td>90000.000000</td>\n",
       "    </tr>\n",
       "  </tbody>\n",
       "</table>\n",
       "</div>"
      ],
      "text/plain": [
       "          Unnamed: 0    bathrooms     bedrooms     latitude    listing_id  \\\n",
       "count    9871.000000  9871.000000  9871.000000  9871.000000  9.871000e+03   \n",
       "mean    61828.973154     1.210617     1.533685    40.747167  7.024062e+06   \n",
       "std     35901.607107     0.501985     1.106696     0.414548  1.269108e+05   \n",
       "min         9.000000     0.000000     0.000000     0.000000  6.812005e+06   \n",
       "25%     30968.000000     1.000000     1.000000    40.727500  6.914494e+06   \n",
       "50%     61354.000000     1.000000     1.000000    40.750600  7.022816e+06   \n",
       "75%     93229.500000     1.000000     2.000000    40.773900  7.130978e+06   \n",
       "max    123995.000000    10.000000     8.000000    43.034600  7.742631e+06   \n",
       "\n",
       "         longitude         price  \n",
       "count  9871.000000   9871.000000  \n",
       "mean    -73.965549   3662.860804  \n",
       "std       0.760686   2559.911997  \n",
       "min     -87.613400     43.000000  \n",
       "25%     -73.992200   2499.000000  \n",
       "50%     -73.978300   3125.000000  \n",
       "75%     -73.955100   4047.500000  \n",
       "max       0.000000  90000.000000  "
      ]
     },
     "execution_count": 6,
     "metadata": {},
     "output_type": "execute_result"
    }
   ],
   "source": [
    "df.describe()"
   ]
  },
  {
   "cell_type": "code",
   "execution_count": 7,
   "id": "1dd90dc7",
   "metadata": {},
   "outputs": [
    {
     "name": "stdout",
     "output_type": "stream",
     "text": [
      "<class 'pandas.core.frame.DataFrame'>\n",
      "RangeIndex: 9871 entries, 0 to 9870\n",
      "Data columns (total 16 columns):\n",
      " #   Column           Non-Null Count  Dtype  \n",
      "---  ------           --------------  -----  \n",
      " 0   Unnamed: 0       9871 non-null   int64  \n",
      " 1   bathrooms        9871 non-null   float64\n",
      " 2   bedrooms         9871 non-null   int64  \n",
      " 3   building_id      9871 non-null   object \n",
      " 4   created          9871 non-null   object \n",
      " 5   description      9585 non-null   object \n",
      " 6   display_address  9837 non-null   object \n",
      " 7   features         9871 non-null   object \n",
      " 8   latitude         9871 non-null   float64\n",
      " 9   listing_id       9871 non-null   int64  \n",
      " 10  longitude        9871 non-null   float64\n",
      " 11  manager_id       9871 non-null   object \n",
      " 12  photos           9871 non-null   object \n",
      " 13  price            9871 non-null   int64  \n",
      " 14  street_address   9866 non-null   object \n",
      " 15  interest_level   9871 non-null   object \n",
      "dtypes: float64(3), int64(4), object(9)\n",
      "memory usage: 1.2+ MB\n"
     ]
    }
   ],
   "source": [
    "df.info()"
   ]
  },
  {
   "cell_type": "markdown",
   "id": "21daed9f",
   "metadata": {},
   "source": [
    "### Task3: Data Preprocessing"
   ]
  },
  {
   "cell_type": "code",
   "execution_count": 8,
   "id": "77596aa9",
   "metadata": {},
   "outputs": [],
   "source": [
    "df.drop([\"Unnamed: 0\",\"building_id\",\"display_address\",\"listing_id\",\"manager_id\",\"photos\",\"street_address\",\"description\",\"features\"],axis=1,inplace=True)"
   ]
  },
  {
   "cell_type": "code",
   "execution_count": 9,
   "id": "a26145bc",
   "metadata": {},
   "outputs": [
    {
     "data": {
      "text/html": [
       "<div>\n",
       "<style scoped>\n",
       "    .dataframe tbody tr th:only-of-type {\n",
       "        vertical-align: middle;\n",
       "    }\n",
       "\n",
       "    .dataframe tbody tr th {\n",
       "        vertical-align: top;\n",
       "    }\n",
       "\n",
       "    .dataframe thead th {\n",
       "        text-align: right;\n",
       "    }\n",
       "</style>\n",
       "<table border=\"1\" class=\"dataframe\">\n",
       "  <thead>\n",
       "    <tr style=\"text-align: right;\">\n",
       "      <th></th>\n",
       "      <th>bathrooms</th>\n",
       "      <th>bedrooms</th>\n",
       "      <th>created</th>\n",
       "      <th>latitude</th>\n",
       "      <th>longitude</th>\n",
       "      <th>price</th>\n",
       "      <th>interest_level</th>\n",
       "    </tr>\n",
       "  </thead>\n",
       "  <tbody>\n",
       "    <tr>\n",
       "      <th>0</th>\n",
       "      <td>1.0</td>\n",
       "      <td>0</td>\n",
       "      <td>04-04-2016 03:34</td>\n",
       "      <td>40.7672</td>\n",
       "      <td>-73.9802</td>\n",
       "      <td>2800</td>\n",
       "      <td>high</td>\n",
       "    </tr>\n",
       "    <tr>\n",
       "      <th>1</th>\n",
       "      <td>1.0</td>\n",
       "      <td>1</td>\n",
       "      <td>21-04-2016 20:40</td>\n",
       "      <td>40.7483</td>\n",
       "      <td>-73.9741</td>\n",
       "      <td>2100</td>\n",
       "      <td>high</td>\n",
       "    </tr>\n",
       "    <tr>\n",
       "      <th>2</th>\n",
       "      <td>1.0</td>\n",
       "      <td>1</td>\n",
       "      <td>14-05-2016 05:44</td>\n",
       "      <td>40.7399</td>\n",
       "      <td>-73.9812</td>\n",
       "      <td>3000</td>\n",
       "      <td>high</td>\n",
       "    </tr>\n",
       "    <tr>\n",
       "      <th>3</th>\n",
       "      <td>1.0</td>\n",
       "      <td>2</td>\n",
       "      <td>05-06-2016 03:37</td>\n",
       "      <td>40.7530</td>\n",
       "      <td>-73.9958</td>\n",
       "      <td>3000</td>\n",
       "      <td>high</td>\n",
       "    </tr>\n",
       "    <tr>\n",
       "      <th>4</th>\n",
       "      <td>1.0</td>\n",
       "      <td>2</td>\n",
       "      <td>26-05-2016 05:36</td>\n",
       "      <td>40.7695</td>\n",
       "      <td>-73.9603</td>\n",
       "      <td>3300</td>\n",
       "      <td>high</td>\n",
       "    </tr>\n",
       "  </tbody>\n",
       "</table>\n",
       "</div>"
      ],
      "text/plain": [
       "   bathrooms  bedrooms           created  latitude  longitude  price  \\\n",
       "0        1.0         0  04-04-2016 03:34   40.7672   -73.9802   2800   \n",
       "1        1.0         1  21-04-2016 20:40   40.7483   -73.9741   2100   \n",
       "2        1.0         1  14-05-2016 05:44   40.7399   -73.9812   3000   \n",
       "3        1.0         2  05-06-2016 03:37   40.7530   -73.9958   3000   \n",
       "4        1.0         2  26-05-2016 05:36   40.7695   -73.9603   3300   \n",
       "\n",
       "  interest_level  \n",
       "0           high  \n",
       "1           high  \n",
       "2           high  \n",
       "3           high  \n",
       "4           high  "
      ]
     },
     "execution_count": 9,
     "metadata": {},
     "output_type": "execute_result"
    }
   ],
   "source": [
    "df.head()"
   ]
  },
  {
   "cell_type": "code",
   "execution_count": 10,
   "id": "a0f30b53",
   "metadata": {},
   "outputs": [
    {
     "name": "stdout",
     "output_type": "stream",
     "text": [
      "Loading formatted geocoded file...\n"
     ]
    }
   ],
   "source": [
    "#reverse geoencoding using reverse geocoder\n",
    "#and dropping lat&long after getting location\n",
    "l=list(zip(df[\"latitude\"],df[\"longitude\"]))\n",
    "f=rg.search(l)\n",
    "df[\"location\"]=[i[\"name\"] for i in f]\n",
    "df.drop([\"latitude\",\"longitude\"],axis=1,inplace=True)"
   ]
  },
  {
   "cell_type": "code",
   "execution_count": 11,
   "id": "8d4d7f25",
   "metadata": {},
   "outputs": [
    {
     "data": {
      "text/html": [
       "<div>\n",
       "<style scoped>\n",
       "    .dataframe tbody tr th:only-of-type {\n",
       "        vertical-align: middle;\n",
       "    }\n",
       "\n",
       "    .dataframe tbody tr th {\n",
       "        vertical-align: top;\n",
       "    }\n",
       "\n",
       "    .dataframe thead th {\n",
       "        text-align: right;\n",
       "    }\n",
       "</style>\n",
       "<table border=\"1\" class=\"dataframe\">\n",
       "  <thead>\n",
       "    <tr style=\"text-align: right;\">\n",
       "      <th></th>\n",
       "      <th>bathrooms</th>\n",
       "      <th>bedrooms</th>\n",
       "      <th>price</th>\n",
       "      <th>interest_level</th>\n",
       "      <th>location</th>\n",
       "      <th>days_created</th>\n",
       "    </tr>\n",
       "  </thead>\n",
       "  <tbody>\n",
       "    <tr>\n",
       "      <th>0</th>\n",
       "      <td>1.0</td>\n",
       "      <td>0</td>\n",
       "      <td>2800</td>\n",
       "      <td>high</td>\n",
       "      <td>Manhattan</td>\n",
       "      <td>2428</td>\n",
       "    </tr>\n",
       "    <tr>\n",
       "      <th>1</th>\n",
       "      <td>1.0</td>\n",
       "      <td>1</td>\n",
       "      <td>2100</td>\n",
       "      <td>high</td>\n",
       "      <td>Long Island City</td>\n",
       "      <td>2411</td>\n",
       "    </tr>\n",
       "    <tr>\n",
       "      <th>2</th>\n",
       "      <td>1.0</td>\n",
       "      <td>1</td>\n",
       "      <td>3000</td>\n",
       "      <td>high</td>\n",
       "      <td>Long Island City</td>\n",
       "      <td>2388</td>\n",
       "    </tr>\n",
       "    <tr>\n",
       "      <th>3</th>\n",
       "      <td>1.0</td>\n",
       "      <td>2</td>\n",
       "      <td>3000</td>\n",
       "      <td>high</td>\n",
       "      <td>Weehawken</td>\n",
       "      <td>2396</td>\n",
       "    </tr>\n",
       "    <tr>\n",
       "      <th>4</th>\n",
       "      <td>1.0</td>\n",
       "      <td>2</td>\n",
       "      <td>3300</td>\n",
       "      <td>high</td>\n",
       "      <td>Manhattan</td>\n",
       "      <td>2376</td>\n",
       "    </tr>\n",
       "  </tbody>\n",
       "</table>\n",
       "</div>"
      ],
      "text/plain": [
       "   bathrooms  bedrooms  price interest_level          location days_created\n",
       "0        1.0         0   2800           high         Manhattan         2428\n",
       "1        1.0         1   2100           high  Long Island City         2411\n",
       "2        1.0         1   3000           high  Long Island City         2388\n",
       "3        1.0         2   3000           high         Weehawken         2396\n",
       "4        1.0         2   3300           high         Manhattan         2376"
      ]
     },
     "execution_count": 11,
     "metadata": {},
     "output_type": "execute_result"
    }
   ],
   "source": [
    "#converting created column to datetime.\n",
    "#then subtracting it from current date to get apartment's age\n",
    "df[\"created\"]=pd.to_datetime(df[\"created\"])\n",
    "current=pd.to_datetime('today').normalize()\n",
    "df[\"days_created\"]=current-df[\"created\"]\n",
    "df.drop(\"created\",axis=1,inplace=True)\n",
    "df[\"days_created\"]=df[\"days_created\"].apply(lambda x:str(x).split(\" \")[0])\n",
    "df.head()"
   ]
  },
  {
   "cell_type": "code",
   "execution_count": 12,
   "id": "37ac62b8",
   "metadata": {},
   "outputs": [
    {
     "data": {
      "text/plain": [
       "bathrooms         0\n",
       "bedrooms          0\n",
       "price             0\n",
       "interest_level    0\n",
       "location          0\n",
       "days_created      0\n",
       "dtype: int64"
      ]
     },
     "execution_count": 12,
     "metadata": {},
     "output_type": "execute_result"
    }
   ],
   "source": [
    "df.isnull().sum()"
   ]
  },
  {
   "cell_type": "markdown",
   "id": "583914aa",
   "metadata": {},
   "source": [
    "### Task4 : Data Visuzliazation"
   ]
  },
  {
   "cell_type": "code",
   "execution_count": 13,
   "id": "836e831c",
   "metadata": {},
   "outputs": [
    {
     "data": {
      "text/plain": [
       "<AxesSubplot:xlabel='interest_level', ylabel='count'>"
      ]
     },
     "execution_count": 13,
     "metadata": {},
     "output_type": "execute_result"
    },
    {
     "data": {
      "image/png": "[encoded data removed]",
      "text/plain": [
       "<Figure size 432x288 with 1 Axes>"
      ]
     },
     "metadata": {
      "needs_background": "light"
     },
     "output_type": "display_data"
    }
   ],
   "source": [
    "sns.countplot(data=df,x='interest_level')"
   ]
  },
  {
   "cell_type": "code",
   "execution_count": 14,
   "id": "b8261758",
   "metadata": {},
   "outputs": [],
   "source": [
    "#low interest level category has highest count"
   ]
  },
  {
   "cell_type": "code",
   "execution_count": 15,
   "id": "c9590664",
   "metadata": {},
   "outputs": [
    {
     "data": {
      "image/png": "[encoded data removed]",
      "text/plain": [
       "<Figure size 1080x720 with 3 Axes>"
      ]
     },
     "metadata": {
      "needs_background": "light"
     },
     "output_type": "display_data"
    }
   ],
   "source": [
    "plt.figure(figsize=(15,10))\n",
    "plt.subplot(221)\n",
    "sns.barplot(data=df,x=\"interest_level\",y='bathrooms')\n",
    "plt.subplot(222)\n",
    "sns.barplot(data=df,x=\"interest_level\",y='bedrooms')\n",
    "plt.subplot(223)\n",
    "sns.barplot(data=df,x=\"interest_level\",y='price')\n",
    "plt.subplot(223)\n",
    "sns.barplot(data=df,x=\"interest_level\",y='price')\n",
    "plt.show()"
   ]
  },
  {
   "cell_type": "markdown",
   "id": "07bcc5c7",
   "metadata": {},
   "source": [
    "Visualizing target-interest level with number bathrooms/bedrooms and price\n",
    "in low interest level category, mean number of bathrooms is higher\n",
    "is medium interest level category, mean number of bedrooms is higher\n",
    "mean price of low interest category is higher"
   ]
  },
  {
   "cell_type": "code",
   "execution_count": 16,
   "id": "eb6e4ae2",
   "metadata": {},
   "outputs": [
    {
     "data": {
      "text/plain": [
       "<seaborn.axisgrid.PairGrid at 0x227842b96d0>"
      ]
     },
     "execution_count": 16,
     "metadata": {},
     "output_type": "execute_result"
    },
    {
     "data": {
      "image/png": "[encoded data removed]",
      "text/plain": [
       "<Figure size 540x540 with 12 Axes>"
      ]
     },
     "metadata": {
      "needs_background": "light"
     },
     "output_type": "display_data"
    }
   ],
   "source": [
    "sns.pairplot(df)"
   ]
  },
  {
   "cell_type": "code",
   "execution_count": 17,
   "id": "76406459",
   "metadata": {},
   "outputs": [],
   "source": [
    "#inter feature relationship:\n",
    "#bathrooms,bedrooms and price are correlated with each other"
   ]
  },
  {
   "cell_type": "markdown",
   "id": "73772417",
   "metadata": {},
   "source": [
    "### Feature Engineering"
   ]
  },
  {
   "cell_type": "code",
   "execution_count": 18,
   "id": "c666ecaa",
   "metadata": {},
   "outputs": [
    {
     "data": {
      "text/plain": [
       "bathrooms         float64\n",
       "bedrooms            int64\n",
       "price               int64\n",
       "interest_level     object\n",
       "location           object\n",
       "days_created       object\n",
       "dtype: object"
      ]
     },
     "execution_count": 18,
     "metadata": {},
     "output_type": "execute_result"
    }
   ],
   "source": [
    "df.dtypes"
   ]
  },
  {
   "cell_type": "code",
   "execution_count": 19,
   "id": "c1d6bf92",
   "metadata": {},
   "outputs": [
    {
     "data": {
      "text/plain": [
       "bathrooms          float64\n",
       "bedrooms             int64\n",
       "price                int64\n",
       "interest_level    category\n",
       "location          category\n",
       "days_created      category\n",
       "dtype: object"
      ]
     },
     "execution_count": 19,
     "metadata": {},
     "output_type": "execute_result"
    }
   ],
   "source": [
    "#converting object to category for label encoding\n",
    "c=df.select_dtypes(include=\"object\")\n",
    "for i in c:\n",
    "    df[i]=df[i].astype(\"category\")\n",
    "df.dtypes"
   ]
  },
  {
   "cell_type": "code",
   "execution_count": 20,
   "id": "5f7dc16b",
   "metadata": {},
   "outputs": [
    {
     "data": {
      "text/html": [
       "<div>\n",
       "<style scoped>\n",
       "    .dataframe tbody tr th:only-of-type {\n",
       "        vertical-align: middle;\n",
       "    }\n",
       "\n",
       "    .dataframe tbody tr th {\n",
       "        vertical-align: top;\n",
       "    }\n",
       "\n",
       "    .dataframe thead th {\n",
       "        text-align: right;\n",
       "    }\n",
       "</style>\n",
       "<table border=\"1\" class=\"dataframe\">\n",
       "  <thead>\n",
       "    <tr style=\"text-align: right;\">\n",
       "      <th></th>\n",
       "      <th>bathrooms</th>\n",
       "      <th>bedrooms</th>\n",
       "      <th>price</th>\n",
       "      <th>interest_level</th>\n",
       "      <th>location</th>\n",
       "      <th>days_created</th>\n",
       "    </tr>\n",
       "  </thead>\n",
       "  <tbody>\n",
       "    <tr>\n",
       "      <th>0</th>\n",
       "      <td>1.0</td>\n",
       "      <td>0</td>\n",
       "      <td>2800</td>\n",
       "      <td>0</td>\n",
       "      <td>22</td>\n",
       "      <td>80</td>\n",
       "    </tr>\n",
       "    <tr>\n",
       "      <th>1</th>\n",
       "      <td>1.0</td>\n",
       "      <td>1</td>\n",
       "      <td>2100</td>\n",
       "      <td>0</td>\n",
       "      <td>21</td>\n",
       "      <td>69</td>\n",
       "    </tr>\n",
       "    <tr>\n",
       "      <th>2</th>\n",
       "      <td>1.0</td>\n",
       "      <td>1</td>\n",
       "      <td>3000</td>\n",
       "      <td>0</td>\n",
       "      <td>21</td>\n",
       "      <td>55</td>\n",
       "    </tr>\n",
       "    <tr>\n",
       "      <th>3</th>\n",
       "      <td>1.0</td>\n",
       "      <td>2</td>\n",
       "      <td>3000</td>\n",
       "      <td>0</td>\n",
       "      <td>36</td>\n",
       "      <td>57</td>\n",
       "    </tr>\n",
       "    <tr>\n",
       "      <th>4</th>\n",
       "      <td>1.0</td>\n",
       "      <td>2</td>\n",
       "      <td>3300</td>\n",
       "      <td>0</td>\n",
       "      <td>22</td>\n",
       "      <td>43</td>\n",
       "    </tr>\n",
       "  </tbody>\n",
       "</table>\n",
       "</div>"
      ],
      "text/plain": [
       "   bathrooms  bedrooms  price  interest_level  location  days_created\n",
       "0        1.0         0   2800               0        22            80\n",
       "1        1.0         1   2100               0        21            69\n",
       "2        1.0         1   3000               0        21            55\n",
       "3        1.0         2   3000               0        36            57\n",
       "4        1.0         2   3300               0        22            43"
      ]
     },
     "execution_count": 20,
     "metadata": {},
     "output_type": "execute_result"
    }
   ],
   "source": [
    "#Label encoding\n",
    "for i in c:\n",
    "    df[i]=LabelEncoder().fit_transform(df[i])\n",
    "df.head()"
   ]
  },
  {
   "cell_type": "code",
   "execution_count": 21,
   "id": "29955c43",
   "metadata": {},
   "outputs": [
    {
     "data": {
      "text/plain": [
       "<AxesSubplot:>"
      ]
     },
     "execution_count": 21,
     "metadata": {},
     "output_type": "execute_result"
    },
    {
     "data": {
      "image/png": "[encoded data removed]",
      "text/plain": [
       "<Figure size 1080x360 with 2 Axes>"
      ]
     },
     "metadata": {
      "needs_background": "light"
     },
     "output_type": "display_data"
    }
   ],
   "source": [
    "#Correlation matrix\n",
    "plt.figure(figsize=(15,5))\n",
    "sns.heatmap(df.corr(),annot=True)"
   ]
  },
  {
   "cell_type": "code",
   "execution_count": 22,
   "id": "cf9bfb5f",
   "metadata": {},
   "outputs": [],
   "source": [
    "#Interest level is our target variable\n",
    "#all are less correlated with target.so considering all for modelling"
   ]
  },
  {
   "cell_type": "code",
   "execution_count": 25,
   "id": "70788709",
   "metadata": {},
   "outputs": [],
   "source": [
    "#standard scaling\n",
    "df1=df.loc[:,df.columns!=\"interest_level\"]\n",
    "scaler=StandardScaler()\n",
    "y=df[\"interest_level\"]\n",
    "df=pd.DataFrame(scaler.fit_transform(df1),columns=df1.columns)\n",
    "df[\"interest_level\"]=y"
   ]
  },
  {
   "cell_type": "code",
   "execution_count": 44,
   "id": "93f60624",
   "metadata": {},
   "outputs": [],
   "source": [
    "#separating x and y\n",
    "#train test split\n",
    "x=df.iloc[:,:-1]\n",
    "y=df[\"interest_level\"]\n",
    "x_train,x_test,y_train,y_test=train_test_split(x,y,test_size=0.3,random_state=42)"
   ]
  },
  {
   "cell_type": "markdown",
   "id": "eabdeef7",
   "metadata": {},
   "source": [
    "### Task 5 : Model Building"
   ]
  },
  {
   "cell_type": "code",
   "execution_count": 45,
   "id": "b7c5f2f2",
   "metadata": {},
   "outputs": [],
   "source": [
    "cv=RepeatedStratifiedKFold(n_splits=10,n_repeats=3,random_state=1)"
   ]
  },
  {
   "cell_type": "markdown",
   "id": "13014b22",
   "metadata": {},
   "source": [
    "#### Baseline model: Decision Tree Classifier"
   ]
  },
  {
   "cell_type": "code",
   "execution_count": 58,
   "id": "a5271cc7",
   "metadata": {},
   "outputs": [],
   "source": [
    "from sklearn.tree import DecisionTreeClassifier"
   ]
  },
  {
   "cell_type": "code",
   "execution_count": 59,
   "id": "b809b567",
   "metadata": {},
   "outputs": [],
   "source": [
    "model1=DecisionTreeClassifier()"
   ]
  },
  {
   "cell_type": "code",
   "execution_count": 60,
   "id": "7a4957bd",
   "metadata": {},
   "outputs": [],
   "source": [
    "score1=cross_val_score(model1,x,y,cv=cv,n_jobs=-1,scoring=\"accuracy\")"
   ]
  },
  {
   "cell_type": "code",
   "execution_count": 61,
   "id": "c5a30c45",
   "metadata": {},
   "outputs": [
    {
     "data": {
      "text/plain": [
       "0.5999378902794356"
      ]
     },
     "execution_count": 61,
     "metadata": {},
     "output_type": "execute_result"
    }
   ],
   "source": [
    "score1.mean()"
   ]
  },
  {
   "cell_type": "markdown",
   "id": "b9560e44",
   "metadata": {},
   "source": [
    "#### Bagging : Random Forest"
   ]
  },
  {
   "cell_type": "code",
   "execution_count": 50,
   "id": "ca6ae1c7",
   "metadata": {},
   "outputs": [],
   "source": [
    "from sklearn.ensemble import RandomForestClassifier"
   ]
  },
  {
   "cell_type": "code",
   "execution_count": 51,
   "id": "016a9809",
   "metadata": {},
   "outputs": [],
   "source": [
    "model2=RandomForestClassifier()"
   ]
  },
  {
   "cell_type": "code",
   "execution_count": 52,
   "id": "cb008ee1",
   "metadata": {},
   "outputs": [],
   "source": [
    "score2=cross_val_score(model2,x,y,cv=cv,n_jobs=-1,scoring=\"accuracy\")"
   ]
  },
  {
   "cell_type": "code",
   "execution_count": 53,
   "id": "6be70aa8",
   "metadata": {},
   "outputs": [
    {
     "data": {
      "text/plain": [
       "0.6562989237961242"
      ]
     },
     "execution_count": 53,
     "metadata": {},
     "output_type": "execute_result"
    }
   ],
   "source": [
    "score2.mean()"
   ]
  },
  {
   "cell_type": "markdown",
   "id": "ef50c2c8",
   "metadata": {},
   "source": [
    "#### Boosting : Adaptive Boosting"
   ]
  },
  {
   "cell_type": "code",
   "execution_count": 54,
   "id": "87e3e25c",
   "metadata": {},
   "outputs": [],
   "source": [
    "from sklearn.ensemble import AdaBoostClassifier"
   ]
  },
  {
   "cell_type": "code",
   "execution_count": 55,
   "id": "11e8ac00",
   "metadata": {},
   "outputs": [],
   "source": [
    "model3=AdaBoostClassifier()"
   ]
  },
  {
   "cell_type": "code",
   "execution_count": 56,
   "id": "8a6daa9c",
   "metadata": {},
   "outputs": [],
   "source": [
    "score3=cross_val_score(model3,x,y,cv=cv,n_jobs=-1,scoring=\"accuracy\")"
   ]
  },
  {
   "cell_type": "code",
   "execution_count": 57,
   "id": "58c16d55",
   "metadata": {},
   "outputs": [
    {
     "data": {
      "text/plain": [
       "0.7000644341349829"
      ]
     },
     "execution_count": 57,
     "metadata": {},
     "output_type": "execute_result"
    }
   ],
   "source": [
    "score3.mean()"
   ]
  },
  {
   "cell_type": "markdown",
   "id": "62af9ed5",
   "metadata": {},
   "source": [
    "#### Stacking"
   ]
  },
  {
   "cell_type": "code",
   "execution_count": 62,
   "id": "5b61b1ca",
   "metadata": {},
   "outputs": [],
   "source": [
    "# Base Models: KNN,SVC,Naive Bayes\n",
    "#Meta model:Logistic regressor"
   ]
  },
  {
   "cell_type": "code",
   "execution_count": 64,
   "id": "3fef127c",
   "metadata": {},
   "outputs": [],
   "source": [
    "from sklearn.ensemble import StackingClassifier\n",
    "from sklearn.neighbors import KNeighborsClassifier\n",
    "from sklearn.svm import SVC\n",
    "from sklearn.naive_bayes import GaussianNB\n",
    "from sklearn.linear_model import LogisticRegression"
   ]
  },
  {
   "cell_type": "code",
   "execution_count": 65,
   "id": "d30e5569",
   "metadata": {},
   "outputs": [],
   "source": [
    "level0=[(\"knn\",KNeighborsClassifier()),(\"svc\",SVC()),(\"bayes\",GaussianNB())]\n",
    "level1=LogisticRegression()"
   ]
  },
  {
   "cell_type": "code",
   "execution_count": 67,
   "id": "b384b5bd",
   "metadata": {},
   "outputs": [],
   "source": [
    "model4=StackingClassifier(estimators=level0,final_estimator=level1,n_jobs=-1,cv=5)"
   ]
  },
  {
   "cell_type": "code",
   "execution_count": 68,
   "id": "e86c3c7b",
   "metadata": {},
   "outputs": [],
   "source": [
    "score4=cross_val_score(model4,x,y,cv=cv,n_jobs=-1,scoring=\"accuracy\")"
   ]
  },
  {
   "cell_type": "code",
   "execution_count": 69,
   "id": "74514090",
   "metadata": {},
   "outputs": [
    {
     "data": {
      "text/plain": [
       "0.6941208722843661"
      ]
     },
     "execution_count": 69,
     "metadata": {},
     "output_type": "execute_result"
    }
   ],
   "source": [
    "score4.mean()"
   ]
  },
  {
   "cell_type": "markdown",
   "id": "9615614d",
   "metadata": {},
   "source": [
    "### Task6 : Comparing all models "
   ]
  },
  {
   "cell_type": "code",
   "execution_count": null,
   "id": "c77c9390",
   "metadata": {},
   "outputs": [],
   "source": [
    "#distribution of accuracy for different folds of each models"
   ]
  },
  {
   "cell_type": "code",
   "execution_count": 71,
   "id": "13f72439",
   "metadata": {},
   "outputs": [
    {
     "data": {
      "image/png": "[encoded data removed]",
      "text/plain": [
       "<Figure size 432x288 with 1 Axes>"
      ]
     },
     "metadata": {
      "needs_background": "light"
     },
     "output_type": "display_data"
    }
   ],
   "source": [
    "plt.boxplot([score1,score2,score3,score4],labels=[\"Decision Tree \",\"RandomForest\",\"AdaBoost\",\"Stacking\"])\n",
    "plt.show()"
   ]
  },
  {
   "cell_type": "code",
   "execution_count": 72,
   "id": "130e3f9a",
   "metadata": {},
   "outputs": [],
   "source": [
    "#Out of all models AdaBoost Classifier has given best accuracy.\n",
    "#So using that to fit training data"
   ]
  },
  {
   "cell_type": "code",
   "execution_count": 73,
   "id": "76427a8b",
   "metadata": {},
   "outputs": [],
   "source": [
    "model=AdaBoostClassifier().fit(x_train,y_train)"
   ]
  },
  {
   "cell_type": "code",
   "execution_count": 74,
   "id": "40d9bcdc",
   "metadata": {},
   "outputs": [
    {
     "data": {
      "text/plain": [
       "0.7080619481835287"
      ]
     },
     "execution_count": 74,
     "metadata": {},
     "output_type": "execute_result"
    }
   ],
   "source": [
    "#training accuracy\n",
    "model.score(x_train,y_train)"
   ]
  },
  {
   "cell_type": "code",
   "execution_count": 75,
   "id": "0e272e22",
   "metadata": {},
   "outputs": [
    {
     "data": {
      "text/plain": [
       "0.6927751519243754"
      ]
     },
     "execution_count": 75,
     "metadata": {},
     "output_type": "execute_result"
    }
   ],
   "source": [
    "#test accuracy\n",
    "model.score(x_test,y_test)"
   ]
  },
  {
   "cell_type": "code",
   "execution_count": 76,
   "id": "7c064527",
   "metadata": {},
   "outputs": [],
   "source": [
    "y_pred=model.predict(x_test)"
   ]
  },
  {
   "cell_type": "code",
   "execution_count": null,
   "id": "40493667",
   "metadata": {},
   "outputs": [],
   "source": [
    "#y actual vs predicted for our chosen model adaboosting "
   ]
  },
  {
   "cell_type": "code",
   "execution_count": 77,
   "id": "92ba2b62",
   "metadata": {},
   "outputs": [
    {
     "data": {
      "text/html": [
       "<div>\n",
       "<style scoped>\n",
       "    .dataframe tbody tr th:only-of-type {\n",
       "        vertical-align: middle;\n",
       "    }\n",
       "\n",
       "    .dataframe tbody tr th {\n",
       "        vertical-align: top;\n",
       "    }\n",
       "\n",
       "    .dataframe thead th {\n",
       "        text-align: right;\n",
       "    }\n",
       "</style>\n",
       "<table border=\"1\" class=\"dataframe\">\n",
       "  <thead>\n",
       "    <tr style=\"text-align: right;\">\n",
       "      <th></th>\n",
       "      <th>actual</th>\n",
       "      <th>predicted</th>\n",
       "    </tr>\n",
       "  </thead>\n",
       "  <tbody>\n",
       "    <tr>\n",
       "      <th>9203</th>\n",
       "      <td>2</td>\n",
       "      <td>1</td>\n",
       "    </tr>\n",
       "    <tr>\n",
       "      <th>4291</th>\n",
       "      <td>1</td>\n",
       "      <td>1</td>\n",
       "    </tr>\n",
       "    <tr>\n",
       "      <th>4269</th>\n",
       "      <td>1</td>\n",
       "      <td>1</td>\n",
       "    </tr>\n",
       "    <tr>\n",
       "      <th>3381</th>\n",
       "      <td>1</td>\n",
       "      <td>1</td>\n",
       "    </tr>\n",
       "    <tr>\n",
       "      <th>7873</th>\n",
       "      <td>2</td>\n",
       "      <td>1</td>\n",
       "    </tr>\n",
       "  </tbody>\n",
       "</table>\n",
       "</div>"
      ],
      "text/plain": [
       "      actual  predicted\n",
       "9203       2          1\n",
       "4291       1          1\n",
       "4269       1          1\n",
       "3381       1          1\n",
       "7873       2          1"
      ]
     },
     "execution_count": 77,
     "metadata": {},
     "output_type": "execute_result"
    }
   ],
   "source": [
    "dfy=pd.DataFrame({\"actual\":y_test,\"predicted\":y_pred})\n",
    "dfy.head()"
   ]
  },
  {
   "cell_type": "code",
   "execution_count": 78,
   "id": "9f5a7129",
   "metadata": {},
   "outputs": [
    {
     "data": {
      "text/plain": [
       "0.6927751519243754"
      ]
     },
     "execution_count": 78,
     "metadata": {},
     "output_type": "execute_result"
    }
   ],
   "source": [
    "#accuracy score\n",
    "accuracy_score(y_test,y_pred)"
   ]
  },
  {
   "cell_type": "code",
   "execution_count": 81,
   "id": "8a84b295",
   "metadata": {},
   "outputs": [
    {
     "data": {
      "text/plain": [
       "0.6092244670028377"
      ]
     },
     "execution_count": 81,
     "metadata": {},
     "output_type": "execute_result"
    }
   ],
   "source": [
    "#precision score\n",
    "precision_score(y_test,y_pred,average=\"weighted\")"
   ]
  },
  {
   "cell_type": "code",
   "execution_count": 82,
   "id": "dd544ecb",
   "metadata": {},
   "outputs": [
    {
     "data": {
      "text/plain": [
       "0.6927751519243754"
      ]
     },
     "execution_count": 82,
     "metadata": {},
     "output_type": "execute_result"
    }
   ],
   "source": [
    "#recall score\n",
    "recall_score(y_test,y_pred,average=\"weighted\")"
   ]
  },
  {
   "cell_type": "code",
   "execution_count": 83,
   "id": "1ec947de",
   "metadata": {},
   "outputs": [
    {
     "data": {
      "text/plain": [
       "0.5970567517549316"
      ]
     },
     "execution_count": 83,
     "metadata": {},
     "output_type": "execute_result"
    }
   ],
   "source": [
    "#f1 score\n",
    "f1_score(y_test,y_pred,average=\"weighted\")"
   ]
  },
  {
   "cell_type": "code",
   "execution_count": 85,
   "id": "f114fdfc",
   "metadata": {},
   "outputs": [
    {
     "data": {
      "text/plain": [
       "array([[  35,  200,   25],\n",
       "       [  11, 1991,   27],\n",
       "       [  15,  632,   26]], dtype=int64)"
      ]
     },
     "execution_count": 85,
     "metadata": {},
     "output_type": "execute_result"
    }
   ],
   "source": [
    "#confusion matrix\n",
    "confusion_matrix(y_test,y_pred)"
   ]
  },
  {
   "cell_type": "code",
   "execution_count": null,
   "id": "e5c467d8",
   "metadata": {},
   "outputs": [],
   "source": [
    "#After evaluating models using CV and using best performed adaboosting on our dataset to build model,\n",
    "#we got accuracy of around 70% .so model is not so great model"
   ]
  }
 ],
 "metadata": {
  "kernelspec": {
   "display_name": "Python 3 (ipykernel)",
   "language": "python",
   "name": "python3"
  },
  "language_info": {
   "codemirror_mode": {
    "name": "ipython",
    "version": 3
   },
   "file_extension": ".py",
   "mimetype": "text/x-python",
   "name": "python",
   "nbconvert_exporter": "python",
   "pygments_lexer": "ipython3",
   "version": "3.9.12"
  }
 },
 "nbformat": 4,
 "nbformat_minor": 5
}
