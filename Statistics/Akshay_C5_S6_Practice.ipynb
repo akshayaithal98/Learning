{
 "cells": [
  {
   "cell_type": "code",
   "execution_count": 177,
   "id": "903fb839",
   "metadata": {},
   "outputs": [],
   "source": [
    "import numpy as np\n",
    "import pandas as pd\n",
    "import scipy.stats as stat\n",
    "import matplotlib.pyplot as plt\n",
    "import seaborn as sb"
   ]
  },
  {
   "cell_type": "markdown",
   "id": "88fb45de",
   "metadata": {},
   "source": [
    "# Task1"
   ]
  },
  {
   "cell_type": "code",
   "execution_count": 178,
   "id": "25062307",
   "metadata": {},
   "outputs": [],
   "source": [
    "s_mean = 32.18 # sample mean\n",
    "pop_mean = 33.88 # Population mean\n",
    "pop_sd = 1.28 # Population SD\n",
    "n = 49 # sample size\n",
    "alpha = 0.05 # signigicance level"
   ]
  },
  {
   "cell_type": "code",
   "execution_count": 179,
   "id": "b827339c",
   "metadata": {},
   "outputs": [],
   "source": [
    "#null hypothesis: average rate for special purpose industrial space has not changed i.e. H0=pop_mean\n",
    "#alternate hypothesis: average rate for special purpose industrial space has changed i.e. H1!=pop_mean"
   ]
  },
  {
   "cell_type": "code",
   "execution_count": 180,
   "id": "823a454e",
   "metadata": {},
   "outputs": [
    {
     "data": {
      "text/plain": [
       "(-1.9599639845400545, 1.959963984540054)"
      ]
     },
     "execution_count": 180,
     "metadata": {},
     "output_type": "execute_result"
    }
   ],
   "source": [
    "#critical value\n",
    "neg_z_critical=stat.norm.ppf(alpha/2)\n",
    "pos_z_critical=stat.norm.ppf(1-alpha/2)\n",
    "neg_z_critical,pos_z_critical"
   ]
  },
  {
   "cell_type": "code",
   "execution_count": 181,
   "id": "64bb55e5",
   "metadata": {},
   "outputs": [],
   "source": [
    "#The test statistics for the hypothesis test is z test because the sample size is more than 30\n",
    "#Here the two tail test is performed because we need to check  average rate has changed that is less or greater pop_mean"
   ]
  },
  {
   "cell_type": "code",
   "execution_count": 182,
   "id": "85cdaace",
   "metadata": {},
   "outputs": [
    {
     "data": {
      "text/plain": [
       "-9.296875000000016"
      ]
     },
     "execution_count": 182,
     "metadata": {},
     "output_type": "execute_result"
    }
   ],
   "source": [
    "#z statistics\n",
    "z_s=(s_mean-pop_mean)/(pop_sd/np.sqrt(n))\n",
    "z_s"
   ]
  },
  {
   "cell_type": "code",
   "execution_count": 183,
   "id": "a9083f7c",
   "metadata": {},
   "outputs": [
    {
     "data": {
      "text/plain": [
       "1.4463410868771357e-20"
      ]
     },
     "execution_count": 183,
     "metadata": {},
     "output_type": "execute_result"
    }
   ],
   "source": [
    "#pvalue\n",
    "pvalue=stat.norm.cdf(z_s)\n",
    "pvalue=pvalue*2\n",
    "pvalue"
   ]
  },
  {
   "cell_type": "code",
   "execution_count": 184,
   "id": "046a486d",
   "metadata": {},
   "outputs": [
    {
     "name": "stdout",
     "output_type": "stream",
     "text": [
      "rejected.There is significant difference in average rent\n"
     ]
    }
   ],
   "source": [
    "#result of test\n",
    "if neg_z_critical<z_s<pos_z_critical and pvalue>alpha:\n",
    "    print(\"accepted. No significant difference\")\n",
    "else:\n",
    "    print(\"rejected.There is significant difference in average rent\")"
   ]
  },
  {
   "cell_type": "markdown",
   "id": "cf1074bf",
   "metadata": {},
   "source": [
    "# Task2"
   ]
  },
  {
   "cell_type": "code",
   "execution_count": 185,
   "id": "017d1436",
   "metadata": {},
   "outputs": [],
   "source": [
    "s_mean = 87.5 # sample mean\n",
    "pop_mean = 85 # Population mean\n",
    "pop_sd = 2.1 # Population SD\n",
    "n = 32 # sample size\n",
    "alpha = 0.05 # signigicance level"
   ]
  },
  {
   "cell_type": "code",
   "execution_count": 186,
   "id": "600266a1",
   "metadata": {},
   "outputs": [],
   "source": [
    "#null hypothesis:different grip didnt help mac. H0<=85\n",
    "#alternate hypothesis:different grip helped mac throw more than 85 yards, H1>85"
   ]
  },
  {
   "cell_type": "code",
   "execution_count": 187,
   "id": "0ee815c9",
   "metadata": {},
   "outputs": [
    {
     "data": {
      "text/plain": [
       "1.6448536269514722"
      ]
     },
     "execution_count": 187,
     "metadata": {},
     "output_type": "execute_result"
    }
   ],
   "source": [
    "#critical value\n",
    "pos_z_critical=stat.norm.ppf(1-alpha)#right tailed test\n",
    "pos_z_critical"
   ]
  },
  {
   "cell_type": "code",
   "execution_count": 188,
   "id": "a1ab562e",
   "metadata": {},
   "outputs": [],
   "source": [
    "#The test statistics for the hypothesis test is z test because the sample size is more than 30\n",
    "#Here the right tail test is done since we need to check the alternative hypothesis greater than population mean"
   ]
  },
  {
   "cell_type": "code",
   "execution_count": 189,
   "id": "4a0dc6ab",
   "metadata": {},
   "outputs": [
    {
     "data": {
      "text/plain": [
       "6.734350297014738"
      ]
     },
     "execution_count": 189,
     "metadata": {},
     "output_type": "execute_result"
    }
   ],
   "source": [
    "#Z statistics\n",
    "z_s=(s_mean-pop_mean)/(pop_sd/np.sqrt(n))\n",
    "z_s"
   ]
  },
  {
   "cell_type": "code",
   "execution_count": 190,
   "id": "f4c7b438",
   "metadata": {},
   "outputs": [
    {
     "data": {
      "text/plain": [
       "8.233191906015236e-12"
      ]
     },
     "execution_count": 190,
     "metadata": {},
     "output_type": "execute_result"
    }
   ],
   "source": [
    "#pvalue\n",
    "1-stat.norm.cdf(z_s)"
   ]
  },
  {
   "cell_type": "code",
   "execution_count": 191,
   "id": "d874caa8",
   "metadata": {},
   "outputs": [
    {
     "name": "stdout",
     "output_type": "stream",
     "text": [
      "Reject null hypothesis.there is significant diff\n"
     ]
    }
   ],
   "source": [
    "#Result of testing\n",
    "if z_s<pos_z_critical and pvalue>alpha:\n",
    "    print(\"Accept null hypothesis.no significant difference\")\n",
    "else:\n",
    "    print(\"Reject null hypothesis.there is significant diff\")"
   ]
  },
  {
   "cell_type": "code",
   "execution_count": 192,
   "id": "37a2c0eb",
   "metadata": {},
   "outputs": [],
   "source": [
    "#This means that suggestion of the coach i.e. adjusting the grip helped mac to throw more than 85 yards"
   ]
  },
  {
   "cell_type": "code",
   "execution_count": 193,
   "id": "e358d49c",
   "metadata": {},
   "outputs": [
    {
     "data": {
      "image/png": "[encoded data removed]",
      "text/plain": [
       "<Figure size 432x288 with 1 Axes>"
      ]
     },
     "metadata": {
      "needs_background": "light"
     },
     "output_type": "display_data"
    }
   ],
   "source": [
    "lower=0-3*pop_sd\n",
    "upper=0+3*pop_sd\n",
    "data=np.arange(lower,upper)\n",
    "plt.plot(data,stat.norm.pdf(data,0,pop_sd),color=\"blue\")\n",
    "plt.show()"
   ]
  },
  {
   "cell_type": "markdown",
   "id": "657b029e",
   "metadata": {},
   "source": [
    "# Task3 "
   ]
  },
  {
   "cell_type": "code",
   "execution_count": 194,
   "id": "5f9bb135",
   "metadata": {},
   "outputs": [
    {
     "data": {
      "text/html": [
       "<div>\n",
       "<style scoped>\n",
       "    .dataframe tbody tr th:only-of-type {\n",
       "        vertical-align: middle;\n",
       "    }\n",
       "\n",
       "    .dataframe tbody tr th {\n",
       "        vertical-align: top;\n",
       "    }\n",
       "\n",
       "    .dataframe thead th {\n",
       "        text-align: right;\n",
       "    }\n",
       "</style>\n",
       "<table border=\"1\" class=\"dataframe\">\n",
       "  <thead>\n",
       "    <tr style=\"text-align: right;\">\n",
       "      <th></th>\n",
       "      <th>California</th>\n",
       "      <th>Florida</th>\n",
       "    </tr>\n",
       "  </thead>\n",
       "  <tbody>\n",
       "    <tr>\n",
       "      <th>0</th>\n",
       "      <td>2.55</td>\n",
       "      <td>2.25</td>\n",
       "    </tr>\n",
       "    <tr>\n",
       "      <th>1</th>\n",
       "      <td>2.36</td>\n",
       "      <td>2.40</td>\n",
       "    </tr>\n",
       "    <tr>\n",
       "      <th>2</th>\n",
       "      <td>2.38</td>\n",
       "      <td>2.19</td>\n",
       "    </tr>\n",
       "    <tr>\n",
       "      <th>3</th>\n",
       "      <td>2.43</td>\n",
       "      <td>2.39</td>\n",
       "    </tr>\n",
       "    <tr>\n",
       "      <th>4</th>\n",
       "      <td>2.73</td>\n",
       "      <td>2.39</td>\n",
       "    </tr>\n",
       "    <tr>\n",
       "      <th>5</th>\n",
       "      <td>2.67</td>\n",
       "      <td>2.50</td>\n",
       "    </tr>\n",
       "    <tr>\n",
       "      <th>6</th>\n",
       "      <td>2.54</td>\n",
       "      <td>2.33</td>\n",
       "    </tr>\n",
       "    <tr>\n",
       "      <th>7</th>\n",
       "      <td>2.24</td>\n",
       "      <td>2.33</td>\n",
       "    </tr>\n",
       "    <tr>\n",
       "      <th>8</th>\n",
       "      <td>2.43</td>\n",
       "      <td>2.40</td>\n",
       "    </tr>\n",
       "    <tr>\n",
       "      <th>9</th>\n",
       "      <td>2.80</td>\n",
       "      <td>2.49</td>\n",
       "    </tr>\n",
       "    <tr>\n",
       "      <th>10</th>\n",
       "      <td>2.50</td>\n",
       "      <td>2.19</td>\n",
       "    </tr>\n",
       "    <tr>\n",
       "      <th>11</th>\n",
       "      <td>2.64</td>\n",
       "      <td>2.29</td>\n",
       "    </tr>\n",
       "    <tr>\n",
       "      <th>12</th>\n",
       "      <td>2.25</td>\n",
       "      <td>2.59</td>\n",
       "    </tr>\n",
       "    <tr>\n",
       "      <th>13</th>\n",
       "      <td>2.38</td>\n",
       "      <td>2.23</td>\n",
       "    </tr>\n",
       "    <tr>\n",
       "      <th>14</th>\n",
       "      <td>2.61</td>\n",
       "      <td>2.41</td>\n",
       "    </tr>\n",
       "    <tr>\n",
       "      <th>15</th>\n",
       "      <td>2.71</td>\n",
       "      <td>2.56</td>\n",
       "    </tr>\n",
       "    <tr>\n",
       "      <th>16</th>\n",
       "      <td>2.80</td>\n",
       "      <td>2.48</td>\n",
       "    </tr>\n",
       "    <tr>\n",
       "      <th>17</th>\n",
       "      <td>2.49</td>\n",
       "      <td>2.29</td>\n",
       "    </tr>\n",
       "    <tr>\n",
       "      <th>18</th>\n",
       "      <td>2.69</td>\n",
       "      <td>2.28</td>\n",
       "    </tr>\n",
       "    <tr>\n",
       "      <th>19</th>\n",
       "      <td>2.43</td>\n",
       "      <td>2.39</td>\n",
       "    </tr>\n",
       "    <tr>\n",
       "      <th>20</th>\n",
       "      <td>2.23</td>\n",
       "      <td>2.59</td>\n",
       "    </tr>\n",
       "    <tr>\n",
       "      <th>21</th>\n",
       "      <td>2.61</td>\n",
       "      <td>2.58</td>\n",
       "    </tr>\n",
       "    <tr>\n",
       "      <th>22</th>\n",
       "      <td>2.57</td>\n",
       "      <td>2.53</td>\n",
       "    </tr>\n",
       "    <tr>\n",
       "      <th>23</th>\n",
       "      <td>2.36</td>\n",
       "      <td>2.26</td>\n",
       "    </tr>\n",
       "    <tr>\n",
       "      <th>24</th>\n",
       "      <td>2.57</td>\n",
       "      <td>2.39</td>\n",
       "    </tr>\n",
       "    <tr>\n",
       "      <th>25</th>\n",
       "      <td>2.56</td>\n",
       "      <td>2.58</td>\n",
       "    </tr>\n",
       "    <tr>\n",
       "      <th>26</th>\n",
       "      <td>2.38</td>\n",
       "      <td>2.29</td>\n",
       "    </tr>\n",
       "    <tr>\n",
       "      <th>27</th>\n",
       "      <td>2.43</td>\n",
       "      <td>2.27</td>\n",
       "    </tr>\n",
       "    <tr>\n",
       "      <th>28</th>\n",
       "      <td>2.71</td>\n",
       "      <td>2.45</td>\n",
       "    </tr>\n",
       "    <tr>\n",
       "      <th>29</th>\n",
       "      <td>2.25</td>\n",
       "      <td>2.56</td>\n",
       "    </tr>\n",
       "    <tr>\n",
       "      <th>30</th>\n",
       "      <td>2.64</td>\n",
       "      <td>NaN</td>\n",
       "    </tr>\n",
       "    <tr>\n",
       "      <th>31</th>\n",
       "      <td>2.27</td>\n",
       "      <td>NaN</td>\n",
       "    </tr>\n",
       "    <tr>\n",
       "      <th>32</th>\n",
       "      <td>2.18</td>\n",
       "      <td>NaN</td>\n",
       "    </tr>\n",
       "  </tbody>\n",
       "</table>\n",
       "</div>"
      ],
      "text/plain": [
       "    California  Florida\n",
       "0         2.55     2.25\n",
       "1         2.36     2.40\n",
       "2         2.38     2.19\n",
       "3         2.43     2.39\n",
       "4         2.73     2.39\n",
       "5         2.67     2.50\n",
       "6         2.54     2.33\n",
       "7         2.24     2.33\n",
       "8         2.43     2.40\n",
       "9         2.80     2.49\n",
       "10        2.50     2.19\n",
       "11        2.64     2.29\n",
       "12        2.25     2.59\n",
       "13        2.38     2.23\n",
       "14        2.61     2.41\n",
       "15        2.71     2.56\n",
       "16        2.80     2.48\n",
       "17        2.49     2.29\n",
       "18        2.69     2.28\n",
       "19        2.43     2.39\n",
       "20        2.23     2.59\n",
       "21        2.61     2.58\n",
       "22        2.57     2.53\n",
       "23        2.36     2.26\n",
       "24        2.57     2.39\n",
       "25        2.56     2.58\n",
       "26        2.38     2.29\n",
       "27        2.43     2.27\n",
       "28        2.71     2.45\n",
       "29        2.25     2.56\n",
       "30        2.64      NaN\n",
       "31        2.27      NaN\n",
       "32        2.18      NaN"
      ]
     },
     "execution_count": 194,
     "metadata": {},
     "output_type": "execute_result"
    }
   ],
   "source": [
    "df=pd.read_csv(\"DS1_C5_S6_Hypothesis_I_Practice_CityPrice_Data.csv\")\n",
    "df"
   ]
  },
  {
   "cell_type": "code",
   "execution_count": null,
   "id": "338d1931",
   "metadata": {},
   "outputs": [],
   "source": [
    "#H0:s1_mean=s2_mean:\n",
    "#H1:s1_mea-s2_mean!=0"
   ]
  },
  {
   "cell_type": "code",
   "execution_count": null,
   "id": "b28e8dad",
   "metadata": {},
   "outputs": [],
   "source": [
    "#null hypothesis:there is no significant different in price of a litre of healt drink between two states\n",
    "#alternate hypothesis:there is significant different in price of a litre of healt drink between two states"
   ]
  },
  {
   "cell_type": "code",
   "execution_count": 195,
   "id": "d434c792",
   "metadata": {},
   "outputs": [],
   "source": [
    "var1=0.028\n",
    "var2=0.015"
   ]
  },
  {
   "cell_type": "code",
   "execution_count": 196,
   "id": "291136f9",
   "metadata": {},
   "outputs": [
    {
     "data": {
      "text/plain": [
       "(2.496666666666666, 33, 0.030922916666666654)"
      ]
     },
     "execution_count": 196,
     "metadata": {},
     "output_type": "execute_result"
    }
   ],
   "source": [
    "#sample1:california\n",
    "s1_mean=df[\"California\"].mean()\n",
    "n1=len(df[\"California\"])\n",
    "s1_var=df[\"California\"].var()\n",
    "s1_mean,n1,s1_var"
   ]
  },
  {
   "cell_type": "code",
   "execution_count": 197,
   "id": "e47feb0d",
   "metadata": {},
   "outputs": [
    {
     "data": {
      "text/plain": [
       "(2.396, 30, 0.016162758620689655)"
      ]
     },
     "execution_count": 197,
     "metadata": {},
     "output_type": "execute_result"
    }
   ],
   "source": [
    "#sample2:florida\n",
    "s2_mean=df[\"Florida\"].mean()\n",
    "n2=len(df[\"Florida\"][:30])#bcz of null values\n",
    "s2_var=df[\"Florida\"].var()\n",
    "s2_mean,n2,s2_var"
   ]
  },
  {
   "cell_type": "code",
   "execution_count": 198,
   "id": "92c2e71c",
   "metadata": {},
   "outputs": [],
   "source": [
    "alpha=0.01"
   ]
  },
  {
   "cell_type": "code",
   "execution_count": 199,
   "id": "a31bb99c",
   "metadata": {},
   "outputs": [
    {
     "data": {
      "text/plain": [
       "2.7413384193834864"
      ]
     },
     "execution_count": 199,
     "metadata": {},
     "output_type": "execute_result"
    }
   ],
   "source": [
    "#z statistics\n",
    "z_s=(s1_mean-s2_mean)/(np.sqrt((var1/n1)+(var2/n2)))\n",
    "z_s"
   ]
  },
  {
   "cell_type": "code",
   "execution_count": 200,
   "id": "d18fb677",
   "metadata": {},
   "outputs": [
    {
     "data": {
      "text/plain": [
       "0.006118944821314809"
      ]
     },
     "execution_count": 200,
     "metadata": {},
     "output_type": "execute_result"
    }
   ],
   "source": [
    "#pvalue\n",
    "pvalue=1-stat.norm.cdf(z_s)\n",
    "pvalue=pvalue*2\n",
    "pvalue"
   ]
  },
  {
   "cell_type": "code",
   "execution_count": 201,
   "id": "681a0e7d",
   "metadata": {},
   "outputs": [
    {
     "data": {
      "text/plain": [
       "(-2.575829303548901, 2.5758293035489004)"
      ]
     },
     "execution_count": 201,
     "metadata": {},
     "output_type": "execute_result"
    }
   ],
   "source": [
    "#z critical\n",
    "neg_z_critical=stat.norm.ppf(alpha/2)\n",
    "pos_z_critical=stat.norm.ppf(1-alpha/2)\n",
    "neg_z_critical,pos_z_critical"
   ]
  },
  {
   "cell_type": "code",
   "execution_count": 202,
   "id": "0f029764",
   "metadata": {},
   "outputs": [
    {
     "name": "stdout",
     "output_type": "stream",
     "text": [
      "reject.there is significant difference\n"
     ]
    }
   ],
   "source": [
    "#result\n",
    "if neg_z_critical<z_s<pos_z_critical and pvalue>alpha:\n",
    "    print(\"accept\")\n",
    "else:\n",
    "    print(\"reject.there is significant difference\")"
   ]
  },
  {
   "cell_type": "code",
   "execution_count": 203,
   "id": "45fa463a",
   "metadata": {},
   "outputs": [],
   "source": [
    "#there is significant different in price of a litre of healt drink between two states"
   ]
  },
  {
   "cell_type": "code",
   "execution_count": null,
   "id": "bf801f5a",
   "metadata": {},
   "outputs": [],
   "source": []
  }
 ],
 "metadata": {
  "kernelspec": {
   "display_name": "Python 3 (ipykernel)",
   "language": "python",
   "name": "python3"
  },
  "language_info": {
   "codemirror_mode": {
    "name": "ipython",
    "version": 3
   },
   "file_extension": ".py",
   "mimetype": "text/x-python",
   "name": "python",
   "nbconvert_exporter": "python",
   "pygments_lexer": "ipython3",
   "version": "3.9.12"
  }
 },
 "nbformat": 4,
 "nbformat_minor": 5
}
