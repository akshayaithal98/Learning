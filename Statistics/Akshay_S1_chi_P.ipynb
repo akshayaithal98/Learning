{
 "cells": [
  {
   "cell_type": "markdown",
   "id": "3800cf02",
   "metadata": {},
   "source": [
    "### <div class=\"alert alert-info\" align=\"center\">Chi-Square-Test</div>"
   ]
  },
  {
   "cell_type": "code",
   "execution_count": 4,
   "id": "72097edf",
   "metadata": {},
   "outputs": [],
   "source": [
    "import pandas as pd\n",
    "import numpy as np\n",
    "import scipy.stats as stat\n",
    "import matplotlib.pyplot as plt"
   ]
  },
  {
   "cell_type": "markdown",
   "id": "b5562688",
   "metadata": {},
   "source": [
    "### Task1 : Chi-Square Goodness-Of-Fit Test"
   ]
  },
  {
   "cell_type": "markdown",
   "id": "c01ffd41",
   "metadata": {},
   "source": [
    "Lucas, a supermarket store manager, wishes to investigate whether customers in his city are satisfied with the supermarket's service. So, he interviewed 207 random customers who left supermarkets in various parts of the city. He asked the customers how they would rate the service level at the supermarket from which they had just exited. The response categories are excellent, pretty good, only fair, and poor. \n",
    "\n",
    "Responses: Excellent, Pretty good, Only fair, Poor\n",
    "\n",
    "Frequency: 24, 108, 61, 14\n",
    "\n",
    "The observed responses are provided in the table below. Now you will use the chi-square goodness-of-fit test to determine whether the response frequency observed in this survey matches the expected frequency.\n",
    "\n",
    "Use a 5% level of significance, what statistical conclusion can be reached? \n",
    "\n",
    "Perform the following tasks:\n",
    "\n",
    "a. What is the null and alternate hypothesis?\n",
    "\n",
    "b. Using alpha = 0.05, what is the critical value of the hypothesis test?\n",
    "\n",
    "c. What are the test statistics for the hypothesis test?\n",
    "\n",
    "d. Draw the conclusion for the hypothesis test. Sketch the graph and state your conclusion."
   ]
  },
  {
   "cell_type": "markdown",
   "id": "b8b038c2",
   "metadata": {},
   "source": [
    "<hr STYLE=\"background-color:#000000; height:10px; width:100%;\" >"
   ]
  },
  {
   "cell_type": "markdown",
   "id": "eeea05a2",
   "metadata": {},
   "source": [
    "- Defining hypothesis"
   ]
  },
  {
   "cell_type": "markdown",
   "id": "7b08209a",
   "metadata": {},
   "source": [
    "Null hypothesis H0 --> observed frequency is same as expected frequency.\n",
    "\n",
    "Alternate hypothesis H1 --> observed frequency is not same as expected frequency. \n"
   ]
  },
  {
   "cell_type": "markdown",
   "id": "534cb6f1",
   "metadata": {},
   "source": [
    "- level of significance"
   ]
  },
  {
   "cell_type": "code",
   "execution_count": 8,
   "id": "d7f737b0",
   "metadata": {},
   "outputs": [],
   "source": [
    "alpha=0.05"
   ]
  },
  {
   "cell_type": "markdown",
   "id": "9cb729e9",
   "metadata": {},
   "source": [
    "- observed frequency"
   ]
  },
  {
   "cell_type": "code",
   "execution_count": 7,
   "id": "ae1318a7",
   "metadata": {},
   "outputs": [],
   "source": [
    "observed=[24,108,61,14]\n",
    "n=len(observed)"
   ]
  },
  {
   "cell_type": "markdown",
   "id": "dcd8d2f3",
   "metadata": {},
   "source": [
    "- expected frequency"
   ]
  },
  {
   "cell_type": "code",
   "execution_count": 9,
   "id": "bb4598ee",
   "metadata": {},
   "outputs": [
    {
     "name": "stdout",
     "output_type": "stream",
     "text": [
      "Expected frequency = 51.75\n"
     ]
    }
   ],
   "source": [
    "expected=sum(observed)/n\n",
    "print('Expected frequency =',expected)"
   ]
  },
  {
   "cell_type": "markdown",
   "id": "ba3d0fb2",
   "metadata": {},
   "source": [
    "- Chi-square Statistic"
   ]
  },
  {
   "cell_type": "code",
   "execution_count": 10,
   "id": "929dd478",
   "metadata": {},
   "outputs": [
    {
     "name": "stdout",
     "output_type": "stream",
     "text": [
      "ꭕ2-statistic = 105.21256038647343\n"
     ]
    }
   ],
   "source": [
    "chis=0\n",
    "for i in observed:\n",
    "    chis=chis+((i-expected)**2)/expected\n",
    "print('ꭕ2-statistic =',chis)"
   ]
  },
  {
   "cell_type": "markdown",
   "id": "81ede908",
   "metadata": {},
   "source": [
    "- Chi-square Critical"
   ]
  },
  {
   "cell_type": "code",
   "execution_count": 19,
   "id": "95f1a549",
   "metadata": {},
   "outputs": [
    {
     "name": "stdout",
     "output_type": "stream",
     "text": [
      "ꭕ2-critical = 7.814727903251179\n"
     ]
    }
   ],
   "source": [
    "critical=stat.chi2.ppf(1-alpha,df=n-1)\n",
    "print(\"ꭕ2-critical =\",critical)"
   ]
  },
  {
   "cell_type": "markdown",
   "id": "96380bbd",
   "metadata": {},
   "source": [
    "- P-value"
   ]
  },
  {
   "cell_type": "code",
   "execution_count": 21,
   "id": "609a94d0",
   "metadata": {},
   "outputs": [
    {
     "name": "stdout",
     "output_type": "stream",
     "text": [
      "The p_value is 0.0\n"
     ]
    }
   ],
   "source": [
    "pvalue=stat.norm.sf(abs(chis),n-1)\n",
    "print(\"The p_value is \"+str(pvalue))"
   ]
  },
  {
   "cell_type": "markdown",
   "id": "f9e4f7c3",
   "metadata": {},
   "source": [
    "-  Plotting chi-square distribution"
   ]
  },
  {
   "cell_type": "code",
   "execution_count": 23,
   "id": "f900fa92",
   "metadata": {},
   "outputs": [
    {
     "data": {
      "text/plain": [
       "[<matplotlib.lines.Line2D at 0x29006678f10>]"
      ]
     },
     "execution_count": 23,
     "metadata": {},
     "output_type": "execute_result"
    },
    {
     "data": {
      "image/png": "[encoded data removed]",
      "text/plain": [
       "<Figure size 432x288 with 1 Axes>"
      ]
     },
     "metadata": {
      "needs_background": "light"
     },
     "output_type": "display_data"
    }
   ],
   "source": [
    "x=np.arange(0,120,0.01)\n",
    "plt.plot(x,stat.chi2.pdf(x,n-1))"
   ]
  },
  {
   "cell_type": "markdown",
   "id": "18d4162a",
   "metadata": {},
   "source": [
    "- Conclusions"
   ]
  },
  {
   "cell_type": "code",
   "execution_count": 25,
   "id": "a74b60a7",
   "metadata": {},
   "outputs": [
    {
     "name": "stdout",
     "output_type": "stream",
     "text": [
      "Reject the null hypothesis\n"
     ]
    }
   ],
   "source": [
    "if pvalue>alpha and chis<critical:\n",
    "    print(\"Accept the null hypothesis\")\n",
    "else:\n",
    "    print(\"Reject the null hypothesis\")"
   ]
  },
  {
   "cell_type": "markdown",
   "id": "cf294d51",
   "metadata": {},
   "source": [
    "- Decision was to reject the null hypothesis,\n",
    "- This means  observed frequencies for the response survey are different from frequencies that was expected"
   ]
  },
  {
   "cell_type": "markdown",
   "id": "e3711726",
   "metadata": {},
   "source": [
    "<hr STYLE=\"background-color:#00008B; height:10px; width:100%;\" >"
   ]
  },
  {
   "cell_type": "markdown",
   "id": "ebdb0581",
   "metadata": {},
   "source": [
    "### Task2 : Test of Independence"
   ]
  },
  {
   "cell_type": "markdown",
   "id": "9953178a",
   "metadata": {},
   "source": [
    "There is an almost 50–50 split between one-story and two-story homes. The U.S. Department of Housing and Urban Development claimed about new homes built in the United States. In addition, more than half of all new homes have three bedrooms.\n",
    "\n",
    "If a survey is done to determine whether the number of bedrooms in a new home is independent of the number of stories. \n",
    "\n",
    "Use 90% of confidence level and the following contingency table to conduct a chi-square test of independence to determine whether the number of bedrooms is independent of the number of stories.\n",
    "\n",
    "a. What is the null and alternate hypothesis?\n",
    "\n",
    "b. Using alpha = 0.1, what is the critical value of the hypothesis test?\n",
    "\n",
    "c. What are the test statistics for the hypothesis test?\n",
    "\n",
    "d. Draw the conclusion for the hypothesis test. Sketch the graph, and state your conclusion."
   ]
  },
  {
   "cell_type": "markdown",
   "id": "7d85918f",
   "metadata": {},
   "source": [
    "<hr STYLE=\"background-color:#000000; height:10px; width:100%;\" >"
   ]
  },
  {
   "cell_type": "markdown",
   "id": "e25cdbe2",
   "metadata": {},
   "source": [
    "- Defining the Hypothesis"
   ]
  },
  {
   "cell_type": "markdown",
   "id": "cc6af6e1",
   "metadata": {},
   "source": [
    "Null Hypothesis H0 --> Number of bedrooms in a new home is independent of number of stories.\n",
    "\n",
    "Alternate Hypothesis H1 --> Number of bedrooms in a new home is dependent of number of stories."
   ]
  },
  {
   "cell_type": "markdown",
   "id": "750da920",
   "metadata": {},
   "source": [
    "- Level of Significance : 1- confidence level"
   ]
  },
  {
   "cell_type": "code",
   "execution_count": 29,
   "id": "e9c36894",
   "metadata": {},
   "outputs": [],
   "source": [
    "alpha=0.1"
   ]
  },
  {
   "cell_type": "markdown",
   "id": "8200f529",
   "metadata": {},
   "source": [
    "- Degree of freedom : (2-1)*(3-1)"
   ]
  },
  {
   "cell_type": "code",
   "execution_count": 30,
   "id": "163ed4fb",
   "metadata": {},
   "outputs": [],
   "source": [
    "df=2"
   ]
  },
  {
   "cell_type": "markdown",
   "id": "551f52ca",
   "metadata": {},
   "source": [
    "- Observed table"
   ]
  },
  {
   "cell_type": "code",
   "execution_count": 31,
   "id": "56d41bfd",
   "metadata": {},
   "outputs": [],
   "source": [
    "table= [[116,101,57],[90,325,160]]"
   ]
  },
  {
   "cell_type": "markdown",
   "id": "18d0cde2",
   "metadata": {},
   "source": [
    "- Analyzing the data"
   ]
  },
  {
   "cell_type": "code",
   "execution_count": 32,
   "id": "267c20bd",
   "metadata": {},
   "outputs": [],
   "source": [
    "chis,pvalue,dof,expected=stat.chi2_contingency(table)"
   ]
  },
  {
   "cell_type": "code",
   "execution_count": 41,
   "id": "f83f6d18",
   "metadata": {},
   "outputs": [
    {
     "name": "stdout",
     "output_type": "stream",
     "text": [
      " ꭕ2-statistic =  72.33176626617666 \n",
      " P-value =  1.9649727053475884e-16 \n",
      " Expected : \n",
      " [[ 66.48292108 137.48409894  70.03297998]\n",
      " [139.51707892 288.51590106 146.96702002]]\n"
     ]
    }
   ],
   "source": [
    "print(' ꭕ2-statistic = ',chis,\"\\n\",'P-value = ',pvalue,\"\\n\",\"Expected : \\n\",expected)"
   ]
  },
  {
   "cell_type": "markdown",
   "id": "585b3728",
   "metadata": {},
   "source": [
    "- Chi-square Critical"
   ]
  },
  {
   "cell_type": "code",
   "execution_count": 43,
   "id": "b382968a",
   "metadata": {},
   "outputs": [
    {
     "name": "stdout",
     "output_type": "stream",
     "text": [
      "ꭕ2-critical = 4.605170185988092\n"
     ]
    }
   ],
   "source": [
    "critical=stat.chi2.ppf(1-alpha,df)\n",
    "print(\"ꭕ2-critical =\",critical)"
   ]
  },
  {
   "cell_type": "markdown",
   "id": "963fd03d",
   "metadata": {},
   "source": [
    "- Plotting the chi-square distribution"
   ]
  },
  {
   "cell_type": "code",
   "execution_count": 51,
   "id": "f0e0e399",
   "metadata": {},
   "outputs": [
    {
     "data": {
      "text/plain": [
       "[<matplotlib.lines.Line2D at 0x290074dcaf0>]"
      ]
     },
     "execution_count": 51,
     "metadata": {},
     "output_type": "execute_result"
    },
    {
     "data": {
      "image/png": "[encoded data removed]",
      "text/plain": [
       "<Figure size 432x288 with 1 Axes>"
      ]
     },
     "metadata": {
      "needs_background": "light"
     },
     "output_type": "display_data"
    }
   ],
   "source": [
    "x=np.arange(0,100,0.01)\n",
    "plt.plot(x,stat.chi2.pdf(x,2))"
   ]
  },
  {
   "cell_type": "markdown",
   "id": "f7ce06ba",
   "metadata": {},
   "source": [
    "- Conclusions"
   ]
  },
  {
   "cell_type": "code",
   "execution_count": 47,
   "id": "1c1cdd53",
   "metadata": {},
   "outputs": [
    {
     "name": "stdout",
     "output_type": "stream",
     "text": [
      "Reject the null hypothesis\n"
     ]
    }
   ],
   "source": [
    "if pvalue>alpha and chis<critical:\n",
    "    print(\"Accept the null hypothesis\")\n",
    "else:\n",
    "    print(\"Reject the null hypothesis\")"
   ]
  },
  {
   "cell_type": "markdown",
   "id": "43297e5a",
   "metadata": {},
   "source": [
    "- Decision was to reject the null hypothesis\n",
    "- This means that Number of bedrooms in a new home is dependent of number of stories."
   ]
  },
  {
   "cell_type": "code",
   "execution_count": null,
   "id": "e612512b",
   "metadata": {},
   "outputs": [],
   "source": []
  }
 ],
 "metadata": {
  "kernelspec": {
   "display_name": "Python 3 (ipykernel)",
   "language": "python",
   "name": "python3"
  },
  "language_info": {
   "codemirror_mode": {
    "name": "ipython",
    "version": 3
   },
   "file_extension": ".py",
   "mimetype": "text/x-python",
   "name": "python",
   "nbconvert_exporter": "python",
   "pygments_lexer": "ipython3",
   "version": "3.9.12"
  }
 },
 "nbformat": 4,
 "nbformat_minor": 5
}
