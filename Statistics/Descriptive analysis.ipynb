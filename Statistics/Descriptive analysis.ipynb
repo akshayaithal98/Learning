{
 "cells": [
  {
   "cell_type": "code",
   "execution_count": 56,
   "id": "df85075f",
   "metadata": {},
   "outputs": [],
   "source": [
    "import numpy as np\n",
    "import pandas as pd\n",
    "import matplotlib.pyplot as plt\n",
    "import seaborn as sb"
   ]
  },
  {
   "cell_type": "code",
   "execution_count": 57,
   "id": "771a99f6",
   "metadata": {},
   "outputs": [],
   "source": [
    "df=pd.read_csv(\"DS1_C5_S1_Descriptive_Analysis_Concept_Salary.csv\")"
   ]
  },
  {
   "cell_type": "code",
   "execution_count": 58,
   "id": "7d85ddbd",
   "metadata": {},
   "outputs": [
    {
     "data": {
      "text/html": [
       "<div>\n",
       "<style scoped>\n",
       "    .dataframe tbody tr th:only-of-type {\n",
       "        vertical-align: middle;\n",
       "    }\n",
       "\n",
       "    .dataframe tbody tr th {\n",
       "        vertical-align: top;\n",
       "    }\n",
       "\n",
       "    .dataframe thead th {\n",
       "        text-align: right;\n",
       "    }\n",
       "</style>\n",
       "<table border=\"1\" class=\"dataframe\">\n",
       "  <thead>\n",
       "    <tr style=\"text-align: right;\">\n",
       "      <th></th>\n",
       "      <th>Intel</th>\n",
       "      <th>Microsoft</th>\n",
       "      <th>Adobe</th>\n",
       "    </tr>\n",
       "  </thead>\n",
       "  <tbody>\n",
       "    <tr>\n",
       "      <th>0</th>\n",
       "      <td>125</td>\n",
       "      <td>159</td>\n",
       "      <td>142</td>\n",
       "    </tr>\n",
       "    <tr>\n",
       "      <th>1</th>\n",
       "      <td>144</td>\n",
       "      <td>188</td>\n",
       "      <td>106</td>\n",
       "    </tr>\n",
       "    <tr>\n",
       "      <th>2</th>\n",
       "      <td>115</td>\n",
       "      <td>125</td>\n",
       "      <td>130</td>\n",
       "    </tr>\n",
       "    <tr>\n",
       "      <th>3</th>\n",
       "      <td>137</td>\n",
       "      <td>164</td>\n",
       "      <td>119</td>\n",
       "    </tr>\n",
       "    <tr>\n",
       "      <th>4</th>\n",
       "      <td>128</td>\n",
       "      <td>97</td>\n",
       "      <td>82</td>\n",
       "    </tr>\n",
       "    <tr>\n",
       "      <th>5</th>\n",
       "      <td>121</td>\n",
       "      <td>221</td>\n",
       "      <td>122</td>\n",
       "    </tr>\n",
       "    <tr>\n",
       "      <th>6</th>\n",
       "      <td>126</td>\n",
       "      <td>244</td>\n",
       "      <td>135</td>\n",
       "    </tr>\n",
       "    <tr>\n",
       "      <th>7</th>\n",
       "      <td>118</td>\n",
       "      <td>268</td>\n",
       "      <td>82</td>\n",
       "    </tr>\n",
       "    <tr>\n",
       "      <th>8</th>\n",
       "      <td>116</td>\n",
       "      <td>149</td>\n",
       "      <td>101</td>\n",
       "    </tr>\n",
       "    <tr>\n",
       "      <th>9</th>\n",
       "      <td>112</td>\n",
       "      <td>203</td>\n",
       "      <td>131</td>\n",
       "    </tr>\n",
       "    <tr>\n",
       "      <th>10</th>\n",
       "      <td>180</td>\n",
       "      <td>191</td>\n",
       "      <td>103</td>\n",
       "    </tr>\n",
       "    <tr>\n",
       "      <th>11</th>\n",
       "      <td>112</td>\n",
       "      <td>187</td>\n",
       "      <td>87</td>\n",
       "    </tr>\n",
       "    <tr>\n",
       "      <th>12</th>\n",
       "      <td>122</td>\n",
       "      <td>120</td>\n",
       "      <td>99</td>\n",
       "    </tr>\n",
       "    <tr>\n",
       "      <th>13</th>\n",
       "      <td>136</td>\n",
       "      <td>200</td>\n",
       "      <td>116</td>\n",
       "    </tr>\n",
       "    <tr>\n",
       "      <th>14</th>\n",
       "      <td>131</td>\n",
       "      <td>138</td>\n",
       "      <td>129</td>\n",
       "    </tr>\n",
       "    <tr>\n",
       "      <th>15</th>\n",
       "      <td>89</td>\n",
       "      <td>123</td>\n",
       "      <td>133</td>\n",
       "    </tr>\n",
       "    <tr>\n",
       "      <th>16</th>\n",
       "      <td>112</td>\n",
       "      <td>300</td>\n",
       "      <td>121</td>\n",
       "    </tr>\n",
       "    <tr>\n",
       "      <th>17</th>\n",
       "      <td>132</td>\n",
       "      <td>155</td>\n",
       "      <td>100</td>\n",
       "    </tr>\n",
       "    <tr>\n",
       "      <th>18</th>\n",
       "      <td>114</td>\n",
       "      <td>203</td>\n",
       "      <td>111</td>\n",
       "    </tr>\n",
       "    <tr>\n",
       "      <th>19</th>\n",
       "      <td>120</td>\n",
       "      <td>121</td>\n",
       "      <td>76</td>\n",
       "    </tr>\n",
       "    <tr>\n",
       "      <th>20</th>\n",
       "      <td>130</td>\n",
       "      <td>107</td>\n",
       "      <td>126</td>\n",
       "    </tr>\n",
       "    <tr>\n",
       "      <th>21</th>\n",
       "      <td>119</td>\n",
       "      <td>150</td>\n",
       "      <td>128</td>\n",
       "    </tr>\n",
       "    <tr>\n",
       "      <th>22</th>\n",
       "      <td>103</td>\n",
       "      <td>172</td>\n",
       "      <td>146</td>\n",
       "    </tr>\n",
       "    <tr>\n",
       "      <th>23</th>\n",
       "      <td>127</td>\n",
       "      <td>154</td>\n",
       "      <td>120</td>\n",
       "    </tr>\n",
       "    <tr>\n",
       "      <th>24</th>\n",
       "      <td>104</td>\n",
       "      <td>156</td>\n",
       "      <td>110</td>\n",
       "    </tr>\n",
       "  </tbody>\n",
       "</table>\n",
       "</div>"
      ],
      "text/plain": [
       "    Intel  Microsoft  Adobe\n",
       "0     125        159    142\n",
       "1     144        188    106\n",
       "2     115        125    130\n",
       "3     137        164    119\n",
       "4     128         97     82\n",
       "5     121        221    122\n",
       "6     126        244    135\n",
       "7     118        268     82\n",
       "8     116        149    101\n",
       "9     112        203    131\n",
       "10    180        191    103\n",
       "11    112        187     87\n",
       "12    122        120     99\n",
       "13    136        200    116\n",
       "14    131        138    129\n",
       "15     89        123    133\n",
       "16    112        300    121\n",
       "17    132        155    100\n",
       "18    114        203    111\n",
       "19    120        121     76\n",
       "20    130        107    126\n",
       "21    119        150    128\n",
       "22    103        172    146\n",
       "23    127        154    120\n",
       "24    104        156    110"
      ]
     },
     "execution_count": 58,
     "metadata": {},
     "output_type": "execute_result"
    }
   ],
   "source": [
    "df"
   ]
  },
  {
   "cell_type": "code",
   "execution_count": 193,
   "id": "a1798fce",
   "metadata": {},
   "outputs": [
    {
     "data": {
      "text/plain": [
       "Intel        112\n",
       "Microsoft    203\n",
       "Adobe         82\n",
       "Name: 0, dtype: int64"
      ]
     },
     "execution_count": 193,
     "metadata": {},
     "output_type": "execute_result"
    }
   ],
   "source": [
    "df.mode().loc[0]"
   ]
  },
  {
   "cell_type": "code",
   "execution_count": 196,
   "id": "fdaeced5",
   "metadata": {},
   "outputs": [
    {
     "data": {
      "text/plain": [
       "array([112, 203,  82], dtype=int64)"
      ]
     },
     "execution_count": 196,
     "metadata": {},
     "output_type": "execute_result"
    }
   ],
   "source": [
    "df.mode().values[0]"
   ]
  },
  {
   "cell_type": "code",
   "execution_count": 59,
   "id": "cebd44a8",
   "metadata": {},
   "outputs": [
    {
     "data": {
      "text/plain": [
       "(25, 3)"
      ]
     },
     "execution_count": 59,
     "metadata": {},
     "output_type": "execute_result"
    }
   ],
   "source": [
    "df.shape"
   ]
  },
  {
   "cell_type": "code",
   "execution_count": 60,
   "id": "074f62c4",
   "metadata": {},
   "outputs": [
    {
     "data": {
      "text/html": [
       "<div>\n",
       "<style scoped>\n",
       "    .dataframe tbody tr th:only-of-type {\n",
       "        vertical-align: middle;\n",
       "    }\n",
       "\n",
       "    .dataframe tbody tr th {\n",
       "        vertical-align: top;\n",
       "    }\n",
       "\n",
       "    .dataframe thead th {\n",
       "        text-align: right;\n",
       "    }\n",
       "</style>\n",
       "<table border=\"1\" class=\"dataframe\">\n",
       "  <thead>\n",
       "    <tr style=\"text-align: right;\">\n",
       "      <th></th>\n",
       "      <th>Intel</th>\n",
       "      <th>Microsoft</th>\n",
       "      <th>Adobe</th>\n",
       "    </tr>\n",
       "  </thead>\n",
       "  <tbody>\n",
       "    <tr>\n",
       "      <th>count</th>\n",
       "      <td>25.00000</td>\n",
       "      <td>25.00000</td>\n",
       "      <td>25.000000</td>\n",
       "    </tr>\n",
       "    <tr>\n",
       "      <th>mean</th>\n",
       "      <td>122.92000</td>\n",
       "      <td>171.80000</td>\n",
       "      <td>114.200000</td>\n",
       "    </tr>\n",
       "    <tr>\n",
       "      <th>std</th>\n",
       "      <td>16.87187</td>\n",
       "      <td>49.90324</td>\n",
       "      <td>19.276497</td>\n",
       "    </tr>\n",
       "    <tr>\n",
       "      <th>min</th>\n",
       "      <td>89.00000</td>\n",
       "      <td>97.00000</td>\n",
       "      <td>76.000000</td>\n",
       "    </tr>\n",
       "    <tr>\n",
       "      <th>25%</th>\n",
       "      <td>114.00000</td>\n",
       "      <td>138.00000</td>\n",
       "      <td>101.000000</td>\n",
       "    </tr>\n",
       "    <tr>\n",
       "      <th>50%</th>\n",
       "      <td>121.00000</td>\n",
       "      <td>159.00000</td>\n",
       "      <td>119.000000</td>\n",
       "    </tr>\n",
       "    <tr>\n",
       "      <th>75%</th>\n",
       "      <td>130.00000</td>\n",
       "      <td>200.00000</td>\n",
       "      <td>129.000000</td>\n",
       "    </tr>\n",
       "    <tr>\n",
       "      <th>max</th>\n",
       "      <td>180.00000</td>\n",
       "      <td>300.00000</td>\n",
       "      <td>146.000000</td>\n",
       "    </tr>\n",
       "  </tbody>\n",
       "</table>\n",
       "</div>"
      ],
      "text/plain": [
       "           Intel  Microsoft       Adobe\n",
       "count   25.00000   25.00000   25.000000\n",
       "mean   122.92000  171.80000  114.200000\n",
       "std     16.87187   49.90324   19.276497\n",
       "min     89.00000   97.00000   76.000000\n",
       "25%    114.00000  138.00000  101.000000\n",
       "50%    121.00000  159.00000  119.000000\n",
       "75%    130.00000  200.00000  129.000000\n",
       "max    180.00000  300.00000  146.000000"
      ]
     },
     "execution_count": 60,
     "metadata": {},
     "output_type": "execute_result"
    }
   ],
   "source": [
    "df.describe()"
   ]
  },
  {
   "cell_type": "code",
   "execution_count": 61,
   "id": "1040f8c6",
   "metadata": {},
   "outputs": [],
   "source": [
    "ct=pd.DataFrame()\n",
    "ct[\"Measures\"]=[\"mean\",\"median\",\"mode\"]"
   ]
  },
  {
   "cell_type": "code",
   "execution_count": 62,
   "id": "b092de5c",
   "metadata": {},
   "outputs": [],
   "source": [
    "#to convert columns to index\n",
    "ct.set_index('Measures',inplace=True)"
   ]
  },
  {
   "cell_type": "code",
   "execution_count": 63,
   "id": "001d0c56",
   "metadata": {},
   "outputs": [],
   "source": [
    "i1,m1,a1=df.mean()\n",
    "i2,m2,a2=df.median()\n",
    "i3,m3,a3=df.mode().values[0]"
   ]
  },
  {
   "cell_type": "code",
   "execution_count": 64,
   "id": "d1dce4b8",
   "metadata": {},
   "outputs": [],
   "source": [
    "ct[\"Intel\"]=[i1,i2,i3]\n",
    "ct[\"Microsoft\"]=[m1,m2,m3]\n",
    "ct[\"Adobe\"]=[a1,a2,a3]"
   ]
  },
  {
   "cell_type": "code",
   "execution_count": 65,
   "id": "6a911bc2",
   "metadata": {},
   "outputs": [
    {
     "data": {
      "text/html": [
       "<div>\n",
       "<style scoped>\n",
       "    .dataframe tbody tr th:only-of-type {\n",
       "        vertical-align: middle;\n",
       "    }\n",
       "\n",
       "    .dataframe tbody tr th {\n",
       "        vertical-align: top;\n",
       "    }\n",
       "\n",
       "    .dataframe thead th {\n",
       "        text-align: right;\n",
       "    }\n",
       "</style>\n",
       "<table border=\"1\" class=\"dataframe\">\n",
       "  <thead>\n",
       "    <tr style=\"text-align: right;\">\n",
       "      <th></th>\n",
       "      <th>Intel</th>\n",
       "      <th>Microsoft</th>\n",
       "      <th>Adobe</th>\n",
       "    </tr>\n",
       "    <tr>\n",
       "      <th>Measures</th>\n",
       "      <th></th>\n",
       "      <th></th>\n",
       "      <th></th>\n",
       "    </tr>\n",
       "  </thead>\n",
       "  <tbody>\n",
       "    <tr>\n",
       "      <th>mean</th>\n",
       "      <td>122.92</td>\n",
       "      <td>171.8</td>\n",
       "      <td>114.2</td>\n",
       "    </tr>\n",
       "    <tr>\n",
       "      <th>median</th>\n",
       "      <td>121.00</td>\n",
       "      <td>159.0</td>\n",
       "      <td>119.0</td>\n",
       "    </tr>\n",
       "    <tr>\n",
       "      <th>mode</th>\n",
       "      <td>112.00</td>\n",
       "      <td>203.0</td>\n",
       "      <td>82.0</td>\n",
       "    </tr>\n",
       "  </tbody>\n",
       "</table>\n",
       "</div>"
      ],
      "text/plain": [
       "           Intel  Microsoft  Adobe\n",
       "Measures                          \n",
       "mean      122.92      171.8  114.2\n",
       "median    121.00      159.0  119.0\n",
       "mode      112.00      203.0   82.0"
      ]
     },
     "execution_count": 65,
     "metadata": {},
     "output_type": "execute_result"
    }
   ],
   "source": [
    "ct"
   ]
  },
  {
   "cell_type": "code",
   "execution_count": 66,
   "id": "fe7cc80d",
   "metadata": {},
   "outputs": [
    {
     "data": {
      "text/plain": [
       "pandas.core.series.Series"
      ]
     },
     "execution_count": 66,
     "metadata": {},
     "output_type": "execute_result"
    }
   ],
   "source": [
    "type(df.mean())"
   ]
  },
  {
   "cell_type": "code",
   "execution_count": 91,
   "id": "b58e530a",
   "metadata": {},
   "outputs": [],
   "source": [
    "ct1=pd.DataFrame()\n",
    "ct1[\"Measures\"]=[\"mean\",\"SD\",\"CV in %\"]\n",
    "ct1.set_index('Measures',inplace=True)"
   ]
  },
  {
   "cell_type": "code",
   "execution_count": 93,
   "id": "5af2e662",
   "metadata": {},
   "outputs": [],
   "source": [
    "i1,m1,a1=df.mean()"
   ]
  },
  {
   "cell_type": "code",
   "execution_count": 94,
   "id": "094908a9",
   "metadata": {},
   "outputs": [],
   "source": [
    "i2=df[\"Intel\"].std()\n",
    "m2=df[\"Microsoft\"].std()\n",
    "a2=df[\"Adobe\"].std()"
   ]
  },
  {
   "cell_type": "code",
   "execution_count": 95,
   "id": "3ec7fc26",
   "metadata": {},
   "outputs": [],
   "source": [
    "i3=i2/i1*100\n",
    "m3=m2/m1*100\n",
    "a3=a2/a1*100"
   ]
  },
  {
   "cell_type": "code",
   "execution_count": 96,
   "id": "0b8a859a",
   "metadata": {},
   "outputs": [
    {
     "data": {
      "text/html": [
       "<div>\n",
       "<style scoped>\n",
       "    .dataframe tbody tr th:only-of-type {\n",
       "        vertical-align: middle;\n",
       "    }\n",
       "\n",
       "    .dataframe tbody tr th {\n",
       "        vertical-align: top;\n",
       "    }\n",
       "\n",
       "    .dataframe thead th {\n",
       "        text-align: right;\n",
       "    }\n",
       "</style>\n",
       "<table border=\"1\" class=\"dataframe\">\n",
       "  <thead>\n",
       "    <tr style=\"text-align: right;\">\n",
       "      <th></th>\n",
       "      <th>Intel</th>\n",
       "      <th>Microsoft</th>\n",
       "      <th>Adobe</th>\n",
       "    </tr>\n",
       "    <tr>\n",
       "      <th>Measures</th>\n",
       "      <th></th>\n",
       "      <th></th>\n",
       "      <th></th>\n",
       "    </tr>\n",
       "  </thead>\n",
       "  <tbody>\n",
       "    <tr>\n",
       "      <th>mean</th>\n",
       "      <td>122.920000</td>\n",
       "      <td>171.800000</td>\n",
       "      <td>114.200000</td>\n",
       "    </tr>\n",
       "    <tr>\n",
       "      <th>SD</th>\n",
       "      <td>16.871870</td>\n",
       "      <td>49.903240</td>\n",
       "      <td>19.276497</td>\n",
       "    </tr>\n",
       "    <tr>\n",
       "      <th>CV in %</th>\n",
       "      <td>13.725895</td>\n",
       "      <td>29.047287</td>\n",
       "      <td>16.879594</td>\n",
       "    </tr>\n",
       "  </tbody>\n",
       "</table>\n",
       "</div>"
      ],
      "text/plain": [
       "               Intel   Microsoft       Adobe\n",
       "Measures                                    \n",
       "mean      122.920000  171.800000  114.200000\n",
       "SD         16.871870   49.903240   19.276497\n",
       "CV in %    13.725895   29.047287   16.879594"
      ]
     },
     "execution_count": 96,
     "metadata": {},
     "output_type": "execute_result"
    }
   ],
   "source": [
    "ct1[\"Intel\"]=[i1,i2,i3]\n",
    "ct1[\"Microsoft\"]=[m1,m2,m3]\n",
    "ct1[\"Adobe\"]=[a1,a2,a3]\n",
    "ct1"
   ]
  },
  {
   "cell_type": "code",
   "execution_count": 108,
   "id": "a1add4b2",
   "metadata": {},
   "outputs": [],
   "source": [
    "i1,m1,a1=df.describe().values[1]\n",
    "i2,m2,a2=df.describe().values[2]\n",
    "i3,m3,a3=i2/i1*100,m2/m1*100,a2/a1*100"
   ]
  },
  {
   "cell_type": "code",
   "execution_count": 109,
   "id": "4536591b",
   "metadata": {},
   "outputs": [
    {
     "data": {
      "text/html": [
       "<div>\n",
       "<style scoped>\n",
       "    .dataframe tbody tr th:only-of-type {\n",
       "        vertical-align: middle;\n",
       "    }\n",
       "\n",
       "    .dataframe tbody tr th {\n",
       "        vertical-align: top;\n",
       "    }\n",
       "\n",
       "    .dataframe thead th {\n",
       "        text-align: right;\n",
       "    }\n",
       "</style>\n",
       "<table border=\"1\" class=\"dataframe\">\n",
       "  <thead>\n",
       "    <tr style=\"text-align: right;\">\n",
       "      <th></th>\n",
       "      <th>Intel</th>\n",
       "      <th>Microsoft</th>\n",
       "      <th>Adobe</th>\n",
       "    </tr>\n",
       "    <tr>\n",
       "      <th>Measures</th>\n",
       "      <th></th>\n",
       "      <th></th>\n",
       "      <th></th>\n",
       "    </tr>\n",
       "  </thead>\n",
       "  <tbody>\n",
       "    <tr>\n",
       "      <th>mean</th>\n",
       "      <td>122.920000</td>\n",
       "      <td>171.800000</td>\n",
       "      <td>114.200000</td>\n",
       "    </tr>\n",
       "    <tr>\n",
       "      <th>SD</th>\n",
       "      <td>16.871870</td>\n",
       "      <td>49.903240</td>\n",
       "      <td>19.276497</td>\n",
       "    </tr>\n",
       "    <tr>\n",
       "      <th>CV in %</th>\n",
       "      <td>13.725895</td>\n",
       "      <td>29.047287</td>\n",
       "      <td>16.879594</td>\n",
       "    </tr>\n",
       "  </tbody>\n",
       "</table>\n",
       "</div>"
      ],
      "text/plain": [
       "               Intel   Microsoft       Adobe\n",
       "Measures                                    \n",
       "mean      122.920000  171.800000  114.200000\n",
       "SD         16.871870   49.903240   19.276497\n",
       "CV in %    13.725895   29.047287   16.879594"
      ]
     },
     "execution_count": 109,
     "metadata": {},
     "output_type": "execute_result"
    }
   ],
   "source": [
    "ct1[\"Intel\"]=[i1,i2,i3]\n",
    "ct1[\"Microsoft\"]=[m1,m2,m3]\n",
    "ct1[\"Adobe\"]=[a1,a2,a3]\n",
    "ct1"
   ]
  },
  {
   "cell_type": "code",
   "execution_count": 110,
   "id": "895229cd",
   "metadata": {},
   "outputs": [],
   "source": [
    "from scipy.stats import variation"
   ]
  },
  {
   "cell_type": "code",
   "execution_count": 112,
   "id": "4653a020",
   "metadata": {},
   "outputs": [
    {
     "data": {
      "text/plain": [
       "array([13.44857556, 28.46041299, 16.53855743])"
      ]
     },
     "execution_count": 112,
     "metadata": {},
     "output_type": "execute_result"
    }
   ],
   "source": [
    "variation(df)*100"
   ]
  },
  {
   "cell_type": "code",
   "execution_count": 113,
   "id": "7fc884e9",
   "metadata": {},
   "outputs": [],
   "source": [
    "ct2=pd.DataFrame()\n",
    "ct2[\"Measures\"]=[\"min\",\"max\",\"range\",\"q1\",\"q3\",\"iqr\",\"lf\",\"uf\",\"outliers\"]\n",
    "ct2.set_index('Measures',inplace=True)"
   ]
  },
  {
   "cell_type": "code",
   "execution_count": 114,
   "id": "beaf8e50",
   "metadata": {},
   "outputs": [
    {
     "data": {
      "text/html": [
       "<div>\n",
       "<style scoped>\n",
       "    .dataframe tbody tr th:only-of-type {\n",
       "        vertical-align: middle;\n",
       "    }\n",
       "\n",
       "    .dataframe tbody tr th {\n",
       "        vertical-align: top;\n",
       "    }\n",
       "\n",
       "    .dataframe thead th {\n",
       "        text-align: right;\n",
       "    }\n",
       "</style>\n",
       "<table border=\"1\" class=\"dataframe\">\n",
       "  <thead>\n",
       "    <tr style=\"text-align: right;\">\n",
       "      <th></th>\n",
       "    </tr>\n",
       "    <tr>\n",
       "      <th>Measures</th>\n",
       "    </tr>\n",
       "  </thead>\n",
       "  <tbody>\n",
       "    <tr>\n",
       "      <th>min</th>\n",
       "    </tr>\n",
       "    <tr>\n",
       "      <th>max</th>\n",
       "    </tr>\n",
       "    <tr>\n",
       "      <th>range</th>\n",
       "    </tr>\n",
       "    <tr>\n",
       "      <th>q1</th>\n",
       "    </tr>\n",
       "    <tr>\n",
       "      <th>q3</th>\n",
       "    </tr>\n",
       "    <tr>\n",
       "      <th>iqr</th>\n",
       "    </tr>\n",
       "    <tr>\n",
       "      <th>lf</th>\n",
       "    </tr>\n",
       "    <tr>\n",
       "      <th>uf</th>\n",
       "    </tr>\n",
       "    <tr>\n",
       "      <th>outliers</th>\n",
       "    </tr>\n",
       "  </tbody>\n",
       "</table>\n",
       "</div>"
      ],
      "text/plain": [
       "Empty DataFrame\n",
       "Columns: []\n",
       "Index: [min, max, range, q1, q3, iqr, lf, uf, outliers]"
      ]
     },
     "execution_count": 114,
     "metadata": {},
     "output_type": "execute_result"
    }
   ],
   "source": [
    "ct2"
   ]
  },
  {
   "cell_type": "code",
   "execution_count": 122,
   "id": "3a204205",
   "metadata": {},
   "outputs": [],
   "source": [
    "i1,m1,a1=df.describe().values[3]\n",
    "i2,m2,a2=df.describe().values[7]\n",
    "i3,m3,a3=i2-i1,m2-m1,a2-a1\n",
    "i4,m4,a4=df.describe().values[4]#q1\n",
    "i5,m5,a5=df.describe().values[6]#q3\n",
    "i6,m6,a6=i5-i4,m5-m4,a5-a4#iqr\n",
    "i7,m7,a7=i4-(1.5*i6),m4-(1.5*m6),a4-(1.5*a6)#lf\n",
    "i8,m8,a8=i5+(1.5*i6),m5+(1.5*m6),a5+(1.5*a6)#uf\n",
    "i9,m9,a9=0,0,0"
   ]
  },
  {
   "cell_type": "code",
   "execution_count": 141,
   "id": "b48aaebf",
   "metadata": {},
   "outputs": [
    {
     "data": {
      "text/html": [
       "<div>\n",
       "<style scoped>\n",
       "    .dataframe tbody tr th:only-of-type {\n",
       "        vertical-align: middle;\n",
       "    }\n",
       "\n",
       "    .dataframe tbody tr th {\n",
       "        vertical-align: top;\n",
       "    }\n",
       "\n",
       "    .dataframe thead th {\n",
       "        text-align: right;\n",
       "    }\n",
       "</style>\n",
       "<table border=\"1\" class=\"dataframe\">\n",
       "  <thead>\n",
       "    <tr style=\"text-align: right;\">\n",
       "      <th></th>\n",
       "      <th>Intel</th>\n",
       "      <th>Microsoft</th>\n",
       "      <th>Adobe</th>\n",
       "    </tr>\n",
       "  </thead>\n",
       "  <tbody>\n",
       "    <tr>\n",
       "      <th>count</th>\n",
       "      <td>25.00000</td>\n",
       "      <td>25.00000</td>\n",
       "      <td>25.000000</td>\n",
       "    </tr>\n",
       "    <tr>\n",
       "      <th>mean</th>\n",
       "      <td>122.92000</td>\n",
       "      <td>171.80000</td>\n",
       "      <td>114.200000</td>\n",
       "    </tr>\n",
       "    <tr>\n",
       "      <th>std</th>\n",
       "      <td>16.87187</td>\n",
       "      <td>49.90324</td>\n",
       "      <td>19.276497</td>\n",
       "    </tr>\n",
       "    <tr>\n",
       "      <th>min</th>\n",
       "      <td>89.00000</td>\n",
       "      <td>97.00000</td>\n",
       "      <td>76.000000</td>\n",
       "    </tr>\n",
       "    <tr>\n",
       "      <th>25%</th>\n",
       "      <td>114.00000</td>\n",
       "      <td>138.00000</td>\n",
       "      <td>101.000000</td>\n",
       "    </tr>\n",
       "    <tr>\n",
       "      <th>50%</th>\n",
       "      <td>121.00000</td>\n",
       "      <td>159.00000</td>\n",
       "      <td>119.000000</td>\n",
       "    </tr>\n",
       "    <tr>\n",
       "      <th>75%</th>\n",
       "      <td>130.00000</td>\n",
       "      <td>200.00000</td>\n",
       "      <td>129.000000</td>\n",
       "    </tr>\n",
       "    <tr>\n",
       "      <th>max</th>\n",
       "      <td>180.00000</td>\n",
       "      <td>300.00000</td>\n",
       "      <td>146.000000</td>\n",
       "    </tr>\n",
       "  </tbody>\n",
       "</table>\n",
       "</div>"
      ],
      "text/plain": [
       "           Intel  Microsoft       Adobe\n",
       "count   25.00000   25.00000   25.000000\n",
       "mean   122.92000  171.80000  114.200000\n",
       "std     16.87187   49.90324   19.276497\n",
       "min     89.00000   97.00000   76.000000\n",
       "25%    114.00000  138.00000  101.000000\n",
       "50%    121.00000  159.00000  119.000000\n",
       "75%    130.00000  200.00000  129.000000\n",
       "max    180.00000  300.00000  146.000000"
      ]
     },
     "execution_count": 141,
     "metadata": {},
     "output_type": "execute_result"
    }
   ],
   "source": [
    "df.describe()"
   ]
  },
  {
   "cell_type": "code",
   "execution_count": 136,
   "id": "cd440ee5",
   "metadata": {},
   "outputs": [],
   "source": [
    "i9=df[(df[\"Intel\"]<i7)|((df[\"Intel\"]>i8))][\"Intel\"].values"
   ]
  },
  {
   "cell_type": "code",
   "execution_count": 137,
   "id": "42f87827",
   "metadata": {},
   "outputs": [],
   "source": [
    "m9=df[(df[\"Microsoft\"]<m7)|((df[\"Microsoft\"]>m8))][\"Microsoft\"].values"
   ]
  },
  {
   "cell_type": "code",
   "execution_count": 138,
   "id": "b768757f",
   "metadata": {},
   "outputs": [],
   "source": [
    "a9=df[(df[\"Adobe\"]<a7)|((df[\"Adobe\"]>a8))][\"Adobe\"].values"
   ]
  },
  {
   "cell_type": "code",
   "execution_count": 139,
   "id": "a6542441",
   "metadata": {},
   "outputs": [],
   "source": [
    "ct2[\"Intel\"]=[i1,i2,i3,i4,i5,i6,i7,i8,i9]\n",
    "ct2[\"Microsoft\"]=[m1,m2,m3,m4,m5,m6,m7,m8,m9]\n",
    "ct2[\"Adobe\"]=[a1,a2,a3,a4,a5,a6,a7,a8,a9]"
   ]
  },
  {
   "cell_type": "code",
   "execution_count": 140,
   "id": "9b6df4c2",
   "metadata": {},
   "outputs": [
    {
     "data": {
      "text/html": [
       "<div>\n",
       "<style scoped>\n",
       "    .dataframe tbody tr th:only-of-type {\n",
       "        vertical-align: middle;\n",
       "    }\n",
       "\n",
       "    .dataframe tbody tr th {\n",
       "        vertical-align: top;\n",
       "    }\n",
       "\n",
       "    .dataframe thead th {\n",
       "        text-align: right;\n",
       "    }\n",
       "</style>\n",
       "<table border=\"1\" class=\"dataframe\">\n",
       "  <thead>\n",
       "    <tr style=\"text-align: right;\">\n",
       "      <th></th>\n",
       "      <th>Intel</th>\n",
       "      <th>Microsoft</th>\n",
       "      <th>Adobe</th>\n",
       "    </tr>\n",
       "    <tr>\n",
       "      <th>Measures</th>\n",
       "      <th></th>\n",
       "      <th></th>\n",
       "      <th></th>\n",
       "    </tr>\n",
       "  </thead>\n",
       "  <tbody>\n",
       "    <tr>\n",
       "      <th>min</th>\n",
       "      <td>89.0</td>\n",
       "      <td>97.0</td>\n",
       "      <td>76.0</td>\n",
       "    </tr>\n",
       "    <tr>\n",
       "      <th>max</th>\n",
       "      <td>180.0</td>\n",
       "      <td>300.0</td>\n",
       "      <td>146.0</td>\n",
       "    </tr>\n",
       "    <tr>\n",
       "      <th>range</th>\n",
       "      <td>91.0</td>\n",
       "      <td>203.0</td>\n",
       "      <td>70.0</td>\n",
       "    </tr>\n",
       "    <tr>\n",
       "      <th>q1</th>\n",
       "      <td>114.0</td>\n",
       "      <td>138.0</td>\n",
       "      <td>101.0</td>\n",
       "    </tr>\n",
       "    <tr>\n",
       "      <th>q3</th>\n",
       "      <td>130.0</td>\n",
       "      <td>200.0</td>\n",
       "      <td>129.0</td>\n",
       "    </tr>\n",
       "    <tr>\n",
       "      <th>iqr</th>\n",
       "      <td>16.0</td>\n",
       "      <td>62.0</td>\n",
       "      <td>28.0</td>\n",
       "    </tr>\n",
       "    <tr>\n",
       "      <th>lf</th>\n",
       "      <td>90.0</td>\n",
       "      <td>45.0</td>\n",
       "      <td>59.0</td>\n",
       "    </tr>\n",
       "    <tr>\n",
       "      <th>uf</th>\n",
       "      <td>154.0</td>\n",
       "      <td>293.0</td>\n",
       "      <td>171.0</td>\n",
       "    </tr>\n",
       "    <tr>\n",
       "      <th>outliers</th>\n",
       "      <td>[180, 89]</td>\n",
       "      <td>[300]</td>\n",
       "      <td>[]</td>\n",
       "    </tr>\n",
       "  </tbody>\n",
       "</table>\n",
       "</div>"
      ],
      "text/plain": [
       "              Intel Microsoft  Adobe\n",
       "Measures                            \n",
       "min            89.0      97.0   76.0\n",
       "max           180.0     300.0  146.0\n",
       "range          91.0     203.0   70.0\n",
       "q1            114.0     138.0  101.0\n",
       "q3            130.0     200.0  129.0\n",
       "iqr            16.0      62.0   28.0\n",
       "lf             90.0      45.0   59.0\n",
       "uf            154.0     293.0  171.0\n",
       "outliers  [180, 89]     [300]     []"
      ]
     },
     "execution_count": 140,
     "metadata": {},
     "output_type": "execute_result"
    }
   ],
   "source": [
    "ct2"
   ]
  },
  {
   "cell_type": "code",
   "execution_count": 144,
   "id": "d9dbb726",
   "metadata": {},
   "outputs": [
    {
     "data": {
      "text/plain": [
       "Intel        130.0\n",
       "Microsoft    200.0\n",
       "Adobe        129.0\n",
       "Name: 0.75, dtype: float64"
      ]
     },
     "execution_count": 144,
     "metadata": {},
     "output_type": "execute_result"
    }
   ],
   "source": [
    "df.quantile(0.75)#q3"
   ]
  },
  {
   "cell_type": "code",
   "execution_count": 197,
   "id": "9a92f71b",
   "metadata": {},
   "outputs": [
    {
     "data": {
      "text/plain": [
       "Intel        114.0\n",
       "Microsoft    138.0\n",
       "Adobe        101.0\n",
       "Name: 0.25, dtype: float64"
      ]
     },
     "execution_count": 197,
     "metadata": {},
     "output_type": "execute_result"
    }
   ],
   "source": [
    "df.quantile(0.25)#q1"
   ]
  },
  {
   "cell_type": "code",
   "execution_count": 145,
   "id": "01065e7d",
   "metadata": {},
   "outputs": [
    {
     "data": {
      "text/plain": [
       "Intel        89\n",
       "Microsoft    97\n",
       "Adobe        76\n",
       "dtype: int64"
      ]
     },
     "execution_count": 145,
     "metadata": {},
     "output_type": "execute_result"
    }
   ],
   "source": [
    "df.min()"
   ]
  },
  {
   "cell_type": "code",
   "execution_count": 201,
   "id": "ece5041d",
   "metadata": {},
   "outputs": [
    {
     "data": {
      "text/html": [
       "<div>\n",
       "<style scoped>\n",
       "    .dataframe tbody tr th:only-of-type {\n",
       "        vertical-align: middle;\n",
       "    }\n",
       "\n",
       "    .dataframe tbody tr th {\n",
       "        vertical-align: top;\n",
       "    }\n",
       "\n",
       "    .dataframe thead th {\n",
       "        text-align: right;\n",
       "    }\n",
       "</style>\n",
       "<table border=\"1\" class=\"dataframe\">\n",
       "  <thead>\n",
       "    <tr style=\"text-align: right;\">\n",
       "      <th></th>\n",
       "      <th>model</th>\n",
       "      <th>mpg</th>\n",
       "      <th>cyl</th>\n",
       "      <th>disp</th>\n",
       "      <th>hp</th>\n",
       "      <th>drat</th>\n",
       "      <th>wt</th>\n",
       "      <th>qsec</th>\n",
       "      <th>vs</th>\n",
       "      <th>am</th>\n",
       "      <th>gear</th>\n",
       "      <th>carb</th>\n",
       "    </tr>\n",
       "  </thead>\n",
       "  <tbody>\n",
       "    <tr>\n",
       "      <th>0</th>\n",
       "      <td>Mazda RX4</td>\n",
       "      <td>21.0</td>\n",
       "      <td>6</td>\n",
       "      <td>160.0</td>\n",
       "      <td>110</td>\n",
       "      <td>3.90</td>\n",
       "      <td>2.620</td>\n",
       "      <td>16.46</td>\n",
       "      <td>0</td>\n",
       "      <td>1</td>\n",
       "      <td>4</td>\n",
       "      <td>4</td>\n",
       "    </tr>\n",
       "    <tr>\n",
       "      <th>1</th>\n",
       "      <td>Mazda RX4 Wag</td>\n",
       "      <td>21.0</td>\n",
       "      <td>6</td>\n",
       "      <td>160.0</td>\n",
       "      <td>110</td>\n",
       "      <td>3.90</td>\n",
       "      <td>2.875</td>\n",
       "      <td>17.02</td>\n",
       "      <td>0</td>\n",
       "      <td>1</td>\n",
       "      <td>4</td>\n",
       "      <td>4</td>\n",
       "    </tr>\n",
       "    <tr>\n",
       "      <th>2</th>\n",
       "      <td>Datsun 710</td>\n",
       "      <td>22.8</td>\n",
       "      <td>4</td>\n",
       "      <td>108.0</td>\n",
       "      <td>93</td>\n",
       "      <td>3.85</td>\n",
       "      <td>2.320</td>\n",
       "      <td>18.61</td>\n",
       "      <td>1</td>\n",
       "      <td>1</td>\n",
       "      <td>4</td>\n",
       "      <td>1</td>\n",
       "    </tr>\n",
       "    <tr>\n",
       "      <th>3</th>\n",
       "      <td>Hornet 4 Drive</td>\n",
       "      <td>21.4</td>\n",
       "      <td>6</td>\n",
       "      <td>258.0</td>\n",
       "      <td>110</td>\n",
       "      <td>3.08</td>\n",
       "      <td>3.215</td>\n",
       "      <td>19.44</td>\n",
       "      <td>1</td>\n",
       "      <td>0</td>\n",
       "      <td>3</td>\n",
       "      <td>1</td>\n",
       "    </tr>\n",
       "    <tr>\n",
       "      <th>4</th>\n",
       "      <td>Hornet Sportabout</td>\n",
       "      <td>18.7</td>\n",
       "      <td>8</td>\n",
       "      <td>360.0</td>\n",
       "      <td>175</td>\n",
       "      <td>3.15</td>\n",
       "      <td>3.440</td>\n",
       "      <td>17.02</td>\n",
       "      <td>0</td>\n",
       "      <td>0</td>\n",
       "      <td>3</td>\n",
       "      <td>2</td>\n",
       "    </tr>\n",
       "  </tbody>\n",
       "</table>\n",
       "</div>"
      ],
      "text/plain": [
       "               model   mpg  cyl   disp   hp  drat     wt   qsec  vs  am  gear  \\\n",
       "0          Mazda RX4  21.0    6  160.0  110  3.90  2.620  16.46   0   1     4   \n",
       "1      Mazda RX4 Wag  21.0    6  160.0  110  3.90  2.875  17.02   0   1     4   \n",
       "2         Datsun 710  22.8    4  108.0   93  3.85  2.320  18.61   1   1     4   \n",
       "3     Hornet 4 Drive  21.4    6  258.0  110  3.08  3.215  19.44   1   0     3   \n",
       "4  Hornet Sportabout  18.7    8  360.0  175  3.15  3.440  17.02   0   0     3   \n",
       "\n",
       "   carb  \n",
       "0     4  \n",
       "1     4  \n",
       "2     1  \n",
       "3     1  \n",
       "4     2  "
      ]
     },
     "execution_count": 201,
     "metadata": {},
     "output_type": "execute_result"
    }
   ],
   "source": [
    "df1=pd.read_csv(\"DS1_C5_S1_Descriptive_Analysis_Concept_mtcars.csv\")\n",
    "df1.head()"
   ]
  },
  {
   "cell_type": "code",
   "execution_count": 204,
   "id": "ca106f22",
   "metadata": {},
   "outputs": [
    {
     "data": {
      "text/plain": [
       "-0.85"
      ]
     },
     "execution_count": 204,
     "metadata": {},
     "output_type": "execute_result"
    }
   ],
   "source": [
    "#correalation\n",
    "corr1=df1[\"mpg\"].corr(df1[\"cyl\"]).round(2)\n",
    "corr1"
   ]
  },
  {
   "cell_type": "code",
   "execution_count": 209,
   "id": "e25e3b64",
   "metadata": {},
   "outputs": [
    {
     "data": {
      "image/png": "[encoded data removed]",
      "text/plain": [
       "<Figure size 432x288 with 1 Axes>"
      ]
     },
     "metadata": {
      "needs_background": "light"
     },
     "output_type": "display_data"
    }
   ],
   "source": [
    "plt.scatter(df1[\"mpg\"],df1[\"cyl\"],label=\"corr=\"+str(corr1))\n",
    "plt.title(\"Correlation graph\")\n",
    "plt.xlabel(\"mpg\")\n",
    "plt.ylabel(\"cyl\")\n",
    "plt.legend()\n",
    "plt.show()"
   ]
  },
  {
   "cell_type": "code",
   "execution_count": 212,
   "id": "51487fca",
   "metadata": {},
   "outputs": [
    {
     "data": {
      "text/plain": [
       "-0.85"
      ]
     },
     "execution_count": 212,
     "metadata": {},
     "output_type": "execute_result"
    }
   ],
   "source": [
    "corr2=df1[\"mpg\"].corr(df1[\"disp\"]).round(2)\n",
    "corr2"
   ]
  },
  {
   "cell_type": "code",
   "execution_count": 217,
   "id": "036cfcf1",
   "metadata": {},
   "outputs": [
    {
     "data": {
      "image/png": "[encoded data removed]",
      "text/plain": [
       "<Figure size 432x288 with 1 Axes>"
      ]
     },
     "metadata": {
      "needs_background": "light"
     },
     "output_type": "display_data"
    }
   ],
   "source": [
    "plt.scatter(df1[\"mpg\"],df1[\"disp\"],label=\"corr=\"+str(corr2))\n",
    "plt.title(\"Correlation graph2\")\n",
    "plt.xlabel(\"mpg\")\n",
    "plt.ylabel(\"disp\")\n",
    "plt.legend()\n",
    "plt.show()"
   ]
  },
  {
   "cell_type": "code",
   "execution_count": 214,
   "id": "853aa89b",
   "metadata": {},
   "outputs": [
    {
     "data": {
      "text/plain": [
       "0.68"
      ]
     },
     "execution_count": 214,
     "metadata": {},
     "output_type": "execute_result"
    }
   ],
   "source": [
    "corr3=df1[\"mpg\"].corr(df1[\"drat\"]).round(2)\n",
    "corr3"
   ]
  },
  {
   "cell_type": "code",
   "execution_count": 218,
   "id": "5e1a77c3",
   "metadata": {},
   "outputs": [
    {
     "data": {
      "image/png": "[encoded data removed]",
      "text/plain": [
       "<Figure size 432x288 with 1 Axes>"
      ]
     },
     "metadata": {
      "needs_background": "light"
     },
     "output_type": "display_data"
    }
   ],
   "source": [
    "plt.scatter(df1[\"mpg\"],df1[\"drat\"],s=10,label=\"corr=\"+str(corr3))\n",
    "plt.title(\"Correlation graph3\")\n",
    "plt.xlabel(\"mpg\")\n",
    "plt.ylabel(\"drat\")\n",
    "plt.legend()\n",
    "plt.show()"
   ]
  },
  {
   "cell_type": "markdown",
   "id": "c53e9c1f",
   "metadata": {},
   "source": [
    "### Skewness"
   ]
  },
  {
   "cell_type": "code",
   "execution_count": 227,
   "id": "58383e28",
   "metadata": {},
   "outputs": [
    {
     "data": {
      "image/png": "[encoded data removed]",
      "text/plain": [
       "<Figure size 432x288 with 1 Axes>"
      ]
     },
     "metadata": {
      "needs_background": "light"
     },
     "output_type": "display_data"
    }
   ],
   "source": [
    "plt.boxplot(df,vert=0,showmeans=True)\n",
    "plt.yticks([1,2,3],[\"intel\",\"microsfot\",\"adobe\"])\n",
    "plt.show()"
   ]
  },
  {
   "cell_type": "code",
   "execution_count": 244,
   "id": "160f0c2e",
   "metadata": {},
   "outputs": [
    {
     "data": {
      "image/png": "[encoded data removed]",
      "text/plain": [
       "<Figure size 1080x360 with 3 Axes>"
      ]
     },
     "metadata": {
      "needs_background": "light"
     },
     "output_type": "display_data"
    }
   ],
   "source": [
    "plt.figure(figsize=(15,5))\n",
    "plt.subplot(131)\n",
    "plt.xlim([90,180])\n",
    "sb.histplot(df[\"Intel\"])#seaborn\n",
    "plt.subplot(132)\n",
    "sb.histplot(df[\"Microsoft\"])\n",
    "plt.subplot(133)\n",
    "sb.histplot(data=df[\"Adobe\"])\n",
    "plt.show()"
   ]
  },
  {
   "cell_type": "code",
   "execution_count": 242,
   "id": "6b55157d",
   "metadata": {},
   "outputs": [
    {
     "data": {
      "text/plain": [
       "<AxesSubplot:>"
      ]
     },
     "execution_count": 242,
     "metadata": {},
     "output_type": "execute_result"
    },
    {
     "data": {
      "image/png": "[encoded data removed]",
      "text/plain": [
       "<Figure size 432x288 with 1 Axes>"
      ]
     },
     "metadata": {
      "needs_background": "light"
     },
     "output_type": "display_data"
    }
   ],
   "source": [
    "sb.boxplot(data=df[\"Intel\"],color='Red')"
   ]
  },
  {
   "cell_type": "code",
   "execution_count": 248,
   "id": "f995a1a8",
   "metadata": {},
   "outputs": [
    {
     "data": {
      "image/png": "[encoded data removed]",
      "text/plain": [
       "<Figure size 1080x360 with 3 Axes>"
      ]
     },
     "metadata": {
      "needs_background": "light"
     },
     "output_type": "display_data"
    }
   ],
   "source": [
    "#kde-kernel density estimations\n",
    "plt.figure(figsize=(15,5))\n",
    "\n",
    "plt.subplot(131)\n",
    "sb.kdeplot(df[\"Intel\"],shade=\"True\")#seaborn\n",
    "\n",
    "plt.subplot(132)\n",
    "sb.kdeplot(df[\"Microsoft\"])\n",
    "\n",
    "plt.subplot(133)\n",
    "sb.kdeplot(data=df[\"Adobe\"])\n",
    "\n",
    "plt.show()"
   ]
  },
  {
   "cell_type": "code",
   "execution_count": 252,
   "id": "a63bf6a6",
   "metadata": {},
   "outputs": [
    {
     "data": {
      "text/plain": [
       "(1.2651085361799728, 0.7985372804626888, -0.39654570498212544)"
      ]
     },
     "execution_count": 252,
     "metadata": {},
     "output_type": "execute_result"
    }
   ],
   "source": [
    "from scipy.stats import skew\n",
    "#skewness >1 or <-1 are highly skewed\n",
    "#skewness=3*(mean-median)/SD\n",
    "skew(df[\"Intel\"]),skew(df[\"Microsoft\"]),skew(df[\"Adobe\"])"
   ]
  },
  {
   "cell_type": "code",
   "execution_count": 253,
   "id": "4266bb04",
   "metadata": {},
   "outputs": [],
   "source": [
    "#Kurtosis:pearson formula\n",
    "#kurtosis is -3 to 3 :normal\n",
    "#leptokurtic has positive kurtosis\n",
    "#platykurtic has negative kurtosis\n",
    "#Kurtosis describes the amount of peakedness of a distribution. Distributions that are high\n",
    "#and thin are referred to as leptokurtic distributions. Distributions that are flat and spread\n",
    "#out are referred to as platykurtic distributions. Between these two types are distributions\n",
    "#that are more “normal” in shape, referred to as mesokurtic distributions. "
   ]
  },
  {
   "cell_type": "code",
   "execution_count": 256,
   "id": "25d69cb2",
   "metadata": {},
   "outputs": [
    {
     "data": {
      "text/plain": [
       "array([6.72835001, 3.26771568, 2.24975955])"
      ]
     },
     "execution_count": 256,
     "metadata": {},
     "output_type": "execute_result"
    }
   ],
   "source": [
    "from scipy.stats import kurtosis\n",
    "kurtosis(df,fisher=False)"
   ]
  },
  {
   "cell_type": "code",
   "execution_count": null,
   "id": "8bcf64bf",
   "metadata": {},
   "outputs": [],
   "source": [
    "sb."
   ]
  }
 ],
 "metadata": {
  "kernelspec": {
   "display_name": "Python 3 (ipykernel)",
   "language": "python",
   "name": "python3"
  },
  "language_info": {
   "codemirror_mode": {
    "name": "ipython",
    "version": 3
   },
   "file_extension": ".py",
   "mimetype": "text/x-python",
   "name": "python",
   "nbconvert_exporter": "python",
   "pygments_lexer": "ipython3",
   "version": "3.9.12"
  }
 },
 "nbformat": 4,
 "nbformat_minor": 5
}
