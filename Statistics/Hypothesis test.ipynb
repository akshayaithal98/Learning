{
 "cells": [
  {
   "cell_type": "code",
   "execution_count": 1,
   "id": "2b6eb178",
   "metadata": {},
   "outputs": [],
   "source": [
    "#The central limit theorem is useful when analyzing large data sets because it allows one to assume that the sampling distribution of the mean will be normally-distributed in most cases.\n",
    "#This allows for easier statistical analysis and inference."
   ]
  },
  {
   "cell_type": "code",
   "execution_count": 1,
   "id": "95f250cd",
   "metadata": {},
   "outputs": [],
   "source": [
    "import numpy as np\n",
    "import pandas as pd\n",
    "import scipy.stats as stat\n",
    "import matplotlib.pyplot as plt\n",
    "import seaborn as sb\n",
    "import statistics as st #for sample_standard deviation bcz sample_std has different formula than np.std(). this is for population std"
   ]
  },
  {
   "cell_type": "code",
   "execution_count": 131,
   "id": "591bf58a",
   "metadata": {},
   "outputs": [],
   "source": [
    "#null hypothesis:\n",
    "#it is a claim or statement or assumption about population parameters that is assumed to be true but it may or may not true actually\n",
    "#(H0)\n",
    "#preassume-that there is no significant diff in pop parameter and sample statistics"
   ]
  },
  {
   "cell_type": "code",
   "execution_count": 132,
   "id": "69684aee",
   "metadata": {},
   "outputs": [],
   "source": [
    "#alternate hypothesis:\n",
    "#it is complement of null hypothesis\n",
    "#(H1) or Ha"
   ]
  },
  {
   "cell_type": "code",
   "execution_count": 133,
   "id": "a5e149b7",
   "metadata": {},
   "outputs": [],
   "source": [
    "#Example:\n",
    "#null hypothesis:maggi manufacturer says it contains <=2.5ppm of lead\n",
    "#alternate hypothesis:govt says it contains more lead than what they say"
   ]
  },
  {
   "cell_type": "code",
   "execution_count": 134,
   "id": "d5d4d7ba",
   "metadata": {},
   "outputs": [],
   "source": [
    "#Z-test\n",
    "#if sample size >=30 and\n",
    "#pop mean and std is known then we can apply ztest\n",
    "#z-statistics=(s_mean-pop_mean)/standard error\n",
    "#standard error=pop_sd/sqrt(sample size)\n",
    "\n",
    "#if u cant find pop_std\n",
    "#sample_std/sqrt(N)"
   ]
  },
  {
   "cell_type": "code",
   "execution_count": 3,
   "id": "08c02d96",
   "metadata": {},
   "outputs": [
    {
     "data": {
      "text/plain": [
       "58.5"
      ]
     },
     "execution_count": 3,
     "metadata": {},
     "output_type": "execute_result"
    }
   ],
   "source": [
    "(63+54)/2"
   ]
  },
  {
   "cell_type": "code",
   "execution_count": null,
   "id": "0d51d453",
   "metadata": {},
   "outputs": [],
   "source": [
    "##### Possible outcomes:reject H0,do not reject H0"
   ]
  },
  {
   "cell_type": "code",
   "execution_count": 136,
   "id": "0063b55b",
   "metadata": {},
   "outputs": [],
   "source": [
    "#Level of significance (alpha)\n",
    "#if we want to reject or accept null hypothesis , we have to set level of significance\n",
    "#lOS will tell probability of error in accepting or rejecting null hypothesis\n",
    "#it is the level of risk associated in rejecting the correct hypothesis\n",
    "#we can take 5 % as default"
   ]
  },
  {
   "cell_type": "code",
   "execution_count": 137,
   "id": "5094f40c",
   "metadata": {},
   "outputs": [],
   "source": [
    "#level of confidence\n",
    "#1-los"
   ]
  },
  {
   "cell_type": "code",
   "execution_count": 138,
   "id": "af91afaf",
   "metadata": {},
   "outputs": [],
   "source": [
    "#type of test:\n",
    "#two tailed test- when H1 != number\n",
    "#one tailed test-(right tailed and left tailed):H1>number or H1<number\n"
   ]
  },
  {
   "cell_type": "code",
   "execution_count": null,
   "id": "fb0ca8c8",
   "metadata": {},
   "outputs": [],
   "source": []
  },
  {
   "cell_type": "markdown",
   "id": "a9c649b1",
   "metadata": {},
   "source": [
    "# Right tailed test"
   ]
  },
  {
   "cell_type": "code",
   "execution_count": 139,
   "id": "81b437b1",
   "metadata": {},
   "outputs": [],
   "source": [
    "#H0<=?\n",
    "#H1>?"
   ]
  },
  {
   "cell_type": "code",
   "execution_count": 140,
   "id": "dd572185",
   "metadata": {},
   "outputs": [],
   "source": [
    "#Right tailed test\n",
    "#demo:Farm size hypothesis test in concept resources"
   ]
  },
  {
   "cell_type": "code",
   "execution_count": 141,
   "id": "6304e187",
   "metadata": {},
   "outputs": [],
   "source": [
    "#1 Z test"
   ]
  },
  {
   "cell_type": "code",
   "execution_count": 142,
   "id": "ce3be9da",
   "metadata": {},
   "outputs": [],
   "source": [
    "df=pd.read_csv(\"DS1_C5_S6_Hypothesis_I_Concept_FarmSize_Data.csv\")"
   ]
  },
  {
   "cell_type": "code",
   "execution_count": 143,
   "id": "9b4a6565",
   "metadata": {},
   "outputs": [
    {
     "data": {
      "text/html": [
       "<div>\n",
       "<style scoped>\n",
       "    .dataframe tbody tr th:only-of-type {\n",
       "        vertical-align: middle;\n",
       "    }\n",
       "\n",
       "    .dataframe tbody tr th {\n",
       "        vertical-align: top;\n",
       "    }\n",
       "\n",
       "    .dataframe thead th {\n",
       "        text-align: right;\n",
       "    }\n",
       "</style>\n",
       "<table border=\"1\" class=\"dataframe\">\n",
       "  <thead>\n",
       "    <tr style=\"text-align: right;\">\n",
       "      <th></th>\n",
       "      <th>State</th>\n",
       "      <th>2018_Number_of_farms</th>\n",
       "      <th>2019_Number_of_farms</th>\n",
       "      <th>2018_Land_in_farms(in1,000acres)</th>\n",
       "      <th>2019_Land_in_farms(in1,000acres)</th>\n",
       "      <th>2018_Average_farm_size(acres)</th>\n",
       "      <th>2019_Average_farm_size(acres)</th>\n",
       "    </tr>\n",
       "  </thead>\n",
       "  <tbody>\n",
       "    <tr>\n",
       "      <th>0</th>\n",
       "      <td>Alabama</td>\n",
       "      <td>39700</td>\n",
       "      <td>38800</td>\n",
       "      <td>8500</td>\n",
       "      <td>8300</td>\n",
       "      <td>214</td>\n",
       "      <td>214</td>\n",
       "    </tr>\n",
       "    <tr>\n",
       "      <th>1</th>\n",
       "      <td>Alaska</td>\n",
       "      <td>1000</td>\n",
       "      <td>1050</td>\n",
       "      <td>850</td>\n",
       "      <td>850</td>\n",
       "      <td>850</td>\n",
       "      <td>810</td>\n",
       "    </tr>\n",
       "    <tr>\n",
       "      <th>2</th>\n",
       "      <td>Arizona</td>\n",
       "      <td>19200</td>\n",
       "      <td>19000</td>\n",
       "      <td>26200</td>\n",
       "      <td>26200</td>\n",
       "      <td>1365</td>\n",
       "      <td>1379</td>\n",
       "    </tr>\n",
       "    <tr>\n",
       "      <th>3</th>\n",
       "      <td>Arkansas</td>\n",
       "      <td>42500</td>\n",
       "      <td>42300</td>\n",
       "      <td>13900</td>\n",
       "      <td>14000</td>\n",
       "      <td>327</td>\n",
       "      <td>331</td>\n",
       "    </tr>\n",
       "    <tr>\n",
       "      <th>4</th>\n",
       "      <td>California</td>\n",
       "      <td>69400</td>\n",
       "      <td>69900</td>\n",
       "      <td>24300</td>\n",
       "      <td>24300</td>\n",
       "      <td>350</td>\n",
       "      <td>348</td>\n",
       "    </tr>\n",
       "    <tr>\n",
       "      <th>5</th>\n",
       "      <td>Colorado</td>\n",
       "      <td>38900</td>\n",
       "      <td>38700</td>\n",
       "      <td>31800</td>\n",
       "      <td>31800</td>\n",
       "      <td>817</td>\n",
       "      <td>822</td>\n",
       "    </tr>\n",
       "    <tr>\n",
       "      <th>6</th>\n",
       "      <td>Connecticut</td>\n",
       "      <td>5500</td>\n",
       "      <td>5500</td>\n",
       "      <td>380</td>\n",
       "      <td>380</td>\n",
       "      <td>69</td>\n",
       "      <td>69</td>\n",
       "    </tr>\n",
       "    <tr>\n",
       "      <th>7</th>\n",
       "      <td>Delaware</td>\n",
       "      <td>2300</td>\n",
       "      <td>2300</td>\n",
       "      <td>530</td>\n",
       "      <td>530</td>\n",
       "      <td>230</td>\n",
       "      <td>230</td>\n",
       "    </tr>\n",
       "    <tr>\n",
       "      <th>8</th>\n",
       "      <td>Florida</td>\n",
       "      <td>47500</td>\n",
       "      <td>47400</td>\n",
       "      <td>9700</td>\n",
       "      <td>9700</td>\n",
       "      <td>204</td>\n",
       "      <td>205</td>\n",
       "    </tr>\n",
       "    <tr>\n",
       "      <th>9</th>\n",
       "      <td>Georgia</td>\n",
       "      <td>41600</td>\n",
       "      <td>41500</td>\n",
       "      <td>10100</td>\n",
       "      <td>10200</td>\n",
       "      <td>243</td>\n",
       "      <td>246</td>\n",
       "    </tr>\n",
       "    <tr>\n",
       "      <th>10</th>\n",
       "      <td>Hawaii</td>\n",
       "      <td>7300</td>\n",
       "      <td>7300</td>\n",
       "      <td>1100</td>\n",
       "      <td>1100</td>\n",
       "      <td>151</td>\n",
       "      <td>151</td>\n",
       "    </tr>\n",
       "    <tr>\n",
       "      <th>11</th>\n",
       "      <td>Idaho</td>\n",
       "      <td>24800</td>\n",
       "      <td>24600</td>\n",
       "      <td>11600</td>\n",
       "      <td>11500</td>\n",
       "      <td>468</td>\n",
       "      <td>467</td>\n",
       "    </tr>\n",
       "    <tr>\n",
       "      <th>12</th>\n",
       "      <td>Illinois</td>\n",
       "      <td>72000</td>\n",
       "      <td>71400</td>\n",
       "      <td>27000</td>\n",
       "      <td>27000</td>\n",
       "      <td>375</td>\n",
       "      <td>378</td>\n",
       "    </tr>\n",
       "    <tr>\n",
       "      <th>13</th>\n",
       "      <td>Indiana</td>\n",
       "      <td>56100</td>\n",
       "      <td>56000</td>\n",
       "      <td>15000</td>\n",
       "      <td>14900</td>\n",
       "      <td>267</td>\n",
       "      <td>266</td>\n",
       "    </tr>\n",
       "    <tr>\n",
       "      <th>14</th>\n",
       "      <td>Iowa</td>\n",
       "      <td>86000</td>\n",
       "      <td>85300</td>\n",
       "      <td>30600</td>\n",
       "      <td>30600</td>\n",
       "      <td>356</td>\n",
       "      <td>359</td>\n",
       "    </tr>\n",
       "    <tr>\n",
       "      <th>15</th>\n",
       "      <td>Kansas</td>\n",
       "      <td>58900</td>\n",
       "      <td>58500</td>\n",
       "      <td>45800</td>\n",
       "      <td>45700</td>\n",
       "      <td>778</td>\n",
       "      <td>781</td>\n",
       "    </tr>\n",
       "    <tr>\n",
       "      <th>16</th>\n",
       "      <td>Kentucky</td>\n",
       "      <td>75100</td>\n",
       "      <td>74800</td>\n",
       "      <td>12900</td>\n",
       "      <td>12900</td>\n",
       "      <td>172</td>\n",
       "      <td>172</td>\n",
       "    </tr>\n",
       "    <tr>\n",
       "      <th>17</th>\n",
       "      <td>Louisiana</td>\n",
       "      <td>27400</td>\n",
       "      <td>27400</td>\n",
       "      <td>8000</td>\n",
       "      <td>8000</td>\n",
       "      <td>292</td>\n",
       "      <td>292</td>\n",
       "    </tr>\n",
       "    <tr>\n",
       "      <th>18</th>\n",
       "      <td>Maine</td>\n",
       "      <td>7600</td>\n",
       "      <td>7600</td>\n",
       "      <td>1300</td>\n",
       "      <td>1300</td>\n",
       "      <td>171</td>\n",
       "      <td>171</td>\n",
       "    </tr>\n",
       "    <tr>\n",
       "      <th>19</th>\n",
       "      <td>Maryland</td>\n",
       "      <td>12400</td>\n",
       "      <td>12400</td>\n",
       "      <td>2000</td>\n",
       "      <td>2000</td>\n",
       "      <td>161</td>\n",
       "      <td>161</td>\n",
       "    </tr>\n",
       "    <tr>\n",
       "      <th>20</th>\n",
       "      <td>Massachusetts</td>\n",
       "      <td>7200</td>\n",
       "      <td>7200</td>\n",
       "      <td>500</td>\n",
       "      <td>500</td>\n",
       "      <td>69</td>\n",
       "      <td>69</td>\n",
       "    </tr>\n",
       "    <tr>\n",
       "      <th>21</th>\n",
       "      <td>Michigan</td>\n",
       "      <td>47000</td>\n",
       "      <td>47000</td>\n",
       "      <td>9800</td>\n",
       "      <td>9800</td>\n",
       "      <td>209</td>\n",
       "      <td>209</td>\n",
       "    </tr>\n",
       "    <tr>\n",
       "      <th>22</th>\n",
       "      <td>Minnesot</td>\n",
       "      <td>68500</td>\n",
       "      <td>68000</td>\n",
       "      <td>25500</td>\n",
       "      <td>25500</td>\n",
       "      <td>372</td>\n",
       "      <td>375</td>\n",
       "    </tr>\n",
       "    <tr>\n",
       "      <th>23</th>\n",
       "      <td>Mississippi</td>\n",
       "      <td>34700</td>\n",
       "      <td>34500</td>\n",
       "      <td>10400</td>\n",
       "      <td>10400</td>\n",
       "      <td>300</td>\n",
       "      <td>301</td>\n",
       "    </tr>\n",
       "    <tr>\n",
       "      <th>24</th>\n",
       "      <td>Missouri</td>\n",
       "      <td>95000</td>\n",
       "      <td>95200</td>\n",
       "      <td>27700</td>\n",
       "      <td>27600</td>\n",
       "      <td>292</td>\n",
       "      <td>290</td>\n",
       "    </tr>\n",
       "    <tr>\n",
       "      <th>25</th>\n",
       "      <td>Montana</td>\n",
       "      <td>26900</td>\n",
       "      <td>26800</td>\n",
       "      <td>58000</td>\n",
       "      <td>58000</td>\n",
       "      <td>2156</td>\n",
       "      <td>2164</td>\n",
       "    </tr>\n",
       "    <tr>\n",
       "      <th>26</th>\n",
       "      <td>Nebraska</td>\n",
       "      <td>45900</td>\n",
       "      <td>45700</td>\n",
       "      <td>45000</td>\n",
       "      <td>44900</td>\n",
       "      <td>980</td>\n",
       "      <td>982</td>\n",
       "    </tr>\n",
       "    <tr>\n",
       "      <th>27</th>\n",
       "      <td>Nevada</td>\n",
       "      <td>3400</td>\n",
       "      <td>3350</td>\n",
       "      <td>6100</td>\n",
       "      <td>6100</td>\n",
       "      <td>1794</td>\n",
       "      <td>1821</td>\n",
       "    </tr>\n",
       "    <tr>\n",
       "      <th>28</th>\n",
       "      <td>New Hampshire</td>\n",
       "      <td>4100</td>\n",
       "      <td>4100</td>\n",
       "      <td>430</td>\n",
       "      <td>430</td>\n",
       "      <td>105</td>\n",
       "      <td>105</td>\n",
       "    </tr>\n",
       "    <tr>\n",
       "      <th>29</th>\n",
       "      <td>New Jersey</td>\n",
       "      <td>9900</td>\n",
       "      <td>9900</td>\n",
       "      <td>750</td>\n",
       "      <td>750</td>\n",
       "      <td>76</td>\n",
       "      <td>76</td>\n",
       "    </tr>\n",
       "    <tr>\n",
       "      <th>30</th>\n",
       "      <td>New Mexico</td>\n",
       "      <td>24700</td>\n",
       "      <td>24800</td>\n",
       "      <td>40500</td>\n",
       "      <td>40000</td>\n",
       "      <td>1649</td>\n",
       "      <td>1613</td>\n",
       "    </tr>\n",
       "    <tr>\n",
       "      <th>31</th>\n",
       "      <td>New York</td>\n",
       "      <td>33400</td>\n",
       "      <td>33400</td>\n",
       "      <td>6900</td>\n",
       "      <td>6900</td>\n",
       "      <td>207</td>\n",
       "      <td>207</td>\n",
       "    </tr>\n",
       "    <tr>\n",
       "      <th>32</th>\n",
       "      <td>North Carolina</td>\n",
       "      <td>46400</td>\n",
       "      <td>46200</td>\n",
       "      <td>8400</td>\n",
       "      <td>8400</td>\n",
       "      <td>181</td>\n",
       "      <td>182</td>\n",
       "    </tr>\n",
       "    <tr>\n",
       "      <th>33</th>\n",
       "      <td>North Dakota</td>\n",
       "      <td>26100</td>\n",
       "      <td>26100</td>\n",
       "      <td>39300</td>\n",
       "      <td>39300</td>\n",
       "      <td>1233</td>\n",
       "      <td>1233</td>\n",
       "    </tr>\n",
       "    <tr>\n",
       "      <th>34</th>\n",
       "      <td>Ohio</td>\n",
       "      <td>77800</td>\n",
       "      <td>77800</td>\n",
       "      <td>13900</td>\n",
       "      <td>13600</td>\n",
       "      <td>179</td>\n",
       "      <td>175</td>\n",
       "    </tr>\n",
       "    <tr>\n",
       "      <th>35</th>\n",
       "      <td>Oklahoma</td>\n",
       "      <td>77300</td>\n",
       "      <td>77300</td>\n",
       "      <td>34200</td>\n",
       "      <td>34400</td>\n",
       "      <td>442</td>\n",
       "      <td>445</td>\n",
       "    </tr>\n",
       "    <tr>\n",
       "      <th>36</th>\n",
       "      <td>Oregon</td>\n",
       "      <td>37200</td>\n",
       "      <td>37200</td>\n",
       "      <td>16000</td>\n",
       "      <td>15800</td>\n",
       "      <td>430</td>\n",
       "      <td>425</td>\n",
       "    </tr>\n",
       "    <tr>\n",
       "      <th>37</th>\n",
       "      <td>Pennsylvania</td>\n",
       "      <td>53000</td>\n",
       "      <td>52700</td>\n",
       "      <td>7300</td>\n",
       "      <td>7300</td>\n",
       "      <td>138</td>\n",
       "      <td>139</td>\n",
       "    </tr>\n",
       "    <tr>\n",
       "      <th>38</th>\n",
       "      <td>Rhode Island</td>\n",
       "      <td>1100</td>\n",
       "      <td>1100</td>\n",
       "      <td>60</td>\n",
       "      <td>60</td>\n",
       "      <td>55</td>\n",
       "      <td>55</td>\n",
       "    </tr>\n",
       "    <tr>\n",
       "      <th>39</th>\n",
       "      <td>South Carolina</td>\n",
       "      <td>24600</td>\n",
       "      <td>24600</td>\n",
       "      <td>4800</td>\n",
       "      <td>4800</td>\n",
       "      <td>195</td>\n",
       "      <td>195</td>\n",
       "    </tr>\n",
       "    <tr>\n",
       "      <th>40</th>\n",
       "      <td>South Dakota</td>\n",
       "      <td>29600</td>\n",
       "      <td>29600</td>\n",
       "      <td>43200</td>\n",
       "      <td>43200</td>\n",
       "      <td>459</td>\n",
       "      <td>459</td>\n",
       "    </tr>\n",
       "    <tr>\n",
       "      <th>41</th>\n",
       "      <td>Tennessee</td>\n",
       "      <td>70000</td>\n",
       "      <td>69700</td>\n",
       "      <td>10900</td>\n",
       "      <td>10800</td>\n",
       "      <td>158</td>\n",
       "      <td>155</td>\n",
       "    </tr>\n",
       "    <tr>\n",
       "      <th>42</th>\n",
       "      <td>Texas</td>\n",
       "      <td>247000</td>\n",
       "      <td>247000</td>\n",
       "      <td>127000</td>\n",
       "      <td>126500</td>\n",
       "      <td>514</td>\n",
       "      <td>512</td>\n",
       "    </tr>\n",
       "    <tr>\n",
       "      <th>43</th>\n",
       "      <td>Utah</td>\n",
       "      <td>18100</td>\n",
       "      <td>17800</td>\n",
       "      <td>10700</td>\n",
       "      <td>10700</td>\n",
       "      <td>491</td>\n",
       "      <td>601</td>\n",
       "    </tr>\n",
       "    <tr>\n",
       "      <th>44</th>\n",
       "      <td>Vermont</td>\n",
       "      <td>6800</td>\n",
       "      <td>6800</td>\n",
       "      <td>1200</td>\n",
       "      <td>1200</td>\n",
       "      <td>176</td>\n",
       "      <td>176</td>\n",
       "    </tr>\n",
       "    <tr>\n",
       "      <th>45</th>\n",
       "      <td>Virginia</td>\n",
       "      <td>42500</td>\n",
       "      <td>42400</td>\n",
       "      <td>7800</td>\n",
       "      <td>7800</td>\n",
       "      <td>184</td>\n",
       "      <td>184</td>\n",
       "    </tr>\n",
       "    <tr>\n",
       "      <th>46</th>\n",
       "      <td>Washington</td>\n",
       "      <td>35700</td>\n",
       "      <td>35600</td>\n",
       "      <td>14700</td>\n",
       "      <td>14600</td>\n",
       "      <td>412</td>\n",
       "      <td>410</td>\n",
       "    </tr>\n",
       "    <tr>\n",
       "      <th>47</th>\n",
       "      <td>West Virginia</td>\n",
       "      <td>23400</td>\n",
       "      <td>22900</td>\n",
       "      <td>3600</td>\n",
       "      <td>3500</td>\n",
       "      <td>154</td>\n",
       "      <td>153</td>\n",
       "    </tr>\n",
       "    <tr>\n",
       "      <th>48</th>\n",
       "      <td>Wisconsin</td>\n",
       "      <td>64800</td>\n",
       "      <td>64900</td>\n",
       "      <td>14300</td>\n",
       "      <td>14300</td>\n",
       "      <td>223</td>\n",
       "      <td>220</td>\n",
       "    </tr>\n",
       "    <tr>\n",
       "      <th>49</th>\n",
       "      <td>Wyoming</td>\n",
       "      <td>11900</td>\n",
       "      <td>12000</td>\n",
       "      <td>29000</td>\n",
       "      <td>29000</td>\n",
       "      <td>437</td>\n",
       "      <td>417</td>\n",
       "    </tr>\n",
       "  </tbody>\n",
       "</table>\n",
       "</div>"
      ],
      "text/plain": [
       "             State  2018_Number_of_farms  2019_Number_of_farms  \\\n",
       "0          Alabama                 39700                 38800   \n",
       "1           Alaska                  1000                  1050   \n",
       "2          Arizona                 19200                 19000   \n",
       "3         Arkansas                 42500                 42300   \n",
       "4       California                 69400                 69900   \n",
       "5         Colorado                 38900                 38700   \n",
       "6      Connecticut                  5500                  5500   \n",
       "7         Delaware                  2300                  2300   \n",
       "8          Florida                 47500                 47400   \n",
       "9          Georgia                 41600                 41500   \n",
       "10          Hawaii                  7300                  7300   \n",
       "11           Idaho                 24800                 24600   \n",
       "12        Illinois                 72000                 71400   \n",
       "13         Indiana                 56100                 56000   \n",
       "14            Iowa                 86000                 85300   \n",
       "15          Kansas                 58900                 58500   \n",
       "16        Kentucky                 75100                 74800   \n",
       "17       Louisiana                 27400                 27400   \n",
       "18           Maine                  7600                  7600   \n",
       "19        Maryland                 12400                 12400   \n",
       "20   Massachusetts                  7200                  7200   \n",
       "21        Michigan                 47000                 47000   \n",
       "22        Minnesot                 68500                 68000   \n",
       "23     Mississippi                 34700                 34500   \n",
       "24        Missouri                 95000                 95200   \n",
       "25         Montana                 26900                 26800   \n",
       "26        Nebraska                 45900                 45700   \n",
       "27          Nevada                  3400                  3350   \n",
       "28   New Hampshire                  4100                  4100   \n",
       "29      New Jersey                  9900                  9900   \n",
       "30      New Mexico                 24700                 24800   \n",
       "31        New York                 33400                 33400   \n",
       "32  North Carolina                 46400                 46200   \n",
       "33    North Dakota                 26100                 26100   \n",
       "34            Ohio                 77800                 77800   \n",
       "35        Oklahoma                 77300                 77300   \n",
       "36          Oregon                 37200                 37200   \n",
       "37    Pennsylvania                 53000                 52700   \n",
       "38    Rhode Island                  1100                  1100   \n",
       "39  South Carolina                 24600                 24600   \n",
       "40    South Dakota                 29600                 29600   \n",
       "41       Tennessee                 70000                 69700   \n",
       "42           Texas                247000                247000   \n",
       "43            Utah                 18100                 17800   \n",
       "44         Vermont                  6800                  6800   \n",
       "45        Virginia                 42500                 42400   \n",
       "46      Washington                 35700                 35600   \n",
       "47   West Virginia                 23400                 22900   \n",
       "48       Wisconsin                 64800                 64900   \n",
       "49         Wyoming                 11900                 12000   \n",
       "\n",
       "    2018_Land_in_farms(in1,000acres)  2019_Land_in_farms(in1,000acres)  \\\n",
       "0                               8500                              8300   \n",
       "1                                850                               850   \n",
       "2                              26200                             26200   \n",
       "3                              13900                             14000   \n",
       "4                              24300                             24300   \n",
       "5                              31800                             31800   \n",
       "6                                380                               380   \n",
       "7                                530                               530   \n",
       "8                               9700                              9700   \n",
       "9                              10100                             10200   \n",
       "10                              1100                              1100   \n",
       "11                             11600                             11500   \n",
       "12                             27000                             27000   \n",
       "13                             15000                             14900   \n",
       "14                             30600                             30600   \n",
       "15                             45800                             45700   \n",
       "16                             12900                             12900   \n",
       "17                              8000                              8000   \n",
       "18                              1300                              1300   \n",
       "19                              2000                              2000   \n",
       "20                               500                               500   \n",
       "21                              9800                              9800   \n",
       "22                             25500                             25500   \n",
       "23                             10400                             10400   \n",
       "24                             27700                             27600   \n",
       "25                             58000                             58000   \n",
       "26                             45000                             44900   \n",
       "27                              6100                              6100   \n",
       "28                               430                               430   \n",
       "29                               750                               750   \n",
       "30                             40500                             40000   \n",
       "31                              6900                              6900   \n",
       "32                              8400                              8400   \n",
       "33                             39300                             39300   \n",
       "34                             13900                             13600   \n",
       "35                             34200                             34400   \n",
       "36                             16000                             15800   \n",
       "37                              7300                              7300   \n",
       "38                                60                                60   \n",
       "39                              4800                              4800   \n",
       "40                             43200                             43200   \n",
       "41                             10900                             10800   \n",
       "42                            127000                            126500   \n",
       "43                             10700                             10700   \n",
       "44                              1200                              1200   \n",
       "45                              7800                              7800   \n",
       "46                             14700                             14600   \n",
       "47                              3600                              3500   \n",
       "48                             14300                             14300   \n",
       "49                             29000                             29000   \n",
       "\n",
       "     2018_Average_farm_size(acres)   2019_Average_farm_size(acres)  \n",
       "0                              214                             214  \n",
       "1                              850                             810  \n",
       "2                             1365                            1379  \n",
       "3                              327                             331  \n",
       "4                              350                             348  \n",
       "5                              817                             822  \n",
       "6                               69                              69  \n",
       "7                              230                             230  \n",
       "8                              204                             205  \n",
       "9                              243                             246  \n",
       "10                             151                             151  \n",
       "11                             468                             467  \n",
       "12                             375                             378  \n",
       "13                             267                             266  \n",
       "14                             356                             359  \n",
       "15                             778                             781  \n",
       "16                             172                             172  \n",
       "17                             292                             292  \n",
       "18                             171                             171  \n",
       "19                             161                             161  \n",
       "20                              69                              69  \n",
       "21                             209                             209  \n",
       "22                             372                             375  \n",
       "23                             300                             301  \n",
       "24                             292                             290  \n",
       "25                            2156                            2164  \n",
       "26                             980                             982  \n",
       "27                            1794                            1821  \n",
       "28                             105                             105  \n",
       "29                              76                              76  \n",
       "30                            1649                            1613  \n",
       "31                             207                             207  \n",
       "32                             181                             182  \n",
       "33                            1233                            1233  \n",
       "34                             179                             175  \n",
       "35                             442                             445  \n",
       "36                             430                             425  \n",
       "37                             138                             139  \n",
       "38                              55                              55  \n",
       "39                             195                             195  \n",
       "40                             459                             459  \n",
       "41                             158                             155  \n",
       "42                             514                             512  \n",
       "43                             491                             601  \n",
       "44                             176                             176  \n",
       "45                             184                             184  \n",
       "46                             412                             410  \n",
       "47                             154                             153  \n",
       "48                             223                             220  \n",
       "49                             437                             417  "
      ]
     },
     "execution_count": 143,
     "metadata": {},
     "output_type": "execute_result"
    }
   ],
   "source": [
    "df"
   ]
  },
  {
   "cell_type": "code",
   "execution_count": 144,
   "id": "5c13619d",
   "metadata": {},
   "outputs": [
    {
     "data": {
      "text/plain": [
       "Index(['State', '2018_Number_of_farms', '2019_Number_of_farms',\n",
       "       '2018_Land_in_farms(in1,000acres)', '2019_Land_in_farms(in1,000acres)',\n",
       "       ' 2018_Average_farm_size(acres)', ' 2019_Average_farm_size(acres)'],\n",
       "      dtype='object')"
      ]
     },
     "execution_count": 144,
     "metadata": {},
     "output_type": "execute_result"
    }
   ],
   "source": [
    "df.columns\n"
   ]
  },
  {
   "cell_type": "code",
   "execution_count": 145,
   "id": "7c2f8dd8",
   "metadata": {},
   "outputs": [],
   "source": [
    "#lets remove extra left space from column names"
   ]
  },
  {
   "cell_type": "code",
   "execution_count": 146,
   "id": "baddc5fc",
   "metadata": {},
   "outputs": [],
   "source": [
    "df.columns=df.columns.map(lambda x:x.lstrip())"
   ]
  },
  {
   "cell_type": "code",
   "execution_count": 147,
   "id": "73fbb073",
   "metadata": {},
   "outputs": [
    {
     "data": {
      "text/plain": [
       "Index(['State', '2018_Number_of_farms', '2019_Number_of_farms',\n",
       "       '2018_Land_in_farms(in1,000acres)', '2019_Land_in_farms(in1,000acres)',\n",
       "       '2018_Average_farm_size(acres)', '2019_Average_farm_size(acres)'],\n",
       "      dtype='object')"
      ]
     },
     "execution_count": 147,
     "metadata": {},
     "output_type": "execute_result"
    }
   ],
   "source": [
    "df.columns"
   ]
  },
  {
   "cell_type": "code",
   "execution_count": 148,
   "id": "617c5ffb",
   "metadata": {},
   "outputs": [
    {
     "data": {
      "text/plain": [
       "(442.6, 462.4969939229391)"
      ]
     },
     "execution_count": 148,
     "metadata": {},
     "output_type": "execute_result"
    }
   ],
   "source": [
    "#pop mean and std\n",
    "mu=df[\"2018_Average_farm_size(acres)\"].mean()\n",
    "sigma=df[\"2018_Average_farm_size(acres)\"].std()\n",
    "mu,sigma"
   ]
  },
  {
   "cell_type": "code",
   "execution_count": 149,
   "id": "d52757c1",
   "metadata": {},
   "outputs": [],
   "source": [
    "#sample\n",
    "s=df.sample(35,random_state=1)"
   ]
  },
  {
   "cell_type": "code",
   "execution_count": 150,
   "id": "88f5545d",
   "metadata": {},
   "outputs": [
    {
     "data": {
      "text/plain": [
       "421.4"
      ]
     },
     "execution_count": 150,
     "metadata": {},
     "output_type": "execute_result"
    }
   ],
   "source": [
    "x_bar=s[\"2019_Average_farm_size(acres)\"].mean()\n",
    "x_bar"
   ]
  },
  {
   "cell_type": "code",
   "execution_count": 151,
   "id": "38650983",
   "metadata": {},
   "outputs": [
    {
     "data": {
      "text/plain": [
       "-0.27118206831547464"
      ]
     },
     "execution_count": 151,
     "metadata": {},
     "output_type": "execute_result"
    }
   ],
   "source": [
    "n=35#sample size\n",
    "alpha=0.05#level of significance\n",
    "z_s=(x_bar-mu)/(sigma/np.sqrt(n))\n",
    "z_s#z statistics"
   ]
  },
  {
   "cell_type": "code",
   "execution_count": 152,
   "id": "1239b174",
   "metadata": {},
   "outputs": [
    {
     "data": {
      "text/plain": [
       "0.3931255019163199"
      ]
     },
     "execution_count": 152,
     "metadata": {},
     "output_type": "execute_result"
    }
   ],
   "source": [
    "pvalue=stat.norm.cdf(z_s)\n",
    "pvalue"
   ]
  },
  {
   "cell_type": "code",
   "execution_count": 153,
   "id": "4fb948a0",
   "metadata": {},
   "outputs": [
    {
     "data": {
      "text/plain": [
       "1.6448536269514722"
      ]
     },
     "execution_count": 153,
     "metadata": {},
     "output_type": "execute_result"
    }
   ],
   "source": [
    "pos_z_critical=stat.norm.ppf(1-alpha)#right tailed test\n",
    "pos_z_critical"
   ]
  },
  {
   "cell_type": "code",
   "execution_count": 154,
   "id": "ddd4acd7",
   "metadata": {},
   "outputs": [
    {
     "name": "stdout",
     "output_type": "stream",
     "text": [
      "Accept null hypothesis.no significant difference\n"
     ]
    }
   ],
   "source": [
    "if z_s<pos_z_critical and pvalue>alpha:\n",
    "    print(\"Accept null hypothesis.no significant difference\")\n",
    "else:\n",
    "    print(\"Reject null hypothesis.there is significant diff\")"
   ]
  },
  {
   "cell_type": "code",
   "execution_count": null,
   "id": "05d48197",
   "metadata": {},
   "outputs": [],
   "source": []
  },
  {
   "cell_type": "code",
   "execution_count": null,
   "id": "bd08919a",
   "metadata": {},
   "outputs": [],
   "source": []
  },
  {
   "cell_type": "code",
   "execution_count": 155,
   "id": "27f5ab3e",
   "metadata": {},
   "outputs": [],
   "source": [
    "#Ho is rejected when H0 is true-Type1 error\n",
    "#Ho is accepted when H0 is false-Type2 error"
   ]
  },
  {
   "cell_type": "markdown",
   "id": "8ea2e4f1",
   "metadata": {},
   "source": [
    "# Left tailed test"
   ]
  },
  {
   "cell_type": "code",
   "execution_count": 156,
   "id": "16c41369",
   "metadata": {},
   "outputs": [],
   "source": [
    "#H0>=?\n",
    "#H1<?"
   ]
  },
  {
   "cell_type": "code",
   "execution_count": 157,
   "id": "38c1a820",
   "metadata": {},
   "outputs": [],
   "source": [
    "sample_ratings=np.array([3,4,5,5,4,5,5,4,4,4,4,4,4,4,4,5,4,4,4,3,4,4,4,3,5,4,4,5,4,4,4,5])"
   ]
  },
  {
   "cell_type": "code",
   "execution_count": 158,
   "id": "0dd2be66",
   "metadata": {},
   "outputs": [
    {
     "data": {
      "text/plain": [
       "4.15625"
      ]
     },
     "execution_count": 158,
     "metadata": {},
     "output_type": "execute_result"
    }
   ],
   "source": [
    "s_mean=np.mean(sample_ratings)\n",
    "s_mean"
   ]
  },
  {
   "cell_type": "code",
   "execution_count": 159,
   "id": "e7c38a1f",
   "metadata": {},
   "outputs": [
    {
     "data": {
      "text/plain": [
       "32"
      ]
     },
     "execution_count": 159,
     "metadata": {},
     "output_type": "execute_result"
    }
   ],
   "source": [
    "n=len(sample_ratings)\n",
    "n"
   ]
  },
  {
   "cell_type": "code",
   "execution_count": 160,
   "id": "ec042ca1",
   "metadata": {},
   "outputs": [],
   "source": [
    "#given data\n",
    "pop_mean=4.3\n",
    "pop_sd=0.574\n",
    "alpha=0.1"
   ]
  },
  {
   "cell_type": "code",
   "execution_count": 161,
   "id": "27174a86",
   "metadata": {},
   "outputs": [
    {
     "data": {
      "text/plain": [
       "-1.4166773490671232"
      ]
     },
     "execution_count": 161,
     "metadata": {},
     "output_type": "execute_result"
    }
   ],
   "source": [
    "z_s=(s_mean-pop_mean)/(pop_sd/np.sqrt(n))\n",
    "z_s"
   ]
  },
  {
   "cell_type": "code",
   "execution_count": 162,
   "id": "16335591",
   "metadata": {},
   "outputs": [
    {
     "data": {
      "text/plain": [
       "0.07828864121333116"
      ]
     },
     "execution_count": 162,
     "metadata": {},
     "output_type": "execute_result"
    }
   ],
   "source": [
    "pvalue=stat.norm.cdf(z_s)\n",
    "pvalue"
   ]
  },
  {
   "cell_type": "code",
   "execution_count": 163,
   "id": "59e3602b",
   "metadata": {},
   "outputs": [
    {
     "data": {
      "text/plain": [
       "-1.2815515655446004"
      ]
     },
     "execution_count": 163,
     "metadata": {},
     "output_type": "execute_result"
    }
   ],
   "source": [
    "neg_z_critical=stat.norm.ppf(alpha)\n",
    "neg_z_critical"
   ]
  },
  {
   "cell_type": "code",
   "execution_count": 164,
   "id": "3e0fec84",
   "metadata": {},
   "outputs": [
    {
     "name": "stdout",
     "output_type": "stream",
     "text": [
      "Reject\n"
     ]
    }
   ],
   "source": [
    "if z_s>neg_z_critical and pvalue>alpha:\n",
    "    print(\"Accept\")\n",
    "else:\n",
    "    print(\"Reject\")"
   ]
  },
  {
   "cell_type": "markdown",
   "id": "9980dcb1",
   "metadata": {},
   "source": [
    "# Two tailed Test"
   ]
  },
  {
   "cell_type": "code",
   "execution_count": 165,
   "id": "8586384c",
   "metadata": {},
   "outputs": [],
   "source": [
    "#H0=?\n",
    "#H1!=?"
   ]
  },
  {
   "cell_type": "code",
   "execution_count": 166,
   "id": "4746473a",
   "metadata": {},
   "outputs": [
    {
     "data": {
      "text/html": [
       "<div>\n",
       "<style scoped>\n",
       "    .dataframe tbody tr th:only-of-type {\n",
       "        vertical-align: middle;\n",
       "    }\n",
       "\n",
       "    .dataframe tbody tr th {\n",
       "        vertical-align: top;\n",
       "    }\n",
       "\n",
       "    .dataframe thead th {\n",
       "        text-align: right;\n",
       "    }\n",
       "</style>\n",
       "<table border=\"1\" class=\"dataframe\">\n",
       "  <thead>\n",
       "    <tr style=\"text-align: right;\">\n",
       "      <th></th>\n",
       "      <th>Advertising Manager</th>\n",
       "      <th>Sales Manager</th>\n",
       "    </tr>\n",
       "  </thead>\n",
       "  <tbody>\n",
       "    <tr>\n",
       "      <th>0</th>\n",
       "      <td>74.256</td>\n",
       "      <td>71.492</td>\n",
       "    </tr>\n",
       "    <tr>\n",
       "      <th>1</th>\n",
       "      <td>96.234</td>\n",
       "      <td>67.814</td>\n",
       "    </tr>\n",
       "    <tr>\n",
       "      <th>2</th>\n",
       "      <td>89.807</td>\n",
       "      <td>56.470</td>\n",
       "    </tr>\n",
       "    <tr>\n",
       "      <th>3</th>\n",
       "      <td>93.261</td>\n",
       "      <td>72.401</td>\n",
       "    </tr>\n",
       "    <tr>\n",
       "      <th>4</th>\n",
       "      <td>103.030</td>\n",
       "      <td>71.804</td>\n",
       "    </tr>\n",
       "    <tr>\n",
       "      <th>5</th>\n",
       "      <td>74.195</td>\n",
       "      <td>46.394</td>\n",
       "    </tr>\n",
       "    <tr>\n",
       "      <th>6</th>\n",
       "      <td>75.932</td>\n",
       "      <td>54.449</td>\n",
       "    </tr>\n",
       "    <tr>\n",
       "      <th>7</th>\n",
       "      <td>80.742</td>\n",
       "      <td>59.676</td>\n",
       "    </tr>\n",
       "    <tr>\n",
       "      <th>8</th>\n",
       "      <td>39.672</td>\n",
       "      <td>63.369</td>\n",
       "    </tr>\n",
       "    <tr>\n",
       "      <th>9</th>\n",
       "      <td>45.652</td>\n",
       "      <td>43.649</td>\n",
       "    </tr>\n",
       "    <tr>\n",
       "      <th>10</th>\n",
       "      <td>93.083</td>\n",
       "      <td>63.508</td>\n",
       "    </tr>\n",
       "    <tr>\n",
       "      <th>11</th>\n",
       "      <td>63.384</td>\n",
       "      <td>58.653</td>\n",
       "    </tr>\n",
       "    <tr>\n",
       "      <th>12</th>\n",
       "      <td>57.791</td>\n",
       "      <td>71.351</td>\n",
       "    </tr>\n",
       "    <tr>\n",
       "      <th>13</th>\n",
       "      <td>65.145</td>\n",
       "      <td>72.790</td>\n",
       "    </tr>\n",
       "    <tr>\n",
       "      <th>14</th>\n",
       "      <td>96.767</td>\n",
       "      <td>59.505</td>\n",
       "    </tr>\n",
       "    <tr>\n",
       "      <th>15</th>\n",
       "      <td>77.242</td>\n",
       "      <td>37.386</td>\n",
       "    </tr>\n",
       "    <tr>\n",
       "      <th>16</th>\n",
       "      <td>67.056</td>\n",
       "      <td>67.160</td>\n",
       "    </tr>\n",
       "    <tr>\n",
       "      <th>17</th>\n",
       "      <td>64.276</td>\n",
       "      <td>83.849</td>\n",
       "    </tr>\n",
       "    <tr>\n",
       "      <th>18</th>\n",
       "      <td>74.194</td>\n",
       "      <td>42.494</td>\n",
       "    </tr>\n",
       "    <tr>\n",
       "      <th>19</th>\n",
       "      <td>65.360</td>\n",
       "      <td>54.335</td>\n",
       "    </tr>\n",
       "    <tr>\n",
       "      <th>20</th>\n",
       "      <td>73.904</td>\n",
       "      <td>66.035</td>\n",
       "    </tr>\n",
       "    <tr>\n",
       "      <th>21</th>\n",
       "      <td>54.270</td>\n",
       "      <td>77.136</td>\n",
       "    </tr>\n",
       "    <tr>\n",
       "      <th>22</th>\n",
       "      <td>59.045</td>\n",
       "      <td>61.261</td>\n",
       "    </tr>\n",
       "    <tr>\n",
       "      <th>23</th>\n",
       "      <td>68.508</td>\n",
       "      <td>66.359</td>\n",
       "    </tr>\n",
       "    <tr>\n",
       "      <th>24</th>\n",
       "      <td>71.115</td>\n",
       "      <td>60.053</td>\n",
       "    </tr>\n",
       "    <tr>\n",
       "      <th>25</th>\n",
       "      <td>67.574</td>\n",
       "      <td>48.036</td>\n",
       "    </tr>\n",
       "    <tr>\n",
       "      <th>26</th>\n",
       "      <td>59.621</td>\n",
       "      <td>73.065</td>\n",
       "    </tr>\n",
       "    <tr>\n",
       "      <th>27</th>\n",
       "      <td>62.483</td>\n",
       "      <td>61.254</td>\n",
       "    </tr>\n",
       "    <tr>\n",
       "      <th>28</th>\n",
       "      <td>69.319</td>\n",
       "      <td>99.198</td>\n",
       "    </tr>\n",
       "    <tr>\n",
       "      <th>29</th>\n",
       "      <td>35.394</td>\n",
       "      <td>37.194</td>\n",
       "    </tr>\n",
       "    <tr>\n",
       "      <th>30</th>\n",
       "      <td>86.741</td>\n",
       "      <td>63.362</td>\n",
       "    </tr>\n",
       "    <tr>\n",
       "      <th>31</th>\n",
       "      <td>57.351</td>\n",
       "      <td>57.828</td>\n",
       "    </tr>\n",
       "    <tr>\n",
       "      <th>32</th>\n",
       "      <td>56.780</td>\n",
       "      <td>55.052</td>\n",
       "    </tr>\n",
       "    <tr>\n",
       "      <th>33</th>\n",
       "      <td>NaN</td>\n",
       "      <td>69.962</td>\n",
       "    </tr>\n",
       "    <tr>\n",
       "      <th>34</th>\n",
       "      <td>NaN</td>\n",
       "      <td>39.020</td>\n",
       "    </tr>\n",
       "  </tbody>\n",
       "</table>\n",
       "</div>"
      ],
      "text/plain": [
       "    Advertising Manager  Sales Manager\n",
       "0                74.256         71.492\n",
       "1                96.234         67.814\n",
       "2                89.807         56.470\n",
       "3                93.261         72.401\n",
       "4               103.030         71.804\n",
       "5                74.195         46.394\n",
       "6                75.932         54.449\n",
       "7                80.742         59.676\n",
       "8                39.672         63.369\n",
       "9                45.652         43.649\n",
       "10               93.083         63.508\n",
       "11               63.384         58.653\n",
       "12               57.791         71.351\n",
       "13               65.145         72.790\n",
       "14               96.767         59.505\n",
       "15               77.242         37.386\n",
       "16               67.056         67.160\n",
       "17               64.276         83.849\n",
       "18               74.194         42.494\n",
       "19               65.360         54.335\n",
       "20               73.904         66.035\n",
       "21               54.270         77.136\n",
       "22               59.045         61.261\n",
       "23               68.508         66.359\n",
       "24               71.115         60.053\n",
       "25               67.574         48.036\n",
       "26               59.621         73.065\n",
       "27               62.483         61.254\n",
       "28               69.319         99.198\n",
       "29               35.394         37.194\n",
       "30               86.741         63.362\n",
       "31               57.351         57.828\n",
       "32               56.780         55.052\n",
       "33                  NaN         69.962\n",
       "34                  NaN         39.020"
      ]
     },
     "execution_count": 166,
     "metadata": {},
     "output_type": "execute_result"
    }
   ],
   "source": [
    "df=pd.read_csv(\"DS1_C5_S6_Hypothesis_I_Concept_Wages_Data.csv\")\n",
    "df"
   ]
  },
  {
   "cell_type": "code",
   "execution_count": 167,
   "id": "88b06f94",
   "metadata": {},
   "outputs": [],
   "source": [
    "#H0:mu1=mu2:mu1-mu2=0\n",
    "#H1:mu1-mu2!=0"
   ]
  },
  {
   "cell_type": "code",
   "execution_count": 168,
   "id": "20d6d630",
   "metadata": {},
   "outputs": [],
   "source": [
    "#z_s for 2sample mean have different formula"
   ]
  },
  {
   "cell_type": "code",
   "execution_count": 169,
   "id": "77281c39",
   "metadata": {},
   "outputs": [],
   "source": [
    "#sample1 :advertising manager"
   ]
  },
  {
   "cell_type": "code",
   "execution_count": 170,
   "id": "e6030a83",
   "metadata": {},
   "outputs": [
    {
     "data": {
      "text/plain": [
       "(70.27830303030304, 33, 261.780452967803)"
      ]
     },
     "execution_count": 170,
     "metadata": {},
     "output_type": "execute_result"
    }
   ],
   "source": [
    "s1_mean=df[\"Advertising Manager\"].mean()\n",
    "n1=len(df[\"Advertising Manager\"][:33])#bcz of null values\n",
    "s1_var=df[\"Advertising Manager\"].var()\n",
    "s1_mean,n1,s1_var"
   ]
  },
  {
   "cell_type": "code",
   "execution_count": 171,
   "id": "9d087cef",
   "metadata": {},
   "outputs": [],
   "source": [
    "#sample2: Sales manager"
   ]
  },
  {
   "cell_type": "code",
   "execution_count": 172,
   "id": "d58bfd71",
   "metadata": {},
   "outputs": [
    {
     "data": {
      "text/plain": [
       "(61.52468571428572, 35, 176.8490783983193)"
      ]
     },
     "execution_count": 172,
     "metadata": {},
     "output_type": "execute_result"
    }
   ],
   "source": [
    "s2_mean=df[\"Sales Manager\"].mean()\n",
    "n2=len(df[\"Sales Manager\"])\n",
    "s2_var=df[\"Sales Manager\"].var()\n",
    "s2_mean,n2,s2_var"
   ]
  },
  {
   "cell_type": "code",
   "execution_count": 173,
   "id": "d2d9d940",
   "metadata": {},
   "outputs": [],
   "source": [
    "alpha=0.05#given as 5%"
   ]
  },
  {
   "cell_type": "code",
   "execution_count": 174,
   "id": "dd944a56",
   "metadata": {},
   "outputs": [
    {
     "data": {
      "text/plain": [
       "2.429165013110487"
      ]
     },
     "execution_count": 174,
     "metadata": {},
     "output_type": "execute_result"
    }
   ],
   "source": [
    "#z_s :z statistics of 2 sample mean\n",
    "z_s=(s1_mean-s2_mean)/(np.sqrt((s1_var/n1)+(s2_var/n2)))\n",
    "z_s"
   ]
  },
  {
   "cell_type": "code",
   "execution_count": 175,
   "id": "d47f914c",
   "metadata": {},
   "outputs": [
    {
     "data": {
      "text/plain": [
       "0.015133642738636155"
      ]
     },
     "execution_count": 175,
     "metadata": {},
     "output_type": "execute_result"
    }
   ],
   "source": [
    "pvalue=1-stat.norm.cdf(z_s)#since z_s is positive\n",
    "pvalue=pvalue*2#multiply by 2\n",
    "pvalue"
   ]
  },
  {
   "cell_type": "code",
   "execution_count": 176,
   "id": "0a6e04c3",
   "metadata": {},
   "outputs": [
    {
     "data": {
      "text/plain": [
       "(-1.9599639845400545, 1.959963984540054)"
      ]
     },
     "execution_count": 176,
     "metadata": {},
     "output_type": "execute_result"
    }
   ],
   "source": [
    "neg_z_critical=stat.norm.ppf(alpha/2)\n",
    "pos_z_critical=stat.norm.ppf(1-alpha/2)\n",
    "neg_z_critical,pos_z_critical"
   ]
  },
  {
   "cell_type": "code",
   "execution_count": 177,
   "id": "c55dd503",
   "metadata": {},
   "outputs": [
    {
     "name": "stdout",
     "output_type": "stream",
     "text": [
      "reject.there is significant difference\n"
     ]
    }
   ],
   "source": [
    "if neg_z_critical<z_s<pos_z_critical and pvalue>alpha:\n",
    "    print(\"accept\")\n",
    "else:\n",
    "    print(\"reject.there is significant difference\")"
   ]
  },
  {
   "cell_type": "markdown",
   "id": "716729ba",
   "metadata": {},
   "source": [
    "# T test"
   ]
  },
  {
   "cell_type": "markdown",
   "id": "b7132a3d",
   "metadata": {},
   "source": [
    "### if population standard deivation is unknown then we can use t-test.\n",
    "### if even pop sd is known and sample size is less than 30 we can use this t-test\n",
    "\n",
    "### for z-test:saample size>30 &pop_sd is known\n",
    "\n",
    "### for both population should be normally distributed"
   ]
  },
  {
   "cell_type": "code",
   "execution_count": 178,
   "id": "66369356",
   "metadata": {},
   "outputs": [],
   "source": [
    "#t distribution is symmetrical around its mean\n",
    "#values range btw -infinity to +infinity"
   ]
  },
  {
   "cell_type": "code",
   "execution_count": 179,
   "id": "8d2dee05",
   "metadata": {},
   "outputs": [],
   "source": [
    "#Degree of Freedom: refers to the maximum number of logically independent value that have freedom to vary\n",
    "#df=n-1"
   ]
  },
  {
   "cell_type": "code",
   "execution_count": 180,
   "id": "8ec314e9",
   "metadata": {},
   "outputs": [],
   "source": [
    "#sample of 4 numbers={3,8,5,4} and if mean of 5 numbers is 6, then 5th no should be 10\n",
    "#so here 10 has no freedom to vary. df=n-1=5-1=4"
   ]
  },
  {
   "cell_type": "markdown",
   "id": "536fe20c",
   "metadata": {},
   "source": [
    "#### 1 sample t test "
   ]
  },
  {
   "cell_type": "code",
   "execution_count": 181,
   "id": "7cf555e5",
   "metadata": {},
   "outputs": [],
   "source": [
    "#t stat for 1 sample mean=(s_mean-pop_mean)/standard error\n",
    "#standard error=s_sd/sqrt(n)"
   ]
  },
  {
   "cell_type": "code",
   "execution_count": 182,
   "id": "9102c25c",
   "metadata": {},
   "outputs": [],
   "source": [
    "#demo"
   ]
  },
  {
   "cell_type": "code",
   "execution_count": 183,
   "id": "d37260bf",
   "metadata": {},
   "outputs": [],
   "source": [
    "pop_mean=1272\n",
    "alpha=0.05"
   ]
  },
  {
   "cell_type": "code",
   "execution_count": 184,
   "id": "67721ce5",
   "metadata": {},
   "outputs": [],
   "source": [
    "s=np.array([1208,812,1217,1323,1308,1515,831,1021,1387,951,930,730])"
   ]
  },
  {
   "cell_type": "code",
   "execution_count": 185,
   "id": "e367774c",
   "metadata": {},
   "outputs": [],
   "source": [
    "#sample standard deviation have slighly different formula .replace n with n-1 in formula for sample std.\n",
    "#so use statistics.stdev()"
   ]
  },
  {
   "cell_type": "code",
   "execution_count": 186,
   "id": "b2632419",
   "metadata": {},
   "outputs": [
    {
     "data": {
      "text/plain": [
       "(1102.75, 256.2654873368632, 12)"
      ]
     },
     "execution_count": 186,
     "metadata": {},
     "output_type": "execute_result"
    }
   ],
   "source": [
    "s_mean=s.mean()\n",
    "s_sd=st.stdev(s)\n",
    "n=len(s)\n",
    "s_mean,s_sd,n\n"
   ]
  },
  {
   "cell_type": "code",
   "execution_count": 187,
   "id": "55619290",
   "metadata": {},
   "outputs": [
    {
     "data": {
      "text/plain": [
       "-2.2878585971718057"
      ]
     },
     "execution_count": 187,
     "metadata": {},
     "output_type": "execute_result"
    }
   ],
   "source": [
    "t_statistic=(s_mean-pop_mean)/(s_sd/np.sqrt(n))\n",
    "t_statistic"
   ]
  },
  {
   "cell_type": "code",
   "execution_count": 188,
   "id": "a0998816",
   "metadata": {},
   "outputs": [
    {
     "data": {
      "text/plain": [
       "11"
      ]
     },
     "execution_count": 188,
     "metadata": {},
     "output_type": "execute_result"
    }
   ],
   "source": [
    "dof=n-1#degree of freedom\n",
    "dof"
   ]
  },
  {
   "cell_type": "code",
   "execution_count": 189,
   "id": "73a50d41",
   "metadata": {},
   "outputs": [
    {
     "data": {
      "text/plain": [
       "(-2.200985160082949, 2.200985160082949)"
      ]
     },
     "execution_count": 189,
     "metadata": {},
     "output_type": "execute_result"
    }
   ],
   "source": [
    "neg_t_critical=stat.t.ppf(alpha/2,dof)#alpha/2 bcz of 2tail test\n",
    "pos_t_critical=stat.t.ppf(1-alpha/2,dof)\n",
    "neg_t_critical,pos_t_critical"
   ]
  },
  {
   "cell_type": "code",
   "execution_count": 190,
   "id": "04054b5f",
   "metadata": {},
   "outputs": [
    {
     "data": {
      "text/plain": [
       "0.04293902318131083"
      ]
     },
     "execution_count": 190,
     "metadata": {},
     "output_type": "execute_result"
    }
   ],
   "source": [
    "pvalue=stat.t.cdf(t_statistic,dof)\n",
    "pvalue=pvalue*2#2tail\n",
    "pvalue"
   ]
  },
  {
   "cell_type": "code",
   "execution_count": 191,
   "id": "3cb8f96f",
   "metadata": {},
   "outputs": [
    {
     "name": "stdout",
     "output_type": "stream",
     "text": [
      "reject null hypothesis. there is significant diff in dental care expenditure\n"
     ]
    }
   ],
   "source": [
    "if neg_t_critical<t_statistic<pos_t_critical and pvalue>alpha:\n",
    "    print(\"accept\")\n",
    "else:\n",
    "    print(\"reject null hypothesis. there is significant diff in dental care expenditure\")"
   ]
  },
  {
   "cell_type": "code",
   "execution_count": 192,
   "id": "6fe0eb47",
   "metadata": {},
   "outputs": [
    {
     "data": {
      "text/plain": [
       "Ttest_1sampResult(statistic=-2.2878518671996195, pvalue=0.04293953117010542)"
      ]
     },
     "execution_count": 192,
     "metadata": {},
     "output_type": "execute_result"
    }
   ],
   "source": [
    "#u can also use this function in statistics library to get t stat and pvalue\n",
    "stat.ttest_1samp(s,pop_mean)"
   ]
  },
  {
   "cell_type": "markdown",
   "id": "af5cb723",
   "metadata": {},
   "source": [
    "#### for 2tail t-test:\n",
    "#### stat.ttest_1samp(s,pop_mean)\n",
    "#### for right tail t-test:\n",
    "#### stat.ttest_1samp(s,pop_mean,alternative=\"greater\")\n",
    "#### for left tail t-test:\n",
    "#### stat.ttest_1samp(s,pop_mean,alternative=\"lesser\")"
   ]
  },
  {
   "cell_type": "code",
   "execution_count": 193,
   "id": "8cf041ea",
   "metadata": {},
   "outputs": [
    {
     "name": "stdout",
     "output_type": "stream",
     "text": [
      "t_statistic: -2.2878585971718057 neg_t_critical: -2.200985160082949 pos_t_critical: 2.200985160082949 pvalue: 0.04293902318131083\n"
     ]
    }
   ],
   "source": [
    "def my_ttest_1sample(s,pop_mean,alpha):\n",
    "    s_mean=s.mean()\n",
    "    s_sd=st.stdev(s)\n",
    "    n=len(s)\n",
    "    t_statistic=(s_mean-pop_mean)/(s_sd/np.sqrt(n))\n",
    "    dof=n-1\n",
    "    neg_t_critical=stat.t.ppf(alpha/2,dof)\n",
    "    pos_t_critical=stat.t.ppf(1-alpha/2,dof)\n",
    "    pvalue=stat.t.cdf(t_statistic,dof)*2\n",
    "    return t_statistic,neg_t_critical,pos_t_critical,pvalue\n",
    "test=my_ttest_1sample(s,pop_mean,0.05)\n",
    "print('t_statistic:',test[0],'neg_t_critical:',test[1],'pos_t_critical:',test[2],'pvalue:',test[3])"
   ]
  },
  {
   "cell_type": "markdown",
   "id": "352921a7",
   "metadata": {},
   "source": [
    "#### 2 sample T test"
   ]
  },
  {
   "cell_type": "code",
   "execution_count": 194,
   "id": "369402c2",
   "metadata": {},
   "outputs": [],
   "source": [
    "#assumption for 2 sample t test:population variance are approxiamaltey equal"
   ]
  },
  {
   "cell_type": "code",
   "execution_count": 195,
   "id": "a3a2bfbd",
   "metadata": {},
   "outputs": [],
   "source": [
    "#t_statistic formula is different"
   ]
  },
  {
   "cell_type": "code",
   "execution_count": 196,
   "id": "1248982c",
   "metadata": {},
   "outputs": [],
   "source": [
    "It=np.array([4,5,6,4,4,3,2,5,3,4,7])\n",
    "Finance=np.array([2,3,4,5,4,7,6,4,3])"
   ]
  },
  {
   "cell_type": "code",
   "execution_count": 197,
   "id": "a7858ede",
   "metadata": {},
   "outputs": [
    {
     "data": {
      "text/plain": [
       "(4.2727272727272725, 4.222222222222222, 2, 2, 11, 9)"
      ]
     },
     "execution_count": 197,
     "metadata": {},
     "output_type": "execute_result"
    }
   ],
   "source": [
    "s1_mean=It.mean()\n",
    "s2_mean=Finance.mean()\n",
    "v1=st.variance(It)#from statistics library\n",
    "v2=st.variance(Finance)\n",
    "n1=len(It)\n",
    "n2=len(Finance)\n",
    "df1=n1-1\n",
    "df2=n2-1\n",
    "df=df1+df2\n",
    "s1_mean,s2_mean,v1,v2,n1,n2"
   ]
  },
  {
   "cell_type": "code",
   "execution_count": 198,
   "id": "c76be34f",
   "metadata": {},
   "outputs": [
    {
     "data": {
      "text/plain": [
       "0.07945521577046549"
      ]
     },
     "execution_count": 198,
     "metadata": {},
     "output_type": "execute_result"
    }
   ],
   "source": [
    "#t-statistic\n",
    "a=s1_mean-s2_mean\n",
    "b=np.sqrt(((df1*v1)+(df2*v2))/df)\n",
    "c=np.sqrt((1/n1)+(1/n2))\n",
    "t_statistic=a/(b*c)\n",
    "t_statistic"
   ]
  },
  {
   "cell_type": "code",
   "execution_count": 199,
   "id": "5ec79148",
   "metadata": {},
   "outputs": [
    {
     "data": {
      "text/plain": [
       "(-2.10092204024096, 2.10092204024096)"
      ]
     },
     "execution_count": 199,
     "metadata": {},
     "output_type": "execute_result"
    }
   ],
   "source": [
    "alpha=0.05\n",
    "neg_t_critical=stat.t.ppf(alpha/2,df)\n",
    "pos_t_critical=stat.t.ppf(1-alpha/2,df)\n",
    "neg_t_critical,pos_t_critical"
   ]
  },
  {
   "cell_type": "code",
   "execution_count": 200,
   "id": "35e4eb06",
   "metadata": {
    "scrolled": true
   },
   "outputs": [
    {
     "data": {
      "text/plain": [
       "0.937547243022204"
      ]
     },
     "execution_count": 200,
     "metadata": {},
     "output_type": "execute_result"
    }
   ],
   "source": [
    "pvalue=(1-stat.t.cdf(t_statistic,df))*2\n",
    "pvalue"
   ]
  },
  {
   "cell_type": "code",
   "execution_count": 201,
   "id": "244b63d2",
   "metadata": {},
   "outputs": [
    {
     "data": {
      "text/plain": [
       "Ttest_indResult(statistic=0.07562651385838887, pvalue=0.9405504456951822)"
      ]
     },
     "execution_count": 201,
     "metadata": {},
     "output_type": "execute_result"
    }
   ],
   "source": [
    "# or using library for 2 sample t test:\n",
    "stat.ttest_ind(It,Finance)"
   ]
  },
  {
   "cell_type": "code",
   "execution_count": 203,
   "id": "42d2b25c",
   "metadata": {},
   "outputs": [
    {
     "name": "stdout",
     "output_type": "stream",
     "text": [
      "accept. there is no sig diff\n"
     ]
    }
   ],
   "source": [
    "if neg_t_critical<t_statistic<pos_t_critical and pvalue>alpha:\n",
    "    print(\"accept. there is no sig diff\")\n",
    "else:\n",
    "    print(\"reject\")"
   ]
  },
  {
   "cell_type": "code",
   "execution_count": null,
   "id": "ea59f49e",
   "metadata": {},
   "outputs": [],
   "source": [
    "#t-distribution curve\n",
    "#for each degree of freedom there is new t distribution curve"
   ]
  },
  {
   "cell_type": "code",
   "execution_count": 240,
   "id": "65107836",
   "metadata": {},
   "outputs": [
    {
     "data": {
      "image/png": "[encoded data removed]",
      "text/plain": [
       "<Figure size 432x288 with 1 Axes>"
      ]
     },
     "metadata": {
      "needs_background": "light"
     },
     "output_type": "display_data"
    }
   ],
   "source": [
    "x=np.arange(-3,3,0.01)\n",
    "two_df=stat.t.pdf(x,2)#two degree of freedom\n",
    "four_df=stat.t.pdf(x,4)\n",
    "five_df=stat.t.pdf(x,5)\n",
    "ten_df=stat.t.pdf(x,10)\n",
    "fifteen_df=stat.t.pdf(x,15)\n",
    "plt.plot(x,two_df,x,four_df,x,five_df,x,fifteen_df,x,ten_df,linestyle=\"dashed\")\n",
    "plt.show()"
   ]
  },
  {
   "cell_type": "code",
   "execution_count": 242,
   "id": "f3999c0a",
   "metadata": {},
   "outputs": [
    {
     "data": {
      "image/png": "[encoded data removed]",
      "text/plain": [
       "<Figure size 432x288 with 1 Axes>"
      ]
     },
     "metadata": {
      "needs_background": "light"
     },
     "output_type": "display_data"
    }
   ],
   "source": [
    "x=np.arange(-3,3,0.01)\n",
    "two_df=stat.t.pdf(x,30)\n",
    "four_df=stat.t.pdf(x,32)\n",
    "five_df=stat.t.pdf(x,35)\n",
    "ten_df=stat.t.pdf(x,50)\n",
    "fifteen_df=stat.t.pdf(x,60)\n",
    "plt.plot(x,two_df,x,four_df,x,five_df,x,fifteen_df,x,ten_df,linestyle=\"dashed\")\n",
    "plt.show()"
   ]
  },
  {
   "cell_type": "markdown",
   "id": "c5fa913f",
   "metadata": {},
   "source": [
    "# Anova test"
   ]
  },
  {
   "cell_type": "code",
   "execution_count": null,
   "id": "d1d12d13",
   "metadata": {},
   "outputs": [],
   "source": [
    "#analysis of variance\n",
    "#used for comparing sample means/variances taken from different populations\n",
    "#anova is always right tailed test"
   ]
  },
  {
   "cell_type": "code",
   "execution_count": null,
   "id": "c146b6aa",
   "metadata": {},
   "outputs": [],
   "source": [
    "#H0:mean1=mean2=mean3\n",
    "#H1:atleast one mean is different"
   ]
  },
  {
   "cell_type": "code",
   "execution_count": 205,
   "id": "5e701190",
   "metadata": {},
   "outputs": [],
   "source": [
    "s1=[30,27,27,28,29,28]\n",
    "s2=[31,34,30,33,32,32]\n",
    "s3=[24,24,25,25,26,26]\n",
    "alpha=0.01"
   ]
  },
  {
   "cell_type": "code",
   "execution_count": 206,
   "id": "2cfea9d4",
   "metadata": {},
   "outputs": [],
   "source": [
    "dfc=3-1#degree of freedom for rows .3columns so 3-1\n",
    "dfr=(6-1)+(6-1)+(6-1)\n",
    "#dft=18-1#total-1"
   ]
  },
  {
   "cell_type": "code",
   "execution_count": 208,
   "id": "e1aa7633",
   "metadata": {},
   "outputs": [
    {
     "data": {
      "text/plain": [
       "6.358873480667171"
      ]
     },
     "execution_count": 208,
     "metadata": {},
     "output_type": "execute_result"
    }
   ],
   "source": [
    "f_critical=stat.f.ppf(1-alpha,dfc,dfr)\n",
    "f_critical"
   ]
  },
  {
   "cell_type": "code",
   "execution_count": 210,
   "id": "b307ebe5",
   "metadata": {},
   "outputs": [
    {
     "data": {
      "text/plain": [
       "(53.08000000000004, 1.5685196289333733e-07)"
      ]
     },
     "execution_count": 210,
     "metadata": {},
     "output_type": "execute_result"
    }
   ],
   "source": [
    "f_statistic,pvalue=stat.f_oneway(s1,s2,s3)\n",
    "f_statistic,pvalue"
   ]
  },
  {
   "cell_type": "code",
   "execution_count": 212,
   "id": "827ea5d6",
   "metadata": {},
   "outputs": [
    {
     "name": "stdout",
     "output_type": "stream",
     "text": [
      "reject\n"
     ]
    }
   ],
   "source": [
    "if f_statistic<f_critical and pvalue>alpha:\n",
    "    print(\"accept\")\n",
    "else:\n",
    "    print(\"reject\")"
   ]
  },
  {
   "cell_type": "code",
   "execution_count": 224,
   "id": "0d177ad8",
   "metadata": {},
   "outputs": [
    {
     "data": {
      "image/png": "[encoded data removed]",
      "text/plain": [
       "<Figure size 432x288 with 1 Axes>"
      ]
     },
     "metadata": {
      "needs_background": "light"
     },
     "output_type": "display_data"
    }
   ],
   "source": [
    "plt.boxplot([s1,s2,s3],vert=True,showmeans=True)\n",
    "plt.show()"
   ]
  },
  {
   "cell_type": "code",
   "execution_count": null,
   "id": "ffc17ea6",
   "metadata": {},
   "outputs": [],
   "source": [
    "#T distribution have higher kurtosis than normal distribution"
   ]
  },
  {
   "cell_type": "markdown",
   "id": "2406279c",
   "metadata": {},
   "source": [
    "# Chi square test"
   ]
  },
  {
   "cell_type": "code",
   "execution_count": null,
   "id": "2236e631",
   "metadata": {},
   "outputs": [],
   "source": [
    "# It is applied when you have two categorical variables from a single population.\n",
    "#it is used to determine whether significant association between two variables"
   ]
  },
  {
   "cell_type": "code",
   "execution_count": 2,
   "id": "7343dab2",
   "metadata": {},
   "outputs": [],
   "source": [
    "import seaborn as sns"
   ]
  },
  {
   "cell_type": "code",
   "execution_count": 4,
   "id": "01f1175f",
   "metadata": {},
   "outputs": [],
   "source": [
    "dataset=sns.load_dataset(\"tips\")"
   ]
  },
  {
   "cell_type": "code",
   "execution_count": 6,
   "id": "d9e9388c",
   "metadata": {},
   "outputs": [
    {
     "data": {
      "text/html": [
       "<div>\n",
       "<style scoped>\n",
       "    .dataframe tbody tr th:only-of-type {\n",
       "        vertical-align: middle;\n",
       "    }\n",
       "\n",
       "    .dataframe tbody tr th {\n",
       "        vertical-align: top;\n",
       "    }\n",
       "\n",
       "    .dataframe thead th {\n",
       "        text-align: right;\n",
       "    }\n",
       "</style>\n",
       "<table border=\"1\" class=\"dataframe\">\n",
       "  <thead>\n",
       "    <tr style=\"text-align: right;\">\n",
       "      <th></th>\n",
       "      <th>total_bill</th>\n",
       "      <th>tip</th>\n",
       "      <th>sex</th>\n",
       "      <th>smoker</th>\n",
       "      <th>day</th>\n",
       "      <th>time</th>\n",
       "      <th>size</th>\n",
       "    </tr>\n",
       "  </thead>\n",
       "  <tbody>\n",
       "    <tr>\n",
       "      <th>0</th>\n",
       "      <td>16.99</td>\n",
       "      <td>1.01</td>\n",
       "      <td>Female</td>\n",
       "      <td>No</td>\n",
       "      <td>Sun</td>\n",
       "      <td>Dinner</td>\n",
       "      <td>2</td>\n",
       "    </tr>\n",
       "    <tr>\n",
       "      <th>1</th>\n",
       "      <td>10.34</td>\n",
       "      <td>1.66</td>\n",
       "      <td>Male</td>\n",
       "      <td>No</td>\n",
       "      <td>Sun</td>\n",
       "      <td>Dinner</td>\n",
       "      <td>3</td>\n",
       "    </tr>\n",
       "    <tr>\n",
       "      <th>2</th>\n",
       "      <td>21.01</td>\n",
       "      <td>3.50</td>\n",
       "      <td>Male</td>\n",
       "      <td>No</td>\n",
       "      <td>Sun</td>\n",
       "      <td>Dinner</td>\n",
       "      <td>3</td>\n",
       "    </tr>\n",
       "    <tr>\n",
       "      <th>3</th>\n",
       "      <td>23.68</td>\n",
       "      <td>3.31</td>\n",
       "      <td>Male</td>\n",
       "      <td>No</td>\n",
       "      <td>Sun</td>\n",
       "      <td>Dinner</td>\n",
       "      <td>2</td>\n",
       "    </tr>\n",
       "    <tr>\n",
       "      <th>4</th>\n",
       "      <td>24.59</td>\n",
       "      <td>3.61</td>\n",
       "      <td>Female</td>\n",
       "      <td>No</td>\n",
       "      <td>Sun</td>\n",
       "      <td>Dinner</td>\n",
       "      <td>4</td>\n",
       "    </tr>\n",
       "  </tbody>\n",
       "</table>\n",
       "</div>"
      ],
      "text/plain": [
       "   total_bill   tip     sex smoker  day    time  size\n",
       "0       16.99  1.01  Female     No  Sun  Dinner     2\n",
       "1       10.34  1.66    Male     No  Sun  Dinner     3\n",
       "2       21.01  3.50    Male     No  Sun  Dinner     3\n",
       "3       23.68  3.31    Male     No  Sun  Dinner     2\n",
       "4       24.59  3.61  Female     No  Sun  Dinner     4"
      ]
     },
     "execution_count": 6,
     "metadata": {},
     "output_type": "execute_result"
    }
   ],
   "source": [
    "dataset.head()"
   ]
  },
  {
   "cell_type": "code",
   "execution_count": null,
   "id": "4f728134",
   "metadata": {},
   "outputs": [],
   "source": [
    "#lets find whether there is association btw sex and smoker"
   ]
  },
  {
   "cell_type": "code",
   "execution_count": 8,
   "id": "839f3349",
   "metadata": {},
   "outputs": [
    {
     "data": {
      "text/html": [
       "<div>\n",
       "<style scoped>\n",
       "    .dataframe tbody tr th:only-of-type {\n",
       "        vertical-align: middle;\n",
       "    }\n",
       "\n",
       "    .dataframe tbody tr th {\n",
       "        vertical-align: top;\n",
       "    }\n",
       "\n",
       "    .dataframe thead th {\n",
       "        text-align: right;\n",
       "    }\n",
       "</style>\n",
       "<table border=\"1\" class=\"dataframe\">\n",
       "  <thead>\n",
       "    <tr style=\"text-align: right;\">\n",
       "      <th>smoker</th>\n",
       "      <th>Yes</th>\n",
       "      <th>No</th>\n",
       "    </tr>\n",
       "    <tr>\n",
       "      <th>sex</th>\n",
       "      <th></th>\n",
       "      <th></th>\n",
       "    </tr>\n",
       "  </thead>\n",
       "  <tbody>\n",
       "    <tr>\n",
       "      <th>Male</th>\n",
       "      <td>60</td>\n",
       "      <td>97</td>\n",
       "    </tr>\n",
       "    <tr>\n",
       "      <th>Female</th>\n",
       "      <td>33</td>\n",
       "      <td>54</td>\n",
       "    </tr>\n",
       "  </tbody>\n",
       "</table>\n",
       "</div>"
      ],
      "text/plain": [
       "smoker  Yes  No\n",
       "sex            \n",
       "Male     60  97\n",
       "Female   33  54"
      ]
     },
     "execution_count": 8,
     "metadata": {},
     "output_type": "execute_result"
    }
   ],
   "source": [
    "ct=pd.crosstab(dataset[\"sex\"],dataset[\"smoker\"])\n",
    "ct"
   ]
  },
  {
   "cell_type": "code",
   "execution_count": 9,
   "id": "5286e4c1",
   "metadata": {},
   "outputs": [
    {
     "data": {
      "text/plain": [
       "(0.0,\n",
       " 1.0,\n",
       " 1,\n",
       " array([[59.84016393, 97.15983607],\n",
       "        [33.15983607, 53.84016393]]))"
      ]
     },
     "execution_count": 9,
     "metadata": {},
     "output_type": "execute_result"
    }
   ],
   "source": [
    "#we get observed values on crosstab o\n",
    "#then we calculate expected values  e\n",
    "stat.chi2_contingency(ct)"
   ]
  },
  {
   "cell_type": "code",
   "execution_count": null,
   "id": "ca84b4a2",
   "metadata": {},
   "outputs": [],
   "source": [
    "#then find chi-square statistic value using formula which needs both observed and expected values\n",
    "#summation(sqr(o-e)/e)\n",
    "#find critical value stats.chi2.ppf\n",
    "#same as other tests"
   ]
  },
  {
   "cell_type": "code",
   "execution_count": null,
   "id": "4f0b9c10",
   "metadata": {},
   "outputs": [],
   "source": [
    "#A confidence interval shows the probability that a parameter will fall between a pair of values around the mean"
   ]
  }
 ],
 "metadata": {
  "kernelspec": {
   "display_name": "Python 3 (ipykernel)",
   "language": "python",
   "name": "python3"
  },
  "language_info": {
   "codemirror_mode": {
    "name": "ipython",
    "version": 3
   },
   "file_extension": ".py",
   "mimetype": "text/x-python",
   "name": "python",
   "nbconvert_exporter": "python",
   "pygments_lexer": "ipython3",
   "version": "3.9.12"
  }
 },
 "nbformat": 4,
 "nbformat_minor": 5
}
