{
 "cells": [
  {
   "cell_type": "code",
   "execution_count": 94,
   "id": "2cbe2da2",
   "metadata": {},
   "outputs": [],
   "source": [
    "import numpy as np\n",
    "import pandas as pd\n",
    "import scipy.stats as stat\n",
    "import matplotlib.pyplot as plt\n",
    "import seaborn as sb\n",
    "import statistics as st"
   ]
  },
  {
   "cell_type": "markdown",
   "id": "a656bca4",
   "metadata": {},
   "source": [
    "# Task1"
   ]
  },
  {
   "cell_type": "code",
   "execution_count": 95,
   "id": "e1dcdb00",
   "metadata": {},
   "outputs": [],
   "source": [
    "#null hypothesis:mean score for the class on test<=71\n",
    "#alternate hypothesis:mean score for the class on test>70\n",
    "\n",
    "#since sample is less than 30 and pop std is not available, applying t test here. (right tailed test)"
   ]
  },
  {
   "cell_type": "code",
   "execution_count": 96,
   "id": "169a6751",
   "metadata": {},
   "outputs": [],
   "source": [
    "alpha=0.05\n",
    "s=np.array([61,93,75,67,84,95])\n",
    "pop_mean=71"
   ]
  },
  {
   "cell_type": "code",
   "execution_count": 97,
   "id": "84fc927c",
   "metadata": {},
   "outputs": [],
   "source": [
    "def t_test(s,pop_mean,alpha):\n",
    "    d={}\n",
    "    n=len(s)\n",
    "    dof=n-1\n",
    "    s_mean=s.mean()\n",
    "    s_sd = st.stdev(s)\n",
    "    pos_critical_value=stat.t.ppf(1-alpha,dof)\n",
    "    t_statistic=(s_mean-pop_mean)/(s_sd/np.sqrt(n))\n",
    "    pvalue=1-stat.t.cdf(t_statistic,dof)\n",
    "    d['s_mean']=s_mean\n",
    "    d[\"pos_critical_value\"]=pos_critical_value\n",
    "    d[\"t_statistic\"]=t_statistic\n",
    "    d[\"pvalue\"]=pvalue\n",
    "    return d"
   ]
  },
  {
   "cell_type": "code",
   "execution_count": 98,
   "id": "4af4817b",
   "metadata": {},
   "outputs": [
    {
     "data": {
      "text/plain": [
       "{'s_mean': 79.16666666666667,\n",
       " 'pos_critical_value': 2.015048372669157,\n",
       " 't_statistic': 1.4436763449225352,\n",
       " 'pvalue': 0.10421484804206216}"
      ]
     },
     "execution_count": 98,
     "metadata": {},
     "output_type": "execute_result"
    }
   ],
   "source": [
    "d=t_test(s,pop_mean,alpha)\n",
    "d"
   ]
  },
  {
   "cell_type": "code",
   "execution_count": 99,
   "id": "d7d4c99e",
   "metadata": {},
   "outputs": [
    {
     "name": "stdout",
     "output_type": "stream",
     "text": [
      "accepted.mean score for the class on test is <=71\n"
     ]
    }
   ],
   "source": [
    "if d['t_statistic']<d['pos_critical_value'] and d['pvalue']>alpha:\n",
    "    print(\"accepted.mean score for the class on test is <=71\")\n",
    "else:\n",
    "    print(\"rejected.mean score for the class on testn is >70\")"
   ]
  },
  {
   "cell_type": "code",
   "execution_count": 100,
   "id": "2f79d90d",
   "metadata": {},
   "outputs": [
    {
     "data": {
      "image/png": "[encoded data removed]",
      "text/plain": [
       "<Figure size 432x288 with 1 Axes>"
      ]
     },
     "metadata": {
      "needs_background": "light"
     },
     "output_type": "display_data"
    }
   ],
   "source": [
    "x=np.arange(-d[\"pos_critical_value\"],d['pos_critical_value'],0.1)\n",
    "plt.plot(x,stat.t.pdf(x,5))\n",
    "a=[-d[\"pos_critical_value\"],-d[\"pos_critical_value\"],-d[\"pos_critical_value\"]]\n",
    "b=[0.05,0.1,0.15]\n",
    "c=[d[\"pos_critical_value\"],d[\"pos_critical_value\"],d[\"pos_critical_value\"]]\n",
    "d=[0.05,0.1,0.15]\n",
    "plt.plot(a,b)\n",
    "plt.plot(c,d)\n",
    "plt.plot(1.4436763449225352,0.1,marker=\"*\")\n",
    "plt.show()"
   ]
  },
  {
   "cell_type": "code",
   "execution_count": 101,
   "id": "18e0f7a1",
   "metadata": {},
   "outputs": [],
   "source": [
    "#mean score for the class on test in not greater than 71"
   ]
  },
  {
   "cell_type": "markdown",
   "id": "100015e4",
   "metadata": {},
   "source": [
    "# Task2"
   ]
  },
  {
   "cell_type": "code",
   "execution_count": 102,
   "id": "d990c91e",
   "metadata": {},
   "outputs": [],
   "source": [
    "#H0=average fill for the machines is same. s1.mean==s2.mean\n",
    "#H1=average fill for the machines is different. s1_mean!=s2_mean\n",
    "\n",
    "#2 sample t-test (two tailed test)"
   ]
  },
  {
   "cell_type": "code",
   "execution_count": 103,
   "id": "f1d77bf6",
   "metadata": {},
   "outputs": [
    {
     "data": {
      "text/plain": [
       "(4.029999999999999, 4.001666666666666)"
      ]
     },
     "execution_count": 103,
     "metadata": {},
     "output_type": "execute_result"
    }
   ],
   "source": [
    "alpha=0.01\n",
    "s1=np.array([4.05,4.01,4.04,4.02])\n",
    "s2=np.array([4.02,3.99,4.01,3.99,4,4])\n",
    "s1.mean(),s2.mean()"
   ]
  },
  {
   "cell_type": "code",
   "execution_count": 104,
   "id": "98e78d29",
   "metadata": {},
   "outputs": [],
   "source": [
    "def test2(s1,s2,alpha):\n",
    "    d={}\n",
    "    n1=len(s1)\n",
    "    n2=len(s2)\n",
    "    df=n1+n2-2\n",
    "    neg_critical_value=stat.t.ppf(alpha/2,df)\n",
    "    pos_critical_value=stat.t.ppf(1-alpha/2,df)\n",
    "    t_statistic,pvalue=stat.ttest_ind(s1,s2)\n",
    "    d[\"pos_critical_value\"]=pos_critical_value\n",
    "    d[\"neg_critical_value\"]=neg_critical_value\n",
    "    d[\"t_statistic\"]=t_statistic\n",
    "    d[\"pvalue\"]=pvalue  \n",
    "    return d"
   ]
  },
  {
   "cell_type": "code",
   "execution_count": 105,
   "id": "31062f6f",
   "metadata": {},
   "outputs": [
    {
     "data": {
      "text/plain": [
       "{'pos_critical_value': 3.3553873313333957,\n",
       " 'neg_critical_value': -3.3553873313333966,\n",
       " 't_statistic': 3.025960284531912,\n",
       " 'pvalue': 0.01640995794152561}"
      ]
     },
     "execution_count": 105,
     "metadata": {},
     "output_type": "execute_result"
    }
   ],
   "source": [
    "d=test2(s1,s2,alpha)\n",
    "d"
   ]
  },
  {
   "cell_type": "code",
   "execution_count": 106,
   "id": "e175e5df",
   "metadata": {},
   "outputs": [
    {
     "name": "stdout",
     "output_type": "stream",
     "text": [
      "accept.average fill for the machines is same\n"
     ]
    }
   ],
   "source": [
    "if d['neg_critical_value']<d['t_statistic']<d['pos_critical_value'] and d['pvalue']>alpha:\n",
    "    print(\"accept.average fill for the machines is same\")\n",
    "else:\n",
    "    print(\"reject null hypothesis. average fill for the machines is different\")"
   ]
  },
  {
   "cell_type": "code",
   "execution_count": 107,
   "id": "61130ca5",
   "metadata": {},
   "outputs": [],
   "source": [
    "#Average fill for both machines are same"
   ]
  },
  {
   "cell_type": "code",
   "execution_count": 108,
   "id": "60c85f04",
   "metadata": {},
   "outputs": [
    {
     "data": {
      "image/png": "[encoded data removed]",
      "text/plain": [
       "<Figure size 432x288 with 1 Axes>"
      ]
     },
     "metadata": {
      "needs_background": "light"
     },
     "output_type": "display_data"
    }
   ],
   "source": [
    "plt.boxplot([s1,s2],vert=True,showmeans=True)\n",
    "plt.show()"
   ]
  },
  {
   "cell_type": "markdown",
   "id": "0341ce4e",
   "metadata": {},
   "source": [
    "# Task3"
   ]
  },
  {
   "cell_type": "code",
   "execution_count": 109,
   "id": "d4eff715",
   "metadata": {},
   "outputs": [],
   "source": [
    "#null hypothesis:average fill for 4machines is same\n",
    "#alternate hypothesis:average fill for atleast one machine is different"
   ]
  },
  {
   "cell_type": "code",
   "execution_count": 110,
   "id": "de0195ab",
   "metadata": {},
   "outputs": [
    {
     "data": {
      "text/plain": [
       "(4.029999999999999, 4.001666666666666, 3.974, 4.005)"
      ]
     },
     "execution_count": 110,
     "metadata": {},
     "output_type": "execute_result"
    }
   ],
   "source": [
    "alpha=0.01\n",
    "s1=np.array([4.05,4.01,4.04,4.02])\n",
    "s2=np.array([4.02,3.99,4.01,3.99,4,4])\n",
    "s3=np.array([4,3.97,3.95,3.98,3.97])\n",
    "s4=np.array([4.01,4,3.99,4.02])\n",
    "s1.mean(),s2.mean(),s3.mean(),s4.mean()"
   ]
  },
  {
   "cell_type": "code",
   "execution_count": 111,
   "id": "ea274cf4",
   "metadata": {},
   "outputs": [],
   "source": [
    "def test3(s1,s2,s3,s4,alpha):\n",
    "    d={}\n",
    "    dfc=4-1\n",
    "    dfr=4-1+6-1+5-1+4-1\n",
    "    f_critical=stat.f.ppf(1-alpha,dfc,dfr)\n",
    "    f_statistic,pvalue=stat.f_oneway(s1,s2,s3,s4)\n",
    "    d[\"f_critical\"]=f_critical\n",
    "    d[\"f_statistic\"]=f_statistic\n",
    "    d[\"pvalue\"]=pvalue\n",
    "    return d"
   ]
  },
  {
   "cell_type": "code",
   "execution_count": 112,
   "id": "8a0835ee",
   "metadata": {},
   "outputs": [
    {
     "data": {
      "text/plain": [
       "{'f_critical': 5.416964857818421,\n",
       " 'f_statistic': 10.098402523912094,\n",
       " 'pvalue': 0.000685335440647619}"
      ]
     },
     "execution_count": 112,
     "metadata": {},
     "output_type": "execute_result"
    }
   ],
   "source": [
    "d=test3(s1,s2,s3,s4,alpha)\n",
    "d"
   ]
  },
  {
   "cell_type": "code",
   "execution_count": 113,
   "id": "6ad85ac0",
   "metadata": {},
   "outputs": [
    {
     "name": "stdout",
     "output_type": "stream",
     "text": [
      "reject.average fill for atleast one machine is different\n"
     ]
    }
   ],
   "source": [
    "if d[\"f_statistic\"]<d['f_critical'] and d[\"pvalue\"]>alpha:\n",
    "    print(\"accept.average fill for all machines are same\")\n",
    "else:\n",
    "    print(\"reject.average fill for atleast one machine is different\")"
   ]
  },
  {
   "cell_type": "code",
   "execution_count": 114,
   "id": "b8862cba",
   "metadata": {},
   "outputs": [
    {
     "data": {
      "image/png": "[encoded data removed]",
      "text/plain": [
       "<Figure size 432x288 with 1 Axes>"
      ]
     },
     "metadata": {
      "needs_background": "light"
     },
     "output_type": "display_data"
    }
   ],
   "source": [
    "plt.boxplot([s1,s2,s3,s4],vert=True,showmeans=True)\n",
    "plt.xticks([1,2,3,4],[\"machine1\",\"machine2\",\"machine3\",\"machine4\"])\n",
    "plt.show()"
   ]
  },
  {
   "cell_type": "code",
   "execution_count": 115,
   "id": "ca825f55",
   "metadata": {},
   "outputs": [],
   "source": [
    "#average fill for the machines are different"
   ]
  }
 ],
 "metadata": {
  "kernelspec": {
   "display_name": "Python 3 (ipykernel)",
   "language": "python",
   "name": "python3"
  },
  "language_info": {
   "codemirror_mode": {
    "name": "ipython",
    "version": 3
   },
   "file_extension": ".py",
   "mimetype": "text/x-python",
   "name": "python",
   "nbconvert_exporter": "python",
   "pygments_lexer": "ipython3",
   "version": "3.9.12"
  }
 },
 "nbformat": 4,
 "nbformat_minor": 5
}
