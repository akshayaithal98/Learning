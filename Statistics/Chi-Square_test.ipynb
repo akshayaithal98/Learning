{
 "cells": [
  {
   "cell_type": "code",
   "execution_count": 4,
   "metadata": {},
   "outputs": [],
   "source": [
    "#p value- is probability of null hypothesis being true\n",
    "#goodness of fit of single categorical variable .if samples represent population\n",
    "#test of independence between categorical variables\n",
    "#pearson correlation can be used for numerical variables\n",
    "#this chi squre can be used to check associatios btw them (categorical variables)\n",
    "#it is one tailed test\n",
    "#degree of freedom determines shape of chi square distribution"
   ]
  },
  {
   "cell_type": "markdown",
   "metadata": {},
   "source": [
    "# Hypothesis Test - III"
   ]
  },
  {
   "cell_type": "markdown",
   "metadata": {},
   "source": [
    "# Concept Session"
   ]
  },
  {
   "cell_type": "markdown",
   "metadata": {},
   "source": [
    "## Demo – 1.1: Chi-Square Goodness-Of-Fit Test"
   ]
  },
  {
   "cell_type": "markdown",
   "metadata": {},
   "source": [
    "A petrol station owner wishes to know whether the petrol sales are distributed uniformly over a year to plan petrol ordering and storage. In this situation, the owner wishes to know whether petrol sale is the same for each month of a year.\n",
    "\n",
    "He determines the amount of petrol (in liters) sold by sampling one of his petrol pumps each month during a year and obtained the following data. Use a 1% of significance level to test whether the data fit a uniform distribution.\n",
    "\n",
    "Month: January, February, March, April, May, June, July, August, September, October, November, December\n",
    "\n",
    "Sold Petrol (in K litre): 261.0,   258.5,    264.9, 259.0, 254.0,239.7,241.0,235.0, 249.5,     256.4,   260.2,     265.5"
   ]
  },
  {
   "cell_type": "markdown",
   "metadata": {},
   "source": [
    "### Set Null and Alternate Hypothesis"
   ]
  },
  {
   "cell_type": "markdown",
   "metadata": {},
   "source": [
    "H0: the monthly figures for petrol sales are uniformly distributed.\n",
    "\n",
    "Ha: the monthly figures for petrol sales are not uniformly distributed.\n",
    "\n",
    "\n",
    "According to the formula of the chi-square test, it is the sum squares of k independent random multinomial variables and, therefore, it extends in the positive direction of the one-tailed test.\n"
   ]
  },
  {
   "cell_type": "markdown",
   "metadata": {},
   "source": [
    "### Determine the appropriate statistical test"
   ]
  },
  {
   "cell_type": "markdown",
   "metadata": {},
   "source": [
    "ꭕ2 = ∑(fo – fc)**2/fc\n",
    "\n",
    "We will use the chi-square test and as the expected distribution is a uniform distribution, so degrees of freedom will be,\n",
    "\n",
    "df = k – 1\n"
   ]
  },
  {
   "cell_type": "markdown",
   "metadata": {},
   "source": [
    "### Set the value of alpha (α)"
   ]
  },
  {
   "cell_type": "code",
   "execution_count": 1,
   "metadata": {},
   "outputs": [],
   "source": [
    "#It is given that a 1% level of significance is to be used to test the hypothesis\n",
    "alpha=0.01"
   ]
  },
  {
   "cell_type": "markdown",
   "metadata": {},
   "source": [
    "### Establish the decision rule"
   ]
  },
  {
   "cell_type": "markdown",
   "metadata": {},
   "source": [
    "i.  If p-value < alpha: Rejection of Null Hypothesis(H0)\n",
    "\n",
    "ii. If ꭕ2-statistics > ꭕ2-critical : Rejection of Null Hypothesis(H0)"
   ]
  },
  {
   "cell_type": "markdown",
   "metadata": {},
   "source": [
    "### Analyze the data"
   ]
  },
  {
   "cell_type": "markdown",
   "metadata": {},
   "source": [
    "#### Collect sample data"
   ]
  },
  {
   "cell_type": "code",
   "execution_count": 2,
   "metadata": {},
   "outputs": [],
   "source": [
    "observed_data=[261,258.5,264.9,259,254,239.7,241,235,249.5,256.4,260.2,265.5]\n",
    "n=len(observed_data)"
   ]
  },
  {
   "cell_type": "markdown",
   "metadata": {},
   "source": [
    "#### Calculate Expected Frequency"
   ]
  },
  {
   "cell_type": "code",
   "execution_count": 3,
   "metadata": {},
   "outputs": [
    {
     "name": "stdout",
     "output_type": "stream",
     "text": [
      "Expected frequency = 253.72500000000002\n"
     ]
    }
   ],
   "source": [
    "expected_frequency=sum(observed_data)/n\n",
    "print('Expected frequency =',expected_frequency)"
   ]
  },
  {
   "cell_type": "markdown",
   "metadata": {},
   "source": [
    "#### Calculate ꭕ2-statistic "
   ]
  },
  {
   "cell_type": "code",
   "execution_count": 4,
   "metadata": {},
   "outputs": [
    {
     "name": "stdout",
     "output_type": "stream",
     "text": [
      "ꭕ2-statistic = 4.506227214503889\n"
     ]
    }
   ],
   "source": [
    "chis=0\n",
    "for x in observed_data:\n",
    "    chis=chis+(x-expected_frequency)**2/expected_frequency\n",
    "\n",
    "print('ꭕ2-statistic =',chis)"
   ]
  },
  {
   "cell_type": "markdown",
   "metadata": {},
   "source": [
    "#### Calculate ꭕ2-critical "
   ]
  },
  {
   "cell_type": "code",
   "execution_count": 5,
   "metadata": {},
   "outputs": [
    {
     "name": "stdout",
     "output_type": "stream",
     "text": [
      "ꭕ2-critical = 24.724970311318277\n"
     ]
    }
   ],
   "source": [
    "from scipy.stats import chi2\n",
    "\n",
    "chi_critical = chi2.ppf(1-alpha, df=11)\n",
    "print(\"ꭕ2-critical =\",chi_critical)"
   ]
  },
  {
   "cell_type": "markdown",
   "metadata": {},
   "source": [
    "#### Calculate p-value"
   ]
  },
  {
   "cell_type": "code",
   "execution_count": 7,
   "metadata": {},
   "outputs": [
    {
     "name": "stdout",
     "output_type": "stream",
     "text": [
      "The p_value is 0.9999999999581435\n"
     ]
    }
   ],
   "source": [
    "from scipy.stats import norm\n",
    "\n",
    "p_value = norm.sf(abs(chis),11) #One tailed test\n",
    "print(\"The p_value is \"+str(p_value))"
   ]
  },
  {
   "cell_type": "markdown",
   "metadata": {},
   "source": [
    "#### Plot chi-square distribution"
   ]
  },
  {
   "cell_type": "code",
   "execution_count": 7,
   "metadata": {},
   "outputs": [
    {
     "data": {
      "text/plain": [
       "[<matplotlib.lines.Line2D at 0x11c56e36dd8>]"
      ]
     },
     "execution_count": 7,
     "metadata": {},
     "output_type": "execute_result"
    },
    {
     "data": {
      "image/png": "[encoded data removed]",
      "text/plain": [
       "<Figure size 432x288 with 1 Axes>"
      ]
     },
     "metadata": {},
     "output_type": "display_data"
    }
   ],
   "source": [
    "import numpy as np\n",
    "import matplotlib.pyplot as plt\n",
    "from scipy.stats import chi2\n",
    "\n",
    "x=np.arange(0,40,0.01)\n",
    "\n",
    "plt.plot(x, chi2.pdf(x,df=11))"
   ]
  },
  {
   "cell_type": "code",
   "execution_count": 7,
   "metadata": {},
   "outputs": [
    {
     "data": {
      "text/plain": [
       "<matplotlib.legend.Legend at 0x2a471dd3b38>"
      ]
     },
     "execution_count": 7,
     "metadata": {},
     "output_type": "execute_result"
    },
    {
     "data": {
      "image/png": "[encoded data removed]",
      "text/plain": [
       "<Figure size 432x288 with 1 Axes>"
      ]
     },
     "metadata": {},
     "output_type": "display_data"
    }
   ],
   "source": [
    "import numpy as np\n",
    "import matplotlib.pyplot as plt\n",
    "from scipy.stats import chi2\n",
    "\n",
    "x=np.arange(0,40,0.01)\n",
    "\n",
    "plt.plot(x, chi2.pdf(x,df=3), x, chi2.pdf(x,df=5), x, chi2.pdf(x,df=10), x, chi2.pdf(x,df=16))\n",
    "plt.legend(['k = 3','k = 5','k = 10', 'k = 16'])"
   ]
  },
  {
   "cell_type": "markdown",
   "metadata": {},
   "source": [
    "### Reach a statistical conclusion"
   ]
  },
  {
   "cell_type": "markdown",
   "metadata": {},
   "source": [
    "As per the decision rule: \n",
    "    \n",
    "i.  If p-value < alpha: Rejection of Null Hypothesis(H0)\n",
    "\n",
    "ii. If ꭕ2-statistic > ꭕ2-critical : Rejection of Null Hypothesis(H0)\n",
    "\n",
    "From our study,\n",
    "\n",
    "p-value = 0.09 > alpha = 0.01, which leads to acceptance of Null Hypothesis.\n",
    "\n",
    "ꭕ2-statistic = 4.506 < ꭕ2-critical = 24.725, which leads to acceptance of Null Hypothesis.\n"
   ]
  },
  {
   "cell_type": "markdown",
   "metadata": {},
   "source": [
    "### Make the business decision"
   ]
  },
  {
   "cell_type": "markdown",
   "metadata": {},
   "source": [
    "The ꭕ2-statistic value of 4.506 is lesser than the ꭕ2-critical value of 24.725, so the decision is to accept the null hypothesis. \n",
    "\n",
    "This solution provides enough evidence  to indicate the distribution of sales of petrol is a uniform distribution."
   ]
  },
  {
   "cell_type": "markdown",
   "metadata": {},
   "source": [
    "## Demo - 1.2: Chi-Square of Independence Test"
   ]
  },
  {
   "cell_type": "markdown",
   "metadata": {},
   "source": [
    "A soft drink maker industry asked Cora, a marketing analyst, to determine whether customers’ ages and their favorite beverages are independent of each other.\n",
    "\n",
    "She took a random pole of 310 customers to perform the analysis. The observed values are taken in the following contingency table.\n",
    "![](beverages.png)\n",
    "\n",
    "\n",
    "Use a 1% significance level and help Cora to determine whether the age and preferred beverage variables are independent. "
   ]
  },
  {
   "cell_type": "markdown",
   "metadata": {},
   "source": [
    "### Set Null and Alternate Hypothesis"
   ]
  },
  {
   "cell_type": "markdown",
   "metadata": {},
   "source": [
    "H0: the type of beverage preferred is independent of age.\n",
    "\n",
    "Ha: the type of beverage preferred is not independent of age.\n",
    "\n",
    "\n",
    "This test is a one-tailed test."
   ]
  },
  {
   "cell_type": "markdown",
   "metadata": {},
   "source": [
    "### Determine the appropriate statistical test"
   ]
  },
  {
   "cell_type": "markdown",
   "metadata": {},
   "source": [
    "ꭕ2 = ∑ ∑(fo – fc)**2/fc\n",
    "\n",
    "We will use the chi-square test of independence and as the values are summed across rows and columns, so degrees of freedom will be,\n",
    "\n",
    "df = (r – 1)*(c - 1) \n",
    "\n",
    "Where r = the number of rows and c = number of columns "
   ]
  },
  {
   "cell_type": "markdown",
   "metadata": {},
   "source": [
    "### Set the value of alpha (α)"
   ]
  },
  {
   "cell_type": "code",
   "execution_count": 2,
   "metadata": {},
   "outputs": [],
   "source": [
    "#It is given that a 1% level of significance is to be used to test the hypothesis.\n",
    "\n",
    "alpha=0.01"
   ]
  },
  {
   "cell_type": "markdown",
   "metadata": {},
   "source": [
    "### Establish the decision rule"
   ]
  },
  {
   "cell_type": "markdown",
   "metadata": {},
   "source": [
    "i. If ꭕ2-statistics > ꭕ2-critical : Rejection of Null Hypothesis(H0)"
   ]
  },
  {
   "cell_type": "markdown",
   "metadata": {},
   "source": [
    "### Set degrees of freedom"
   ]
  },
  {
   "cell_type": "markdown",
   "metadata": {},
   "source": [
    "Degrees of Freedom (df) = (3 – 1)*(3 – 1) = 4"
   ]
  },
  {
   "cell_type": "code",
   "execution_count": 1,
   "metadata": {},
   "outputs": [],
   "source": [
    "df=4"
   ]
  },
  {
   "cell_type": "markdown",
   "metadata": {},
   "source": [
    "### Analyze the data"
   ]
  },
  {
   "cell_type": "code",
   "execution_count": 3,
   "metadata": {},
   "outputs": [
    {
     "name": "stdout",
     "output_type": "stream",
     "text": [
      "[[26, 95, 18], [41, 40, 20], [24, 14, 32]]\n",
      "dof=4\n",
      "[[40.80322581 66.80967742 31.38709677]\n",
      " [29.6483871  48.54516129 22.80645161]\n",
      " [20.5483871  33.64516129 15.80645161]]\n",
      "8.35853869537687e-12 57.81157918980688\n"
     ]
    }
   ],
   "source": [
    "from scipy.stats import chi2_contingency\n",
    "from scipy.stats import chi2\n",
    "\n",
    "# contingency table\n",
    "table = [[26,95,18],\n",
    "[41,40,20],[24,14,32]]\n",
    "print(table)\n",
    "\n",
    "stat, p, dof, expected = chi2_contingency(table)\n",
    "print('dof=%d' % dof)\n",
    "print(expected)\n",
    "print(p,stat)"
   ]
  },
  {
   "cell_type": "markdown",
   "metadata": {},
   "source": [
    "### Calculate ꭕ2-critical value:"
   ]
  },
  {
   "cell_type": "code",
   "execution_count": 15,
   "metadata": {},
   "outputs": [
    {
     "name": "stdout",
     "output_type": "stream",
     "text": [
      "probability=0.010, critical=13.277, stat=57.812\n",
      "Dependent (reject H0)\n",
      "significance=0.010, p=0.000\n",
      "Dependent (reject H0)\n"
     ]
    }
   ],
   "source": [
    "# interpret test-statistic\n",
    "\n",
    "critical = chi2.ppf(1-alpha, dof)\n",
    "print('probability=%.3f, critical=%.3f, stat=%.3f' % (alpha, critical, stat))\n",
    "if abs(stat) >= critical:\n",
    "    print('Dependent (reject H0)')\n",
    "else:\n",
    "    print('Independent (fail to reject H0)')\n",
    "\n",
    "# interpret p-value\n",
    "print('significance=%.3f, p=%.3f' % (alpha, p))\n",
    "if p <= alpha:\n",
    "    print('Dependent (reject H0)')\n",
    "else:\n",
    "    print('Independent (fail to reject H0)')"
   ]
  },
  {
   "cell_type": "markdown",
   "metadata": {},
   "source": [
    "### Plot the chi-square distribution"
   ]
  },
  {
   "cell_type": "code",
   "execution_count": 6,
   "metadata": {},
   "outputs": [
    {
     "data": {
      "text/plain": [
       "[<matplotlib.lines.Line2D at 0x2c8592f7c70>]"
      ]
     },
     "execution_count": 6,
     "metadata": {},
     "output_type": "execute_result"
    },
    {
     "data": {
      "image/png": "[encoded data removed]",
      "text/plain": [
       "<Figure size 432x288 with 1 Axes>"
      ]
     },
     "metadata": {
      "needs_background": "light"
     },
     "output_type": "display_data"
    }
   ],
   "source": [
    "import numpy as np\n",
    "import matplotlib.pyplot as plt\n",
    "from scipy.stats import chi2\n",
    "\n",
    "x=np.arange(0,20,0.01)\n",
    "\n",
    "plt.plot(x, chi2.pdf(x,df=4))\n"
   ]
  },
  {
   "cell_type": "markdown",
   "metadata": {},
   "source": [
    "### Reach a statistical conclusion"
   ]
  },
  {
   "cell_type": "markdown",
   "metadata": {},
   "source": [
    "As per the decision rule: \n",
    "    \n",
    "i.  If p-value < alpha: Rejection of Null Hypothesis(H0)\n",
    "\n",
    "ii. If ꭕ2-statistic > ꭕ2-critical: Rejection of Null Hypothesis(H0)\n",
    "\n",
    "From our study,\n",
    "\n",
    "p-value = 0.000 < alpha = 0.01, which leads to rejection of the Null Hypothesis.\n",
    "\n",
    "ꭕ2-statistic = 57.00 > ꭕ2-critical = 13.28, which leads to rejection of the Null Hypothesis."
   ]
  },
  {
   "cell_type": "markdown",
   "metadata": {},
   "source": [
    "### Make the business decision"
   ]
  },
  {
   "cell_type": "markdown",
   "metadata": {},
   "source": [
    "The ꭕ2-statistic value of 57.81 is greater than the ꭕ2-critical value of 13.28, so the decision is to reject the null hypothesis. \n",
    "\n",
    "The two variables, preferred beverage, and age are not independent. \n"
   ]
  }
 ],
 "metadata": {
  "kernelspec": {
   "display_name": "Python 3 (ipykernel)",
   "language": "python",
   "name": "python3"
  },
  "language_info": {
   "codemirror_mode": {
    "name": "ipython",
    "version": 3
   },
   "file_extension": ".py",
   "mimetype": "text/x-python",
   "name": "python",
   "nbconvert_exporter": "python",
   "pygments_lexer": "ipython3",
   "version": "3.9.12"
  }
 },
 "nbformat": 4,
 "nbformat_minor": 2
}
