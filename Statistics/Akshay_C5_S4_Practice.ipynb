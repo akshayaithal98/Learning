{
 "cells": [
  {
   "cell_type": "code",
   "execution_count": 240,
   "id": "aab4c4e9",
   "metadata": {},
   "outputs": [],
   "source": [
    "import numpy as np\n",
    "import pandas as pd\n",
    "import matplotlib.pyplot as plt\n",
    "import scipy.stats as stat\n",
    "import seaborn as sb\n",
    "import math"
   ]
  },
  {
   "cell_type": "markdown",
   "id": "977be802",
   "metadata": {},
   "source": [
    "# Task1"
   ]
  },
  {
   "cell_type": "code",
   "execution_count": 241,
   "id": "f5d98e1d",
   "metadata": {},
   "outputs": [],
   "source": [
    "X=[6,7,8,9,10,11,12,13,14]\n",
    "P_X=[0.03,0.08,0.15,0.20,0.19,0.16,0.10,0.07,0.02]"
   ]
  },
  {
   "cell_type": "markdown",
   "id": "4bad2a5e",
   "metadata": {},
   "source": [
    "### a"
   ]
  },
  {
   "cell_type": "code",
   "execution_count": 242,
   "id": "5fc97f03",
   "metadata": {},
   "outputs": [
    {
     "data": {
      "text/plain": [
       "0.65"
      ]
     },
     "execution_count": 242,
     "metadata": {},
     "output_type": "execute_result"
    }
   ],
   "source": [
    "#P(X<=10)\n",
    "sum(P_X[:X.index(10)+1])"
   ]
  },
  {
   "cell_type": "markdown",
   "id": "f25c4ab5",
   "metadata": {},
   "source": [
    "### b"
   ]
  },
  {
   "cell_type": "code",
   "execution_count": 243,
   "id": "b1abb689",
   "metadata": {},
   "outputs": [
    {
     "data": {
      "text/plain": [
       "0.8"
      ]
     },
     "execution_count": 243,
     "metadata": {},
     "output_type": "execute_result"
    }
   ],
   "source": [
    "#P(X>=8 and X<=12)\n",
    "sum(P_X[X.index(8):X.index(12)+1])"
   ]
  },
  {
   "cell_type": "markdown",
   "id": "6f7a5c18",
   "metadata": {},
   "source": [
    "### c "
   ]
  },
  {
   "cell_type": "code",
   "execution_count": 244,
   "id": "2b1e4897",
   "metadata": {},
   "outputs": [
    {
     "data": {
      "text/plain": [
       "0.0"
      ]
     },
     "execution_count": 244,
     "metadata": {},
     "output_type": "execute_result"
    }
   ],
   "source": [
    "#P(X=0)\n",
    "1-sum(P_X)"
   ]
  },
  {
   "cell_type": "markdown",
   "id": "d6240cbf",
   "metadata": {},
   "source": [
    "### d"
   ]
  },
  {
   "cell_type": "code",
   "execution_count": 245,
   "id": "d1db74bc",
   "metadata": {},
   "outputs": [
    {
     "data": {
      "text/plain": [
       "9.790000000000001"
      ]
     },
     "execution_count": 245,
     "metadata": {},
     "output_type": "execute_result"
    }
   ],
   "source": [
    "#mean=sum(x*p)\n",
    "mean=sum(map(lambda x,y:x*y,X,P_X))\n",
    "mean"
   ]
  },
  {
   "cell_type": "code",
   "execution_count": 246,
   "id": "c3104ef9",
   "metadata": {},
   "outputs": [
    {
     "data": {
      "text/plain": [
       "1.8616927780920245"
      ]
     },
     "execution_count": 246,
     "metadata": {},
     "output_type": "execute_result"
    }
   ],
   "source": [
    "#SD=sqrt(sum(sqr(x-mean)*p))\n",
    "\n",
    "sd=math.sqrt(sum(map(lambda x,y:((x-mean)**2)*y,X,P_X)))\n",
    "sd"
   ]
  },
  {
   "cell_type": "code",
   "execution_count": 247,
   "id": "e4f5875d",
   "metadata": {},
   "outputs": [],
   "source": [
    "#mean or excpected value is basically the long run average of occurences. here expected value is 9.79 so values near that are highly probable"
   ]
  },
  {
   "cell_type": "markdown",
   "id": "affbcf65",
   "metadata": {},
   "source": [
    "### e "
   ]
  },
  {
   "cell_type": "code",
   "execution_count": 248,
   "id": "5fcfee3b",
   "metadata": {},
   "outputs": [
    {
     "data": {
      "image/png": "[encoded data removed]",
      "text/plain": [
       "<Figure size 432x288 with 1 Axes>"
      ]
     },
     "metadata": {
      "needs_background": "light"
     },
     "output_type": "display_data"
    }
   ],
   "source": [
    "plt.plot(X,P_X,color=\"red\",marker=\"*\")\n",
    "plt.xlabel(\"no of days\")\n",
    "plt.ylabel(\"probability\")\n",
    "plt.show()"
   ]
  },
  {
   "cell_type": "markdown",
   "id": "7dbd462c",
   "metadata": {},
   "source": [
    "# Task2"
   ]
  },
  {
   "cell_type": "code",
   "execution_count": 287,
   "id": "b4ab5876",
   "metadata": {},
   "outputs": [],
   "source": [
    "p=0.1\n",
    "n=20\n",
    "q=1-p"
   ]
  },
  {
   "cell_type": "markdown",
   "id": "89ff0006",
   "metadata": {},
   "source": [
    "# a "
   ]
  },
  {
   "cell_type": "code",
   "execution_count": 288,
   "id": "a05d32cc",
   "metadata": {},
   "outputs": [
    {
     "data": {
      "text/plain": [
       "0.8670466765656651"
      ]
     },
     "execution_count": 288,
     "metadata": {},
     "output_type": "execute_result"
    }
   ],
   "source": [
    "k=np.arange(0,4)\n",
    "d=stat.binom.pmf(k,n,p)\n",
    "sum(d)"
   ]
  },
  {
   "cell_type": "markdown",
   "id": "b27c6d14",
   "metadata": {},
   "source": [
    "### b"
   ]
  },
  {
   "cell_type": "code",
   "execution_count": 290,
   "id": "3424433a",
   "metadata": {},
   "outputs": [
    {
     "data": {
      "text/plain": [
       "2.0"
      ]
     },
     "execution_count": 290,
     "metadata": {},
     "output_type": "execute_result"
    }
   ],
   "source": [
    "#mean\n",
    "mean=n*p\n",
    "mean"
   ]
  },
  {
   "cell_type": "code",
   "execution_count": 291,
   "id": "ebadd313",
   "metadata": {},
   "outputs": [
    {
     "data": {
      "text/plain": [
       "1.3416407864998738"
      ]
     },
     "execution_count": 291,
     "metadata": {},
     "output_type": "execute_result"
    }
   ],
   "source": [
    "#SD\n",
    "sd=math.sqrt(n*p*q)\n",
    "sd"
   ]
  },
  {
   "cell_type": "markdown",
   "id": "59c89951",
   "metadata": {},
   "source": [
    "### c "
   ]
  },
  {
   "cell_type": "code",
   "execution_count": 253,
   "id": "5f424b77",
   "metadata": {},
   "outputs": [
    {
     "data": {
      "image/png": "[encoded data removed]",
      "text/plain": [
       "<Figure size 432x288 with 1 Axes>"
      ]
     },
     "metadata": {
      "needs_background": "light"
     },
     "output_type": "display_data"
    }
   ],
   "source": [
    "plt.plot(k,d,marker=\"*\",color=\"red\")\n",
    "plt.xlabel(\"no of purchasers choosing oreo\")\n",
    "plt.ylabel(\"probability\")\n",
    "plt.show()"
   ]
  },
  {
   "cell_type": "markdown",
   "id": "ae73643e",
   "metadata": {},
   "source": [
    "# Task3"
   ]
  },
  {
   "cell_type": "code",
   "execution_count": 254,
   "id": "b3725613",
   "metadata": {},
   "outputs": [],
   "source": [
    "n=15\n",
    "p=0.2\n",
    "q=1-p"
   ]
  },
  {
   "cell_type": "markdown",
   "id": "e61a3293",
   "metadata": {},
   "source": [
    "### a"
   ]
  },
  {
   "cell_type": "code",
   "execution_count": 255,
   "id": "e3cd6fff",
   "metadata": {},
   "outputs": [
    {
     "data": {
      "text/plain": [
       "0.10318229431910408"
      ]
     },
     "execution_count": 255,
     "metadata": {},
     "output_type": "execute_result"
    }
   ],
   "source": [
    "k=5\n",
    "stat.binom.pmf(k,n,p)\n"
   ]
  },
  {
   "cell_type": "code",
   "execution_count": 256,
   "id": "04f26c51",
   "metadata": {},
   "outputs": [
    {
     "data": {
      "text/plain": [
       "Text(0, 0.5, 'probability')"
      ]
     },
     "execution_count": 256,
     "metadata": {},
     "output_type": "execute_result"
    },
    {
     "data": {
      "image/png": "[encoded data removed]",
      "text/plain": [
       "<Figure size 432x288 with 1 Axes>"
      ]
     },
     "metadata": {
      "needs_background": "light"
     },
     "output_type": "display_data"
    }
   ],
   "source": [
    "k=np.arange(0,6)\n",
    "g1=stat.binom.pmf(k,n,p)\n",
    "plt.plot(k,g1,marker=\"*\")\n",
    "plt.xlabel(\"discrete random variables\")\n",
    "plt.ylabel(\"probability\")"
   ]
  },
  {
   "cell_type": "markdown",
   "id": "425ee178",
   "metadata": {},
   "source": [
    "### b "
   ]
  },
  {
   "cell_type": "code",
   "execution_count": 257,
   "id": "f057cd6f",
   "metadata": {},
   "outputs": [
    {
     "data": {
      "text/plain": [
       "0.00011322566246330101"
      ]
     },
     "execution_count": 257,
     "metadata": {},
     "output_type": "execute_result"
    }
   ],
   "source": [
    "k=np.arange(0,10)\n",
    "1-sum(stat.binom.pmf(k,n,p))"
   ]
  },
  {
   "cell_type": "code",
   "execution_count": 258,
   "id": "6205ef87",
   "metadata": {},
   "outputs": [
    {
     "data": {
      "text/plain": [
       "Text(0, 0.5, 'probability')"
      ]
     },
     "execution_count": 258,
     "metadata": {},
     "output_type": "execute_result"
    },
    {
     "data": {
      "image/png": "[encoded data removed]",
      "text/plain": [
       "<Figure size 432x288 with 1 Axes>"
      ]
     },
     "metadata": {
      "needs_background": "light"
     },
     "output_type": "display_data"
    }
   ],
   "source": [
    "k=np.arange(10,n+1)\n",
    "g2=stat.binom.pmf(k,n,p)\n",
    "plt.plot(k,g2,marker=\"*\")\n",
    "plt.xlabel(\"discrete random variables\")\n",
    "plt.ylabel(\"probability\")"
   ]
  },
  {
   "cell_type": "markdown",
   "id": "b0c3ddf4",
   "metadata": {},
   "source": [
    "### c"
   ]
  },
  {
   "cell_type": "code",
   "execution_count": 259,
   "id": "0d0e299b",
   "metadata": {},
   "outputs": [
    {
     "data": {
      "text/plain": [
       "0.03518437208883203"
      ]
     },
     "execution_count": 259,
     "metadata": {},
     "output_type": "execute_result"
    }
   ],
   "source": [
    "k=0\n",
    "g3=stat.binom.pmf(k,n,p)\n",
    "g3"
   ]
  },
  {
   "cell_type": "code",
   "execution_count": 260,
   "id": "4b1000d4",
   "metadata": {},
   "outputs": [
    {
     "data": {
      "text/plain": [
       "Text(0, 0.5, 'probability')"
      ]
     },
     "execution_count": 260,
     "metadata": {},
     "output_type": "execute_result"
    },
    {
     "data": {
      "image/png": "[encoded data removed]",
      "text/plain": [
       "<Figure size 432x288 with 1 Axes>"
      ]
     },
     "metadata": {
      "needs_background": "light"
     },
     "output_type": "display_data"
    }
   ],
   "source": [
    "plt.plot(k,g3,marker=\"*\")\n",
    "plt.xlabel(\"discrete random variables\")\n",
    "plt.ylabel(\"probability\")"
   ]
  },
  {
   "cell_type": "markdown",
   "id": "1f873fdf",
   "metadata": {},
   "source": [
    "### d "
   ]
  },
  {
   "cell_type": "code",
   "execution_count": 261,
   "id": "1c6026ed",
   "metadata": {},
   "outputs": [
    {
     "data": {
      "text/plain": [
       "0.3475981457162242"
      ]
     },
     "execution_count": 261,
     "metadata": {},
     "output_type": "execute_result"
    }
   ],
   "source": [
    "k=np.arange(4,8)\n",
    "sum(stat.binom.pmf(k,n,p))\n"
   ]
  },
  {
   "cell_type": "code",
   "execution_count": 262,
   "id": "a5314756",
   "metadata": {},
   "outputs": [
    {
     "data": {
      "text/plain": [
       "Text(0, 0.5, 'probability')"
      ]
     },
     "execution_count": 262,
     "metadata": {},
     "output_type": "execute_result"
    },
    {
     "data": {
      "image/png": "[encoded data removed]",
      "text/plain": [
       "<Figure size 432x288 with 1 Axes>"
      ]
     },
     "metadata": {
      "needs_background": "light"
     },
     "output_type": "display_data"
    }
   ],
   "source": [
    "g4=stat.binom.pmf(k,n,p)\n",
    "plt.plot(k,g4,marker=\"*\")\n",
    "plt.xlabel(\"discrete random variables\")\n",
    "plt.ylabel(\"probability\")"
   ]
  },
  {
   "cell_type": "markdown",
   "id": "e5ce3ed4",
   "metadata": {},
   "source": [
    "### e "
   ]
  },
  {
   "cell_type": "code",
   "execution_count": 263,
   "id": "2428c229",
   "metadata": {},
   "outputs": [
    {
     "data": {
      "image/png": "[encoded data removed]",
      "text/plain": [
       "<Figure size 432x288 with 1 Axes>"
      ]
     },
     "metadata": {
      "needs_background": "light"
     },
     "output_type": "display_data"
    }
   ],
   "source": [
    "k=np.arange(0,n)\n",
    "d1=stat.binom.pmf(k,n,p)\n",
    "plt.xlabel(\"no of companies using consultant\")\n",
    "plt.ylabel(\"probability\")\n",
    "plt.plot(k,d1,marker=\"*\",color=\"blue\")\n",
    "plt.show()"
   ]
  },
  {
   "cell_type": "code",
   "execution_count": 264,
   "id": "be010c7f",
   "metadata": {},
   "outputs": [],
   "source": [
    "# AS we can see probability of more than 10 companies using consultants is negligible and mean is 3. this graph proves the results of our previous calucaltions"
   ]
  },
  {
   "cell_type": "markdown",
   "id": "e05fab36",
   "metadata": {},
   "source": [
    "# Task4"
   ]
  },
  {
   "cell_type": "code",
   "execution_count": 265,
   "id": "b359b102",
   "metadata": {},
   "outputs": [
    {
     "data": {
      "text/plain": [
       "3.5"
      ]
     },
     "execution_count": 265,
     "metadata": {},
     "output_type": "execute_result"
    }
   ],
   "source": [
    "week1=[3,6,4,6,2,3,1,5,1,0,3,3]\n",
    "week2=[1,2,4,0,2,6,5,4,2,5,3,4]\n",
    "week3=[5,3,5,3,5,4,7,3,4,8,3,1]\n",
    "s=sum(week1)+sum(week2)+sum(week3)\n",
    "r=s/36\n",
    "r"
   ]
  },
  {
   "cell_type": "markdown",
   "id": "12c53893",
   "metadata": {},
   "source": [
    "### a"
   ]
  },
  {
   "cell_type": "code",
   "execution_count": 266,
   "id": "e1b9f73c",
   "metadata": {},
   "outputs": [
    {
     "data": {
      "text/plain": [
       "0.0301973834223185"
      ]
     },
     "execution_count": 266,
     "metadata": {},
     "output_type": "execute_result"
    }
   ],
   "source": [
    "k=0\n",
    "g5=stat.poisson.pmf(k,r)\n",
    "g5"
   ]
  },
  {
   "cell_type": "code",
   "execution_count": 267,
   "id": "588983a7",
   "metadata": {},
   "outputs": [
    {
     "data": {
      "text/plain": [
       "Text(0, 0.5, 'probability')"
      ]
     },
     "execution_count": 267,
     "metadata": {},
     "output_type": "execute_result"
    },
    {
     "data": {
      "image/png": "[encoded data removed]",
      "text/plain": [
       "<Figure size 432x288 with 1 Axes>"
      ]
     },
     "metadata": {
      "needs_background": "light"
     },
     "output_type": "display_data"
    }
   ],
   "source": [
    "plt.plot(k,g5,marker=\"*\")\n",
    "plt.xlabel(\"discrete random variables\")\n",
    "plt.ylabel(\"probability\")"
   ]
  },
  {
   "cell_type": "markdown",
   "id": "468f1cbf",
   "metadata": {},
   "source": [
    "### b"
   ]
  },
  {
   "cell_type": "code",
   "execution_count": 268,
   "id": "f459f052",
   "metadata": {},
   "outputs": [
    {
     "data": {
      "text/plain": [
       "0.14238644690422142"
      ]
     },
     "execution_count": 268,
     "metadata": {},
     "output_type": "execute_result"
    }
   ],
   "source": [
    "k=np.arange(0,6)\n",
    "1-sum(stat.poisson.pmf(k,r))"
   ]
  },
  {
   "cell_type": "code",
   "execution_count": 269,
   "id": "7dfefc27",
   "metadata": {},
   "outputs": [
    {
     "data": {
      "text/plain": [
       "Text(0, 0.5, 'probability')"
      ]
     },
     "execution_count": 269,
     "metadata": {},
     "output_type": "execute_result"
    },
    {
     "data": {
      "image/png": "[encoded data removed]",
      "text/plain": [
       "<Figure size 432x288 with 1 Axes>"
      ]
     },
     "metadata": {
      "needs_background": "light"
     },
     "output_type": "display_data"
    }
   ],
   "source": [
    "k=np.arange(6,11)\n",
    "g6=stat.poisson.pmf(k,r)\n",
    "plt.plot(k,g6,marker=\"*\")\n",
    "plt.xlabel(\"discrete random variables\")\n",
    "plt.ylabel(\"probability\")"
   ]
  },
  {
   "cell_type": "markdown",
   "id": "511425fd",
   "metadata": {},
   "source": [
    "### c "
   ]
  },
  {
   "cell_type": "code",
   "execution_count": 270,
   "id": "cb3c974b",
   "metadata": {},
   "outputs": [
    {
     "data": {
      "text/plain": [
       "0.08176541624472157"
      ]
     },
     "execution_count": 270,
     "metadata": {},
     "output_type": "execute_result"
    }
   ],
   "source": [
    "r1=2*r\n",
    "k=np.arange(0,4)\n",
    "sum(stat.poisson.pmf(k,r1))"
   ]
  },
  {
   "cell_type": "code",
   "execution_count": 271,
   "id": "3b48e29c",
   "metadata": {},
   "outputs": [
    {
     "data": {
      "text/plain": [
       "Text(0, 0.5, 'probability')"
      ]
     },
     "execution_count": 271,
     "metadata": {},
     "output_type": "execute_result"
    },
    {
     "data": {
      "image/png": "[encoded data removed]",
      "text/plain": [
       "<Figure size 432x288 with 1 Axes>"
      ]
     },
     "metadata": {
      "needs_background": "light"
     },
     "output_type": "display_data"
    }
   ],
   "source": [
    "g6=stat.poisson.pmf(k,r1)\n",
    "plt.plot(k,g6,marker=\"*\")\n",
    "plt.xlabel(\"discrete random variables\")\n",
    "plt.ylabel(\"probability\")"
   ]
  },
  {
   "cell_type": "markdown",
   "id": "e9e585af",
   "metadata": {},
   "source": [
    "### d"
   ]
  },
  {
   "cell_type": "code",
   "execution_count": 272,
   "id": "2f874f74",
   "metadata": {},
   "outputs": [
    {
     "data": {
      "text/plain": [
       "0.42007489196817666"
      ]
     },
     "execution_count": 272,
     "metadata": {},
     "output_type": "execute_result"
    }
   ],
   "source": [
    "k=np.arange(3,7)\n",
    "sum(stat.poisson.pmf(k,r1))"
   ]
  },
  {
   "cell_type": "code",
   "execution_count": 273,
   "id": "d2ff07b8",
   "metadata": {},
   "outputs": [
    {
     "data": {
      "text/plain": [
       "Text(0, 0.5, 'probability')"
      ]
     },
     "execution_count": 273,
     "metadata": {},
     "output_type": "execute_result"
    },
    {
     "data": {
      "image/png": "[encoded data removed]",
      "text/plain": [
       "<Figure size 432x288 with 1 Axes>"
      ]
     },
     "metadata": {
      "needs_background": "light"
     },
     "output_type": "display_data"
    }
   ],
   "source": [
    "g6=stat.poisson.pmf(k,r1)\n",
    "plt.plot(k,g6,marker=\"*\")\n",
    "plt.xlabel(\"discrete random variables\")\n",
    "plt.ylabel(\"probability\")"
   ]
  },
  {
   "cell_type": "markdown",
   "id": "ae5bc432",
   "metadata": {},
   "source": [
    "### e "
   ]
  },
  {
   "cell_type": "code",
   "execution_count": 274,
   "id": "254bc9ef",
   "metadata": {},
   "outputs": [
    {
     "data": {
      "text/plain": [
       "0.10090247270437917"
      ]
     },
     "execution_count": 274,
     "metadata": {},
     "output_type": "execute_result"
    }
   ],
   "source": [
    "k=8\n",
    "r2=r*3\n",
    "stat.poisson.pmf(k,r2)\n"
   ]
  },
  {
   "cell_type": "code",
   "execution_count": 275,
   "id": "b0e23738",
   "metadata": {},
   "outputs": [
    {
     "data": {
      "text/plain": [
       "Text(0, 0.5, 'probability')"
      ]
     },
     "execution_count": 275,
     "metadata": {},
     "output_type": "execute_result"
    },
    {
     "data": {
      "image/png": "[encoded data removed]",
      "text/plain": [
       "<Figure size 432x288 with 1 Axes>"
      ]
     },
     "metadata": {
      "needs_background": "light"
     },
     "output_type": "display_data"
    }
   ],
   "source": [
    "k=np.arange(0,9)\n",
    "g7=stat.poisson.pmf(k,r2)\n",
    "plt.plot(k,g7,marker=\"*\")\n",
    "plt.xlabel(\"discrete random variables\")\n",
    "plt.ylabel(\"probability\")"
   ]
  },
  {
   "cell_type": "markdown",
   "id": "f60910d8",
   "metadata": {},
   "source": [
    "# Task5"
   ]
  },
  {
   "cell_type": "code",
   "execution_count": 276,
   "id": "75563b80",
   "metadata": {},
   "outputs": [],
   "source": [
    "rate=0.548"
   ]
  },
  {
   "cell_type": "markdown",
   "id": "22a25738",
   "metadata": {},
   "source": [
    "### a"
   ]
  },
  {
   "cell_type": "code",
   "execution_count": 277,
   "id": "b83d6d59",
   "metadata": {},
   "outputs": [
    {
     "data": {
      "text/plain": [
       "0.5781048646705196"
      ]
     },
     "execution_count": 277,
     "metadata": {},
     "output_type": "execute_result"
    }
   ],
   "source": [
    "k=0\n",
    "a=stat.poisson.pmf(k,rate)\n",
    "a"
   ]
  },
  {
   "cell_type": "code",
   "execution_count": 278,
   "id": "94b5c3b3",
   "metadata": {},
   "outputs": [
    {
     "data": {
      "text/plain": [
       "Text(0, 0.5, 'probability')"
      ]
     },
     "execution_count": 278,
     "metadata": {},
     "output_type": "execute_result"
    },
    {
     "data": {
      "image/png": "[encoded data removed]",
      "text/plain": [
       "<Figure size 432x288 with 1 Axes>"
      ]
     },
     "metadata": {
      "needs_background": "light"
     },
     "output_type": "display_data"
    }
   ],
   "source": [
    "plt.plot(k,a,marker=\"*\")\n",
    "plt.xlabel(\"discrete random variables\")\n",
    "plt.ylabel(\"probability\")"
   ]
  },
  {
   "cell_type": "markdown",
   "id": "f1d29910",
   "metadata": {},
   "source": [
    "### b"
   ]
  },
  {
   "cell_type": "code",
   "execution_count": 279,
   "id": "04b99f2b",
   "metadata": {},
   "outputs": [
    {
     "data": {
      "text/plain": [
       "0.3168014658394448"
      ]
     },
     "execution_count": 279,
     "metadata": {},
     "output_type": "execute_result"
    }
   ],
   "source": [
    "k=1\n",
    "stat.poisson.pmf(k,rate)\n"
   ]
  },
  {
   "cell_type": "code",
   "execution_count": 280,
   "id": "6366f3f7",
   "metadata": {},
   "outputs": [
    {
     "data": {
      "text/plain": [
       "Text(0, 0.5, 'probability')"
      ]
     },
     "execution_count": 280,
     "metadata": {},
     "output_type": "execute_result"
    },
    {
     "data": {
      "image/png": "[encoded data removed]",
      "text/plain": [
       "<Figure size 432x288 with 1 Axes>"
      ]
     },
     "metadata": {
      "needs_background": "light"
     },
     "output_type": "display_data"
    }
   ],
   "source": [
    "k=np.arange(0,2)\n",
    "b=stat.poisson.pmf(k,rate)\n",
    "plt.plot(k,b,marker=\"*\")\n",
    "plt.xlabel(\"discrete random variables\")\n",
    "plt.ylabel(\"probability\")"
   ]
  },
  {
   "cell_type": "markdown",
   "id": "fbd475d1",
   "metadata": {},
   "source": [
    "### c"
   ]
  },
  {
   "cell_type": "code",
   "execution_count": 281,
   "id": "777c8433",
   "metadata": {},
   "outputs": [
    {
     "data": {
      "text/plain": [
       "array([-0.15620973,  0.10509367])"
      ]
     },
     "execution_count": 281,
     "metadata": {},
     "output_type": "execute_result"
    }
   ],
   "source": [
    "1-(a+b)"
   ]
  },
  {
   "cell_type": "code",
   "execution_count": 282,
   "id": "c2f59d22",
   "metadata": {},
   "outputs": [
    {
     "data": {
      "text/plain": [
       "Text(0, 0.5, 'probability')"
      ]
     },
     "execution_count": 282,
     "metadata": {},
     "output_type": "execute_result"
    },
    {
     "data": {
      "image/png": "[encoded data removed]",
      "text/plain": [
       "<Figure size 432x288 with 1 Axes>"
      ]
     },
     "metadata": {
      "needs_background": "light"
     },
     "output_type": "display_data"
    }
   ],
   "source": [
    "k=np.arange(2,10)\n",
    "c=stat.poisson.pmf(k,rate)\n",
    "plt.plot(k,c,marker=\"*\")\n",
    "plt.xlabel(\"discrete random variables\")\n",
    "plt.ylabel(\"probability\")"
   ]
  },
  {
   "cell_type": "markdown",
   "id": "ddefafa4",
   "metadata": {},
   "source": [
    "### d "
   ]
  },
  {
   "cell_type": "code",
   "execution_count": 283,
   "id": "3bb14fe0",
   "metadata": {},
   "outputs": [
    {
     "data": {
      "text/plain": [
       "0.9150061543125836"
      ]
     },
     "execution_count": 283,
     "metadata": {},
     "output_type": "execute_result"
    }
   ],
   "source": [
    "rate1=rate*3\n",
    "k=np.arange(0,4)\n",
    "sum(stat.poisson.pmf(k,rate1))"
   ]
  },
  {
   "cell_type": "code",
   "execution_count": 284,
   "id": "433b45e0",
   "metadata": {},
   "outputs": [
    {
     "data": {
      "text/plain": [
       "Text(0, 0.5, 'probability')"
      ]
     },
     "execution_count": 284,
     "metadata": {},
     "output_type": "execute_result"
    },
    {
     "data": {
      "image/png": "[encoded data removed]",
      "text/plain": [
       "<Figure size 432x288 with 1 Axes>"
      ]
     },
     "metadata": {
      "needs_background": "light"
     },
     "output_type": "display_data"
    }
   ],
   "source": [
    "e=stat.poisson.pmf(k,rate1)\n",
    "plt.plot(k,e,marker=\"*\")\n",
    "plt.xlabel(\"discrete random variables\")\n",
    "plt.ylabel(\"probability\")"
   ]
  },
  {
   "cell_type": "markdown",
   "id": "fdf96e70",
   "metadata": {},
   "source": [
    "### e "
   ]
  },
  {
   "cell_type": "code",
   "execution_count": 285,
   "id": "cc81d26c",
   "metadata": {},
   "outputs": [
    {
     "data": {
      "text/plain": [
       "0.1817840342372797"
      ]
     },
     "execution_count": 285,
     "metadata": {},
     "output_type": "execute_result"
    }
   ],
   "source": [
    "rate2=rate*6\n",
    "k=4\n",
    "stat.poisson.pmf(k,rate2)\n"
   ]
  },
  {
   "cell_type": "code",
   "execution_count": 286,
   "id": "2a7526aa",
   "metadata": {},
   "outputs": [
    {
     "data": {
      "text/plain": [
       "Text(0, 0.5, 'probability')"
      ]
     },
     "execution_count": 286,
     "metadata": {},
     "output_type": "execute_result"
    },
    {
     "data": {
      "image/png": "[encoded data removed]",
      "text/plain": [
       "<Figure size 432x288 with 1 Axes>"
      ]
     },
     "metadata": {
      "needs_background": "light"
     },
     "output_type": "display_data"
    }
   ],
   "source": [
    "k=np.arange(0,5)\n",
    "f=stat.poisson.pmf(k,rate2)\n",
    "plt.plot(k,f,marker=\"*\")\n",
    "plt.xlabel(\"discrete random variables\")\n",
    "plt.ylabel(\"probability\")"
   ]
  },
  {
   "cell_type": "code",
   "execution_count": null,
   "id": "fb548233",
   "metadata": {},
   "outputs": [],
   "source": []
  }
 ],
 "metadata": {
  "kernelspec": {
   "display_name": "Python 3 (ipykernel)",
   "language": "python",
   "name": "python3"
  },
  "language_info": {
   "codemirror_mode": {
    "name": "ipython",
    "version": 3
   },
   "file_extension": ".py",
   "mimetype": "text/x-python",
   "name": "python",
   "nbconvert_exporter": "python",
   "pygments_lexer": "ipython3",
   "version": "3.9.12"
  }
 },
 "nbformat": 4,
 "nbformat_minor": 5
}
