{
 "cells": [
  {
   "cell_type": "code",
   "execution_count": 10,
   "id": "72f30994",
   "metadata": {},
   "outputs": [],
   "source": [
    "import itertools as it\n"
   ]
  },
  {
   "cell_type": "code",
   "execution_count": 22,
   "id": "cfaf9b59",
   "metadata": {},
   "outputs": [
    {
     "data": {
      "text/plain": [
       "[('a', 'b', 'c'),\n",
       " ('a', 'b', 'd'),\n",
       " ('a', 'b', 'e'),\n",
       " ('a', 'c', 'd'),\n",
       " ('a', 'c', 'e'),\n",
       " ('a', 'd', 'e'),\n",
       " ('b', 'c', 'd'),\n",
       " ('b', 'c', 'e'),\n",
       " ('b', 'd', 'e'),\n",
       " ('c', 'd', 'e')]"
      ]
     },
     "execution_count": 22,
     "metadata": {},
     "output_type": "execute_result"
    }
   ],
   "source": [
    "#combination:order doesnt matter\n",
    "l=[\"a\",\"b\",\"c\",\"d\",\"e\"]\n",
    "list(it.combinations(l,3))"
   ]
  },
  {
   "cell_type": "code",
   "execution_count": 23,
   "id": "96cc80f9",
   "metadata": {},
   "outputs": [
    {
     "data": {
      "text/plain": [
       "[('a', 'a', 'a'),\n",
       " ('a', 'a', 'b'),\n",
       " ('a', 'a', 'c'),\n",
       " ('a', 'a', 'd'),\n",
       " ('a', 'a', 'e'),\n",
       " ('a', 'b', 'b'),\n",
       " ('a', 'b', 'c'),\n",
       " ('a', 'b', 'd'),\n",
       " ('a', 'b', 'e'),\n",
       " ('a', 'c', 'c'),\n",
       " ('a', 'c', 'd'),\n",
       " ('a', 'c', 'e'),\n",
       " ('a', 'd', 'd'),\n",
       " ('a', 'd', 'e'),\n",
       " ('a', 'e', 'e'),\n",
       " ('b', 'b', 'b'),\n",
       " ('b', 'b', 'c'),\n",
       " ('b', 'b', 'd'),\n",
       " ('b', 'b', 'e'),\n",
       " ('b', 'c', 'c'),\n",
       " ('b', 'c', 'd'),\n",
       " ('b', 'c', 'e'),\n",
       " ('b', 'd', 'd'),\n",
       " ('b', 'd', 'e'),\n",
       " ('b', 'e', 'e'),\n",
       " ('c', 'c', 'c'),\n",
       " ('c', 'c', 'd'),\n",
       " ('c', 'c', 'e'),\n",
       " ('c', 'd', 'd'),\n",
       " ('c', 'd', 'e'),\n",
       " ('c', 'e', 'e'),\n",
       " ('d', 'd', 'd'),\n",
       " ('d', 'd', 'e'),\n",
       " ('d', 'e', 'e'),\n",
       " ('e', 'e', 'e')]"
      ]
     },
     "execution_count": 23,
     "metadata": {},
     "output_type": "execute_result"
    }
   ],
   "source": [
    "#combination with repetition allowed\n",
    "list(it.combinations_with_replacement(l,3))"
   ]
  },
  {
   "cell_type": "code",
   "execution_count": 29,
   "id": "5c664ff8",
   "metadata": {},
   "outputs": [
    {
     "data": {
      "text/plain": [
       "60"
      ]
     },
     "execution_count": 29,
     "metadata": {},
     "output_type": "execute_result"
    }
   ],
   "source": [
    "#permutations : order matters\n",
    "#without repetition\n",
    "list(it.permutations(l,3))\n",
    "len(list(it.permutations(l,3)))"
   ]
  },
  {
   "cell_type": "code",
   "execution_count": 31,
   "id": "93dfb32b",
   "metadata": {},
   "outputs": [
    {
     "data": {
      "text/plain": [
       "125"
      ]
     },
     "execution_count": 31,
     "metadata": {},
     "output_type": "execute_result"
    }
   ],
   "source": [
    "#permuations with repetition\n",
    "a=list(it.product(l,repeat=3))\n",
    "len(a)"
   ]
  },
  {
   "cell_type": "code",
   "execution_count": null,
   "id": "50c912a4",
   "metadata": {},
   "outputs": [],
   "source": []
  },
  {
   "cell_type": "code",
   "execution_count": 40,
   "id": "533ffa42",
   "metadata": {},
   "outputs": [
    {
     "data": {
      "text/plain": [
       "(0.61, 0.2)"
      ]
     },
     "execution_count": 40,
     "metadata": {},
     "output_type": "execute_result"
    }
   ],
   "source": [
    "import numpy as np\n",
    "l=np.array([122,40,28,2,2,6])\n",
    "s=sum(l)\n",
    "rf=l/s\n",
    "rf[0],rf[1]\n"
   ]
  }
 ],
 "metadata": {
  "kernelspec": {
   "display_name": "Python 3 (ipykernel)",
   "language": "python",
   "name": "python3"
  },
  "language_info": {
   "codemirror_mode": {
    "name": "ipython",
    "version": 3
   },
   "file_extension": ".py",
   "mimetype": "text/x-python",
   "name": "python",
   "nbconvert_exporter": "python",
   "pygments_lexer": "ipython3",
   "version": "3.9.12"
  }
 },
 "nbformat": 4,
 "nbformat_minor": 5
}
