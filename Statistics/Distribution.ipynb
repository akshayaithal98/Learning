{
 "cells": [
  {
   "cell_type": "code",
   "execution_count": 1,
   "id": "167d1e84",
   "metadata": {},
   "outputs": [],
   "source": [
    "import numpy as np\n",
    "import pandas as pd\n",
    "import matplotlib.pyplot as plt\n",
    "import seaborn as sb\n",
    "import scipy.stats as stat\n",
    "import math\n",
    "import warnings as w\n",
    "w.filterwarnings(\"ignore\")"
   ]
  },
  {
   "cell_type": "markdown",
   "id": "2f571757",
   "metadata": {},
   "source": [
    "# Discrete probability distribution"
   ]
  },
  {
   "cell_type": "code",
   "execution_count": 91,
   "id": "aa76ad89",
   "metadata": {},
   "outputs": [],
   "source": [
    "#discrete probability distribution\n",
    "#probabilty of total successes in all trials"
   ]
  },
  {
   "cell_type": "code",
   "execution_count": 92,
   "id": "e5d03957",
   "metadata": {},
   "outputs": [],
   "source": [
    "#x:sum of two dice rolled\n",
    "#p: its probability\n",
    "x=[2,3,4,5,6,7,8,9,10,11,12]\n",
    "p=[1/36,2/36,3/36,4/36,5/36,6/36,5/36,4/36,3/36,2/36,1/36]"
   ]
  },
  {
   "cell_type": "code",
   "execution_count": 93,
   "id": "371c0d1f",
   "metadata": {},
   "outputs": [
    {
     "data": {
      "image/png": "[encoded data removed]",
      "text/plain": [
       "<Figure size 432x288 with 1 Axes>"
      ]
     },
     "metadata": {
      "needs_background": "light"
     },
     "output_type": "display_data"
    }
   ],
   "source": [
    "sb.barplot(x=x,y=p)\n",
    "plt.xlabel(\"sum of two dice\")\n",
    "plt.ylabel(\"probability\")\n",
    "plt.show()"
   ]
  },
  {
   "cell_type": "code",
   "execution_count": 94,
   "id": "30b5ab8e",
   "metadata": {},
   "outputs": [
    {
     "data": {
      "text/plain": [
       "[<matplotlib.lines.Line2D at 0x29960eda100>]"
      ]
     },
     "execution_count": 94,
     "metadata": {},
     "output_type": "execute_result"
    },
    {
     "data": {
      "image/png": "[encoded data removed]",
      "text/plain": [
       "<Figure size 432x288 with 1 Axes>"
      ]
     },
     "metadata": {
      "needs_background": "light"
     },
     "output_type": "display_data"
    }
   ],
   "source": [
    "plt.plot(x,p)"
   ]
  },
  {
   "cell_type": "code",
   "execution_count": 95,
   "id": "974b2f00",
   "metadata": {},
   "outputs": [
    {
     "data": {
      "text/plain": [
       "0.27777777777777773"
      ]
     },
     "execution_count": 95,
     "metadata": {},
     "output_type": "execute_result"
    }
   ],
   "source": [
    "#P(x>=9)\n",
    "sum(p[x.index(9):])"
   ]
  },
  {
   "cell_type": "code",
   "execution_count": 96,
   "id": "3fc92b56",
   "metadata": {},
   "outputs": [
    {
     "data": {
      "text/plain": [
       "0.5"
      ]
     },
     "execution_count": 96,
     "metadata": {},
     "output_type": "execute_result"
    }
   ],
   "source": [
    "#P(x:even)\n",
    "sum(p[::2])"
   ]
  },
  {
   "cell_type": "code",
   "execution_count": 97,
   "id": "f6ec99e9",
   "metadata": {},
   "outputs": [
    {
     "data": {
      "text/plain": [
       "6.999999999999999"
      ]
     },
     "execution_count": 97,
     "metadata": {},
     "output_type": "execute_result"
    }
   ],
   "source": [
    "#Expected Value or mean:sum(x*p)\n",
    "z=sum(map(lambda x,y:x*y,x,p))\n",
    "z"
   ]
  },
  {
   "cell_type": "code",
   "execution_count": 98,
   "id": "fa6a91b7",
   "metadata": {},
   "outputs": [
    {
     "data": {
      "text/plain": [
       "5.833333333333334"
      ]
     },
     "execution_count": 98,
     "metadata": {},
     "output_type": "execute_result"
    }
   ],
   "source": [
    "#variance\n",
    "#sum(sqr(x-mean)*p)\n",
    "v=sum(map(lambda x,y:((x-z)**2)*y,x,p))\n",
    "v"
   ]
  },
  {
   "cell_type": "code",
   "execution_count": 99,
   "id": "f020014a",
   "metadata": {},
   "outputs": [
    {
     "data": {
      "text/plain": [
       "2.41522945769824"
      ]
     },
     "execution_count": 99,
     "metadata": {},
     "output_type": "execute_result"
    }
   ],
   "source": [
    "#standard deviation\n",
    "import math\n",
    "math.sqrt(v)"
   ]
  },
  {
   "cell_type": "markdown",
   "id": "4b7e9a75",
   "metadata": {},
   "source": [
    "# Binomial distribution"
   ]
  },
  {
   "cell_type": "code",
   "execution_count": 100,
   "id": "186ca80d",
   "metadata": {},
   "outputs": [],
   "source": [
    "#probability of occurence of events in an interval"
   ]
  },
  {
   "cell_type": "code",
   "execution_count": 101,
   "id": "ca43dc05",
   "metadata": {},
   "outputs": [
    {
     "data": {
      "text/plain": [
       "array([ 0,  1,  2,  3,  4,  5,  6,  7,  8,  9, 10])"
      ]
     },
     "execution_count": 101,
     "metadata": {},
     "output_type": "execute_result"
    }
   ],
   "source": [
    "\n",
    "p=0.5 #probability of success\n",
    "q=0.5 #(1-p)i.e p of failure\n",
    "n=10#10trials\n",
    "k=np.arange(11)#no fo success\n",
    "\n",
    "k"
   ]
  },
  {
   "cell_type": "code",
   "execution_count": 102,
   "id": "20f2d935",
   "metadata": {},
   "outputs": [],
   "source": [
    "bi=stat.binom.pmf(k,n,p)"
   ]
  },
  {
   "cell_type": "code",
   "execution_count": 103,
   "id": "50e68b9b",
   "metadata": {},
   "outputs": [
    {
     "data": {
      "text/plain": [
       "array([0.00097656, 0.00976563, 0.04394531, 0.1171875 , 0.20507812,\n",
       "       0.24609375, 0.20507812, 0.1171875 , 0.04394531, 0.00976563,\n",
       "       0.00097656])"
      ]
     },
     "execution_count": 103,
     "metadata": {},
     "output_type": "execute_result"
    }
   ],
   "source": [
    "bi"
   ]
  },
  {
   "cell_type": "code",
   "execution_count": 104,
   "id": "a9b05eb2",
   "metadata": {},
   "outputs": [
    {
     "data": {
      "image/png": "[encoded data removed]",
      "text/plain": [
       "<Figure size 432x288 with 1 Axes>"
      ]
     },
     "metadata": {
      "needs_background": "light"
     },
     "output_type": "display_data"
    }
   ],
   "source": [
    "plt.plot(k,bi,color=\"red\",marker=\"*\",linestyle=\"dashed\")\n",
    "plt.xlabel(\"discrete random variable\")\n",
    "plt.ylabel(\"probability\")\n",
    "plt.show()"
   ]
  },
  {
   "cell_type": "code",
   "execution_count": 105,
   "id": "68bce81e",
   "metadata": {},
   "outputs": [
    {
     "data": {
      "text/plain": [
       "5.0"
      ]
     },
     "execution_count": 105,
     "metadata": {},
     "output_type": "execute_result"
    }
   ],
   "source": [
    "#mean=n*p\n",
    "mean=n*p\n",
    "mean"
   ]
  },
  {
   "cell_type": "code",
   "execution_count": 106,
   "id": "4c50b13c",
   "metadata": {},
   "outputs": [
    {
     "data": {
      "text/plain": [
       "1.5811388300841898"
      ]
     },
     "execution_count": 106,
     "metadata": {},
     "output_type": "execute_result"
    }
   ],
   "source": [
    "#standard deviation=sqrt(n*p*q)\n",
    "sd=math.sqrt(n*p*q)\n",
    "sd"
   ]
  },
  {
   "cell_type": "markdown",
   "id": "fb2ba87d",
   "metadata": {},
   "source": [
    "# Poisson Distribution"
   ]
  },
  {
   "cell_type": "code",
   "execution_count": 107,
   "id": "7c56fcf6",
   "metadata": {},
   "outputs": [],
   "source": [
    "#mean=n*p\n",
    "#var=mean\n",
    "#std=sqrt(mean)"
   ]
  },
  {
   "cell_type": "code",
   "execution_count": 108,
   "id": "99ae7284",
   "metadata": {},
   "outputs": [],
   "source": [
    "rate=3.2 #avg rate of customers arriving in interval\n",
    "#k=n\n",
    "n= np.arange(0,20)#no of customers array\n"
   ]
  },
  {
   "cell_type": "code",
   "execution_count": 109,
   "id": "42768b74",
   "metadata": {},
   "outputs": [
    {
     "data": {
      "text/plain": [
       "array([4.07622040e-02, 1.30439053e-01, 2.08702484e-01, 2.22615983e-01,\n",
       "       1.78092787e-01, 1.13979383e-01, 6.07890045e-02, 2.77892592e-02,\n",
       "       1.11157037e-02, 3.95225020e-03, 1.26472006e-03, 3.67918564e-04,\n",
       "       9.81116170e-05, 2.41505519e-05, 5.52012615e-06, 1.17762691e-06,\n",
       "       2.35525382e-07, 4.43341896e-08, 7.88163371e-09, 1.32743305e-09])"
      ]
     },
     "execution_count": 109,
     "metadata": {},
     "output_type": "execute_result"
    }
   ],
   "source": [
    "p=stat.poisson.pmf(n,rate)\n",
    "p#probabilty of 0,1,2,3,4,5... customers arriving in interval"
   ]
  },
  {
   "cell_type": "code",
   "execution_count": 110,
   "id": "f43c5ba4",
   "metadata": {},
   "outputs": [
    {
     "data": {
      "text/plain": [
       "0.11397938346351824"
      ]
     },
     "execution_count": 110,
     "metadata": {},
     "output_type": "execute_result"
    }
   ],
   "source": [
    "p[5]#probability of exactly 5 customers arriving in the interval"
   ]
  },
  {
   "cell_type": "code",
   "execution_count": 111,
   "id": "4673bacb",
   "metadata": {},
   "outputs": [
    {
     "data": {
      "image/png": "[encoded data removed]",
      "text/plain": [
       "<Figure size 432x288 with 1 Axes>"
      ]
     },
     "metadata": {
      "needs_background": "light"
     },
     "output_type": "display_data"
    }
   ],
   "source": [
    "plt.plot(n,p,marker=\"*\",color=\"blue\")\n",
    "plt.xlabel(\"no of customers arriving\")\n",
    "plt.ylabel(\"probability\")\n",
    "plt.show()\n",
    "#probabilty of more than 10 customers arriving in that interval is very less"
   ]
  },
  {
   "cell_type": "code",
   "execution_count": 112,
   "id": "fd6483f5",
   "metadata": {},
   "outputs": [
    {
     "data": {
      "text/plain": [
       "0.052790043854115495"
      ]
     },
     "execution_count": 112,
     "metadata": {},
     "output_type": "execute_result"
    }
   ],
   "source": [
    "rate=3.2#4minute\n",
    "#for 8 minute new rate\n",
    "new_rate=6.4\n",
    "p=stat.poisson.pmf(10,new_rate)\n",
    "p"
   ]
  },
  {
   "cell_type": "code",
   "execution_count": 113,
   "id": "3d124518",
   "metadata": {},
   "outputs": [
    {
     "data": {
      "image/png": "[encoded data removed]",
      "text/plain": [
       "<Figure size 432x288 with 1 Axes>"
      ]
     },
     "metadata": {
      "needs_background": "light"
     },
     "output_type": "display_data"
    }
   ],
   "source": [
    "n=np.arange(0,20)\n",
    "p=stat.poisson.pmf(n,new_rate)\n",
    "plt.plot(n,p,marker=\"*\",color='Blue')\n",
    "plt.show()"
   ]
  },
  {
   "cell_type": "markdown",
   "id": "86063bf7",
   "metadata": {},
   "source": [
    "# Continuos Probability Distribution"
   ]
  },
  {
   "cell_type": "markdown",
   "id": "9d7af07d",
   "metadata": {},
   "source": [
    "### Uniform Distribution"
   ]
  },
  {
   "cell_type": "code",
   "execution_count": 114,
   "id": "b9f8a485",
   "metadata": {},
   "outputs": [],
   "source": [
    "#Reactangle Distribution\n",
    "#Distribution has constant probability\n",
    "#it can be discrete also\n",
    "\n",
    "#Area under curve is 1\n",
    "#length=b-a where b is max and a is min\n",
    "#height=1/(b-a)\n",
    "#Discrete example:Tossing a coin \n",
    "#continuos example-random number generator\n"
   ]
  },
  {
   "cell_type": "code",
   "execution_count": 115,
   "id": "361ae100",
   "metadata": {},
   "outputs": [],
   "source": [
    "#Mean=(a+b)/2\n",
    "#SD=(b-a)/sqrt(2)\n",
    "#probabilities between x2 and x1 =(x2-x1)/(b-a) where a<=x1<=x2<=b"
   ]
  },
  {
   "cell_type": "code",
   "execution_count": 116,
   "id": "9c7537da",
   "metadata": {},
   "outputs": [
    {
     "data": {
      "text/plain": [
       "835.0931085813125"
      ]
     },
     "execution_count": 116,
     "metadata": {},
     "output_type": "execute_result"
    }
   ],
   "source": [
    "\n",
    "a=600\n",
    "b=1781\n",
    "x1=910\n",
    "x2=1781\n",
    "sd=(b-a)/math.sqrt(2)\n",
    "sd"
   ]
  },
  {
   "cell_type": "code",
   "execution_count": 117,
   "id": "5778382d",
   "metadata": {},
   "outputs": [
    {
     "data": {
      "text/plain": [
       "0.000846740050804403"
      ]
     },
     "execution_count": 117,
     "metadata": {},
     "output_type": "execute_result"
    }
   ],
   "source": [
    "h=1/(b-a)\n",
    "h"
   ]
  },
  {
   "cell_type": "code",
   "execution_count": 118,
   "id": "3a08a497",
   "metadata": {},
   "outputs": [
    {
     "data": {
      "text/plain": [
       "0.7375105842506351"
      ]
     },
     "execution_count": 118,
     "metadata": {},
     "output_type": "execute_result"
    }
   ],
   "source": [
    "P=(x2-x1)/(b-a)\n",
    "P"
   ]
  },
  {
   "cell_type": "markdown",
   "id": "9b2795c8",
   "metadata": {},
   "source": [
    "### Normal Probability Distribution "
   ]
  },
  {
   "cell_type": "code",
   "execution_count": null,
   "id": "f8da4b12",
   "metadata": {},
   "outputs": [],
   "source": [
    "#mean,median,mode  are approxiamatley equal for normal distribution \n",
    "#btw +-1SD we have 68% of data.i.e. probabilty of getting data btw first Sd is 0.68\n",
    "#+-2SD:95.4%\n",
    "#+-3SD:99.7%"
   ]
  },
  {
   "cell_type": "code",
   "execution_count": 218,
   "id": "a0f22e02",
   "metadata": {},
   "outputs": [],
   "source": [
    "df=pd.read_csv(\"DS1_C5_S5_Continuous_Concept_Employee_Data.csv\")\n",
    "emp_df=df.copy()"
   ]
  },
  {
   "cell_type": "code",
   "execution_count": 226,
   "id": "f5306605",
   "metadata": {},
   "outputs": [
    {
     "data": {
      "text/plain": [
       "array(['IT', 'Sales', 'Finance', 'HR'], dtype=object)"
      ]
     },
     "execution_count": 226,
     "metadata": {},
     "output_type": "execute_result"
    }
   ],
   "source": [
    "u=df[\"Department\"].unique()\n",
    "u"
   ]
  },
  {
   "cell_type": "code",
   "execution_count": 227,
   "id": "2964dd1f",
   "metadata": {},
   "outputs": [],
   "source": [
    "df1=pd.DataFrame()\n",
    "obj=df.groupby(\"Department\")\n",
    "for i in u:\n",
    "    data=obj.get_group(i)\n",
    "    data1=data.sample(10,random_state=1)\n",
    "    df1=df1.append(data1)\n",
    "\n",
    "emp_df1=df1.copy()   "
   ]
  },
  {
   "cell_type": "code",
   "execution_count": 124,
   "id": "5e4448f3",
   "metadata": {},
   "outputs": [
    {
     "data": {
      "text/plain": [
       "(40, 7)"
      ]
     },
     "execution_count": 124,
     "metadata": {},
     "output_type": "execute_result"
    }
   ],
   "source": [
    "df1.shape"
   ]
  },
  {
   "cell_type": "code",
   "execution_count": 129,
   "id": "225a6fca",
   "metadata": {},
   "outputs": [
    {
     "data": {
      "text/plain": [
       "(55797.5, 54000.0, 48000, 19421.221376205714)"
      ]
     },
     "execution_count": 129,
     "metadata": {},
     "output_type": "execute_result"
    }
   ],
   "source": [
    "df1[\"Annual_Salary($)\"].mean(),df1[\"Annual_Salary($)\"].median(),df1[\"Annual_Salary($)\"].mode()[0],df1[\"Annual_Salary($)\"].std()"
   ]
  },
  {
   "cell_type": "code",
   "execution_count": 130,
   "id": "fae8217a",
   "metadata": {},
   "outputs": [
    {
     "data": {
      "text/plain": [
       "(56984.28571428572, 55000.0, 48000, 20463.290820919592)"
      ]
     },
     "execution_count": 130,
     "metadata": {},
     "output_type": "execute_result"
    }
   ],
   "source": [
    "df[\"Annual_Salary($)\"].mean(),df[\"Annual_Salary($)\"].median(),df[\"Annual_Salary($)\"].mode()[0],df[\"Annual_Salary($)\"].std()"
   ]
  },
  {
   "cell_type": "code",
   "execution_count": 138,
   "id": "601bf9fd",
   "metadata": {},
   "outputs": [
    {
     "data": {
      "text/plain": [
       "Text(0.5, 1.0, 'populaion')"
      ]
     },
     "execution_count": 138,
     "metadata": {},
     "output_type": "execute_result"
    },
    {
     "data": {
      "image/png": "[encoded data removed]",
      "text/plain": [
       "<Figure size 432x288 with 1 Axes>"
      ]
     },
     "metadata": {
      "needs_background": "light"
     },
     "output_type": "display_data"
    }
   ],
   "source": [
    "sb.kdeplot(df[\"Annual_Salary($)\"],shade=True)\n",
    "plt.title(\"populaion\",fontsize=20,color=\"red\")"
   ]
  },
  {
   "cell_type": "code",
   "execution_count": 136,
   "id": "c720c793",
   "metadata": {},
   "outputs": [
    {
     "data": {
      "text/plain": [
       "Text(0.5, 1.0, 'sample')"
      ]
     },
     "execution_count": 136,
     "metadata": {},
     "output_type": "execute_result"
    },
    {
     "data": {
      "image/png": "[encoded data removed]",
      "text/plain": [
       "<Figure size 432x288 with 1 Axes>"
      ]
     },
     "metadata": {
      "needs_background": "light"
     },
     "output_type": "display_data"
    }
   ],
   "source": [
    "sb.kdeplot(df1[\"Annual_Salary($)\"],shade=True)\n",
    "plt.title(\"sample\",fontsize=20,color=\"red\")"
   ]
  },
  {
   "cell_type": "code",
   "execution_count": null,
   "id": "895ec65e",
   "metadata": {},
   "outputs": [],
   "source": [
    "#Density curve gives us idealize picture of dataset without considering irregularity or outliers\n",
    "#in histogram its hard if we have large dataset"
   ]
  },
  {
   "cell_type": "code",
   "execution_count": 145,
   "id": "36255fda",
   "metadata": {},
   "outputs": [
    {
     "data": {
      "text/plain": [
       "array([30.  , 30.01, 30.02, ..., 89.97, 89.98, 89.99])"
      ]
     },
     "execution_count": 145,
     "metadata": {},
     "output_type": "execute_result"
    }
   ],
   "source": [
    "mean=60\n",
    "std=10\n",
    "lower=mean-3*std\n",
    "upper=mean+3*std\n",
    "data=np.arange(lower,upper,0.01)\n",
    "data"
   ]
  },
  {
   "cell_type": "code",
   "execution_count": 147,
   "id": "997aba32",
   "metadata": {},
   "outputs": [
    {
     "data": {
      "text/plain": [
       "[<matplotlib.lines.Line2D at 0x2996380c8e0>]"
      ]
     },
     "execution_count": 147,
     "metadata": {},
     "output_type": "execute_result"
    },
    {
     "data": {
      "image/png": "[encoded data removed]",
      "text/plain": [
       "<Figure size 432x288 with 1 Axes>"
      ]
     },
     "metadata": {
      "needs_background": "light"
     },
     "output_type": "display_data"
    }
   ],
   "source": [
    "plt.plot(data,stat.norm.pdf(data,loc=mean,scale=std))"
   ]
  },
  {
   "cell_type": "code",
   "execution_count": 150,
   "id": "80a17c5b",
   "metadata": {},
   "outputs": [
    {
     "data": {
      "text/plain": [
       "0.03989422804014327"
      ]
     },
     "execution_count": 150,
     "metadata": {},
     "output_type": "execute_result"
    }
   ],
   "source": [
    "#probability of getting 60\n",
    "stat.norm.pdf(60,loc=mean,scale=std)"
   ]
  },
  {
   "cell_type": "code",
   "execution_count": 151,
   "id": "f456bdfc",
   "metadata": {},
   "outputs": [],
   "source": [
    "#demo"
   ]
  },
  {
   "cell_type": "code",
   "execution_count": 162,
   "id": "f7771fd8",
   "metadata": {},
   "outputs": [
    {
     "data": {
      "text/html": [
       "<div>\n",
       "<style scoped>\n",
       "    .dataframe tbody tr th:only-of-type {\n",
       "        vertical-align: middle;\n",
       "    }\n",
       "\n",
       "    .dataframe tbody tr th {\n",
       "        vertical-align: top;\n",
       "    }\n",
       "\n",
       "    .dataframe thead th {\n",
       "        text-align: right;\n",
       "    }\n",
       "</style>\n",
       "<table border=\"1\" class=\"dataframe\">\n",
       "  <thead>\n",
       "    <tr style=\"text-align: right;\">\n",
       "      <th></th>\n",
       "      <th>Order ID</th>\n",
       "      <th>Product Name</th>\n",
       "      <th>Discount</th>\n",
       "      <th>Sales</th>\n",
       "      <th>Profit</th>\n",
       "      <th>Quantity</th>\n",
       "      <th>Category</th>\n",
       "      <th>Sub-Category</th>\n",
       "    </tr>\n",
       "  </thead>\n",
       "  <tbody>\n",
       "    <tr>\n",
       "      <th>0</th>\n",
       "      <td>BN-2011-7407039</td>\n",
       "      <td>Enermax Note Cards, Premium</td>\n",
       "      <td>0.5</td>\n",
       "      <td>45.0</td>\n",
       "      <td>-26.0</td>\n",
       "      <td>3</td>\n",
       "      <td>Office Supplies</td>\n",
       "      <td>Paper</td>\n",
       "    </tr>\n",
       "    <tr>\n",
       "      <th>1</th>\n",
       "      <td>AZ-2011-9050313</td>\n",
       "      <td>Dania Corner Shelving, Traditional</td>\n",
       "      <td>0.0</td>\n",
       "      <td>854.0</td>\n",
       "      <td>290.0</td>\n",
       "      <td>7</td>\n",
       "      <td>Furniture</td>\n",
       "      <td>Bookcases</td>\n",
       "    </tr>\n",
       "    <tr>\n",
       "      <th>2</th>\n",
       "      <td>AZ-2011-6674300</td>\n",
       "      <td>Binney &amp; Smith Sketch Pad, Easy-Erase</td>\n",
       "      <td>0.0</td>\n",
       "      <td>140.0</td>\n",
       "      <td>21.0</td>\n",
       "      <td>3</td>\n",
       "      <td>Office Supplies</td>\n",
       "      <td>Art</td>\n",
       "    </tr>\n",
       "    <tr>\n",
       "      <th>3</th>\n",
       "      <td>BN-2011-2819714</td>\n",
       "      <td>Boston Markers, Easy-Erase</td>\n",
       "      <td>0.5</td>\n",
       "      <td>27.0</td>\n",
       "      <td>-22.0</td>\n",
       "      <td>2</td>\n",
       "      <td>Office Supplies</td>\n",
       "      <td>Art</td>\n",
       "    </tr>\n",
       "    <tr>\n",
       "      <th>4</th>\n",
       "      <td>BN-2011-2819714</td>\n",
       "      <td>Eldon Folders, Single Width</td>\n",
       "      <td>0.5</td>\n",
       "      <td>17.0</td>\n",
       "      <td>-1.0</td>\n",
       "      <td>2</td>\n",
       "      <td>Office Supplies</td>\n",
       "      <td>Storage</td>\n",
       "    </tr>\n",
       "    <tr>\n",
       "      <th>...</th>\n",
       "      <td>...</td>\n",
       "      <td>...</td>\n",
       "      <td>...</td>\n",
       "      <td>...</td>\n",
       "      <td>...</td>\n",
       "      <td>...</td>\n",
       "      <td>...</td>\n",
       "      <td>...</td>\n",
       "    </tr>\n",
       "    <tr>\n",
       "      <th>8042</th>\n",
       "      <td>AZ-2014-766953</td>\n",
       "      <td>Ikea Stackable Bookrack, Traditional</td>\n",
       "      <td>0.0</td>\n",
       "      <td>245.0</td>\n",
       "      <td>91.0</td>\n",
       "      <td>2</td>\n",
       "      <td>Furniture</td>\n",
       "      <td>Bookcases</td>\n",
       "    </tr>\n",
       "    <tr>\n",
       "      <th>8043</th>\n",
       "      <td>BN-2014-4140795</td>\n",
       "      <td>BIC Pencil Sharpener, Fluorescent</td>\n",
       "      <td>0.5</td>\n",
       "      <td>30.0</td>\n",
       "      <td>-10.0</td>\n",
       "      <td>2</td>\n",
       "      <td>Office Supplies</td>\n",
       "      <td>Art</td>\n",
       "    </tr>\n",
       "    <tr>\n",
       "      <th>8044</th>\n",
       "      <td>BN-2014-4140795</td>\n",
       "      <td>Avery Binder Covers, Recycled</td>\n",
       "      <td>0.5</td>\n",
       "      <td>23.0</td>\n",
       "      <td>-6.0</td>\n",
       "      <td>4</td>\n",
       "      <td>Office Supplies</td>\n",
       "      <td>Binders</td>\n",
       "    </tr>\n",
       "    <tr>\n",
       "      <th>8045</th>\n",
       "      <td>BN-2014-4140795</td>\n",
       "      <td>StarTech Phone, Red</td>\n",
       "      <td>0.5</td>\n",
       "      <td>108.0</td>\n",
       "      <td>-19.0</td>\n",
       "      <td>3</td>\n",
       "      <td>Technology</td>\n",
       "      <td>Machines</td>\n",
       "    </tr>\n",
       "    <tr>\n",
       "      <th>8046</th>\n",
       "      <td>AZ-2014-766953</td>\n",
       "      <td>Motorola Audio Dock, VoIP</td>\n",
       "      <td>0.0</td>\n",
       "      <td>867.0</td>\n",
       "      <td>251.0</td>\n",
       "      <td>5</td>\n",
       "      <td>Technology</td>\n",
       "      <td>Phones</td>\n",
       "    </tr>\n",
       "  </tbody>\n",
       "</table>\n",
       "<p>8047 rows × 8 columns</p>\n",
       "</div>"
      ],
      "text/plain": [
       "             Order ID                           Product Name  Discount  Sales  \\\n",
       "0     BN-2011-7407039            Enermax Note Cards, Premium       0.5   45.0   \n",
       "1     AZ-2011-9050313     Dania Corner Shelving, Traditional       0.0  854.0   \n",
       "2     AZ-2011-6674300  Binney & Smith Sketch Pad, Easy-Erase       0.0  140.0   \n",
       "3     BN-2011-2819714             Boston Markers, Easy-Erase       0.5   27.0   \n",
       "4     BN-2011-2819714            Eldon Folders, Single Width       0.5   17.0   \n",
       "...               ...                                    ...       ...    ...   \n",
       "8042   AZ-2014-766953   Ikea Stackable Bookrack, Traditional       0.0  245.0   \n",
       "8043  BN-2014-4140795      BIC Pencil Sharpener, Fluorescent       0.5   30.0   \n",
       "8044  BN-2014-4140795          Avery Binder Covers, Recycled       0.5   23.0   \n",
       "8045  BN-2014-4140795                    StarTech Phone, Red       0.5  108.0   \n",
       "8046   AZ-2014-766953              Motorola Audio Dock, VoIP       0.0  867.0   \n",
       "\n",
       "      Profit  Quantity         Category Sub-Category  \n",
       "0      -26.0         3  Office Supplies        Paper  \n",
       "1      290.0         7        Furniture    Bookcases  \n",
       "2       21.0         3  Office Supplies          Art  \n",
       "3      -22.0         2  Office Supplies          Art  \n",
       "4       -1.0         2  Office Supplies      Storage  \n",
       "...      ...       ...              ...          ...  \n",
       "8042    91.0         2        Furniture    Bookcases  \n",
       "8043   -10.0         2  Office Supplies          Art  \n",
       "8044    -6.0         4  Office Supplies      Binders  \n",
       "8045   -19.0         3       Technology     Machines  \n",
       "8046   251.0         5       Technology       Phones  \n",
       "\n",
       "[8047 rows x 8 columns]"
      ]
     },
     "execution_count": 162,
     "metadata": {},
     "output_type": "execute_result"
    }
   ],
   "source": [
    "df=pd.read_csv(\"DS1_C5_S5_Continuous_Concept_AmazingMart_Data.csv\")\n",
    "df"
   ]
  },
  {
   "cell_type": "code",
   "execution_count": 163,
   "id": "386e4797",
   "metadata": {},
   "outputs": [
    {
     "data": {
      "text/plain": [
       "array(['Office Supplies', 'Furniture', 'Technology'], dtype=object)"
      ]
     },
     "execution_count": 163,
     "metadata": {},
     "output_type": "execute_result"
    }
   ],
   "source": [
    "u=df[\"Category\"].unique()\n",
    "u"
   ]
  },
  {
   "cell_type": "code",
   "execution_count": 172,
   "id": "5c907369",
   "metadata": {},
   "outputs": [
    {
     "data": {
      "text/html": [
       "<div>\n",
       "<style scoped>\n",
       "    .dataframe tbody tr th:only-of-type {\n",
       "        vertical-align: middle;\n",
       "    }\n",
       "\n",
       "    .dataframe tbody tr th {\n",
       "        vertical-align: top;\n",
       "    }\n",
       "\n",
       "    .dataframe thead th {\n",
       "        text-align: right;\n",
       "    }\n",
       "</style>\n",
       "<table border=\"1\" class=\"dataframe\">\n",
       "  <thead>\n",
       "    <tr style=\"text-align: right;\">\n",
       "      <th></th>\n",
       "      <th>Order ID</th>\n",
       "      <th>Product Name</th>\n",
       "      <th>Discount</th>\n",
       "      <th>Sales</th>\n",
       "      <th>Profit</th>\n",
       "      <th>Quantity</th>\n",
       "      <th>Category</th>\n",
       "      <th>Sub-Category</th>\n",
       "    </tr>\n",
       "  </thead>\n",
       "  <tbody>\n",
       "    <tr>\n",
       "      <th>1434</th>\n",
       "      <td>BN-2011-4542382</td>\n",
       "      <td>Acco Binding Machine, Durable</td>\n",
       "      <td>0.00</td>\n",
       "      <td>263.0</td>\n",
       "      <td>63.0</td>\n",
       "      <td>5</td>\n",
       "      <td>Office Supplies</td>\n",
       "      <td>Binders</td>\n",
       "    </tr>\n",
       "    <tr>\n",
       "      <th>1451</th>\n",
       "      <td>AZ-2011-2437108</td>\n",
       "      <td>Binney &amp; Smith Pens, Blue</td>\n",
       "      <td>0.00</td>\n",
       "      <td>24.0</td>\n",
       "      <td>10.0</td>\n",
       "      <td>2</td>\n",
       "      <td>Office Supplies</td>\n",
       "      <td>Art</td>\n",
       "    </tr>\n",
       "    <tr>\n",
       "      <th>3927</th>\n",
       "      <td>BN-2013-2967589</td>\n",
       "      <td>Xerox Parchment Paper, Premium</td>\n",
       "      <td>0.00</td>\n",
       "      <td>40.0</td>\n",
       "      <td>13.0</td>\n",
       "      <td>3</td>\n",
       "      <td>Office Supplies</td>\n",
       "      <td>Paper</td>\n",
       "    </tr>\n",
       "    <tr>\n",
       "      <th>6743</th>\n",
       "      <td>AZ-2014-8054390</td>\n",
       "      <td>BIC Pens, Water Color</td>\n",
       "      <td>0.00</td>\n",
       "      <td>87.0</td>\n",
       "      <td>36.0</td>\n",
       "      <td>5</td>\n",
       "      <td>Office Supplies</td>\n",
       "      <td>Art</td>\n",
       "    </tr>\n",
       "    <tr>\n",
       "      <th>5161</th>\n",
       "      <td>AZ-2013-3127336</td>\n",
       "      <td>Harbour Creations Round Labels, Adjustable</td>\n",
       "      <td>0.00</td>\n",
       "      <td>14.0</td>\n",
       "      <td>4.0</td>\n",
       "      <td>3</td>\n",
       "      <td>Office Supplies</td>\n",
       "      <td>Labels</td>\n",
       "    </tr>\n",
       "    <tr>\n",
       "      <th>...</th>\n",
       "      <td>...</td>\n",
       "      <td>...</td>\n",
       "      <td>...</td>\n",
       "      <td>...</td>\n",
       "      <td>...</td>\n",
       "      <td>...</td>\n",
       "      <td>...</td>\n",
       "      <td>...</td>\n",
       "    </tr>\n",
       "    <tr>\n",
       "      <th>2696</th>\n",
       "      <td>AZ-2012-925819</td>\n",
       "      <td>Nokia Smart Phone, Full Size</td>\n",
       "      <td>0.10</td>\n",
       "      <td>3442.0</td>\n",
       "      <td>38.0</td>\n",
       "      <td>6</td>\n",
       "      <td>Technology</td>\n",
       "      <td>Phones</td>\n",
       "    </tr>\n",
       "    <tr>\n",
       "      <th>6705</th>\n",
       "      <td>AZ-2014-4112918</td>\n",
       "      <td>Nokia Signal Booster, Cordless</td>\n",
       "      <td>0.15</td>\n",
       "      <td>829.0</td>\n",
       "      <td>146.0</td>\n",
       "      <td>7</td>\n",
       "      <td>Technology</td>\n",
       "      <td>Phones</td>\n",
       "    </tr>\n",
       "    <tr>\n",
       "      <th>7648</th>\n",
       "      <td>AZ-2014-8232144</td>\n",
       "      <td>Samsung Headset, with Caller ID</td>\n",
       "      <td>0.00</td>\n",
       "      <td>146.0</td>\n",
       "      <td>7.0</td>\n",
       "      <td>2</td>\n",
       "      <td>Technology</td>\n",
       "      <td>Phones</td>\n",
       "    </tr>\n",
       "    <tr>\n",
       "      <th>2918</th>\n",
       "      <td>AZ-2012-7003401</td>\n",
       "      <td>Logitech Numeric Keypad, USB</td>\n",
       "      <td>0.00</td>\n",
       "      <td>140.0</td>\n",
       "      <td>60.0</td>\n",
       "      <td>3</td>\n",
       "      <td>Technology</td>\n",
       "      <td>Accessories</td>\n",
       "    </tr>\n",
       "    <tr>\n",
       "      <th>2895</th>\n",
       "      <td>AZ-2012-7281587</td>\n",
       "      <td>Hewlett Ink, Laser</td>\n",
       "      <td>0.15</td>\n",
       "      <td>632.0</td>\n",
       "      <td>-22.0</td>\n",
       "      <td>5</td>\n",
       "      <td>Technology</td>\n",
       "      <td>Copiers</td>\n",
       "    </tr>\n",
       "  </tbody>\n",
       "</table>\n",
       "<p>805 rows × 8 columns</p>\n",
       "</div>"
      ],
      "text/plain": [
       "             Order ID                                Product Name  Discount  \\\n",
       "1434  BN-2011-4542382               Acco Binding Machine, Durable      0.00   \n",
       "1451  AZ-2011-2437108                   Binney & Smith Pens, Blue      0.00   \n",
       "3927  BN-2013-2967589              Xerox Parchment Paper, Premium      0.00   \n",
       "6743  AZ-2014-8054390                       BIC Pens, Water Color      0.00   \n",
       "5161  AZ-2013-3127336  Harbour Creations Round Labels, Adjustable      0.00   \n",
       "...               ...                                         ...       ...   \n",
       "2696   AZ-2012-925819                Nokia Smart Phone, Full Size      0.10   \n",
       "6705  AZ-2014-4112918              Nokia Signal Booster, Cordless      0.15   \n",
       "7648  AZ-2014-8232144             Samsung Headset, with Caller ID      0.00   \n",
       "2918  AZ-2012-7003401                Logitech Numeric Keypad, USB      0.00   \n",
       "2895  AZ-2012-7281587                          Hewlett Ink, Laser      0.15   \n",
       "\n",
       "       Sales  Profit  Quantity         Category Sub-Category  \n",
       "1434   263.0    63.0         5  Office Supplies      Binders  \n",
       "1451    24.0    10.0         2  Office Supplies          Art  \n",
       "3927    40.0    13.0         3  Office Supplies        Paper  \n",
       "6743    87.0    36.0         5  Office Supplies          Art  \n",
       "5161    14.0     4.0         3  Office Supplies       Labels  \n",
       "...      ...     ...       ...              ...          ...  \n",
       "2696  3442.0    38.0         6       Technology       Phones  \n",
       "6705   829.0   146.0         7       Technology       Phones  \n",
       "7648   146.0     7.0         2       Technology       Phones  \n",
       "2918   140.0    60.0         3       Technology  Accessories  \n",
       "2895   632.0   -22.0         5       Technology      Copiers  \n",
       "\n",
       "[805 rows x 8 columns]"
      ]
     },
     "execution_count": 172,
     "metadata": {},
     "output_type": "execute_result"
    }
   ],
   "source": [
    "df2=pd.DataFrame()\n",
    "obj2=df.groupby(\"Category\")\n",
    "for i in u:\n",
    "    data=obj2.get_group(i)\n",
    "    data1=data.sample(frac=.1)\n",
    "    df2=df2.append(data1)\n",
    "df2"
   ]
  },
  {
   "cell_type": "code",
   "execution_count": 211,
   "id": "6c9c9dfb",
   "metadata": {},
   "outputs": [
    {
     "data": {
      "text/plain": [
       "(291.84565676649686, 485.2121564089602, 117.0)"
      ]
     },
     "execution_count": 211,
     "metadata": {},
     "output_type": "execute_result"
    }
   ],
   "source": [
    "mean,sd,median=df[\"Sales\"].mean(),df[\"Sales\"].std(),df[\"Sales\"].median()\n",
    "mean,sd,median"
   ]
  },
  {
   "cell_type": "code",
   "execution_count": 208,
   "id": "e51bd83c",
   "metadata": {},
   "outputs": [
    {
     "data": {
      "text/plain": [
       "<AxesSubplot:xlabel='Sales', ylabel='Density'>"
      ]
     },
     "execution_count": 208,
     "metadata": {},
     "output_type": "execute_result"
    },
    {
     "data": {
      "image/png": "[encoded data removed]",
      "text/plain": [
       "<Figure size 432x288 with 1 Axes>"
      ]
     },
     "metadata": {
      "needs_background": "light"
     },
     "output_type": "display_data"
    }
   ],
   "source": [
    "sb.kdeplot(df[\"Sales\"])"
   ]
  },
  {
   "cell_type": "code",
   "execution_count": 189,
   "id": "5e4db5bf",
   "metadata": {},
   "outputs": [
    {
     "data": {
      "text/plain": [
       "<AxesSubplot:xlabel='Sales', ylabel='Density'>"
      ]
     },
     "execution_count": 189,
     "metadata": {},
     "output_type": "execute_result"
    },
    {
     "data": {
      "image/png": "[encoded data removed]",
      "text/plain": [
       "<Figure size 432x288 with 1 Axes>"
      ]
     },
     "metadata": {
      "needs_background": "light"
     },
     "output_type": "display_data"
    }
   ],
   "source": [
    "sb.kdeplot(df2[\"Sales\"])"
   ]
  },
  {
   "cell_type": "code",
   "execution_count": 209,
   "id": "e81417f1",
   "metadata": {},
   "outputs": [
    {
     "data": {
      "text/plain": [
       "(-1163.7908124603837, 1747.4821259933774)"
      ]
     },
     "execution_count": 209,
     "metadata": {},
     "output_type": "execute_result"
    }
   ],
   "source": [
    "lower=mean-3*sd\n",
    "upper=mean+3*sd\n",
    "lower,upper"
   ]
  },
  {
   "cell_type": "code",
   "execution_count": 212,
   "id": "9d5a4055",
   "metadata": {},
   "outputs": [
    {
     "data": {
      "text/plain": [
       "[<matplotlib.lines.Line2D at 0x2996a328e80>]"
      ]
     },
     "execution_count": 212,
     "metadata": {},
     "output_type": "execute_result"
    },
    {
     "data": {
      "image/png": "[encoded data removed]",
      "text/plain": [
       "<Figure size 432x288 with 1 Axes>"
      ]
     },
     "metadata": {
      "needs_background": "light"
     },
     "output_type": "display_data"
    }
   ],
   "source": [
    "data=np.arange(lower,upper)\n",
    "plt.plot(data,stat.norm.pdf(data,loc=mean,scale=std))"
   ]
  },
  {
   "cell_type": "code",
   "execution_count": 203,
   "id": "82d1fca7",
   "metadata": {},
   "outputs": [],
   "source": [
    "#Standard Normal Distribution\n",
    "array=np.arange(30,100,10)"
   ]
  },
  {
   "cell_type": "code",
   "execution_count": 204,
   "id": "fcd10103",
   "metadata": {},
   "outputs": [
    {
     "data": {
      "text/plain": [
       "(array([30, 40, 50, 60, 70, 80, 90]), 60.0, 20.0)"
      ]
     },
     "execution_count": 204,
     "metadata": {},
     "output_type": "execute_result"
    }
   ],
   "source": [
    "mean=array.mean()\n",
    "std=array.std()\n",
    "array,mean,std"
   ]
  },
  {
   "cell_type": "code",
   "execution_count": 213,
   "id": "3d704daf",
   "metadata": {},
   "outputs": [],
   "source": [
    "mean2=0\n",
    "std2=1\n",
    "lower2=mean2-3*std2\n",
    "upper2=mean2+3*std2\n",
    "data2=np.arange(lower2,upper2,0.01)"
   ]
  },
  {
   "cell_type": "code",
   "execution_count": 215,
   "id": "b896cef7",
   "metadata": {},
   "outputs": [
    {
     "data": {
      "text/plain": [
       "[<matplotlib.lines.Line2D at 0x2996a3c6040>]"
      ]
     },
     "execution_count": 215,
     "metadata": {},
     "output_type": "execute_result"
    },
    {
     "data": {
      "image/png": "[encoded data removed]",
      "text/plain": [
       "<Figure size 432x288 with 1 Axes>"
      ]
     },
     "metadata": {
      "needs_background": "light"
     },
     "output_type": "display_data"
    }
   ],
   "source": [
    "plt.plot(data2,stat.norm.pdf(data2,loc=mean2,scale=std2))"
   ]
  },
  {
   "cell_type": "code",
   "execution_count": null,
   "id": "32c05a2d",
   "metadata": {},
   "outputs": [],
   "source": [
    "#to covert to standard normal distribution we can use z score instead of all this"
   ]
  },
  {
   "cell_type": "code",
   "execution_count": null,
   "id": "5582b4b5",
   "metadata": {},
   "outputs": [],
   "source": [
    "#zscore=(x-s_mean)/s_SD"
   ]
  },
  {
   "cell_type": "code",
   "execution_count": 219,
   "id": "4f25c112",
   "metadata": {},
   "outputs": [
    {
     "data": {
      "text/html": [
       "<div>\n",
       "<style scoped>\n",
       "    .dataframe tbody tr th:only-of-type {\n",
       "        vertical-align: middle;\n",
       "    }\n",
       "\n",
       "    .dataframe tbody tr th {\n",
       "        vertical-align: top;\n",
       "    }\n",
       "\n",
       "    .dataframe thead th {\n",
       "        text-align: right;\n",
       "    }\n",
       "</style>\n",
       "<table border=\"1\" class=\"dataframe\">\n",
       "  <thead>\n",
       "    <tr style=\"text-align: right;\">\n",
       "      <th></th>\n",
       "      <th>Employee_Code</th>\n",
       "      <th>Gender</th>\n",
       "      <th>Department</th>\n",
       "      <th>Annual_Salary($)</th>\n",
       "      <th>Experience</th>\n",
       "      <th>Age</th>\n",
       "      <th>Work_Experience</th>\n",
       "    </tr>\n",
       "  </thead>\n",
       "  <tbody>\n",
       "    <tr>\n",
       "      <th>0</th>\n",
       "      <td>1010</td>\n",
       "      <td>Male</td>\n",
       "      <td>IT</td>\n",
       "      <td>27000</td>\n",
       "      <td>1.0</td>\n",
       "      <td>22</td>\n",
       "      <td>0</td>\n",
       "    </tr>\n",
       "    <tr>\n",
       "      <th>1</th>\n",
       "      <td>1011</td>\n",
       "      <td>Female</td>\n",
       "      <td>IT</td>\n",
       "      <td>48000</td>\n",
       "      <td>4.0</td>\n",
       "      <td>27</td>\n",
       "      <td>4</td>\n",
       "    </tr>\n",
       "    <tr>\n",
       "      <th>2</th>\n",
       "      <td>1012</td>\n",
       "      <td>Male</td>\n",
       "      <td>Sales</td>\n",
       "      <td>75000</td>\n",
       "      <td>10.0</td>\n",
       "      <td>31</td>\n",
       "      <td>7</td>\n",
       "    </tr>\n",
       "    <tr>\n",
       "      <th>3</th>\n",
       "      <td>1013</td>\n",
       "      <td>Male</td>\n",
       "      <td>Sales</td>\n",
       "      <td>61000</td>\n",
       "      <td>4.0</td>\n",
       "      <td>29</td>\n",
       "      <td>6</td>\n",
       "    </tr>\n",
       "    <tr>\n",
       "      <th>4</th>\n",
       "      <td>1014</td>\n",
       "      <td>Female</td>\n",
       "      <td>Finance</td>\n",
       "      <td>45000</td>\n",
       "      <td>4.0</td>\n",
       "      <td>27</td>\n",
       "      <td>4</td>\n",
       "    </tr>\n",
       "    <tr>\n",
       "      <th>...</th>\n",
       "      <td>...</td>\n",
       "      <td>...</td>\n",
       "      <td>...</td>\n",
       "      <td>...</td>\n",
       "      <td>...</td>\n",
       "      <td>...</td>\n",
       "      <td>...</td>\n",
       "    </tr>\n",
       "    <tr>\n",
       "      <th>65</th>\n",
       "      <td>1074</td>\n",
       "      <td>Female</td>\n",
       "      <td>HR</td>\n",
       "      <td>82500</td>\n",
       "      <td>NaN</td>\n",
       "      <td>43</td>\n",
       "      <td>13</td>\n",
       "    </tr>\n",
       "    <tr>\n",
       "      <th>66</th>\n",
       "      <td>1075</td>\n",
       "      <td>Male</td>\n",
       "      <td>Sales</td>\n",
       "      <td>53500</td>\n",
       "      <td>NaN</td>\n",
       "      <td>28</td>\n",
       "      <td>5</td>\n",
       "    </tr>\n",
       "    <tr>\n",
       "      <th>67</th>\n",
       "      <td>1076</td>\n",
       "      <td>Female</td>\n",
       "      <td>HR</td>\n",
       "      <td>57000</td>\n",
       "      <td>NaN</td>\n",
       "      <td>29</td>\n",
       "      <td>6</td>\n",
       "    </tr>\n",
       "    <tr>\n",
       "      <th>68</th>\n",
       "      <td>1077</td>\n",
       "      <td>Male</td>\n",
       "      <td>Sales</td>\n",
       "      <td>66500</td>\n",
       "      <td>NaN</td>\n",
       "      <td>33</td>\n",
       "      <td>7</td>\n",
       "    </tr>\n",
       "    <tr>\n",
       "      <th>69</th>\n",
       "      <td>1078</td>\n",
       "      <td>Male</td>\n",
       "      <td>Finance</td>\n",
       "      <td>92000</td>\n",
       "      <td>NaN</td>\n",
       "      <td>45</td>\n",
       "      <td>19</td>\n",
       "    </tr>\n",
       "  </tbody>\n",
       "</table>\n",
       "<p>70 rows × 7 columns</p>\n",
       "</div>"
      ],
      "text/plain": [
       "    Employee_Code   Gender Department  Annual_Salary($)  Experience  Age  \\\n",
       "0             1010    Male         IT             27000         1.0   22   \n",
       "1             1011  Female         IT             48000         4.0   27   \n",
       "2             1012    Male      Sales             75000        10.0   31   \n",
       "3             1013    Male      Sales             61000         4.0   29   \n",
       "4             1014  Female    Finance             45000         4.0   27   \n",
       "..             ...     ...        ...               ...         ...  ...   \n",
       "65            1074  Female         HR             82500         NaN   43   \n",
       "66            1075    Male      Sales             53500         NaN   28   \n",
       "67            1076  Female         HR             57000         NaN   29   \n",
       "68            1077    Male      Sales             66500         NaN   33   \n",
       "69            1078    Male    Finance             92000         NaN   45   \n",
       "\n",
       "    Work_Experience  \n",
       "0                 0  \n",
       "1                 4  \n",
       "2                 7  \n",
       "3                 6  \n",
       "4                 4  \n",
       "..              ...  \n",
       "65               13  \n",
       "66                5  \n",
       "67                6  \n",
       "68                7  \n",
       "69               19  \n",
       "\n",
       "[70 rows x 7 columns]"
      ]
     },
     "execution_count": 219,
     "metadata": {},
     "output_type": "execute_result"
    }
   ],
   "source": [
    "emp_df"
   ]
  },
  {
   "cell_type": "code",
   "execution_count": 220,
   "id": "bef6c0c7",
   "metadata": {},
   "outputs": [],
   "source": [
    "emp_df[\"Zscore\"]=(emp_df[\"Annual_Salary($)\"]-emp_df[\"Annual_Salary($)\"].mean())/emp_df[\"Annual_Salary($)\"].std()"
   ]
  },
  {
   "cell_type": "code",
   "execution_count": 222,
   "id": "d56a789f",
   "metadata": {},
   "outputs": [
    {
     "data": {
      "text/html": [
       "<div>\n",
       "<style scoped>\n",
       "    .dataframe tbody tr th:only-of-type {\n",
       "        vertical-align: middle;\n",
       "    }\n",
       "\n",
       "    .dataframe tbody tr th {\n",
       "        vertical-align: top;\n",
       "    }\n",
       "\n",
       "    .dataframe thead th {\n",
       "        text-align: right;\n",
       "    }\n",
       "</style>\n",
       "<table border=\"1\" class=\"dataframe\">\n",
       "  <thead>\n",
       "    <tr style=\"text-align: right;\">\n",
       "      <th></th>\n",
       "      <th>Employee_Code</th>\n",
       "      <th>Gender</th>\n",
       "      <th>Department</th>\n",
       "      <th>Annual_Salary($)</th>\n",
       "      <th>Experience</th>\n",
       "      <th>Age</th>\n",
       "      <th>Work_Experience</th>\n",
       "      <th>Zscore</th>\n",
       "    </tr>\n",
       "  </thead>\n",
       "  <tbody>\n",
       "    <tr>\n",
       "      <th>0</th>\n",
       "      <td>1010</td>\n",
       "      <td>Male</td>\n",
       "      <td>IT</td>\n",
       "      <td>27000</td>\n",
       "      <td>1.0</td>\n",
       "      <td>22</td>\n",
       "      <td>0</td>\n",
       "      <td>-1.465272</td>\n",
       "    </tr>\n",
       "    <tr>\n",
       "      <th>1</th>\n",
       "      <td>1011</td>\n",
       "      <td>Female</td>\n",
       "      <td>IT</td>\n",
       "      <td>48000</td>\n",
       "      <td>4.0</td>\n",
       "      <td>27</td>\n",
       "      <td>4</td>\n",
       "      <td>-0.439044</td>\n",
       "    </tr>\n",
       "    <tr>\n",
       "      <th>2</th>\n",
       "      <td>1012</td>\n",
       "      <td>Male</td>\n",
       "      <td>Sales</td>\n",
       "      <td>75000</td>\n",
       "      <td>10.0</td>\n",
       "      <td>31</td>\n",
       "      <td>7</td>\n",
       "      <td>0.880392</td>\n",
       "    </tr>\n",
       "    <tr>\n",
       "      <th>3</th>\n",
       "      <td>1013</td>\n",
       "      <td>Male</td>\n",
       "      <td>Sales</td>\n",
       "      <td>61000</td>\n",
       "      <td>4.0</td>\n",
       "      <td>29</td>\n",
       "      <td>6</td>\n",
       "      <td>0.196240</td>\n",
       "    </tr>\n",
       "    <tr>\n",
       "      <th>4</th>\n",
       "      <td>1014</td>\n",
       "      <td>Female</td>\n",
       "      <td>Finance</td>\n",
       "      <td>45000</td>\n",
       "      <td>4.0</td>\n",
       "      <td>27</td>\n",
       "      <td>4</td>\n",
       "      <td>-0.585648</td>\n",
       "    </tr>\n",
       "    <tr>\n",
       "      <th>...</th>\n",
       "      <td>...</td>\n",
       "      <td>...</td>\n",
       "      <td>...</td>\n",
       "      <td>...</td>\n",
       "      <td>...</td>\n",
       "      <td>...</td>\n",
       "      <td>...</td>\n",
       "      <td>...</td>\n",
       "    </tr>\n",
       "    <tr>\n",
       "      <th>65</th>\n",
       "      <td>1074</td>\n",
       "      <td>Female</td>\n",
       "      <td>HR</td>\n",
       "      <td>82500</td>\n",
       "      <td>NaN</td>\n",
       "      <td>43</td>\n",
       "      <td>13</td>\n",
       "      <td>1.246902</td>\n",
       "    </tr>\n",
       "    <tr>\n",
       "      <th>66</th>\n",
       "      <td>1075</td>\n",
       "      <td>Male</td>\n",
       "      <td>Sales</td>\n",
       "      <td>53500</td>\n",
       "      <td>NaN</td>\n",
       "      <td>28</td>\n",
       "      <td>5</td>\n",
       "      <td>-0.170270</td>\n",
       "    </tr>\n",
       "    <tr>\n",
       "      <th>67</th>\n",
       "      <td>1076</td>\n",
       "      <td>Female</td>\n",
       "      <td>HR</td>\n",
       "      <td>57000</td>\n",
       "      <td>NaN</td>\n",
       "      <td>29</td>\n",
       "      <td>6</td>\n",
       "      <td>0.000768</td>\n",
       "    </tr>\n",
       "    <tr>\n",
       "      <th>68</th>\n",
       "      <td>1077</td>\n",
       "      <td>Male</td>\n",
       "      <td>Sales</td>\n",
       "      <td>66500</td>\n",
       "      <td>NaN</td>\n",
       "      <td>33</td>\n",
       "      <td>7</td>\n",
       "      <td>0.465014</td>\n",
       "    </tr>\n",
       "    <tr>\n",
       "      <th>69</th>\n",
       "      <td>1078</td>\n",
       "      <td>Male</td>\n",
       "      <td>Finance</td>\n",
       "      <td>92000</td>\n",
       "      <td>NaN</td>\n",
       "      <td>45</td>\n",
       "      <td>19</td>\n",
       "      <td>1.711148</td>\n",
       "    </tr>\n",
       "  </tbody>\n",
       "</table>\n",
       "<p>70 rows × 8 columns</p>\n",
       "</div>"
      ],
      "text/plain": [
       "    Employee_Code   Gender Department  Annual_Salary($)  Experience  Age  \\\n",
       "0             1010    Male         IT             27000         1.0   22   \n",
       "1             1011  Female         IT             48000         4.0   27   \n",
       "2             1012    Male      Sales             75000        10.0   31   \n",
       "3             1013    Male      Sales             61000         4.0   29   \n",
       "4             1014  Female    Finance             45000         4.0   27   \n",
       "..             ...     ...        ...               ...         ...  ...   \n",
       "65            1074  Female         HR             82500         NaN   43   \n",
       "66            1075    Male      Sales             53500         NaN   28   \n",
       "67            1076  Female         HR             57000         NaN   29   \n",
       "68            1077    Male      Sales             66500         NaN   33   \n",
       "69            1078    Male    Finance             92000         NaN   45   \n",
       "\n",
       "    Work_Experience    Zscore  \n",
       "0                 0 -1.465272  \n",
       "1                 4 -0.439044  \n",
       "2                 7  0.880392  \n",
       "3                 6  0.196240  \n",
       "4                 4 -0.585648  \n",
       "..              ...       ...  \n",
       "65               13  1.246902  \n",
       "66                5 -0.170270  \n",
       "67                6  0.000768  \n",
       "68                7  0.465014  \n",
       "69               19  1.711148  \n",
       "\n",
       "[70 rows x 8 columns]"
      ]
     },
     "execution_count": 222,
     "metadata": {},
     "output_type": "execute_result"
    }
   ],
   "source": [
    "emp_df"
   ]
  },
  {
   "cell_type": "code",
   "execution_count": 224,
   "id": "8b5dfbba",
   "metadata": {},
   "outputs": [
    {
     "data": {
      "text/html": [
       "<div>\n",
       "<style scoped>\n",
       "    .dataframe tbody tr th:only-of-type {\n",
       "        vertical-align: middle;\n",
       "    }\n",
       "\n",
       "    .dataframe tbody tr th {\n",
       "        vertical-align: top;\n",
       "    }\n",
       "\n",
       "    .dataframe thead th {\n",
       "        text-align: right;\n",
       "    }\n",
       "</style>\n",
       "<table border=\"1\" class=\"dataframe\">\n",
       "  <thead>\n",
       "    <tr style=\"text-align: right;\">\n",
       "      <th></th>\n",
       "      <th>data</th>\n",
       "      <th>cumulative_sum</th>\n",
       "    </tr>\n",
       "  </thead>\n",
       "  <tbody>\n",
       "    <tr>\n",
       "      <th>0</th>\n",
       "      <td>12</td>\n",
       "      <td>12</td>\n",
       "    </tr>\n",
       "    <tr>\n",
       "      <th>1</th>\n",
       "      <td>15</td>\n",
       "      <td>27</td>\n",
       "    </tr>\n",
       "    <tr>\n",
       "      <th>2</th>\n",
       "      <td>16</td>\n",
       "      <td>43</td>\n",
       "    </tr>\n",
       "    <tr>\n",
       "      <th>3</th>\n",
       "      <td>15</td>\n",
       "      <td>58</td>\n",
       "    </tr>\n",
       "    <tr>\n",
       "      <th>4</th>\n",
       "      <td>18</td>\n",
       "      <td>76</td>\n",
       "    </tr>\n",
       "    <tr>\n",
       "      <th>5</th>\n",
       "      <td>16</td>\n",
       "      <td>92</td>\n",
       "    </tr>\n",
       "    <tr>\n",
       "      <th>6</th>\n",
       "      <td>11</td>\n",
       "      <td>103</td>\n",
       "    </tr>\n",
       "    <tr>\n",
       "      <th>7</th>\n",
       "      <td>13</td>\n",
       "      <td>116</td>\n",
       "    </tr>\n",
       "    <tr>\n",
       "      <th>8</th>\n",
       "      <td>14</td>\n",
       "      <td>130</td>\n",
       "    </tr>\n",
       "    <tr>\n",
       "      <th>9</th>\n",
       "      <td>15</td>\n",
       "      <td>145</td>\n",
       "    </tr>\n",
       "    <tr>\n",
       "      <th>10</th>\n",
       "      <td>19</td>\n",
       "      <td>164</td>\n",
       "    </tr>\n",
       "    <tr>\n",
       "      <th>11</th>\n",
       "      <td>10</td>\n",
       "      <td>174</td>\n",
       "    </tr>\n",
       "    <tr>\n",
       "      <th>12</th>\n",
       "      <td>11</td>\n",
       "      <td>185</td>\n",
       "    </tr>\n",
       "    <tr>\n",
       "      <th>13</th>\n",
       "      <td>11</td>\n",
       "      <td>196</td>\n",
       "    </tr>\n",
       "    <tr>\n",
       "      <th>14</th>\n",
       "      <td>19</td>\n",
       "      <td>215</td>\n",
       "    </tr>\n",
       "    <tr>\n",
       "      <th>15</th>\n",
       "      <td>15</td>\n",
       "      <td>230</td>\n",
       "    </tr>\n",
       "    <tr>\n",
       "      <th>16</th>\n",
       "      <td>18</td>\n",
       "      <td>248</td>\n",
       "    </tr>\n",
       "    <tr>\n",
       "      <th>17</th>\n",
       "      <td>11</td>\n",
       "      <td>259</td>\n",
       "    </tr>\n",
       "    <tr>\n",
       "      <th>18</th>\n",
       "      <td>15</td>\n",
       "      <td>274</td>\n",
       "    </tr>\n",
       "    <tr>\n",
       "      <th>19</th>\n",
       "      <td>19</td>\n",
       "      <td>293</td>\n",
       "    </tr>\n",
       "  </tbody>\n",
       "</table>\n",
       "</div>"
      ],
      "text/plain": [
       "    data  cumulative_sum\n",
       "0     12              12\n",
       "1     15              27\n",
       "2     16              43\n",
       "3     15              58\n",
       "4     18              76\n",
       "5     16              92\n",
       "6     11             103\n",
       "7     13             116\n",
       "8     14             130\n",
       "9     15             145\n",
       "10    19             164\n",
       "11    10             174\n",
       "12    11             185\n",
       "13    11             196\n",
       "14    19             215\n",
       "15    15             230\n",
       "16    18             248\n",
       "17    11             259\n",
       "18    15             274\n",
       "19    19             293"
      ]
     },
     "execution_count": 224,
     "metadata": {},
     "output_type": "execute_result"
    }
   ],
   "source": [
    "#cumulative sum\n",
    "df5=pd.DataFrame()\n",
    "df5[\"data\"]=np.random.randint(10,20,20)\n",
    "df5['cumulative_sum']=df5['data'].cumsum()\n",
    "df5"
   ]
  },
  {
   "cell_type": "code",
   "execution_count": null,
   "id": "0d1520e0",
   "metadata": {},
   "outputs": [],
   "source": [
    "#pdf looks at probability at one point \n",
    "#cdf is total probability of anything below it"
   ]
  },
  {
   "cell_type": "code",
   "execution_count": null,
   "id": "1c84623a",
   "metadata": {},
   "outputs": [],
   "source": [
    "#demo 1 for standard normal distribution"
   ]
  },
  {
   "cell_type": "code",
   "execution_count": 228,
   "id": "43e43572",
   "metadata": {},
   "outputs": [
    {
     "data": {
      "text/plain": [
       "1.2461883591756058"
      ]
     },
     "execution_count": 228,
     "metadata": {},
     "output_type": "execute_result"
    }
   ],
   "source": [
    "#1st step:convert data into zscore\n",
    "x=80000\n",
    "mean3=emp_df1[\"Annual_Salary($)\"].mean()\n",
    "std3=emp_df1[\"Annual_Salary($)\"].std()\n",
    "zscore=(x-mean3)/std3\n",
    "zscore"
   ]
  },
  {
   "cell_type": "code",
   "execution_count": 230,
   "id": "edf97a0b",
   "metadata": {},
   "outputs": [
    {
     "data": {
      "text/plain": [
       "0.893652374154527"
      ]
     },
     "execution_count": 230,
     "metadata": {},
     "output_type": "execute_result"
    }
   ],
   "source": [
    "#probability of less than or equal to 80000\n",
    "pvalue=stat.norm.cdf(zscore)\n",
    "pvalue"
   ]
  },
  {
   "cell_type": "code",
   "execution_count": 231,
   "id": "e5c8cb50",
   "metadata": {},
   "outputs": [
    {
     "data": {
      "text/plain": [
       "0.10634762584547297"
      ]
     },
     "execution_count": 231,
     "metadata": {},
     "output_type": "execute_result"
    }
   ],
   "source": [
    "#greater than 80000\n",
    "1-pvalue"
   ]
  },
  {
   "cell_type": "code",
   "execution_count": null,
   "id": "050637ab",
   "metadata": {},
   "outputs": [],
   "source": [
    "#for single value-pdf\n",
    "#for multiple values/cumulative probability cdf by calculating zscore"
   ]
  },
  {
   "cell_type": "code",
   "execution_count": null,
   "id": "0a6d455c",
   "metadata": {},
   "outputs": [],
   "source": [
    "#demo 2"
   ]
  },
  {
   "cell_type": "code",
   "execution_count": 232,
   "id": "c94226e4",
   "metadata": {},
   "outputs": [
    {
     "data": {
      "text/plain": [
       "-2.643171806167401"
      ]
     },
     "execution_count": 232,
     "metadata": {},
     "output_type": "execute_result"
    }
   ],
   "source": [
    "x=40\n",
    "mu=70\n",
    "sigma=11.35\n",
    "z=(x-mu)/sigma\n",
    "z"
   ]
  },
  {
   "cell_type": "code",
   "execution_count": 234,
   "id": "2c547d55",
   "metadata": {},
   "outputs": [
    {
     "data": {
      "text/plain": [
       "0.004106667373140424"
      ]
     },
     "execution_count": 234,
     "metadata": {},
     "output_type": "execute_result"
    }
   ],
   "source": [
    "#not more than x\n",
    "stat.norm.cdf(z)"
   ]
  },
  {
   "cell_type": "code",
   "execution_count": null,
   "id": "04d792d1",
   "metadata": {},
   "outputs": [],
   "source": [
    "#between 55 and 80"
   ]
  },
  {
   "cell_type": "code",
   "execution_count": 235,
   "id": "edbbace1",
   "metadata": {},
   "outputs": [
    {
     "data": {
      "text/plain": [
       "(-1.3215859030837005, 0.881057268722467)"
      ]
     },
     "execution_count": 235,
     "metadata": {},
     "output_type": "execute_result"
    }
   ],
   "source": [
    "x1=55\n",
    "x2=80\n",
    "z1=(x1-mu)/sigma\n",
    "z2=(x2-mu)/sigma\n",
    "z1,z2"
   ]
  },
  {
   "cell_type": "code",
   "execution_count": 236,
   "id": "76ad5481",
   "metadata": {},
   "outputs": [
    {
     "data": {
      "text/plain": [
       "0.7177035479448073"
      ]
     },
     "execution_count": 236,
     "metadata": {},
     "output_type": "execute_result"
    }
   ],
   "source": [
    "stat.norm.cdf(z2)-stat.norm.cdf(z1)"
   ]
  },
  {
   "cell_type": "code",
   "execution_count": null,
   "id": "60e5c95d",
   "metadata": {},
   "outputs": [],
   "source": [
    "#The standard normal distribution is a normal distribution with a mean of zero and standard deviation of 1"
   ]
  },
  {
   "cell_type": "code",
   "execution_count": 2,
   "id": "e96e059b",
   "metadata": {},
   "outputs": [
    {
     "name": "stdout",
     "output_type": "stream",
     "text": [
      "0.15865525393145707\n"
     ]
    }
   ],
   "source": [
    "\n",
    "#not recommended pass z scores only\n",
    "from scipy.stats import norm\n",
    "\n",
    "mean = 60\n",
    "std = 20\n",
    "x = 40\n",
    "probability = norm.cdf(x, mean, std)\n",
    "print(probability)\n"
   ]
  },
  {
   "cell_type": "code",
   "execution_count": 3,
   "id": "c9570dc6",
   "metadata": {},
   "outputs": [
    {
     "name": "stdout",
     "output_type": "stream",
     "text": [
      "0.15865525393145707\n"
     ]
    }
   ],
   "source": [
    "from scipy.stats import norm\n",
    "\n",
    "mean = 60\n",
    "std = 20\n",
    "x = 40\n",
    "z = (x - mean) / std\n",
    "probability = norm.cdf(z)\n",
    "print(probability)\n"
   ]
  },
  {
   "cell_type": "code",
   "execution_count": null,
   "id": "cd93a661",
   "metadata": {},
   "outputs": [],
   "source": []
  }
 ],
 "metadata": {
  "kernelspec": {
   "display_name": "Python 3 (ipykernel)",
   "language": "python",
   "name": "python3"
  },
  "language_info": {
   "codemirror_mode": {
    "name": "ipython",
    "version": 3
   },
   "file_extension": ".py",
   "mimetype": "text/x-python",
   "name": "python",
   "nbconvert_exporter": "python",
   "pygments_lexer": "ipython3",
   "version": "3.9.12"
  }
 },
 "nbformat": 4,
 "nbformat_minor": 5
}
