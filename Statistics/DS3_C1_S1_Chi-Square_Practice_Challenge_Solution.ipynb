{
 "cells": [
  {
   "cell_type": "markdown",
   "metadata": {},
   "source": [
    "# Hypothesis Test using Chi-Square "
   ]
  },
  {
   "cell_type": "markdown",
   "metadata": {},
   "source": [
    "# Practice Solution"
   ]
  },
  {
   "cell_type": "markdown",
   "metadata": {},
   "source": [
    "## Task - 1: Solution"
   ]
  },
  {
   "cell_type": "markdown",
   "metadata": {},
   "source": [
    "Lucas, a supermarket store manager, wishes to investigate whether customers in his city are satisfied with the supermarket's service. So, he interviewed 207 random customers who left supermarkets in various parts of the city. He asked the customers how they would rate the service level at the supermarket from which they had just exited. The response categories are excellent, pretty good, only fair, and poor. \n",
    "\n",
    "Responses: Excellent, Pretty good, Only fair, Poor\n",
    "\n",
    "Frequency: 24, 108, 61, 14\n",
    "\n",
    "The observed responses are provided in the table below. Now you will use the chi-square goodness-of-fit test to determine whether the response frequency observed in this survey matches the expected frequency.\n",
    "\n",
    "Use a 5% level of significance, what statistical conclusion can be reached? \n",
    "\n",
    "Perform the following tasks:\n",
    "\n",
    "a. What is the null and alternate hypothesis?\n",
    "\n",
    "b. Using alpha = 0.05, what is the critical value of the hypothesis test?\n",
    "\n",
    "c. What are the test statistics for the hypothesis test?\n",
    "\n",
    "d. Draw the conclusion for the hypothesis test. Sketch the graph and state your conclusion."
   ]
  },
  {
   "cell_type": "markdown",
   "metadata": {},
   "source": [
    "### Set Null and Alternate Hypothesis"
   ]
  },
  {
   "cell_type": "markdown",
   "metadata": {},
   "source": [
    "H0: observed frequencies of responses are the same as the frequencies that would be expected.\n",
    "\n",
    "Ha: observed frequencies of responses are different from the frequencies that would be expected.\n",
    "\n",
    "\n",
    "According to the formula of the chi-square test, it is the sum squares of k independent random multinomial variables and, therefore, it extends in the positive direction of the one-tailed test.\n"
   ]
  },
  {
   "cell_type": "markdown",
   "metadata": {},
   "source": [
    "### Determine the appropriate statistical test"
   ]
  },
  {
   "cell_type": "markdown",
   "metadata": {},
   "source": [
    "ꭕ2 = ∑(fo – fc)**2/fc\n",
    "\n",
    "We will use the chi-square test and as the expected distribution is a uniform distribution, so degrees of freedom will be,\n",
    "\n",
    "df = k – 1\n"
   ]
  },
  {
   "cell_type": "markdown",
   "metadata": {},
   "source": [
    "### Set the value of alpha (α)"
   ]
  },
  {
   "cell_type": "code",
   "execution_count": 1,
   "metadata": {},
   "outputs": [],
   "source": [
    "#It is given that a 5% level of significance is to be used to test the hypothesis\n",
    "alpha=0.05"
   ]
  },
  {
   "cell_type": "markdown",
   "metadata": {},
   "source": [
    "### Establish the decision rule"
   ]
  },
  {
   "cell_type": "markdown",
   "metadata": {},
   "source": [
    "i.  If p-value < alpha: Rejection of Null Hypothesis(H0)\n",
    "\n",
    "ii. If ꭕ2-statistics > ꭕ2-critical : Rejection of Null Hypothesis(H0)"
   ]
  },
  {
   "cell_type": "markdown",
   "metadata": {},
   "source": [
    "### Analyze the data"
   ]
  },
  {
   "cell_type": "markdown",
   "metadata": {},
   "source": [
    "#### Collect sample data"
   ]
  },
  {
   "cell_type": "code",
   "execution_count": 2,
   "metadata": {},
   "outputs": [],
   "source": [
    "observed_data=[24, 108, 61, 14]\n",
    "n=len(observed_data)"
   ]
  },
  {
   "cell_type": "markdown",
   "metadata": {},
   "source": [
    "#### Calculate Expected Frequency"
   ]
  },
  {
   "cell_type": "code",
   "execution_count": 3,
   "metadata": {},
   "outputs": [
    {
     "name": "stdout",
     "output_type": "stream",
     "text": [
      "Expected frequency = 51.75\n"
     ]
    }
   ],
   "source": [
    "expected_frequency=sum(observed_data)/n\n",
    "print('Expected frequency =',expected_frequency)"
   ]
  },
  {
   "cell_type": "markdown",
   "metadata": {},
   "source": [
    "#### Calculate ꭕ2-statistic "
   ]
  },
  {
   "cell_type": "code",
   "execution_count": 4,
   "metadata": {},
   "outputs": [
    {
     "name": "stdout",
     "output_type": "stream",
     "text": [
      "ꭕ2-statistic = 105.21256038647343\n"
     ]
    }
   ],
   "source": [
    "chis=0\n",
    "for x in observed_data:\n",
    "    chis=chis+(x-expected_frequency)**2/expected_frequency\n",
    "\n",
    "print('ꭕ2-statistic =',chis)"
   ]
  },
  {
   "cell_type": "markdown",
   "metadata": {},
   "source": [
    "#### Calculate ꭕ2-critical "
   ]
  },
  {
   "cell_type": "code",
   "execution_count": 5,
   "metadata": {},
   "outputs": [
    {
     "name": "stdout",
     "output_type": "stream",
     "text": [
      "ꭕ2-critical = 7.814727903251179\n"
     ]
    }
   ],
   "source": [
    "from scipy.stats import chi2\n",
    "\n",
    "chi_critical = chi2.ppf(1-alpha, df=3)\n",
    "print(\"ꭕ2-critical =\",chi_critical)"
   ]
  },
  {
   "cell_type": "markdown",
   "metadata": {},
   "source": [
    "#### Calculate p-value"
   ]
  },
  {
   "cell_type": "code",
   "execution_count": 6,
   "metadata": {},
   "outputs": [
    {
     "name": "stdout",
     "output_type": "stream",
     "text": [
      "The p_value is 0.0\n"
     ]
    }
   ],
   "source": [
    "from scipy.stats import norm\n",
    "\n",
    "p_value = norm.sf(abs(chis),3) #One tailed test\n",
    "print(\"The p_value is \"+str(p_value))"
   ]
  },
  {
   "cell_type": "markdown",
   "metadata": {},
   "source": [
    "#### Plot chi-square distribution"
   ]
  },
  {
   "cell_type": "code",
   "execution_count": 7,
   "metadata": {},
   "outputs": [
    {
     "data": {
      "text/plain": [
       "[<matplotlib.lines.Line2D at 0x1c726a05240>]"
      ]
     },
     "execution_count": 7,
     "metadata": {},
     "output_type": "execute_result"
    },
    {
     "data": {
      "image/png": "[encoded data removed]",
      "text/plain": [
       "<Figure size 432x288 with 1 Axes>"
      ]
     },
     "metadata": {},
     "output_type": "display_data"
    }
   ],
   "source": [
    "import numpy as np\n",
    "import matplotlib.pyplot as plt\n",
    "from scipy.stats import chi2\n",
    "\n",
    "x=np.arange(0,40,0.05)\n",
    "\n",
    "plt.plot(x, chi2.pdf(x,df=3))"
   ]
  },
  {
   "cell_type": "markdown",
   "metadata": {},
   "source": [
    "### Reach a statistical conclusion"
   ]
  },
  {
   "cell_type": "markdown",
   "metadata": {},
   "source": [
    "As per, decision rule: \n",
    "\n",
    "i.  If p-value < alpha: Rejection of Null Hypothesis(H0)\n",
    "    \n",
    "ii. If ꭕ2-statistic > ꭕ2-critical : Rejection of Null Hypothesis(H0)\n",
    "\n",
    "From our study,\n",
    "\n",
    "p-value = 0.000 < alpha = 0.05, which leads to rejection of the Null Hypothesis.\n",
    "\n",
    "ꭕ2-statistic = 105.213 > ꭕ2-critical = 7.815, which leads to rejection of Null Hypothesis.\n"
   ]
  },
  {
   "cell_type": "markdown",
   "metadata": {},
   "source": [
    "### Make the business decision"
   ]
  },
  {
   "cell_type": "markdown",
   "metadata": {},
   "source": [
    "The ꭕ2-statistic value of 105.213 is greater than the ꭕ2-critical value of 7.815, so the decision is to reject the null hypothesis. \n",
    "\n",
    "This solution provides enough evidence to indicate the observed frequencies of responses are different from the frequencies that would be expected."
   ]
  },
  {
   "cell_type": "markdown",
   "metadata": {},
   "source": [
    "## Task - 2: Solution"
   ]
  },
  {
   "cell_type": "markdown",
   "metadata": {},
   "source": [
    "There is an almost 50–50 split between one-story and two-story homes. The U.S. Department of Housing and Urban Development claimed about new homes built in the United States. In addition, more than half of all new homes have three bedrooms.\n",
    "\n",
    "If a survey is done to determine whether the number of bedrooms in a new home is independent of the number of stories. \n",
    "\n",
    "Use 90% of confidence level and the following contingency table to conduct a chi-square test of independence to determine whether the number of bedrooms is independent of the number of stories.\n",
    "\n",
    "![](task2.png)\n",
    "\n",
    "a. What is the null and alternate hypothesis?\n",
    "\n",
    "b. Using alpha = 0.1, what is the critical value of the hypothesis test?\n",
    "\n",
    "c. What are the test statistics for the hypothesis test?\n",
    "\n",
    "d. Draw the conclusion for the hypothesis test. Sketch the graph, and state your conclusion."
   ]
  },
  {
   "cell_type": "markdown",
   "metadata": {},
   "source": [
    "### Set Null and Alternate Hypothesis"
   ]
  },
  {
   "cell_type": "markdown",
   "metadata": {},
   "source": [
    "H0: the number of bedrooms in a new home is independent of the number of stories.\n",
    "\n",
    "Ha: the number of bedrooms in a new home is dependent on the number of storeies.\n",
    "\n",
    "\n",
    "This test is a one-tailed test."
   ]
  },
  {
   "cell_type": "markdown",
   "metadata": {},
   "source": [
    "### Determine the appropriate statistical test"
   ]
  },
  {
   "cell_type": "markdown",
   "metadata": {},
   "source": [
    "ꭕ2 = ∑ ∑(fo – fc)**2/fc\n",
    "\n",
    "We will use the chi-square test of independence and as the values are summed across rows and columns, so degrees of freedom will be,\n",
    "\n",
    "df = (r – 1)*(c - 1) \n",
    "\n",
    "Where r = the number of rows and c = number of columns "
   ]
  },
  {
   "cell_type": "markdown",
   "metadata": {},
   "source": [
    "### Set the value of alpha (α)"
   ]
  },
  {
   "cell_type": "code",
   "execution_count": 5,
   "metadata": {},
   "outputs": [],
   "source": [
    "#It is given that a 1% level of significance is to be used to test the hypothesis.\n",
    "\n",
    "alpha=0.1"
   ]
  },
  {
   "cell_type": "markdown",
   "metadata": {},
   "source": [
    "### Establish the decision rule"
   ]
  },
  {
   "cell_type": "markdown",
   "metadata": {},
   "source": [
    "i.  If p-value < alpha: Rejection of Null Hypothesis(H0)\n",
    "\n",
    "ii. If ꭕ2-statistics > ꭕ2-critical : Rejection of Null Hypothesis(H0)"
   ]
  },
  {
   "cell_type": "markdown",
   "metadata": {},
   "source": [
    "### Set degrees of freedom"
   ]
  },
  {
   "cell_type": "markdown",
   "metadata": {},
   "source": [
    "Degrees of Freedom (df) = (2 – 1)*(3 – 1) = 2"
   ]
  },
  {
   "cell_type": "markdown",
   "metadata": {},
   "source": [
    "### Analyze the data"
   ]
  },
  {
   "cell_type": "code",
   "execution_count": 20,
   "metadata": {},
   "outputs": [
    {
     "name": "stdout",
     "output_type": "stream",
     "text": [
      "[[116, 101, 57], [90, 325, 160]]\n",
      "dof=2\n",
      "[[ 66.48292108 137.48409894  70.03297998]\n",
      " [139.51707892 288.51590106 146.96702002]]\n"
     ]
    }
   ],
   "source": [
    "from scipy.stats import chi2_contingency\n",
    "from scipy.stats import chi2\n",
    "\n",
    "# contingency table\n",
    "table = [[116,101,57],\n",
    "[90,325,160]]\n",
    "print(table)\n",
    "\n",
    "stat, p, dof, expected = chi2_contingency(table)\n",
    "print('dof=%d' % dof)\n",
    "print(expected)"
   ]
  },
  {
   "cell_type": "markdown",
   "metadata": {},
   "source": [
    "### Calculate ꭕ2-critical value:"
   ]
  },
  {
   "cell_type": "code",
   "execution_count": 21,
   "metadata": {},
   "outputs": [
    {
     "name": "stdout",
     "output_type": "stream",
     "text": [
      "probability=0.100, critical=4.605, stat=72.332\n",
      "Dependent (reject H0)\n",
      "significance=0.100, p=0.000\n",
      "Dependent (reject H0)\n"
     ]
    }
   ],
   "source": [
    "# interpret test-statistic\n",
    "\n",
    "critical = chi2.ppf(1-alpha, dof)\n",
    "print('probability=%.3f, critical=%.3f, stat=%.3f' % (alpha, critical, stat))\n",
    "if abs(stat) >= critical:\n",
    "    print('Dependent (reject H0)')\n",
    "else:\n",
    "    print('Independent (fail to reject H0)')\n",
    "\n",
    "# interpret p-value\n",
    "print('significance=%.3f, p=%.3f' % (alpha, p))\n",
    "if p <= alpha:\n",
    "    print('Dependent (reject H0)')\n",
    "else:\n",
    "    print('Independent (fail to reject H0)')"
   ]
  },
  {
   "cell_type": "markdown",
   "metadata": {},
   "source": [
    "### Plot the chi-square distribution"
   ]
  },
  {
   "cell_type": "code",
   "execution_count": 22,
   "metadata": {},
   "outputs": [
    {
     "data": {
      "text/plain": [
       "[<matplotlib.lines.Line2D at 0x1c726b14470>]"
      ]
     },
     "execution_count": 22,
     "metadata": {},
     "output_type": "execute_result"
    },
    {
     "data": {
      "image/png": "[encoded data removed]",
      "text/plain": [
       "<Figure size 432x288 with 1 Axes>"
      ]
     },
     "metadata": {},
     "output_type": "display_data"
    }
   ],
   "source": [
    "import numpy as np\n",
    "import matplotlib.pyplot as plt\n",
    "from scipy.stats import chi2\n",
    "\n",
    "x=np.arange(0,20,0.1)\n",
    "\n",
    "plt.plot(x, chi2.pdf(x,df=2))"
   ]
  },
  {
   "cell_type": "markdown",
   "metadata": {},
   "source": [
    "### Reach a statistical conclusion"
   ]
  },
  {
   "cell_type": "markdown",
   "metadata": {},
   "source": [
    "As per, decision rule: \n",
    "\n",
    "i. If p-value < alpha: Rejection of Null Hypothesis(H0)\n",
    "\n",
    "i. If ꭕ2-statistic > ꭕ2-critical : Rejection of Null Hypothesis(H0)\n",
    "\n",
    "From our study,\n",
    "\n",
    "p-value = 0.000 < alpha = 0.1, which leads to rejection of the Null Hypothesis.\n",
    "\n",
    "ꭕ2-statistic = 72.332 > ꭕ2-critical = 4.605, which leads to rejection of Null Hypothesis."
   ]
  },
  {
   "cell_type": "markdown",
   "metadata": {},
   "source": [
    "### Make the business decision"
   ]
  },
  {
   "cell_type": "markdown",
   "metadata": {},
   "source": [
    "The ꭕ2-statistic value of 72.332 is greater than the ꭕ2-critical value of 4.605, so the decision is to reject the null hypothesis. \n",
    "\n",
    "The number of bedrooms in a new home is dependent on the number of stories. \n"
   ]
  },
  {
   "cell_type": "markdown",
   "metadata": {},
   "source": [
    "# Challenge Solution"
   ]
  },
  {
   "cell_type": "markdown",
   "metadata": {},
   "source": [
    "## Task 1: Solution"
   ]
  },
  {
   "cell_type": "markdown",
   "metadata": {},
   "source": [
    "Ivy League schools receive many applications, but only some can be accepted. There are two types of applications that are accepted: regular and early decision.\n",
    "\n",
    "The school administration officer wishes to know if the number of regular applications accepted follows the same distribution as the number of early applications accepted.\n",
    "\n",
    "He randomly collected applications from 6 universities, whose data is provided in the below table.\n",
    "![](ivy_league.png)"
   ]
  },
  {
   "cell_type": "markdown",
   "metadata": {},
   "source": [
    "### Set Null and Alternate Hypothesis"
   ]
  },
  {
   "cell_type": "markdown",
   "metadata": {},
   "source": [
    "H0: The distribution of regular applications accepted is the same as the distribution of early applications accepted.​\n",
    "\n",
    "\n",
    "Ha: The distribution of regular applications accepted is not the same as the distribution of early applications accepted.​\n",
    "\n",
    "\n",
    "This test is a one-tailed test."
   ]
  },
  {
   "cell_type": "markdown",
   "metadata": {},
   "source": [
    "### Determine the appropriate statistical test"
   ]
  },
  {
   "cell_type": "markdown",
   "metadata": {},
   "source": [
    "ꭕ2 = ∑ ∑(fo – fc)**2/fc\n",
    "\n",
    "We will use the chi-square test of homogeneity and degrees of freedom will be,\n",
    "\n",
    "df = (c – 1)\n",
    "\n",
    "Where c = number of columns "
   ]
  },
  {
   "cell_type": "markdown",
   "metadata": {},
   "source": [
    "### Set the value of alpha (α)"
   ]
  },
  {
   "cell_type": "markdown",
   "metadata": {},
   "source": [
    "It is given that a 5% level of significance is to be used to test the hypothesis.\n",
    "\n",
    "alpha (α) = 0.05"
   ]
  },
  {
   "cell_type": "markdown",
   "metadata": {},
   "source": [
    "### Establish the decision rule"
   ]
  },
  {
   "cell_type": "markdown",
   "metadata": {},
   "source": [
    "i.  If p-value < alpha: Rejection of Null Hypothesis(H0)\n",
    "\n",
    "ii. If ꭕ2-statistics > ꭕ2-critical : Rejection of Null Hypothesis(H0)"
   ]
  },
  {
   "cell_type": "markdown",
   "metadata": {},
   "source": [
    "### Analyze the data"
   ]
  },
  {
   "cell_type": "code",
   "execution_count": 1,
   "metadata": {},
   "outputs": [
    {
     "name": "stdout",
     "output_type": "stream",
     "text": [
      "[[2115, 1792, 5306, 1734, 2685, 1245], [577, 627, 1228, 444, 1195, 761]]\n",
      "dof=5\n",
      "[[2032.0099447  1825.94058552 4932.07762951 1644.0258765  2928.75133188\n",
      "  1514.19463189]\n",
      " [ 659.9900553   593.05941448 1601.92237049  533.9741235   951.24866812\n",
      "   491.80536811]]\n"
     ]
    }
   ],
   "source": [
    "from scipy.stats import chi2_contingency\n",
    "from scipy.stats import chi2\n",
    "\n",
    "# contingency table\n",
    "table = [[2115,1792,5306,1734,2685,1245],\n",
    "[577,627,1228,444,1195,761]]\n",
    "print(table)\n",
    "stat, p, dof, expected = chi2_contingency(table)\n",
    "print('dof=%d' % dof)\n",
    "print(expected)"
   ]
  },
  {
   "cell_type": "markdown",
   "metadata": {},
   "source": [
    "### Calculate ꭕ2-critical value:"
   ]
  },
  {
   "cell_type": "code",
   "execution_count": 5,
   "metadata": {},
   "outputs": [
    {
     "name": "stdout",
     "output_type": "stream",
     "text": [
      "probability=0.950, critical=11.070, stat=430.063\n",
      "Dependent (reject H0)\n",
      "significance=0.050, p=0.000\n",
      "Dependent (reject H0)\n"
     ]
    }
   ],
   "source": [
    "# interpret test-statistic\n",
    "prob = 0.95\n",
    "critical = chi2.ppf(prob, dof)\n",
    "print('probability=%.3f, critical=%.3f, stat=%.3f' % (prob, critical, stat))\n",
    "if abs(stat) >= critical:\n",
    "    print('Dependent (reject H0)')\n",
    "else:\n",
    "    print('Independent (fail to reject H0)')\n",
    "\n",
    "# interpret p-value\n",
    "alpha = 1.0 - prob\n",
    "print('significance=%.3f, p=%.3f' % (alpha, p))\n",
    "if p <= alpha:\n",
    "    print('Dependent (reject H0)')\n",
    "else:\n",
    "    print('Independent (fail to reject H0)')"
   ]
  },
  {
   "cell_type": "markdown",
   "metadata": {},
   "source": [
    "### Plot the chi-square distribution"
   ]
  },
  {
   "cell_type": "code",
   "execution_count": 11,
   "metadata": {},
   "outputs": [
    {
     "data": {
      "text/plain": [
       "[<matplotlib.lines.Line2D at 0x1cd5be114a8>]"
      ]
     },
     "execution_count": 11,
     "metadata": {},
     "output_type": "execute_result"
    },
    {
     "data": {
      "image/png": "[encoded data removed]",
      "text/plain": [
       "<Figure size 432x288 with 1 Axes>"
      ]
     },
     "metadata": {},
     "output_type": "display_data"
    }
   ],
   "source": [
    "import numpy as np\n",
    "import matplotlib.pyplot as plt\n",
    "from scipy.stats import chi2\n",
    "\n",
    "x=np.arange(0,20,0.05)\n",
    "\n",
    "plt.plot(x, chi2.pdf(x,df=5))"
   ]
  },
  {
   "cell_type": "markdown",
   "metadata": {},
   "source": [
    "### Reach a statistical conclusion"
   ]
  },
  {
   "cell_type": "markdown",
   "metadata": {},
   "source": [
    "As per the decision rule: \n",
    "\n",
    "i.  If p-value < alpha: Rejection of Null Hypothesis(H0)\n",
    "\n",
    "ii. If ꭕ2-statistic > ꭕ2-critical : Rejection of Null Hypothesis(H0)\n",
    "\n",
    "\n",
    "From our study,\n",
    "\n",
    "p-value = 0.000 < alpha = 0.05, which leads to rejection of the Null Hypothesis.\n",
    "\n",
    "ꭕ2-statistic = 430 > ꭕ2-critical = 11.070, which leads to rejection of Null Hypothesis."
   ]
  },
  {
   "cell_type": "markdown",
   "metadata": {},
   "source": [
    "### Make the business decision"
   ]
  },
  {
   "cell_type": "markdown",
   "metadata": {},
   "source": [
    "The ꭕ2-statistic value of 430 is greater than the ꭕ2-critical value of 11.070, so the decision is to reject the null hypothesis.\n",
    "\n",
    "The two types of applications are not from the same distribution."
   ]
  },
  {
   "cell_type": "markdown",
   "metadata": {},
   "source": [
    "## Task - 2: Solution"
   ]
  },
  {
   "cell_type": "markdown",
   "metadata": {},
   "source": [
    "In one employment satisfaction survey, successful female entrepreneurs were asked to state their personal definition of success in terms of several categories from which they could select. 40% percent responded that happiness was their definition of success, 18% said that sales/profit was their definition, 12% responded that helping others was their definition, and 30% responded that achievements/challenge was their definition.​\n",
    "\n",
    "Dylan, an HR analyst, wanted to determine whether male entrepreneurs felt the same way and he took a random sample of men. The following is the sample data. ​\n",
    "\n",
    "Which type of test statistic will Dylan use to determine whether the observed frequency distribution of data for men is the same as the distribution for women? Dylan is asked to use of 5% level of significance to conduct the test and interpret his test result. Help him to guide in each step of the hypothesis test.​"
   ]
  },
  {
   "cell_type": "markdown",
   "metadata": {},
   "source": [
    "### Establish the null and alternate hypothesis"
   ]
  },
  {
   "cell_type": "markdown",
   "metadata": {},
   "source": [
    "H0: observed frequency distribution of data for men is the same as the distribution for women.\n",
    "\n",
    "Ha: observed frequency distribution of data for men is different from the distribution for women.\n",
    "\n",
    "According to the formula of the chi-square test, it is the sum squares of k independent random multinomial variables and therefore it extends in the positive direction of the one-tailed test."
   ]
  },
  {
   "cell_type": "markdown",
   "metadata": {},
   "source": [
    "### Determine the appropriate statistical test"
   ]
  },
  {
   "cell_type": "markdown",
   "metadata": {},
   "source": [
    "ꭕ2 = ∑ ∑(fo – fc)**2/fc\n",
    "\n",
    "We will use the chi-square test of homogeneity and degrees of freedom will be,\n",
    "\n",
    "df = (c – 1)\n",
    "\n",
    "Where c = number of columns "
   ]
  },
  {
   "cell_type": "markdown",
   "metadata": {},
   "source": [
    "### Set the value of alpha (α)"
   ]
  },
  {
   "cell_type": "markdown",
   "metadata": {},
   "source": [
    "It is given that a 5% level of significance is to be used to test the hypothesis.\n",
    "\n",
    "alpha (α) = 0.05"
   ]
  },
  {
   "cell_type": "markdown",
   "metadata": {},
   "source": [
    "### Establish the decision rule"
   ]
  },
  {
   "cell_type": "markdown",
   "metadata": {},
   "source": [
    "i. If ꭕ2-statistics > ꭕ2-critical : Rejection of Null Hypothesis(H0)"
   ]
  },
  {
   "cell_type": "markdown",
   "metadata": {},
   "source": [
    "### Analyze the data"
   ]
  },
  {
   "cell_type": "code",
   "execution_count": 12,
   "metadata": {},
   "outputs": [
    {
     "name": "stdout",
     "output_type": "stream",
     "text": [
      "[[40, 18, 12, 30], [42, 95, 27, 63]]\n",
      "dof=3\n",
      "[[25.0764526  34.55657492 11.9266055  28.44036697]\n",
      " [56.9235474  78.44342508 27.0733945  64.55963303]]\n"
     ]
    }
   ],
   "source": [
    "from scipy.stats import chi2_contingency\n",
    "from scipy.stats import chi2\n",
    "\n",
    "# contingency table\n",
    "table = [[40,18,12,30],\n",
    "[42, 95, 27, 63]]\n",
    "print(table)\n",
    "stat, p, dof, expected = chi2_contingency(table)\n",
    "print('dof=%d' % dof)\n",
    "print(expected)"
   ]
  },
  {
   "cell_type": "markdown",
   "metadata": {},
   "source": [
    "### Calculate ꭕ2-critical value:"
   ]
  },
  {
   "cell_type": "code",
   "execution_count": 13,
   "metadata": {},
   "outputs": [
    {
     "name": "stdout",
     "output_type": "stream",
     "text": [
      "probability=0.950, critical=7.815, stat=24.345\n",
      "Dependent (reject H0)\n",
      "significance=0.050, p=0.000\n",
      "Dependent (reject H0)\n"
     ]
    }
   ],
   "source": [
    "# interpret test-statistic\n",
    "prob = 0.95\n",
    "critical = chi2.ppf(prob, dof)\n",
    "print('probability=%.3f, critical=%.3f, stat=%.3f' % (prob, critical, stat))\n",
    "if abs(stat) >= critical:\n",
    "    print('Dependent (reject H0)')\n",
    "else:\n",
    "    print('Independent (fail to reject H0)')\n",
    "\n",
    "# interpret p-value\n",
    "alpha = 1.0 - prob\n",
    "print('significance=%.3f, p=%.3f' % (alpha, p))\n",
    "if p <= alpha:\n",
    "    print('Dependent (reject H0)')\n",
    "else:\n",
    "    print('Independent (fail to reject H0)')"
   ]
  },
  {
   "cell_type": "markdown",
   "metadata": {},
   "source": [
    "### Plot the chi-square distribution"
   ]
  },
  {
   "cell_type": "code",
   "execution_count": 14,
   "metadata": {},
   "outputs": [
    {
     "data": {
      "text/plain": [
       "[<matplotlib.lines.Line2D at 0x26670d4ee10>]"
      ]
     },
     "execution_count": 14,
     "metadata": {},
     "output_type": "execute_result"
    },
    {
     "data": {
      "image/png": "[encoded data removed]",
      "text/plain": [
       "<Figure size 432x288 with 1 Axes>"
      ]
     },
     "metadata": {
      "needs_background": "light"
     },
     "output_type": "display_data"
    }
   ],
   "source": [
    "import numpy as np\n",
    "import matplotlib.pyplot as plt\n",
    "from scipy.stats import chi2\n",
    "\n",
    "x=np.arange(0,20,0.05)\n",
    "\n",
    "plt.plot(x, chi2.pdf(x,df=3))"
   ]
  },
  {
   "cell_type": "markdown",
   "metadata": {},
   "source": [
    "### Reach a statistical conclusion"
   ]
  },
  {
   "cell_type": "markdown",
   "metadata": {},
   "source": [
    "As per the decision rule: \n",
    "\n",
    "i.  If p-value < alpha: Rejection of Null Hypothesis(H0)\n",
    "\n",
    "ii. If ꭕ2-statistic > ꭕ2-critical : Rejection of Null Hypothesis(H0)\n",
    "\n",
    "\n",
    "From our study,\n",
    "\n",
    "p-value = 0.000 < alpha = 0.05, which leads to rejection of the Null Hypothesis.\n",
    "\n",
    "ꭕ2-statistic = 24.345 > ꭕ2-critical = 7.815, which leads to rejection of Null Hypothesis."
   ]
  },
  {
   "cell_type": "markdown",
   "metadata": {},
   "source": [
    "### Make the business decision"
   ]
  },
  {
   "cell_type": "markdown",
   "metadata": {},
   "source": [
    "The ꭕ2-statistic value of 24.345 is greater than the ꭕ2-critical value of 7.815, so the decision is to reject the null hypothesis.\n",
    "\n",
    "observed frequency distribution of data for men is different from the distribution for women."
   ]
  }
 ],
 "metadata": {
  "kernelspec": {
   "display_name": "Python 3 (ipykernel)",
   "language": "python",
   "name": "python3"
  },
  "language_info": {
   "codemirror_mode": {
    "name": "ipython",
    "version": 3
   },
   "file_extension": ".py",
   "mimetype": "text/x-python",
   "name": "python",
   "nbconvert_exporter": "python",
   "pygments_lexer": "ipython3",
   "version": "3.9.12"
  }
 },
 "nbformat": 4,
 "nbformat_minor": 2
}
