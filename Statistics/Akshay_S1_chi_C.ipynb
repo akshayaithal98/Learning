{
 "cells": [
  {
   "cell_type": "markdown",
   "id": "cfc3fb94",
   "metadata": {},
   "source": [
    "### <div class=\"alert alert-info\" align=\"center\">Chi-Square-Test</div>"
   ]
  },
  {
   "cell_type": "code",
   "execution_count": 1,
   "id": "ba644d1f",
   "metadata": {},
   "outputs": [],
   "source": [
    "import pandas as pd\n",
    "import numpy as np\n",
    "import scipy.stats as stat\n",
    "import matplotlib.pyplot as plt"
   ]
  },
  {
   "cell_type": "markdown",
   "id": "15c6c915",
   "metadata": {},
   "source": [
    "### Task1 "
   ]
  },
  {
   "cell_type": "markdown",
   "id": "0c1b0921",
   "metadata": {},
   "source": [
    "- Defining Hypothesis"
   ]
  },
  {
   "cell_type": "markdown",
   "id": "16f7fc07",
   "metadata": {},
   "source": [
    "Null Hypothesis H0 --> Both types of applications have same distribution.\n",
    "\n",
    "Alternate Hypothesis --> Both types of applications have different distributions"
   ]
  },
  {
   "cell_type": "markdown",
   "id": "f78c14e5",
   "metadata": {},
   "source": [
    "- Appropriate Hypothesis test is Chi-square test since we are doing test of independence or association"
   ]
  },
  {
   "cell_type": "markdown",
   "id": "efc06bf8",
   "metadata": {},
   "source": [
    "- Level of Significance"
   ]
  },
  {
   "cell_type": "code",
   "execution_count": 3,
   "id": "25259620",
   "metadata": {},
   "outputs": [],
   "source": [
    "alpha=0.05"
   ]
  },
  {
   "cell_type": "markdown",
   "id": "99785b7d",
   "metadata": {},
   "source": [
    "- Given data table"
   ]
  },
  {
   "cell_type": "code",
   "execution_count": 4,
   "id": "01d4e8d4",
   "metadata": {},
   "outputs": [],
   "source": [
    "table = [[2115,1792,5306,1734,2685,1245],[577,627,1228,444,1195,761]]"
   ]
  },
  {
   "cell_type": "markdown",
   "id": "2c940fd8",
   "metadata": {},
   "source": [
    "- degree of freedom : (6-1)*(2-1)"
   ]
  },
  {
   "cell_type": "code",
   "execution_count": null,
   "id": "6ea7d757",
   "metadata": {},
   "outputs": [],
   "source": [
    "dof=5"
   ]
  },
  {
   "cell_type": "markdown",
   "id": "933a6944",
   "metadata": {},
   "source": [
    "- Analyzing the data"
   ]
  },
  {
   "cell_type": "code",
   "execution_count": 5,
   "id": "9af1d3ff",
   "metadata": {},
   "outputs": [],
   "source": [
    "chis,pvalue,dof,expected=stat.chi2_contingency(table)"
   ]
  },
  {
   "cell_type": "code",
   "execution_count": 6,
   "id": "457e04d1",
   "metadata": {},
   "outputs": [
    {
     "name": "stdout",
     "output_type": "stream",
     "text": [
      " ꭕ2-statistic =  430.06336975063317 \n",
      " P-value =  9.796462672909725e-91 \n",
      " Expected : \n",
      " [[2032.0099447  1825.94058552 4932.07762951 1644.0258765  2928.75133188\n",
      "  1514.19463189]\n",
      " [ 659.9900553   593.05941448 1601.92237049  533.9741235   951.24866812\n",
      "   491.80536811]]\n"
     ]
    }
   ],
   "source": [
    "print(' ꭕ2-statistic = ',chis,\"\\n\",'P-value = ',pvalue,\"\\n\",\"Expected : \\n\",expected)"
   ]
  },
  {
   "cell_type": "markdown",
   "id": "e9c541af",
   "metadata": {},
   "source": [
    "- Chi-square critical"
   ]
  },
  {
   "cell_type": "code",
   "execution_count": 9,
   "id": "d9f030ec",
   "metadata": {},
   "outputs": [
    {
     "name": "stdout",
     "output_type": "stream",
     "text": [
      "ꭕ2-critical = 11.070497693516351\n"
     ]
    }
   ],
   "source": [
    "critical=stat.chi2.ppf(1-alpha,dof)\n",
    "print(\"ꭕ2-critical =\",critical)"
   ]
  },
  {
   "cell_type": "markdown",
   "id": "ff92b86a",
   "metadata": {},
   "source": [
    "- Plotting the chi-square distribution for degree of freedom 5"
   ]
  },
  {
   "cell_type": "code",
   "execution_count": 23,
   "id": "08d4ff81",
   "metadata": {},
   "outputs": [
    {
     "data": {
      "text/plain": [
       "[<matplotlib.lines.Line2D at 0x246b7c66ca0>]"
      ]
     },
     "execution_count": 23,
     "metadata": {},
     "output_type": "execute_result"
    },
    {
     "data": {
      "image/png": "[encoded data removed]",
      "text/plain": [
       "<Figure size 432x288 with 1 Axes>"
      ]
     },
     "metadata": {
      "needs_background": "light"
     },
     "output_type": "display_data"
    }
   ],
   "source": [
    "x=np.arange(0,20,0.01)\n",
    "plt.plot(x,stat.chi2.pdf(x,5))"
   ]
  },
  {
   "cell_type": "markdown",
   "id": "43e0412c",
   "metadata": {},
   "source": [
    "- Conclusions"
   ]
  },
  {
   "cell_type": "code",
   "execution_count": 13,
   "id": "9c12371c",
   "metadata": {},
   "outputs": [
    {
     "name": "stdout",
     "output_type": "stream",
     "text": [
      "Reject the null hypothesis\n"
     ]
    }
   ],
   "source": [
    "if pvalue>alpha and chis<critical:\n",
    "    print(\"Accept the null hypothesis\")\n",
    "else:\n",
    "    print(\"Reject the null hypothesis\")"
   ]
  },
  {
   "cell_type": "markdown",
   "id": "1ab1b387",
   "metadata": {},
   "source": [
    "- The ꭕ2-statistic value  is greater than the ꭕ2-critical value \n",
    "- Pvalue is lesser than alpha\n",
    "- So we reject the null hypothesis\n",
    "- This means that both the regular and early decision applications have different distributions"
   ]
  },
  {
   "cell_type": "markdown",
   "id": "71fe389f",
   "metadata": {},
   "source": [
    "<hr STYLE=\"background-color:#000000; height:10px; width:100%;\" >"
   ]
  },
  {
   "cell_type": "markdown",
   "id": "713d054d",
   "metadata": {},
   "source": [
    "### Task2"
   ]
  },
  {
   "cell_type": "markdown",
   "id": "68242626",
   "metadata": {},
   "source": [
    "- Defining the hypothesis"
   ]
  },
  {
   "cell_type": "markdown",
   "id": "240eba92",
   "metadata": {},
   "source": [
    "Null Hypothesis H0 --> Observed Frequency distribution of men's and women's data is same .\n",
    "\n",
    "Alternate Hypothesis --> Observed Frequency distribution of men's and women's data is different."
   ]
  },
  {
   "cell_type": "markdown",
   "id": "27622cd4",
   "metadata": {},
   "source": [
    "- Level of Significance"
   ]
  },
  {
   "cell_type": "code",
   "execution_count": 15,
   "id": "6b0801e2",
   "metadata": {},
   "outputs": [],
   "source": [
    "alpha=0.05"
   ]
  },
  {
   "cell_type": "markdown",
   "id": "04049a7d",
   "metadata": {},
   "source": [
    "- Observed data"
   ]
  },
  {
   "cell_type": "code",
   "execution_count": 16,
   "id": "4b77548b",
   "metadata": {},
   "outputs": [],
   "source": [
    "table=[[40,18,12,30],[42,95,27,63]]"
   ]
  },
  {
   "cell_type": "markdown",
   "id": "4b4f1260",
   "metadata": {},
   "source": [
    "- degree of freedom : (2-1)*(4-1)"
   ]
  },
  {
   "cell_type": "code",
   "execution_count": 17,
   "id": "8004f61e",
   "metadata": {},
   "outputs": [],
   "source": [
    "dof=3"
   ]
  },
  {
   "cell_type": "markdown",
   "id": "ff25f25d",
   "metadata": {},
   "source": [
    "- Pvalue,chi-square statistic and expected values"
   ]
  },
  {
   "cell_type": "code",
   "execution_count": 18,
   "id": "b8e08f25",
   "metadata": {},
   "outputs": [
    {
     "name": "stdout",
     "output_type": "stream",
     "text": [
      " ꭕ2-statistic =  24.34466698569127 \n",
      " P-value =  2.116488204898397e-05 \n",
      " Expected : \n",
      " [[25.0764526  34.55657492 11.9266055  28.44036697]\n",
      " [56.9235474  78.44342508 27.0733945  64.55963303]]\n"
     ]
    }
   ],
   "source": [
    "chis,pvalue,dof,expected=stat.chi2_contingency(table)\n",
    "print(' ꭕ2-statistic = ',chis,\"\\n\",'P-value = ',pvalue,\"\\n\",\"Expected : \\n\",expected)"
   ]
  },
  {
   "cell_type": "markdown",
   "id": "7d61eaf8",
   "metadata": {},
   "source": [
    "- Chi-square Critical"
   ]
  },
  {
   "cell_type": "code",
   "execution_count": 19,
   "id": "1e5e1ce7",
   "metadata": {},
   "outputs": [
    {
     "name": "stdout",
     "output_type": "stream",
     "text": [
      "ꭕ2-critical = 7.814727903251179\n"
     ]
    }
   ],
   "source": [
    "critical=stat.chi2.ppf(1-alpha,dof)\n",
    "print(\"ꭕ2-critical =\",critical)"
   ]
  },
  {
   "cell_type": "markdown",
   "id": "8ce557ab",
   "metadata": {},
   "source": [
    "- Plotting the chi-square distribution for degree of freedom 3"
   ]
  },
  {
   "cell_type": "code",
   "execution_count": 21,
   "id": "caf62bd7",
   "metadata": {},
   "outputs": [
    {
     "data": {
      "text/plain": [
       "[<matplotlib.lines.Line2D at 0x246b7bfda60>]"
      ]
     },
     "execution_count": 21,
     "metadata": {},
     "output_type": "execute_result"
    },
    {
     "data": {
      "image/png": "[encoded data removed]",
      "text/plain": [
       "<Figure size 432x288 with 1 Axes>"
      ]
     },
     "metadata": {
      "needs_background": "light"
     },
     "output_type": "display_data"
    }
   ],
   "source": [
    "x=np.arange(0,20,0.01)\n",
    "plt.plot(x,stat.chi2.pdf(x,3))"
   ]
  },
  {
   "cell_type": "markdown",
   "id": "2076ce88",
   "metadata": {},
   "source": [
    "- Conclusions"
   ]
  },
  {
   "cell_type": "code",
   "execution_count": 22,
   "id": "2de05ca1",
   "metadata": {},
   "outputs": [
    {
     "name": "stdout",
     "output_type": "stream",
     "text": [
      "Reject the null hypothesis\n"
     ]
    }
   ],
   "source": [
    "if pvalue>alpha and chis<critical:\n",
    "    print(\"Accept the null hypothesis\")\n",
    "else:\n",
    "    print(\"Reject the null hypothesis\")"
   ]
  },
  {
   "cell_type": "markdown",
   "id": "264bc292",
   "metadata": {},
   "source": [
    "- The ꭕ2-statistic value  is greater than the ꭕ2-critical value \n",
    "- Pvalue is lesser than alpha\n",
    "- The decision is to reject the null hypothesis.\n",
    "- This means that the observed frequency distribution of data for men is different from the distribution for women."
   ]
  }
 ],
 "metadata": {
  "kernelspec": {
   "display_name": "Python 3 (ipykernel)",
   "language": "python",
   "name": "python3"
  },
  "language_info": {
   "codemirror_mode": {
    "name": "ipython",
    "version": 3
   },
   "file_extension": ".py",
   "mimetype": "text/x-python",
   "name": "python",
   "nbconvert_exporter": "python",
   "pygments_lexer": "ipython3",
   "version": "3.9.12"
  }
 },
 "nbformat": 4,
 "nbformat_minor": 5
}
