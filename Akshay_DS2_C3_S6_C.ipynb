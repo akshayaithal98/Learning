{
 "cells": [
  {
   "cell_type": "markdown",
   "id": "383069d6",
   "metadata": {},
   "source": [
    "<div align=\"center\" style=\"color:Blue;font-size:20px\">Predict Interest Level of Apartments</div>"
   ]
  },
  {
   "cell_type": "markdown",
   "id": "4bf46a0c",
   "metadata": {},
   "source": [
    "### Task1 :Data Loading"
   ]
  },
  {
   "cell_type": "markdown",
   "id": "ce879b11",
   "metadata": {},
   "source": [
    "- Importing libraries and dataset"
   ]
  },
  {
   "cell_type": "code",
   "execution_count": 108,
   "id": "504151b4",
   "metadata": {},
   "outputs": [],
   "source": [
    "import pandas as pd\n",
    "import numpy as np\n",
    "import seaborn as sns\n",
    "import matplotlib.pyplot as plt\n",
    "from sklearn.preprocessing import LabelEncoder,StandardScaler\n",
    "from sklearn.model_selection import train_test_split,GridSearchCV,StratifiedKFold,cross_val_score\n",
    "import reverse_geocoder as rg\n",
    "from sklearn.tree import DecisionTreeClassifier\n",
    "from sklearn.ensemble import RandomForestClassifier\n",
    "from sklearn.metrics import accuracy_score,precision_score,recall_score,f1_score"
   ]
  },
  {
   "cell_type": "code",
   "execution_count": 109,
   "id": "236c6fb0",
   "metadata": {},
   "outputs": [
    {
     "data": {
      "text/html": [
       "<div>\n",
       "<style scoped>\n",
       "    .dataframe tbody tr th:only-of-type {\n",
       "        vertical-align: middle;\n",
       "    }\n",
       "\n",
       "    .dataframe tbody tr th {\n",
       "        vertical-align: top;\n",
       "    }\n",
       "\n",
       "    .dataframe thead th {\n",
       "        text-align: right;\n",
       "    }\n",
       "</style>\n",
       "<table border=\"1\" class=\"dataframe\">\n",
       "  <thead>\n",
       "    <tr style=\"text-align: right;\">\n",
       "      <th></th>\n",
       "      <th>Unnamed: 0</th>\n",
       "      <th>bathrooms</th>\n",
       "      <th>bedrooms</th>\n",
       "      <th>building_id</th>\n",
       "      <th>created</th>\n",
       "      <th>description</th>\n",
       "      <th>display_address</th>\n",
       "      <th>features</th>\n",
       "      <th>latitude</th>\n",
       "      <th>listing_id</th>\n",
       "      <th>longitude</th>\n",
       "      <th>manager_id</th>\n",
       "      <th>photos</th>\n",
       "      <th>price</th>\n",
       "      <th>street_address</th>\n",
       "      <th>interest_level</th>\n",
       "    </tr>\n",
       "  </thead>\n",
       "  <tbody>\n",
       "    <tr>\n",
       "      <th>0</th>\n",
       "      <td>105408</td>\n",
       "      <td>1.0</td>\n",
       "      <td>0</td>\n",
       "      <td>0f9d07991ba14c82d3d368b72d90270a</td>\n",
       "      <td>04-04-2016 03:34</td>\n",
       "      <td>Gorgeous unit in one of the most genuinely cov...</td>\n",
       "      <td>230 Central Park South</td>\n",
       "      <td>['Cats Allowed', 'Dogs Allowed', 'Doorman', 'E...</td>\n",
       "      <td>40.7672</td>\n",
       "      <td>6827153</td>\n",
       "      <td>-73.9802</td>\n",
       "      <td>932589de9230b697808216774fa26bd4</td>\n",
       "      <td>['https://photos.renthop.com/2/6821519_0a14cc2...</td>\n",
       "      <td>2800</td>\n",
       "      <td>230 Central Park South</td>\n",
       "      <td>high</td>\n",
       "    </tr>\n",
       "    <tr>\n",
       "      <th>1</th>\n",
       "      <td>110219</td>\n",
       "      <td>1.0</td>\n",
       "      <td>1</td>\n",
       "      <td>564d6f608f41e8d4a5e181c4e068e3d9</td>\n",
       "      <td>21-04-2016 20:40</td>\n",
       "      <td>Enormous 1 bedroom apartment in Murray Hill. F...</td>\n",
       "      <td>E 39th St</td>\n",
       "      <td>['Cats Allowed', 'Dogs Allowed', 'Reduced Fee'...</td>\n",
       "      <td>40.7483</td>\n",
       "      <td>6908998</td>\n",
       "      <td>-73.9741</td>\n",
       "      <td>489ad933197469ae66acd1f7ce18f908</td>\n",
       "      <td>['https://photos.renthop.com/2/6908998_6b00895...</td>\n",
       "      <td>2100</td>\n",
       "      <td>243 E 39th St</td>\n",
       "      <td>high</td>\n",
       "    </tr>\n",
       "    <tr>\n",
       "      <th>2</th>\n",
       "      <td>56113</td>\n",
       "      <td>1.0</td>\n",
       "      <td>1</td>\n",
       "      <td>69790fbf0bf7e22b1d0ebc721cf0f633</td>\n",
       "      <td>14-05-2016 05:44</td>\n",
       "      <td>This 1 bedroom, 1 bathroom spacious apartment ...</td>\n",
       "      <td>E 25th St.</td>\n",
       "      <td>['Elevator', 'Furnished', 'Hardwood Floors']</td>\n",
       "      <td>40.7399</td>\n",
       "      <td>7013774</td>\n",
       "      <td>-73.9812</td>\n",
       "      <td>792c0f1ad1431397c65db3e69b770928</td>\n",
       "      <td>['https://photos.renthop.com/2/7013774_e7ead5d...</td>\n",
       "      <td>3000</td>\n",
       "      <td>217 E 25th St.</td>\n",
       "      <td>high</td>\n",
       "    </tr>\n",
       "    <tr>\n",
       "      <th>3</th>\n",
       "      <td>37765</td>\n",
       "      <td>1.0</td>\n",
       "      <td>2</td>\n",
       "      <td>d0234abbc01a982d54e8d446acc03405</td>\n",
       "      <td>05-06-2016 03:37</td>\n",
       "      <td>SPECTACULAR2 BEDROOM APARTMENT IN LUXURY 24HR ...</td>\n",
       "      <td>West 34th Street</td>\n",
       "      <td>['Doorman', 'Elevator', 'Dishwasher', 'Hardwoo...</td>\n",
       "      <td>40.7530</td>\n",
       "      <td>7113518</td>\n",
       "      <td>-73.9958</td>\n",
       "      <td>eb5a6c4c2eb6f3e2a085c477afd5a815</td>\n",
       "      <td>['https://photos.renthop.com/2/7113518_d234153...</td>\n",
       "      <td>3000</td>\n",
       "      <td>360 West 34th Street</td>\n",
       "      <td>high</td>\n",
       "    </tr>\n",
       "    <tr>\n",
       "      <th>4</th>\n",
       "      <td>67397</td>\n",
       "      <td>1.0</td>\n",
       "      <td>2</td>\n",
       "      <td>a36895b9975c6991ca0fa1d9a99023a1</td>\n",
       "      <td>26-05-2016 05:36</td>\n",
       "      <td>NO FEE.. Newly Reno XL Convertible 2 Br .. Pri...</td>\n",
       "      <td>East 72nd Street</td>\n",
       "      <td>['Dining Room', 'Doorman', 'Elevator', 'Fitnes...</td>\n",
       "      <td>40.7695</td>\n",
       "      <td>7071666</td>\n",
       "      <td>-73.9603</td>\n",
       "      <td>0a6ba20b892ed61df751420934d1ab51</td>\n",
       "      <td>['https://photos.renthop.com/2/7071666_4f81618...</td>\n",
       "      <td>3300</td>\n",
       "      <td>200 East 72nd Street</td>\n",
       "      <td>high</td>\n",
       "    </tr>\n",
       "  </tbody>\n",
       "</table>\n",
       "</div>"
      ],
      "text/plain": [
       "   Unnamed: 0  bathrooms  bedrooms                       building_id  \\\n",
       "0      105408        1.0         0  0f9d07991ba14c82d3d368b72d90270a   \n",
       "1      110219        1.0         1  564d6f608f41e8d4a5e181c4e068e3d9   \n",
       "2       56113        1.0         1  69790fbf0bf7e22b1d0ebc721cf0f633   \n",
       "3       37765        1.0         2  d0234abbc01a982d54e8d446acc03405   \n",
       "4       67397        1.0         2  a36895b9975c6991ca0fa1d9a99023a1   \n",
       "\n",
       "            created                                        description  \\\n",
       "0  04-04-2016 03:34  Gorgeous unit in one of the most genuinely cov...   \n",
       "1  21-04-2016 20:40  Enormous 1 bedroom apartment in Murray Hill. F...   \n",
       "2  14-05-2016 05:44  This 1 bedroom, 1 bathroom spacious apartment ...   \n",
       "3  05-06-2016 03:37  SPECTACULAR2 BEDROOM APARTMENT IN LUXURY 24HR ...   \n",
       "4  26-05-2016 05:36  NO FEE.. Newly Reno XL Convertible 2 Br .. Pri...   \n",
       "\n",
       "          display_address                                           features  \\\n",
       "0  230 Central Park South  ['Cats Allowed', 'Dogs Allowed', 'Doorman', 'E...   \n",
       "1               E 39th St  ['Cats Allowed', 'Dogs Allowed', 'Reduced Fee'...   \n",
       "2              E 25th St.       ['Elevator', 'Furnished', 'Hardwood Floors']   \n",
       "3        West 34th Street  ['Doorman', 'Elevator', 'Dishwasher', 'Hardwoo...   \n",
       "4        East 72nd Street  ['Dining Room', 'Doorman', 'Elevator', 'Fitnes...   \n",
       "\n",
       "   latitude  listing_id  longitude                        manager_id  \\\n",
       "0   40.7672     6827153   -73.9802  932589de9230b697808216774fa26bd4   \n",
       "1   40.7483     6908998   -73.9741  489ad933197469ae66acd1f7ce18f908   \n",
       "2   40.7399     7013774   -73.9812  792c0f1ad1431397c65db3e69b770928   \n",
       "3   40.7530     7113518   -73.9958  eb5a6c4c2eb6f3e2a085c477afd5a815   \n",
       "4   40.7695     7071666   -73.9603  0a6ba20b892ed61df751420934d1ab51   \n",
       "\n",
       "                                              photos  price  \\\n",
       "0  ['https://photos.renthop.com/2/6821519_0a14cc2...   2800   \n",
       "1  ['https://photos.renthop.com/2/6908998_6b00895...   2100   \n",
       "2  ['https://photos.renthop.com/2/7013774_e7ead5d...   3000   \n",
       "3  ['https://photos.renthop.com/2/7113518_d234153...   3000   \n",
       "4  ['https://photos.renthop.com/2/7071666_4f81618...   3300   \n",
       "\n",
       "           street_address interest_level  \n",
       "0  230 Central Park South           high  \n",
       "1           243 E 39th St           high  \n",
       "2          217 E 25th St.           high  \n",
       "3    360 West 34th Street           high  \n",
       "4    200 East 72nd Street           high  "
      ]
     },
     "execution_count": 109,
     "metadata": {},
     "output_type": "execute_result"
    }
   ],
   "source": [
    "df=pd.read_csv(\"DS2_C5_S6_AllRent_Data_Challenge.csv\")\n",
    "df.head()"
   ]
  },
  {
   "cell_type": "markdown",
   "id": "60b638d8",
   "metadata": {},
   "source": [
    "### Task2 : Data Exploration"
   ]
  },
  {
   "cell_type": "code",
   "execution_count": 110,
   "id": "58ea6567",
   "metadata": {},
   "outputs": [
    {
     "data": {
      "text/plain": [
       "(9871, 16)"
      ]
     },
     "execution_count": 110,
     "metadata": {},
     "output_type": "execute_result"
    }
   ],
   "source": [
    "df.shape"
   ]
  },
  {
   "cell_type": "code",
   "execution_count": 111,
   "id": "79c3ec24",
   "metadata": {},
   "outputs": [
    {
     "name": "stdout",
     "output_type": "stream",
     "text": [
      "<class 'pandas.core.frame.DataFrame'>\n",
      "RangeIndex: 9871 entries, 0 to 9870\n",
      "Data columns (total 16 columns):\n",
      " #   Column           Non-Null Count  Dtype  \n",
      "---  ------           --------------  -----  \n",
      " 0   Unnamed: 0       9871 non-null   int64  \n",
      " 1   bathrooms        9871 non-null   float64\n",
      " 2   bedrooms         9871 non-null   int64  \n",
      " 3   building_id      9871 non-null   object \n",
      " 4   created          9871 non-null   object \n",
      " 5   description      9585 non-null   object \n",
      " 6   display_address  9837 non-null   object \n",
      " 7   features         9871 non-null   object \n",
      " 8   latitude         9871 non-null   float64\n",
      " 9   listing_id       9871 non-null   int64  \n",
      " 10  longitude        9871 non-null   float64\n",
      " 11  manager_id       9871 non-null   object \n",
      " 12  photos           9871 non-null   object \n",
      " 13  price            9871 non-null   int64  \n",
      " 14  street_address   9866 non-null   object \n",
      " 15  interest_level   9871 non-null   object \n",
      "dtypes: float64(3), int64(4), object(9)\n",
      "memory usage: 1.2+ MB\n"
     ]
    }
   ],
   "source": [
    "df.info()"
   ]
  },
  {
   "cell_type": "code",
   "execution_count": 112,
   "id": "a3845c08",
   "metadata": {},
   "outputs": [
    {
     "data": {
      "text/html": [
       "<div>\n",
       "<style scoped>\n",
       "    .dataframe tbody tr th:only-of-type {\n",
       "        vertical-align: middle;\n",
       "    }\n",
       "\n",
       "    .dataframe tbody tr th {\n",
       "        vertical-align: top;\n",
       "    }\n",
       "\n",
       "    .dataframe thead th {\n",
       "        text-align: right;\n",
       "    }\n",
       "</style>\n",
       "<table border=\"1\" class=\"dataframe\">\n",
       "  <thead>\n",
       "    <tr style=\"text-align: right;\">\n",
       "      <th></th>\n",
       "      <th>Unnamed: 0</th>\n",
       "      <th>bathrooms</th>\n",
       "      <th>bedrooms</th>\n",
       "      <th>latitude</th>\n",
       "      <th>listing_id</th>\n",
       "      <th>longitude</th>\n",
       "      <th>price</th>\n",
       "    </tr>\n",
       "  </thead>\n",
       "  <tbody>\n",
       "    <tr>\n",
       "      <th>count</th>\n",
       "      <td>9871.000000</td>\n",
       "      <td>9871.000000</td>\n",
       "      <td>9871.000000</td>\n",
       "      <td>9871.000000</td>\n",
       "      <td>9.871000e+03</td>\n",
       "      <td>9871.000000</td>\n",
       "      <td>9871.000000</td>\n",
       "    </tr>\n",
       "    <tr>\n",
       "      <th>mean</th>\n",
       "      <td>61828.973154</td>\n",
       "      <td>1.210617</td>\n",
       "      <td>1.533685</td>\n",
       "      <td>40.747167</td>\n",
       "      <td>7.024062e+06</td>\n",
       "      <td>-73.965549</td>\n",
       "      <td>3662.860804</td>\n",
       "    </tr>\n",
       "    <tr>\n",
       "      <th>std</th>\n",
       "      <td>35901.607107</td>\n",
       "      <td>0.501985</td>\n",
       "      <td>1.106696</td>\n",
       "      <td>0.414548</td>\n",
       "      <td>1.269108e+05</td>\n",
       "      <td>0.760686</td>\n",
       "      <td>2559.911997</td>\n",
       "    </tr>\n",
       "    <tr>\n",
       "      <th>min</th>\n",
       "      <td>9.000000</td>\n",
       "      <td>0.000000</td>\n",
       "      <td>0.000000</td>\n",
       "      <td>0.000000</td>\n",
       "      <td>6.812005e+06</td>\n",
       "      <td>-87.613400</td>\n",
       "      <td>43.000000</td>\n",
       "    </tr>\n",
       "    <tr>\n",
       "      <th>25%</th>\n",
       "      <td>30968.000000</td>\n",
       "      <td>1.000000</td>\n",
       "      <td>1.000000</td>\n",
       "      <td>40.727500</td>\n",
       "      <td>6.914494e+06</td>\n",
       "      <td>-73.992200</td>\n",
       "      <td>2499.000000</td>\n",
       "    </tr>\n",
       "    <tr>\n",
       "      <th>50%</th>\n",
       "      <td>61354.000000</td>\n",
       "      <td>1.000000</td>\n",
       "      <td>1.000000</td>\n",
       "      <td>40.750600</td>\n",
       "      <td>7.022816e+06</td>\n",
       "      <td>-73.978300</td>\n",
       "      <td>3125.000000</td>\n",
       "    </tr>\n",
       "    <tr>\n",
       "      <th>75%</th>\n",
       "      <td>93229.500000</td>\n",
       "      <td>1.000000</td>\n",
       "      <td>2.000000</td>\n",
       "      <td>40.773900</td>\n",
       "      <td>7.130978e+06</td>\n",
       "      <td>-73.955100</td>\n",
       "      <td>4047.500000</td>\n",
       "    </tr>\n",
       "    <tr>\n",
       "      <th>max</th>\n",
       "      <td>123995.000000</td>\n",
       "      <td>10.000000</td>\n",
       "      <td>8.000000</td>\n",
       "      <td>43.034600</td>\n",
       "      <td>7.742631e+06</td>\n",
       "      <td>0.000000</td>\n",
       "      <td>90000.000000</td>\n",
       "    </tr>\n",
       "  </tbody>\n",
       "</table>\n",
       "</div>"
      ],
      "text/plain": [
       "          Unnamed: 0    bathrooms     bedrooms     latitude    listing_id  \\\n",
       "count    9871.000000  9871.000000  9871.000000  9871.000000  9.871000e+03   \n",
       "mean    61828.973154     1.210617     1.533685    40.747167  7.024062e+06   \n",
       "std     35901.607107     0.501985     1.106696     0.414548  1.269108e+05   \n",
       "min         9.000000     0.000000     0.000000     0.000000  6.812005e+06   \n",
       "25%     30968.000000     1.000000     1.000000    40.727500  6.914494e+06   \n",
       "50%     61354.000000     1.000000     1.000000    40.750600  7.022816e+06   \n",
       "75%     93229.500000     1.000000     2.000000    40.773900  7.130978e+06   \n",
       "max    123995.000000    10.000000     8.000000    43.034600  7.742631e+06   \n",
       "\n",
       "         longitude         price  \n",
       "count  9871.000000   9871.000000  \n",
       "mean    -73.965549   3662.860804  \n",
       "std       0.760686   2559.911997  \n",
       "min     -87.613400     43.000000  \n",
       "25%     -73.992200   2499.000000  \n",
       "50%     -73.978300   3125.000000  \n",
       "75%     -73.955100   4047.500000  \n",
       "max       0.000000  90000.000000  "
      ]
     },
     "execution_count": 112,
     "metadata": {},
     "output_type": "execute_result"
    }
   ],
   "source": [
    "df.describe()"
   ]
  },
  {
   "cell_type": "code",
   "execution_count": 113,
   "id": "1fdddfb9",
   "metadata": {},
   "outputs": [
    {
     "data": {
      "text/plain": [
       "Index(['Unnamed: 0', 'bathrooms', 'bedrooms', 'building_id', 'created',\n",
       "       'description', 'display_address', 'features', 'latitude', 'listing_id',\n",
       "       'longitude', 'manager_id', 'photos', 'price', 'street_address',\n",
       "       'interest_level'],\n",
       "      dtype='object')"
      ]
     },
     "execution_count": 113,
     "metadata": {},
     "output_type": "execute_result"
    }
   ],
   "source": [
    "df.columns"
   ]
  },
  {
   "cell_type": "markdown",
   "id": "144e004a",
   "metadata": {},
   "source": [
    "### Task3:  Data Preprocessing"
   ]
  },
  {
   "cell_type": "markdown",
   "id": "2f33b35d",
   "metadata": {},
   "source": [
    "- Dropping unnecessary features for our model"
   ]
  },
  {
   "cell_type": "code",
   "execution_count": 114,
   "id": "5f3cab4d",
   "metadata": {},
   "outputs": [],
   "source": [
    "df.drop([\"Unnamed: 0\",\"building_id\",\"display_address\",\"listing_id\",\"manager_id\",\"photos\",\"street_address\",\"description\",\"features\"],axis=1,inplace=True)"
   ]
  },
  {
   "cell_type": "code",
   "execution_count": 115,
   "id": "c9b1b64f",
   "metadata": {},
   "outputs": [
    {
     "data": {
      "text/html": [
       "<div>\n",
       "<style scoped>\n",
       "    .dataframe tbody tr th:only-of-type {\n",
       "        vertical-align: middle;\n",
       "    }\n",
       "\n",
       "    .dataframe tbody tr th {\n",
       "        vertical-align: top;\n",
       "    }\n",
       "\n",
       "    .dataframe thead th {\n",
       "        text-align: right;\n",
       "    }\n",
       "</style>\n",
       "<table border=\"1\" class=\"dataframe\">\n",
       "  <thead>\n",
       "    <tr style=\"text-align: right;\">\n",
       "      <th></th>\n",
       "      <th>bathrooms</th>\n",
       "      <th>bedrooms</th>\n",
       "      <th>created</th>\n",
       "      <th>latitude</th>\n",
       "      <th>longitude</th>\n",
       "      <th>price</th>\n",
       "      <th>interest_level</th>\n",
       "    </tr>\n",
       "  </thead>\n",
       "  <tbody>\n",
       "    <tr>\n",
       "      <th>0</th>\n",
       "      <td>1.0</td>\n",
       "      <td>0</td>\n",
       "      <td>04-04-2016 03:34</td>\n",
       "      <td>40.7672</td>\n",
       "      <td>-73.9802</td>\n",
       "      <td>2800</td>\n",
       "      <td>high</td>\n",
       "    </tr>\n",
       "    <tr>\n",
       "      <th>1</th>\n",
       "      <td>1.0</td>\n",
       "      <td>1</td>\n",
       "      <td>21-04-2016 20:40</td>\n",
       "      <td>40.7483</td>\n",
       "      <td>-73.9741</td>\n",
       "      <td>2100</td>\n",
       "      <td>high</td>\n",
       "    </tr>\n",
       "    <tr>\n",
       "      <th>2</th>\n",
       "      <td>1.0</td>\n",
       "      <td>1</td>\n",
       "      <td>14-05-2016 05:44</td>\n",
       "      <td>40.7399</td>\n",
       "      <td>-73.9812</td>\n",
       "      <td>3000</td>\n",
       "      <td>high</td>\n",
       "    </tr>\n",
       "    <tr>\n",
       "      <th>3</th>\n",
       "      <td>1.0</td>\n",
       "      <td>2</td>\n",
       "      <td>05-06-2016 03:37</td>\n",
       "      <td>40.7530</td>\n",
       "      <td>-73.9958</td>\n",
       "      <td>3000</td>\n",
       "      <td>high</td>\n",
       "    </tr>\n",
       "    <tr>\n",
       "      <th>4</th>\n",
       "      <td>1.0</td>\n",
       "      <td>2</td>\n",
       "      <td>26-05-2016 05:36</td>\n",
       "      <td>40.7695</td>\n",
       "      <td>-73.9603</td>\n",
       "      <td>3300</td>\n",
       "      <td>high</td>\n",
       "    </tr>\n",
       "  </tbody>\n",
       "</table>\n",
       "</div>"
      ],
      "text/plain": [
       "   bathrooms  bedrooms           created  latitude  longitude  price  \\\n",
       "0        1.0         0  04-04-2016 03:34   40.7672   -73.9802   2800   \n",
       "1        1.0         1  21-04-2016 20:40   40.7483   -73.9741   2100   \n",
       "2        1.0         1  14-05-2016 05:44   40.7399   -73.9812   3000   \n",
       "3        1.0         2  05-06-2016 03:37   40.7530   -73.9958   3000   \n",
       "4        1.0         2  26-05-2016 05:36   40.7695   -73.9603   3300   \n",
       "\n",
       "  interest_level  \n",
       "0           high  \n",
       "1           high  \n",
       "2           high  \n",
       "3           high  \n",
       "4           high  "
      ]
     },
     "execution_count": 115,
     "metadata": {},
     "output_type": "execute_result"
    }
   ],
   "source": [
    "df.head()"
   ]
  },
  {
   "cell_type": "markdown",
   "id": "8135cd2d",
   "metadata": {},
   "source": [
    "- reverse geoencoding using reverse geocoder\n",
    "- and dropping lat&long after getting location"
   ]
  },
  {
   "cell_type": "code",
   "execution_count": 116,
   "id": "7172bdc8",
   "metadata": {},
   "outputs": [],
   "source": [
    "l=list(zip(df[\"latitude\"],df[\"longitude\"]))\n",
    "f=rg.search(l)\n",
    "df[\"location\"]=[i[\"name\"] for i in f]"
   ]
  },
  {
   "cell_type": "code",
   "execution_count": 117,
   "id": "876a3b41",
   "metadata": {},
   "outputs": [],
   "source": [
    "df.drop([\"latitude\",\"longitude\"],axis=1,inplace=True)"
   ]
  },
  {
   "cell_type": "code",
   "execution_count": 118,
   "id": "2989c143",
   "metadata": {
    "scrolled": true
   },
   "outputs": [
    {
     "data": {
      "text/html": [
       "<div>\n",
       "<style scoped>\n",
       "    .dataframe tbody tr th:only-of-type {\n",
       "        vertical-align: middle;\n",
       "    }\n",
       "\n",
       "    .dataframe tbody tr th {\n",
       "        vertical-align: top;\n",
       "    }\n",
       "\n",
       "    .dataframe thead th {\n",
       "        text-align: right;\n",
       "    }\n",
       "</style>\n",
       "<table border=\"1\" class=\"dataframe\">\n",
       "  <thead>\n",
       "    <tr style=\"text-align: right;\">\n",
       "      <th></th>\n",
       "      <th>bathrooms</th>\n",
       "      <th>bedrooms</th>\n",
       "      <th>created</th>\n",
       "      <th>price</th>\n",
       "      <th>interest_level</th>\n",
       "      <th>location</th>\n",
       "    </tr>\n",
       "  </thead>\n",
       "  <tbody>\n",
       "    <tr>\n",
       "      <th>0</th>\n",
       "      <td>1.0</td>\n",
       "      <td>0</td>\n",
       "      <td>04-04-2016 03:34</td>\n",
       "      <td>2800</td>\n",
       "      <td>high</td>\n",
       "      <td>Manhattan</td>\n",
       "    </tr>\n",
       "    <tr>\n",
       "      <th>1</th>\n",
       "      <td>1.0</td>\n",
       "      <td>1</td>\n",
       "      <td>21-04-2016 20:40</td>\n",
       "      <td>2100</td>\n",
       "      <td>high</td>\n",
       "      <td>Long Island City</td>\n",
       "    </tr>\n",
       "    <tr>\n",
       "      <th>2</th>\n",
       "      <td>1.0</td>\n",
       "      <td>1</td>\n",
       "      <td>14-05-2016 05:44</td>\n",
       "      <td>3000</td>\n",
       "      <td>high</td>\n",
       "      <td>Long Island City</td>\n",
       "    </tr>\n",
       "    <tr>\n",
       "      <th>3</th>\n",
       "      <td>1.0</td>\n",
       "      <td>2</td>\n",
       "      <td>05-06-2016 03:37</td>\n",
       "      <td>3000</td>\n",
       "      <td>high</td>\n",
       "      <td>Weehawken</td>\n",
       "    </tr>\n",
       "    <tr>\n",
       "      <th>4</th>\n",
       "      <td>1.0</td>\n",
       "      <td>2</td>\n",
       "      <td>26-05-2016 05:36</td>\n",
       "      <td>3300</td>\n",
       "      <td>high</td>\n",
       "      <td>Manhattan</td>\n",
       "    </tr>\n",
       "  </tbody>\n",
       "</table>\n",
       "</div>"
      ],
      "text/plain": [
       "   bathrooms  bedrooms           created  price interest_level  \\\n",
       "0        1.0         0  04-04-2016 03:34   2800           high   \n",
       "1        1.0         1  21-04-2016 20:40   2100           high   \n",
       "2        1.0         1  14-05-2016 05:44   3000           high   \n",
       "3        1.0         2  05-06-2016 03:37   3000           high   \n",
       "4        1.0         2  26-05-2016 05:36   3300           high   \n",
       "\n",
       "           location  \n",
       "0         Manhattan  \n",
       "1  Long Island City  \n",
       "2  Long Island City  \n",
       "3         Weehawken  \n",
       "4         Manhattan  "
      ]
     },
     "execution_count": 118,
     "metadata": {},
     "output_type": "execute_result"
    }
   ],
   "source": [
    "df.head()"
   ]
  },
  {
   "cell_type": "markdown",
   "id": "4c3a1d38",
   "metadata": {},
   "source": [
    "- converting created column to datetime.\n",
    "- then subtracting it from current date to get apartment's age"
   ]
  },
  {
   "cell_type": "code",
   "execution_count": 119,
   "id": "d1b733a1",
   "metadata": {},
   "outputs": [],
   "source": [
    "df[\"created\"]=pd.to_datetime(df[\"created\"])"
   ]
  },
  {
   "cell_type": "code",
   "execution_count": 120,
   "id": "825267b6",
   "metadata": {},
   "outputs": [],
   "source": [
    "current=pd.to_datetime('today').normalize()"
   ]
  },
  {
   "cell_type": "code",
   "execution_count": 121,
   "id": "b7550c9f",
   "metadata": {},
   "outputs": [],
   "source": [
    "df[\"days_created\"]=current-df[\"created\"]"
   ]
  },
  {
   "cell_type": "code",
   "execution_count": 122,
   "id": "2eca4fce",
   "metadata": {},
   "outputs": [],
   "source": [
    "df.drop(\"created\",axis=1,inplace=True)"
   ]
  },
  {
   "cell_type": "code",
   "execution_count": 123,
   "id": "42633b67",
   "metadata": {},
   "outputs": [],
   "source": [
    "df[\"days_created\"]=df[\"days_created\"].apply(lambda x:str(x).split(\" \")[0])"
   ]
  },
  {
   "cell_type": "code",
   "execution_count": 124,
   "id": "30b50eed",
   "metadata": {},
   "outputs": [
    {
     "data": {
      "text/html": [
       "<div>\n",
       "<style scoped>\n",
       "    .dataframe tbody tr th:only-of-type {\n",
       "        vertical-align: middle;\n",
       "    }\n",
       "\n",
       "    .dataframe tbody tr th {\n",
       "        vertical-align: top;\n",
       "    }\n",
       "\n",
       "    .dataframe thead th {\n",
       "        text-align: right;\n",
       "    }\n",
       "</style>\n",
       "<table border=\"1\" class=\"dataframe\">\n",
       "  <thead>\n",
       "    <tr style=\"text-align: right;\">\n",
       "      <th></th>\n",
       "      <th>bathrooms</th>\n",
       "      <th>bedrooms</th>\n",
       "      <th>price</th>\n",
       "      <th>interest_level</th>\n",
       "      <th>location</th>\n",
       "      <th>days_created</th>\n",
       "    </tr>\n",
       "  </thead>\n",
       "  <tbody>\n",
       "    <tr>\n",
       "      <th>0</th>\n",
       "      <td>1.0</td>\n",
       "      <td>0</td>\n",
       "      <td>2800</td>\n",
       "      <td>high</td>\n",
       "      <td>Manhattan</td>\n",
       "      <td>2428</td>\n",
       "    </tr>\n",
       "    <tr>\n",
       "      <th>1</th>\n",
       "      <td>1.0</td>\n",
       "      <td>1</td>\n",
       "      <td>2100</td>\n",
       "      <td>high</td>\n",
       "      <td>Long Island City</td>\n",
       "      <td>2411</td>\n",
       "    </tr>\n",
       "    <tr>\n",
       "      <th>2</th>\n",
       "      <td>1.0</td>\n",
       "      <td>1</td>\n",
       "      <td>3000</td>\n",
       "      <td>high</td>\n",
       "      <td>Long Island City</td>\n",
       "      <td>2388</td>\n",
       "    </tr>\n",
       "    <tr>\n",
       "      <th>3</th>\n",
       "      <td>1.0</td>\n",
       "      <td>2</td>\n",
       "      <td>3000</td>\n",
       "      <td>high</td>\n",
       "      <td>Weehawken</td>\n",
       "      <td>2396</td>\n",
       "    </tr>\n",
       "    <tr>\n",
       "      <th>4</th>\n",
       "      <td>1.0</td>\n",
       "      <td>2</td>\n",
       "      <td>3300</td>\n",
       "      <td>high</td>\n",
       "      <td>Manhattan</td>\n",
       "      <td>2376</td>\n",
       "    </tr>\n",
       "  </tbody>\n",
       "</table>\n",
       "</div>"
      ],
      "text/plain": [
       "   bathrooms  bedrooms  price interest_level          location days_created\n",
       "0        1.0         0   2800           high         Manhattan         2428\n",
       "1        1.0         1   2100           high  Long Island City         2411\n",
       "2        1.0         1   3000           high  Long Island City         2388\n",
       "3        1.0         2   3000           high         Weehawken         2396\n",
       "4        1.0         2   3300           high         Manhattan         2376"
      ]
     },
     "execution_count": 124,
     "metadata": {},
     "output_type": "execute_result"
    }
   ],
   "source": [
    "df.head()"
   ]
  },
  {
   "cell_type": "code",
   "execution_count": 125,
   "id": "62052d02",
   "metadata": {},
   "outputs": [
    {
     "data": {
      "text/plain": [
       "bathrooms         0\n",
       "bedrooms          0\n",
       "price             0\n",
       "interest_level    0\n",
       "location          0\n",
       "days_created      0\n",
       "dtype: int64"
      ]
     },
     "execution_count": 125,
     "metadata": {},
     "output_type": "execute_result"
    }
   ],
   "source": [
    "df.isnull().sum()"
   ]
  },
  {
   "cell_type": "markdown",
   "id": "613bbee1",
   "metadata": {},
   "source": [
    "### Task4: Visualization"
   ]
  },
  {
   "cell_type": "code",
   "execution_count": 126,
   "id": "fecf31f0",
   "metadata": {},
   "outputs": [
    {
     "data": {
      "text/plain": [
       "<AxesSubplot:xlabel='interest_level', ylabel='count'>"
      ]
     },
     "execution_count": 126,
     "metadata": {},
     "output_type": "execute_result"
    },
    {
     "data": {
      "image/png": "[encoded data removed]",
      "text/plain": [
       "<Figure size 432x288 with 1 Axes>"
      ]
     },
     "metadata": {
      "needs_background": "light"
     },
     "output_type": "display_data"
    }
   ],
   "source": [
    "sns.countplot(data=df,x='interest_level')"
   ]
  },
  {
   "cell_type": "markdown",
   "id": "dc50961b",
   "metadata": {},
   "source": [
    "- low interest level category has highest count"
   ]
  },
  {
   "cell_type": "code",
   "execution_count": 127,
   "id": "477764ec",
   "metadata": {},
   "outputs": [
    {
     "data": {
      "image/png": "[encoded data removed]",
      "text/plain": [
       "<Figure size 1080x720 with 3 Axes>"
      ]
     },
     "metadata": {
      "needs_background": "light"
     },
     "output_type": "display_data"
    }
   ],
   "source": [
    "plt.figure(figsize=(15,10))\n",
    "plt.subplot(221)\n",
    "sns.barplot(data=df,x=\"interest_level\",y='bathrooms')\n",
    "plt.subplot(222)\n",
    "sns.barplot(data=df,x=\"interest_level\",y='bedrooms')\n",
    "plt.subplot(223)\n",
    "sns.barplot(data=df,x=\"interest_level\",y='price')\n",
    "plt.subplot(223)\n",
    "sns.barplot(data=df,x=\"interest_level\",y='price')\n",
    "plt.show()"
   ]
  },
  {
   "cell_type": "markdown",
   "id": "2d8734b0",
   "metadata": {},
   "source": [
    "- Visualizing target-interest level with number bathrooms/bedrooms and price\n",
    "- in low interest level category, mean number of bathrooms is higher\n",
    "- is medium interest level category, mean number of bedrooms is higher\n",
    "- mean price of low interest category is higher"
   ]
  },
  {
   "cell_type": "code",
   "execution_count": 128,
   "id": "be57fb28",
   "metadata": {},
   "outputs": [
    {
     "data": {
      "text/plain": [
       "<seaborn.axisgrid.PairGrid at 0x225a95b4490>"
      ]
     },
     "execution_count": 128,
     "metadata": {},
     "output_type": "execute_result"
    },
    {
     "data": {
      "image/png": "[encoded data removed]",
      "text/plain": [
       "<Figure size 540x540 with 12 Axes>"
      ]
     },
     "metadata": {
      "needs_background": "light"
     },
     "output_type": "display_data"
    }
   ],
   "source": [
    "sns.pairplot(df)"
   ]
  },
  {
   "cell_type": "markdown",
   "id": "fdb5200a",
   "metadata": {},
   "source": [
    "- inter feature relationship:\n",
    "- bathrooms,bedrooms and price are correlated with each other"
   ]
  },
  {
   "cell_type": "code",
   "execution_count": 129,
   "id": "a9b439f2",
   "metadata": {},
   "outputs": [
    {
     "data": {
      "text/plain": [
       "Manhattan              3040\n",
       "New York City          2907\n",
       "Long Island City       1761\n",
       "Weehawken               735\n",
       "Brooklyn                374\n",
       "Edgewater               256\n",
       "Inwood                  198\n",
       "Guttenberg              135\n",
       "East New York           107\n",
       "Borough of Queens        81\n",
       "Bensonhurst              66\n",
       "Fort Lee                 52\n",
       "Hoboken                  45\n",
       "Jamaica                  31\n",
       "Coney Island             25\n",
       "The Bronx                24\n",
       "East Atlantic Beach       5\n",
       "Bayonne                   3\n",
       "Atlantic Beach            2\n",
       "Braintree                 2\n",
       "Lake Success              2\n",
       "Mount Vernon              2\n",
       "Hoosick Falls             1\n",
       "South Valley Stream       1\n",
       "Boston                    1\n",
       "West New York             1\n",
       "White Plains              1\n",
       "Perth Amboy               1\n",
       "Nissequogue               1\n",
       "New Rochelle              1\n",
       "Yonkers                   1\n",
       "Port Byron                1\n",
       "Needham                   1\n",
       "Takoradi                  1\n",
       "Amagansett                1\n",
       "Evergreen Park            1\n",
       "Valley Stream             1\n",
       "Sleepy Hollow             1\n",
       "Staten Island             1\n",
       "Bellerose Terrace         1\n",
       "Name: location, dtype: int64"
      ]
     },
     "execution_count": 129,
     "metadata": {},
     "output_type": "execute_result"
    }
   ],
   "source": [
    "df[\"location\"].value_counts()"
   ]
  },
  {
   "cell_type": "markdown",
   "id": "fcaeccca",
   "metadata": {},
   "source": [
    "- Majority of apartments are from manhattan & newyork  city"
   ]
  },
  {
   "cell_type": "markdown",
   "id": "9f727c50",
   "metadata": {},
   "source": [
    "### Feature Engineering"
   ]
  },
  {
   "cell_type": "code",
   "execution_count": 130,
   "id": "97d5802d",
   "metadata": {},
   "outputs": [
    {
     "data": {
      "text/plain": [
       "bathrooms         float64\n",
       "bedrooms            int64\n",
       "price               int64\n",
       "interest_level     object\n",
       "location           object\n",
       "days_created       object\n",
       "dtype: object"
      ]
     },
     "execution_count": 130,
     "metadata": {},
     "output_type": "execute_result"
    }
   ],
   "source": [
    "df.dtypes"
   ]
  },
  {
   "cell_type": "markdown",
   "id": "56374202",
   "metadata": {},
   "source": [
    "- converting object to category for label encoding"
   ]
  },
  {
   "cell_type": "code",
   "execution_count": 131,
   "id": "bc5b47b0",
   "metadata": {},
   "outputs": [],
   "source": [
    "c=df.select_dtypes(include=\"object\")"
   ]
  },
  {
   "cell_type": "code",
   "execution_count": 132,
   "id": "308bf35a",
   "metadata": {},
   "outputs": [],
   "source": [
    "for i in c:\n",
    "    df[i]=df[i].astype(\"category\")"
   ]
  },
  {
   "cell_type": "code",
   "execution_count": 133,
   "id": "6195bf37",
   "metadata": {},
   "outputs": [
    {
     "data": {
      "text/plain": [
       "bathrooms          float64\n",
       "bedrooms             int64\n",
       "price                int64\n",
       "interest_level    category\n",
       "location          category\n",
       "days_created      category\n",
       "dtype: object"
      ]
     },
     "execution_count": 133,
     "metadata": {},
     "output_type": "execute_result"
    }
   ],
   "source": [
    "df.dtypes"
   ]
  },
  {
   "cell_type": "markdown",
   "id": "5e968e86",
   "metadata": {},
   "source": [
    "- Label encoding"
   ]
  },
  {
   "cell_type": "code",
   "execution_count": 134,
   "id": "8f9dec14",
   "metadata": {},
   "outputs": [],
   "source": [
    "for i in c:\n",
    "    df[i]=LabelEncoder().fit_transform(df[i])"
   ]
  },
  {
   "cell_type": "code",
   "execution_count": 135,
   "id": "401a34de",
   "metadata": {},
   "outputs": [
    {
     "data": {
      "text/html": [
       "<div>\n",
       "<style scoped>\n",
       "    .dataframe tbody tr th:only-of-type {\n",
       "        vertical-align: middle;\n",
       "    }\n",
       "\n",
       "    .dataframe tbody tr th {\n",
       "        vertical-align: top;\n",
       "    }\n",
       "\n",
       "    .dataframe thead th {\n",
       "        text-align: right;\n",
       "    }\n",
       "</style>\n",
       "<table border=\"1\" class=\"dataframe\">\n",
       "  <thead>\n",
       "    <tr style=\"text-align: right;\">\n",
       "      <th></th>\n",
       "      <th>bathrooms</th>\n",
       "      <th>bedrooms</th>\n",
       "      <th>price</th>\n",
       "      <th>interest_level</th>\n",
       "      <th>location</th>\n",
       "      <th>days_created</th>\n",
       "    </tr>\n",
       "  </thead>\n",
       "  <tbody>\n",
       "    <tr>\n",
       "      <th>0</th>\n",
       "      <td>1.0</td>\n",
       "      <td>0</td>\n",
       "      <td>2800</td>\n",
       "      <td>0</td>\n",
       "      <td>22</td>\n",
       "      <td>80</td>\n",
       "    </tr>\n",
       "    <tr>\n",
       "      <th>1</th>\n",
       "      <td>1.0</td>\n",
       "      <td>1</td>\n",
       "      <td>2100</td>\n",
       "      <td>0</td>\n",
       "      <td>21</td>\n",
       "      <td>69</td>\n",
       "    </tr>\n",
       "    <tr>\n",
       "      <th>2</th>\n",
       "      <td>1.0</td>\n",
       "      <td>1</td>\n",
       "      <td>3000</td>\n",
       "      <td>0</td>\n",
       "      <td>21</td>\n",
       "      <td>55</td>\n",
       "    </tr>\n",
       "    <tr>\n",
       "      <th>3</th>\n",
       "      <td>1.0</td>\n",
       "      <td>2</td>\n",
       "      <td>3000</td>\n",
       "      <td>0</td>\n",
       "      <td>36</td>\n",
       "      <td>57</td>\n",
       "    </tr>\n",
       "    <tr>\n",
       "      <th>4</th>\n",
       "      <td>1.0</td>\n",
       "      <td>2</td>\n",
       "      <td>3300</td>\n",
       "      <td>0</td>\n",
       "      <td>22</td>\n",
       "      <td>43</td>\n",
       "    </tr>\n",
       "  </tbody>\n",
       "</table>\n",
       "</div>"
      ],
      "text/plain": [
       "   bathrooms  bedrooms  price  interest_level  location  days_created\n",
       "0        1.0         0   2800               0        22            80\n",
       "1        1.0         1   2100               0        21            69\n",
       "2        1.0         1   3000               0        21            55\n",
       "3        1.0         2   3000               0        36            57\n",
       "4        1.0         2   3300               0        22            43"
      ]
     },
     "execution_count": 135,
     "metadata": {},
     "output_type": "execute_result"
    }
   ],
   "source": [
    "df.head()"
   ]
  },
  {
   "cell_type": "code",
   "execution_count": 136,
   "id": "01ce8ff9",
   "metadata": {},
   "outputs": [
    {
     "data": {
      "text/plain": [
       "<AxesSubplot:>"
      ]
     },
     "execution_count": 136,
     "metadata": {},
     "output_type": "execute_result"
    },
    {
     "data": {
      "image/png": "[encoded data removed]",
      "text/plain": [
       "<Figure size 1080x360 with 2 Axes>"
      ]
     },
     "metadata": {
      "needs_background": "light"
     },
     "output_type": "display_data"
    }
   ],
   "source": [
    "plt.figure(figsize=(15,5))\n",
    "sns.heatmap(df.corr(),annot=True)"
   ]
  },
  {
   "cell_type": "markdown",
   "id": "14c0518c",
   "metadata": {},
   "source": [
    "- Interest level is our target variable\n",
    "- all are less correlated with target.so considering all for modelling"
   ]
  },
  {
   "cell_type": "code",
   "execution_count": 137,
   "id": "1655a144",
   "metadata": {},
   "outputs": [
    {
     "data": {
      "text/plain": [
       "bathrooms         float64\n",
       "bedrooms            int64\n",
       "price               int64\n",
       "interest_level      int32\n",
       "location            int32\n",
       "days_created        int32\n",
       "dtype: object"
      ]
     },
     "execution_count": 137,
     "metadata": {},
     "output_type": "execute_result"
    }
   ],
   "source": [
    "df.dtypes"
   ]
  },
  {
   "cell_type": "markdown",
   "id": "0fb713a5",
   "metadata": {},
   "source": [
    "- standard scaling for 0 mean and unit SD"
   ]
  },
  {
   "cell_type": "code",
   "execution_count": 138,
   "id": "a59eb379",
   "metadata": {},
   "outputs": [],
   "source": [
    "df1=df.loc[:,df.columns!=\"interest_level\"]\n",
    "scaler=StandardScaler()\n",
    "y=df[\"interest_level\"]\n",
    "df=pd.DataFrame(scaler.fit_transform(df1),columns=df1.columns)\n",
    "df[\"interest_level\"]=y"
   ]
  },
  {
   "cell_type": "code",
   "execution_count": 139,
   "id": "f6b85816",
   "metadata": {},
   "outputs": [
    {
     "data": {
      "text/html": [
       "<div>\n",
       "<style scoped>\n",
       "    .dataframe tbody tr th:only-of-type {\n",
       "        vertical-align: middle;\n",
       "    }\n",
       "\n",
       "    .dataframe tbody tr th {\n",
       "        vertical-align: top;\n",
       "    }\n",
       "\n",
       "    .dataframe thead th {\n",
       "        text-align: right;\n",
       "    }\n",
       "</style>\n",
       "<table border=\"1\" class=\"dataframe\">\n",
       "  <thead>\n",
       "    <tr style=\"text-align: right;\">\n",
       "      <th></th>\n",
       "      <th>bathrooms</th>\n",
       "      <th>bedrooms</th>\n",
       "      <th>price</th>\n",
       "      <th>location</th>\n",
       "      <th>days_created</th>\n",
       "      <th>interest_level</th>\n",
       "    </tr>\n",
       "  </thead>\n",
       "  <tbody>\n",
       "    <tr>\n",
       "      <th>0</th>\n",
       "      <td>-0.41959</td>\n",
       "      <td>-1.385892</td>\n",
       "      <td>-0.337084</td>\n",
       "      <td>-0.097481</td>\n",
       "      <td>1.403914</td>\n",
       "      <td>0</td>\n",
       "    </tr>\n",
       "    <tr>\n",
       "      <th>1</th>\n",
       "      <td>-0.41959</td>\n",
       "      <td>-0.482256</td>\n",
       "      <td>-0.610544</td>\n",
       "      <td>-0.259938</td>\n",
       "      <td>0.983718</td>\n",
       "      <td>0</td>\n",
       "    </tr>\n",
       "    <tr>\n",
       "      <th>2</th>\n",
       "      <td>-0.41959</td>\n",
       "      <td>-0.482256</td>\n",
       "      <td>-0.258952</td>\n",
       "      <td>-0.259938</td>\n",
       "      <td>0.448923</td>\n",
       "      <td>0</td>\n",
       "    </tr>\n",
       "    <tr>\n",
       "      <th>3</th>\n",
       "      <td>-0.41959</td>\n",
       "      <td>0.421379</td>\n",
       "      <td>-0.258952</td>\n",
       "      <td>2.176917</td>\n",
       "      <td>0.525322</td>\n",
       "      <td>0</td>\n",
       "    </tr>\n",
       "    <tr>\n",
       "      <th>4</th>\n",
       "      <td>-0.41959</td>\n",
       "      <td>0.421379</td>\n",
       "      <td>-0.141755</td>\n",
       "      <td>-0.097481</td>\n",
       "      <td>-0.009473</td>\n",
       "      <td>0</td>\n",
       "    </tr>\n",
       "  </tbody>\n",
       "</table>\n",
       "</div>"
      ],
      "text/plain": [
       "   bathrooms  bedrooms     price  location  days_created  interest_level\n",
       "0   -0.41959 -1.385892 -0.337084 -0.097481      1.403914               0\n",
       "1   -0.41959 -0.482256 -0.610544 -0.259938      0.983718               0\n",
       "2   -0.41959 -0.482256 -0.258952 -0.259938      0.448923               0\n",
       "3   -0.41959  0.421379 -0.258952  2.176917      0.525322               0\n",
       "4   -0.41959  0.421379 -0.141755 -0.097481     -0.009473               0"
      ]
     },
     "execution_count": 139,
     "metadata": {},
     "output_type": "execute_result"
    }
   ],
   "source": [
    "df.head()"
   ]
  },
  {
   "cell_type": "markdown",
   "id": "f195a3ab",
   "metadata": {},
   "source": [
    "- Train test split"
   ]
  },
  {
   "cell_type": "code",
   "execution_count": 140,
   "id": "a9c525f2",
   "metadata": {},
   "outputs": [
    {
     "data": {
      "text/plain": [
       "Index(['bathrooms', 'bedrooms', 'price', 'location', 'days_created',\n",
       "       'interest_level'],\n",
       "      dtype='object')"
      ]
     },
     "execution_count": 140,
     "metadata": {},
     "output_type": "execute_result"
    }
   ],
   "source": [
    "df.columns"
   ]
  },
  {
   "cell_type": "code",
   "execution_count": 141,
   "id": "fc9af68a",
   "metadata": {},
   "outputs": [],
   "source": [
    "#x=df.iloc[:,:-1]\n",
    "x=df[[\"bathrooms\",\"bedrooms\",\"price\",\"days_created\"]]\n",
    "y=df[\"interest_level\"]\n",
    "x_train,x_test,y_train,y_test=train_test_split(x,y,test_size=0.3,random_state=42)"
   ]
  },
  {
   "cell_type": "markdown",
   "id": "1711ea1a",
   "metadata": {},
   "source": [
    "### Task5: Model Building"
   ]
  },
  {
   "cell_type": "markdown",
   "id": "851f3a18",
   "metadata": {},
   "source": [
    "### Base Line model : Decision Tree Classifier"
   ]
  },
  {
   "cell_type": "markdown",
   "id": "378fd275",
   "metadata": {},
   "source": [
    "- finding best parameters for tree"
   ]
  },
  {
   "cell_type": "code",
   "execution_count": 142,
   "id": "40017fc0",
   "metadata": {},
   "outputs": [],
   "source": [
    "dtc=DecisionTreeClassifier(random_state=42)"
   ]
  },
  {
   "cell_type": "code",
   "execution_count": 143,
   "id": "e83d6283",
   "metadata": {},
   "outputs": [],
   "source": [
    "p={'max_depth':[4,5,6,7,8,9],'min_samples_leaf':[1,5,10,20,50]}"
   ]
  },
  {
   "cell_type": "code",
   "execution_count": 144,
   "id": "90dc4f09",
   "metadata": {},
   "outputs": [],
   "source": [
    "gs=GridSearchCV(estimator=dtc,param_grid=p,scoring=\"accuracy\",n_jobs=-1,cv=10)"
   ]
  },
  {
   "cell_type": "code",
   "execution_count": 145,
   "id": "9f0c9d01",
   "metadata": {},
   "outputs": [
    {
     "data": {
      "text/plain": [
       "GridSearchCV(cv=10, estimator=DecisionTreeClassifier(random_state=42),\n",
       "             n_jobs=-1,\n",
       "             param_grid={'max_depth': [4, 5, 6, 7, 8, 9],\n",
       "                         'min_samples_leaf': [1, 5, 10, 20, 50]},\n",
       "             scoring='accuracy')"
      ]
     },
     "execution_count": 145,
     "metadata": {},
     "output_type": "execute_result"
    }
   ],
   "source": [
    "gs.fit(x_train,y_train)"
   ]
  },
  {
   "cell_type": "code",
   "execution_count": 146,
   "id": "acc1bfbb",
   "metadata": {},
   "outputs": [
    {
     "data": {
      "text/plain": [
       "DecisionTreeClassifier(max_depth=4, min_samples_leaf=5, random_state=42)"
      ]
     },
     "execution_count": 146,
     "metadata": {},
     "output_type": "execute_result"
    }
   ],
   "source": [
    "gs.best_estimator_"
   ]
  },
  {
   "cell_type": "code",
   "execution_count": 147,
   "id": "028faaa1",
   "metadata": {},
   "outputs": [],
   "source": [
    "#building model with these hyperparameters"
   ]
  },
  {
   "cell_type": "code",
   "execution_count": 148,
   "id": "45a9e486",
   "metadata": {},
   "outputs": [],
   "source": [
    "model=DecisionTreeClassifier(random_state=42,max_depth=4, min_samples_leaf=5).fit(x_train,y_train)"
   ]
  },
  {
   "cell_type": "code",
   "execution_count": 149,
   "id": "3f9d38f1",
   "metadata": {},
   "outputs": [
    {
     "data": {
      "text/plain": [
       "0.7050224345057172"
      ]
     },
     "execution_count": 149,
     "metadata": {},
     "output_type": "execute_result"
    }
   ],
   "source": [
    "model.score(x_train,y_train)"
   ]
  },
  {
   "cell_type": "code",
   "execution_count": 150,
   "id": "790ff449",
   "metadata": {},
   "outputs": [
    {
     "data": {
      "text/plain": [
       "0.687035786630655"
      ]
     },
     "execution_count": 150,
     "metadata": {},
     "output_type": "execute_result"
    }
   ],
   "source": [
    "model.score(x_test,y_test)"
   ]
  },
  {
   "cell_type": "markdown",
   "id": "90280d17",
   "metadata": {},
   "source": [
    "### Random Forest Classifier"
   ]
  },
  {
   "cell_type": "markdown",
   "id": "b18cec61",
   "metadata": {},
   "source": [
    "- finding best parameters for random forest"
   ]
  },
  {
   "cell_type": "code",
   "execution_count": 151,
   "id": "16011f44",
   "metadata": {},
   "outputs": [],
   "source": [
    "rfc = RandomForestClassifier(random_state=42, n_jobs=-1)"
   ]
  },
  {
   "cell_type": "code",
   "execution_count": 152,
   "id": "ba075e03",
   "metadata": {},
   "outputs": [],
   "source": [
    "params = {\n",
    " 'max_depth': [2,3,4,5],\n",
    " 'min_samples_leaf': [1,2,3,4,5],\n",
    " 'n_estimators': [10,25,30,50,100]\n",
    "}"
   ]
  },
  {
   "cell_type": "code",
   "execution_count": 153,
   "id": "e6cda264",
   "metadata": {},
   "outputs": [],
   "source": [
    "gs = GridSearchCV(estimator=rfc,\n",
    "                           param_grid=params,\n",
    "                           cv = 10,\n",
    "                           n_jobs=-1, verbose=3, scoring=\"accuracy\")"
   ]
  },
  {
   "cell_type": "code",
   "execution_count": 154,
   "id": "3fa8ceb7",
   "metadata": {},
   "outputs": [
    {
     "name": "stdout",
     "output_type": "stream",
     "text": [
      "Fitting 10 folds for each of 100 candidates, totalling 1000 fits\n"
     ]
    },
    {
     "data": {
      "text/plain": [
       "GridSearchCV(cv=10,\n",
       "             estimator=RandomForestClassifier(n_jobs=-1, random_state=42),\n",
       "             n_jobs=-1,\n",
       "             param_grid={'max_depth': [2, 3, 4, 5],\n",
       "                         'min_samples_leaf': [1, 2, 3, 4, 5],\n",
       "                         'n_estimators': [10, 25, 30, 50, 100]},\n",
       "             scoring='accuracy', verbose=3)"
      ]
     },
     "execution_count": 154,
     "metadata": {},
     "output_type": "execute_result"
    }
   ],
   "source": [
    "gs.fit(x_train,y_train)"
   ]
  },
  {
   "cell_type": "code",
   "execution_count": 155,
   "id": "0368ee13",
   "metadata": {},
   "outputs": [
    {
     "data": {
      "text/plain": [
       "RandomForestClassifier(max_depth=5, min_samples_leaf=5, n_estimators=10,\n",
       "                       n_jobs=-1, random_state=42)"
      ]
     },
     "execution_count": 155,
     "metadata": {},
     "output_type": "execute_result"
    }
   ],
   "source": [
    "gs.best_estimator_"
   ]
  },
  {
   "cell_type": "markdown",
   "id": "9b295e84",
   "metadata": {},
   "source": [
    "- using these hyper parameters for our model"
   ]
  },
  {
   "cell_type": "code",
   "execution_count": 156,
   "id": "009b82e1",
   "metadata": {},
   "outputs": [],
   "source": [
    "model2=RandomForestClassifier(max_depth=5, min_samples_leaf=3, n_estimators=30,n_jobs=-1, random_state=42).fit(x_train,y_train)"
   ]
  },
  {
   "cell_type": "code",
   "execution_count": 157,
   "id": "133413bc",
   "metadata": {},
   "outputs": [],
   "source": [
    "#train accuracy"
   ]
  },
  {
   "cell_type": "code",
   "execution_count": 158,
   "id": "0718c6d3",
   "metadata": {},
   "outputs": [
    {
     "data": {
      "text/plain": [
       "0.7069040382110291"
      ]
     },
     "execution_count": 158,
     "metadata": {},
     "output_type": "execute_result"
    }
   ],
   "source": [
    "model2.score(x_train,y_train)"
   ]
  },
  {
   "cell_type": "code",
   "execution_count": 159,
   "id": "b25ac601",
   "metadata": {},
   "outputs": [],
   "source": [
    "#test accuracy"
   ]
  },
  {
   "cell_type": "code",
   "execution_count": 160,
   "id": "7379a53d",
   "metadata": {},
   "outputs": [
    {
     "data": {
      "text/plain": [
       "0.6924375422012155"
      ]
     },
     "execution_count": 160,
     "metadata": {},
     "output_type": "execute_result"
    }
   ],
   "source": [
    "model2.score(x_test,y_test)"
   ]
  },
  {
   "cell_type": "markdown",
   "id": "f3be2179",
   "metadata": {},
   "source": [
    "### Task6: Comparing models"
   ]
  },
  {
   "cell_type": "markdown",
   "id": "50ea4f44",
   "metadata": {},
   "source": [
    "- y predicted for both the models vs actual y "
   ]
  },
  {
   "cell_type": "code",
   "execution_count": 161,
   "id": "e94e01a7",
   "metadata": {},
   "outputs": [],
   "source": [
    "y_pred=model.predict(x_test)\n",
    "y_pred2=model2.predict(x_test)"
   ]
  },
  {
   "cell_type": "code",
   "execution_count": 162,
   "id": "e923b40b",
   "metadata": {},
   "outputs": [],
   "source": [
    "ydf=pd.DataFrame({\"actual\":y_test,\"predcited by Decision Tree\":y_pred,\"predicted by Random forest\":y_pred2})"
   ]
  },
  {
   "cell_type": "code",
   "execution_count": 163,
   "id": "19fa7351",
   "metadata": {},
   "outputs": [
    {
     "data": {
      "text/html": [
       "<div>\n",
       "<style scoped>\n",
       "    .dataframe tbody tr th:only-of-type {\n",
       "        vertical-align: middle;\n",
       "    }\n",
       "\n",
       "    .dataframe tbody tr th {\n",
       "        vertical-align: top;\n",
       "    }\n",
       "\n",
       "    .dataframe thead th {\n",
       "        text-align: right;\n",
       "    }\n",
       "</style>\n",
       "<table border=\"1\" class=\"dataframe\">\n",
       "  <thead>\n",
       "    <tr style=\"text-align: right;\">\n",
       "      <th></th>\n",
       "      <th>actual</th>\n",
       "      <th>predcited by Decision Tree</th>\n",
       "      <th>predicted by Random forest</th>\n",
       "    </tr>\n",
       "  </thead>\n",
       "  <tbody>\n",
       "    <tr>\n",
       "      <th>9203</th>\n",
       "      <td>2</td>\n",
       "      <td>1</td>\n",
       "      <td>1</td>\n",
       "    </tr>\n",
       "    <tr>\n",
       "      <th>4291</th>\n",
       "      <td>1</td>\n",
       "      <td>1</td>\n",
       "      <td>1</td>\n",
       "    </tr>\n",
       "    <tr>\n",
       "      <th>4269</th>\n",
       "      <td>1</td>\n",
       "      <td>1</td>\n",
       "      <td>1</td>\n",
       "    </tr>\n",
       "    <tr>\n",
       "      <th>3381</th>\n",
       "      <td>1</td>\n",
       "      <td>1</td>\n",
       "      <td>1</td>\n",
       "    </tr>\n",
       "    <tr>\n",
       "      <th>7873</th>\n",
       "      <td>2</td>\n",
       "      <td>1</td>\n",
       "      <td>1</td>\n",
       "    </tr>\n",
       "    <tr>\n",
       "      <th>...</th>\n",
       "      <td>...</td>\n",
       "      <td>...</td>\n",
       "      <td>...</td>\n",
       "    </tr>\n",
       "    <tr>\n",
       "      <th>8984</th>\n",
       "      <td>2</td>\n",
       "      <td>1</td>\n",
       "      <td>1</td>\n",
       "    </tr>\n",
       "    <tr>\n",
       "      <th>6378</th>\n",
       "      <td>1</td>\n",
       "      <td>1</td>\n",
       "      <td>1</td>\n",
       "    </tr>\n",
       "    <tr>\n",
       "      <th>815</th>\n",
       "      <td>1</td>\n",
       "      <td>1</td>\n",
       "      <td>1</td>\n",
       "    </tr>\n",
       "    <tr>\n",
       "      <th>2404</th>\n",
       "      <td>1</td>\n",
       "      <td>1</td>\n",
       "      <td>1</td>\n",
       "    </tr>\n",
       "    <tr>\n",
       "      <th>5250</th>\n",
       "      <td>1</td>\n",
       "      <td>1</td>\n",
       "      <td>1</td>\n",
       "    </tr>\n",
       "  </tbody>\n",
       "</table>\n",
       "<p>2962 rows × 3 columns</p>\n",
       "</div>"
      ],
      "text/plain": [
       "      actual  predcited by Decision Tree  predicted by Random forest\n",
       "9203       2                           1                           1\n",
       "4291       1                           1                           1\n",
       "4269       1                           1                           1\n",
       "3381       1                           1                           1\n",
       "7873       2                           1                           1\n",
       "...      ...                         ...                         ...\n",
       "8984       2                           1                           1\n",
       "6378       1                           1                           1\n",
       "815        1                           1                           1\n",
       "2404       1                           1                           1\n",
       "5250       1                           1                           1\n",
       "\n",
       "[2962 rows x 3 columns]"
      ]
     },
     "execution_count": 163,
     "metadata": {},
     "output_type": "execute_result"
    }
   ],
   "source": [
    "ydf"
   ]
  },
  {
   "cell_type": "markdown",
   "id": "c1316d22",
   "metadata": {},
   "source": [
    "- Using stratified k fold to find accuracy of different train test splits and find mean of all"
   ]
  },
  {
   "cell_type": "code",
   "execution_count": 164,
   "id": "45046d47",
   "metadata": {},
   "outputs": [
    {
     "name": "stdout",
     "output_type": "stream",
     "text": [
      "accuracy mean of all folds: 0.698408767417726\n"
     ]
    },
    {
     "data": {
      "text/plain": [
       "array([0.70546559, 0.69908815, 0.704154  , 0.69098278, 0.69908815,\n",
       "       0.69300912, 0.70212766, 0.69604863, 0.69300912, 0.70111449])"
      ]
     },
     "execution_count": 164,
     "metadata": {},
     "output_type": "execute_result"
    }
   ],
   "source": [
    "skf=StratifiedKFold(n_splits=10,shuffle=True,random_state=42)\n",
    "m=DecisionTreeClassifier(max_depth=5, min_samples_leaf=3,random_state=42)\n",
    "score=cross_val_score(m,x,y,scoring=\"accuracy\",cv=skf)\n",
    "print(\"accuracy mean of all folds:\",score.mean())\n",
    "score"
   ]
  },
  {
   "cell_type": "code",
   "execution_count": 165,
   "id": "f2550a10",
   "metadata": {},
   "outputs": [
    {
     "name": "stdout",
     "output_type": "stream",
     "text": [
      "accuracy mean of all folds: 0.6993208266164593\n"
     ]
    },
    {
     "data": {
      "text/plain": [
       "array([0.7034413 , 0.70111449, 0.70111449, 0.69503546, 0.69604863,\n",
       "       0.69098278, 0.704154  , 0.69908815, 0.69908815, 0.70314083])"
      ]
     },
     "execution_count": 165,
     "metadata": {},
     "output_type": "execute_result"
    }
   ],
   "source": [
    "skf=StratifiedKFold(n_splits=10,shuffle=True,random_state=42)\n",
    "m=RandomForestClassifier(max_depth=5, min_samples_leaf=3, n_estimators=30,n_jobs=-1, random_state=42)\n",
    "score=cross_val_score(m,x,y,scoring=\"accuracy\",cv=skf)\n",
    "print(\"accuracy mean of all folds:\",score.mean())\n",
    "score"
   ]
  },
  {
   "cell_type": "markdown",
   "id": "f6337e66",
   "metadata": {},
   "source": [
    "- all metrics for both the models"
   ]
  },
  {
   "cell_type": "code",
   "execution_count": 166,
   "id": "1a1da101",
   "metadata": {},
   "outputs": [],
   "source": [
    "a1=accuracy_score(y_test,y_pred)\n",
    "a2=accuracy_score(y_test,y_pred2)\n",
    "p1=precision_score(y_test,y_pred,average='weighted')\n",
    "p2=precision_score(y_test,y_pred2,average='weighted')\n",
    "r1=recall_score(y_test,y_pred,average='weighted')\n",
    "r2=recall_score(y_test,y_pred2,average='weighted')\n",
    "f1=f1_score(y_test,y_pred,average='weighted')\n",
    "f2=f1_score(y_test,y_pred2,average='weighted')"
   ]
  },
  {
   "cell_type": "code",
   "execution_count": 167,
   "id": "257ecdbd",
   "metadata": {},
   "outputs": [],
   "source": [
    "metrics=pd.DataFrame({\"Decision tree classifier\":[a1,p1,r1,f1],\"Random forest Classifier\":[a2,p2,r2,f2]},index=[\"accuracy\",\"precision\",\"recall\",\"f1 score\"])"
   ]
  },
  {
   "cell_type": "code",
   "execution_count": 168,
   "id": "f365ac40",
   "metadata": {},
   "outputs": [
    {
     "data": {
      "text/html": [
       "<div>\n",
       "<style scoped>\n",
       "    .dataframe tbody tr th:only-of-type {\n",
       "        vertical-align: middle;\n",
       "    }\n",
       "\n",
       "    .dataframe tbody tr th {\n",
       "        vertical-align: top;\n",
       "    }\n",
       "\n",
       "    .dataframe thead th {\n",
       "        text-align: right;\n",
       "    }\n",
       "</style>\n",
       "<table border=\"1\" class=\"dataframe\">\n",
       "  <thead>\n",
       "    <tr style=\"text-align: right;\">\n",
       "      <th></th>\n",
       "      <th>Decision tree classifier</th>\n",
       "      <th>Random forest Classifier</th>\n",
       "    </tr>\n",
       "  </thead>\n",
       "  <tbody>\n",
       "    <tr>\n",
       "      <th>accuracy</th>\n",
       "      <td>0.687036</td>\n",
       "      <td>0.692438</td>\n",
       "    </tr>\n",
       "    <tr>\n",
       "      <th>precision</th>\n",
       "      <td>0.613719</td>\n",
       "      <td>0.614464</td>\n",
       "    </tr>\n",
       "    <tr>\n",
       "      <th>recall</th>\n",
       "      <td>0.687036</td>\n",
       "      <td>0.692438</td>\n",
       "    </tr>\n",
       "    <tr>\n",
       "      <th>f1 score</th>\n",
       "      <td>0.594523</td>\n",
       "      <td>0.581650</td>\n",
       "    </tr>\n",
       "  </tbody>\n",
       "</table>\n",
       "</div>"
      ],
      "text/plain": [
       "           Decision tree classifier  Random forest Classifier\n",
       "accuracy                   0.687036                  0.692438\n",
       "precision                  0.613719                  0.614464\n",
       "recall                     0.687036                  0.692438\n",
       "f1 score                   0.594523                  0.581650"
      ]
     },
     "execution_count": 168,
     "metadata": {},
     "output_type": "execute_result"
    }
   ],
   "source": [
    "metrics"
   ]
  },
  {
   "cell_type": "code",
   "execution_count": 169,
   "id": "a067e242",
   "metadata": {},
   "outputs": [],
   "source": [
    "#Decision Tree classifier was built with tuning hyper parameters.\n",
    "# Then Random forest Classifier was built also by tuning hyper parameters.\n",
    "# Ensemble model RF classifier has little higher accuracy even though there were 30 base trees .\n",
    "#For this dataset and features it is not worth to build random forest classifier considering the complexity and its accuracy. All together model is not so good model."
   ]
  },
  {
   "cell_type": "code",
   "execution_count": null,
   "id": "80c32000",
   "metadata": {},
   "outputs": [],
   "source": []
  }
 ],
 "metadata": {
  "kernelspec": {
   "display_name": "Python 3 (ipykernel)",
   "language": "python",
   "name": "python3"
  },
  "language_info": {
   "codemirror_mode": {
    "name": "ipython",
    "version": 3
   },
   "file_extension": ".py",
   "mimetype": "text/x-python",
   "name": "python",
   "nbconvert_exporter": "python",
   "pygments_lexer": "ipython3",
   "version": "3.9.12"
  }
 },
 "nbformat": 4,
 "nbformat_minor": 5
}
