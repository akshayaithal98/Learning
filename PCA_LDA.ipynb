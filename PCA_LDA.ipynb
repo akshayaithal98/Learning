{
 "cells": [
  {
   "cell_type": "code",
   "execution_count": 1,
   "id": "b71d71a1",
   "metadata": {},
   "outputs": [],
   "source": [
    "#deriving variables from features which represents the features but are not same\n",
    "#dimentionality redeuction techniques\n",
    "#it reduces number of features to be stored\n",
    "#data should exhibit variance.if it has 0 variance that means all data are same so no use.even high variance gives error\n",
    "#dimensionality reduction is based on variance\n",
    "#if data has variance then it carries information.\n",
    "#if variance=0 then it means all are same and no information can be generated"
   ]
  },
  {
   "cell_type": "code",
   "execution_count": 2,
   "id": "92a61bc6",
   "metadata": {},
   "outputs": [],
   "source": [
    "#pca,lda\n",
    "#principal component analysis\n",
    "#linear discriminant analysis\n",
    "#both are preprocessing steps before modelling\n",
    "#better visualization of dataset can be done by dimentionality reduction (DR)\n",
    "#reduced features are called principal component and they represent our original data in pca\n",
    "#pca works even when there is no class label but lda works only in supervised\n",
    "#pca\n",
    "#number of components is user defined.\n",
    "#first component contains more info rest components contains less in reducing order"
   ]
  },
  {
   "cell_type": "code",
   "execution_count": null,
   "id": "533f9dd0",
   "metadata": {},
   "outputs": [],
   "source": [
    "#LDA is like PCA but it focuses on maximising separability among known categories "
   ]
  },
  {
   "cell_type": "code",
   "execution_count": 3,
   "id": "3a707d31",
   "metadata": {},
   "outputs": [],
   "source": [
    "import pandas as pd\n",
    "import numpy as np\n",
    "import matplotlib.pyplot as plt\n",
    "from sklearn.preprocessing import MinMaxScaler, StandardScaler, FunctionTransformer,LabelEncoder\n",
    "from sklearn.cluster import DBSCAN, KMeans\n",
    "from sklearn.decomposition import PCA\n",
    "from sklearn.discriminant_analysis import LinearDiscriminantAnalysis\n",
    "from ipywidgets import interact\n",
    "import ipywidgets as widgets\n",
    "import seaborn as sns"
   ]
  },
  {
   "cell_type": "code",
   "execution_count": 4,
   "id": "ea5ede75",
   "metadata": {},
   "outputs": [
    {
     "data": {
      "text/html": [
       "<div>\n",
       "<style scoped>\n",
       "    .dataframe tbody tr th:only-of-type {\n",
       "        vertical-align: middle;\n",
       "    }\n",
       "\n",
       "    .dataframe tbody tr th {\n",
       "        vertical-align: top;\n",
       "    }\n",
       "\n",
       "    .dataframe thead th {\n",
       "        text-align: right;\n",
       "    }\n",
       "</style>\n",
       "<table border=\"1\" class=\"dataframe\">\n",
       "  <thead>\n",
       "    <tr style=\"text-align: right;\">\n",
       "      <th></th>\n",
       "      <th>CustomerID</th>\n",
       "      <th>Gender</th>\n",
       "      <th>Age</th>\n",
       "      <th>Annual Income (k$)</th>\n",
       "      <th>Spending Score (1-100)</th>\n",
       "    </tr>\n",
       "  </thead>\n",
       "  <tbody>\n",
       "    <tr>\n",
       "      <th>0</th>\n",
       "      <td>1</td>\n",
       "      <td>Male</td>\n",
       "      <td>19</td>\n",
       "      <td>15</td>\n",
       "      <td>39</td>\n",
       "    </tr>\n",
       "    <tr>\n",
       "      <th>1</th>\n",
       "      <td>2</td>\n",
       "      <td>Male</td>\n",
       "      <td>21</td>\n",
       "      <td>15</td>\n",
       "      <td>81</td>\n",
       "    </tr>\n",
       "    <tr>\n",
       "      <th>2</th>\n",
       "      <td>3</td>\n",
       "      <td>Female</td>\n",
       "      <td>20</td>\n",
       "      <td>16</td>\n",
       "      <td>6</td>\n",
       "    </tr>\n",
       "    <tr>\n",
       "      <th>3</th>\n",
       "      <td>4</td>\n",
       "      <td>Female</td>\n",
       "      <td>23</td>\n",
       "      <td>16</td>\n",
       "      <td>77</td>\n",
       "    </tr>\n",
       "    <tr>\n",
       "      <th>4</th>\n",
       "      <td>5</td>\n",
       "      <td>Female</td>\n",
       "      <td>31</td>\n",
       "      <td>17</td>\n",
       "      <td>40</td>\n",
       "    </tr>\n",
       "    <tr>\n",
       "      <th>...</th>\n",
       "      <td>...</td>\n",
       "      <td>...</td>\n",
       "      <td>...</td>\n",
       "      <td>...</td>\n",
       "      <td>...</td>\n",
       "    </tr>\n",
       "    <tr>\n",
       "      <th>195</th>\n",
       "      <td>196</td>\n",
       "      <td>Female</td>\n",
       "      <td>35</td>\n",
       "      <td>120</td>\n",
       "      <td>79</td>\n",
       "    </tr>\n",
       "    <tr>\n",
       "      <th>196</th>\n",
       "      <td>197</td>\n",
       "      <td>Female</td>\n",
       "      <td>45</td>\n",
       "      <td>126</td>\n",
       "      <td>28</td>\n",
       "    </tr>\n",
       "    <tr>\n",
       "      <th>197</th>\n",
       "      <td>198</td>\n",
       "      <td>Male</td>\n",
       "      <td>32</td>\n",
       "      <td>126</td>\n",
       "      <td>74</td>\n",
       "    </tr>\n",
       "    <tr>\n",
       "      <th>198</th>\n",
       "      <td>199</td>\n",
       "      <td>Male</td>\n",
       "      <td>32</td>\n",
       "      <td>137</td>\n",
       "      <td>18</td>\n",
       "    </tr>\n",
       "    <tr>\n",
       "      <th>199</th>\n",
       "      <td>200</td>\n",
       "      <td>Male</td>\n",
       "      <td>30</td>\n",
       "      <td>137</td>\n",
       "      <td>83</td>\n",
       "    </tr>\n",
       "  </tbody>\n",
       "</table>\n",
       "<p>200 rows × 5 columns</p>\n",
       "</div>"
      ],
      "text/plain": [
       "     CustomerID  Gender  Age  Annual Income (k$)  Spending Score (1-100)\n",
       "0             1    Male   19                  15                      39\n",
       "1             2    Male   21                  15                      81\n",
       "2             3  Female   20                  16                       6\n",
       "3             4  Female   23                  16                      77\n",
       "4             5  Female   31                  17                      40\n",
       "..          ...     ...  ...                 ...                     ...\n",
       "195         196  Female   35                 120                      79\n",
       "196         197  Female   45                 126                      28\n",
       "197         198    Male   32                 126                      74\n",
       "198         199    Male   32                 137                      18\n",
       "199         200    Male   30                 137                      83\n",
       "\n",
       "[200 rows x 5 columns]"
      ]
     },
     "execution_count": 4,
     "metadata": {},
     "output_type": "execute_result"
    }
   ],
   "source": [
    "df=pd.read_csv(\"DS2_C6_S5_MallCustomers_Data_Concept.csv\")\n",
    "df"
   ]
  },
  {
   "cell_type": "code",
   "execution_count": 5,
   "id": "63056e16",
   "metadata": {},
   "outputs": [
    {
     "name": "stdout",
     "output_type": "stream",
     "text": [
      "<class 'pandas.core.frame.DataFrame'>\n",
      "RangeIndex: 200 entries, 0 to 199\n",
      "Data columns (total 5 columns):\n",
      " #   Column                  Non-Null Count  Dtype \n",
      "---  ------                  --------------  ----- \n",
      " 0   CustomerID              200 non-null    int64 \n",
      " 1   Gender                  200 non-null    object\n",
      " 2   Age                     200 non-null    int64 \n",
      " 3   Annual Income (k$)      200 non-null    int64 \n",
      " 4   Spending Score (1-100)  200 non-null    int64 \n",
      "dtypes: int64(4), object(1)\n",
      "memory usage: 7.9+ KB\n"
     ]
    }
   ],
   "source": [
    "df.info()"
   ]
  },
  {
   "cell_type": "code",
   "execution_count": 6,
   "id": "747c1a0e",
   "metadata": {},
   "outputs": [],
   "source": [
    "df[\"Gender\"]=df[\"Gender\"].astype(\"category\")"
   ]
  },
  {
   "cell_type": "code",
   "execution_count": 7,
   "id": "99e6ee7b",
   "metadata": {},
   "outputs": [],
   "source": [
    "df[\"gender\"]=LabelEncoder().fit_transform(df[\"Gender\"])"
   ]
  },
  {
   "cell_type": "code",
   "execution_count": 8,
   "id": "7c680166",
   "metadata": {},
   "outputs": [],
   "source": [
    "df.drop([\"CustomerID\",\"Gender\"],axis=1,inplace=True)"
   ]
  },
  {
   "cell_type": "code",
   "execution_count": 9,
   "id": "21967c11",
   "metadata": {},
   "outputs": [],
   "source": [
    "scaler=MinMaxScaler()"
   ]
  },
  {
   "cell_type": "code",
   "execution_count": 10,
   "id": "1e354880",
   "metadata": {},
   "outputs": [],
   "source": [
    "df=pd.DataFrame(scaler.fit_transform(df),columns=df.columns)"
   ]
  },
  {
   "cell_type": "code",
   "execution_count": 11,
   "id": "4cfd6fdc",
   "metadata": {},
   "outputs": [
    {
     "data": {
      "text/html": [
       "<div>\n",
       "<style scoped>\n",
       "    .dataframe tbody tr th:only-of-type {\n",
       "        vertical-align: middle;\n",
       "    }\n",
       "\n",
       "    .dataframe tbody tr th {\n",
       "        vertical-align: top;\n",
       "    }\n",
       "\n",
       "    .dataframe thead th {\n",
       "        text-align: right;\n",
       "    }\n",
       "</style>\n",
       "<table border=\"1\" class=\"dataframe\">\n",
       "  <thead>\n",
       "    <tr style=\"text-align: right;\">\n",
       "      <th></th>\n",
       "      <th>Age</th>\n",
       "      <th>Annual Income (k$)</th>\n",
       "      <th>Spending Score (1-100)</th>\n",
       "      <th>gender</th>\n",
       "    </tr>\n",
       "  </thead>\n",
       "  <tbody>\n",
       "    <tr>\n",
       "      <th>0</th>\n",
       "      <td>0.019231</td>\n",
       "      <td>0.000000</td>\n",
       "      <td>0.387755</td>\n",
       "      <td>1.0</td>\n",
       "    </tr>\n",
       "    <tr>\n",
       "      <th>1</th>\n",
       "      <td>0.057692</td>\n",
       "      <td>0.000000</td>\n",
       "      <td>0.816327</td>\n",
       "      <td>1.0</td>\n",
       "    </tr>\n",
       "    <tr>\n",
       "      <th>2</th>\n",
       "      <td>0.038462</td>\n",
       "      <td>0.008197</td>\n",
       "      <td>0.051020</td>\n",
       "      <td>0.0</td>\n",
       "    </tr>\n",
       "    <tr>\n",
       "      <th>3</th>\n",
       "      <td>0.096154</td>\n",
       "      <td>0.008197</td>\n",
       "      <td>0.775510</td>\n",
       "      <td>0.0</td>\n",
       "    </tr>\n",
       "    <tr>\n",
       "      <th>4</th>\n",
       "      <td>0.250000</td>\n",
       "      <td>0.016393</td>\n",
       "      <td>0.397959</td>\n",
       "      <td>0.0</td>\n",
       "    </tr>\n",
       "    <tr>\n",
       "      <th>...</th>\n",
       "      <td>...</td>\n",
       "      <td>...</td>\n",
       "      <td>...</td>\n",
       "      <td>...</td>\n",
       "    </tr>\n",
       "    <tr>\n",
       "      <th>195</th>\n",
       "      <td>0.326923</td>\n",
       "      <td>0.860656</td>\n",
       "      <td>0.795918</td>\n",
       "      <td>0.0</td>\n",
       "    </tr>\n",
       "    <tr>\n",
       "      <th>196</th>\n",
       "      <td>0.519231</td>\n",
       "      <td>0.909836</td>\n",
       "      <td>0.275510</td>\n",
       "      <td>0.0</td>\n",
       "    </tr>\n",
       "    <tr>\n",
       "      <th>197</th>\n",
       "      <td>0.269231</td>\n",
       "      <td>0.909836</td>\n",
       "      <td>0.744898</td>\n",
       "      <td>1.0</td>\n",
       "    </tr>\n",
       "    <tr>\n",
       "      <th>198</th>\n",
       "      <td>0.269231</td>\n",
       "      <td>1.000000</td>\n",
       "      <td>0.173469</td>\n",
       "      <td>1.0</td>\n",
       "    </tr>\n",
       "    <tr>\n",
       "      <th>199</th>\n",
       "      <td>0.230769</td>\n",
       "      <td>1.000000</td>\n",
       "      <td>0.836735</td>\n",
       "      <td>1.0</td>\n",
       "    </tr>\n",
       "  </tbody>\n",
       "</table>\n",
       "<p>200 rows × 4 columns</p>\n",
       "</div>"
      ],
      "text/plain": [
       "          Age  Annual Income (k$)  Spending Score (1-100)  gender\n",
       "0    0.019231            0.000000                0.387755     1.0\n",
       "1    0.057692            0.000000                0.816327     1.0\n",
       "2    0.038462            0.008197                0.051020     0.0\n",
       "3    0.096154            0.008197                0.775510     0.0\n",
       "4    0.250000            0.016393                0.397959     0.0\n",
       "..        ...                 ...                     ...     ...\n",
       "195  0.326923            0.860656                0.795918     0.0\n",
       "196  0.519231            0.909836                0.275510     0.0\n",
       "197  0.269231            0.909836                0.744898     1.0\n",
       "198  0.269231            1.000000                0.173469     1.0\n",
       "199  0.230769            1.000000                0.836735     1.0\n",
       "\n",
       "[200 rows x 4 columns]"
      ]
     },
     "execution_count": 11,
     "metadata": {},
     "output_type": "execute_result"
    }
   ],
   "source": [
    "df"
   ]
  },
  {
   "cell_type": "code",
   "execution_count": 12,
   "id": "203250e6",
   "metadata": {},
   "outputs": [
    {
     "data": {
      "text/plain": [
       "array([0.57076896, 0.21404941])"
      ]
     },
     "execution_count": 12,
     "metadata": {},
     "output_type": "execute_result"
    }
   ],
   "source": [
    "from sklearn.decomposition import PCA\n",
    "from sklearn.discriminant_analysis import LinearDiscriminantAnalysis\n",
    "pca=PCA(n_components=2)\n",
    "df_r=pca.fit(df).transform(df)\n",
    "explained_variance=pca.explained_variance_ratio_\n",
    "explained_variance"
   ]
  },
  {
   "cell_type": "code",
   "execution_count": 13,
   "id": "0743d188",
   "metadata": {},
   "outputs": [],
   "source": [
    "#first component carries 57% of information and 2nd component carries 21% of info"
   ]
  },
  {
   "cell_type": "code",
   "execution_count": 14,
   "id": "9a052bf5",
   "metadata": {},
   "outputs": [
    {
     "data": {
      "text/plain": [
       "array([[ 0.53295542, -0.22784075],\n",
       "       [ 0.51393907, -0.49307991],\n",
       "       [-0.44626589,  0.08707859],\n",
       "       [-0.47879569, -0.36661673],\n",
       "       [-0.45198432,  0.00300619],\n",
       "       [-0.47905919, -0.37382159],\n",
       "       [-0.43069765,  0.29588454],\n",
       "       [-0.48682386, -0.48573543],\n",
       "       [ 0.59720084,  0.65030769],\n",
       "       [-0.46852807, -0.23475757],\n",
       "       [ 0.59471063,  0.61538677],\n",
       "       [-0.47701748, -0.35344875],\n",
       "       [-0.41158991,  0.55348602],\n",
       "       [-0.47682392, -0.35359718],\n",
       "       [ 0.56528242,  0.20358955],\n",
       "       [ 0.51715368, -0.46633419],\n",
       "       [-0.44449221,  0.09277798],\n",
       "       [ 0.52189242, -0.40373564],\n",
       "       [ 0.57308163,  0.30048935],\n",
       "       [-0.47555073, -0.34740109],\n",
       "       [ 0.55322264,  0.0212041 ],\n",
       "       [ 0.52414077, -0.38353428],\n",
       "       [-0.41744385,  0.45469933],\n",
       "       [ 0.53041637, -0.3000585 ],\n",
       "       [-0.41317979,  0.50279592],\n",
       "       [ 0.52462364, -0.39147651],\n",
       "       [-0.43124278,  0.25160046],\n",
       "       [ 0.54117158, -0.16119671],\n",
       "       [-0.43552899,  0.18858975],\n",
       "       [-0.48066249, -0.43944118],\n",
       "       [ 0.59533422,  0.58495952],\n",
       "       [-0.47542309, -0.36986305],\n",
       "       [ 0.58901903,  0.48660036],\n",
       "       [ 0.50976219, -0.6159032 ],\n",
       "       [-0.41700057,  0.43187373],\n",
       "       [-0.4787038 , -0.42639857],\n",
       "       [-0.42530078,  0.31304181],\n",
       "       [-0.46540588, -0.24523182],\n",
       "       [-0.43511623,  0.16581795],\n",
       "       [-0.47573943, -0.39940451],\n",
       "       [-0.41021593,  0.50736117],\n",
       "       [ 0.51700388, -0.53335933],\n",
       "       [ 0.56941866,  0.19209884],\n",
       "       [-0.45718467, -0.14869037],\n",
       "       [-0.42256067,  0.33276183],\n",
       "       [-0.46622707, -0.27426889],\n",
       "       [-0.43483128,  0.15803184],\n",
       "       [-0.45395663, -0.10701517],\n",
       "       [-0.44944197, -0.04421438],\n",
       "       [-0.44743061, -0.01631146],\n",
       "       [-0.43385193,  0.16455314],\n",
       "       [ 0.5430422 , -0.18538176],\n",
       "       [-0.45271396, -0.10076527],\n",
       "       [ 0.56943139,  0.17712324],\n",
       "       [-0.42910011,  0.22712864],\n",
       "       [ 0.56687577,  0.14231761],\n",
       "       [-0.43035621,  0.20594925],\n",
       "       [ 0.58673895,  0.41411889],\n",
       "       [-0.45451013, -0.13633133],\n",
       "       [ 0.57113112,  0.19042957],\n",
       "       [ 0.58322108,  0.35780866],\n",
       "       [ 0.53243207, -0.34673625],\n",
       "       [-0.41454208,  0.41451454],\n",
       "       [-0.43112053,  0.18428854],\n",
       "       [ 0.57916767,  0.29458035],\n",
       "       [ 0.5299068 , -0.38907196],\n",
       "       [-0.43743555,  0.09340566],\n",
       "       [-0.41129224,  0.45615132],\n",
       "       [ 0.53091248, -0.3751205 ],\n",
       "       [-0.44699605, -0.03912169],\n",
       "       [ 0.58444631,  0.3640893 ],\n",
       "       [-0.42916603,  0.20481511],\n",
       "       [-0.41935529,  0.3370941 ],\n",
       "       [-0.42285991,  0.28823709],\n",
       "       [ 0.57859672,  0.26529493],\n",
       "       [ 0.54190468, -0.24396028],\n",
       "       [-0.43547703,  0.09897199],\n",
       "       [ 0.55898815, -0.00676239],\n",
       "       [-0.45710133, -0.20098057],\n",
       "       [-0.42594706,  0.23155314],\n",
       "       [ 0.57458273,  0.20947372],\n",
       "       [ 0.55347217, -0.08352232],\n",
       "       [ 0.58964612,  0.41878406],\n",
       "       [-0.42996542,  0.17573961],\n",
       "       [-0.46161598, -0.26378136],\n",
       "       [ 0.56803491,  0.11880844],\n",
       "       [-0.42719896,  0.20288979],\n",
       "       [-0.45888442, -0.23656968],\n",
       "       [-0.44907803, -0.104283  ],\n",
       "       [-0.42597792,  0.21665439],\n",
       "       [-0.4121401 ,  0.40473154],\n",
       "       [ 0.54157543, -0.2660024 ],\n",
       "       [ 0.56798207,  0.09647185],\n",
       "       [-0.43254772,  0.11855127],\n",
       "       [-0.44159447, -0.00701956],\n",
       "       [ 0.54234377, -0.25930192],\n",
       "       [-0.42901258,  0.16735448],\n",
       "       [-0.45062815, -0.13261345],\n",
       "       [ 0.57172821,  0.14509589],\n",
       "       [ 0.54006456, -0.29440202],\n",
       "       [-0.44966188, -0.12606909],\n",
       "       [-0.42701883,  0.18781187],\n",
       "       [ 0.58256643,  0.29128791],\n",
       "       [ 0.5433362 , -0.25280368],\n",
       "       [ 0.56596617,  0.06110034],\n",
       "       [-0.4521739 , -0.16095158],\n",
       "       [-0.41068207,  0.41079458],\n",
       "       [ 0.57624269,  0.2004204 ],\n",
       "       [ 0.59182419,  0.41667957],\n",
       "       [ 0.58730953,  0.35387878],\n",
       "       [ 0.58430121,  0.31200903],\n",
       "       [-0.45995166, -0.27284236],\n",
       "       [-0.4345943 ,  0.07575729],\n",
       "       [ 0.54128543, -0.2881137 ],\n",
       "       [-0.45747033, -0.24538234],\n",
       "       [-0.45746597, -0.24539002],\n",
       "       [-0.40971145,  0.41733125],\n",
       "       [-0.43180152,  0.11033763],\n",
       "       [-0.42129656,  0.24944777],\n",
       "       [-0.42931147,  0.13778228],\n",
       "       [ 0.54504884, -0.24699668],\n",
       "       [-0.43286841,  0.0890175 ],\n",
       "       [-0.43938588, -0.00917785],\n",
       "       [ 0.54007695, -0.32433017],\n",
       "       [-0.44172178, -0.04417804],\n",
       "       [-0.45770801, -0.26758587],\n",
       "       [ 0.57261966,  0.12186581],\n",
       "       [ 0.53956303, -0.33876296],\n",
       "       [ 0.60072637,  0.51259894],\n",
       "       [ 0.54756487, -0.22707442],\n",
       "       [ 0.58965953,  0.35914056],\n",
       "       [ 0.54857055, -0.21312296],\n",
       "       [-0.44173068, -0.05163894],\n",
       "       [-0.45422101, -0.22617438],\n",
       "       [ 0.56499186,  0.00990346],\n",
       "       [-0.46450206, -0.37296303],\n",
       "       [-0.40886343,  0.40165431],\n",
       "       [ 0.54301516, -0.29728999],\n",
       "       [ 0.56172441, -0.03917884],\n",
       "       [-0.4502159 , -0.17781407],\n",
       "       [-0.39430523,  0.59651649],\n",
       "       [ 0.53348501, -0.43734741],\n",
       "       [-0.4407515 , -0.05259391],\n",
       "       [-0.46025979, -0.32482801],\n",
       "       [ 0.56748173,  0.02987184],\n",
       "       [ 0.5279427 , -0.5215375 ],\n",
       "       [ 0.57859653,  0.18324567],\n",
       "       [-0.45350969, -0.23432653],\n",
       "       [-0.4252225 ,  0.15628122],\n",
       "       [ 0.53772292, -0.38920471],\n",
       "       [ 0.58332219,  0.24586728],\n",
       "       [ 0.54375263, -0.30548826],\n",
       "       [-0.41416439,  0.30975497],\n",
       "       [-0.44823541, -0.16480989],\n",
       "       [-0.40914471,  0.37952764],\n",
       "       [-0.46580646, -0.40901041],\n",
       "       [ 0.58529867,  0.27383169],\n",
       "       [-0.45728217, -0.29038073],\n",
       "       [ 0.58228163,  0.23197731],\n",
       "       [-0.45477887, -0.25548286],\n",
       "       [-0.4093646 ,  0.37224592],\n",
       "       [-0.46054962, -0.33946303],\n",
       "       [ 0.56591837, -0.00591182],\n",
       "       [-0.46306181, -0.3818218 ],\n",
       "       [ 0.58754667,  0.2790805 ],\n",
       "       [-0.44805545, -0.18736409],\n",
       "       [ 0.58274672,  0.20911328],\n",
       "       [-0.46084416, -0.36904291],\n",
       "       [-0.42354074,  0.14718947],\n",
       "       [ 0.55140308, -0.23075595],\n",
       "       [ 0.5844815 ,  0.22983439],\n",
       "       [ 0.54137244, -0.37031667],\n",
       "       [ 0.58196076,  0.19496727],\n",
       "       [ 0.54090666, -0.37735773],\n",
       "       [-0.4001991 ,  0.46789388],\n",
       "       [-0.45887222, -0.34854709],\n",
       "       [ 0.60182394,  0.46676856],\n",
       "       [ 0.54361224, -0.34262367],\n",
       "       [ 0.60453789,  0.4865347 ],\n",
       "       [ 0.54235144, -0.37874792],\n",
       "       [-0.42262313,  0.12391328],\n",
       "       [-0.45468715, -0.32274098],\n",
       "       [ 0.59217101,  0.29702125],\n",
       "       [-0.45846398, -0.37878748],\n",
       "       [-0.42162198,  0.13039615],\n",
       "       [ 0.53526756, -0.4987601 ],\n",
       "       [-0.4005552 ,  0.41599278],\n",
       "       [ 0.54825838, -0.32472136],\n",
       "       [-0.40964137,  0.28301485],\n",
       "       [-0.44871463, -0.26135343],\n",
       "       [-0.41968509,  0.14347719],\n",
       "       [-0.4447268 , -0.2054861 ],\n",
       "       [ 0.58622464,  0.1610146 ],\n",
       "       [-0.447292  , -0.27765773],\n",
       "       [-0.39900074,  0.36974256],\n",
       "       [-0.44261046, -0.23738808],\n",
       "       [-0.40557088,  0.25668689],\n",
       "       [ 0.55531522, -0.31661741],\n",
       "       [ 0.58600892,  0.07167593],\n",
       "       [ 0.55145467, -0.40989925]])"
      ]
     },
     "execution_count": 14,
     "metadata": {},
     "output_type": "execute_result"
    }
   ],
   "source": [
    "#reduced companents (pc1,pc2). they are orthogonal\n",
    "df_r"
   ]
  },
  {
   "cell_type": "code",
   "execution_count": 15,
   "id": "2b9f950b",
   "metadata": {},
   "outputs": [
    {
     "data": {
      "text/plain": [
       "<matplotlib.collections.PathCollection at 0x215c4d951f0>"
      ]
     },
     "execution_count": 15,
     "metadata": {},
     "output_type": "execute_result"
    },
    {
     "data": {
      "image/png": "[encoded data removed]",
      "text/plain": [
       "<Figure size 432x288 with 1 Axes>"
      ]
     },
     "metadata": {
      "needs_background": "light"
     },
     "output_type": "display_data"
    }
   ],
   "source": [
    "plt.scatter(df_r[:,0],df_r[:,1])"
   ]
  },
  {
   "cell_type": "code",
   "execution_count": 16,
   "id": "ee295333",
   "metadata": {},
   "outputs": [],
   "source": [
    "model=KMeans(n_clusters=2).fit(df_r)"
   ]
  },
  {
   "cell_type": "code",
   "execution_count": 17,
   "id": "421c498a",
   "metadata": {},
   "outputs": [
    {
     "data": {
      "text/plain": [
       "Text(0.5, 1.0, 'Kmeans clustering on pca reduced components')"
      ]
     },
     "execution_count": 17,
     "metadata": {},
     "output_type": "execute_result"
    },
    {
     "data": {
      "image/png": "[encoded data removed]",
      "text/plain": [
       "<Figure size 432x288 with 1 Axes>"
      ]
     },
     "metadata": {
      "needs_background": "light"
     },
     "output_type": "display_data"
    }
   ],
   "source": [
    "plt.scatter(df_r[:,0],df_r[:,1],c=model.labels_,cmap=\"RdYlBu\")\n",
    "plt.scatter(model.cluster_centers_[:,0],model.cluster_centers_[:,1],c=\"yellow\",s=200,alpha=0.5)\n",
    "plt.title(\"Kmeans clustering on pca reduced components\")"
   ]
  },
  {
   "cell_type": "code",
   "execution_count": 19,
   "id": "c494120d",
   "metadata": {},
   "outputs": [
    {
     "data": {
      "text/plain": [
       "Index(['Age', 'Annual Income (k$)', 'Spending Score (1-100)', 'gender'], dtype='object')"
      ]
     },
     "execution_count": 19,
     "metadata": {},
     "output_type": "execute_result"
    }
   ],
   "source": [
    "#LDA\n",
    "df.columns"
   ]
  },
  {
   "cell_type": "code",
   "execution_count": 21,
   "id": "89375080",
   "metadata": {},
   "outputs": [],
   "source": [
    "x=df[[\"Age\",\"Annual Income (k$)\",\"Spending Score (1-100)\"]]"
   ]
  },
  {
   "cell_type": "code",
   "execution_count": 23,
   "id": "e924da54",
   "metadata": {},
   "outputs": [],
   "source": [
    "y=df[\"gender\"].astype(\"int\")"
   ]
  },
  {
   "cell_type": "code",
   "execution_count": 26,
   "id": "8f473684",
   "metadata": {},
   "outputs": [
    {
     "data": {
      "text/plain": [
       "0    112\n",
       "1     88\n",
       "Name: gender, dtype: int64"
      ]
     },
     "execution_count": 26,
     "metadata": {},
     "output_type": "execute_result"
    }
   ],
   "source": [
    "y.value_counts()"
   ]
  },
  {
   "cell_type": "code",
   "execution_count": 27,
   "id": "74fcfc97",
   "metadata": {},
   "outputs": [],
   "source": [
    "#NUMBER OF COMPONENTS=NO OF CLASSES-1 \n",
    "lda=LinearDiscriminantAnalysis(n_components=1)\n",
    "x_r2=lda.fit(x,y).transform(x)"
   ]
  },
  {
   "cell_type": "code",
   "execution_count": 28,
   "id": "07b89ba3",
   "metadata": {},
   "outputs": [
    {
     "data": {
      "text/plain": [
       "array([[ 1.59922551],\n",
       "       [ 2.28251258],\n",
       "       [ 0.94459926],\n",
       "       [ 2.11363335],\n",
       "       [ 1.13055821],\n",
       "       [ 2.10867743],\n",
       "       [ 0.34803452],\n",
       "       [ 2.37271101],\n",
       "       [-0.79179216],\n",
       "       [ 1.69645809],\n",
       "       [-0.70353433],\n",
       "       [ 1.99966659],\n",
       "       [-0.37943907],\n",
       "       [ 1.98272061],\n",
       "       [ 0.35372647],\n",
       "       [ 2.09200281],\n",
       "       [ 0.79969628],\n",
       "       [ 1.9075198 ],\n",
       "       [ 0.0217976 ],\n",
       "       [ 1.88736908],\n",
       "       [ 0.72898285],\n",
       "       [ 1.77975611],\n",
       "       [-0.23788622],\n",
       "       [ 1.53641599],\n",
       "       [-0.43950852],\n",
       "       [ 1.70107532],\n",
       "       [ 0.21437782],\n",
       "       [ 1.10303465],\n",
       "       [ 0.35593456],\n",
       "       [ 1.98733784],\n",
       "       [-0.88654917],\n",
       "       [ 1.78484189],\n",
       "       [-0.70086546],\n",
       "       [ 2.16625876],\n",
       "       [-0.37422343],\n",
       "       [ 1.85823196],\n",
       "       [-0.08735863],\n",
       "       [ 1.36090385],\n",
       "       [ 0.22381335],\n",
       "       [ 1.69249791],\n",
       "       [-0.69985807],\n",
       "       [ 1.82863406],\n",
       "       [-0.08273751],\n",
       "       [ 0.9902647 ],\n",
       "       [-0.26346918],\n",
       "       [ 1.31871359],\n",
       "       [ 0.16268083],\n",
       "       [ 0.86102508],\n",
       "       [ 0.69770406],\n",
       "       [ 0.62444774],\n",
       "       [ 0.09812789],\n",
       "       [ 0.828282  ],\n",
       "       [ 0.76988956],\n",
       "       [-0.14762138],\n",
       "       [-0.08816198],\n",
       "       [-0.05032924],\n",
       "       [-0.0582966 ],\n",
       "       [-0.78965528],\n",
       "       [ 0.79164996],\n",
       "       [-0.25074697],\n",
       "       [-0.69329636],\n",
       "       [ 1.15672701],\n",
       "       [-0.67903477],\n",
       "       [-0.07677808],\n",
       "       [-0.5741062 ],\n",
       "       [ 1.21826464],\n",
       "       [ 0.14044412],\n",
       "       [-0.81128583],\n",
       "       [ 1.18163647],\n",
       "       [ 0.4893151 ],\n",
       "       [-0.78202273],\n",
       "       [-0.17374318],\n",
       "       [-0.54738988],\n",
       "       [-0.42129931],\n",
       "       [-0.64107217],\n",
       "       [ 0.69374777],\n",
       "       [-0.02020026],\n",
       "       [ 0.07287586],\n",
       "       [ 0.76760638],\n",
       "       [-0.36485523],\n",
       "       [-0.49576409],\n",
       "       [ 0.27222275],\n",
       "       [-1.0421751 ],\n",
       "       [-0.21894487],\n",
       "       [ 0.9309274 ],\n",
       "       [-0.25617532],\n",
       "       [-0.36713064],\n",
       "       [ 0.78755992],\n",
       "       [ 0.41451551],\n",
       "       [-0.42371622],\n",
       "       [-0.94447786],\n",
       "       [ 0.63474916],\n",
       "       [-0.34356337],\n",
       "       [-0.21265451],\n",
       "       [ 0.11639667],\n",
       "       [ 0.58955135],\n",
       "       [-0.34296109],\n",
       "       [ 0.44364098],\n",
       "       [-0.49322508],\n",
       "       [ 0.65845404],\n",
       "       [ 0.3808949 ],\n",
       "       [-0.44534677],\n",
       "       [-0.90651138],\n",
       "       [ 0.52319155],\n",
       "       [-0.30124326],\n",
       "       [ 0.47216417],\n",
       "       [-1.0555708 ],\n",
       "       [-0.6880846 ],\n",
       "       [-1.2549177 ],\n",
       "       [-1.09159668],\n",
       "       [-0.98291677],\n",
       "       [ 0.7380046 ],\n",
       "       [-0.19765689],\n",
       "       [ 0.57032995],\n",
       "       [ 0.61941285],\n",
       "       [ 0.61881056],\n",
       "       [-1.11891917],\n",
       "       [-0.31791789],\n",
       "       [-0.72652351],\n",
       "       [-0.43771422],\n",
       "       [ 0.38672059],\n",
       "       [-0.3043962 ],\n",
       "       [-0.10056194],\n",
       "       [ 0.53049317],\n",
       "       [-0.02382951],\n",
       "       [ 0.5477662 ],\n",
       "       [-0.67188629],\n",
       "       [ 0.51877447],\n",
       "       [-1.6902474 ],\n",
       "       [ 0.23177204],\n",
       "       [-1.28673532],\n",
       "       [ 0.19514388],\n",
       "       [-0.05416344],\n",
       "       [ 0.39254628],\n",
       "       [-0.41696897],\n",
       "       [ 0.7484514 ],\n",
       "       [-1.260019  ],\n",
       "       [ 0.36837285],\n",
       "       [-0.31384726],\n",
       "       [ 0.21690428],\n",
       "       [-1.81935328],\n",
       "       [ 0.68148931],\n",
       "       [-0.15025488],\n",
       "       [ 0.54984054],\n",
       "       [-0.5683038 ],\n",
       "       [ 0.85291143],\n",
       "       [-0.97844104],\n",
       "       [ 0.29210121],\n",
       "       [-0.74139903],\n",
       "       [ 0.48348074],\n",
       "       [-1.16111719],\n",
       "       [ 0.26431405],\n",
       "       [-1.14370654],\n",
       "       [ 0.08478696],\n",
       "       [-1.32564278],\n",
       "       [ 0.72186494],\n",
       "       [-1.22955521],\n",
       "       [ 0.41383814],\n",
       "       [-1.11967073],\n",
       "       [ 0.32377345],\n",
       "       [-1.33662157],\n",
       "       [ 0.51695984],\n",
       "       [-0.56890997],\n",
       "       [ 0.5766906 ],\n",
       "       [-1.4203959 ],\n",
       "       [-0.02496767],\n",
       "       [-1.25901937],\n",
       "       [ 0.42160443],\n",
       "       [-0.93673098],\n",
       "       [-0.14175256],\n",
       "       [-1.33542476],\n",
       "       [ 0.22091534],\n",
       "       [-1.24295092],\n",
       "       [ 0.23410998],\n",
       "       [-1.79853386],\n",
       "       [ 0.32223019],\n",
       "       [-1.98227696],\n",
       "       [ 0.12589473],\n",
       "       [-2.15477379],\n",
       "       [ 0.0932854 ],\n",
       "       [-1.1190059 ],\n",
       "       [ 0.03683355],\n",
       "       [-1.77845046],\n",
       "       [ 0.15917277],\n",
       "       [-1.18657028],\n",
       "       [ 0.2610899 ],\n",
       "       [-1.98007276],\n",
       "       [-0.23517126],\n",
       "       [-1.6771395 ],\n",
       "       [-0.26911891],\n",
       "       [-1.31266473],\n",
       "       [-0.41081326],\n",
       "       [-1.78194209],\n",
       "       [-0.47000906],\n",
       "       [-2.31563088],\n",
       "       [-0.74127785],\n",
       "       [-2.16764618],\n",
       "       [-0.86288492],\n",
       "       [-2.13089204],\n",
       "       [-0.88679475]])"
      ]
     },
     "execution_count": 28,
     "metadata": {},
     "output_type": "execute_result"
    }
   ],
   "source": [
    "x_r2"
   ]
  },
  {
   "cell_type": "code",
   "execution_count": 36,
   "id": "3ccb3f1a",
   "metadata": {},
   "outputs": [],
   "source": [
    "#can use any supervised technique here for lda\n",
    "from sklearn.linear_model import LogisticRegression\n",
    "model=LogisticRegression().fit(x_r2,y)\n"
   ]
  },
  {
   "cell_type": "code",
   "execution_count": 37,
   "id": "e59d146d",
   "metadata": {},
   "outputs": [
    {
     "data": {
      "text/plain": [
       "LogisticRegression()"
      ]
     },
     "execution_count": 37,
     "metadata": {},
     "output_type": "execute_result"
    }
   ],
   "source": [
    "model"
   ]
  },
  {
   "cell_type": "code",
   "execution_count": 44,
   "id": "84a336c4",
   "metadata": {},
   "outputs": [],
   "source": [
    "xtest=x_r2.reshape(-1,1)"
   ]
  },
  {
   "cell_type": "code",
   "execution_count": 51,
   "id": "8209f4f6",
   "metadata": {},
   "outputs": [
    {
     "data": {
      "text/plain": [
       "(array([0, 1]), array([184,  16], dtype=int64))"
      ]
     },
     "execution_count": 51,
     "metadata": {},
     "output_type": "execute_result"
    }
   ],
   "source": [
    "np.unique(model.predict(xtest),return_counts=True)"
   ]
  },
  {
   "cell_type": "code",
   "execution_count": 52,
   "id": "012a20c7",
   "metadata": {},
   "outputs": [
    {
     "data": {
      "text/plain": [
       "0    112\n",
       "1     88\n",
       "Name: gender, dtype: int64"
      ]
     },
     "execution_count": 52,
     "metadata": {},
     "output_type": "execute_result"
    }
   ],
   "source": [
    "y.value_counts()"
   ]
  }
 ],
 "metadata": {
  "kernelspec": {
   "display_name": "Python 3 (ipykernel)",
   "language": "python",
   "name": "python3"
  },
  "language_info": {
   "codemirror_mode": {
    "name": "ipython",
    "version": 3
   },
   "file_extension": ".py",
   "mimetype": "text/x-python",
   "name": "python",
   "nbconvert_exporter": "python",
   "pygments_lexer": "ipython3",
   "version": "3.9.12"
  }
 },
 "nbformat": 4,
 "nbformat_minor": 5
}
