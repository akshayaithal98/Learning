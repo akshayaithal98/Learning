{
 "cells": [
  {
   "cell_type": "markdown",
   "id": "f8aae3b0",
   "metadata": {},
   "source": [
    "<div align=\"center\" style=\"color:Blue;font-size:20px\">Use a Regression Tree to Predict that a person will be recruited with his past experience</div>"
   ]
  },
  {
   "cell_type": "code",
   "execution_count": 193,
   "id": "193052e8",
   "metadata": {},
   "outputs": [],
   "source": [
    "import pandas as pd\n",
    "import numpy as np\n",
    "import matplotlib.pyplot as plt\n",
    "import seaborn as sb\n",
    "from sklearn.preprocessing import StandardScaler,LabelEncoder\n",
    "from sklearn.model_selection import train_test_split,cross_val_score,KFold\n",
    "from sklearn.tree import DecisionTreeRegressor\n",
    "from sklearn.metrics import mean_squared_error,mean_absolute_error"
   ]
  },
  {
   "cell_type": "code",
   "execution_count": 194,
   "id": "89bcd933",
   "metadata": {},
   "outputs": [
    {
     "data": {
      "text/html": [
       "<div>\n",
       "<style scoped>\n",
       "    .dataframe tbody tr th:only-of-type {\n",
       "        vertical-align: middle;\n",
       "    }\n",
       "\n",
       "    .dataframe tbody tr th {\n",
       "        vertical-align: top;\n",
       "    }\n",
       "\n",
       "    .dataframe thead th {\n",
       "        text-align: right;\n",
       "    }\n",
       "</style>\n",
       "<table border=\"1\" class=\"dataframe\">\n",
       "  <thead>\n",
       "    <tr style=\"text-align: right;\">\n",
       "      <th></th>\n",
       "      <th>satisfaction_level</th>\n",
       "      <th>last_evaluation</th>\n",
       "      <th>number_project</th>\n",
       "      <th>average_montly_hours</th>\n",
       "      <th>time_spend_company</th>\n",
       "      <th>Work_accident</th>\n",
       "      <th>left</th>\n",
       "      <th>promotion_last_5years</th>\n",
       "      <th>Department</th>\n",
       "      <th>salary</th>\n",
       "      <th>salary_num</th>\n",
       "    </tr>\n",
       "  </thead>\n",
       "  <tbody>\n",
       "    <tr>\n",
       "      <th>0</th>\n",
       "      <td>0.38</td>\n",
       "      <td>0.53</td>\n",
       "      <td>2</td>\n",
       "      <td>157</td>\n",
       "      <td>3</td>\n",
       "      <td>0</td>\n",
       "      <td>1</td>\n",
       "      <td>0</td>\n",
       "      <td>sales</td>\n",
       "      <td>low</td>\n",
       "      <td>4649</td>\n",
       "    </tr>\n",
       "    <tr>\n",
       "      <th>1</th>\n",
       "      <td>0.80</td>\n",
       "      <td>0.86</td>\n",
       "      <td>5</td>\n",
       "      <td>262</td>\n",
       "      <td>6</td>\n",
       "      <td>0</td>\n",
       "      <td>1</td>\n",
       "      <td>0</td>\n",
       "      <td>sales</td>\n",
       "      <td>medium</td>\n",
       "      <td>34126</td>\n",
       "    </tr>\n",
       "    <tr>\n",
       "      <th>2</th>\n",
       "      <td>0.11</td>\n",
       "      <td>0.88</td>\n",
       "      <td>7</td>\n",
       "      <td>272</td>\n",
       "      <td>4</td>\n",
       "      <td>0</td>\n",
       "      <td>1</td>\n",
       "      <td>0</td>\n",
       "      <td>sales</td>\n",
       "      <td>medium</td>\n",
       "      <td>40522</td>\n",
       "    </tr>\n",
       "    <tr>\n",
       "      <th>3</th>\n",
       "      <td>0.72</td>\n",
       "      <td>0.87</td>\n",
       "      <td>5</td>\n",
       "      <td>223</td>\n",
       "      <td>5</td>\n",
       "      <td>0</td>\n",
       "      <td>1</td>\n",
       "      <td>0</td>\n",
       "      <td>sales</td>\n",
       "      <td>low</td>\n",
       "      <td>6916</td>\n",
       "    </tr>\n",
       "    <tr>\n",
       "      <th>4</th>\n",
       "      <td>0.37</td>\n",
       "      <td>0.52</td>\n",
       "      <td>2</td>\n",
       "      <td>159</td>\n",
       "      <td>3</td>\n",
       "      <td>0</td>\n",
       "      <td>1</td>\n",
       "      <td>0</td>\n",
       "      <td>sales</td>\n",
       "      <td>low</td>\n",
       "      <td>10928</td>\n",
       "    </tr>\n",
       "  </tbody>\n",
       "</table>\n",
       "</div>"
      ],
      "text/plain": [
       "   satisfaction_level  last_evaluation  number_project  average_montly_hours  \\\n",
       "0                0.38             0.53               2                   157   \n",
       "1                0.80             0.86               5                   262   \n",
       "2                0.11             0.88               7                   272   \n",
       "3                0.72             0.87               5                   223   \n",
       "4                0.37             0.52               2                   159   \n",
       "\n",
       "   time_spend_company  Work_accident  left  promotion_last_5years Department  \\\n",
       "0                   3              0     1                      0      sales   \n",
       "1                   6              0     1                      0      sales   \n",
       "2                   4              0     1                      0      sales   \n",
       "3                   5              0     1                      0      sales   \n",
       "4                   3              0     1                      0      sales   \n",
       "\n",
       "   salary  salary_num  \n",
       "0     low        4649  \n",
       "1  medium       34126  \n",
       "2  medium       40522  \n",
       "3     low        6916  \n",
       "4     low       10928  "
      ]
     },
     "execution_count": 194,
     "metadata": {},
     "output_type": "execute_result"
    }
   ],
   "source": [
    "df=pd.read_excel(\"DS2_C5_S5_HR_Data_Practice.xlsx\")\n",
    "df.head()"
   ]
  },
  {
   "cell_type": "markdown",
   "id": "12022c8f",
   "metadata": {},
   "source": [
    "### Task1"
   ]
  },
  {
   "cell_type": "markdown",
   "id": "daf272d3",
   "metadata": {},
   "source": [
    "- Data Exploration"
   ]
  },
  {
   "cell_type": "code",
   "execution_count": 195,
   "id": "531135a6",
   "metadata": {},
   "outputs": [
    {
     "data": {
      "text/plain": [
       "(14999, 11)"
      ]
     },
     "execution_count": 195,
     "metadata": {},
     "output_type": "execute_result"
    }
   ],
   "source": [
    "df.shape"
   ]
  },
  {
   "cell_type": "code",
   "execution_count": 196,
   "id": "5391fb87",
   "metadata": {},
   "outputs": [
    {
     "data": {
      "text/plain": [
       "Index(['satisfaction_level', 'last_evaluation', 'number_project',\n",
       "       'average_montly_hours', 'time_spend_company', 'Work_accident', 'left',\n",
       "       'promotion_last_5years', 'Department', 'salary', 'salary_num'],\n",
       "      dtype='object')"
      ]
     },
     "execution_count": 196,
     "metadata": {},
     "output_type": "execute_result"
    }
   ],
   "source": [
    "df.columns"
   ]
  },
  {
   "cell_type": "code",
   "execution_count": 197,
   "id": "7c38856f",
   "metadata": {},
   "outputs": [
    {
     "name": "stdout",
     "output_type": "stream",
     "text": [
      "<class 'pandas.core.frame.DataFrame'>\n",
      "RangeIndex: 14999 entries, 0 to 14998\n",
      "Data columns (total 11 columns):\n",
      " #   Column                 Non-Null Count  Dtype  \n",
      "---  ------                 --------------  -----  \n",
      " 0   satisfaction_level     14999 non-null  float64\n",
      " 1   last_evaluation        14999 non-null  float64\n",
      " 2   number_project         14999 non-null  int64  \n",
      " 3   average_montly_hours   14999 non-null  int64  \n",
      " 4   time_spend_company     14999 non-null  int64  \n",
      " 5   Work_accident          14999 non-null  int64  \n",
      " 6   left                   14999 non-null  int64  \n",
      " 7   promotion_last_5years  14999 non-null  int64  \n",
      " 8   Department             14999 non-null  object \n",
      " 9   salary                 14999 non-null  object \n",
      " 10  salary_num             14999 non-null  int64  \n",
      "dtypes: float64(2), int64(7), object(2)\n",
      "memory usage: 1.3+ MB\n"
     ]
    }
   ],
   "source": [
    "df.info()"
   ]
  },
  {
   "cell_type": "code",
   "execution_count": 198,
   "id": "b09857cc",
   "metadata": {},
   "outputs": [
    {
     "data": {
      "text/html": [
       "<div>\n",
       "<style scoped>\n",
       "    .dataframe tbody tr th:only-of-type {\n",
       "        vertical-align: middle;\n",
       "    }\n",
       "\n",
       "    .dataframe tbody tr th {\n",
       "        vertical-align: top;\n",
       "    }\n",
       "\n",
       "    .dataframe thead th {\n",
       "        text-align: right;\n",
       "    }\n",
       "</style>\n",
       "<table border=\"1\" class=\"dataframe\">\n",
       "  <thead>\n",
       "    <tr style=\"text-align: right;\">\n",
       "      <th></th>\n",
       "      <th>satisfaction_level</th>\n",
       "      <th>last_evaluation</th>\n",
       "      <th>number_project</th>\n",
       "      <th>average_montly_hours</th>\n",
       "      <th>time_spend_company</th>\n",
       "      <th>Work_accident</th>\n",
       "      <th>left</th>\n",
       "      <th>promotion_last_5years</th>\n",
       "      <th>salary_num</th>\n",
       "    </tr>\n",
       "  </thead>\n",
       "  <tbody>\n",
       "    <tr>\n",
       "      <th>count</th>\n",
       "      <td>14999.000000</td>\n",
       "      <td>14999.000000</td>\n",
       "      <td>14999.000000</td>\n",
       "      <td>14999.000000</td>\n",
       "      <td>14999.000000</td>\n",
       "      <td>14999.000000</td>\n",
       "      <td>14999.000000</td>\n",
       "      <td>14999.000000</td>\n",
       "      <td>14999.000000</td>\n",
       "    </tr>\n",
       "    <tr>\n",
       "      <th>mean</th>\n",
       "      <td>0.612834</td>\n",
       "      <td>0.716102</td>\n",
       "      <td>3.803054</td>\n",
       "      <td>201.050337</td>\n",
       "      <td>3.498233</td>\n",
       "      <td>0.144610</td>\n",
       "      <td>0.238083</td>\n",
       "      <td>0.021268</td>\n",
       "      <td>30085.475432</td>\n",
       "    </tr>\n",
       "    <tr>\n",
       "      <th>std</th>\n",
       "      <td>0.248631</td>\n",
       "      <td>0.171169</td>\n",
       "      <td>1.232592</td>\n",
       "      <td>49.943099</td>\n",
       "      <td>1.460136</td>\n",
       "      <td>0.351719</td>\n",
       "      <td>0.425924</td>\n",
       "      <td>0.144281</td>\n",
       "      <td>33465.313560</td>\n",
       "    </tr>\n",
       "    <tr>\n",
       "      <th>min</th>\n",
       "      <td>0.090000</td>\n",
       "      <td>0.360000</td>\n",
       "      <td>2.000000</td>\n",
       "      <td>96.000000</td>\n",
       "      <td>2.000000</td>\n",
       "      <td>0.000000</td>\n",
       "      <td>0.000000</td>\n",
       "      <td>0.000000</td>\n",
       "      <td>1.000000</td>\n",
       "    </tr>\n",
       "    <tr>\n",
       "      <th>25%</th>\n",
       "      <td>0.440000</td>\n",
       "      <td>0.560000</td>\n",
       "      <td>3.000000</td>\n",
       "      <td>156.000000</td>\n",
       "      <td>3.000000</td>\n",
       "      <td>0.000000</td>\n",
       "      <td>0.000000</td>\n",
       "      <td>0.000000</td>\n",
       "      <td>10334.000000</td>\n",
       "    </tr>\n",
       "    <tr>\n",
       "      <th>50%</th>\n",
       "      <td>0.640000</td>\n",
       "      <td>0.720000</td>\n",
       "      <td>4.000000</td>\n",
       "      <td>200.000000</td>\n",
       "      <td>3.000000</td>\n",
       "      <td>0.000000</td>\n",
       "      <td>0.000000</td>\n",
       "      <td>0.000000</td>\n",
       "      <td>20875.000000</td>\n",
       "    </tr>\n",
       "    <tr>\n",
       "      <th>75%</th>\n",
       "      <td>0.820000</td>\n",
       "      <td>0.870000</td>\n",
       "      <td>5.000000</td>\n",
       "      <td>245.000000</td>\n",
       "      <td>4.000000</td>\n",
       "      <td>0.000000</td>\n",
       "      <td>0.000000</td>\n",
       "      <td>0.000000</td>\n",
       "      <td>38186.500000</td>\n",
       "    </tr>\n",
       "    <tr>\n",
       "      <th>max</th>\n",
       "      <td>1.000000</td>\n",
       "      <td>1.000000</td>\n",
       "      <td>7.000000</td>\n",
       "      <td>310.000000</td>\n",
       "      <td>10.000000</td>\n",
       "      <td>1.000000</td>\n",
       "      <td>1.000000</td>\n",
       "      <td>1.000000</td>\n",
       "      <td>199768.000000</td>\n",
       "    </tr>\n",
       "  </tbody>\n",
       "</table>\n",
       "</div>"
      ],
      "text/plain": [
       "       satisfaction_level  last_evaluation  number_project  \\\n",
       "count        14999.000000     14999.000000    14999.000000   \n",
       "mean             0.612834         0.716102        3.803054   \n",
       "std              0.248631         0.171169        1.232592   \n",
       "min              0.090000         0.360000        2.000000   \n",
       "25%              0.440000         0.560000        3.000000   \n",
       "50%              0.640000         0.720000        4.000000   \n",
       "75%              0.820000         0.870000        5.000000   \n",
       "max              1.000000         1.000000        7.000000   \n",
       "\n",
       "       average_montly_hours  time_spend_company  Work_accident          left  \\\n",
       "count          14999.000000        14999.000000   14999.000000  14999.000000   \n",
       "mean             201.050337            3.498233       0.144610      0.238083   \n",
       "std               49.943099            1.460136       0.351719      0.425924   \n",
       "min               96.000000            2.000000       0.000000      0.000000   \n",
       "25%              156.000000            3.000000       0.000000      0.000000   \n",
       "50%              200.000000            3.000000       0.000000      0.000000   \n",
       "75%              245.000000            4.000000       0.000000      0.000000   \n",
       "max              310.000000           10.000000       1.000000      1.000000   \n",
       "\n",
       "       promotion_last_5years     salary_num  \n",
       "count           14999.000000   14999.000000  \n",
       "mean                0.021268   30085.475432  \n",
       "std                 0.144281   33465.313560  \n",
       "min                 0.000000       1.000000  \n",
       "25%                 0.000000   10334.000000  \n",
       "50%                 0.000000   20875.000000  \n",
       "75%                 0.000000   38186.500000  \n",
       "max                 1.000000  199768.000000  "
      ]
     },
     "execution_count": 198,
     "metadata": {},
     "output_type": "execute_result"
    }
   ],
   "source": [
    "df.describe()"
   ]
  },
  {
   "cell_type": "markdown",
   "id": "58c53b6f",
   "metadata": {},
   "source": [
    "- Impact of Salary on employee retention and Department wise employee retention rate"
   ]
  },
  {
   "cell_type": "code",
   "execution_count": 199,
   "id": "3d3c737a",
   "metadata": {},
   "outputs": [
    {
     "data": {
      "image/png": "[encoded data removed]",
      "text/plain": [
       "<Figure size 1440x1080 with 6 Axes>"
      ]
     },
     "metadata": {
      "needs_background": "light"
     },
     "output_type": "display_data"
    }
   ],
   "source": [
    "plt.figure(figsize=(20,15))\n",
    "plt.subplot(221)\n",
    "sb.countplot(data=df,x=\"salary\",hue=\"left\")\n",
    "plt.subplot(222)\n",
    "sb.countplot(data=df,x=\"Department\",hue=\"left\")\n",
    "plt.xticks(rotation=45)\n",
    "plt.subplot(223)\n",
    "sb.heatmap(pd.crosstab(index=df[\"left\"],columns=df[\"salary\"],normalize='columns'),annot=True)\n",
    "plt.subplot(224)\n",
    "sb.heatmap(pd.crosstab(index=df[\"left\"],columns=df[\"Department\"],normalize='columns'),annot=True)\n",
    "plt.show()"
   ]
  },
  {
   "cell_type": "code",
   "execution_count": 200,
   "id": "ea499731",
   "metadata": {},
   "outputs": [
    {
     "data": {
      "text/html": [
       "<div>\n",
       "<style scoped>\n",
       "    .dataframe tbody tr th:only-of-type {\n",
       "        vertical-align: middle;\n",
       "    }\n",
       "\n",
       "    .dataframe tbody tr th {\n",
       "        vertical-align: top;\n",
       "    }\n",
       "\n",
       "    .dataframe thead tr th {\n",
       "        text-align: left;\n",
       "    }\n",
       "\n",
       "    .dataframe thead tr:last-of-type th {\n",
       "        text-align: right;\n",
       "    }\n",
       "</style>\n",
       "<table border=\"1\" class=\"dataframe\">\n",
       "  <thead>\n",
       "    <tr>\n",
       "      <th></th>\n",
       "      <th>mean</th>\n",
       "      <th>median</th>\n",
       "    </tr>\n",
       "    <tr>\n",
       "      <th></th>\n",
       "      <th>salary_num</th>\n",
       "      <th>salary_num</th>\n",
       "    </tr>\n",
       "    <tr>\n",
       "      <th>left</th>\n",
       "      <th></th>\n",
       "      <th></th>\n",
       "    </tr>\n",
       "  </thead>\n",
       "  <tbody>\n",
       "    <tr>\n",
       "      <th>0</th>\n",
       "      <td>32714.868481</td>\n",
       "      <td>23714</td>\n",
       "    </tr>\n",
       "    <tr>\n",
       "      <th>1</th>\n",
       "      <td>21670.828619</td>\n",
       "      <td>16548</td>\n",
       "    </tr>\n",
       "  </tbody>\n",
       "</table>\n",
       "</div>"
      ],
      "text/plain": [
       "              mean     median\n",
       "        salary_num salary_num\n",
       "left                         \n",
       "0     32714.868481      23714\n",
       "1     21670.828619      16548"
      ]
     },
     "execution_count": 200,
     "metadata": {},
     "output_type": "execute_result"
    }
   ],
   "source": [
    "df.pivot_table(index=\"left\",values=\"salary_num\",aggfunc=[\"mean\",\"median\"])"
   ]
  },
  {
   "cell_type": "markdown",
   "id": "76c15e9d",
   "metadata": {},
   "source": [
    "- out of resigned employees Low salaried employees are more in numbers\n",
    "- out of resigned employees sales department employees are more in numers\n",
    "- high salaries ones have lower attrition rate\n",
    "- RandD and management have lower attrition rate\n"
   ]
  },
  {
   "cell_type": "markdown",
   "id": "54c5da8d",
   "metadata": {},
   "source": [
    "### Task2"
   ]
  },
  {
   "cell_type": "markdown",
   "id": "739ca631",
   "metadata": {},
   "source": [
    "- Data Preprocessing"
   ]
  },
  {
   "cell_type": "code",
   "execution_count": 201,
   "id": "1f70eb15",
   "metadata": {},
   "outputs": [
    {
     "data": {
      "text/plain": [
       "satisfaction_level       0\n",
       "last_evaluation          0\n",
       "number_project           0\n",
       "average_montly_hours     0\n",
       "time_spend_company       0\n",
       "Work_accident            0\n",
       "left                     0\n",
       "promotion_last_5years    0\n",
       "Department               0\n",
       "salary                   0\n",
       "salary_num               0\n",
       "dtype: int64"
      ]
     },
     "execution_count": 201,
     "metadata": {},
     "output_type": "execute_result"
    }
   ],
   "source": [
    "df.isnull().sum()"
   ]
  },
  {
   "cell_type": "code",
   "execution_count": 202,
   "id": "34595aa6",
   "metadata": {},
   "outputs": [
    {
     "data": {
      "text/plain": [
       "satisfaction_level       float64\n",
       "last_evaluation          float64\n",
       "number_project             int64\n",
       "average_montly_hours       int64\n",
       "time_spend_company         int64\n",
       "Work_accident              int64\n",
       "left                       int64\n",
       "promotion_last_5years      int64\n",
       "Department                object\n",
       "salary                    object\n",
       "salary_num                 int64\n",
       "dtype: object"
      ]
     },
     "execution_count": 202,
     "metadata": {},
     "output_type": "execute_result"
    }
   ],
   "source": [
    "df.dtypes"
   ]
  },
  {
   "cell_type": "code",
   "execution_count": 203,
   "id": "49d98914",
   "metadata": {},
   "outputs": [
    {
     "data": {
      "text/plain": [
       "sales          4140\n",
       "technical      2720\n",
       "support        2229\n",
       "IT             1227\n",
       "product_mng     902\n",
       "marketing       858\n",
       "RandD           787\n",
       "accounting      767\n",
       "hr              739\n",
       "management      630\n",
       "Name: Department, dtype: int64"
      ]
     },
     "execution_count": 203,
     "metadata": {},
     "output_type": "execute_result"
    }
   ],
   "source": [
    "df[\"Department\"].value_counts()"
   ]
  },
  {
   "cell_type": "code",
   "execution_count": 204,
   "id": "927cde69",
   "metadata": {},
   "outputs": [
    {
     "data": {
      "text/plain": [
       "low       7316\n",
       "medium    6446\n",
       "high      1237\n",
       "Name: salary, dtype: int64"
      ]
     },
     "execution_count": 204,
     "metadata": {},
     "output_type": "execute_result"
    }
   ],
   "source": [
    "df[\"salary\"].value_counts()"
   ]
  },
  {
   "cell_type": "code",
   "execution_count": 205,
   "id": "c89f937c",
   "metadata": {},
   "outputs": [],
   "source": [
    "#there are no null values or noise in the dataset"
   ]
  },
  {
   "cell_type": "markdown",
   "id": "02f61d32",
   "metadata": {},
   "source": [
    "- Label Encoding to convert categorical to numerical"
   ]
  },
  {
   "cell_type": "code",
   "execution_count": 206,
   "id": "31fd0ed1",
   "metadata": {},
   "outputs": [],
   "source": [
    "l=df.select_dtypes(include=\"object\")\n",
    "for i in l:\n",
    "    df[i]=df[i].astype('category')\n",
    "for i in l:\n",
    "    df[i]=LabelEncoder().fit_transform(df[i])"
   ]
  },
  {
   "cell_type": "markdown",
   "id": "34f76e8b",
   "metadata": {},
   "source": [
    "- Dropping left and salary features from dataset which are irrelevant for our modelling"
   ]
  },
  {
   "cell_type": "code",
   "execution_count": 207,
   "id": "588ad3ad",
   "metadata": {},
   "outputs": [],
   "source": [
    "df.drop([\"salary\",\"left\"],axis=1,inplace=True)"
   ]
  },
  {
   "cell_type": "markdown",
   "id": "bdcdd6e6",
   "metadata": {},
   "source": [
    "- Correlation Matrix"
   ]
  },
  {
   "cell_type": "code",
   "execution_count": 208,
   "id": "004205ce",
   "metadata": {},
   "outputs": [
    {
     "data": {
      "text/plain": [
       "<AxesSubplot:>"
      ]
     },
     "execution_count": 208,
     "metadata": {},
     "output_type": "execute_result"
    },
    {
     "data": {
      "image/png": "[encoded data removed]",
      "text/plain": [
       "<Figure size 1080x360 with 2 Axes>"
      ]
     },
     "metadata": {
      "needs_background": "light"
     },
     "output_type": "display_data"
    }
   ],
   "source": [
    "#Correlation matrix\n",
    "plt.figure(figsize=(15,5))\n",
    "sb.heatmap(df.corr(),annot=True)"
   ]
  },
  {
   "cell_type": "markdown",
   "id": "cfa9da20",
   "metadata": {},
   "source": [
    "Salary_num is our target variable.With respect to that top features are:\n",
    "- Promotion-last 5 years\n",
    "- Satisfaction level\n",
    "- Department\n",
    "- Time spent in company"
   ]
  },
  {
   "cell_type": "markdown",
   "id": "1c57053f",
   "metadata": {},
   "source": [
    "- Feature Scaling using Standard Scaler"
   ]
  },
  {
   "cell_type": "code",
   "execution_count": 209,
   "id": "984d7320",
   "metadata": {},
   "outputs": [
    {
     "data": {
      "text/html": [
       "<div>\n",
       "<style scoped>\n",
       "    .dataframe tbody tr th:only-of-type {\n",
       "        vertical-align: middle;\n",
       "    }\n",
       "\n",
       "    .dataframe tbody tr th {\n",
       "        vertical-align: top;\n",
       "    }\n",
       "\n",
       "    .dataframe thead th {\n",
       "        text-align: right;\n",
       "    }\n",
       "</style>\n",
       "<table border=\"1\" class=\"dataframe\">\n",
       "  <thead>\n",
       "    <tr style=\"text-align: right;\">\n",
       "      <th></th>\n",
       "      <th>satisfaction_level</th>\n",
       "      <th>last_evaluation</th>\n",
       "      <th>number_project</th>\n",
       "      <th>average_montly_hours</th>\n",
       "      <th>time_spend_company</th>\n",
       "      <th>Work_accident</th>\n",
       "      <th>promotion_last_5years</th>\n",
       "      <th>Department</th>\n",
       "      <th>salary_num</th>\n",
       "    </tr>\n",
       "  </thead>\n",
       "  <tbody>\n",
       "    <tr>\n",
       "      <th>0</th>\n",
       "      <td>-0.936495</td>\n",
       "      <td>-1.087275</td>\n",
       "      <td>-1.462863</td>\n",
       "      <td>-0.882040</td>\n",
       "      <td>-0.341235</td>\n",
       "      <td>-0.411165</td>\n",
       "      <td>-0.147412</td>\n",
       "      <td>0.393725</td>\n",
       "      <td>4649</td>\n",
       "    </tr>\n",
       "    <tr>\n",
       "      <th>1</th>\n",
       "      <td>0.752814</td>\n",
       "      <td>0.840707</td>\n",
       "      <td>0.971113</td>\n",
       "      <td>1.220423</td>\n",
       "      <td>1.713436</td>\n",
       "      <td>-0.411165</td>\n",
       "      <td>-0.147412</td>\n",
       "      <td>0.393725</td>\n",
       "      <td>34126</td>\n",
       "    </tr>\n",
       "    <tr>\n",
       "      <th>2</th>\n",
       "      <td>-2.022479</td>\n",
       "      <td>0.957554</td>\n",
       "      <td>2.593763</td>\n",
       "      <td>1.420657</td>\n",
       "      <td>0.343655</td>\n",
       "      <td>-0.411165</td>\n",
       "      <td>-0.147412</td>\n",
       "      <td>0.393725</td>\n",
       "      <td>40522</td>\n",
       "    </tr>\n",
       "    <tr>\n",
       "      <th>3</th>\n",
       "      <td>0.431041</td>\n",
       "      <td>0.899131</td>\n",
       "      <td>0.971113</td>\n",
       "      <td>0.439508</td>\n",
       "      <td>1.028546</td>\n",
       "      <td>-0.411165</td>\n",
       "      <td>-0.147412</td>\n",
       "      <td>0.393725</td>\n",
       "      <td>6916</td>\n",
       "    </tr>\n",
       "    <tr>\n",
       "      <th>4</th>\n",
       "      <td>-0.976716</td>\n",
       "      <td>-1.145699</td>\n",
       "      <td>-1.462863</td>\n",
       "      <td>-0.841993</td>\n",
       "      <td>-0.341235</td>\n",
       "      <td>-0.411165</td>\n",
       "      <td>-0.147412</td>\n",
       "      <td>0.393725</td>\n",
       "      <td>10928</td>\n",
       "    </tr>\n",
       "  </tbody>\n",
       "</table>\n",
       "</div>"
      ],
      "text/plain": [
       "   satisfaction_level  last_evaluation  number_project  average_montly_hours  \\\n",
       "0           -0.936495        -1.087275       -1.462863             -0.882040   \n",
       "1            0.752814         0.840707        0.971113              1.220423   \n",
       "2           -2.022479         0.957554        2.593763              1.420657   \n",
       "3            0.431041         0.899131        0.971113              0.439508   \n",
       "4           -0.976716        -1.145699       -1.462863             -0.841993   \n",
       "\n",
       "   time_spend_company  Work_accident  promotion_last_5years  Department  \\\n",
       "0           -0.341235      -0.411165              -0.147412    0.393725   \n",
       "1            1.713436      -0.411165              -0.147412    0.393725   \n",
       "2            0.343655      -0.411165              -0.147412    0.393725   \n",
       "3            1.028546      -0.411165              -0.147412    0.393725   \n",
       "4           -0.341235      -0.411165              -0.147412    0.393725   \n",
       "\n",
       "   salary_num  \n",
       "0        4649  \n",
       "1       34126  \n",
       "2       40522  \n",
       "3        6916  \n",
       "4       10928  "
      ]
     },
     "execution_count": 209,
     "metadata": {},
     "output_type": "execute_result"
    }
   ],
   "source": [
    "df1=df.loc[:,df.columns!=\"salary_num\"]\n",
    "y=df[\"salary_num\"]\n",
    "scaler=StandardScaler()\n",
    "df=pd.DataFrame(scaler.fit_transform(df1),columns=df1.columns)\n",
    "df[\"salary_num\"]=y\n",
    "df.head()"
   ]
  },
  {
   "cell_type": "code",
   "execution_count": 210,
   "id": "c32bd9a4",
   "metadata": {},
   "outputs": [],
   "source": [
    "#based on correlation matrix slecting only 4 features\n",
    "x=df[[\"promotion_last_5years\",\"Department\",\"satisfaction_level\",\"time_spend_company\"]]\n",
    "#x=df.loc[:,df.columns!=\"salary_num\"]"
   ]
  },
  {
   "cell_type": "markdown",
   "id": "553da6ac",
   "metadata": {},
   "source": [
    "- Train test split "
   ]
  },
  {
   "cell_type": "code",
   "execution_count": 211,
   "id": "0bae5f3f",
   "metadata": {},
   "outputs": [],
   "source": [
    "#train test split \n",
    "x_train,x_test,y_train,y_test=train_test_split(x,y,test_size=0.3,random_state=30)"
   ]
  },
  {
   "cell_type": "markdown",
   "id": "af74a819",
   "metadata": {},
   "source": [
    "### Task3"
   ]
  },
  {
   "cell_type": "markdown",
   "id": "450fa4c9",
   "metadata": {},
   "source": [
    "- Finding best max depth from KFOLD cross validation method which has low RMSE value"
   ]
  },
  {
   "cell_type": "code",
   "execution_count": 212,
   "id": "ed858825",
   "metadata": {},
   "outputs": [
    {
     "name": "stdout",
     "output_type": "stream",
     "text": [
      "Optimal max Depth= 8\n"
     ]
    }
   ],
   "source": [
    "kf = KFold(n_splits=10, shuffle=False, random_state=None)\n",
    "l=[0]*10\n",
    "for i in range(1,11):\n",
    "    score=cross_val_score(DecisionTreeRegressor(max_depth=i,random_state=40),x,y,cv=kf,scoring=\"neg_mean_squared_error\")\n",
    "    s=score.mean()\n",
    "    rmse=np.sqrt(-s)\n",
    "    l[i-1]=rmse\n",
    "opt=l.index(min(l))+1\n",
    "print(\"Optimal max Depth=\",opt)"
   ]
  },
  {
   "cell_type": "markdown",
   "id": "666e9ac6",
   "metadata": {},
   "source": [
    "- Regression Tree Model using optimal max_depth"
   ]
  },
  {
   "cell_type": "code",
   "execution_count": 213,
   "id": "348b7add",
   "metadata": {},
   "outputs": [],
   "source": [
    "model=DecisionTreeRegressor(max_depth=opt,min_samples_split=5,min_samples_leaf=10).fit(x_train,y_train)"
   ]
  },
  {
   "cell_type": "markdown",
   "id": "d145be49",
   "metadata": {},
   "source": [
    "- Train R^2"
   ]
  },
  {
   "cell_type": "code",
   "execution_count": 214,
   "id": "7742006c",
   "metadata": {},
   "outputs": [
    {
     "data": {
      "text/plain": [
       "0.08910944180622704"
      ]
     },
     "execution_count": 214,
     "metadata": {},
     "output_type": "execute_result"
    }
   ],
   "source": [
    "model.score(x_train,y_train)"
   ]
  },
  {
   "cell_type": "markdown",
   "id": "dc0caf66",
   "metadata": {},
   "source": [
    "- Test R^2"
   ]
  },
  {
   "cell_type": "code",
   "execution_count": 215,
   "id": "c76e4378",
   "metadata": {},
   "outputs": [
    {
     "data": {
      "text/plain": [
       "0.050949006326337476"
      ]
     },
     "execution_count": 215,
     "metadata": {},
     "output_type": "execute_result"
    }
   ],
   "source": [
    "model.score(x_test,y_test)"
   ]
  },
  {
   "cell_type": "markdown",
   "id": "f07b4fca",
   "metadata": {},
   "source": [
    "- y predicted for test data"
   ]
  },
  {
   "cell_type": "code",
   "execution_count": 216,
   "id": "2aef98e7",
   "metadata": {},
   "outputs": [
    {
     "data": {
      "text/html": [
       "<div>\n",
       "<style scoped>\n",
       "    .dataframe tbody tr th:only-of-type {\n",
       "        vertical-align: middle;\n",
       "    }\n",
       "\n",
       "    .dataframe tbody tr th {\n",
       "        vertical-align: top;\n",
       "    }\n",
       "\n",
       "    .dataframe thead th {\n",
       "        text-align: right;\n",
       "    }\n",
       "</style>\n",
       "<table border=\"1\" class=\"dataframe\">\n",
       "  <thead>\n",
       "    <tr style=\"text-align: right;\">\n",
       "      <th></th>\n",
       "      <th>actual</th>\n",
       "      <th>predicted</th>\n",
       "    </tr>\n",
       "  </thead>\n",
       "  <tbody>\n",
       "    <tr>\n",
       "      <th>2463</th>\n",
       "      <td>7085</td>\n",
       "      <td>28030.907738</td>\n",
       "    </tr>\n",
       "    <tr>\n",
       "      <th>6579</th>\n",
       "      <td>16076</td>\n",
       "      <td>30405.795345</td>\n",
       "    </tr>\n",
       "    <tr>\n",
       "      <th>9578</th>\n",
       "      <td>47833</td>\n",
       "      <td>30405.795345</td>\n",
       "    </tr>\n",
       "    <tr>\n",
       "      <th>8174</th>\n",
       "      <td>15716</td>\n",
       "      <td>30286.765677</td>\n",
       "    </tr>\n",
       "    <tr>\n",
       "      <th>20</th>\n",
       "      <td>12356</td>\n",
       "      <td>18814.256250</td>\n",
       "    </tr>\n",
       "  </tbody>\n",
       "</table>\n",
       "</div>"
      ],
      "text/plain": [
       "      actual     predicted\n",
       "2463    7085  28030.907738\n",
       "6579   16076  30405.795345\n",
       "9578   47833  30405.795345\n",
       "8174   15716  30286.765677\n",
       "20     12356  18814.256250"
      ]
     },
     "execution_count": 216,
     "metadata": {},
     "output_type": "execute_result"
    }
   ],
   "source": [
    "y_pred=model.predict(x_test)\n",
    "y_df=pd.DataFrame({\"actual\":y_test,\"predicted\":y_pred})\n",
    "y_df.head()"
   ]
  },
  {
   "cell_type": "markdown",
   "id": "a6d05288",
   "metadata": {},
   "source": [
    "### Task4"
   ]
  },
  {
   "cell_type": "markdown",
   "id": "717bdc19",
   "metadata": {},
   "source": [
    "- Evaluation Metrics for Regressor:Mean Square Error,Mean Absolute Error,Root Mean Squared Error "
   ]
  },
  {
   "cell_type": "code",
   "execution_count": 217,
   "id": "95cd70ef",
   "metadata": {},
   "outputs": [
    {
     "data": {
      "text/plain": [
       "(1046248530.6005586, 20498.432529256264, 32345.765265341284)"
      ]
     },
     "execution_count": 217,
     "metadata": {},
     "output_type": "execute_result"
    }
   ],
   "source": [
    "MSE=mean_squared_error(y_test,y_pred)\n",
    "MAE=mean_absolute_error(y_test,y_pred)\n",
    "RMSE=np.sqrt(MSE)\n",
    "MSE,MAE,RMSE"
   ]
  },
  {
   "cell_type": "markdown",
   "id": "8bd38916",
   "metadata": {},
   "source": [
    "- We can see here that errors are extremely high and it indicates that our model is worst model\n",
    "- It was clearly visible from the correlation matrix that none of the features were correlated with target variable salary_num\n",
    "- Due to that we got a poor model here with R^2 under 10%"
   ]
  },
  {
   "cell_type": "code",
   "execution_count": null,
   "id": "fa23503e",
   "metadata": {},
   "outputs": [],
   "source": []
  }
 ],
 "metadata": {
  "kernelspec": {
   "display_name": "Python 3 (ipykernel)",
   "language": "python",
   "name": "python3"
  },
  "language_info": {
   "codemirror_mode": {
    "name": "ipython",
    "version": 3
   },
   "file_extension": ".py",
   "mimetype": "text/x-python",
   "name": "python",
   "nbconvert_exporter": "python",
   "pygments_lexer": "ipython3",
   "version": "3.9.12"
  }
 },
 "nbformat": 4,
 "nbformat_minor": 5
}
