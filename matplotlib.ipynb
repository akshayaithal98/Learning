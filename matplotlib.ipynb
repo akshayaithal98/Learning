{
 "cells": [
  {
   "cell_type": "code",
   "execution_count": 1,
   "id": "303b50d8",
   "metadata": {},
   "outputs": [],
   "source": [
    "import pandas as pd\n",
    "import numpy as np\n",
    "import matplotlib.pyplot as plt\n",
    "import seaborn as sns"
   ]
  },
  {
   "cell_type": "code",
   "execution_count": 9,
   "id": "53d4b754",
   "metadata": {},
   "outputs": [
    {
     "data": {
      "text/plain": [
       "[10, 20, 30, 40, 50, 60, 70, 80, 90]"
      ]
     },
     "execution_count": 9,
     "metadata": {},
     "output_type": "execute_result"
    }
   ],
   "source": [
    "data=[x*10 for x in range(1,10)]\n",
    "data"
   ]
  },
  {
   "cell_type": "code",
   "execution_count": 10,
   "id": "2f8ce234",
   "metadata": {},
   "outputs": [
    {
     "data": {
      "text/plain": [
       "[<matplotlib.lines.Line2D at 0x1c4868475e0>]"
      ]
     },
     "execution_count": 10,
     "metadata": {},
     "output_type": "execute_result"
    },
    {
     "data": {
      "image/png": "[encoded data removed]",
      "text/plain": [
       "<Figure size 432x288 with 1 Axes>"
      ]
     },
     "metadata": {
      "needs_background": "light"
     },
     "output_type": "display_data"
    }
   ],
   "source": [
    "#if we just pass single data then x axis will be taken as index\n",
    "plt.plot(data)"
   ]
  },
  {
   "cell_type": "code",
   "execution_count": 11,
   "id": "c247e669",
   "metadata": {},
   "outputs": [],
   "source": [
    "x=[i for i in range(100,105)]\n",
    "y=[i for i in range(50,55)]"
   ]
  },
  {
   "cell_type": "code",
   "execution_count": 12,
   "id": "fd8577cf",
   "metadata": {},
   "outputs": [
    {
     "data": {
      "image/png": "[encoded data removed]",
      "text/plain": [
       "<Figure size 432x288 with 1 Axes>"
      ]
     },
     "metadata": {
      "needs_background": "light"
     },
     "output_type": "display_data"
    }
   ],
   "source": [
    "#you can use ; to not show the text \n",
    "#even plt.show() does work\n",
    "#main use of plt.show() is to display the visual but jupyter notebook handles it without that also\n",
    "plt.plot(x,y);"
   ]
  },
  {
   "cell_type": "code",
   "execution_count": 13,
   "id": "88e08e42",
   "metadata": {},
   "outputs": [
    {
     "data": {
      "text/html": [
       "<div>\n",
       "<style scoped>\n",
       "    .dataframe tbody tr th:only-of-type {\n",
       "        vertical-align: middle;\n",
       "    }\n",
       "\n",
       "    .dataframe tbody tr th {\n",
       "        vertical-align: top;\n",
       "    }\n",
       "\n",
       "    .dataframe thead th {\n",
       "        text-align: right;\n",
       "    }\n",
       "</style>\n",
       "<table border=\"1\" class=\"dataframe\">\n",
       "  <thead>\n",
       "    <tr style=\"text-align: right;\">\n",
       "      <th></th>\n",
       "      <th>c1</th>\n",
       "      <th>c2</th>\n",
       "    </tr>\n",
       "  </thead>\n",
       "  <tbody>\n",
       "    <tr>\n",
       "      <th>0</th>\n",
       "      <td>100</td>\n",
       "      <td>50</td>\n",
       "    </tr>\n",
       "    <tr>\n",
       "      <th>1</th>\n",
       "      <td>101</td>\n",
       "      <td>51</td>\n",
       "    </tr>\n",
       "    <tr>\n",
       "      <th>2</th>\n",
       "      <td>102</td>\n",
       "      <td>52</td>\n",
       "    </tr>\n",
       "    <tr>\n",
       "      <th>3</th>\n",
       "      <td>103</td>\n",
       "      <td>53</td>\n",
       "    </tr>\n",
       "    <tr>\n",
       "      <th>4</th>\n",
       "      <td>104</td>\n",
       "      <td>54</td>\n",
       "    </tr>\n",
       "  </tbody>\n",
       "</table>\n",
       "</div>"
      ],
      "text/plain": [
       "    c1  c2\n",
       "0  100  50\n",
       "1  101  51\n",
       "2  102  52\n",
       "3  103  53\n",
       "4  104  54"
      ]
     },
     "execution_count": 13,
     "metadata": {},
     "output_type": "execute_result"
    }
   ],
   "source": [
    "df=pd.DataFrame({\"c1\":x,\"c2\":y})\n",
    "df"
   ]
  },
  {
   "cell_type": "code",
   "execution_count": 14,
   "id": "d851dd35",
   "metadata": {},
   "outputs": [
    {
     "data": {
      "image/png": "[encoded data removed]",
      "text/plain": [
       "<Figure size 432x288 with 1 Axes>"
      ]
     },
     "metadata": {
      "needs_background": "light"
     },
     "output_type": "display_data"
    }
   ],
   "source": [
    "#x axis is considered as index when plotting a dataframe and columns as values\n",
    "plt.plot(df);"
   ]
  },
  {
   "cell_type": "code",
   "execution_count": 15,
   "id": "26b9cae7",
   "metadata": {},
   "outputs": [],
   "source": [
    "#this above aproach is pyplot api approach\n",
    "#lets look the best approach i.e. object oriented approach"
   ]
  },
  {
   "cell_type": "code",
   "execution_count": 16,
   "id": "41d21505",
   "metadata": {},
   "outputs": [],
   "source": [
    "#fig is basically total canvas \n",
    "#axis is the single chart in that"
   ]
  },
  {
   "cell_type": "code",
   "execution_count": 17,
   "id": "7d1ee865",
   "metadata": {},
   "outputs": [
    {
     "data": {
      "text/plain": [
       "Text(0.5, 0.98, 'Main Title')"
      ]
     },
     "execution_count": 17,
     "metadata": {},
     "output_type": "execute_result"
    },
    {
     "data": {
      "image/png": "[encoded data removed]",
      "text/plain": [
       "<Figure size 432x288 with 1 Axes>"
      ]
     },
     "metadata": {
      "needs_background": "light"
     },
     "output_type": "display_data"
    }
   ],
   "source": [
    "fig=plt.figure()\n",
    "ax=fig.add_subplot()\n",
    "\n",
    "ax.plot(x,y)\n",
    "ax.set_title(\"this is the axis level title\")\n",
    "fig.suptitle(\"Main Title\")"
   ]
  },
  {
   "cell_type": "code",
   "execution_count": 18,
   "id": "b758c9a4",
   "metadata": {},
   "outputs": [
    {
     "data": {
      "text/html": [
       "<div>\n",
       "<style scoped>\n",
       "    .dataframe tbody tr th:only-of-type {\n",
       "        vertical-align: middle;\n",
       "    }\n",
       "\n",
       "    .dataframe tbody tr th {\n",
       "        vertical-align: top;\n",
       "    }\n",
       "\n",
       "    .dataframe thead th {\n",
       "        text-align: right;\n",
       "    }\n",
       "</style>\n",
       "<table border=\"1\" class=\"dataframe\">\n",
       "  <thead>\n",
       "    <tr style=\"text-align: right;\">\n",
       "      <th></th>\n",
       "      <th>c1</th>\n",
       "      <th>c2</th>\n",
       "    </tr>\n",
       "  </thead>\n",
       "  <tbody>\n",
       "    <tr>\n",
       "      <th>0</th>\n",
       "      <td>100</td>\n",
       "      <td>50</td>\n",
       "    </tr>\n",
       "    <tr>\n",
       "      <th>1</th>\n",
       "      <td>101</td>\n",
       "      <td>51</td>\n",
       "    </tr>\n",
       "    <tr>\n",
       "      <th>2</th>\n",
       "      <td>102</td>\n",
       "      <td>52</td>\n",
       "    </tr>\n",
       "    <tr>\n",
       "      <th>3</th>\n",
       "      <td>103</td>\n",
       "      <td>53</td>\n",
       "    </tr>\n",
       "    <tr>\n",
       "      <th>4</th>\n",
       "      <td>104</td>\n",
       "      <td>54</td>\n",
       "    </tr>\n",
       "  </tbody>\n",
       "</table>\n",
       "</div>"
      ],
      "text/plain": [
       "    c1  c2\n",
       "0  100  50\n",
       "1  101  51\n",
       "2  102  52\n",
       "3  103  53\n",
       "4  104  54"
      ]
     },
     "execution_count": 18,
     "metadata": {},
     "output_type": "execute_result"
    }
   ],
   "source": [
    "df"
   ]
  },
  {
   "cell_type": "code",
   "execution_count": 52,
   "id": "38203884",
   "metadata": {},
   "outputs": [
    {
     "data": {
      "text/plain": [
       "Text(0, 0.5, 'value')"
      ]
     },
     "execution_count": 52,
     "metadata": {},
     "output_type": "execute_result"
    },
    {
     "data": {
      "image/png": "[encoded data removed]",
      "text/plain": [
       "<Figure size 432x288 with 1 Axes>"
      ]
     },
     "metadata": {
      "needs_background": "light"
     },
     "output_type": "display_data"
    }
   ],
   "source": [
    "#now lets plot dataframe columns \n",
    "fig,ax=plt.subplots()\n",
    "\n",
    "ax.plot(df.index,df[\"c1\"])\n",
    "ax.plot(df.index,df[\"c2\"])\n",
    "\n",
    "fig.suptitle(\"Hello Welcome\",x=0)  #x=0 denotes its position in x axis\n",
    "ax.set_title(\"Title\")\n",
    "ax.set_xlabel(\"index\")\n",
    "ax.set_ylabel(\"value\")\n"
   ]
  },
  {
   "cell_type": "code",
   "execution_count": 54,
   "id": "1e25c669",
   "metadata": {},
   "outputs": [
    {
     "data": {
      "image/png": "[encoded data removed]",
      "text/plain": [
       "<Figure size 360x360 with 1 Axes>"
      ]
     },
     "metadata": {
      "needs_background": "light"
     },
     "output_type": "display_data"
    }
   ],
   "source": [
    "#adding legends \n",
    "#also changing font size of texts\n",
    "#and also adding figure size\n",
    "fig,ax=plt.subplots(figsize=(5,5))  #(width,height)\n",
    "\n",
    "ax.plot(df.index,df[\"c1\"])\n",
    "ax.plot(df.index,df[\"c2\"])\n",
    "\n",
    "ax.set_title(\"Title\",fontsize=20)\n",
    "ax.set_xlabel(\"index\",fontsize=20)\n",
    "ax.set_ylabel(\"value\",fontsize=20)\n",
    "\n",
    "ax.legend([\"x\",\"y\"],fontsize=20);"
   ]
  },
  {
   "cell_type": "code",
   "execution_count": 59,
   "id": "1f85443e",
   "metadata": {},
   "outputs": [
    {
     "data": {
      "image/png": "[encoded data removed]",
      "text/plain": [
       "<Figure size 432x288 with 1 Axes>"
      ]
     },
     "metadata": {
      "needs_background": "light"
     },
     "output_type": "display_data"
    }
   ],
   "source": [
    "#or u can also specify labels inside plot for legends\n",
    "#lets format plot with labels,color,style\n",
    "#lw-line width\n",
    "#ls-line style\n",
    "\n",
    "fig,ax=plt.subplots()\n",
    "\n",
    "ax.plot(df.index,df[\"c1\"],label=\"x\",color=\"blue\",ls=\"--\")\n",
    "ax.plot(df.index,df[\"c2\"],label=\"y\",color=\"red\",lw=4)\n",
    "\n",
    "\n",
    "ax.set_title(\"Title\",fontsize=10)\n",
    "ax.set_xlabel(\"index\",fontsize=10)\n",
    "ax.set_ylabel(\"value\",fontsize=10)\n",
    "\n",
    "plt.xticks(rotation=90)\n",
    "ax.legend();"
   ]
  },
  {
   "cell_type": "code",
   "execution_count": 60,
   "id": "c3c0eafd",
   "metadata": {},
   "outputs": [],
   "source": [
    "#u can pass arbitary x or yticks values by ax.set_xticks(iterable)"
   ]
  },
  {
   "cell_type": "code",
   "execution_count": 75,
   "id": "d6ced662",
   "metadata": {},
   "outputs": [
    {
     "data": {
      "image/png": "[encoded data removed]",
      "text/plain": [
       "<Figure size 432x288 with 1 Axes>"
      ]
     },
     "metadata": {
      "needs_background": "light"
     },
     "output_type": "display_data"
    }
   ],
   "source": [
    "#adding vertical/horizontal line to indicate or highlight some points \n",
    "#adding text in the chart\n",
    "#adding text for the canvas\n",
    "fig,ax=plt.subplots()\n",
    "\n",
    "ax.plot(df.index,df[\"c1\"],label=\"x\",color=\"blue\")\n",
    "ax.plot(df.index,df[\"c2\"],label=\"y\",color=\"red\")\n",
    "\n",
    "\n",
    "ax.set_title(\"Title\",fontsize=10)\n",
    "ax.set_xlabel(\"index\",fontsize=10)\n",
    "ax.set_ylabel(\"value\",fontsize=10)\n",
    "\n",
    "ax.axvline(2,ls=\"--\")  #axhline for horizontal\n",
    "ax.text(1.2,53,\"look here-->\")  ##x&y cordinates with text wrt that axis\n",
    "fig.text(1,0.5,\"Please look all the charts carefully\",fontsize=20)  # here x&y cordinates wrt canvas\n",
    "plt.xticks(rotation=90)\n",
    "ax.legend();"
   ]
  },
  {
   "cell_type": "markdown",
   "id": "5505ea38",
   "metadata": {},
   "source": [
    "## Charts"
   ]
  },
  {
   "cell_type": "code",
   "execution_count": null,
   "id": "9ae16505",
   "metadata": {},
   "outputs": [],
   "source": [
    "# line chart"
   ]
  },
  {
   "cell_type": "code",
   "execution_count": 87,
   "id": "ae87c2f3",
   "metadata": {},
   "outputs": [
    {
     "data": {
      "image/png": "[encoded data removed]",
      "text/plain": [
       "<Figure size 432x288 with 1 Axes>"
      ]
     },
     "metadata": {
      "needs_background": "light"
     },
     "output_type": "display_data"
    }
   ],
   "source": [
    "fig,ax=plt.subplots()\n",
    "ax.plot(df.index,x);"
   ]
  },
  {
   "cell_type": "code",
   "execution_count": 81,
   "id": "ff388c5b",
   "metadata": {},
   "outputs": [
    {
     "data": {
      "text/html": [
       "<div>\n",
       "<style scoped>\n",
       "    .dataframe tbody tr th:only-of-type {\n",
       "        vertical-align: middle;\n",
       "    }\n",
       "\n",
       "    .dataframe tbody tr th {\n",
       "        vertical-align: top;\n",
       "    }\n",
       "\n",
       "    .dataframe thead th {\n",
       "        text-align: right;\n",
       "    }\n",
       "</style>\n",
       "<table border=\"1\" class=\"dataframe\">\n",
       "  <thead>\n",
       "    <tr style=\"text-align: right;\">\n",
       "      <th></th>\n",
       "      <th>c1</th>\n",
       "      <th>c2</th>\n",
       "    </tr>\n",
       "  </thead>\n",
       "  <tbody>\n",
       "    <tr>\n",
       "      <th>0</th>\n",
       "      <td>100</td>\n",
       "      <td>50</td>\n",
       "    </tr>\n",
       "    <tr>\n",
       "      <th>1</th>\n",
       "      <td>101</td>\n",
       "      <td>51</td>\n",
       "    </tr>\n",
       "    <tr>\n",
       "      <th>2</th>\n",
       "      <td>102</td>\n",
       "      <td>52</td>\n",
       "    </tr>\n",
       "    <tr>\n",
       "      <th>3</th>\n",
       "      <td>103</td>\n",
       "      <td>53</td>\n",
       "    </tr>\n",
       "    <tr>\n",
       "      <th>4</th>\n",
       "      <td>104</td>\n",
       "      <td>54</td>\n",
       "    </tr>\n",
       "  </tbody>\n",
       "</table>\n",
       "</div>"
      ],
      "text/plain": [
       "    c1  c2\n",
       "0  100  50\n",
       "1  101  51\n",
       "2  102  52\n",
       "3  103  53\n",
       "4  104  54"
      ]
     },
     "execution_count": 81,
     "metadata": {},
     "output_type": "execute_result"
    }
   ],
   "source": [
    "x=[i for i in range(100,105)]\n",
    "y=[i for i in range(50,55)]\n",
    "df=pd.DataFrame({\"c1\":x,\"c2\":y})\n",
    "df"
   ]
  },
  {
   "cell_type": "code",
   "execution_count": null,
   "id": "1ff449ed",
   "metadata": {},
   "outputs": [],
   "source": [
    "#Stackplot or area chart"
   ]
  },
  {
   "cell_type": "code",
   "execution_count": 90,
   "id": "31fe9ff3",
   "metadata": {},
   "outputs": [
    {
     "data": {
      "image/png": "[encoded data removed]",
      "text/plain": [
       "<Figure size 504x360 with 1 Axes>"
      ]
     },
     "metadata": {
      "needs_background": "light"
     },
     "output_type": "display_data"
    }
   ],
   "source": [
    "fig,ax=plt.subplots(figsize=(7,5))\n",
    "ax.stackplot(df.index,df[\"c1\"],df[\"c2\"],labels=[\"c1\",\"c2\"])\n",
    "ax.legend();"
   ]
  },
  {
   "cell_type": "code",
   "execution_count": 91,
   "id": "71e1bb27",
   "metadata": {},
   "outputs": [],
   "source": [
    "# dual axis chart:when two continuos variables are in different scales useful for comapring them also"
   ]
  },
  {
   "cell_type": "code",
   "execution_count": 128,
   "id": "3809b634",
   "metadata": {},
   "outputs": [
    {
     "data": {
      "text/html": [
       "<div>\n",
       "<style scoped>\n",
       "    .dataframe tbody tr th:only-of-type {\n",
       "        vertical-align: middle;\n",
       "    }\n",
       "\n",
       "    .dataframe tbody tr th {\n",
       "        vertical-align: top;\n",
       "    }\n",
       "\n",
       "    .dataframe thead th {\n",
       "        text-align: right;\n",
       "    }\n",
       "</style>\n",
       "<table border=\"1\" class=\"dataframe\">\n",
       "  <thead>\n",
       "    <tr style=\"text-align: right;\">\n",
       "      <th></th>\n",
       "      <th>c1</th>\n",
       "      <th>c2</th>\n",
       "    </tr>\n",
       "  </thead>\n",
       "  <tbody>\n",
       "    <tr>\n",
       "      <th>0</th>\n",
       "      <td>10000</td>\n",
       "      <td>100</td>\n",
       "    </tr>\n",
       "    <tr>\n",
       "      <th>1</th>\n",
       "      <td>10001</td>\n",
       "      <td>90</td>\n",
       "    </tr>\n",
       "    <tr>\n",
       "      <th>2</th>\n",
       "      <td>10002</td>\n",
       "      <td>80</td>\n",
       "    </tr>\n",
       "    <tr>\n",
       "      <th>3</th>\n",
       "      <td>10003</td>\n",
       "      <td>70</td>\n",
       "    </tr>\n",
       "    <tr>\n",
       "      <th>4</th>\n",
       "      <td>10004</td>\n",
       "      <td>60</td>\n",
       "    </tr>\n",
       "  </tbody>\n",
       "</table>\n",
       "</div>"
      ],
      "text/plain": [
       "      c1   c2\n",
       "0  10000  100\n",
       "1  10001   90\n",
       "2  10002   80\n",
       "3  10003   70\n",
       "4  10004   60"
      ]
     },
     "execution_count": 128,
     "metadata": {},
     "output_type": "execute_result"
    }
   ],
   "source": [
    "x=[i for i in range(10000,10005)]\n",
    "y=[i for i in range(100,50,-10)]\n",
    "df=pd.DataFrame({\"c1\":x,\"c2\":y})\n",
    "df\n"
   ]
  },
  {
   "cell_type": "code",
   "execution_count": 122,
   "id": "d3842655",
   "metadata": {},
   "outputs": [
    {
     "data": {
      "image/png": "[encoded data removed]",
      "text/plain": [
       "<Figure size 432x288 with 2 Axes>"
      ]
     },
     "metadata": {
      "needs_background": "light"
     },
     "output_type": "display_data"
    }
   ],
   "source": [
    "fig,ax=plt.subplots()\n",
    "\n",
    "ax.plot(df.index,df[\"c1\"],label=\"x\",color=\"blue\")\n",
    "ax.set_ylabel(\"c1\")\n",
    "ax2=ax.twinx()\n",
    "ax2.plot(df.index,df[\"c2\"],label=\"y\",color=\"red\")\n",
    "ax2.set_ylabel(\"c2\")\n",
    "fig.legend();"
   ]
  },
  {
   "cell_type": "code",
   "execution_count": 111,
   "id": "1edb977e",
   "metadata": {},
   "outputs": [],
   "source": [
    "#bar charts"
   ]
  },
  {
   "cell_type": "code",
   "execution_count": 123,
   "id": "60abe5de",
   "metadata": {},
   "outputs": [
    {
     "data": {
      "image/png": "[encoded data removed]",
      "text/plain": [
       "<Figure size 432x288 with 1 Axes>"
      ]
     },
     "metadata": {
      "needs_background": "light"
     },
     "output_type": "display_data"
    }
   ],
   "source": [
    "fig,ax=plt.subplots()\n",
    "ax.bar(df.index,df[\"c2\"],color=[\"red\",\"blue\",\"green\",\"yellow\",\"grey\"]);"
   ]
  },
  {
   "cell_type": "code",
   "execution_count": 124,
   "id": "9a76442d",
   "metadata": {},
   "outputs": [
    {
     "data": {
      "text/plain": [
       "<BarContainer object of 5 artists>"
      ]
     },
     "execution_count": 124,
     "metadata": {},
     "output_type": "execute_result"
    },
    {
     "data": {
      "image/png": "[encoded data removed]",
      "text/plain": [
       "<Figure size 432x288 with 1 Axes>"
      ]
     },
     "metadata": {
      "needs_background": "light"
     },
     "output_type": "display_data"
    }
   ],
   "source": [
    "#horizontal bar chart\n",
    "fig,ax=plt.subplots()\n",
    "ax.barh(df.index,df[\"c2\"])"
   ]
  },
  {
   "cell_type": "code",
   "execution_count": 119,
   "id": "4db9efef",
   "metadata": {},
   "outputs": [],
   "source": [
    "#stacked bar chart"
   ]
  },
  {
   "cell_type": "code",
   "execution_count": 130,
   "id": "107d0f55",
   "metadata": {},
   "outputs": [
    {
     "data": {
      "text/html": [
       "<div>\n",
       "<style scoped>\n",
       "    .dataframe tbody tr th:only-of-type {\n",
       "        vertical-align: middle;\n",
       "    }\n",
       "\n",
       "    .dataframe tbody tr th {\n",
       "        vertical-align: top;\n",
       "    }\n",
       "\n",
       "    .dataframe thead th {\n",
       "        text-align: right;\n",
       "    }\n",
       "</style>\n",
       "<table border=\"1\" class=\"dataframe\">\n",
       "  <thead>\n",
       "    <tr style=\"text-align: right;\">\n",
       "      <th></th>\n",
       "      <th>c1</th>\n",
       "      <th>c2</th>\n",
       "      <th>c3</th>\n",
       "    </tr>\n",
       "  </thead>\n",
       "  <tbody>\n",
       "    <tr>\n",
       "      <th>0</th>\n",
       "      <td>100</td>\n",
       "      <td>100</td>\n",
       "      <td>a</td>\n",
       "    </tr>\n",
       "    <tr>\n",
       "      <th>1</th>\n",
       "      <td>101</td>\n",
       "      <td>90</td>\n",
       "      <td>a</td>\n",
       "    </tr>\n",
       "    <tr>\n",
       "      <th>2</th>\n",
       "      <td>102</td>\n",
       "      <td>80</td>\n",
       "      <td>a</td>\n",
       "    </tr>\n",
       "    <tr>\n",
       "      <th>3</th>\n",
       "      <td>103</td>\n",
       "      <td>70</td>\n",
       "      <td>b</td>\n",
       "    </tr>\n",
       "    <tr>\n",
       "      <th>4</th>\n",
       "      <td>104</td>\n",
       "      <td>60</td>\n",
       "      <td>b</td>\n",
       "    </tr>\n",
       "  </tbody>\n",
       "</table>\n",
       "</div>"
      ],
      "text/plain": [
       "    c1   c2 c3\n",
       "0  100  100  a\n",
       "1  101   90  a\n",
       "2  102   80  a\n",
       "3  103   70  b\n",
       "4  104   60  b"
      ]
     },
     "execution_count": 130,
     "metadata": {},
     "output_type": "execute_result"
    }
   ],
   "source": [
    "x=[i for i in range(100,105)]\n",
    "y=[i for i in range(100,50,-10)]\n",
    "z=[\"a\",\"a\",\"a\",\"b\",\"b\"]\n",
    "df=pd.DataFrame({\"c1\":x,\"c2\":y,\"c3\":z})\n",
    "df"
   ]
  },
  {
   "cell_type": "code",
   "execution_count": 133,
   "id": "37787df9",
   "metadata": {},
   "outputs": [
    {
     "data": {
      "image/png": "[encoded data removed]",
      "text/plain": [
       "<Figure size 432x288 with 1 Axes>"
      ]
     },
     "metadata": {
      "needs_background": "light"
     },
     "output_type": "display_data"
    }
   ],
   "source": [
    "fig,ax=plt.subplots()\n",
    "ax.bar(df[\"c3\"],df[\"c1\"],label=\"x\")\n",
    "ax.bar(df[\"c3\"],df[\"c2\"],bottom=df[\"c1\"],label=\"y\")\n",
    "ax.legend();"
   ]
  },
  {
   "cell_type": "code",
   "execution_count": 135,
   "id": "18373767",
   "metadata": {},
   "outputs": [],
   "source": [
    "#to setup a cluster bar chart in matplotlib , either we need to make it in a proper format or change the widht\n",
    "#its easy to make such chart using seaborn hue"
   ]
  },
  {
   "cell_type": "code",
   "execution_count": 139,
   "id": "2f2c4b8c",
   "metadata": {},
   "outputs": [
    {
     "data": {
      "image/png": "[encoded data removed]",
      "text/plain": [
       "<Figure size 432x288 with 2 Axes>"
      ]
     },
     "metadata": {
      "needs_background": "light"
     },
     "output_type": "display_data"
    }
   ],
   "source": [
    "#dual axis chart with different types of plot\n",
    "fig,ax=plt.subplots()\n",
    "\n",
    "ax.plot(df.index,df[\"c1\"],label=\"c1\",color=\"blue\")\n",
    "ax.set_ylabel(\"c1\")\n",
    "ax2=ax.twinx()\n",
    "ax2.bar(df.index,df[\"c2\"],label=\"c2\",color=\"yellow\",alpha=0.3)  #reduced alpha for transperency else we cant see line chart properly\n",
    "ax2.set_ylabel(\"c2\")\n",
    "fig.legend();"
   ]
  },
  {
   "cell_type": "code",
   "execution_count": 140,
   "id": "c8745bb8",
   "metadata": {},
   "outputs": [],
   "source": [
    "#pie chart"
   ]
  },
  {
   "cell_type": "code",
   "execution_count": 142,
   "id": "baf16315",
   "metadata": {},
   "outputs": [
    {
     "data": {
      "text/html": [
       "<div>\n",
       "<style scoped>\n",
       "    .dataframe tbody tr th:only-of-type {\n",
       "        vertical-align: middle;\n",
       "    }\n",
       "\n",
       "    .dataframe tbody tr th {\n",
       "        vertical-align: top;\n",
       "    }\n",
       "\n",
       "    .dataframe thead th {\n",
       "        text-align: right;\n",
       "    }\n",
       "</style>\n",
       "<table border=\"1\" class=\"dataframe\">\n",
       "  <thead>\n",
       "    <tr style=\"text-align: right;\">\n",
       "      <th></th>\n",
       "      <th>c1</th>\n",
       "      <th>c2</th>\n",
       "    </tr>\n",
       "  </thead>\n",
       "  <tbody>\n",
       "    <tr>\n",
       "      <th>0</th>\n",
       "      <td>50</td>\n",
       "      <td>a</td>\n",
       "    </tr>\n",
       "    <tr>\n",
       "      <th>1</th>\n",
       "      <td>20</td>\n",
       "      <td>b</td>\n",
       "    </tr>\n",
       "    <tr>\n",
       "      <th>2</th>\n",
       "      <td>30</td>\n",
       "      <td>c</td>\n",
       "    </tr>\n",
       "  </tbody>\n",
       "</table>\n",
       "</div>"
      ],
      "text/plain": [
       "   c1 c2\n",
       "0  50  a\n",
       "1  20  b\n",
       "2  30  c"
      ]
     },
     "execution_count": 142,
     "metadata": {},
     "output_type": "execute_result"
    }
   ],
   "source": [
    "df=pd.DataFrame({\"c1\":[50,20,30],\"c2\":['a','b','c']})\n",
    "df"
   ]
  },
  {
   "cell_type": "code",
   "execution_count": 150,
   "id": "cc1639f3",
   "metadata": {},
   "outputs": [
    {
     "data": {
      "image/png": "[encoded data removed]",
      "text/plain": [
       "<Figure size 432x288 with 1 Axes>"
      ]
     },
     "metadata": {},
     "output_type": "display_data"
    }
   ],
   "source": [
    "fig,ax=plt.subplots()\n",
    "ax.pie(df[\"c1\"],labels=df[\"c2\"],autopct=\"%.2f%%\");"
   ]
  },
  {
   "cell_type": "code",
   "execution_count": 151,
   "id": "a2345004",
   "metadata": {},
   "outputs": [
    {
     "data": {
      "text/html": [
       "<div>\n",
       "<style scoped>\n",
       "    .dataframe tbody tr th:only-of-type {\n",
       "        vertical-align: middle;\n",
       "    }\n",
       "\n",
       "    .dataframe tbody tr th {\n",
       "        vertical-align: top;\n",
       "    }\n",
       "\n",
       "    .dataframe thead th {\n",
       "        text-align: right;\n",
       "    }\n",
       "</style>\n",
       "<table border=\"1\" class=\"dataframe\">\n",
       "  <thead>\n",
       "    <tr style=\"text-align: right;\">\n",
       "      <th></th>\n",
       "      <th>c1</th>\n",
       "      <th>c2</th>\n",
       "      <th>c3</th>\n",
       "    </tr>\n",
       "  </thead>\n",
       "  <tbody>\n",
       "    <tr>\n",
       "      <th>0</th>\n",
       "      <td>100</td>\n",
       "      <td>100</td>\n",
       "      <td>a</td>\n",
       "    </tr>\n",
       "    <tr>\n",
       "      <th>1</th>\n",
       "      <td>101</td>\n",
       "      <td>90</td>\n",
       "      <td>a</td>\n",
       "    </tr>\n",
       "    <tr>\n",
       "      <th>2</th>\n",
       "      <td>102</td>\n",
       "      <td>80</td>\n",
       "      <td>a</td>\n",
       "    </tr>\n",
       "    <tr>\n",
       "      <th>3</th>\n",
       "      <td>103</td>\n",
       "      <td>70</td>\n",
       "      <td>b</td>\n",
       "    </tr>\n",
       "    <tr>\n",
       "      <th>4</th>\n",
       "      <td>104</td>\n",
       "      <td>60</td>\n",
       "      <td>b</td>\n",
       "    </tr>\n",
       "  </tbody>\n",
       "</table>\n",
       "</div>"
      ],
      "text/plain": [
       "    c1   c2 c3\n",
       "0  100  100  a\n",
       "1  101   90  a\n",
       "2  102   80  a\n",
       "3  103   70  b\n",
       "4  104   60  b"
      ]
     },
     "execution_count": 151,
     "metadata": {},
     "output_type": "execute_result"
    }
   ],
   "source": [
    "x=[i for i in range(100,105)]\n",
    "y=[i for i in range(100,50,-10)]\n",
    "z=[\"a\",\"a\",\"a\",\"b\",\"b\"]\n",
    "df=pd.DataFrame({\"c1\":x,\"c2\":y,\"c3\":z})\n",
    "df"
   ]
  },
  {
   "cell_type": "code",
   "execution_count": 152,
   "id": "e1dd9a63",
   "metadata": {},
   "outputs": [
    {
     "data": {
      "text/plain": [
       "<matplotlib.collections.PathCollection at 0x1c491563130>"
      ]
     },
     "execution_count": 152,
     "metadata": {},
     "output_type": "execute_result"
    },
    {
     "data": {
      "image/png": "[encoded data removed]",
      "text/plain": [
       "<Figure size 432x288 with 1 Axes>"
      ]
     },
     "metadata": {
      "needs_background": "light"
     },
     "output_type": "display_data"
    }
   ],
   "source": [
    "#scatter plot\n",
    "fig,ax=plt.subplots()\n",
    "ax.scatter(df[\"c1\"],df[\"c2\"])"
   ]
  },
  {
   "cell_type": "code",
   "execution_count": 154,
   "id": "9ad475d8",
   "metadata": {},
   "outputs": [
    {
     "data": {
      "image/png": "[encoded data removed]",
      "text/plain": [
       "<Figure size 432x288 with 1 Axes>"
      ]
     },
     "metadata": {
      "needs_background": "light"
     },
     "output_type": "display_data"
    }
   ],
   "source": [
    "#histogram\n",
    "fig,ax=plt.subplots()\n",
    "ax.hist(df[\"c1\"]);"
   ]
  },
  {
   "cell_type": "code",
   "execution_count": null,
   "id": "2b91a035",
   "metadata": {},
   "outputs": [],
   "source": [
    "# we can perform there charts by plt method also but using fig,ax gives room for customizations"
   ]
  },
  {
   "cell_type": "markdown",
   "id": "e268278c",
   "metadata": {},
   "source": [
    "## Subplots"
   ]
  },
  {
   "cell_type": "code",
   "execution_count": 2,
   "id": "38042380",
   "metadata": {},
   "outputs": [
    {
     "data": {
      "text/html": [
       "<div>\n",
       "<style scoped>\n",
       "    .dataframe tbody tr th:only-of-type {\n",
       "        vertical-align: middle;\n",
       "    }\n",
       "\n",
       "    .dataframe tbody tr th {\n",
       "        vertical-align: top;\n",
       "    }\n",
       "\n",
       "    .dataframe thead th {\n",
       "        text-align: right;\n",
       "    }\n",
       "</style>\n",
       "<table border=\"1\" class=\"dataframe\">\n",
       "  <thead>\n",
       "    <tr style=\"text-align: right;\">\n",
       "      <th></th>\n",
       "      <th>c1</th>\n",
       "      <th>c2</th>\n",
       "      <th>c3</th>\n",
       "    </tr>\n",
       "  </thead>\n",
       "  <tbody>\n",
       "    <tr>\n",
       "      <th>0</th>\n",
       "      <td>100</td>\n",
       "      <td>100</td>\n",
       "      <td>a</td>\n",
       "    </tr>\n",
       "    <tr>\n",
       "      <th>1</th>\n",
       "      <td>101</td>\n",
       "      <td>90</td>\n",
       "      <td>b</td>\n",
       "    </tr>\n",
       "    <tr>\n",
       "      <th>2</th>\n",
       "      <td>102</td>\n",
       "      <td>80</td>\n",
       "      <td>c</td>\n",
       "    </tr>\n",
       "    <tr>\n",
       "      <th>3</th>\n",
       "      <td>103</td>\n",
       "      <td>70</td>\n",
       "      <td>d</td>\n",
       "    </tr>\n",
       "    <tr>\n",
       "      <th>4</th>\n",
       "      <td>104</td>\n",
       "      <td>60</td>\n",
       "      <td>e</td>\n",
       "    </tr>\n",
       "  </tbody>\n",
       "</table>\n",
       "</div>"
      ],
      "text/plain": [
       "    c1   c2 c3\n",
       "0  100  100  a\n",
       "1  101   90  b\n",
       "2  102   80  c\n",
       "3  103   70  d\n",
       "4  104   60  e"
      ]
     },
     "execution_count": 2,
     "metadata": {},
     "output_type": "execute_result"
    }
   ],
   "source": [
    "x=[i for i in range(100,105)]\n",
    "y=[i for i in range(100,50,-10)]\n",
    "z=[\"a\",\"b\",\"c\",\"d\",\"e\"]\n",
    "df=pd.DataFrame({\"c1\":x,\"c2\":y,\"c3\":z})\n",
    "df"
   ]
  },
  {
   "cell_type": "code",
   "execution_count": 168,
   "id": "c4194da0",
   "metadata": {},
   "outputs": [
    {
     "data": {
      "image/png": "[encoded data removed]",
      "text/plain": [
       "<Figure size 720x720 with 4 Axes>"
      ]
     },
     "metadata": {
      "needs_background": "light"
     },
     "output_type": "display_data"
    }
   ],
   "source": [
    "fig,ax=plt.subplots(2,2,figsize=(10,10))  #rows,columns\n",
    "ax[0][0].plot(df[\"c1\"])\n",
    "ax[0][1].pie(df[\"c1\"],labels=df[\"c3\"])\n",
    "ax[1][0].hist(df[\"c1\"])\n",
    "plt.tight_layout();   #makes sures ticks doesnt overlab with other charts"
   ]
  },
  {
   "cell_type": "code",
   "execution_count": null,
   "id": "b925dedf",
   "metadata": {},
   "outputs": [],
   "source": [
    "#sharex or y parameter in subplots can be helpful to set axis limit same for all charts:  sharex=\"all\""
   ]
  },
  {
   "cell_type": "code",
   "execution_count": 1,
   "id": "6e9268d9",
   "metadata": {},
   "outputs": [],
   "source": [
    "#you can build layouts with charts of varying size using gridspec which we are not going to discuss here"
   ]
  },
  {
   "cell_type": "code",
   "execution_count": 6,
   "id": "cc9b3eb7",
   "metadata": {},
   "outputs": [
    {
     "data": {
      "image/png": "[encoded data removed]",
      "text/plain": [
       "<Figure size 432x288 with 1 Axes>"
      ]
     },
     "metadata": {
      "needs_background": "light"
     },
     "output_type": "display_data"
    }
   ],
   "source": [
    "#saving a chart\n",
    "df[\"c1\"].plot()\n",
    "plt.savefig(\"pic\")"
   ]
  },
  {
   "cell_type": "code",
   "execution_count": null,
   "id": "fd1b153e",
   "metadata": {},
   "outputs": [],
   "source": []
  }
 ],
 "metadata": {
  "kernelspec": {
   "display_name": "Python 3 (ipykernel)",
   "language": "python",
   "name": "python3"
  },
  "language_info": {
   "codemirror_mode": {
    "name": "ipython",
    "version": 3
   },
   "file_extension": ".py",
   "mimetype": "text/x-python",
   "name": "python",
   "nbconvert_exporter": "python",
   "pygments_lexer": "ipython3",
   "version": "3.9.12"
  }
 },
 "nbformat": 4,
 "nbformat_minor": 5
}
