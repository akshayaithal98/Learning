{
 "cells": [
  {
   "cell_type": "markdown",
   "id": "3ac03a3d",
   "metadata": {},
   "source": [
    "Logistic Regression:\n",
    "it is a supervised classification algorithm\n",
    "Ex:spam email detection\n",
    "y is discrete or categorical\n",
    "slight modification in linear regression leads to sigmoid function which is used here looks like s shape\n",
    "two types:binary classification(span or not)&multi class classification(like grade classification:distinction,1st,2nd,3rd class)\n",
    "primarily used for binary but can be used for multi class using 1 vs rest method\n",
    "\n",
    "based on probability\n",
    "Sigmoid function is used to map predicted values to probability\n",
    "use logit function to predict outcome:  log(odds) to make same distance of both odds of w/l\n",
    "play game 10 times and u win 4 times\n",
    "probability of winning p=4/10\n",
    "odds of winning=4/6\n",
    "odds=p/1-p\n",
    "probability-->likelihood-->classification\n",
    "set a threshold for classification\n",
    "The term \"probability\" refers to the possibility of something happening. The term Likelihood refers to the process of determining the best data distribution given a specific situation in the data\n",
    "\n",
    "[accuracy,precision,recall,f1 score,ROC curve]\n",
    "model.score also does confusion matrix in classification\n",
    "these all are performance evaluation metrics for classification\n",
    "true positive:positive cases that were correctly predicted to be a positive class\n",
    "false negative:actually postitve but algo says negative\n",
    "accuracy wrt confusion matrix=correct cases/total cases\n",
    "\n",
    "accuracy=tp+tn/(tp+tn+fn+fp)\n",
    "\n",
    "precision:what % of cases predicted as positive are actually positive.tp/(tp+fp)\n",
    "\n",
    "recall/sensitivity:how well does model reckognize positive cases,(tp/tp+fn)\n",
    "\n",
    "F1 score:how exact is the model and how well does model reckognize positive cases.combines both precision and recall (2pr/(p+r)) which gives\n",
    "2tp/(2tp+fn+fp)\n",
    "\n",
    "Roc curve:reveiver operator characteristics\n",
    " fp rate vs tp rate\n",
    " (tp rate is nothing but recall).fpr=fp/(fp+tn)\n",
    " AOC ability of model to distinguish btw classes (0 worst-1 best)"
   ]
  },
  {
   "cell_type": "code",
   "execution_count": 1,
   "id": "8e233eca",
   "metadata": {},
   "outputs": [],
   "source": [
    "import pandas as pd\n",
    "import numpy as np\n",
    "import seaborn as sb\n",
    "import matplotlib.pyplot as plt\n",
    "from sklearn.preprocessing import LabelEncoder\n",
    "from sklearn.preprocessing import StandardScaler\n",
    "from sklearn.model_selection import train_test_split\n",
    "from sklearn.linear_model import LogisticRegression\n",
    "from sklearn.metrics import confusion_matrix"
   ]
  },
  {
   "cell_type": "code",
   "execution_count": 56,
   "id": "d5ee6aed",
   "metadata": {},
   "outputs": [
    {
     "data": {
      "text/html": [
       "<div>\n",
       "<style scoped>\n",
       "    .dataframe tbody tr th:only-of-type {\n",
       "        vertical-align: middle;\n",
       "    }\n",
       "\n",
       "    .dataframe tbody tr th {\n",
       "        vertical-align: top;\n",
       "    }\n",
       "\n",
       "    .dataframe thead th {\n",
       "        text-align: right;\n",
       "    }\n",
       "</style>\n",
       "<table border=\"1\" class=\"dataframe\">\n",
       "  <thead>\n",
       "    <tr style=\"text-align: right;\">\n",
       "      <th></th>\n",
       "      <th>credit.policy</th>\n",
       "      <th>purpose</th>\n",
       "      <th>int.rate</th>\n",
       "      <th>installment</th>\n",
       "      <th>log.annual.inc</th>\n",
       "      <th>dti</th>\n",
       "      <th>fico</th>\n",
       "      <th>days.with.cr.line</th>\n",
       "      <th>revol.bal</th>\n",
       "      <th>revol.util</th>\n",
       "      <th>inq.last.6mths</th>\n",
       "      <th>delinq.2yrs</th>\n",
       "      <th>pub.rec</th>\n",
       "      <th>not.fully.paid</th>\n",
       "    </tr>\n",
       "  </thead>\n",
       "  <tbody>\n",
       "    <tr>\n",
       "      <th>0</th>\n",
       "      <td>1</td>\n",
       "      <td>debt_consolidation</td>\n",
       "      <td>0.1189</td>\n",
       "      <td>829.10</td>\n",
       "      <td>11.350407</td>\n",
       "      <td>19.48</td>\n",
       "      <td>737</td>\n",
       "      <td>5639.958333</td>\n",
       "      <td>28854</td>\n",
       "      <td>52.1</td>\n",
       "      <td>0</td>\n",
       "      <td>0</td>\n",
       "      <td>0</td>\n",
       "      <td>0</td>\n",
       "    </tr>\n",
       "    <tr>\n",
       "      <th>1</th>\n",
       "      <td>1</td>\n",
       "      <td>credit_card</td>\n",
       "      <td>0.1071</td>\n",
       "      <td>228.22</td>\n",
       "      <td>11.082143</td>\n",
       "      <td>14.29</td>\n",
       "      <td>707</td>\n",
       "      <td>2760.000000</td>\n",
       "      <td>33623</td>\n",
       "      <td>76.7</td>\n",
       "      <td>0</td>\n",
       "      <td>0</td>\n",
       "      <td>0</td>\n",
       "      <td>0</td>\n",
       "    </tr>\n",
       "    <tr>\n",
       "      <th>2</th>\n",
       "      <td>1</td>\n",
       "      <td>debt_consolidation</td>\n",
       "      <td>0.1357</td>\n",
       "      <td>366.86</td>\n",
       "      <td>10.373491</td>\n",
       "      <td>11.63</td>\n",
       "      <td>682</td>\n",
       "      <td>4710.000000</td>\n",
       "      <td>3511</td>\n",
       "      <td>25.6</td>\n",
       "      <td>1</td>\n",
       "      <td>0</td>\n",
       "      <td>0</td>\n",
       "      <td>0</td>\n",
       "    </tr>\n",
       "    <tr>\n",
       "      <th>3</th>\n",
       "      <td>1</td>\n",
       "      <td>debt_consolidation</td>\n",
       "      <td>0.1008</td>\n",
       "      <td>162.34</td>\n",
       "      <td>11.350407</td>\n",
       "      <td>8.10</td>\n",
       "      <td>712</td>\n",
       "      <td>2699.958333</td>\n",
       "      <td>33667</td>\n",
       "      <td>73.2</td>\n",
       "      <td>1</td>\n",
       "      <td>0</td>\n",
       "      <td>0</td>\n",
       "      <td>0</td>\n",
       "    </tr>\n",
       "    <tr>\n",
       "      <th>4</th>\n",
       "      <td>1</td>\n",
       "      <td>credit_card</td>\n",
       "      <td>0.1426</td>\n",
       "      <td>102.92</td>\n",
       "      <td>11.299732</td>\n",
       "      <td>14.97</td>\n",
       "      <td>667</td>\n",
       "      <td>4066.000000</td>\n",
       "      <td>4740</td>\n",
       "      <td>39.5</td>\n",
       "      <td>0</td>\n",
       "      <td>1</td>\n",
       "      <td>0</td>\n",
       "      <td>0</td>\n",
       "    </tr>\n",
       "    <tr>\n",
       "      <th>...</th>\n",
       "      <td>...</td>\n",
       "      <td>...</td>\n",
       "      <td>...</td>\n",
       "      <td>...</td>\n",
       "      <td>...</td>\n",
       "      <td>...</td>\n",
       "      <td>...</td>\n",
       "      <td>...</td>\n",
       "      <td>...</td>\n",
       "      <td>...</td>\n",
       "      <td>...</td>\n",
       "      <td>...</td>\n",
       "      <td>...</td>\n",
       "      <td>...</td>\n",
       "    </tr>\n",
       "    <tr>\n",
       "      <th>9573</th>\n",
       "      <td>0</td>\n",
       "      <td>all_other</td>\n",
       "      <td>0.1461</td>\n",
       "      <td>344.76</td>\n",
       "      <td>12.180755</td>\n",
       "      <td>10.39</td>\n",
       "      <td>672</td>\n",
       "      <td>10474.000000</td>\n",
       "      <td>215372</td>\n",
       "      <td>82.1</td>\n",
       "      <td>2</td>\n",
       "      <td>0</td>\n",
       "      <td>0</td>\n",
       "      <td>1</td>\n",
       "    </tr>\n",
       "    <tr>\n",
       "      <th>9574</th>\n",
       "      <td>0</td>\n",
       "      <td>all_other</td>\n",
       "      <td>0.1253</td>\n",
       "      <td>257.70</td>\n",
       "      <td>11.141862</td>\n",
       "      <td>0.21</td>\n",
       "      <td>722</td>\n",
       "      <td>4380.000000</td>\n",
       "      <td>184</td>\n",
       "      <td>1.1</td>\n",
       "      <td>5</td>\n",
       "      <td>0</td>\n",
       "      <td>0</td>\n",
       "      <td>1</td>\n",
       "    </tr>\n",
       "    <tr>\n",
       "      <th>9575</th>\n",
       "      <td>0</td>\n",
       "      <td>debt_consolidation</td>\n",
       "      <td>0.1071</td>\n",
       "      <td>97.81</td>\n",
       "      <td>10.596635</td>\n",
       "      <td>13.09</td>\n",
       "      <td>687</td>\n",
       "      <td>3450.041667</td>\n",
       "      <td>10036</td>\n",
       "      <td>82.9</td>\n",
       "      <td>8</td>\n",
       "      <td>0</td>\n",
       "      <td>0</td>\n",
       "      <td>1</td>\n",
       "    </tr>\n",
       "    <tr>\n",
       "      <th>9576</th>\n",
       "      <td>0</td>\n",
       "      <td>home_improvement</td>\n",
       "      <td>0.1600</td>\n",
       "      <td>351.58</td>\n",
       "      <td>10.819778</td>\n",
       "      <td>19.18</td>\n",
       "      <td>692</td>\n",
       "      <td>1800.000000</td>\n",
       "      <td>0</td>\n",
       "      <td>3.2</td>\n",
       "      <td>5</td>\n",
       "      <td>0</td>\n",
       "      <td>0</td>\n",
       "      <td>1</td>\n",
       "    </tr>\n",
       "    <tr>\n",
       "      <th>9577</th>\n",
       "      <td>0</td>\n",
       "      <td>debt_consolidation</td>\n",
       "      <td>0.1392</td>\n",
       "      <td>853.43</td>\n",
       "      <td>11.264464</td>\n",
       "      <td>16.28</td>\n",
       "      <td>732</td>\n",
       "      <td>4740.000000</td>\n",
       "      <td>37879</td>\n",
       "      <td>57.0</td>\n",
       "      <td>6</td>\n",
       "      <td>0</td>\n",
       "      <td>0</td>\n",
       "      <td>1</td>\n",
       "    </tr>\n",
       "  </tbody>\n",
       "</table>\n",
       "<p>9578 rows × 14 columns</p>\n",
       "</div>"
      ],
      "text/plain": [
       "      credit.policy             purpose  int.rate  installment  \\\n",
       "0                 1  debt_consolidation    0.1189       829.10   \n",
       "1                 1         credit_card    0.1071       228.22   \n",
       "2                 1  debt_consolidation    0.1357       366.86   \n",
       "3                 1  debt_consolidation    0.1008       162.34   \n",
       "4                 1         credit_card    0.1426       102.92   \n",
       "...             ...                 ...       ...          ...   \n",
       "9573              0           all_other    0.1461       344.76   \n",
       "9574              0           all_other    0.1253       257.70   \n",
       "9575              0  debt_consolidation    0.1071        97.81   \n",
       "9576              0    home_improvement    0.1600       351.58   \n",
       "9577              0  debt_consolidation    0.1392       853.43   \n",
       "\n",
       "      log.annual.inc    dti  fico  days.with.cr.line  revol.bal  revol.util  \\\n",
       "0          11.350407  19.48   737        5639.958333      28854        52.1   \n",
       "1          11.082143  14.29   707        2760.000000      33623        76.7   \n",
       "2          10.373491  11.63   682        4710.000000       3511        25.6   \n",
       "3          11.350407   8.10   712        2699.958333      33667        73.2   \n",
       "4          11.299732  14.97   667        4066.000000       4740        39.5   \n",
       "...              ...    ...   ...                ...        ...         ...   \n",
       "9573       12.180755  10.39   672       10474.000000     215372        82.1   \n",
       "9574       11.141862   0.21   722        4380.000000        184         1.1   \n",
       "9575       10.596635  13.09   687        3450.041667      10036        82.9   \n",
       "9576       10.819778  19.18   692        1800.000000          0         3.2   \n",
       "9577       11.264464  16.28   732        4740.000000      37879        57.0   \n",
       "\n",
       "      inq.last.6mths  delinq.2yrs  pub.rec  not.fully.paid  \n",
       "0                  0            0        0               0  \n",
       "1                  0            0        0               0  \n",
       "2                  1            0        0               0  \n",
       "3                  1            0        0               0  \n",
       "4                  0            1        0               0  \n",
       "...              ...          ...      ...             ...  \n",
       "9573               2            0        0               1  \n",
       "9574               5            0        0               1  \n",
       "9575               8            0        0               1  \n",
       "9576               5            0        0               1  \n",
       "9577               6            0        0               1  \n",
       "\n",
       "[9578 rows x 14 columns]"
      ]
     },
     "execution_count": 56,
     "metadata": {},
     "output_type": "execute_result"
    }
   ],
   "source": [
    "df=pd.read_csv(\"DS2_C5_S3_Loan_Data_Concept.csv\")\n",
    "df"
   ]
  },
  {
   "cell_type": "code",
   "execution_count": 57,
   "id": "6d02f0cc",
   "metadata": {},
   "outputs": [],
   "source": [
    "#visualization,feature engg,split 70:30,scaling,correlation,missing values"
   ]
  },
  {
   "cell_type": "code",
   "execution_count": 58,
   "id": "22236beb",
   "metadata": {},
   "outputs": [
    {
     "data": {
      "text/plain": [
       "Index(['credit.policy', 'purpose', 'int.rate', 'installment', 'log.annual.inc',\n",
       "       'dti', 'fico', 'days.with.cr.line', 'revol.bal', 'revol.util',\n",
       "       'inq.last.6mths', 'delinq.2yrs', 'pub.rec', 'not.fully.paid'],\n",
       "      dtype='object')"
      ]
     },
     "execution_count": 58,
     "metadata": {},
     "output_type": "execute_result"
    }
   ],
   "source": [
    "df.columns"
   ]
  },
  {
   "cell_type": "code",
   "execution_count": 59,
   "id": "af389c41",
   "metadata": {},
   "outputs": [
    {
     "data": {
      "text/plain": [
       "credit.policy        0\n",
       "purpose              0\n",
       "int.rate             0\n",
       "installment          0\n",
       "log.annual.inc       0\n",
       "dti                  0\n",
       "fico                 0\n",
       "days.with.cr.line    0\n",
       "revol.bal            0\n",
       "revol.util           0\n",
       "inq.last.6mths       0\n",
       "delinq.2yrs          0\n",
       "pub.rec              0\n",
       "not.fully.paid       0\n",
       "dtype: int64"
      ]
     },
     "execution_count": 59,
     "metadata": {},
     "output_type": "execute_result"
    }
   ],
   "source": [
    "df.isnull().sum()"
   ]
  },
  {
   "cell_type": "code",
   "execution_count": 60,
   "id": "2db89a0c",
   "metadata": {},
   "outputs": [
    {
     "name": "stdout",
     "output_type": "stream",
     "text": [
      "-------\n",
      "1    7710\n",
      "0    1868\n",
      "Name: credit.policy, dtype: int64\n",
      "-------\n",
      "debt_consolidation    3957\n",
      "all_other             2331\n",
      "credit_card           1262\n",
      "home_improvement       629\n",
      "small_business         619\n",
      "major_purchase         437\n",
      "educational            343\n",
      "Name: purpose, dtype: int64\n",
      "-------\n",
      "0.1253    354\n",
      "0.0894    299\n",
      "0.1183    243\n",
      "0.1218    215\n",
      "0.0963    210\n",
      "         ... \n",
      "0.2016      1\n",
      "0.1683      1\n",
      "0.1778      1\n",
      "0.1756      1\n",
      "0.1867      1\n",
      "Name: int.rate, Length: 249, dtype: int64\n",
      "-------\n",
      "317.72    41\n",
      "316.11    34\n",
      "319.47    29\n",
      "381.26    27\n",
      "662.68    27\n",
      "          ..\n",
      "97.53      1\n",
      "76.26      1\n",
      "150.84     1\n",
      "158.99     1\n",
      "853.43     1\n",
      "Name: installment, Length: 4788, dtype: int64\n",
      "-------\n",
      "11.002100    308\n",
      "10.819778    248\n",
      "10.308953    224\n",
      "10.596635    224\n",
      "10.714418    221\n",
      "            ... \n",
      "11.217534      1\n",
      "12.078239      1\n",
      "10.068451      1\n",
      "9.621788       1\n",
      "10.110472      1\n",
      "Name: log.annual.inc, Length: 1987, dtype: int64\n",
      "-------\n",
      "0.00     89\n",
      "10.00    19\n",
      "0.60     16\n",
      "15.10    13\n",
      "12.00    13\n",
      "         ..\n",
      "5.90      1\n",
      "19.74     1\n",
      "29.15     1\n",
      "1.09      1\n",
      "24.05     1\n",
      "Name: dti, Length: 2529, dtype: int64\n",
      "-------\n",
      "687    548\n",
      "682    536\n",
      "692    498\n",
      "697    476\n",
      "702    472\n",
      "707    444\n",
      "667    438\n",
      "677    427\n",
      "717    424\n",
      "662    414\n",
      "712    395\n",
      "672    395\n",
      "722    388\n",
      "727    361\n",
      "732    330\n",
      "742    324\n",
      "737    313\n",
      "752    258\n",
      "747    236\n",
      "757    231\n",
      "762    220\n",
      "772    158\n",
      "767    142\n",
      "777    140\n",
      "652    131\n",
      "657    127\n",
      "782    118\n",
      "647    112\n",
      "642    102\n",
      "792     97\n",
      "787     85\n",
      "797     76\n",
      "802     55\n",
      "807     45\n",
      "812     33\n",
      "632      6\n",
      "817      6\n",
      "822      5\n",
      "637      5\n",
      "627      2\n",
      "612      2\n",
      "827      1\n",
      "617      1\n",
      "622      1\n",
      "Name: fico, dtype: int64\n",
      "-------\n",
      "3660.000000     50\n",
      "3630.000000     48\n",
      "3990.000000     46\n",
      "4410.000000     44\n",
      "3600.000000     41\n",
      "                ..\n",
      "9395.000000      1\n",
      "5613.958333      1\n",
      "2884.000000      1\n",
      "1728.000000      1\n",
      "10474.000000     1\n",
      "Name: days.with.cr.line, Length: 2687, dtype: int64\n",
      "-------\n",
      "0        321\n",
      "298       10\n",
      "255       10\n",
      "682        9\n",
      "346        8\n",
      "        ... \n",
      "24876      1\n",
      "14588      1\n",
      "9866       1\n",
      "13450      1\n",
      "37879      1\n",
      "Name: revol.bal, Length: 7869, dtype: int64\n",
      "-------\n",
      "0.00     297\n",
      "0.50      26\n",
      "47.80     22\n",
      "0.30      22\n",
      "73.70     22\n",
      "        ... \n",
      "49.63      1\n",
      "0.04       1\n",
      "91.40      1\n",
      "7.28       1\n",
      "69.14      1\n",
      "Name: revol.util, Length: 1035, dtype: int64\n",
      "-------\n",
      "0     3637\n",
      "1     2462\n",
      "2     1384\n",
      "3      864\n",
      "4      475\n",
      "5      278\n",
      "6      165\n",
      "7      100\n",
      "8       72\n",
      "9       47\n",
      "10      23\n",
      "11      15\n",
      "12      15\n",
      "15       9\n",
      "13       6\n",
      "14       6\n",
      "18       4\n",
      "16       3\n",
      "19       2\n",
      "24       2\n",
      "17       2\n",
      "33       1\n",
      "20       1\n",
      "27       1\n",
      "25       1\n",
      "28       1\n",
      "31       1\n",
      "32       1\n",
      "Name: inq.last.6mths, dtype: int64\n",
      "-------\n",
      "0     8458\n",
      "1      832\n",
      "2      192\n",
      "3       65\n",
      "4       19\n",
      "5        6\n",
      "6        2\n",
      "13       1\n",
      "7        1\n",
      "8        1\n",
      "11       1\n",
      "Name: delinq.2yrs, dtype: int64\n",
      "-------\n",
      "0    9019\n",
      "1     533\n",
      "2      19\n",
      "3       5\n",
      "4       1\n",
      "5       1\n",
      "Name: pub.rec, dtype: int64\n",
      "-------\n",
      "0    8045\n",
      "1    1533\n",
      "Name: not.fully.paid, dtype: int64\n"
     ]
    }
   ],
   "source": [
    "for i in df.columns:\n",
    "    print(\"-------\")\n",
    "    print(df[i].value_counts())"
   ]
  },
  {
   "cell_type": "code",
   "execution_count": 61,
   "id": "3a7caa8c",
   "metadata": {},
   "outputs": [
    {
     "data": {
      "text/plain": [
       "credit.policy          int64\n",
       "purpose               object\n",
       "int.rate             float64\n",
       "installment          float64\n",
       "log.annual.inc       float64\n",
       "dti                  float64\n",
       "fico                   int64\n",
       "days.with.cr.line    float64\n",
       "revol.bal              int64\n",
       "revol.util           float64\n",
       "inq.last.6mths         int64\n",
       "delinq.2yrs            int64\n",
       "pub.rec                int64\n",
       "not.fully.paid         int64\n",
       "dtype: object"
      ]
     },
     "execution_count": 61,
     "metadata": {},
     "output_type": "execute_result"
    }
   ],
   "source": [
    "df.dtypes"
   ]
  },
  {
   "cell_type": "code",
   "execution_count": 62,
   "id": "5d2846d9",
   "metadata": {},
   "outputs": [],
   "source": [
    "df[\"purpose\"]=df[\"purpose\"].astype(\"category\")"
   ]
  },
  {
   "cell_type": "code",
   "execution_count": 63,
   "id": "62b3fb21",
   "metadata": {},
   "outputs": [],
   "source": [
    "encoder=LabelEncoder()\n",
    "df[\"purpose\"]=encoder.fit_transform(df[\"purpose\"])"
   ]
  },
  {
   "cell_type": "code",
   "execution_count": 64,
   "id": "9cb03555",
   "metadata": {},
   "outputs": [],
   "source": [
    "scaler=StandardScaler()"
   ]
  },
  {
   "cell_type": "code",
   "execution_count": 65,
   "id": "5f3e0edb",
   "metadata": {},
   "outputs": [],
   "source": [
    "#dont normalize target variable"
   ]
  },
  {
   "cell_type": "code",
   "execution_count": 66,
   "id": "29aaee96",
   "metadata": {},
   "outputs": [],
   "source": [
    "x=df.iloc[:,:-1]\n",
    "y=df.iloc[:,-1]"
   ]
  },
  {
   "cell_type": "code",
   "execution_count": 67,
   "id": "864b662c",
   "metadata": {},
   "outputs": [],
   "source": [
    "x=pd.DataFrame(scaler.fit_transform(x),columns=x.columns)"
   ]
  },
  {
   "cell_type": "code",
   "execution_count": 68,
   "id": "9a522e71",
   "metadata": {},
   "outputs": [
    {
     "data": {
      "text/html": [
       "<div>\n",
       "<style scoped>\n",
       "    .dataframe tbody tr th:only-of-type {\n",
       "        vertical-align: middle;\n",
       "    }\n",
       "\n",
       "    .dataframe tbody tr th {\n",
       "        vertical-align: top;\n",
       "    }\n",
       "\n",
       "    .dataframe thead th {\n",
       "        text-align: right;\n",
       "    }\n",
       "</style>\n",
       "<table border=\"1\" class=\"dataframe\">\n",
       "  <thead>\n",
       "    <tr style=\"text-align: right;\">\n",
       "      <th></th>\n",
       "      <th>credit.policy</th>\n",
       "      <th>purpose</th>\n",
       "      <th>int.rate</th>\n",
       "      <th>installment</th>\n",
       "      <th>log.annual.inc</th>\n",
       "      <th>dti</th>\n",
       "      <th>fico</th>\n",
       "      <th>days.with.cr.line</th>\n",
       "      <th>revol.bal</th>\n",
       "      <th>revol.util</th>\n",
       "      <th>inq.last.6mths</th>\n",
       "      <th>delinq.2yrs</th>\n",
       "      <th>pub.rec</th>\n",
       "    </tr>\n",
       "  </thead>\n",
       "  <tbody>\n",
       "    <tr>\n",
       "      <th>0</th>\n",
       "      <td>0.492222</td>\n",
       "      <td>0.033176</td>\n",
       "      <td>-0.139318</td>\n",
       "      <td>2.463099</td>\n",
       "      <td>0.680388</td>\n",
       "      <td>0.998505</td>\n",
       "      <td>0.688825</td>\n",
       "      <td>0.432230</td>\n",
       "      <td>0.353732</td>\n",
       "      <td>0.182704</td>\n",
       "      <td>-0.716989</td>\n",
       "      <td>-0.299730</td>\n",
       "      <td>-0.237003</td>\n",
       "    </tr>\n",
       "    <tr>\n",
       "      <th>1</th>\n",
       "      <td>0.492222</td>\n",
       "      <td>-0.559665</td>\n",
       "      <td>-0.578868</td>\n",
       "      <td>-0.438854</td>\n",
       "      <td>0.244031</td>\n",
       "      <td>0.244540</td>\n",
       "      <td>-0.101303</td>\n",
       "      <td>-0.721230</td>\n",
       "      <td>0.495018</td>\n",
       "      <td>1.030602</td>\n",
       "      <td>-0.716989</td>\n",
       "      <td>-0.299730</td>\n",
       "      <td>-0.237003</td>\n",
       "    </tr>\n",
       "    <tr>\n",
       "      <th>2</th>\n",
       "      <td>0.492222</td>\n",
       "      <td>0.033176</td>\n",
       "      <td>0.486484</td>\n",
       "      <td>0.230708</td>\n",
       "      <td>-0.908659</td>\n",
       "      <td>-0.141885</td>\n",
       "      <td>-0.759742</td>\n",
       "      <td>0.059770</td>\n",
       "      <td>-0.397073</td>\n",
       "      <td>-0.730683</td>\n",
       "      <td>-0.262470</td>\n",
       "      <td>-0.299730</td>\n",
       "      <td>-0.237003</td>\n",
       "    </tr>\n",
       "    <tr>\n",
       "      <th>3</th>\n",
       "      <td>0.492222</td>\n",
       "      <td>0.033176</td>\n",
       "      <td>-0.813544</td>\n",
       "      <td>-0.757022</td>\n",
       "      <td>0.680388</td>\n",
       "      <td>-0.654697</td>\n",
       "      <td>0.030385</td>\n",
       "      <td>-0.745277</td>\n",
       "      <td>0.496321</td>\n",
       "      <td>0.909966</td>\n",
       "      <td>-0.262470</td>\n",
       "      <td>-0.299730</td>\n",
       "      <td>-0.237003</td>\n",
       "    </tr>\n",
       "    <tr>\n",
       "      <th>4</th>\n",
       "      <td>0.492222</td>\n",
       "      <td>-0.559665</td>\n",
       "      <td>0.743509</td>\n",
       "      <td>-1.043992</td>\n",
       "      <td>0.597961</td>\n",
       "      <td>0.343326</td>\n",
       "      <td>-1.154806</td>\n",
       "      <td>-0.198161</td>\n",
       "      <td>-0.360663</td>\n",
       "      <td>-0.251586</td>\n",
       "      <td>-0.716989</td>\n",
       "      <td>1.531147</td>\n",
       "      <td>-0.237003</td>\n",
       "    </tr>\n",
       "    <tr>\n",
       "      <th>...</th>\n",
       "      <td>...</td>\n",
       "      <td>...</td>\n",
       "      <td>...</td>\n",
       "      <td>...</td>\n",
       "      <td>...</td>\n",
       "      <td>...</td>\n",
       "      <td>...</td>\n",
       "      <td>...</td>\n",
       "      <td>...</td>\n",
       "      <td>...</td>\n",
       "      <td>...</td>\n",
       "      <td>...</td>\n",
       "      <td>...</td>\n",
       "    </tr>\n",
       "    <tr>\n",
       "      <th>9573</th>\n",
       "      <td>-2.031603</td>\n",
       "      <td>-1.152506</td>\n",
       "      <td>0.873884</td>\n",
       "      <td>0.123976</td>\n",
       "      <td>2.031030</td>\n",
       "      <td>-0.322023</td>\n",
       "      <td>-1.023118</td>\n",
       "      <td>2.368325</td>\n",
       "      <td>5.879467</td>\n",
       "      <td>1.216726</td>\n",
       "      <td>0.192048</td>\n",
       "      <td>-0.299730</td>\n",
       "      <td>-0.237003</td>\n",
       "    </tr>\n",
       "    <tr>\n",
       "      <th>9574</th>\n",
       "      <td>-2.031603</td>\n",
       "      <td>-1.152506</td>\n",
       "      <td>0.099083</td>\n",
       "      <td>-0.296481</td>\n",
       "      <td>0.341170</td>\n",
       "      <td>-1.800898</td>\n",
       "      <td>0.293761</td>\n",
       "      <td>-0.072400</td>\n",
       "      <td>-0.495638</td>\n",
       "      <td>-1.575135</td>\n",
       "      <td>1.555604</td>\n",
       "      <td>-0.299730</td>\n",
       "      <td>-0.237003</td>\n",
       "    </tr>\n",
       "    <tr>\n",
       "      <th>9575</th>\n",
       "      <td>-2.031603</td>\n",
       "      <td>0.033176</td>\n",
       "      <td>-0.578868</td>\n",
       "      <td>-1.068670</td>\n",
       "      <td>-0.545694</td>\n",
       "      <td>0.070213</td>\n",
       "      <td>-0.628054</td>\n",
       "      <td>-0.444860</td>\n",
       "      <td>-0.203765</td>\n",
       "      <td>1.244300</td>\n",
       "      <td>2.919159</td>\n",
       "      <td>-0.299730</td>\n",
       "      <td>-0.237003</td>\n",
       "    </tr>\n",
       "    <tr>\n",
       "      <th>9576</th>\n",
       "      <td>-2.031603</td>\n",
       "      <td>1.218858</td>\n",
       "      <td>1.391660</td>\n",
       "      <td>0.156914</td>\n",
       "      <td>-0.182730</td>\n",
       "      <td>0.954924</td>\n",
       "      <td>-0.496366</td>\n",
       "      <td>-1.105722</td>\n",
       "      <td>-0.501089</td>\n",
       "      <td>-1.502753</td>\n",
       "      <td>1.555604</td>\n",
       "      <td>-0.299730</td>\n",
       "      <td>-0.237003</td>\n",
       "    </tr>\n",
       "    <tr>\n",
       "      <th>9577</th>\n",
       "      <td>-2.031603</td>\n",
       "      <td>0.033176</td>\n",
       "      <td>0.616859</td>\n",
       "      <td>2.580601</td>\n",
       "      <td>0.540594</td>\n",
       "      <td>0.533633</td>\n",
       "      <td>0.557137</td>\n",
       "      <td>0.071785</td>\n",
       "      <td>0.621105</td>\n",
       "      <td>0.351594</td>\n",
       "      <td>2.010122</td>\n",
       "      <td>-0.299730</td>\n",
       "      <td>-0.237003</td>\n",
       "    </tr>\n",
       "  </tbody>\n",
       "</table>\n",
       "<p>9578 rows × 13 columns</p>\n",
       "</div>"
      ],
      "text/plain": [
       "      credit.policy   purpose  int.rate  installment  log.annual.inc  \\\n",
       "0          0.492222  0.033176 -0.139318     2.463099        0.680388   \n",
       "1          0.492222 -0.559665 -0.578868    -0.438854        0.244031   \n",
       "2          0.492222  0.033176  0.486484     0.230708       -0.908659   \n",
       "3          0.492222  0.033176 -0.813544    -0.757022        0.680388   \n",
       "4          0.492222 -0.559665  0.743509    -1.043992        0.597961   \n",
       "...             ...       ...       ...          ...             ...   \n",
       "9573      -2.031603 -1.152506  0.873884     0.123976        2.031030   \n",
       "9574      -2.031603 -1.152506  0.099083    -0.296481        0.341170   \n",
       "9575      -2.031603  0.033176 -0.578868    -1.068670       -0.545694   \n",
       "9576      -2.031603  1.218858  1.391660     0.156914       -0.182730   \n",
       "9577      -2.031603  0.033176  0.616859     2.580601        0.540594   \n",
       "\n",
       "           dti      fico  days.with.cr.line  revol.bal  revol.util  \\\n",
       "0     0.998505  0.688825           0.432230   0.353732    0.182704   \n",
       "1     0.244540 -0.101303          -0.721230   0.495018    1.030602   \n",
       "2    -0.141885 -0.759742           0.059770  -0.397073   -0.730683   \n",
       "3    -0.654697  0.030385          -0.745277   0.496321    0.909966   \n",
       "4     0.343326 -1.154806          -0.198161  -0.360663   -0.251586   \n",
       "...        ...       ...                ...        ...         ...   \n",
       "9573 -0.322023 -1.023118           2.368325   5.879467    1.216726   \n",
       "9574 -1.800898  0.293761          -0.072400  -0.495638   -1.575135   \n",
       "9575  0.070213 -0.628054          -0.444860  -0.203765    1.244300   \n",
       "9576  0.954924 -0.496366          -1.105722  -0.501089   -1.502753   \n",
       "9577  0.533633  0.557137           0.071785   0.621105    0.351594   \n",
       "\n",
       "      inq.last.6mths  delinq.2yrs   pub.rec  \n",
       "0          -0.716989    -0.299730 -0.237003  \n",
       "1          -0.716989    -0.299730 -0.237003  \n",
       "2          -0.262470    -0.299730 -0.237003  \n",
       "3          -0.262470    -0.299730 -0.237003  \n",
       "4          -0.716989     1.531147 -0.237003  \n",
       "...              ...          ...       ...  \n",
       "9573        0.192048    -0.299730 -0.237003  \n",
       "9574        1.555604    -0.299730 -0.237003  \n",
       "9575        2.919159    -0.299730 -0.237003  \n",
       "9576        1.555604    -0.299730 -0.237003  \n",
       "9577        2.010122    -0.299730 -0.237003  \n",
       "\n",
       "[9578 rows x 13 columns]"
      ]
     },
     "execution_count": 68,
     "metadata": {},
     "output_type": "execute_result"
    }
   ],
   "source": [
    "x"
   ]
  },
  {
   "cell_type": "code",
   "execution_count": 70,
   "id": "5737af11",
   "metadata": {},
   "outputs": [],
   "source": [
    "df_scaled=pd.concat([x,y],axis=1)"
   ]
  },
  {
   "cell_type": "code",
   "execution_count": 71,
   "id": "8fd89c9f",
   "metadata": {},
   "outputs": [
    {
     "data": {
      "text/html": [
       "<div>\n",
       "<style scoped>\n",
       "    .dataframe tbody tr th:only-of-type {\n",
       "        vertical-align: middle;\n",
       "    }\n",
       "\n",
       "    .dataframe tbody tr th {\n",
       "        vertical-align: top;\n",
       "    }\n",
       "\n",
       "    .dataframe thead th {\n",
       "        text-align: right;\n",
       "    }\n",
       "</style>\n",
       "<table border=\"1\" class=\"dataframe\">\n",
       "  <thead>\n",
       "    <tr style=\"text-align: right;\">\n",
       "      <th></th>\n",
       "      <th>credit.policy</th>\n",
       "      <th>purpose</th>\n",
       "      <th>int.rate</th>\n",
       "      <th>installment</th>\n",
       "      <th>log.annual.inc</th>\n",
       "      <th>dti</th>\n",
       "      <th>fico</th>\n",
       "      <th>days.with.cr.line</th>\n",
       "      <th>revol.bal</th>\n",
       "      <th>revol.util</th>\n",
       "      <th>inq.last.6mths</th>\n",
       "      <th>delinq.2yrs</th>\n",
       "      <th>pub.rec</th>\n",
       "      <th>not.fully.paid</th>\n",
       "    </tr>\n",
       "  </thead>\n",
       "  <tbody>\n",
       "    <tr>\n",
       "      <th>0</th>\n",
       "      <td>0.492222</td>\n",
       "      <td>0.033176</td>\n",
       "      <td>-0.139318</td>\n",
       "      <td>2.463099</td>\n",
       "      <td>0.680388</td>\n",
       "      <td>0.998505</td>\n",
       "      <td>0.688825</td>\n",
       "      <td>0.432230</td>\n",
       "      <td>0.353732</td>\n",
       "      <td>0.182704</td>\n",
       "      <td>-0.716989</td>\n",
       "      <td>-0.299730</td>\n",
       "      <td>-0.237003</td>\n",
       "      <td>0</td>\n",
       "    </tr>\n",
       "    <tr>\n",
       "      <th>1</th>\n",
       "      <td>0.492222</td>\n",
       "      <td>-0.559665</td>\n",
       "      <td>-0.578868</td>\n",
       "      <td>-0.438854</td>\n",
       "      <td>0.244031</td>\n",
       "      <td>0.244540</td>\n",
       "      <td>-0.101303</td>\n",
       "      <td>-0.721230</td>\n",
       "      <td>0.495018</td>\n",
       "      <td>1.030602</td>\n",
       "      <td>-0.716989</td>\n",
       "      <td>-0.299730</td>\n",
       "      <td>-0.237003</td>\n",
       "      <td>0</td>\n",
       "    </tr>\n",
       "    <tr>\n",
       "      <th>2</th>\n",
       "      <td>0.492222</td>\n",
       "      <td>0.033176</td>\n",
       "      <td>0.486484</td>\n",
       "      <td>0.230708</td>\n",
       "      <td>-0.908659</td>\n",
       "      <td>-0.141885</td>\n",
       "      <td>-0.759742</td>\n",
       "      <td>0.059770</td>\n",
       "      <td>-0.397073</td>\n",
       "      <td>-0.730683</td>\n",
       "      <td>-0.262470</td>\n",
       "      <td>-0.299730</td>\n",
       "      <td>-0.237003</td>\n",
       "      <td>0</td>\n",
       "    </tr>\n",
       "    <tr>\n",
       "      <th>3</th>\n",
       "      <td>0.492222</td>\n",
       "      <td>0.033176</td>\n",
       "      <td>-0.813544</td>\n",
       "      <td>-0.757022</td>\n",
       "      <td>0.680388</td>\n",
       "      <td>-0.654697</td>\n",
       "      <td>0.030385</td>\n",
       "      <td>-0.745277</td>\n",
       "      <td>0.496321</td>\n",
       "      <td>0.909966</td>\n",
       "      <td>-0.262470</td>\n",
       "      <td>-0.299730</td>\n",
       "      <td>-0.237003</td>\n",
       "      <td>0</td>\n",
       "    </tr>\n",
       "    <tr>\n",
       "      <th>4</th>\n",
       "      <td>0.492222</td>\n",
       "      <td>-0.559665</td>\n",
       "      <td>0.743509</td>\n",
       "      <td>-1.043992</td>\n",
       "      <td>0.597961</td>\n",
       "      <td>0.343326</td>\n",
       "      <td>-1.154806</td>\n",
       "      <td>-0.198161</td>\n",
       "      <td>-0.360663</td>\n",
       "      <td>-0.251586</td>\n",
       "      <td>-0.716989</td>\n",
       "      <td>1.531147</td>\n",
       "      <td>-0.237003</td>\n",
       "      <td>0</td>\n",
       "    </tr>\n",
       "    <tr>\n",
       "      <th>...</th>\n",
       "      <td>...</td>\n",
       "      <td>...</td>\n",
       "      <td>...</td>\n",
       "      <td>...</td>\n",
       "      <td>...</td>\n",
       "      <td>...</td>\n",
       "      <td>...</td>\n",
       "      <td>...</td>\n",
       "      <td>...</td>\n",
       "      <td>...</td>\n",
       "      <td>...</td>\n",
       "      <td>...</td>\n",
       "      <td>...</td>\n",
       "      <td>...</td>\n",
       "    </tr>\n",
       "    <tr>\n",
       "      <th>9573</th>\n",
       "      <td>-2.031603</td>\n",
       "      <td>-1.152506</td>\n",
       "      <td>0.873884</td>\n",
       "      <td>0.123976</td>\n",
       "      <td>2.031030</td>\n",
       "      <td>-0.322023</td>\n",
       "      <td>-1.023118</td>\n",
       "      <td>2.368325</td>\n",
       "      <td>5.879467</td>\n",
       "      <td>1.216726</td>\n",
       "      <td>0.192048</td>\n",
       "      <td>-0.299730</td>\n",
       "      <td>-0.237003</td>\n",
       "      <td>1</td>\n",
       "    </tr>\n",
       "    <tr>\n",
       "      <th>9574</th>\n",
       "      <td>-2.031603</td>\n",
       "      <td>-1.152506</td>\n",
       "      <td>0.099083</td>\n",
       "      <td>-0.296481</td>\n",
       "      <td>0.341170</td>\n",
       "      <td>-1.800898</td>\n",
       "      <td>0.293761</td>\n",
       "      <td>-0.072400</td>\n",
       "      <td>-0.495638</td>\n",
       "      <td>-1.575135</td>\n",
       "      <td>1.555604</td>\n",
       "      <td>-0.299730</td>\n",
       "      <td>-0.237003</td>\n",
       "      <td>1</td>\n",
       "    </tr>\n",
       "    <tr>\n",
       "      <th>9575</th>\n",
       "      <td>-2.031603</td>\n",
       "      <td>0.033176</td>\n",
       "      <td>-0.578868</td>\n",
       "      <td>-1.068670</td>\n",
       "      <td>-0.545694</td>\n",
       "      <td>0.070213</td>\n",
       "      <td>-0.628054</td>\n",
       "      <td>-0.444860</td>\n",
       "      <td>-0.203765</td>\n",
       "      <td>1.244300</td>\n",
       "      <td>2.919159</td>\n",
       "      <td>-0.299730</td>\n",
       "      <td>-0.237003</td>\n",
       "      <td>1</td>\n",
       "    </tr>\n",
       "    <tr>\n",
       "      <th>9576</th>\n",
       "      <td>-2.031603</td>\n",
       "      <td>1.218858</td>\n",
       "      <td>1.391660</td>\n",
       "      <td>0.156914</td>\n",
       "      <td>-0.182730</td>\n",
       "      <td>0.954924</td>\n",
       "      <td>-0.496366</td>\n",
       "      <td>-1.105722</td>\n",
       "      <td>-0.501089</td>\n",
       "      <td>-1.502753</td>\n",
       "      <td>1.555604</td>\n",
       "      <td>-0.299730</td>\n",
       "      <td>-0.237003</td>\n",
       "      <td>1</td>\n",
       "    </tr>\n",
       "    <tr>\n",
       "      <th>9577</th>\n",
       "      <td>-2.031603</td>\n",
       "      <td>0.033176</td>\n",
       "      <td>0.616859</td>\n",
       "      <td>2.580601</td>\n",
       "      <td>0.540594</td>\n",
       "      <td>0.533633</td>\n",
       "      <td>0.557137</td>\n",
       "      <td>0.071785</td>\n",
       "      <td>0.621105</td>\n",
       "      <td>0.351594</td>\n",
       "      <td>2.010122</td>\n",
       "      <td>-0.299730</td>\n",
       "      <td>-0.237003</td>\n",
       "      <td>1</td>\n",
       "    </tr>\n",
       "  </tbody>\n",
       "</table>\n",
       "<p>9578 rows × 14 columns</p>\n",
       "</div>"
      ],
      "text/plain": [
       "      credit.policy   purpose  int.rate  installment  log.annual.inc  \\\n",
       "0          0.492222  0.033176 -0.139318     2.463099        0.680388   \n",
       "1          0.492222 -0.559665 -0.578868    -0.438854        0.244031   \n",
       "2          0.492222  0.033176  0.486484     0.230708       -0.908659   \n",
       "3          0.492222  0.033176 -0.813544    -0.757022        0.680388   \n",
       "4          0.492222 -0.559665  0.743509    -1.043992        0.597961   \n",
       "...             ...       ...       ...          ...             ...   \n",
       "9573      -2.031603 -1.152506  0.873884     0.123976        2.031030   \n",
       "9574      -2.031603 -1.152506  0.099083    -0.296481        0.341170   \n",
       "9575      -2.031603  0.033176 -0.578868    -1.068670       -0.545694   \n",
       "9576      -2.031603  1.218858  1.391660     0.156914       -0.182730   \n",
       "9577      -2.031603  0.033176  0.616859     2.580601        0.540594   \n",
       "\n",
       "           dti      fico  days.with.cr.line  revol.bal  revol.util  \\\n",
       "0     0.998505  0.688825           0.432230   0.353732    0.182704   \n",
       "1     0.244540 -0.101303          -0.721230   0.495018    1.030602   \n",
       "2    -0.141885 -0.759742           0.059770  -0.397073   -0.730683   \n",
       "3    -0.654697  0.030385          -0.745277   0.496321    0.909966   \n",
       "4     0.343326 -1.154806          -0.198161  -0.360663   -0.251586   \n",
       "...        ...       ...                ...        ...         ...   \n",
       "9573 -0.322023 -1.023118           2.368325   5.879467    1.216726   \n",
       "9574 -1.800898  0.293761          -0.072400  -0.495638   -1.575135   \n",
       "9575  0.070213 -0.628054          -0.444860  -0.203765    1.244300   \n",
       "9576  0.954924 -0.496366          -1.105722  -0.501089   -1.502753   \n",
       "9577  0.533633  0.557137           0.071785   0.621105    0.351594   \n",
       "\n",
       "      inq.last.6mths  delinq.2yrs   pub.rec  not.fully.paid  \n",
       "0          -0.716989    -0.299730 -0.237003               0  \n",
       "1          -0.716989    -0.299730 -0.237003               0  \n",
       "2          -0.262470    -0.299730 -0.237003               0  \n",
       "3          -0.262470    -0.299730 -0.237003               0  \n",
       "4          -0.716989     1.531147 -0.237003               0  \n",
       "...              ...          ...       ...             ...  \n",
       "9573        0.192048    -0.299730 -0.237003               1  \n",
       "9574        1.555604    -0.299730 -0.237003               1  \n",
       "9575        2.919159    -0.299730 -0.237003               1  \n",
       "9576        1.555604    -0.299730 -0.237003               1  \n",
       "9577        2.010122    -0.299730 -0.237003               1  \n",
       "\n",
       "[9578 rows x 14 columns]"
      ]
     },
     "execution_count": 71,
     "metadata": {},
     "output_type": "execute_result"
    }
   ],
   "source": [
    "df_scaled"
   ]
  },
  {
   "cell_type": "code",
   "execution_count": null,
   "id": "14a655f7",
   "metadata": {},
   "outputs": [],
   "source": []
  },
  {
   "cell_type": "code",
   "execution_count": 69,
   "id": "56420014",
   "metadata": {},
   "outputs": [],
   "source": [
    "x_train,x_test,y_train,y_test=train_test_split(x,y,test_size=0.3,random_state=30)"
   ]
  },
  {
   "cell_type": "code",
   "execution_count": 86,
   "id": "43fda4b4",
   "metadata": {},
   "outputs": [
    {
     "data": {
      "text/plain": [
       "<AxesSubplot:>"
      ]
     },
     "execution_count": 86,
     "metadata": {},
     "output_type": "execute_result"
    },
    {
     "data": {
      "image/png": "[encoded data removed]",
      "text/plain": [
       "<Figure size 1080x504 with 2 Axes>"
      ]
     },
     "metadata": {
      "needs_background": "light"
     },
     "output_type": "display_data"
    }
   ],
   "source": [
    "plt.figure(figsize=(15,7))\n",
    "c=df.corr()\n",
    "sb.heatmap(c,annot=True)"
   ]
  },
  {
   "cell_type": "code",
   "execution_count": 75,
   "id": "98642980",
   "metadata": {},
   "outputs": [
    {
     "data": {
      "text/plain": [
       "(6704, 13)"
      ]
     },
     "execution_count": 75,
     "metadata": {},
     "output_type": "execute_result"
    }
   ],
   "source": [
    "x_train.shape"
   ]
  },
  {
   "cell_type": "code",
   "execution_count": 76,
   "id": "7fefbbc9",
   "metadata": {},
   "outputs": [
    {
     "data": {
      "text/plain": [
       "(2874, 13)"
      ]
     },
     "execution_count": 76,
     "metadata": {},
     "output_type": "execute_result"
    }
   ],
   "source": [
    "x_test.shape"
   ]
  },
  {
   "cell_type": "code",
   "execution_count": 85,
   "id": "b6b8e65b",
   "metadata": {},
   "outputs": [
    {
     "data": {
      "text/plain": [
       "(6704,)"
      ]
     },
     "execution_count": 85,
     "metadata": {},
     "output_type": "execute_result"
    }
   ],
   "source": [
    "y_train.shape"
   ]
  },
  {
   "cell_type": "code",
   "execution_count": 79,
   "id": "2300752e",
   "metadata": {},
   "outputs": [],
   "source": [
    "model=LogisticRegression().fit(x_train,y_train)"
   ]
  },
  {
   "cell_type": "code",
   "execution_count": 83,
   "id": "62415dd0",
   "metadata": {},
   "outputs": [
    {
     "data": {
      "text/plain": [
       "0.8427804295942721"
      ]
     },
     "execution_count": 83,
     "metadata": {},
     "output_type": "execute_result"
    }
   ],
   "source": [
    "#this is called as Accuracy in logistic regression\n",
    "#train accuarcy-how well model learnt\n",
    "#test accuracy-how well model perfromed in test\n",
    "#this is training accuracy/model accuracy\n",
    "model.score(x_train,y_train)"
   ]
  },
  {
   "cell_type": "code",
   "execution_count": 88,
   "id": "921dc1c7",
   "metadata": {},
   "outputs": [],
   "source": [
    "#prediction\n",
    "y_pred=model.predict(x_test)"
   ]
  },
  {
   "cell_type": "code",
   "execution_count": 91,
   "id": "b8fbfa99",
   "metadata": {},
   "outputs": [
    {
     "data": {
      "text/plain": [
       "array([-0.14812455,  0.05253506,  0.101323  ,  0.22936704, -0.21900837,\n",
       "       -0.05821457, -0.29645707,  0.01546059,  0.11805092,  0.00997231,\n",
       "        0.18374913, -0.04527876,  0.03140637])"
      ]
     },
     "execution_count": 91,
     "metadata": {},
     "output_type": "execute_result"
    }
   ],
   "source": [
    "#slope\n",
    "model.coef_[0]"
   ]
  },
  {
   "cell_type": "code",
   "execution_count": 92,
   "id": "a6bb873b",
   "metadata": {},
   "outputs": [
    {
     "data": {
      "text/plain": [
       "array([-1.79748385])"
      ]
     },
     "execution_count": 92,
     "metadata": {},
     "output_type": "execute_result"
    }
   ],
   "source": [
    "#intercept\n",
    "model.intercept_"
   ]
  },
  {
   "cell_type": "code",
   "execution_count": 93,
   "id": "fa82f478",
   "metadata": {},
   "outputs": [
    {
     "data": {
      "text/plain": [
       "0.8319415448851775"
      ]
     },
     "execution_count": 93,
     "metadata": {},
     "output_type": "execute_result"
    }
   ],
   "source": [
    "#test accuracy\n",
    "model.score(x_test,y_test)"
   ]
  },
  {
   "cell_type": "code",
   "execution_count": 99,
   "id": "a0404d1a",
   "metadata": {},
   "outputs": [
    {
     "data": {
      "text/plain": [
       "array([[2388,    7],\n",
       "       [ 476,    3]], dtype=int64)"
      ]
     },
     "execution_count": 99,
     "metadata": {},
     "output_type": "execute_result"
    }
   ],
   "source": [
    "confusion_matrix(y_test,y_pred)"
   ]
  },
  {
   "cell_type": "code",
   "execution_count": 96,
   "id": "127e7f97",
   "metadata": {},
   "outputs": [],
   "source": [
    "tn,fp,fn,tp=confusion_matrix(y_test,y_pred).ravel()"
   ]
  },
  {
   "cell_type": "code",
   "execution_count": 97,
   "id": "18e4c538",
   "metadata": {},
   "outputs": [
    {
     "data": {
      "text/plain": [
       "(2388, 7, 476, 3)"
      ]
     },
     "execution_count": 97,
     "metadata": {},
     "output_type": "execute_result"
    }
   ],
   "source": [
    "tn,fp,fn,tp"
   ]
  },
  {
   "cell_type": "code",
   "execution_count": 100,
   "id": "cde206e5",
   "metadata": {},
   "outputs": [],
   "source": [
    "from sklearn.metrics import recall_score\n",
    "from sklearn.metrics import f1_score\n",
    "from sklearn.metrics import accuracy_score\n",
    "from sklearn.metrics import precision_score"
   ]
  },
  {
   "cell_type": "code",
   "execution_count": 104,
   "id": "b8c09b4c",
   "metadata": {},
   "outputs": [
    {
     "data": {
      "text/plain": [
       "0.006263048016701462"
      ]
     },
     "execution_count": 104,
     "metadata": {},
     "output_type": "execute_result"
    }
   ],
   "source": [
    "recall_score(y_test,y_pred)"
   ]
  },
  {
   "cell_type": "code",
   "execution_count": 105,
   "id": "dfe7a7cd",
   "metadata": {},
   "outputs": [
    {
     "data": {
      "text/plain": [
       "0.012269938650306749"
      ]
     },
     "execution_count": 105,
     "metadata": {},
     "output_type": "execute_result"
    }
   ],
   "source": [
    "f1_score(y_test,y_pred)"
   ]
  },
  {
   "cell_type": "code",
   "execution_count": 106,
   "id": "638eaf10",
   "metadata": {},
   "outputs": [
    {
     "data": {
      "text/plain": [
       "0.8319415448851775"
      ]
     },
     "execution_count": 106,
     "metadata": {},
     "output_type": "execute_result"
    }
   ],
   "source": [
    "accuracy_score(y_test,y_pred)"
   ]
  },
  {
   "cell_type": "code",
   "execution_count": 107,
   "id": "d18732fc",
   "metadata": {},
   "outputs": [
    {
     "data": {
      "text/plain": [
       "0.3"
      ]
     },
     "execution_count": 107,
     "metadata": {},
     "output_type": "execute_result"
    }
   ],
   "source": [
    "precision_score(y_test,y_pred)"
   ]
  },
  {
   "cell_type": "code",
   "execution_count": null,
   "id": "4f53aca9",
   "metadata": {},
   "outputs": [],
   "source": [
    "#ROC AOC"
   ]
  },
  {
   "cell_type": "code",
   "execution_count": 108,
   "id": "88b834d7",
   "metadata": {},
   "outputs": [],
   "source": [
    "from sklearn.metrics import roc_auc_score"
   ]
  },
  {
   "cell_type": "code",
   "execution_count": 111,
   "id": "b30a74ba",
   "metadata": {},
   "outputs": [
    {
     "data": {
      "text/plain": [
       "array([0.07264846, 0.07000323, 0.10126092, ..., 0.11881347, 0.14187478,\n",
       "       0.22158275])"
      ]
     },
     "execution_count": 111,
     "metadata": {},
     "output_type": "execute_result"
    }
   ],
   "source": [
    "#probability values of predicted y\n",
    "model.predict_proba(x_test)[:,1]"
   ]
  },
  {
   "cell_type": "code",
   "execution_count": 109,
   "id": "e0500ebc",
   "metadata": {},
   "outputs": [
    {
     "data": {
      "text/plain": [
       "0.680221059008634"
      ]
     },
     "execution_count": 109,
     "metadata": {},
     "output_type": "execute_result"
    }
   ],
   "source": [
    "roc=roc_auc_score(y_test,model.predict_proba(x_test)[:,1])\n",
    "roc"
   ]
  },
  {
   "cell_type": "code",
   "execution_count": 115,
   "id": "7c6736d9",
   "metadata": {},
   "outputs": [],
   "source": [
    "from matplotlib import pyplot"
   ]
  },
  {
   "cell_type": "code",
   "execution_count": 116,
   "id": "ebce9070",
   "metadata": {},
   "outputs": [
    {
     "name": "stdout",
     "output_type": "stream",
     "text": [
      "No Skill: ROC AUC=0.500\n",
      "Logistic: ROC AUC=0.680\n"
     ]
    },
    {
     "data": {
      "image/png": "[encoded data removed]",
      "text/plain": [
       "<Figure size 432x288 with 1 Axes>"
      ]
     },
     "metadata": {
      "needs_background": "light"
     },
     "output_type": "display_data"
    }
   ],
   "source": [
    "from sklearn.metrics import roc_curve\n",
    "from sklearn.metrics import roc_auc_score\n",
    "#ns-no skill. lr-logistic regression\n",
    "# generate a no skill prediction (majority class)\n",
    "ns_probs = [0 for _ in range(len(y_test))]\n",
    "# predict probabilities\n",
    "lr_probs = model.predict_proba(x_test)\n",
    "# keep probabilities for the positive outcome only\n",
    "lr_probs = lr_probs[:, 1]\n",
    "# calculate scores\n",
    "ns_auc = roc_auc_score(y_test, ns_probs)\n",
    "lr_auc = roc_auc_score(y_test, lr_probs)\n",
    "# summarize scores\n",
    "print('No Skill: ROC AUC=%.3f' % (ns_auc))\n",
    "print('Logistic: ROC AUC=%.3f' % (lr_auc))\n",
    "# calculate roc curves for diff thresholds\n",
    "ns_fpr, ns_tpr, _ = roc_curve(y_test, ns_probs)\n",
    "lr_fpr, lr_tpr, _ = roc_curve(y_test, lr_probs)\n",
    "# plot the roc curve for the model\n",
    "pyplot.plot(ns_fpr, ns_tpr, linestyle='--', label='No Skill')\n",
    "pyplot.plot(lr_fpr, lr_tpr, marker='.', label='Logistic')\n",
    "# axis labels\n",
    "pyplot.xlabel('False Positive Rate')\n",
    "pyplot.ylabel('True Positive Rate')\n",
    "# show the legend\n",
    "pyplot.legend()\n",
    "# show the plot\n",
    "pyplot.show()"
   ]
  },
  {
   "cell_type": "code",
   "execution_count": null,
   "id": "202ed5d8",
   "metadata": {},
   "outputs": [],
   "source": []
  }
 ],
 "metadata": {
  "kernelspec": {
   "display_name": "Python 3 (ipykernel)",
   "language": "python",
   "name": "python3"
  },
  "language_info": {
   "codemirror_mode": {
    "name": "ipython",
    "version": 3
   },
   "file_extension": ".py",
   "mimetype": "text/x-python",
   "name": "python",
   "nbconvert_exporter": "python",
   "pygments_lexer": "ipython3",
   "version": "3.9.12"
  }
 },
 "nbformat": 4,
 "nbformat_minor": 5
}
